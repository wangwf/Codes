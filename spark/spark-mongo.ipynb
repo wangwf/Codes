{
 "metadata": {
  "name": "",
  "signature": "sha256:66888bd80a32e4dfcad9ff400ad38925e0f21d9bffb50b03495e9aa1d05f3b89"
 },
 "nbformat": 3,
 "nbformat_minor": 0,
 "worksheets": [
  {
   "cells": [
    {
     "cell_type": "markdown",
     "metadata": {},
     "source": [
      "# spark-mongo\n",
      "\n",
      "* read data from mongodb to spark\n",
      "* write data to mongodb from spark\n",
      "\n",
      "SPark + matplotlib + ipython mining pcap"
     ]
    },
    {
     "cell_type": "code",
     "collapsed": false,
     "input": [],
     "language": "python",
     "metadata": {},
     "outputs": []
    },
    {
     "cell_type": "code",
     "collapsed": false,
     "input": [
      "%matplotlib inline\n",
      "import matplotlib.pyplot as plt \n",
      "import mpld3\n",
      "mpld3.enable_notebook()"
     ],
     "language": "python",
     "metadata": {},
     "outputs": [],
     "prompt_number": 2
    },
    {
     "cell_type": "code",
     "collapsed": false,
     "input": [
      "import pymongo\n",
      "\n",
      "#\n",
      "# Connect to MongoDB server\n",
      "#\n",
      "def get_db(host=\"localhost\", port=27017, username=None, password=None, db=\"dataLogs\"):\n",
      "    \"\"\" A util for making a connection to mongo \"\"\"\n",
      "    from pymongo import MongoClient\n",
      "    \n",
      "    if username and password:\n",
      "        mongo_uri = 'mongodb://%s:%s@%s:%s/%s' % (username, password, host, port, db)\n",
      "        conn = MongoClient(mongo_uri)\n",
      "    else:\n",
      "        conn = MongoClient(host, port)\n",
      "\n",
      "    return conn[db]\n",
      "\n",
      "def get_coll(host=\"localhost\", port=27017, username=None, password=None, db=\"dataLogs\",collection=\"logs\"):\n",
      "    db=get_db(host, port, username, password, db)\n",
      "    return db[collection]\n",
      "\n",
      "\n",
      "logs = get_coll('localhost', 27017, None, None,\"dataLogs\", \"logs\")\n",
      "test = get_coll('localhost', 27017, None, None,\"dataLogs\", \"test\")"
     ],
     "language": "python",
     "metadata": {},
     "outputs": [],
     "prompt_number": 3
    },
    {
     "cell_type": "code",
     "collapsed": false,
     "input": [
      "\n"
     ],
     "language": "python",
     "metadata": {},
     "outputs": [],
     "prompt_number": 3
    },
    {
     "cell_type": "code",
     "collapsed": false,
     "input": [],
     "language": "python",
     "metadata": {},
     "outputs": [],
     "prompt_number": 3
    },
    {
     "cell_type": "code",
     "collapsed": false,
     "input": [
      "iter=logs.find({\"response.headers.content-length\":{\"$exists\":True}},{\"_id\":0,\"response.headers.content-length\":1})\n",
      "for item in iter[:10]: #.count()\n",
      "    print item\n",
      "#type(iter)"
     ],
     "language": "python",
     "metadata": {},
     "outputs": [
      {
       "output_type": "stream",
       "stream": "stdout",
       "text": [
        "{u'response': {u'headers': {u'content-length': 15477.0}}}\n",
        "{u'response': {u'headers': {u'content-length': 133735.0}}}\n",
        "{u'response': {u'headers': {u'content-length': 273200.0}}}\n",
        "{u'response': {u'headers': {u'content-length': 12654.0}}}\n",
        "{u'response': {u'headers': {u'content-length': 3485.0}}}\n",
        "{u'response': {u'headers': {u'content-length': 2843.0}}}\n",
        "{u'response': {u'headers': {u'content-length': 6059.0}}}\n",
        "{u'response': {u'headers': {u'content-length': 4737.0}}}\n",
        "{u'response': {u'headers': {u'content-length': 4414.0}}}\n",
        "{u'response': {u'headers': {u'content-length': 9912.0}}}\n"
       ]
      }
     ],
     "prompt_number": 21
    },
    {
     "cell_type": "markdown",
     "metadata": {},
     "source": [
      "#Categorical Features"
     ]
    },
    {
     "cell_type": "code",
     "collapsed": false,
     "input": [
      "#\n",
      "# turn categorical-text into numerical value\n",
      "#\n",
      "\n",
      "categoricalFeatures=[\"X-Frame-Options\",\"X-Xss-Protection\",\"X-Content-Type-Options\",\"X-Ua-Compatible\",\n",
      "            \"X-Xhr-Current-Location\",\n",
      "            \"Content-Type\",\"Cache-Control\",\n",
      "            \"Server\",\"httpversion\",\"port\",\"scheme\",\"http\",\"path\",\"host\", \"Connection\",\n",
      "            \"ip\",\"Referer\",\"code\",\n",
      "            \"Accept-Encoding\",\"Accept-Language\",\n",
      "            \"method\",\n",
      "            \"msg\",\n",
      "            \"address\"]\n",
      "\n",
      "#    featuresSize=[\"error\",\"response\",\"headers\",\"content\",\"request\"]\n",
      "featuresHeaders=[\"X-Frame-Options\",\"X-Xss-Protection\",\"X-Content-Type-Options\",\"X-Ua-Compatible\",\n",
      "               \"X-Xhr-Current-Location\",\"Content-Type\",\"Etag\",\"Cache-Control\",\n",
      "               \"X-Request-Id\",  #\"X-Runtime\",\n",
      "               \"Server\",\"Date\",\n",
      "               \"Content-Length\", \"connection\",\"Set-Cookie\"]\n",
      "featuresHeaders = [f.lower() for f in featuresHeaders]\n",
      "    \n",
      "#featuresContent=[\"content\"]\n",
      "    \n",
      "featuresRequest=[\"httpversion\", \"address\",\"client_conn\",  #\"requestcount\",\n",
      "                 \"error\",\"port\",\n",
      "                    \"scheme\",\"path\",\"host\", \"header\",#\"content\",\n",
      "                    \"method\",\n",
      "                  #  \"ssl_setup_timestatmp\",\"timestamp_end\",\"timestamp_start\", \"tcp_setup_timestamp\"\n",
      "                    \"ip\"] #,\"cookie\"]\n",
      "\n",
      "#featuresRequestHeaders =[\"host\",\"connection\", \"accept\", \"user-agent\"]\n",
      "\n",
      "categoricalFeatures = [ \"response.headers.\"+f for f in featuresHeaders]\n",
      "categoricalFeatures +=   [\"request.\"+ f for f in featuresRequest]\n",
      "\n",
      "def categoricalToNumberical(fields):\n",
      "    for f in fields:\n",
      "        fID=f+\"ID\"\n",
      "        vals=logs.distinct(f)\n",
      "        \n",
      "        if len(vals)<2: continue\n",
      "\n",
      "        for i,v in enumerate(vals):\n",
      "#            print f,v,i\n",
      "            logs.update({f:v}, {\"$set\":{fID: int(i+1) }}, upsert=True, multi=True)\n",
      "\n",
      "categoricalToNumberical(categoricalFeatures)\n",
      "#categoricalFeatures"
     ],
     "language": "python",
     "metadata": {},
     "outputs": [],
     "prompt_number": 5
    },
    {
     "cell_type": "code",
     "collapsed": false,
     "input": [
      "#\n",
      "# Check normalized Compression Distinct\n",
      "#\n",
      "import gzip\n",
      "def gzipCompression(text):\n",
      "    return len(gzip.zlib.compress(text))\n",
      "'''\n",
      "import lzma\n",
      "def  lzmaCompression(text):\n",
      "    return len(lzma.compress(text))\n",
      "'''\n",
      "def ncd(w1, w2):\n",
      "    l1  = gzipCompression(w1)\n",
      "    l2  = gzipCompression(w2)\n",
      "    l12 = gzipCompression(w1+w2)\n",
      "    #print l1,l2,l12\n",
      "    return 1.0*(l12 - min(l1,l2))/max(l1,l2)\n",
      "\n",
      "\n",
      "iter = logs.find({\"response.headers.content-typeID\":{\"$exists\":True}},{\"_id\":0, \"response.headers.content-type\":1,\"response.headers.content-typeID\":1})\n",
      "\n",
      "refDoc=\"{'response':{'header':{},'content':''}}\"\n",
      "for item in iter[:10]:\n",
      "    print item, ncd(str(item),refDoc)\n",
      "#logs.distinct(\"Content-TypeID\")\n",
      "\n",
      "\n"
     ],
     "language": "python",
     "metadata": {},
     "outputs": [
      {
       "output_type": "stream",
       "stream": "stdout",
       "text": [
        "{u'response': {u'headers': {u'content-typeID': 1, u'content-type': u'application/javascript'}}} 0.666666666667\n",
        "{u'response': {u'headers': {u'content-typeID': 3, u'content-type': u'text/css'}}} 0.6\n",
        "{u'response': {u'headers': {u'content-typeID': 1, u'content-type': u'application/javascript'}}} 0.666666666667\n",
        "{u'response': {u'headers': {u'content-typeID': 1, u'content-type': u'application/javascript'}}} 0.666666666667\n",
        "{u'response': {u'headers': {u'content-typeID': 1, u'content-type': u'application/javascript'}}} 0.666666666667\n",
        "{u'response': {u'headers': {u'content-typeID': 1, u'content-type': u'application/javascript'}}} 0.666666666667\n",
        "{u'response': {u'headers': {u'content-typeID': 1, u'content-type': u'application/javascript'}}} 0.666666666667\n",
        "{u'response': {u'headers': {u'content-typeID': 1, u'content-type': u'application/javascript'}}} 0.666666666667\n",
        "{u'response': {u'headers': {u'content-typeID': 1, u'content-type': u'application/javascript'}}} 0.666666666667\n",
        "{u'response': {u'headers': {u'content-typeID': 1, u'content-type': u'application/javascript'}}} 0.666666666667\n"
       ]
      }
     ],
     "prompt_number": 16
    },
    {
     "cell_type": "code",
     "collapsed": false,
     "input": [
      "logs.update({\"response.headers.content-type\":\"text/css\"}, {\"$set\":{\"response.headers.content-typeID\": 3 }}, True, True)\n",
      "iter=logs.find({\"response.headers.content-type\":\"text/css\"},{\"_id\":0, \"response.headers.content-type\":1,\"response.headers.content-typeID\":1})\n",
      "\n",
      "for item in iter: print item\n"
     ],
     "language": "python",
     "metadata": {},
     "outputs": [
      {
       "output_type": "stream",
       "stream": "stdout",
       "text": [
        "{u'response': {u'headers': {u'content-typeID': 3, u'content-type': u'text/css'}}}\n",
        "{u'response': {u'headers': {u'content-typeID': 2, u'content-type': u'text/css'}}}\n",
        "{u'response': {u'headers': {u'content-typeID': 2, u'content-type': u'text/css'}}}\n",
        "{u'response': {u'headers': {u'content-typeID': 2, u'content-type': u'text/css'}}}\n",
        "{u'response': {u'headers': {u'content-typeID': 2, u'content-type': u'text/css'}}}\n"
       ]
      }
     ],
     "prompt_number": 22
    },
    {
     "cell_type": "markdown",
     "metadata": {},
     "source": [
      "# RDD"
     ]
    },
    {
     "cell_type": "code",
     "collapsed": false,
     "input": [
      "# \n",
      "# Read sc.newAPIHadoopRDD()\n",
      "# sc.parallelize()\n",
      "#\n",
      "def read_mongo(collection, query={}, projection={\"_id\":0},host='localhost',no_id=True):\n",
      "    \"\"\" Read from Mongo and Store into DataFrame \"\"\"\n",
      "\n",
      "    # Make a query to the specific DB and Collection\n",
      "    cursor = collection.find(query, projection)\n",
      "\n",
      "    # Expand the cursor and construct the DataFrame\n",
      "#    df = pd.DataFrame(list(cursor))\n",
      "    df = sc.parallelize(list(cursor))\n",
      "\n",
      "    # Delete the _id\n",
      "#    if no_id:       del df['_id']\n",
      "\n",
      "    return df\n",
      "\n"
     ],
     "language": "python",
     "metadata": {},
     "outputs": [],
     "prompt_number": 19
    },
    {
     "cell_type": "code",
     "collapsed": false,
     "input": [
      "\n",
      "df=read_mongo(logs)\n",
      "#df_test = read_mongo(test)\n",
      "type(df)"
     ],
     "language": "python",
     "metadata": {},
     "outputs": [
      {
       "metadata": {},
       "output_type": "pyout",
       "prompt_number": 25,
       "text": [
        "pyspark.rdd.RDD"
       ]
      }
     ],
     "prompt_number": 25
    },
    {
     "cell_type": "code",
     "collapsed": false,
     "input": [
      "#  data =sc.parallelize(df)\n",
      "\n",
      "df.take(1)\n"
     ],
     "language": "python",
     "metadata": {},
     "outputs": [
      {
       "metadata": {},
       "output_type": "pyout",
       "prompt_number": 26,
       "text": [
        "[{u'contentLeakage': 0,\n",
        "  u'request': {u'address': u'50.59.22.130',\n",
        "   u'client_conn': 7.0,\n",
        "   u'content': 0.0,\n",
        "   u'cookie': u'request_method=GET; _sample_app_session=NlljR05mSytQNzJ4N0gxQzA1VkJBQ3lDOUpEOWpwWFJnaGVOaUdFU0ZDek82RE5VK0I5V2NpY0RrRFcrSjZhT21oOTRZQW5UUzBhTDlIMUJ1QjNnZUZva3VCSEUzZ2FZeWsxMU5xcnE4S093aGpwaVBRbUUxeTFkSENINGFsdzMzUER6RVhHMkVyVCtmUTdzeS91S2lVc3hPU2V4Y1VOKy9GMzg0QUNNZFFzMFBUdWVUY1FvNmdiTnVRUGtQbzlULS1jWGEzRS9VcEtoWDc4bWtBTlNSajN3PT0%3D--a87e267085a6649f66c98a671fa8dac9629f7bd',\n",
        "   u'error': 0.0,\n",
        "   u'headers': {u'accept': u'*/*',\n",
        "    u'connection': u'keep-alive',\n",
        "    u'host': u'54.165.254.99',\n",
        "    u'user-agent': u'Mozilla/5.0 (Macintosh; Intel Mac OS X 10_9_5) AppleWebKit/537.36 (KHTML, like Gecko) Chrome/38.0.2125.101 Safari/537.36'},\n",
        "   u'host': u'54.165.254.99',\n",
        "   u'httpversion': u'1.1',\n",
        "   u'method': u'GET',\n",
        "   u'methodID': 1,\n",
        "   u'path': u'/assets/jquery_ujs.js?body=1',\n",
        "   u'pathID': 1,\n",
        "   u'port': 80.0,\n",
        "   u'requestcount': 3.0,\n",
        "   u'scheme': u'http',\n",
        "   u'timestamp_diff': 0.005785942077636719,\n",
        "   u'timestamp_end': 1413247021.720047,\n",
        "   u'timestamp_start': 1413247021.714261},\n",
        "  u'response': {u'content': u'(function($, undefined) {\\n\\n/**\\n * Unobtrusive scripting adapter for jQuery\\n * https://github.com/rails/jquery-ujs\\n *\\n * Requires jQuery 1.7.0 or later.\\n *\\n * Released under the MIT license\\n *\\n */\\n\\n  // Cut down on the number of issues from people inadvertently including jquery_ujs twice\\n  // by detecting and raising an error when it happens.\\n  if ( $.rails !== undefined ) {\\n    $.error(\\'jquery-ujs has already been loaded!\\');\\n  }\\n\\n  // Shorthand to make it a little easier to call public rails functions from within rails.js\\n  var rails;\\n  var $document = $(document);\\n\\n  $.rails = rails = {\\n    // Link elements bound by jquery-ujs\\n    linkClickSelector: \\'a[data-confirm], a[data-method], a[data-remote], a[data-disable-with]\\',\\n\\n    // Button elements boud jquery-ujs\\n    buttonClickSelector: \\'button[data-remote]\\',\\n\\n    // Select elements bound by jquery-ujs\\n    inputChangeSelector: \\'select[data-remote], input[data-remote], textarea[data-remote]\\',\\n\\n    // Form elements bound by jquery-ujs\\n    formSubmitSelector: \\'form\\',\\n\\n    // Form input elements bound by jquery-ujs\\n    formInputClickSelector: \\'form input[type=submit], form input[type=image], form button[type=submit], form button:not([type])\\',\\n\\n    // Form input elements disabled during form submission\\n    disableSelector: \\'input[data-disable-with], button[data-disable-with], textarea[data-disable-with]\\',\\n\\n    // Form input elements re-enabled after form submission\\n    enableSelector: \\'input[data-disable-with]:disabled, button[data-disable-with]:disabled, textarea[data-disable-with]:disabled\\',\\n\\n    // Form required input elements\\n    requiredInputSelector: \\'input[name][required]:not([disabled]),textarea[name][required]:not([disabled])\\',\\n\\n    // Form file input elements\\n    fileInputSelector: \\'input[type=file]\\',\\n\\n    // Link onClick disable selector with possible reenable after remote submission\\n    linkDisableSelector: \\'a[data-disable-with]\\',\\n\\n    // Make sure that every Ajax request sends the CSRF token\\n    CSRFProtection: function(xhr) {\\n      var token = $(\\'meta[name=\"csrf-token\"]\\').attr(\\'content\\');\\n      if (token) xhr.setRequestHeader(\\'X-CSRF-Token\\', token);\\n    },\\n\\n    // Triggers an event on an element and returns false if the event result is false\\n    fire: function(obj, name, data) {\\n      var event = $.Event(name);\\n      obj.trigger(event, data);\\n      return event.result !== false;\\n    },\\n\\n    // Default confirm dialog, may be overridden with custom confirm dialog in $.rails.confirm\\n    confirm: function(message) {\\n      return confirm(message);\\n    },\\n\\n    // Default ajax function, may be overridden with custom function in $.rails.ajax\\n    ajax: function(options) {\\n      return $.ajax(options);\\n    },\\n\\n    // Default way to get an element\\'s href. May be overridden at $.rails.href.\\n    href: function(element) {\\n      return element.attr(\\'href\\');\\n    },\\n\\n    // Submits \"remote\" forms and links with ajax\\n    handleRemote: function(element) {\\n      var method, url, data, elCrossDomain, crossDomain, withCredentials, dataType, options;\\n\\n      if (rails.fire(element, \\'ajax:before\\')) {\\n        elCrossDomain = element.data(\\'cross-domain\\');\\n        crossDomain = elCrossDomain === undefined ? null : elCrossDomain;\\n        withCredentials = element.data(\\'with-credentials\\') || null;\\n        dataType = element.data(\\'type\\') || ($.ajaxSettings && $.ajaxSettings.dataType);\\n\\n        if (element.is(\\'form\\')) {\\n          method = element.attr(\\'method\\');\\n          url = element.attr(\\'action\\');\\n          data = element.serializeArray();\\n          // memoized value from clicked submit button\\n          var button = element.data(\\'ujs:submit-button\\');\\n          if (button) {\\n            data.push(button);\\n            element.data(\\'ujs:submit-button\\', null);\\n          }\\n        } else if (element.is(rails.inputChangeSelector)) {\\n          method = element.data(\\'method\\');\\n          url = element.data(\\'url\\');\\n          data = element.serialize();\\n          if (element.data(\\'params\\')) data = data + \"&\" + element.data(\\'params\\');\\n        } else if (element.is(rails.buttonClickSelector)) {\\n          method = element.data(\\'method\\') || \\'get\\';\\n          url = element.data(\\'url\\');\\n          data = element.serialize();\\n          if (element.data(\\'params\\')) data = data + \"&\" + element.data(\\'params\\');\\n        } else {\\n          method = element.data(\\'method\\');\\n          url = rails.href(element);\\n          data = element.data(\\'params\\') || null;\\n        }\\n\\n        options = {\\n          type: method || \\'GET\\', data: data, dataType: dataType,\\n          // stopping the \"ajax:beforeSend\" event will cancel the ajax request\\n          beforeSend: function(xhr, settings) {\\n            if (settings.dataType === undefined) {\\n              xhr.setRequestHeader(\\'accept\\', \\'*/*;q=0.5, \\' + settings.accepts.script);\\n            }\\n            return rails.fire(element, \\'ajax:beforeSend\\', [xhr, settings]);\\n          },\\n          success: function(data, status, xhr) {\\n            element.trigger(\\'ajax:success\\', [data, status, xhr]);\\n          },\\n          complete: function(xhr, status) {\\n            element.trigger(\\'ajax:complete\\', [xhr, status]);\\n          },\\n          error: function(xhr, status, error) {\\n            element.trigger(\\'ajax:error\\', [xhr, status, error]);\\n          },\\n          crossDomain: crossDomain\\n        };\\n\\n        // There is no withCredentials for IE6-8 when\\n        // \"Enable native XMLHTTP support\" is disabled\\n        if (withCredentials) {\\n          options.xhrFields = {\\n            withCredentials: withCredentials\\n          };\\n        }\\n\\n        // Only pass url to `ajax` options if not blank\\n        if (url) { options.url = url; }\\n\\n        var jqxhr = rails.ajax(options);\\n        element.trigger(\\'ajax:send\\', jqxhr);\\n        return jqxhr;\\n      } else {\\n        return false;\\n      }\\n    },\\n\\n    // Handles \"data-method\" on links such as:\\n    // <a href=\"/users/5\" data-method=\"delete\" rel=\"nofollow\" data-confirm=\"Are you sure?\">Delete</a>\\n    handleMethod: function(link) {\\n      var href = rails.href(link),\\n        method = link.data(\\'method\\'),\\n        target = link.attr(\\'target\\'),\\n        csrf_token = $(\\'meta[name=csrf-token]\\').attr(\\'content\\'),\\n        csrf_param = $(\\'meta[name=csrf-param]\\').attr(\\'content\\'),\\n        form = $(\\'<form method=\"post\" action=\"\\' + href + \\'\"></form>\\'),\\n        metadata_input = \\'<input name=\"_method\" value=\"\\' + method + \\'\" type=\"hidden\" />\\';\\n\\n      if (csrf_param !== undefined && csrf_token !== undefined) {\\n        metadata_input += \\'<input name=\"\\' + csrf_param + \\'\" value=\"\\' + csrf_token + \\'\" type=\"hidden\" />\\';\\n      }\\n\\n      if (target) { form.attr(\\'target\\', target); }\\n\\n      form.hide().append(metadata_input).appendTo(\\'body\\');\\n      form.submit();\\n    },\\n\\n    /* Disables form elements:\\n      - Caches element value in \\'ujs:enable-with\\' data store\\n      - Replaces element text with value of \\'data-disable-with\\' attribute\\n      - Sets disabled property to true\\n    */\\n    disableFormElements: function(form) {\\n      form.find(rails.disableSelector).each(function() {\\n        var element = $(this), method = element.is(\\'button\\') ? \\'html\\' : \\'val\\';\\n        element.data(\\'ujs:enable-with\\', element[method]());\\n        element[method](element.data(\\'disable-with\\'));\\n        element.prop(\\'disabled\\', true);\\n      });\\n    },\\n\\n    /* Re-enables disabled form elements:\\n      - Replaces element text with cached value from \\'ujs:enable-with\\' data store (created in `disableFormElements`)\\n      - Sets disabled property to false\\n    */\\n    enableFormElements: function(form) {\\n      form.find(rails.enableSelector).each(function() {\\n        var element = $(this), method = element.is(\\'button\\') ? \\'html\\' : \\'val\\';\\n        if (element.data(\\'ujs:enable-with\\')) element[method](element.data(\\'ujs:enable-with\\'));\\n        element.prop(\\'disabled\\', false);\\n      });\\n    },\\n\\n   /* For \\'data-confirm\\' attribute:\\n      - Fires `confirm` event\\n      - Shows the confirmation dialog\\n      - Fires the `confirm:complete` event\\n\\n      Returns `true` if no function stops the chain and user chose yes; `false` otherwise.\\n      Attaching a handler to the element\\'s `confirm` event that returns a `falsy` value cancels the confirmation dialog.\\n      Attaching a handler to the element\\'s `confirm:complete` event that returns a `falsy` value makes this function\\n      return false. The `confirm:complete` event is fired whether or not the user answered true or false to the dialog.\\n   */\\n    allowAction: function(element) {\\n      var message = element.data(\\'confirm\\'),\\n          answer = false, callback;\\n      if (!message) { return true; }\\n\\n      if (rails.fire(element, \\'confirm\\')) {\\n        answer = rails.confirm(message);\\n        callback = rails.fire(element, \\'confirm:complete\\', [answer]);\\n      }\\n      return answer && callback;\\n    },\\n\\n    // Helper function which checks for blank inputs in a form that match the specified CSS selector\\n    blankInputs: function(form, specifiedSelector, nonBlank) {\\n      var inputs = $(), input, valueToCheck,\\n          selector = specifiedSelector || \\'input,textarea\\',\\n          allInputs = form.find(selector);\\n\\n      allInputs.each(function() {\\n        input = $(this);\\n        valueToCheck = input.is(\\'input[type=checkbox],input[type=radio]\\') ? input.is(\\':checked\\') : input.val();\\n        // If nonBlank and valueToCheck are both truthy, or nonBlank and valueToCheck are both falsey\\n        if (!valueToCheck === !nonBlank) {\\n\\n          // Don\\'t count unchecked required radio if other radio with same name is checked\\n          if (input.is(\\'input[type=radio]\\') && allInputs.filter(\\'input[type=radio]:checked[name=\"\\' + input.attr(\\'name\\') + \\'\"]\\').length) {\\n            return true; // Skip to next input\\n          }\\n\\n          inputs = inputs.add(input);\\n        }\\n      });\\n      return inputs.length ? inputs : false;\\n    },\\n\\n    // Helper function which checks for non-blank inputs in a form that match the specified CSS selector\\n    nonBlankInputs: function(form, specifiedSelector) {\\n      return rails.blankInputs(form, specifiedSelector, true); // true specifies nonBlank\\n    },\\n\\n    // Helper function, needed to provide consistent behavior in IE\\n    stopEverything: function(e) {\\n      $(e.target).trigger(\\'ujs:everythingStopped\\');\\n      e.stopImmediatePropagation();\\n      return false;\\n    },\\n\\n    //  replace element\\'s html with the \\'data-disable-with\\' after storing original html\\n    //  and prevent clicking on it\\n    disableElement: function(element) {\\n      element.data(\\'ujs:enable-with\\', element.html()); // store enabled state\\n      element.html(element.data(\\'disable-with\\')); // set to disabled state\\n      element.bind(\\'click.railsDisable\\', function(e) { // prevent further clicking\\n        return rails.stopEverything(e);\\n      });\\n    },\\n\\n    // restore element to its original state which was disabled by \\'disableElement\\' above\\n    enableElement: function(element) {\\n      if (element.data(\\'ujs:enable-with\\') !== undefined) {\\n        element.html(element.data(\\'ujs:enable-with\\')); // set to old enabled state\\n        element.removeData(\\'ujs:enable-with\\'); // clean up cache\\n      }\\n      element.unbind(\\'click.railsDisable\\'); // enable element\\n    }\\n\\n  };\\n\\n  if (rails.fire($document, \\'rails:attachBindings\\')) {\\n\\n    $.ajaxPrefilter(function(options, originalOptions, xhr){ if ( !options.crossDomain ) { rails.CSRFProtection(xhr); }});\\n\\n    $document.delegate(rails.linkDisableSelector, \\'ajax:complete\\', function() {\\n        rails.enableElement($(this));\\n    });\\n\\n    $document.delegate(rails.linkClickSelector, \\'click.rails\\', function(e) {\\n      var link = $(this), method = link.data(\\'method\\'), data = link.data(\\'params\\');\\n      if (!rails.allowAction(link)) return rails.stopEverything(e);\\n\\n      if (link.is(rails.linkDisableSelector)) rails.disableElement(link);\\n\\n      if (link.data(\\'remote\\') !== undefined) {\\n        if ( (e.metaKey || e.ctrlKey) && (!method || method === \\'GET\\') && !data ) { return true; }\\n\\n        var handleRemote = rails.handleRemote(link);\\n        // response from rails.handleRemote() will either be false or a deferred object promise.\\n        if (handleRemote === false) {\\n          rails.enableElement(link);\\n        } else {\\n          handleRemote.error( function() { rails.enableElement(link); } );\\n        }\\n        return false;\\n\\n      } else if (link.data(\\'method\\')) {\\n        rails.handleMethod(link);\\n        return false;\\n      }\\n    });\\n\\n    $document.delegate(rails.buttonClickSelector, \\'click.rails\\', function(e) {\\n      var button = $(this);\\n      if (!rails.allowAction(button)) return rails.stopEverything(e);\\n\\n      rails.handleRemote(button);\\n      return false;\\n    });\\n\\n    $document.delegate(rails.inputChangeSelector, \\'change.rails\\', function(e) {\\n      var link = $(this);\\n      if (!rails.allowAction(link)) return rails.stopEverything(e);\\n\\n      rails.handleRemote(link);\\n      return false;\\n    });\\n\\n    $document.delegate(rails.formSubmitSelector, \\'submit.rails\\', function(e) {\\n      var form = $(this),\\n        remote = form.data(\\'remote\\') !== undefined,\\n        blankRequiredInputs = rails.blankInputs(form, rails.requiredInputSelector),\\n        nonBlankFileInputs = rails.nonBlankInputs(form, rails.fileInputSelector);\\n\\n      if (!rails.allowAction(form)) return rails.stopEverything(e);\\n\\n      // skip other logic when required values are missing or file upload is present\\n      if (blankRequiredInputs && form.attr(\"novalidate\") == undefined && rails.fire(form, \\'ajax:aborted:required\\', [blankRequiredInputs])) {\\n        return rails.stopEverything(e);\\n      }\\n\\n      if (remote) {\\n        if (nonBlankFileInputs) {\\n          // slight timeout so that the submit button gets properly serialized\\n          // (make it easy for event handler to serialize form without disabled values)\\n          setTimeout(function(){ rails.disableFormElements(form); }, 13);\\n          var aborted = rails.fire(form, \\'ajax:aborted:file\\', [nonBlankFileInputs]);\\n\\n          // re-enable form elements if event bindings return false (canceling normal form submission)\\n          if (!aborted) { setTimeout(function(){ rails.enableFormElements(form); }, 13); }\\n\\n          return aborted;\\n        }\\n\\n        rails.handleRemote(form);\\n        return false;\\n\\n      } else {\\n        // slight timeout so that the submit button gets properly serialized\\n        setTimeout(function(){ rails.disableFormElements(form); }, 13);\\n      }\\n    });\\n\\n    $document.delegate(rails.formInputClickSelector, \\'click.rails\\', function(event) {\\n      var button = $(this);\\n\\n      if (!rails.allowAction(button)) return rails.stopEverything(event);\\n\\n      // register the pressed submit button\\n      var name = button.attr(\\'name\\'),\\n        data = name ? {name:name, value:button.val()} : null;\\n\\n      button.closest(\\'form\\').data(\\'ujs:submit-button\\', data);\\n    });\\n\\n    $document.delegate(rails.formSubmitSelector, \\'ajax:beforeSend.rails\\', function(event) {\\n      if (this == event.target) rails.disableFormElements($(this));\\n    });\\n\\n    $document.delegate(rails.formSubmitSelector, \\'ajax:complete.rails\\', function(event) {\\n      if (this == event.target) rails.enableFormElements($(this));\\n    });\\n\\n    $(function(){\\n      // making sure that all forms have actual up-to-date token(cached forms contain old one)\\n      var csrf_token = $(\\'meta[name=csrf-token]\\').attr(\\'content\\');\\n      var csrf_param = $(\\'meta[name=csrf-param]\\').attr(\\'content\\');\\n      $(\\'form input[name=\"\\' + csrf_param + \\'\"]\\').val(csrf_token);\\n    });\\n  }\\n\\n})( jQuery );\\n',\n",
        "   u'headers': {u'cache-control': u'public, must-revalidate',\n",
        "    u'cache-controlID': 1,\n",
        "    u'connection': u'Keep-Alive',\n",
        "    u'content-length': 15477.0,\n",
        "    u'content-lengthID': 1,\n",
        "    u'content-type': u'application/javascript',\n",
        "    u'content-typeID': 1,\n",
        "    u'date': u'Tue, 14 Oct 2014 00',\n",
        "    u'etag': u'\"476c4637710ab3426db93d8534b71423\"',\n",
        "    u'etagID': 1,\n",
        "    u'httpversion': u'1.1',\n",
        "    u'msg': u'OK',\n",
        "    u'server': u'WEBrick/1.3.1 (Ruby/2.1.2/2014-05-08)',\n",
        "    u'timestamp_end': 1413247021.767505,\n",
        "    u'x-request-id': u'1f052e27-6a83-4d24-9a0f-3f18cd15e09d',\n",
        "    u'x-request-idID': 1,\n",
        "    u'x-runtime': 0.001283}},\n",
        "  u'size': {u'content': 15477,\n",
        "   u'headers': 444,\n",
        "   u'request': 1162,\n",
        "   u'response': 16091}}]"
       ]
      }
     ],
     "prompt_number": 26
    },
    {
     "cell_type": "code",
     "collapsed": false,
     "input": [
      "numericalFeatures =['size.response', 'request.requestcount', 'response.headers.x-runtime', 'request.timestamp_diff'] #'timestamp_end', 'timestamp_start' ]\n",
      "\n",
      "proj ={\"_id\": 0}#{\"_id\":0}\n",
      "\n",
      "#for l in numericalFeatures:    proj[l] = 1 #{'$exists':True}\n",
      "categoricalFeaturesID=[l+\"ID\" for l in categoricalFeatures]\n",
      "\n",
      "for l in numericalFeatures+categoricalFeaturesID:\n",
      "    proj[l] =1\n",
      "\n",
      "#proj['timestampStartEnd'] ={ '$add' : [ '$timestamp_end', '$timestamp_start' ] }\n",
      "proj[\"contentLeakage\"]=1\n",
      "\n",
      "print proj\n",
      "df=read_mongo(logs,query={}, projection=proj)\n",
      "#df.map(lambda x: x.get(\"pathID\")).collect()"
     ],
     "language": "python",
     "metadata": {},
     "outputs": [
      {
       "output_type": "stream",
       "stream": "stdout",
       "text": [
        "{'response.headers.x-frame-optionsID': 1, 'response.headers.connectionID': 1, 'response.headers.cache-controlID': 1, 'response.headers.x-content-type-optionsID': 1, 'size.response': 1, 'request.httpversionID': 1, 'request.methodID': 1, 'request.requestcount': 1, 'response.headers.set-cookieID': 1, 'request.headerID': 1, 'request.ipID': 1, 'response.headers.x-request-idID': 1, 'response.headers.x-xss-protectionID': 1, 'response.headers.x-xhr-current-locationID': 1, 'request.schemeID': 1, 'request.pathID': 1, 'response.headers.serverID': 1, 'contentLeakage': 1, 'response.headers.x-runtime': 1, 'response.headers.content-typeID': 1, 'response.headers.etagID': 1, 'request.portID': 1, 'request.hostID': 1, 'request.errorID': 1, 'response.headers.dateID': 1, 'response.headers.content-lengthID': 1, 'request.addressID': 1, 'response.headers.x-ua-compatibleID': 1, '_id': 0, 'request.client_connID': 1, 'request.timestamp_diff': 1}\n"
       ]
      }
     ],
     "prompt_number": 27
    },
    {
     "cell_type": "code",
     "collapsed": false,
     "input": [
      "l=df.take(2)\n",
      "type(l[0])\n",
      "#l#[\"request.methodID\"]\n",
      "#categoricalFeaturesID"
     ],
     "language": "python",
     "metadata": {},
     "outputs": [
      {
       "metadata": {},
       "output_type": "pyout",
       "prompt_number": 44,
       "text": [
        "dict"
       ]
      }
     ],
     "prompt_number": 44
    },
    {
     "cell_type": "code",
     "collapsed": false,
     "input": [
      "df.take(2)"
     ],
     "language": "python",
     "metadata": {},
     "outputs": [
      {
       "metadata": {},
       "output_type": "pyout",
       "prompt_number": 45,
       "text": [
        "[{u'contentLeakage': 0,\n",
        "  u'request': {u'methodID': 1,\n",
        "   u'pathID': 1,\n",
        "   u'requestcount': 3.0,\n",
        "   u'timestamp_diff': 0.005785942077636719},\n",
        "  u'response': {u'headers': {u'cache-controlID': 1,\n",
        "    u'content-lengthID': 1,\n",
        "    u'content-typeID': 1,\n",
        "    u'etagID': 1,\n",
        "    u'x-request-idID': 1,\n",
        "    u'x-runtime': 0.001283}},\n",
        "  u'size': {u'response': 16091}},\n",
        " {u'contentLeakage': 0,\n",
        "  u'request': {u'methodID': 1,\n",
        "   u'pathID': 2,\n",
        "   u'requestcount': 1.0,\n",
        "   u'timestamp_diff': 0.056900978088378906},\n",
        "  u'response': {u'headers': {u'cache-controlID': 1,\n",
        "    u'content-lengthID': 2,\n",
        "    u'content-typeID': 3,\n",
        "    u'etagID': 2,\n",
        "    u'x-request-idID': 2,\n",
        "    u'x-runtime': 0.004546}},\n",
        "  u'size': {u'response': 134336}}]"
       ]
      }
     ],
     "prompt_number": 45
    },
    {
     "cell_type": "markdown",
     "metadata": {},
     "source": [
      "#Linear Regression"
     ]
    },
    {
     "cell_type": "code",
     "collapsed": false,
     "input": [
      "from pyspark.mllib.regression import LabeledPoint, LinearRegressionWithSGD\n",
      "\n",
      "# Load and parse the data\n",
      "\n",
      "features = numericalFeatures + categoricalFeatures\n",
      "\n",
      "def parsePoint(line):\n",
      "#    values=[line.get(f) or 0)  for f in features]\n",
      "    values=[]\n",
      "    values.append( line[\"size\"].get(\"response\") or 0)\n",
      "    values.append( line[\"response\"][\"headers\"].get(\"x-runtime\") or 0)\n",
      "#    values.append( line[\"response\"][\"headers\"].get(\"content-typeID\") or 0)\n",
      "#    values.append( line[\"request\"].get(\"methodID\") or 0)\n",
      "#    values.append( line[\"request\"].get(\"msgID\") or 0)\n",
      "#    values.append( line[\"request\"].get(\"pathID\") or 0)\n",
      "    values.append( line[\"request\"].get(\"timestamp_diff\") or 0)\n",
      "#    values.append( line[\"request\"].get(\"requestcount\") or 0)\n",
      "#    values.append( line.get(\"contentLeakage\") or 0)\n",
      "\n",
      "    return LabeledPoint(values[0], values[1:]) # values[1:])\n",
      "\n",
      "parsedData = df.map(parsePoint)"
     ],
     "language": "python",
     "metadata": {},
     "outputs": [],
     "prompt_number": 66
    },
    {
     "cell_type": "code",
     "collapsed": false,
     "input": [
      "df.map(lambda line: line[\"request\"]).take(1)"
     ],
     "language": "python",
     "metadata": {},
     "outputs": [
      {
       "metadata": {},
       "output_type": "pyout",
       "prompt_number": 67,
       "text": [
        "[{u'methodID': 1,\n",
        "  u'pathID': 1,\n",
        "  u'requestcount': 3.0,\n",
        "  u'timestamp_diff': 0.005785942077636719}]"
       ]
      }
     ],
     "prompt_number": 67
    },
    {
     "cell_type": "code",
     "collapsed": false,
     "input": [
      "parsedData.take(10)"
     ],
     "language": "python",
     "metadata": {},
     "outputs": [
      {
       "metadata": {},
       "output_type": "pyout",
       "prompt_number": 68,
       "text": [
        "[LabeledPoint(16091.0, [0.001283,0.00578594207764]),\n",
        " LabeledPoint(134336.0, [0.004546,0.0569009780884]),\n",
        " LabeledPoint(273816.0, [0.001474,0.0379600524902]),\n",
        " LabeledPoint(13268.0, [0.002825,0.0381531715393]),\n",
        " LabeledPoint(4097.0, [0.00133,0.0324590206146]),\n",
        " LabeledPoint(3454.0, [0.002898,0.0110759735107]),\n",
        " LabeledPoint(6671.0, [0.001354,0.00955200195312]),\n",
        " LabeledPoint(5349.0, [0.001541,0.00653100013733]),\n",
        " LabeledPoint(5026.0, [0.001273,0.00567293167114]),\n",
        " LabeledPoint(10523.0, [0.00167,0.00881791114807])]"
       ]
      }
     ],
     "prompt_number": 68
    },
    {
     "cell_type": "code",
     "collapsed": false,
     "input": [
      "# Build the model\n",
      "model = LinearRegressionWithSGD.train(parsedData)\n",
      "\n",
      "# Evaluate the model on training data\n",
      "valuesAndPreds = parsedData.map(lambda p: (p.label, model.predict(p.features)))\n",
      "MSE = valuesAndPreds.map(lambda (v, p): (v - p)**2).reduce(lambda x, y: x + y) / valuesAndPreds.count()\n",
      "print(\"Mean Squared Error = \" + str(MSE))\n"
     ],
     "language": "python",
     "metadata": {},
     "outputs": [
      {
       "output_type": "stream",
       "stream": "stdout",
       "text": [
        "Mean Squared Error = 224355360.46\n"
       ]
      }
     ],
     "prompt_number": 69
    },
    {
     "cell_type": "code",
     "collapsed": false,
     "input": [
      "valuesAndPreds.take(10)"
     ],
     "language": "python",
     "metadata": {},
     "outputs": [
      {
       "metadata": {},
       "output_type": "pyout",
       "prompt_number": 70,
       "text": [
        "[(16091.0, 14.355102507858451),\n",
        " (134336.0, 138.72653187890981),\n",
        " (273816.0, 92.075430031467846),\n",
        " (13268.0, 92.951089735230326),\n",
        " (4097.0, 78.75329438665905),\n",
        " (3454.0, 27.613800677985189),\n",
        " (6671.0, 23.467205015448933),\n",
        " (5349.0, 16.231739874192513),\n",
        " (5026.0, 14.079284874102381),\n",
        " (10523.0, 21.791027415175169)]"
       ]
      }
     ],
     "prompt_number": 70
    },
    {
     "cell_type": "code",
     "collapsed": false,
     "input": [
      "# plot \n",
      "plt.xlabel(\"response\")\n",
      "plt.ylabel(\"prediction\")\n",
      "plt.scatter(*zip(*valuesAndPreds.collect()))"
     ],
     "language": "python",
     "metadata": {},
     "outputs": [
      {
       "metadata": {},
       "output_type": "pyout",
       "prompt_number": 71,
       "text": [
        "<matplotlib.collections.PathCollection at 0x459a250>"
       ]
      },
      {
       "html": [
        "\n",
        "\n",
        "<style>\n",
        "\n",
        "</style>\n",
        "\n",
        "<div id=\"fig_el8823710152481264967312\"></div>\n",
        "<script>\n",
        "function mpld3_load_lib(url, callback){\n",
        "  var s = document.createElement('script');\n",
        "  s.src = url;\n",
        "  s.async = true;\n",
        "  s.onreadystatechange = s.onload = callback;\n",
        "  s.onerror = function(){console.warn(\"failed to load library \" + url);};\n",
        "  document.getElementsByTagName(\"head\")[0].appendChild(s);\n",
        "}\n",
        "\n",
        "if(typeof(mpld3) !== \"undefined\" && mpld3._mpld3IsLoaded){\n",
        "   // already loaded: just create the figure\n",
        "   !function(mpld3){\n",
        "       \n",
        "       mpld3.draw_figure(\"fig_el8823710152481264967312\", {\"axes\": [{\"xlim\": [-50000.0, 300000.0], \"yscale\": \"linear\", \"axesbg\": \"#FFFFFF\", \"texts\": [{\"v_baseline\": \"hanging\", \"h_anchor\": \"middle\", \"color\": \"#000000\", \"text\": \"response\", \"coordinates\": \"axes\", \"zorder\": 3, \"alpha\": 1, \"fontsize\": 10.0, \"position\": [0.5, -0.080645161290322578], \"rotation\": -0.0, \"id\": \"el882372869328\"}, {\"v_baseline\": \"auto\", \"h_anchor\": \"middle\", \"color\": \"#000000\", \"text\": \"prediction\", \"coordinates\": \"axes\", \"zorder\": 3, \"alpha\": 1, \"fontsize\": 10.0, \"position\": [-0.10383064516129034, 0.5], \"rotation\": -90.0, \"id\": \"el882372867280\"}], \"zoomable\": true, \"images\": [], \"xdomain\": [-50000.0, 300000.0], \"ylim\": [-100.0, 500.0], \"paths\": [], \"sharey\": [], \"sharex\": [], \"axesbgalpha\": null, \"axes\": [{\"scale\": \"linear\", \"tickformat\": null, \"grid\": {\"gridOn\": false}, \"fontsize\": 10.0, \"position\": \"bottom\", \"nticks\": 8, \"tickvalues\": null}, {\"scale\": \"linear\", \"tickformat\": null, \"grid\": {\"gridOn\": false}, \"fontsize\": 10.0, \"position\": \"left\", \"nticks\": 7, \"tickvalues\": null}], \"lines\": [], \"markers\": [], \"id\": \"el882371152208\", \"ydomain\": [-100.0, 500.0], \"collections\": [{\"paths\": [[[[0.0, -0.5], [0.13260155, -0.5], [0.25978993539242673, -0.44731684579412084], [0.3535533905932738, -0.3535533905932738], [0.44731684579412084, -0.25978993539242673], [0.5, -0.13260155], [0.5, 0.0], [0.5, 0.13260155], [0.44731684579412084, 0.25978993539242673], [0.3535533905932738, 0.3535533905932738], [0.25978993539242673, 0.44731684579412084], [0.13260155, 0.5], [0.0, 0.5], [-0.13260155, 0.5], [-0.25978993539242673, 0.44731684579412084], [-0.3535533905932738, 0.3535533905932738], [-0.44731684579412084, 0.25978993539242673], [-0.5, 0.13260155], [-0.5, 0.0], [-0.5, -0.13260155], [-0.44731684579412084, -0.25978993539242673], [-0.3535533905932738, -0.3535533905932738], [-0.25978993539242673, -0.44731684579412084], [-0.13260155, -0.5], [0.0, -0.5]], [\"M\", \"C\", \"C\", \"C\", \"C\", \"C\", \"C\", \"C\", \"C\", \"Z\"]]], \"edgecolors\": [\"#000000\"], \"edgewidths\": [1.0], \"offsets\": \"data01\", \"yindex\": 1, \"id\": \"el882372983120\", \"pathtransforms\": [[4.969039949999533, 0.0, 0.0, 4.969039949999533, 0.0, 0.0]], \"pathcoordinates\": \"display\", \"offsetcoordinates\": \"data\", \"zorder\": 1, \"xindex\": 0, \"alphas\": [null], \"facecolors\": [\"#0000FF\"]}], \"xscale\": \"linear\", \"bbox\": [0.125, 0.125, 0.77500000000000002, 0.77500000000000002]}], \"height\": 320.0, \"width\": 480.0, \"plugins\": [{\"type\": \"reset\"}, {\"enabled\": false, \"button\": true, \"type\": \"zoom\"}, {\"enabled\": false, \"button\": true, \"type\": \"boxzoom\"}], \"data\": {\"data01\": [[16091.0, 14.35510250785845], [134336.0, 138.7265318789098], [273816.0, 92.07543003146785], [13268.0, 92.95108973523033], [4097.0, 78.75329438665905], [3454.0, 27.61380067798519], [6671.0, 23.467205015448933], [5349.0, 16.231739874192513], [5026.0, 14.079284874102381], [10523.0, 21.79102741517517], [4110.0, 43.90744141753531], [8933.0, 111.6979307860439], [1192.0, 16.779966492114962], [424.0, 12.940093999375332], [5430.0, 20.552149088076582], [426.0, 298.4018769458717], [426.0, 242.19686712353192], [426.0, 249.4739850461937], [426.0, 94.52319230410404], [6134.0, 30.69662169427697], [1092.0, 22.898341609189433], [426.0, 151.28162649423592], [426.0, 236.21242627016676], [426.0, 238.87631433017256], [426.0, 226.185364027891], [1094.0, 45.52480277964561], [1094.0, 25.336567674344472], [426.0, 247.99107601743611], [426.0, 221.8353529392525], [426.0, 160.95559278282926], [426.0, 172.8439960649663], [1092.0, 23.073739472375312], [1092.0, 33.60868668203518], [426.0, 283.52272045666103], [426.0, 213.059117271741], [426.0, 253.31012658823573], [426.0, 202.75280093740847], [6248.0, 23.999425540386127], [1094.0, 24.318675461731857], [426.0, 207.65297368575665], [426.0, 194.011255384805], [424.0, 225.36303747519432], [426.0, 92.29260597093139], [1091.0, 23.47324769004379], [1092.0, 23.582539349439696], [425.0, 39.17134533581853], [426.0, 92.15958157806072], [426.0, 166.5476156345522], [426.0, 176.1113270314256], [6254.0, 23.966965268447105], [1094.0, 51.91274342670426], [426.0, 99.96987525375368], [424.0, 202.73127700216133], [426.0, 229.11537868546034], [426.0, 160.35649815010663], [1105.0, 24.55194861575888], [425.0, 128.91970641518571], [426.0, 202.31437449781032], [426.0, 353.70058913972923], [426.0, 382.45145090035544], [5501.0, 41.9541297483925], [1091.0, 22.35394223380643], [426.0, 174.69123727006246], [426.0, 212.54692612010876], [426.0, 164.72026908859564], [1105.0, 24.69739219377386], [1104.0, 25.110841218247995], [426.0, 218.38641515821556], [426.0, 251.92060600305726], [426.0, 254.50175900374623], [5377.0, 41.34595932393674], [1094.0, 22.345325621401418], [426.0, 186.245565067057], [426.0, 216.66345312243888], [426.0, 85.59145104518758], [6552.0, 22.63927100841718], [1099.0, 54.68842590592182], [425.0, 175.954482411121], [426.0, 175.54393860209066], [426.0, 220.67412448218673], [1094.0, 25.963137707289505], [1094.0, 26.66388927670971], [426.0, 204.94156095970106], [426.0, 150.53862157654893], [426.0, 167.82143427075724], [426.0, 200.65648451834932], [426.0, 139.58988681594386], [424.0, 220.4161218946781], [426.0, 188.66774268177946], [426.0, 17.34172133631081], [1092.0, 22.40472164964956], [7101.0, 24.790778206613638], [6719.0, 24.968143695015186], [4930.0, 12.370095953271495], [5269.0, 85.144149710555], [3728.0, 14.430991176924044], [638.0, 61.5557861828249], [639.0, 15.331344812572308], [639.0, 14.262973688930913], [423.0, 236.83343310231436], [426.0, 188.93348278367378], [426.0, 139.21817457447762], [426.0, 53.88139881604849], [425.0, 132.95439598089882], [426.0, 151.34495618176965], [426.0, 125.31950909897657], [425.0, 101.90808897434167], [426.0, 91.13527063143361], [425.0, 19.118400984909382], [426.0, 89.25573008356875], [425.0, 55.828223755474006], [426.0, 130.30196648181553], [426.0, 17.870223552955288], [426.0, 158.30974794367194], [426.0, 17.97394873994071], [426.0, 177.91467088988864], [426.0, 208.8767272278851], [426.0, 162.0110703335916], [426.0, 318.8375218239217], [426.0, 18.137695324538026], [426.0, 17.461060419540075], [426.0, 192.5857971295627], [426.0, 203.93828837534494], [426.0, 219.17096767826183], [425.0, 120.04535774764082], [425.0, 86.160414370908], [426.0, 17.423306680078813], [426.0, 94.73362420223646], [425.0, 27.77579795246795], [426.0, 17.206673258035128], [426.0, 18.99363809916379], [425.0, 175.847255244252], [424.0, 157.56027853276817], [426.0, 167.5708137376285], [426.0, 18.708606778497874], [426.0, 216.97504780715354], [425.0, 289.00628923299405], [426.0, 146.76099329501616], [426.0, 197.6295975192306], [425.0, 123.71880321062518], [426.0, 203.30810136863107], [424.0, 17.298078867991922], [423.0, 18.154078276996287], [426.0, 191.45416568577272], [426.0, 202.45325649455376], [426.0, 206.8963713504939], [426.0, 158.42516455285704], [426.0, 118.17436294169144], [425.0, 177.40207157899584], [426.0, 229.34694209879464], [426.0, 223.7928346672555], [426.0, 17.38954655055555], [426.0, 175.1416868497009], [426.0, 237.3837593162531], [426.0, 221.94240896400547], [426.0, 17.906909544557248], [426.0, 254.46568578120363], [426.0, 78.18485593793237], [426.0, 17.12082342139528], [426.0, 96.83214977296892], [426.0, 58.51003893744518], [426.0, 191.30905860031584], [426.0, 18.456237024576122], [426.0, 17.476738422303765], [425.0, 17.563497597693463], [425.0, 231.8916133642348], [426.0, 218.32967623106666], [426.0, 180.8539111711614], [425.0, 188.33898820746595], [426.0, 143.24557492867666], [425.0, 295.80059019160495], [425.0, 258.8511430872145], [426.0, 104.74899157333651], [426.0, 136.13052607990232], [425.0, 134.2567969352208], [426.0, 192.49651304461793], [426.0, 42.42009962729646], [426.0, 262.4930316926336], [425.0, 55.603443068638335], [425.0, 144.77242290740224], [426.0, 106.35471173454147], [426.0, 84.90270046606842], [426.0, 119.56657825151942], [426.0, 47.41371237009998], [426.0, 18.236648649381866], [425.0, 18.793441876598244], [426.0, 17.158989077878008], [426.0, 218.89295548238906], [426.0, 229.36162048338412], [426.0, 249.85664286500173], [426.0, 154.83715196936933], [426.0, 160.91153928174325], [426.0, 212.10113995195275], [426.0, 17.737838898261447], [426.0, 149.36101118398142], [426.0, 342.95290449910027], [426.0, 171.16220238727743], [426.0, 149.22422263813465], [426.0, 29.10085394486405], [426.0, 17.292379407824317], [425.0, 237.7495654538399], [426.0, 196.19774957638492], [426.0, 157.89765541116066], [425.0, 139.538268224949], [426.0, 161.49486023871037], [426.0, 17.782891398671634], [426.0, 262.9129749202464], [426.0, 36.18956194521896], [426.0, 31.267834579405992], [426.0, 132.9638557035794], [426.0, 124.74979197010917], [426.0, 187.56185784203007], [424.0, 17.30206743780817], [426.0, 128.58865295126162], [426.0, 169.9830396461702], [425.0, 232.72842726432225], [426.0, 123.8149896133084], [426.0, 76.14682725754446], [425.0, 245.73015062727134], [426.0, 52.689022279528025], [426.0, 142.19601157278507], [426.0, 153.9090750411778], [426.0, 50.48325190150042], [424.0, 136.18687537247112], [426.0, 165.95523453702586], [426.0, 17.94922470002656], [426.0, 156.8583927662709], [426.0, 188.41970917547343], [426.0, 17.518571276409954], [426.0, 84.84366860638723], [426.0, 20.27155309233343], [426.0, 183.4605616445899], [426.0, 147.99003150678416], [426.0, 20.00706063363632], [426.0, 127.2049518602578], [426.0, 92.05877708033009], [426.0, 17.74233987746919], [426.0, 16.97612157703153], [426.0, 55.40210066754133], [425.0, 17.464841461390137], [426.0, 30.417128858667425], [426.0, 17.557828112852075], [426.0, 45.22777051077915], [426.0, 88.05564087982566], [425.0, 105.84277594737132], [426.0, 17.262431047029523], [426.0, 71.49494634279253], [425.0, 114.85468597473835], [426.0, 93.21730961842691], [426.0, 96.1292338375018], [426.0, 17.342714411258886], [426.0, 27.52404335496428], [426.0, 32.699484676422536], [426.0, 130.9535576105131], [426.0, 320.84127469378177], [426.0, 18.00379170094588], [426.0, 19.282552943302033], [426.0, 52.435130152392745], [426.0, 18.847453539049756], [426.0, 19.2363476764735], [426.0, 18.587521170619244], [426.0, 48.01844341808766], [426.0, 256.74242207512793], [426.0, 201.75216396792314], [426.0, 166.0983762965844], [425.0, 175.90845765976056], [425.0, 229.83199796910145], [426.0, 20.90542263777957], [426.0, 175.56851356286685], [425.0, 128.90312207988092], [426.0, 37.19387084366458], [425.0, 18.72484949308146], [426.0, 102.76124979448294], [426.0, 56.27577435410983], [426.0, 17.62523302456762], [425.0, 164.8267547872177], [425.0, 84.76095454715099], [426.0, 232.80530609016859], [426.0, 17.49119402585963], [425.0, 17.440547597773627], [425.0, 172.69530476653193], [426.0, 151.74214768136], [426.0, 134.4276080490877], [426.0, 241.7358623526839], [426.0, 18.129096838707028], [426.0, 20.31184221841964], [425.0, 95.44376144027608], [426.0, 57.41141143267278], [426.0, 52.60780291749642], [426.0, 17.41545899118605], [426.0, 69.82663968614868], [426.0, 55.524114492296015], [426.0, 76.43429767299347], [425.0, 90.51906024318635], [426.0, 68.26794672460433], [426.0, 100.98283865355887], [426.0, 17.179976154677078], [426.0, 17.999650248289804], [426.0, 204.3064434609926], [426.0, 153.43356568061932], [426.0, 172.30011192910072], [426.0, 92.21765988755493], [426.0, 17.796027382262718], [426.0, 89.17708355562955], [426.0, 54.86834048497046], [425.0, 48.78302284832214], [426.0, 40.32288311013738], [426.0, 114.58044120345475], [426.0, 139.00579180730134], [426.0, 101.94185135852149], [426.0, 128.15562776633408], [426.0, 17.541511521570218], [426.0, 18.728173742962127], [426.0, 137.8127247779408], [426.0, 83.13983544514883], [426.0, 17.920558556389857], [424.0, 17.445316807152174], [426.0, 221.09407703849087], [426.0, 217.22209902564643], [426.0, 55.268976666554984], [426.0, 50.43757518138514], [426.0, 212.4760936806773], [426.0, 137.2602545791857], [425.0, 241.2600534162262], [425.0, 171.21571521293757], [426.0, 222.7501982989025], [426.0, 184.35400893933448], [425.0, 184.25052099023713], [426.0, 254.91942729269857], [426.0, 187.80808173412342], [421.0, 132.10691972130343], [426.0, 163.29735285252596], [426.0, 202.26939300059183], [426.0, 153.43680106613863], [426.0, 222.66915370404564], [426.0, 221.86409185458956], [426.0, 276.6698081325295], [425.0, 237.51554415563766], [426.0, 288.2017708732535], [426.0, 129.84064387579213], [426.0, 164.2873549624295], [425.0, 161.2860869731617], [426.0, 17.690276874065752], [426.0, 18.36351670207414], [426.0, 211.07159146529062], [426.0, 232.71530927460304], [426.0, 87.05166215145553], [426.0, 17.436415341106716], [425.0, 140.63928738611506], [426.0, 107.91384658843351], [425.0, 78.86714520740642], [426.0, 153.2002793074379], [426.0, 17.525824455519523], [425.0, 151.21115154744314], [426.0, 45.08246244058217], [426.0, 137.8096182243112], [426.0, 52.310550743663214], [425.0, 18.310607316782033], [426.0, 151.00159512227128], [426.0, 17.701810019858144], [426.0, 93.01506782612141], [426.0, 130.20414828296393], [426.0, 126.24315446000627], [426.0, 18.55233314783499], [426.0, 18.127533039521555], [426.0, 17.363845174908615], [426.0, 17.245034107583972], [426.0, 193.09014956754783], [426.0, 203.87238262548638], [426.0, 195.65876936150295], [426.0, 17.026063806975156], [426.0, 69.90333291302453], [426.0, 82.34658005643844], [425.0, 70.42824110185241], [426.0, 83.16952830877936], [426.0, 91.74676031030906], [426.0, 17.34685007224102], [426.0, 223.65150937520082], [426.0, 250.1127937934757], [426.0, 163.02307982976407], [426.0, 250.1520214061438], [426.0, 85.60723621624959], [425.0, 61.10379119597932], [426.0, 162.39109320103964], [426.0, 162.91946344688347], [1108.0, 15.354060287446718], [591.0, 88.94165134108168], [591.0, 131.43219319904026], [591.0, 57.42560711779266], [7269.0, 64.74072446224075], [621.0, 137.717396826642], [426.0, 177.8304597907498], [426.0, 127.21002656991168], [425.0, 179.79626045646947], [426.0, 342.9195059300417], [2370.0, 57.120008861042564], [3138.0, 61.082272698960395], [1388.0, 74.6079344394874], [426.0, 26.420679003498265], [425.0, 33.280263614217056], [425.0, 92.49615376594078], [426.0, 152.852471162306], [426.0, 17.00253811531871], [425.0, 16.685776186869248], [426.0, 61.43827749314538], [426.0, 55.55380381890917], [426.0, 92.6539675429455], [426.0, 169.69422467555194], [426.0, 48.07223543841646], [426.0, 212.920582333947], [426.0, 108.49166389714917], [426.0, 98.03325123985138], [426.0, 85.56457612378524], [426.0, 59.40047698735854], [426.0, 73.83049295050421], [426.0, 47.813538821050344], [426.0, 212.5021973792501], [426.0, 121.44323299287531], [426.0, 122.29323690283022], [426.0, 43.200815841516274]]}, \"id\": \"el882371015248\"});\n",
        "   }(mpld3);\n",
        "}else if(typeof define === \"function\" && define.amd){\n",
        "   // require.js is available: use it to load d3/mpld3\n",
        "   require.config({paths: {d3: \"https://mpld3.github.io/js/d3.v3.min\"}});\n",
        "   require([\"d3\"], function(d3){\n",
        "      window.d3 = d3;\n",
        "      mpld3_load_lib(\"https://mpld3.github.io/js/mpld3.v0.2.js\", function(){\n",
        "         \n",
        "         mpld3.draw_figure(\"fig_el8823710152481264967312\", {\"axes\": [{\"xlim\": [-50000.0, 300000.0], \"yscale\": \"linear\", \"axesbg\": \"#FFFFFF\", \"texts\": [{\"v_baseline\": \"hanging\", \"h_anchor\": \"middle\", \"color\": \"#000000\", \"text\": \"response\", \"coordinates\": \"axes\", \"zorder\": 3, \"alpha\": 1, \"fontsize\": 10.0, \"position\": [0.5, -0.080645161290322578], \"rotation\": -0.0, \"id\": \"el882372869328\"}, {\"v_baseline\": \"auto\", \"h_anchor\": \"middle\", \"color\": \"#000000\", \"text\": \"prediction\", \"coordinates\": \"axes\", \"zorder\": 3, \"alpha\": 1, \"fontsize\": 10.0, \"position\": [-0.10383064516129034, 0.5], \"rotation\": -90.0, \"id\": \"el882372867280\"}], \"zoomable\": true, \"images\": [], \"xdomain\": [-50000.0, 300000.0], \"ylim\": [-100.0, 500.0], \"paths\": [], \"sharey\": [], \"sharex\": [], \"axesbgalpha\": null, \"axes\": [{\"scale\": \"linear\", \"tickformat\": null, \"grid\": {\"gridOn\": false}, \"fontsize\": 10.0, \"position\": \"bottom\", \"nticks\": 8, \"tickvalues\": null}, {\"scale\": \"linear\", \"tickformat\": null, \"grid\": {\"gridOn\": false}, \"fontsize\": 10.0, \"position\": \"left\", \"nticks\": 7, \"tickvalues\": null}], \"lines\": [], \"markers\": [], \"id\": \"el882371152208\", \"ydomain\": [-100.0, 500.0], \"collections\": [{\"paths\": [[[[0.0, -0.5], [0.13260155, -0.5], [0.25978993539242673, -0.44731684579412084], [0.3535533905932738, -0.3535533905932738], [0.44731684579412084, -0.25978993539242673], [0.5, -0.13260155], [0.5, 0.0], [0.5, 0.13260155], [0.44731684579412084, 0.25978993539242673], [0.3535533905932738, 0.3535533905932738], [0.25978993539242673, 0.44731684579412084], [0.13260155, 0.5], [0.0, 0.5], [-0.13260155, 0.5], [-0.25978993539242673, 0.44731684579412084], [-0.3535533905932738, 0.3535533905932738], [-0.44731684579412084, 0.25978993539242673], [-0.5, 0.13260155], [-0.5, 0.0], [-0.5, -0.13260155], [-0.44731684579412084, -0.25978993539242673], [-0.3535533905932738, -0.3535533905932738], [-0.25978993539242673, -0.44731684579412084], [-0.13260155, -0.5], [0.0, -0.5]], [\"M\", \"C\", \"C\", \"C\", \"C\", \"C\", \"C\", \"C\", \"C\", \"Z\"]]], \"edgecolors\": [\"#000000\"], \"edgewidths\": [1.0], \"offsets\": \"data01\", \"yindex\": 1, \"id\": \"el882372983120\", \"pathtransforms\": [[4.969039949999533, 0.0, 0.0, 4.969039949999533, 0.0, 0.0]], \"pathcoordinates\": \"display\", \"offsetcoordinates\": \"data\", \"zorder\": 1, \"xindex\": 0, \"alphas\": [null], \"facecolors\": [\"#0000FF\"]}], \"xscale\": \"linear\", \"bbox\": [0.125, 0.125, 0.77500000000000002, 0.77500000000000002]}], \"height\": 320.0, \"width\": 480.0, \"plugins\": [{\"type\": \"reset\"}, {\"enabled\": false, \"button\": true, \"type\": \"zoom\"}, {\"enabled\": false, \"button\": true, \"type\": \"boxzoom\"}], \"data\": {\"data01\": [[16091.0, 14.35510250785845], [134336.0, 138.7265318789098], [273816.0, 92.07543003146785], [13268.0, 92.95108973523033], [4097.0, 78.75329438665905], [3454.0, 27.61380067798519], [6671.0, 23.467205015448933], [5349.0, 16.231739874192513], [5026.0, 14.079284874102381], [10523.0, 21.79102741517517], [4110.0, 43.90744141753531], [8933.0, 111.6979307860439], [1192.0, 16.779966492114962], [424.0, 12.940093999375332], [5430.0, 20.552149088076582], [426.0, 298.4018769458717], [426.0, 242.19686712353192], [426.0, 249.4739850461937], [426.0, 94.52319230410404], [6134.0, 30.69662169427697], [1092.0, 22.898341609189433], [426.0, 151.28162649423592], [426.0, 236.21242627016676], [426.0, 238.87631433017256], [426.0, 226.185364027891], [1094.0, 45.52480277964561], [1094.0, 25.336567674344472], [426.0, 247.99107601743611], [426.0, 221.8353529392525], [426.0, 160.95559278282926], [426.0, 172.8439960649663], [1092.0, 23.073739472375312], [1092.0, 33.60868668203518], [426.0, 283.52272045666103], [426.0, 213.059117271741], [426.0, 253.31012658823573], [426.0, 202.75280093740847], [6248.0, 23.999425540386127], [1094.0, 24.318675461731857], [426.0, 207.65297368575665], [426.0, 194.011255384805], [424.0, 225.36303747519432], [426.0, 92.29260597093139], [1091.0, 23.47324769004379], [1092.0, 23.582539349439696], [425.0, 39.17134533581853], [426.0, 92.15958157806072], [426.0, 166.5476156345522], [426.0, 176.1113270314256], [6254.0, 23.966965268447105], [1094.0, 51.91274342670426], [426.0, 99.96987525375368], [424.0, 202.73127700216133], [426.0, 229.11537868546034], [426.0, 160.35649815010663], [1105.0, 24.55194861575888], [425.0, 128.91970641518571], [426.0, 202.31437449781032], [426.0, 353.70058913972923], [426.0, 382.45145090035544], [5501.0, 41.9541297483925], [1091.0, 22.35394223380643], [426.0, 174.69123727006246], [426.0, 212.54692612010876], [426.0, 164.72026908859564], [1105.0, 24.69739219377386], [1104.0, 25.110841218247995], [426.0, 218.38641515821556], [426.0, 251.92060600305726], [426.0, 254.50175900374623], [5377.0, 41.34595932393674], [1094.0, 22.345325621401418], [426.0, 186.245565067057], [426.0, 216.66345312243888], [426.0, 85.59145104518758], [6552.0, 22.63927100841718], [1099.0, 54.68842590592182], [425.0, 175.954482411121], [426.0, 175.54393860209066], [426.0, 220.67412448218673], [1094.0, 25.963137707289505], [1094.0, 26.66388927670971], [426.0, 204.94156095970106], [426.0, 150.53862157654893], [426.0, 167.82143427075724], [426.0, 200.65648451834932], [426.0, 139.58988681594386], [424.0, 220.4161218946781], [426.0, 188.66774268177946], [426.0, 17.34172133631081], [1092.0, 22.40472164964956], [7101.0, 24.790778206613638], [6719.0, 24.968143695015186], [4930.0, 12.370095953271495], [5269.0, 85.144149710555], [3728.0, 14.430991176924044], [638.0, 61.5557861828249], [639.0, 15.331344812572308], [639.0, 14.262973688930913], [423.0, 236.83343310231436], [426.0, 188.93348278367378], [426.0, 139.21817457447762], [426.0, 53.88139881604849], [425.0, 132.95439598089882], [426.0, 151.34495618176965], [426.0, 125.31950909897657], [425.0, 101.90808897434167], [426.0, 91.13527063143361], [425.0, 19.118400984909382], [426.0, 89.25573008356875], [425.0, 55.828223755474006], [426.0, 130.30196648181553], [426.0, 17.870223552955288], [426.0, 158.30974794367194], [426.0, 17.97394873994071], [426.0, 177.91467088988864], [426.0, 208.8767272278851], [426.0, 162.0110703335916], [426.0, 318.8375218239217], [426.0, 18.137695324538026], [426.0, 17.461060419540075], [426.0, 192.5857971295627], [426.0, 203.93828837534494], [426.0, 219.17096767826183], [425.0, 120.04535774764082], [425.0, 86.160414370908], [426.0, 17.423306680078813], [426.0, 94.73362420223646], [425.0, 27.77579795246795], [426.0, 17.206673258035128], [426.0, 18.99363809916379], [425.0, 175.847255244252], [424.0, 157.56027853276817], [426.0, 167.5708137376285], [426.0, 18.708606778497874], [426.0, 216.97504780715354], [425.0, 289.00628923299405], [426.0, 146.76099329501616], [426.0, 197.6295975192306], [425.0, 123.71880321062518], [426.0, 203.30810136863107], [424.0, 17.298078867991922], [423.0, 18.154078276996287], [426.0, 191.45416568577272], [426.0, 202.45325649455376], [426.0, 206.8963713504939], [426.0, 158.42516455285704], [426.0, 118.17436294169144], [425.0, 177.40207157899584], [426.0, 229.34694209879464], [426.0, 223.7928346672555], [426.0, 17.38954655055555], [426.0, 175.1416868497009], [426.0, 237.3837593162531], [426.0, 221.94240896400547], [426.0, 17.906909544557248], [426.0, 254.46568578120363], [426.0, 78.18485593793237], [426.0, 17.12082342139528], [426.0, 96.83214977296892], [426.0, 58.51003893744518], [426.0, 191.30905860031584], [426.0, 18.456237024576122], [426.0, 17.476738422303765], [425.0, 17.563497597693463], [425.0, 231.8916133642348], [426.0, 218.32967623106666], [426.0, 180.8539111711614], [425.0, 188.33898820746595], [426.0, 143.24557492867666], [425.0, 295.80059019160495], [425.0, 258.8511430872145], [426.0, 104.74899157333651], [426.0, 136.13052607990232], [425.0, 134.2567969352208], [426.0, 192.49651304461793], [426.0, 42.42009962729646], [426.0, 262.4930316926336], [425.0, 55.603443068638335], [425.0, 144.77242290740224], [426.0, 106.35471173454147], [426.0, 84.90270046606842], [426.0, 119.56657825151942], [426.0, 47.41371237009998], [426.0, 18.236648649381866], [425.0, 18.793441876598244], [426.0, 17.158989077878008], [426.0, 218.89295548238906], [426.0, 229.36162048338412], [426.0, 249.85664286500173], [426.0, 154.83715196936933], [426.0, 160.91153928174325], [426.0, 212.10113995195275], [426.0, 17.737838898261447], [426.0, 149.36101118398142], [426.0, 342.95290449910027], [426.0, 171.16220238727743], [426.0, 149.22422263813465], [426.0, 29.10085394486405], [426.0, 17.292379407824317], [425.0, 237.7495654538399], [426.0, 196.19774957638492], [426.0, 157.89765541116066], [425.0, 139.538268224949], [426.0, 161.49486023871037], [426.0, 17.782891398671634], [426.0, 262.9129749202464], [426.0, 36.18956194521896], [426.0, 31.267834579405992], [426.0, 132.9638557035794], [426.0, 124.74979197010917], [426.0, 187.56185784203007], [424.0, 17.30206743780817], [426.0, 128.58865295126162], [426.0, 169.9830396461702], [425.0, 232.72842726432225], [426.0, 123.8149896133084], [426.0, 76.14682725754446], [425.0, 245.73015062727134], [426.0, 52.689022279528025], [426.0, 142.19601157278507], [426.0, 153.9090750411778], [426.0, 50.48325190150042], [424.0, 136.18687537247112], [426.0, 165.95523453702586], [426.0, 17.94922470002656], [426.0, 156.8583927662709], [426.0, 188.41970917547343], [426.0, 17.518571276409954], [426.0, 84.84366860638723], [426.0, 20.27155309233343], [426.0, 183.4605616445899], [426.0, 147.99003150678416], [426.0, 20.00706063363632], [426.0, 127.2049518602578], [426.0, 92.05877708033009], [426.0, 17.74233987746919], [426.0, 16.97612157703153], [426.0, 55.40210066754133], [425.0, 17.464841461390137], [426.0, 30.417128858667425], [426.0, 17.557828112852075], [426.0, 45.22777051077915], [426.0, 88.05564087982566], [425.0, 105.84277594737132], [426.0, 17.262431047029523], [426.0, 71.49494634279253], [425.0, 114.85468597473835], [426.0, 93.21730961842691], [426.0, 96.1292338375018], [426.0, 17.342714411258886], [426.0, 27.52404335496428], [426.0, 32.699484676422536], [426.0, 130.9535576105131], [426.0, 320.84127469378177], [426.0, 18.00379170094588], [426.0, 19.282552943302033], [426.0, 52.435130152392745], [426.0, 18.847453539049756], [426.0, 19.2363476764735], [426.0, 18.587521170619244], [426.0, 48.01844341808766], [426.0, 256.74242207512793], [426.0, 201.75216396792314], [426.0, 166.0983762965844], [425.0, 175.90845765976056], [425.0, 229.83199796910145], [426.0, 20.90542263777957], [426.0, 175.56851356286685], [425.0, 128.90312207988092], [426.0, 37.19387084366458], [425.0, 18.72484949308146], [426.0, 102.76124979448294], [426.0, 56.27577435410983], [426.0, 17.62523302456762], [425.0, 164.8267547872177], [425.0, 84.76095454715099], [426.0, 232.80530609016859], [426.0, 17.49119402585963], [425.0, 17.440547597773627], [425.0, 172.69530476653193], [426.0, 151.74214768136], [426.0, 134.4276080490877], [426.0, 241.7358623526839], [426.0, 18.129096838707028], [426.0, 20.31184221841964], [425.0, 95.44376144027608], [426.0, 57.41141143267278], [426.0, 52.60780291749642], [426.0, 17.41545899118605], [426.0, 69.82663968614868], [426.0, 55.524114492296015], [426.0, 76.43429767299347], [425.0, 90.51906024318635], [426.0, 68.26794672460433], [426.0, 100.98283865355887], [426.0, 17.179976154677078], [426.0, 17.999650248289804], [426.0, 204.3064434609926], [426.0, 153.43356568061932], [426.0, 172.30011192910072], [426.0, 92.21765988755493], [426.0, 17.796027382262718], [426.0, 89.17708355562955], [426.0, 54.86834048497046], [425.0, 48.78302284832214], [426.0, 40.32288311013738], [426.0, 114.58044120345475], [426.0, 139.00579180730134], [426.0, 101.94185135852149], [426.0, 128.15562776633408], [426.0, 17.541511521570218], [426.0, 18.728173742962127], [426.0, 137.8127247779408], [426.0, 83.13983544514883], [426.0, 17.920558556389857], [424.0, 17.445316807152174], [426.0, 221.09407703849087], [426.0, 217.22209902564643], [426.0, 55.268976666554984], [426.0, 50.43757518138514], [426.0, 212.4760936806773], [426.0, 137.2602545791857], [425.0, 241.2600534162262], [425.0, 171.21571521293757], [426.0, 222.7501982989025], [426.0, 184.35400893933448], [425.0, 184.25052099023713], [426.0, 254.91942729269857], [426.0, 187.80808173412342], [421.0, 132.10691972130343], [426.0, 163.29735285252596], [426.0, 202.26939300059183], [426.0, 153.43680106613863], [426.0, 222.66915370404564], [426.0, 221.86409185458956], [426.0, 276.6698081325295], [425.0, 237.51554415563766], [426.0, 288.2017708732535], [426.0, 129.84064387579213], [426.0, 164.2873549624295], [425.0, 161.2860869731617], [426.0, 17.690276874065752], [426.0, 18.36351670207414], [426.0, 211.07159146529062], [426.0, 232.71530927460304], [426.0, 87.05166215145553], [426.0, 17.436415341106716], [425.0, 140.63928738611506], [426.0, 107.91384658843351], [425.0, 78.86714520740642], [426.0, 153.2002793074379], [426.0, 17.525824455519523], [425.0, 151.21115154744314], [426.0, 45.08246244058217], [426.0, 137.8096182243112], [426.0, 52.310550743663214], [425.0, 18.310607316782033], [426.0, 151.00159512227128], [426.0, 17.701810019858144], [426.0, 93.01506782612141], [426.0, 130.20414828296393], [426.0, 126.24315446000627], [426.0, 18.55233314783499], [426.0, 18.127533039521555], [426.0, 17.363845174908615], [426.0, 17.245034107583972], [426.0, 193.09014956754783], [426.0, 203.87238262548638], [426.0, 195.65876936150295], [426.0, 17.026063806975156], [426.0, 69.90333291302453], [426.0, 82.34658005643844], [425.0, 70.42824110185241], [426.0, 83.16952830877936], [426.0, 91.74676031030906], [426.0, 17.34685007224102], [426.0, 223.65150937520082], [426.0, 250.1127937934757], [426.0, 163.02307982976407], [426.0, 250.1520214061438], [426.0, 85.60723621624959], [425.0, 61.10379119597932], [426.0, 162.39109320103964], [426.0, 162.91946344688347], [1108.0, 15.354060287446718], [591.0, 88.94165134108168], [591.0, 131.43219319904026], [591.0, 57.42560711779266], [7269.0, 64.74072446224075], [621.0, 137.717396826642], [426.0, 177.8304597907498], [426.0, 127.21002656991168], [425.0, 179.79626045646947], [426.0, 342.9195059300417], [2370.0, 57.120008861042564], [3138.0, 61.082272698960395], [1388.0, 74.6079344394874], [426.0, 26.420679003498265], [425.0, 33.280263614217056], [425.0, 92.49615376594078], [426.0, 152.852471162306], [426.0, 17.00253811531871], [425.0, 16.685776186869248], [426.0, 61.43827749314538], [426.0, 55.55380381890917], [426.0, 92.6539675429455], [426.0, 169.69422467555194], [426.0, 48.07223543841646], [426.0, 212.920582333947], [426.0, 108.49166389714917], [426.0, 98.03325123985138], [426.0, 85.56457612378524], [426.0, 59.40047698735854], [426.0, 73.83049295050421], [426.0, 47.813538821050344], [426.0, 212.5021973792501], [426.0, 121.44323299287531], [426.0, 122.29323690283022], [426.0, 43.200815841516274]]}, \"id\": \"el882371015248\"});\n",
        "      });\n",
        "    });\n",
        "}else{\n",
        "    // require.js not available: dynamically load d3 & mpld3\n",
        "    mpld3_load_lib(\"https://mpld3.github.io/js/d3.v3.min.js\", function(){\n",
        "         mpld3_load_lib(\"https://mpld3.github.io/js/mpld3.v0.2.js\", function(){\n",
        "                 \n",
        "                 mpld3.draw_figure(\"fig_el8823710152481264967312\", {\"axes\": [{\"xlim\": [-50000.0, 300000.0], \"yscale\": \"linear\", \"axesbg\": \"#FFFFFF\", \"texts\": [{\"v_baseline\": \"hanging\", \"h_anchor\": \"middle\", \"color\": \"#000000\", \"text\": \"response\", \"coordinates\": \"axes\", \"zorder\": 3, \"alpha\": 1, \"fontsize\": 10.0, \"position\": [0.5, -0.080645161290322578], \"rotation\": -0.0, \"id\": \"el882372869328\"}, {\"v_baseline\": \"auto\", \"h_anchor\": \"middle\", \"color\": \"#000000\", \"text\": \"prediction\", \"coordinates\": \"axes\", \"zorder\": 3, \"alpha\": 1, \"fontsize\": 10.0, \"position\": [-0.10383064516129034, 0.5], \"rotation\": -90.0, \"id\": \"el882372867280\"}], \"zoomable\": true, \"images\": [], \"xdomain\": [-50000.0, 300000.0], \"ylim\": [-100.0, 500.0], \"paths\": [], \"sharey\": [], \"sharex\": [], \"axesbgalpha\": null, \"axes\": [{\"scale\": \"linear\", \"tickformat\": null, \"grid\": {\"gridOn\": false}, \"fontsize\": 10.0, \"position\": \"bottom\", \"nticks\": 8, \"tickvalues\": null}, {\"scale\": \"linear\", \"tickformat\": null, \"grid\": {\"gridOn\": false}, \"fontsize\": 10.0, \"position\": \"left\", \"nticks\": 7, \"tickvalues\": null}], \"lines\": [], \"markers\": [], \"id\": \"el882371152208\", \"ydomain\": [-100.0, 500.0], \"collections\": [{\"paths\": [[[[0.0, -0.5], [0.13260155, -0.5], [0.25978993539242673, -0.44731684579412084], [0.3535533905932738, -0.3535533905932738], [0.44731684579412084, -0.25978993539242673], [0.5, -0.13260155], [0.5, 0.0], [0.5, 0.13260155], [0.44731684579412084, 0.25978993539242673], [0.3535533905932738, 0.3535533905932738], [0.25978993539242673, 0.44731684579412084], [0.13260155, 0.5], [0.0, 0.5], [-0.13260155, 0.5], [-0.25978993539242673, 0.44731684579412084], [-0.3535533905932738, 0.3535533905932738], [-0.44731684579412084, 0.25978993539242673], [-0.5, 0.13260155], [-0.5, 0.0], [-0.5, -0.13260155], [-0.44731684579412084, -0.25978993539242673], [-0.3535533905932738, -0.3535533905932738], [-0.25978993539242673, -0.44731684579412084], [-0.13260155, -0.5], [0.0, -0.5]], [\"M\", \"C\", \"C\", \"C\", \"C\", \"C\", \"C\", \"C\", \"C\", \"Z\"]]], \"edgecolors\": [\"#000000\"], \"edgewidths\": [1.0], \"offsets\": \"data01\", \"yindex\": 1, \"id\": \"el882372983120\", \"pathtransforms\": [[4.969039949999533, 0.0, 0.0, 4.969039949999533, 0.0, 0.0]], \"pathcoordinates\": \"display\", \"offsetcoordinates\": \"data\", \"zorder\": 1, \"xindex\": 0, \"alphas\": [null], \"facecolors\": [\"#0000FF\"]}], \"xscale\": \"linear\", \"bbox\": [0.125, 0.125, 0.77500000000000002, 0.77500000000000002]}], \"height\": 320.0, \"width\": 480.0, \"plugins\": [{\"type\": \"reset\"}, {\"enabled\": false, \"button\": true, \"type\": \"zoom\"}, {\"enabled\": false, \"button\": true, \"type\": \"boxzoom\"}], \"data\": {\"data01\": [[16091.0, 14.35510250785845], [134336.0, 138.7265318789098], [273816.0, 92.07543003146785], [13268.0, 92.95108973523033], [4097.0, 78.75329438665905], [3454.0, 27.61380067798519], [6671.0, 23.467205015448933], [5349.0, 16.231739874192513], [5026.0, 14.079284874102381], [10523.0, 21.79102741517517], [4110.0, 43.90744141753531], [8933.0, 111.6979307860439], [1192.0, 16.779966492114962], [424.0, 12.940093999375332], [5430.0, 20.552149088076582], [426.0, 298.4018769458717], [426.0, 242.19686712353192], [426.0, 249.4739850461937], [426.0, 94.52319230410404], [6134.0, 30.69662169427697], [1092.0, 22.898341609189433], [426.0, 151.28162649423592], [426.0, 236.21242627016676], [426.0, 238.87631433017256], [426.0, 226.185364027891], [1094.0, 45.52480277964561], [1094.0, 25.336567674344472], [426.0, 247.99107601743611], [426.0, 221.8353529392525], [426.0, 160.95559278282926], [426.0, 172.8439960649663], [1092.0, 23.073739472375312], [1092.0, 33.60868668203518], [426.0, 283.52272045666103], [426.0, 213.059117271741], [426.0, 253.31012658823573], [426.0, 202.75280093740847], [6248.0, 23.999425540386127], [1094.0, 24.318675461731857], [426.0, 207.65297368575665], [426.0, 194.011255384805], [424.0, 225.36303747519432], [426.0, 92.29260597093139], [1091.0, 23.47324769004379], [1092.0, 23.582539349439696], [425.0, 39.17134533581853], [426.0, 92.15958157806072], [426.0, 166.5476156345522], [426.0, 176.1113270314256], [6254.0, 23.966965268447105], [1094.0, 51.91274342670426], [426.0, 99.96987525375368], [424.0, 202.73127700216133], [426.0, 229.11537868546034], [426.0, 160.35649815010663], [1105.0, 24.55194861575888], [425.0, 128.91970641518571], [426.0, 202.31437449781032], [426.0, 353.70058913972923], [426.0, 382.45145090035544], [5501.0, 41.9541297483925], [1091.0, 22.35394223380643], [426.0, 174.69123727006246], [426.0, 212.54692612010876], [426.0, 164.72026908859564], [1105.0, 24.69739219377386], [1104.0, 25.110841218247995], [426.0, 218.38641515821556], [426.0, 251.92060600305726], [426.0, 254.50175900374623], [5377.0, 41.34595932393674], [1094.0, 22.345325621401418], [426.0, 186.245565067057], [426.0, 216.66345312243888], [426.0, 85.59145104518758], [6552.0, 22.63927100841718], [1099.0, 54.68842590592182], [425.0, 175.954482411121], [426.0, 175.54393860209066], [426.0, 220.67412448218673], [1094.0, 25.963137707289505], [1094.0, 26.66388927670971], [426.0, 204.94156095970106], [426.0, 150.53862157654893], [426.0, 167.82143427075724], [426.0, 200.65648451834932], [426.0, 139.58988681594386], [424.0, 220.4161218946781], [426.0, 188.66774268177946], [426.0, 17.34172133631081], [1092.0, 22.40472164964956], [7101.0, 24.790778206613638], [6719.0, 24.968143695015186], [4930.0, 12.370095953271495], [5269.0, 85.144149710555], [3728.0, 14.430991176924044], [638.0, 61.5557861828249], [639.0, 15.331344812572308], [639.0, 14.262973688930913], [423.0, 236.83343310231436], [426.0, 188.93348278367378], [426.0, 139.21817457447762], [426.0, 53.88139881604849], [425.0, 132.95439598089882], [426.0, 151.34495618176965], [426.0, 125.31950909897657], [425.0, 101.90808897434167], [426.0, 91.13527063143361], [425.0, 19.118400984909382], [426.0, 89.25573008356875], [425.0, 55.828223755474006], [426.0, 130.30196648181553], [426.0, 17.870223552955288], [426.0, 158.30974794367194], [426.0, 17.97394873994071], [426.0, 177.91467088988864], [426.0, 208.8767272278851], [426.0, 162.0110703335916], [426.0, 318.8375218239217], [426.0, 18.137695324538026], [426.0, 17.461060419540075], [426.0, 192.5857971295627], [426.0, 203.93828837534494], [426.0, 219.17096767826183], [425.0, 120.04535774764082], [425.0, 86.160414370908], [426.0, 17.423306680078813], [426.0, 94.73362420223646], [425.0, 27.77579795246795], [426.0, 17.206673258035128], [426.0, 18.99363809916379], [425.0, 175.847255244252], [424.0, 157.56027853276817], [426.0, 167.5708137376285], [426.0, 18.708606778497874], [426.0, 216.97504780715354], [425.0, 289.00628923299405], [426.0, 146.76099329501616], [426.0, 197.6295975192306], [425.0, 123.71880321062518], [426.0, 203.30810136863107], [424.0, 17.298078867991922], [423.0, 18.154078276996287], [426.0, 191.45416568577272], [426.0, 202.45325649455376], [426.0, 206.8963713504939], [426.0, 158.42516455285704], [426.0, 118.17436294169144], [425.0, 177.40207157899584], [426.0, 229.34694209879464], [426.0, 223.7928346672555], [426.0, 17.38954655055555], [426.0, 175.1416868497009], [426.0, 237.3837593162531], [426.0, 221.94240896400547], [426.0, 17.906909544557248], [426.0, 254.46568578120363], [426.0, 78.18485593793237], [426.0, 17.12082342139528], [426.0, 96.83214977296892], [426.0, 58.51003893744518], [426.0, 191.30905860031584], [426.0, 18.456237024576122], [426.0, 17.476738422303765], [425.0, 17.563497597693463], [425.0, 231.8916133642348], [426.0, 218.32967623106666], [426.0, 180.8539111711614], [425.0, 188.33898820746595], [426.0, 143.24557492867666], [425.0, 295.80059019160495], [425.0, 258.8511430872145], [426.0, 104.74899157333651], [426.0, 136.13052607990232], [425.0, 134.2567969352208], [426.0, 192.49651304461793], [426.0, 42.42009962729646], [426.0, 262.4930316926336], [425.0, 55.603443068638335], [425.0, 144.77242290740224], [426.0, 106.35471173454147], [426.0, 84.90270046606842], [426.0, 119.56657825151942], [426.0, 47.41371237009998], [426.0, 18.236648649381866], [425.0, 18.793441876598244], [426.0, 17.158989077878008], [426.0, 218.89295548238906], [426.0, 229.36162048338412], [426.0, 249.85664286500173], [426.0, 154.83715196936933], [426.0, 160.91153928174325], [426.0, 212.10113995195275], [426.0, 17.737838898261447], [426.0, 149.36101118398142], [426.0, 342.95290449910027], [426.0, 171.16220238727743], [426.0, 149.22422263813465], [426.0, 29.10085394486405], [426.0, 17.292379407824317], [425.0, 237.7495654538399], [426.0, 196.19774957638492], [426.0, 157.89765541116066], [425.0, 139.538268224949], [426.0, 161.49486023871037], [426.0, 17.782891398671634], [426.0, 262.9129749202464], [426.0, 36.18956194521896], [426.0, 31.267834579405992], [426.0, 132.9638557035794], [426.0, 124.74979197010917], [426.0, 187.56185784203007], [424.0, 17.30206743780817], [426.0, 128.58865295126162], [426.0, 169.9830396461702], [425.0, 232.72842726432225], [426.0, 123.8149896133084], [426.0, 76.14682725754446], [425.0, 245.73015062727134], [426.0, 52.689022279528025], [426.0, 142.19601157278507], [426.0, 153.9090750411778], [426.0, 50.48325190150042], [424.0, 136.18687537247112], [426.0, 165.95523453702586], [426.0, 17.94922470002656], [426.0, 156.8583927662709], [426.0, 188.41970917547343], [426.0, 17.518571276409954], [426.0, 84.84366860638723], [426.0, 20.27155309233343], [426.0, 183.4605616445899], [426.0, 147.99003150678416], [426.0, 20.00706063363632], [426.0, 127.2049518602578], [426.0, 92.05877708033009], [426.0, 17.74233987746919], [426.0, 16.97612157703153], [426.0, 55.40210066754133], [425.0, 17.464841461390137], [426.0, 30.417128858667425], [426.0, 17.557828112852075], [426.0, 45.22777051077915], [426.0, 88.05564087982566], [425.0, 105.84277594737132], [426.0, 17.262431047029523], [426.0, 71.49494634279253], [425.0, 114.85468597473835], [426.0, 93.21730961842691], [426.0, 96.1292338375018], [426.0, 17.342714411258886], [426.0, 27.52404335496428], [426.0, 32.699484676422536], [426.0, 130.9535576105131], [426.0, 320.84127469378177], [426.0, 18.00379170094588], [426.0, 19.282552943302033], [426.0, 52.435130152392745], [426.0, 18.847453539049756], [426.0, 19.2363476764735], [426.0, 18.587521170619244], [426.0, 48.01844341808766], [426.0, 256.74242207512793], [426.0, 201.75216396792314], [426.0, 166.0983762965844], [425.0, 175.90845765976056], [425.0, 229.83199796910145], [426.0, 20.90542263777957], [426.0, 175.56851356286685], [425.0, 128.90312207988092], [426.0, 37.19387084366458], [425.0, 18.72484949308146], [426.0, 102.76124979448294], [426.0, 56.27577435410983], [426.0, 17.62523302456762], [425.0, 164.8267547872177], [425.0, 84.76095454715099], [426.0, 232.80530609016859], [426.0, 17.49119402585963], [425.0, 17.440547597773627], [425.0, 172.69530476653193], [426.0, 151.74214768136], [426.0, 134.4276080490877], [426.0, 241.7358623526839], [426.0, 18.129096838707028], [426.0, 20.31184221841964], [425.0, 95.44376144027608], [426.0, 57.41141143267278], [426.0, 52.60780291749642], [426.0, 17.41545899118605], [426.0, 69.82663968614868], [426.0, 55.524114492296015], [426.0, 76.43429767299347], [425.0, 90.51906024318635], [426.0, 68.26794672460433], [426.0, 100.98283865355887], [426.0, 17.179976154677078], [426.0, 17.999650248289804], [426.0, 204.3064434609926], [426.0, 153.43356568061932], [426.0, 172.30011192910072], [426.0, 92.21765988755493], [426.0, 17.796027382262718], [426.0, 89.17708355562955], [426.0, 54.86834048497046], [425.0, 48.78302284832214], [426.0, 40.32288311013738], [426.0, 114.58044120345475], [426.0, 139.00579180730134], [426.0, 101.94185135852149], [426.0, 128.15562776633408], [426.0, 17.541511521570218], [426.0, 18.728173742962127], [426.0, 137.8127247779408], [426.0, 83.13983544514883], [426.0, 17.920558556389857], [424.0, 17.445316807152174], [426.0, 221.09407703849087], [426.0, 217.22209902564643], [426.0, 55.268976666554984], [426.0, 50.43757518138514], [426.0, 212.4760936806773], [426.0, 137.2602545791857], [425.0, 241.2600534162262], [425.0, 171.21571521293757], [426.0, 222.7501982989025], [426.0, 184.35400893933448], [425.0, 184.25052099023713], [426.0, 254.91942729269857], [426.0, 187.80808173412342], [421.0, 132.10691972130343], [426.0, 163.29735285252596], [426.0, 202.26939300059183], [426.0, 153.43680106613863], [426.0, 222.66915370404564], [426.0, 221.86409185458956], [426.0, 276.6698081325295], [425.0, 237.51554415563766], [426.0, 288.2017708732535], [426.0, 129.84064387579213], [426.0, 164.2873549624295], [425.0, 161.2860869731617], [426.0, 17.690276874065752], [426.0, 18.36351670207414], [426.0, 211.07159146529062], [426.0, 232.71530927460304], [426.0, 87.05166215145553], [426.0, 17.436415341106716], [425.0, 140.63928738611506], [426.0, 107.91384658843351], [425.0, 78.86714520740642], [426.0, 153.2002793074379], [426.0, 17.525824455519523], [425.0, 151.21115154744314], [426.0, 45.08246244058217], [426.0, 137.8096182243112], [426.0, 52.310550743663214], [425.0, 18.310607316782033], [426.0, 151.00159512227128], [426.0, 17.701810019858144], [426.0, 93.01506782612141], [426.0, 130.20414828296393], [426.0, 126.24315446000627], [426.0, 18.55233314783499], [426.0, 18.127533039521555], [426.0, 17.363845174908615], [426.0, 17.245034107583972], [426.0, 193.09014956754783], [426.0, 203.87238262548638], [426.0, 195.65876936150295], [426.0, 17.026063806975156], [426.0, 69.90333291302453], [426.0, 82.34658005643844], [425.0, 70.42824110185241], [426.0, 83.16952830877936], [426.0, 91.74676031030906], [426.0, 17.34685007224102], [426.0, 223.65150937520082], [426.0, 250.1127937934757], [426.0, 163.02307982976407], [426.0, 250.1520214061438], [426.0, 85.60723621624959], [425.0, 61.10379119597932], [426.0, 162.39109320103964], [426.0, 162.91946344688347], [1108.0, 15.354060287446718], [591.0, 88.94165134108168], [591.0, 131.43219319904026], [591.0, 57.42560711779266], [7269.0, 64.74072446224075], [621.0, 137.717396826642], [426.0, 177.8304597907498], [426.0, 127.21002656991168], [425.0, 179.79626045646947], [426.0, 342.9195059300417], [2370.0, 57.120008861042564], [3138.0, 61.082272698960395], [1388.0, 74.6079344394874], [426.0, 26.420679003498265], [425.0, 33.280263614217056], [425.0, 92.49615376594078], [426.0, 152.852471162306], [426.0, 17.00253811531871], [425.0, 16.685776186869248], [426.0, 61.43827749314538], [426.0, 55.55380381890917], [426.0, 92.6539675429455], [426.0, 169.69422467555194], [426.0, 48.07223543841646], [426.0, 212.920582333947], [426.0, 108.49166389714917], [426.0, 98.03325123985138], [426.0, 85.56457612378524], [426.0, 59.40047698735854], [426.0, 73.83049295050421], [426.0, 47.813538821050344], [426.0, 212.5021973792501], [426.0, 121.44323299287531], [426.0, 122.29323690283022], [426.0, 43.200815841516274]]}, \"id\": \"el882371015248\"});\n",
        "            })\n",
        "         });\n",
        "}\n",
        "</script>"
       ],
       "metadata": {},
       "output_type": "display_data",
       "png": "[encoded data removed]",
       "text": [
        "<matplotlib.figure.Figure at 0x43b9b50>"
       ]
      }
     ],
     "prompt_number": 71
    },
    {
     "cell_type": "code",
     "collapsed": false,
     "input": [],
     "language": "python",
     "metadata": {},
     "outputs": []
    },
    {
     "cell_type": "markdown",
     "metadata": {},
     "source": [
      "# decision Tree"
     ]
    },
    {
     "cell_type": "code",
     "collapsed": false,
     "input": [
      "'''\n",
      "# Load and parse the data file into an RDD of LabeledPoint.\n",
      "from pyspark.mllib.util import MLUtils\n",
      "data = MLUtils.loadLibSVMFile(sc,\"test_libsvm.data\")\n",
      "data.take(1)[0].label,data.take(1)[0].features\n",
      "'''"
     ],
     "language": "python",
     "metadata": {},
     "outputs": [
      {
       "metadata": {},
       "output_type": "pyout",
       "prompt_number": 38,
       "text": [
        "'\\n# Load and parse the data file into an RDD of LabeledPoint.\\nfrom pyspark.mllib.util import MLUtils\\ndata = MLUtils.loadLibSVMFile(sc,\"test_libsvm.data\")\\ndata.take(1)[0].label,data.take(1)[0].features\\n'"
       ]
      }
     ],
     "prompt_number": 38
    },
    {
     "cell_type": "code",
     "collapsed": false,
     "input": [
      "from numpy import array\n",
      "from pyspark.mllib.regression import LabeledPoint\n",
      "from pyspark.mllib.linalg import Vectors\n",
      "from pyspark.mllib.tree import DecisionTree\n",
      "from pyspark.mllib.util import MLUtils\n",
      "\n",
      "#df.map(lambda x: len(x)).collect()\n",
      "#features =[\"response\", \"X-Runtime\", \"timestampStartEnd\",\"Content-TypeID\",\"methodID\",\"pathID\", \"msgID\",\"codeID\",\"contentMatch\"]\n",
      "features = numericalFeatures + categoricalFeatures\n",
      "\n",
      "\n",
      "\n",
      "def parsePoint(line):\n",
      "#    values=[line.get(f) or 0)  for f in features]\n",
      "    values=[]\n",
      "    values.append( line[\"size\"].get(\"response\") or 0)\n",
      "    values.append( line[\"response\"][\"headers\"].get(\"x-runtime\") or 0)\n",
      "    values.append( line[\"response\"][\"headers\"].get(\"content-typeID\") or 0)\n",
      "    values.append( line[\"request\"].get(\"methodID\") or 0)\n",
      "    values.append( line[\"request\"].get(\"msgID\") or 0)\n",
      "    values.append( line[\"request\"].get(\"pathID\") or 0)\n",
      "    values.append( line[\"request\"].get(\"timestamp_diff\") or 0)\n",
      "    values.append( line[\"request\"].get(\"requestcount\") or 0)\n",
      "    values.append( line.get(\"contentLeakage\") or 0)\n",
      "\n",
      "    return values\n",
      "#    return LabeledPoint(values[0], values[1:]) # values[1:])\n",
      "\n",
      "#parsedData = df.map(parsePoint)\n",
      "\n",
      "#d2=parsedData\n",
      "#d2=df.map(lambda x: [x.get(f) or 0 for i,f in enumerate(features)])\n",
      "\n",
      "def parsedVector(line):\n",
      "    length =len(line[1:])\n",
      "    v = zip(*[ (i,x) for i,x in enumerate(line[1:])])\n",
      "    sv1 = Vectors.sparse(length, v[0], v[1])\n",
      "\n",
      "    return LabeledPoint(line[0], sv1) #, list(v[1])))\n",
      "    \n",
      "    \n",
      "\n",
      "d2=df.map(parsePoint).map(parsedVector)\n",
      "\n",
      "d2.take(2)\n"
     ],
     "language": "python",
     "metadata": {},
     "outputs": [
      {
       "metadata": {},
       "output_type": "pyout",
       "prompt_number": 118,
       "text": [
        "[LabeledPoint(16091.0, (8,[0,1,2,3,4,5,6,7],[0.001283,1.0,1.0,0.0,1.0,0.00578594207764,3.0,0.0])),\n",
        " LabeledPoint(134336.0, (8,[0,1,2,3,4,5,6,7],[0.004546,3.0,1.0,0.0,2.0,0.0569009780884,1.0,0.0]))]"
       ]
      }
     ],
     "prompt_number": 118
    },
    {
     "cell_type": "code",
     "collapsed": false,
     "input": [
      "from pyspark.mllib.util import MLUtils\n",
      "MLUtils.saveAsLibSVMFile(d2,\"libsvm_data.txt\")"
     ],
     "language": "python",
     "metadata": {},
     "outputs": [],
     "prompt_number": 119
    },
    {
     "cell_type": "code",
     "collapsed": false,
     "input": [
      "for i,x in enumerate(features): print i,x\n"
     ],
     "language": "python",
     "metadata": {},
     "outputs": [
      {
       "output_type": "stream",
       "stream": "stdout",
       "text": [
        "0 size.response\n",
        "1 request.requestcount\n",
        "2 response.headers.x-runtime\n",
        "3 request.timestamp_diff\n",
        "4 response.headers.x-frame-options\n",
        "5 response.headers.x-xss-protection\n",
        "6 response.headers.x-content-type-options\n",
        "7 response.headers.x-ua-compatible\n",
        "8 response.headers.x-xhr-current-location\n",
        "9 response.headers.content-type\n",
        "10 response.headers.etag\n",
        "11 response.headers.cache-control\n",
        "12 response.headers.x-request-id\n",
        "13 response.headers.server\n",
        "14 response.headers.date\n",
        "15 response.headers.content-length\n",
        "16 response.headers.connection\n",
        "17 response.headers.set-cookie\n",
        "18 request.httpversion\n",
        "19 request.address\n",
        "20 request.client_conn\n",
        "21 request.error\n",
        "22 request.port\n",
        "23 request.scheme\n",
        "24 request.path\n",
        "25 request.host\n",
        "26 request.header\n",
        "27 request.method\n",
        "28 request.ip\n"
       ]
      }
     ],
     "prompt_number": 86
    },
    {
     "cell_type": "code",
     "collapsed": false,
     "input": [
      "\n",
      "# Split the data into training and test sets (30% held out for testing)\n",
      "(trainingData, testData) = d2.randomSplit([0.7, 0.3])\n",
      "\n",
      "# Train a DecisionTree model.\n",
      "#  Empty categoricalFeaturesInfo indicates all features are continuous.\n",
      "model = DecisionTree.trainRegressor(trainingData, categoricalFeaturesInfo={},\n",
      "                                    impurity=\"variance\", maxDepth=6, maxBins=12)\n",
      "\n",
      "# Evaluate model on test instances and compute test error\n",
      "predictions = model.predict(testData.map(lambda x: x.features))\n",
      "labelsAndPredictions = testData.map(lambda lp: lp.label).zip(predictions)\n",
      "testMSE = labelsAndPredictions.map(lambda (v, p): (v - p) * (v - p)).sum() / float(testData.count())\n",
      "print('Test Mean Squared Error = ' + str(testMSE))\n",
      "print('Learned regression tree model:')\n",
      "print(model.toDebugString())\n"
     ],
     "language": "python",
     "metadata": {},
     "outputs": [
      {
       "output_type": "stream",
       "stream": "stdout",
       "text": [
        "Test Mean Squared Error = 540518584.185\n",
        "Learned regression tree model:\n",
        "DecisionTreeModel regressor of depth 6 with 55 nodes\n",
        "  If (feature 1 <= 2.0)\n",
        "   If (feature 1 <= 0.0)\n",
        "    If (feature 0 <= 0.016977)\n",
        "     If (feature 0 <= 0.004337)\n",
        "      If (feature 6 <= 58.0)\n",
        "       If (feature 0 <= 0.001278)\n",
        "        Predict: 425.9268292682927\n",
        "       Else (feature 0 > 0.001278)\n",
        "        Predict: 425.7412587412587\n",
        "      Else (feature 6 > 58.0)\n",
        "       If (feature 0 <= 0.001396)\n",
        "        Predict: 425.8888888888889\n",
        "       Else (feature 0 > 0.001396)\n",
        "        Predict: 426.0\n",
        "     Else (feature 0 > 0.004337)\n",
        "      If (feature 5 <= 0.007188081741333008)\n",
        "       If (feature 4 <= 16.0)\n",
        "        Predict: 426.0\n",
        "       Else (feature 4 > 16.0)\n",
        "        Predict: 1091.0\n",
        "      Else (feature 5 > 0.007188081741333008)\n",
        "       If (feature 5 <= 0.06525397300720215)\n",
        "        Predict: 426.0\n",
        "       Else (feature 5 > 0.06525397300720215)\n",
        "        Predict: 425.6923076923077\n",
        "    Else (feature 0 > 0.016977)\n",
        "     If (feature 5 <= 0.02270817756652832)\n",
        "      If (feature 6 <= 45.0)\n",
        "       If (feature 4 <= 21.0)\n",
        "        Predict: 1091.8333333333333\n",
        "       Else (feature 4 > 21.0)\n",
        "        Predict: 1094.0\n",
        "      Else (feature 6 > 45.0)\n",
        "       If (feature 6 <= 58.0)\n",
        "        Predict: 1102.6666666666667\n",
        "       Else (feature 6 > 58.0)\n",
        "        Predict: 1094.0\n",
        "     Else (feature 5 > 0.02270817756652832)\n",
        "      Predict: 426.0\n",
        "   Else (feature 1 > 0.0)\n",
        "    If (feature 4 <= 2.0)\n",
        "     Predict: 16091.0\n",
        "    Else (feature 4 > 2.0)\n",
        "     If (feature 4 <= 12.0)\n",
        "      If (feature 5 <= 0.03587603569030762)\n",
        "       If (feature 5 <= 0.01073312759399414)\n",
        "        Predict: 6892.25\n",
        "       Else (feature 5 > 0.01073312759399414)\n",
        "        Predict: 3887.0\n",
        "      Else (feature 5 > 0.03587603569030762)\n",
        "       Predict: 8933.0\n",
        "     Else (feature 4 > 12.0)\n",
        "      If (feature 1 <= 1.0)\n",
        "       If (feature 4 <= 21.0)\n",
        "        Predict: 6269.0\n",
        "       Else (feature 4 > 21.0)\n",
        "        Predict: 2468.75\n",
        "      Else (feature 1 > 1.0)\n",
        "       Predict: 591.0\n",
        "  Else (feature 1 > 2.0)\n",
        "   If (feature 4 <= 2.0)\n",
        "    Predict: 134336.0\n",
        "   Else (feature 4 > 2.0)\n",
        "    If (feature 6 <= 17.0)\n",
        "     If (feature 6 <= 6.0)\n",
        "      Predict: 4930.0\n",
        "     Else (feature 6 > 6.0)\n",
        "      If (feature 0 <= 0.001241)\n",
        "       Predict: 424.0\n",
        "      Else (feature 0 > 0.001241)\n",
        "       Predict: 1388.0\n",
        "    Else (feature 6 > 17.0)\n",
        "     If (feature 5 <= 0.01073312759399414)\n",
        "      If (feature 6 <= 45.0)\n",
        "       If (feature 4 <= 21.0)\n",
        "        Predict: 6134.0\n",
        "       Else (feature 4 > 21.0)\n",
        "        Predict: 6251.0\n",
        "      Else (feature 6 > 45.0)\n",
        "       Predict: 6719.0\n",
        "     Else (feature 5 > 0.01073312759399414)\n",
        "      Predict: 5501.0\n",
        "\n"
       ]
      }
     ],
     "prompt_number": 87
    },
    {
     "cell_type": "code",
     "collapsed": false,
     "input": [
      "# \n",
      "plt.xlabel(\"response\")\n",
      "plt.ylabel(\"prediction\")\n",
      "plt.scatter(*zip(*labelsAndPredictions.collect()))"
     ],
     "language": "python",
     "metadata": {},
     "outputs": [
      {
       "metadata": {},
       "output_type": "pyout",
       "prompt_number": 88,
       "text": [
        "<matplotlib.collections.PathCollection at 0x47b19d0>"
       ]
      },
      {
       "html": [
        "\n",
        "\n",
        "<style>\n",
        "\n",
        "</style>\n",
        "\n",
        "<div id=\"fig_el882373049424426213512\"></div>\n",
        "<script>\n",
        "function mpld3_load_lib(url, callback){\n",
        "  var s = document.createElement('script');\n",
        "  s.src = url;\n",
        "  s.async = true;\n",
        "  s.onreadystatechange = s.onload = callback;\n",
        "  s.onerror = function(){console.warn(\"failed to load library \" + url);};\n",
        "  document.getElementsByTagName(\"head\")[0].appendChild(s);\n",
        "}\n",
        "\n",
        "if(typeof(mpld3) !== \"undefined\" && mpld3._mpld3IsLoaded){\n",
        "   // already loaded: just create the figure\n",
        "   !function(mpld3){\n",
        "       \n",
        "       mpld3.draw_figure(\"fig_el882373049424426213512\", {\"axes\": [{\"xlim\": [-50000.0, 300000.0], \"yscale\": \"linear\", \"axesbg\": \"#FFFFFF\", \"texts\": [{\"v_baseline\": \"hanging\", \"h_anchor\": \"middle\", \"color\": \"#000000\", \"text\": \"response\", \"coordinates\": \"axes\", \"zorder\": 3, \"alpha\": 1, \"fontsize\": 10.0, \"position\": [0.5, -0.080645161290322578], \"rotation\": -0.0, \"id\": \"el882377753552\"}, {\"v_baseline\": \"auto\", \"h_anchor\": \"middle\", \"color\": \"#000000\", \"text\": \"prediction\", \"coordinates\": \"axes\", \"zorder\": 3, \"alpha\": 1, \"fontsize\": 10.0, \"position\": [-0.11727150537634411, 0.5], \"rotation\": -90.0, \"id\": \"el882365737552\"}], \"zoomable\": true, \"images\": [], \"xdomain\": [-50000.0, 300000.0], \"ylim\": [0.0, 10000.0], \"paths\": [], \"sharey\": [], \"sharex\": [], \"axesbgalpha\": null, \"axes\": [{\"scale\": \"linear\", \"tickformat\": null, \"grid\": {\"gridOn\": false}, \"fontsize\": 10.0, \"position\": \"bottom\", \"nticks\": 8, \"tickvalues\": null}, {\"scale\": \"linear\", \"tickformat\": null, \"grid\": {\"gridOn\": false}, \"fontsize\": 10.0, \"position\": \"left\", \"nticks\": 6, \"tickvalues\": null}], \"lines\": [], \"markers\": [], \"id\": \"el882372966032\", \"ydomain\": [0.0, 10000.0], \"collections\": [{\"paths\": [[[[0.0, -0.5], [0.13260155, -0.5], [0.25978993539242673, -0.44731684579412084], [0.3535533905932738, -0.3535533905932738], [0.44731684579412084, -0.25978993539242673], [0.5, -0.13260155], [0.5, 0.0], [0.5, 0.13260155], [0.44731684579412084, 0.25978993539242673], [0.3535533905932738, 0.3535533905932738], [0.25978993539242673, 0.44731684579412084], [0.13260155, 0.5], [0.0, 0.5], [-0.13260155, 0.5], [-0.25978993539242673, 0.44731684579412084], [-0.3535533905932738, 0.3535533905932738], [-0.44731684579412084, 0.25978993539242673], [-0.5, 0.13260155], [-0.5, 0.0], [-0.5, -0.13260155], [-0.44731684579412084, -0.25978993539242673], [-0.3535533905932738, -0.3535533905932738], [-0.25978993539242673, -0.44731684579412084], [-0.13260155, -0.5], [0.0, -0.5]], [\"M\", \"C\", \"C\", \"C\", \"C\", \"C\", \"C\", \"C\", \"C\", \"Z\"]]], \"edgecolors\": [\"#000000\"], \"edgewidths\": [1.0], \"offsets\": \"data01\", \"yindex\": 1, \"id\": \"el882375176400\", \"pathtransforms\": [[4.969039949999533, 0.0, 0.0, 4.969039949999533, 0.0, 0.0]], \"pathcoordinates\": \"display\", \"offsetcoordinates\": \"data\", \"zorder\": 1, \"xindex\": 0, \"alphas\": [null], \"facecolors\": [\"#0000FF\"]}], \"xscale\": \"linear\", \"bbox\": [0.125, 0.125, 0.77500000000000002, 0.77500000000000002]}], \"height\": 320.0, \"width\": 480.0, \"plugins\": [{\"type\": \"reset\"}, {\"enabled\": false, \"button\": true, \"type\": \"zoom\"}, {\"enabled\": false, \"button\": true, \"type\": \"boxzoom\"}], \"data\": {\"data01\": [[273816.0, 8933.0], [13268.0, 8933.0], [1192.0, 6269.0], [5430.0, 1388.0], [426.0, 425.7412587412587], [426.0, 425.7412587412587], [426.0, 425.7412587412587], [426.0, 425.9268292682927], [424.0, 425.7412587412587], [425.0, 425.7412587412587], [426.0, 425.7412587412587], [426.0, 425.6923076923077], [426.0, 425.7412587412587], [1105.0, 1102.6666666666667], [426.0, 425.7412587412587], [5377.0, 5501.0], [1094.0, 1094.0], [426.0, 426.0], [426.0, 425.7412587412587], [6552.0, 6719.0], [426.0, 425.8888888888889], [426.0, 425.8888888888889], [424.0, 426.0], [426.0, 426.0], [7101.0, 1388.0], [638.0, 2468.75], [639.0, 2468.75], [426.0, 425.7412587412587], [425.0, 426.0], [426.0, 425.7412587412587], [426.0, 425.7412587412587], [426.0, 425.6923076923077], [426.0, 425.7412587412587], [425.0, 425.7412587412587], [426.0, 425.7412587412587], [425.0, 425.7412587412587], [424.0, 425.7412587412587], [426.0, 425.7412587412587], [426.0, 425.7412587412587], [424.0, 425.7412587412587], [426.0, 425.9268292682927], [426.0, 425.9268292682927], [426.0, 425.7412587412587], [426.0, 425.9268292682927], [426.0, 425.7412587412587], [426.0, 425.7412587412587], [426.0, 425.7412587412587], [426.0, 425.9268292682927], [425.0, 425.7412587412587], [426.0, 425.9268292682927], [425.0, 425.7412587412587], [425.0, 425.9268292682927], [426.0, 425.7412587412587], [425.0, 425.7412587412587], [426.0, 425.7412587412587], [426.0, 425.7412587412587], [426.0, 425.7412587412587], [426.0, 425.7412587412587], [426.0, 425.7412587412587], [426.0, 425.9268292682927], [425.0, 425.7412587412587], [426.0, 425.7412587412587], [426.0, 425.7412587412587], [426.0, 425.7412587412587], [426.0, 425.7412587412587], [424.0, 425.7412587412587], [425.0, 425.7412587412587], [426.0, 425.7412587412587], [426.0, 425.7412587412587], [426.0, 425.7412587412587], [424.0, 425.7412587412587], [426.0, 425.7412587412587], [426.0, 425.7412587412587], [426.0, 425.7412587412587], [426.0, 425.9268292682927], [425.0, 425.7412587412587], [426.0, 426.0], [426.0, 425.7412587412587], [426.0, 425.7412587412587], [426.0, 426.0], [426.0, 425.7412587412587], [426.0, 425.7412587412587], [426.0, 426.0], [425.0, 1091.0], [426.0, 425.7412587412587], [426.0, 425.7412587412587], [425.0, 425.7412587412587], [426.0, 425.7412587412587], [426.0, 425.7412587412587], [426.0, 425.7412587412587], [426.0, 425.7412587412587], [426.0, 425.8888888888889], [425.0, 425.9268292682927], [426.0, 425.7412587412587], [424.0, 425.9268292682927], [426.0, 425.7412587412587], [426.0, 426.0], [425.0, 425.8888888888889], [425.0, 425.7412587412587], [426.0, 425.7412587412587], [426.0, 425.8888888888889], [425.0, 425.7412587412587], [426.0, 425.8888888888889], [426.0, 425.7412587412587], [426.0, 425.7412587412587], [425.0, 426.0], [425.0, 426.0], [426.0, 425.8888888888889], [426.0, 425.8888888888889], [426.0, 426.0], [426.0, 426.0], [426.0, 426.0], [426.0, 425.6923076923077], [426.0, 425.8888888888889], [426.0, 425.8888888888889], [425.0, 425.8888888888889], [426.0, 426.0], [426.0, 425.8888888888889], [425.0, 426.0], [1108.0, 591.0], [591.0, 591.0], [621.0, 2468.75], [426.0, 425.7412587412587], [425.0, 425.7412587412587], [425.0, 425.7412587412587], [426.0, 425.7412587412587], [426.0, 425.7412587412587], [426.0, 425.9268292682927], [426.0, 425.7412587412587], [426.0, 425.9268292682927]]}, \"id\": \"el882373049424\"});\n",
        "   }(mpld3);\n",
        "}else if(typeof define === \"function\" && define.amd){\n",
        "   // require.js is available: use it to load d3/mpld3\n",
        "   require.config({paths: {d3: \"https://mpld3.github.io/js/d3.v3.min\"}});\n",
        "   require([\"d3\"], function(d3){\n",
        "      window.d3 = d3;\n",
        "      mpld3_load_lib(\"https://mpld3.github.io/js/mpld3.v0.2.js\", function(){\n",
        "         \n",
        "         mpld3.draw_figure(\"fig_el882373049424426213512\", {\"axes\": [{\"xlim\": [-50000.0, 300000.0], \"yscale\": \"linear\", \"axesbg\": \"#FFFFFF\", \"texts\": [{\"v_baseline\": \"hanging\", \"h_anchor\": \"middle\", \"color\": \"#000000\", \"text\": \"response\", \"coordinates\": \"axes\", \"zorder\": 3, \"alpha\": 1, \"fontsize\": 10.0, \"position\": [0.5, -0.080645161290322578], \"rotation\": -0.0, \"id\": \"el882377753552\"}, {\"v_baseline\": \"auto\", \"h_anchor\": \"middle\", \"color\": \"#000000\", \"text\": \"prediction\", \"coordinates\": \"axes\", \"zorder\": 3, \"alpha\": 1, \"fontsize\": 10.0, \"position\": [-0.11727150537634411, 0.5], \"rotation\": -90.0, \"id\": \"el882365737552\"}], \"zoomable\": true, \"images\": [], \"xdomain\": [-50000.0, 300000.0], \"ylim\": [0.0, 10000.0], \"paths\": [], \"sharey\": [], \"sharex\": [], \"axesbgalpha\": null, \"axes\": [{\"scale\": \"linear\", \"tickformat\": null, \"grid\": {\"gridOn\": false}, \"fontsize\": 10.0, \"position\": \"bottom\", \"nticks\": 8, \"tickvalues\": null}, {\"scale\": \"linear\", \"tickformat\": null, \"grid\": {\"gridOn\": false}, \"fontsize\": 10.0, \"position\": \"left\", \"nticks\": 6, \"tickvalues\": null}], \"lines\": [], \"markers\": [], \"id\": \"el882372966032\", \"ydomain\": [0.0, 10000.0], \"collections\": [{\"paths\": [[[[0.0, -0.5], [0.13260155, -0.5], [0.25978993539242673, -0.44731684579412084], [0.3535533905932738, -0.3535533905932738], [0.44731684579412084, -0.25978993539242673], [0.5, -0.13260155], [0.5, 0.0], [0.5, 0.13260155], [0.44731684579412084, 0.25978993539242673], [0.3535533905932738, 0.3535533905932738], [0.25978993539242673, 0.44731684579412084], [0.13260155, 0.5], [0.0, 0.5], [-0.13260155, 0.5], [-0.25978993539242673, 0.44731684579412084], [-0.3535533905932738, 0.3535533905932738], [-0.44731684579412084, 0.25978993539242673], [-0.5, 0.13260155], [-0.5, 0.0], [-0.5, -0.13260155], [-0.44731684579412084, -0.25978993539242673], [-0.3535533905932738, -0.3535533905932738], [-0.25978993539242673, -0.44731684579412084], [-0.13260155, -0.5], [0.0, -0.5]], [\"M\", \"C\", \"C\", \"C\", \"C\", \"C\", \"C\", \"C\", \"C\", \"Z\"]]], \"edgecolors\": [\"#000000\"], \"edgewidths\": [1.0], \"offsets\": \"data01\", \"yindex\": 1, \"id\": \"el882375176400\", \"pathtransforms\": [[4.969039949999533, 0.0, 0.0, 4.969039949999533, 0.0, 0.0]], \"pathcoordinates\": \"display\", \"offsetcoordinates\": \"data\", \"zorder\": 1, \"xindex\": 0, \"alphas\": [null], \"facecolors\": [\"#0000FF\"]}], \"xscale\": \"linear\", \"bbox\": [0.125, 0.125, 0.77500000000000002, 0.77500000000000002]}], \"height\": 320.0, \"width\": 480.0, \"plugins\": [{\"type\": \"reset\"}, {\"enabled\": false, \"button\": true, \"type\": \"zoom\"}, {\"enabled\": false, \"button\": true, \"type\": \"boxzoom\"}], \"data\": {\"data01\": [[273816.0, 8933.0], [13268.0, 8933.0], [1192.0, 6269.0], [5430.0, 1388.0], [426.0, 425.7412587412587], [426.0, 425.7412587412587], [426.0, 425.7412587412587], [426.0, 425.9268292682927], [424.0, 425.7412587412587], [425.0, 425.7412587412587], [426.0, 425.7412587412587], [426.0, 425.6923076923077], [426.0, 425.7412587412587], [1105.0, 1102.6666666666667], [426.0, 425.7412587412587], [5377.0, 5501.0], [1094.0, 1094.0], [426.0, 426.0], [426.0, 425.7412587412587], [6552.0, 6719.0], [426.0, 425.8888888888889], [426.0, 425.8888888888889], [424.0, 426.0], [426.0, 426.0], [7101.0, 1388.0], [638.0, 2468.75], [639.0, 2468.75], [426.0, 425.7412587412587], [425.0, 426.0], [426.0, 425.7412587412587], [426.0, 425.7412587412587], [426.0, 425.6923076923077], [426.0, 425.7412587412587], [425.0, 425.7412587412587], [426.0, 425.7412587412587], [425.0, 425.7412587412587], [424.0, 425.7412587412587], [426.0, 425.7412587412587], [426.0, 425.7412587412587], [424.0, 425.7412587412587], [426.0, 425.9268292682927], [426.0, 425.9268292682927], [426.0, 425.7412587412587], [426.0, 425.9268292682927], [426.0, 425.7412587412587], [426.0, 425.7412587412587], [426.0, 425.7412587412587], [426.0, 425.9268292682927], [425.0, 425.7412587412587], [426.0, 425.9268292682927], [425.0, 425.7412587412587], [425.0, 425.9268292682927], [426.0, 425.7412587412587], [425.0, 425.7412587412587], [426.0, 425.7412587412587], [426.0, 425.7412587412587], [426.0, 425.7412587412587], [426.0, 425.7412587412587], [426.0, 425.7412587412587], [426.0, 425.9268292682927], [425.0, 425.7412587412587], [426.0, 425.7412587412587], [426.0, 425.7412587412587], [426.0, 425.7412587412587], [426.0, 425.7412587412587], [424.0, 425.7412587412587], [425.0, 425.7412587412587], [426.0, 425.7412587412587], [426.0, 425.7412587412587], [426.0, 425.7412587412587], [424.0, 425.7412587412587], [426.0, 425.7412587412587], [426.0, 425.7412587412587], [426.0, 425.7412587412587], [426.0, 425.9268292682927], [425.0, 425.7412587412587], [426.0, 426.0], [426.0, 425.7412587412587], [426.0, 425.7412587412587], [426.0, 426.0], [426.0, 425.7412587412587], [426.0, 425.7412587412587], [426.0, 426.0], [425.0, 1091.0], [426.0, 425.7412587412587], [426.0, 425.7412587412587], [425.0, 425.7412587412587], [426.0, 425.7412587412587], [426.0, 425.7412587412587], [426.0, 425.7412587412587], [426.0, 425.7412587412587], [426.0, 425.8888888888889], [425.0, 425.9268292682927], [426.0, 425.7412587412587], [424.0, 425.9268292682927], [426.0, 425.7412587412587], [426.0, 426.0], [425.0, 425.8888888888889], [425.0, 425.7412587412587], [426.0, 425.7412587412587], [426.0, 425.8888888888889], [425.0, 425.7412587412587], [426.0, 425.8888888888889], [426.0, 425.7412587412587], [426.0, 425.7412587412587], [425.0, 426.0], [425.0, 426.0], [426.0, 425.8888888888889], [426.0, 425.8888888888889], [426.0, 426.0], [426.0, 426.0], [426.0, 426.0], [426.0, 425.6923076923077], [426.0, 425.8888888888889], [426.0, 425.8888888888889], [425.0, 425.8888888888889], [426.0, 426.0], [426.0, 425.8888888888889], [425.0, 426.0], [1108.0, 591.0], [591.0, 591.0], [621.0, 2468.75], [426.0, 425.7412587412587], [425.0, 425.7412587412587], [425.0, 425.7412587412587], [426.0, 425.7412587412587], [426.0, 425.7412587412587], [426.0, 425.9268292682927], [426.0, 425.7412587412587], [426.0, 425.9268292682927]]}, \"id\": \"el882373049424\"});\n",
        "      });\n",
        "    });\n",
        "}else{\n",
        "    // require.js not available: dynamically load d3 & mpld3\n",
        "    mpld3_load_lib(\"https://mpld3.github.io/js/d3.v3.min.js\", function(){\n",
        "         mpld3_load_lib(\"https://mpld3.github.io/js/mpld3.v0.2.js\", function(){\n",
        "                 \n",
        "                 mpld3.draw_figure(\"fig_el882373049424426213512\", {\"axes\": [{\"xlim\": [-50000.0, 300000.0], \"yscale\": \"linear\", \"axesbg\": \"#FFFFFF\", \"texts\": [{\"v_baseline\": \"hanging\", \"h_anchor\": \"middle\", \"color\": \"#000000\", \"text\": \"response\", \"coordinates\": \"axes\", \"zorder\": 3, \"alpha\": 1, \"fontsize\": 10.0, \"position\": [0.5, -0.080645161290322578], \"rotation\": -0.0, \"id\": \"el882377753552\"}, {\"v_baseline\": \"auto\", \"h_anchor\": \"middle\", \"color\": \"#000000\", \"text\": \"prediction\", \"coordinates\": \"axes\", \"zorder\": 3, \"alpha\": 1, \"fontsize\": 10.0, \"position\": [-0.11727150537634411, 0.5], \"rotation\": -90.0, \"id\": \"el882365737552\"}], \"zoomable\": true, \"images\": [], \"xdomain\": [-50000.0, 300000.0], \"ylim\": [0.0, 10000.0], \"paths\": [], \"sharey\": [], \"sharex\": [], \"axesbgalpha\": null, \"axes\": [{\"scale\": \"linear\", \"tickformat\": null, \"grid\": {\"gridOn\": false}, \"fontsize\": 10.0, \"position\": \"bottom\", \"nticks\": 8, \"tickvalues\": null}, {\"scale\": \"linear\", \"tickformat\": null, \"grid\": {\"gridOn\": false}, \"fontsize\": 10.0, \"position\": \"left\", \"nticks\": 6, \"tickvalues\": null}], \"lines\": [], \"markers\": [], \"id\": \"el882372966032\", \"ydomain\": [0.0, 10000.0], \"collections\": [{\"paths\": [[[[0.0, -0.5], [0.13260155, -0.5], [0.25978993539242673, -0.44731684579412084], [0.3535533905932738, -0.3535533905932738], [0.44731684579412084, -0.25978993539242673], [0.5, -0.13260155], [0.5, 0.0], [0.5, 0.13260155], [0.44731684579412084, 0.25978993539242673], [0.3535533905932738, 0.3535533905932738], [0.25978993539242673, 0.44731684579412084], [0.13260155, 0.5], [0.0, 0.5], [-0.13260155, 0.5], [-0.25978993539242673, 0.44731684579412084], [-0.3535533905932738, 0.3535533905932738], [-0.44731684579412084, 0.25978993539242673], [-0.5, 0.13260155], [-0.5, 0.0], [-0.5, -0.13260155], [-0.44731684579412084, -0.25978993539242673], [-0.3535533905932738, -0.3535533905932738], [-0.25978993539242673, -0.44731684579412084], [-0.13260155, -0.5], [0.0, -0.5]], [\"M\", \"C\", \"C\", \"C\", \"C\", \"C\", \"C\", \"C\", \"C\", \"Z\"]]], \"edgecolors\": [\"#000000\"], \"edgewidths\": [1.0], \"offsets\": \"data01\", \"yindex\": 1, \"id\": \"el882375176400\", \"pathtransforms\": [[4.969039949999533, 0.0, 0.0, 4.969039949999533, 0.0, 0.0]], \"pathcoordinates\": \"display\", \"offsetcoordinates\": \"data\", \"zorder\": 1, \"xindex\": 0, \"alphas\": [null], \"facecolors\": [\"#0000FF\"]}], \"xscale\": \"linear\", \"bbox\": [0.125, 0.125, 0.77500000000000002, 0.77500000000000002]}], \"height\": 320.0, \"width\": 480.0, \"plugins\": [{\"type\": \"reset\"}, {\"enabled\": false, \"button\": true, \"type\": \"zoom\"}, {\"enabled\": false, \"button\": true, \"type\": \"boxzoom\"}], \"data\": {\"data01\": [[273816.0, 8933.0], [13268.0, 8933.0], [1192.0, 6269.0], [5430.0, 1388.0], [426.0, 425.7412587412587], [426.0, 425.7412587412587], [426.0, 425.7412587412587], [426.0, 425.9268292682927], [424.0, 425.7412587412587], [425.0, 425.7412587412587], [426.0, 425.7412587412587], [426.0, 425.6923076923077], [426.0, 425.7412587412587], [1105.0, 1102.6666666666667], [426.0, 425.7412587412587], [5377.0, 5501.0], [1094.0, 1094.0], [426.0, 426.0], [426.0, 425.7412587412587], [6552.0, 6719.0], [426.0, 425.8888888888889], [426.0, 425.8888888888889], [424.0, 426.0], [426.0, 426.0], [7101.0, 1388.0], [638.0, 2468.75], [639.0, 2468.75], [426.0, 425.7412587412587], [425.0, 426.0], [426.0, 425.7412587412587], [426.0, 425.7412587412587], [426.0, 425.6923076923077], [426.0, 425.7412587412587], [425.0, 425.7412587412587], [426.0, 425.7412587412587], [425.0, 425.7412587412587], [424.0, 425.7412587412587], [426.0, 425.7412587412587], [426.0, 425.7412587412587], [424.0, 425.7412587412587], [426.0, 425.9268292682927], [426.0, 425.9268292682927], [426.0, 425.7412587412587], [426.0, 425.9268292682927], [426.0, 425.7412587412587], [426.0, 425.7412587412587], [426.0, 425.7412587412587], [426.0, 425.9268292682927], [425.0, 425.7412587412587], [426.0, 425.9268292682927], [425.0, 425.7412587412587], [425.0, 425.9268292682927], [426.0, 425.7412587412587], [425.0, 425.7412587412587], [426.0, 425.7412587412587], [426.0, 425.7412587412587], [426.0, 425.7412587412587], [426.0, 425.7412587412587], [426.0, 425.7412587412587], [426.0, 425.9268292682927], [425.0, 425.7412587412587], [426.0, 425.7412587412587], [426.0, 425.7412587412587], [426.0, 425.7412587412587], [426.0, 425.7412587412587], [424.0, 425.7412587412587], [425.0, 425.7412587412587], [426.0, 425.7412587412587], [426.0, 425.7412587412587], [426.0, 425.7412587412587], [424.0, 425.7412587412587], [426.0, 425.7412587412587], [426.0, 425.7412587412587], [426.0, 425.7412587412587], [426.0, 425.9268292682927], [425.0, 425.7412587412587], [426.0, 426.0], [426.0, 425.7412587412587], [426.0, 425.7412587412587], [426.0, 426.0], [426.0, 425.7412587412587], [426.0, 425.7412587412587], [426.0, 426.0], [425.0, 1091.0], [426.0, 425.7412587412587], [426.0, 425.7412587412587], [425.0, 425.7412587412587], [426.0, 425.7412587412587], [426.0, 425.7412587412587], [426.0, 425.7412587412587], [426.0, 425.7412587412587], [426.0, 425.8888888888889], [425.0, 425.9268292682927], [426.0, 425.7412587412587], [424.0, 425.9268292682927], [426.0, 425.7412587412587], [426.0, 426.0], [425.0, 425.8888888888889], [425.0, 425.7412587412587], [426.0, 425.7412587412587], [426.0, 425.8888888888889], [425.0, 425.7412587412587], [426.0, 425.8888888888889], [426.0, 425.7412587412587], [426.0, 425.7412587412587], [425.0, 426.0], [425.0, 426.0], [426.0, 425.8888888888889], [426.0, 425.8888888888889], [426.0, 426.0], [426.0, 426.0], [426.0, 426.0], [426.0, 425.6923076923077], [426.0, 425.8888888888889], [426.0, 425.8888888888889], [425.0, 425.8888888888889], [426.0, 426.0], [426.0, 425.8888888888889], [425.0, 426.0], [1108.0, 591.0], [591.0, 591.0], [621.0, 2468.75], [426.0, 425.7412587412587], [425.0, 425.7412587412587], [425.0, 425.7412587412587], [426.0, 425.7412587412587], [426.0, 425.7412587412587], [426.0, 425.9268292682927], [426.0, 425.7412587412587], [426.0, 425.9268292682927]]}, \"id\": \"el882373049424\"});\n",
        "            })\n",
        "         });\n",
        "}\n",
        "</script>"
       ],
       "metadata": {},
       "output_type": "display_data",
       "png": "[encoded data removed]",
       "text": [
        "<matplotlib.figure.Figure at 0x45aa550>"
       ]
      }
     ],
     "prompt_number": 88
    },
    {
     "cell_type": "code",
     "collapsed": false,
     "input": [],
     "language": "python",
     "metadata": {},
     "outputs": [],
     "prompt_number": 88
    },
    {
     "cell_type": "markdown",
     "metadata": {},
     "source": [
      "# Random Forest"
     ]
    },
    {
     "cell_type": "code",
     "collapsed": false,
     "input": [
      "from pyspark.mllib.tree import RandomForest\n",
      "\n",
      "# Train a Random Forest\n",
      "#  Empty categoricalFeaturesInfo indicates all features are continuous.\n",
      "model = RandomForest.trainRegressor(trainingData, categoricalFeaturesInfo={},\n",
      "                                    numTrees=3, featureSubsetStrategy=\"auto\",\n",
      "                                    impurity=\"variance\", maxDepth=4, maxBins=32)\n",
      "\n",
      "# Evaluate model on test instances and compute test error\n",
      "predictions = model.predict(testData.map(lambda x: x.features))\n",
      "labelsAndPredictions = testData.map(lambda lp: lp.label).zip(predictions)\n",
      "testMSE = labelsAndPredictions.map(lambda (v, p): (v - p) * (v - p)).sum() / float(testData.count())\n",
      "print('Test Mean Squared Error = ' + str(testMSE))\n",
      "print('Learned regression tree model:')\n",
      "#print(model.toDebugString())\n",
      "\n",
      "plt.figure\n",
      "plt.xlabel(\"response\")\n",
      "plt.ylabel(\"prediction\")\n",
      "plt.scatter(*zip(*labelsAndPredictions.collect()))"
     ],
     "language": "python",
     "metadata": {},
     "outputs": [
      {
       "output_type": "stream",
       "stream": "stdout",
       "text": [
        "Test Mean Squared Error = 575807022.342\n",
        "Learned regression tree model:\n"
       ]
      },
      {
       "metadata": {},
       "output_type": "pyout",
       "prompt_number": 116,
       "text": [
        "<matplotlib.collections.PathCollection at 0x73b1d90>"
       ]
      },
      {
       "html": [
        "\n",
        "\n",
        "<style>\n",
        "\n",
        "</style>\n",
        "\n",
        "<div id=\"fig_el8823112524496513694502\"></div>\n",
        "<script>\n",
        "function mpld3_load_lib(url, callback){\n",
        "  var s = document.createElement('script');\n",
        "  s.src = url;\n",
        "  s.async = true;\n",
        "  s.onreadystatechange = s.onload = callback;\n",
        "  s.onerror = function(){console.warn(\"failed to load library \" + url);};\n",
        "  document.getElementsByTagName(\"head\")[0].appendChild(s);\n",
        "}\n",
        "\n",
        "if(typeof(mpld3) !== \"undefined\" && mpld3._mpld3IsLoaded){\n",
        "   // already loaded: just create the figure\n",
        "   !function(mpld3){\n",
        "       \n",
        "       mpld3.draw_figure(\"fig_el8823112524496513694502\", {\"axes\": [{\"xlim\": [-50000.0, 300000.0], \"yscale\": \"linear\", \"axesbg\": \"#FFFFFF\", \"texts\": [{\"v_baseline\": \"hanging\", \"h_anchor\": \"middle\", \"color\": \"#000000\", \"text\": \"response\", \"coordinates\": \"axes\", \"zorder\": 3, \"alpha\": 1, \"fontsize\": 10.0, \"position\": [0.5, -0.080645161290322578], \"rotation\": -0.0, \"id\": \"el8823117078800\"}, {\"v_baseline\": \"auto\", \"h_anchor\": \"middle\", \"color\": \"#000000\", \"text\": \"prediction\", \"coordinates\": \"axes\", \"zorder\": 3, \"alpha\": 1, \"fontsize\": 10.0, \"position\": [-0.14213709677419356, 0.5], \"rotation\": -90.0, \"id\": \"el8823119248016\"}], \"zoomable\": true, \"images\": [], \"xdomain\": [-50000.0, 300000.0], \"ylim\": [-10000.0, 50000.0], \"paths\": [], \"sharey\": [], \"sharex\": [], \"axesbgalpha\": null, \"axes\": [{\"scale\": \"linear\", \"tickformat\": null, \"grid\": {\"gridOn\": false}, \"fontsize\": 10.0, \"position\": \"bottom\", \"nticks\": 8, \"tickvalues\": null}, {\"scale\": \"linear\", \"tickformat\": null, \"grid\": {\"gridOn\": false}, \"fontsize\": 10.0, \"position\": \"left\", \"nticks\": 7, \"tickvalues\": null}], \"lines\": [], \"markers\": [], \"id\": \"el8823117144464\", \"ydomain\": [-10000.0, 50000.0], \"collections\": [{\"paths\": [[[[0.0, -0.5], [0.13260155, -0.5], [0.25978993539242673, -0.44731684579412084], [0.3535533905932738, -0.3535533905932738], [0.44731684579412084, -0.25978993539242673], [0.5, -0.13260155], [0.5, 0.0], [0.5, 0.13260155], [0.44731684579412084, 0.25978993539242673], [0.3535533905932738, 0.3535533905932738], [0.25978993539242673, 0.44731684579412084], [0.13260155, 0.5], [0.0, 0.5], [-0.13260155, 0.5], [-0.25978993539242673, 0.44731684579412084], [-0.3535533905932738, 0.3535533905932738], [-0.44731684579412084, 0.25978993539242673], [-0.5, 0.13260155], [-0.5, 0.0], [-0.5, -0.13260155], [-0.44731684579412084, -0.25978993539242673], [-0.3535533905932738, -0.3535533905932738], [-0.25978993539242673, -0.44731684579412084], [-0.13260155, -0.5], [0.0, -0.5]], [\"M\", \"C\", \"C\", \"C\", \"C\", \"C\", \"C\", \"C\", \"C\", \"Z\"]]], \"edgecolors\": [\"#000000\"], \"edgewidths\": [1.0], \"offsets\": \"data01\", \"yindex\": 1, \"id\": \"el8823121314704\", \"pathtransforms\": [[4.969039949999533, 0.0, 0.0, 4.969039949999533, 0.0, 0.0]], \"pathcoordinates\": \"display\", \"offsetcoordinates\": \"data\", \"zorder\": 1, \"xindex\": 0, \"alphas\": [null], \"facecolors\": [\"#0000FF\"]}], \"xscale\": \"linear\", \"bbox\": [0.125, 0.125, 0.77500000000000002, 0.77500000000000002]}], \"height\": 320.0, \"width\": 480.0, \"plugins\": [{\"type\": \"reset\"}, {\"enabled\": false, \"button\": true, \"type\": \"zoom\"}, {\"enabled\": false, \"button\": true, \"type\": \"boxzoom\"}], \"data\": {\"data01\": [[273816.0, 4173.5], [13268.0, 4173.5], [1192.0, 5573.922222222223], [5430.0, 5211.851851851851], [426.0, 425.83033540016777], [426.0, 425.83033540016777], [426.0, 425.83033540016777], [426.0, 425.83033540016777], [424.0, 425.83033540016777], [425.0, 425.83033540016777], [426.0, 425.83033540016777], [426.0, 869.1912223578892], [426.0, 425.83033540016777], [1105.0, 1050.2162698412699], [426.0, 425.83033540016777], [5377.0, 4252.850427350427], [1094.0, 1050.2162698412699], [426.0, 425.83033540016777], [426.0, 425.82777523631734], [6552.0, 2748.3888888888887], [426.0, 425.83033540016777], [426.0, 425.83033540016777], [424.0, 425.8699877899878], [426.0, 425.9113592500689], [7101.0, 5646.613756613756], [638.0, 3219.2000000000003], [639.0, 3954.2555555555555], [426.0, 425.91760683760685], [425.0, 693.3475650840642], [426.0, 425.83033540016777], [426.0, 425.83033540016777], [426.0, 693.3743969610637], [426.0, 425.86742762613727], [425.0, 457.6028668114089], [426.0, 536.7446925834023], [425.0, 425.83033540016777], [424.0, 425.83033540016777], [426.0, 425.91760683760685], [426.0, 425.8699877899878], [424.0, 425.8802481389578], [426.0, 425.83033540016777], [426.0, 425.91760683760685], [426.0, 425.82777523631734], [426.0, 425.83033540016777], [426.0, 425.83033540016777], [426.0, 425.8405957491379], [426.0, 425.86742762613727], [426.0, 536.7446925834023], [425.0, 425.83033540016777], [426.0, 425.91760683760685], [425.0, 425.83033540016777], [425.0, 425.83033540016777], [426.0, 457.6028668114089], [425.0, 425.82777523631734], [426.0, 425.82777523631734], [426.0, 425.8802481389578], [426.0, 425.91760683760685], [426.0, 425.83033540016777], [426.0, 425.83033540016777], [426.0, 457.6028668114089], [425.0, 425.83033540016777], [426.0, 425.91760683760685], [426.0, 425.8405957491379], [426.0, 457.6425192012289], [426.0, 425.83033540016777], [424.0, 425.8405957491379], [425.0, 425.91760683760685], [426.0, 425.91760683760685], [426.0, 425.83033540016777], [426.0, 425.82777523631734], [424.0, 425.83033540016777], [426.0, 425.86742762613727], [426.0, 425.83033540016777], [426.0, 425.86742762613727], [426.0, 457.6028668114089], [425.0, 425.82777523631734], [426.0, 693.3743969610637], [426.0, 457.6425192012289], [426.0, 425.8405957491379], [426.0, 874.3597920546244], [426.0, 425.86742762613727], [426.0, 457.6028668114089], [426.0, 874.3597920546244], [425.0, 917.0943599558591], [426.0, 425.86742762613727], [426.0, 457.6028668114089], [425.0, 425.82777523631734], [426.0, 425.82777523631734], [426.0, 425.8405957491379], [426.0, 425.83033540016777], [426.0, 425.8802481389578], [426.0, 425.82777523631734], [425.0, 425.82777523631734], [426.0, 425.82777523631734], [424.0, 425.8405957491379], [426.0, 425.91760683760685], [426.0, 425.86742762613727], [425.0, 425.83033540016777], [425.0, 425.83033540016777], [426.0, 425.83033540016777], [426.0, 425.83033540016777], [425.0, 425.91760683760685], [426.0, 425.83033540016777], [426.0, 425.83033540016777], [426.0, 425.8405957491379], [425.0, 425.83033540016777], [425.0, 425.83033540016777], [426.0, 457.6028668114089], [426.0, 425.83033540016777], [426.0, 425.91760683760685], [426.0, 425.8405957491379], [426.0, 425.9113592500689], [426.0, 45062.54462111445], [426.0, 425.83033540016777], [426.0, 425.91760683760685], [425.0, 425.86742762613727], [426.0, 425.8405957491379], [426.0, 425.83033540016777], [425.0, 425.82777523631734], [1108.0, 4261.866666666667], [591.0, 3219.2000000000003], [621.0, 552.0], [426.0, 425.83033540016777], [425.0, 425.83033540016777], [425.0, 457.6530460228784], [426.0, 425.83033540016777], [426.0, 425.82777523631734], [426.0, 425.86742762613727], [426.0, 425.86742762613727], [426.0, 457.6425192012289]]}, \"id\": \"el8823112524496\"});\n",
        "   }(mpld3);\n",
        "}else if(typeof define === \"function\" && define.amd){\n",
        "   // require.js is available: use it to load d3/mpld3\n",
        "   require.config({paths: {d3: \"https://mpld3.github.io/js/d3.v3.min\"}});\n",
        "   require([\"d3\"], function(d3){\n",
        "      window.d3 = d3;\n",
        "      mpld3_load_lib(\"https://mpld3.github.io/js/mpld3.v0.2.js\", function(){\n",
        "         \n",
        "         mpld3.draw_figure(\"fig_el8823112524496513694502\", {\"axes\": [{\"xlim\": [-50000.0, 300000.0], \"yscale\": \"linear\", \"axesbg\": \"#FFFFFF\", \"texts\": [{\"v_baseline\": \"hanging\", \"h_anchor\": \"middle\", \"color\": \"#000000\", \"text\": \"response\", \"coordinates\": \"axes\", \"zorder\": 3, \"alpha\": 1, \"fontsize\": 10.0, \"position\": [0.5, -0.080645161290322578], \"rotation\": -0.0, \"id\": \"el8823117078800\"}, {\"v_baseline\": \"auto\", \"h_anchor\": \"middle\", \"color\": \"#000000\", \"text\": \"prediction\", \"coordinates\": \"axes\", \"zorder\": 3, \"alpha\": 1, \"fontsize\": 10.0, \"position\": [-0.14213709677419356, 0.5], \"rotation\": -90.0, \"id\": \"el8823119248016\"}], \"zoomable\": true, \"images\": [], \"xdomain\": [-50000.0, 300000.0], \"ylim\": [-10000.0, 50000.0], \"paths\": [], \"sharey\": [], \"sharex\": [], \"axesbgalpha\": null, \"axes\": [{\"scale\": \"linear\", \"tickformat\": null, \"grid\": {\"gridOn\": false}, \"fontsize\": 10.0, \"position\": \"bottom\", \"nticks\": 8, \"tickvalues\": null}, {\"scale\": \"linear\", \"tickformat\": null, \"grid\": {\"gridOn\": false}, \"fontsize\": 10.0, \"position\": \"left\", \"nticks\": 7, \"tickvalues\": null}], \"lines\": [], \"markers\": [], \"id\": \"el8823117144464\", \"ydomain\": [-10000.0, 50000.0], \"collections\": [{\"paths\": [[[[0.0, -0.5], [0.13260155, -0.5], [0.25978993539242673, -0.44731684579412084], [0.3535533905932738, -0.3535533905932738], [0.44731684579412084, -0.25978993539242673], [0.5, -0.13260155], [0.5, 0.0], [0.5, 0.13260155], [0.44731684579412084, 0.25978993539242673], [0.3535533905932738, 0.3535533905932738], [0.25978993539242673, 0.44731684579412084], [0.13260155, 0.5], [0.0, 0.5], [-0.13260155, 0.5], [-0.25978993539242673, 0.44731684579412084], [-0.3535533905932738, 0.3535533905932738], [-0.44731684579412084, 0.25978993539242673], [-0.5, 0.13260155], [-0.5, 0.0], [-0.5, -0.13260155], [-0.44731684579412084, -0.25978993539242673], [-0.3535533905932738, -0.3535533905932738], [-0.25978993539242673, -0.44731684579412084], [-0.13260155, -0.5], [0.0, -0.5]], [\"M\", \"C\", \"C\", \"C\", \"C\", \"C\", \"C\", \"C\", \"C\", \"Z\"]]], \"edgecolors\": [\"#000000\"], \"edgewidths\": [1.0], \"offsets\": \"data01\", \"yindex\": 1, \"id\": \"el8823121314704\", \"pathtransforms\": [[4.969039949999533, 0.0, 0.0, 4.969039949999533, 0.0, 0.0]], \"pathcoordinates\": \"display\", \"offsetcoordinates\": \"data\", \"zorder\": 1, \"xindex\": 0, \"alphas\": [null], \"facecolors\": [\"#0000FF\"]}], \"xscale\": \"linear\", \"bbox\": [0.125, 0.125, 0.77500000000000002, 0.77500000000000002]}], \"height\": 320.0, \"width\": 480.0, \"plugins\": [{\"type\": \"reset\"}, {\"enabled\": false, \"button\": true, \"type\": \"zoom\"}, {\"enabled\": false, \"button\": true, \"type\": \"boxzoom\"}], \"data\": {\"data01\": [[273816.0, 4173.5], [13268.0, 4173.5], [1192.0, 5573.922222222223], [5430.0, 5211.851851851851], [426.0, 425.83033540016777], [426.0, 425.83033540016777], [426.0, 425.83033540016777], [426.0, 425.83033540016777], [424.0, 425.83033540016777], [425.0, 425.83033540016777], [426.0, 425.83033540016777], [426.0, 869.1912223578892], [426.0, 425.83033540016777], [1105.0, 1050.2162698412699], [426.0, 425.83033540016777], [5377.0, 4252.850427350427], [1094.0, 1050.2162698412699], [426.0, 425.83033540016777], [426.0, 425.82777523631734], [6552.0, 2748.3888888888887], [426.0, 425.83033540016777], [426.0, 425.83033540016777], [424.0, 425.8699877899878], [426.0, 425.9113592500689], [7101.0, 5646.613756613756], [638.0, 3219.2000000000003], [639.0, 3954.2555555555555], [426.0, 425.91760683760685], [425.0, 693.3475650840642], [426.0, 425.83033540016777], [426.0, 425.83033540016777], [426.0, 693.3743969610637], [426.0, 425.86742762613727], [425.0, 457.6028668114089], [426.0, 536.7446925834023], [425.0, 425.83033540016777], [424.0, 425.83033540016777], [426.0, 425.91760683760685], [426.0, 425.8699877899878], [424.0, 425.8802481389578], [426.0, 425.83033540016777], [426.0, 425.91760683760685], [426.0, 425.82777523631734], [426.0, 425.83033540016777], [426.0, 425.83033540016777], [426.0, 425.8405957491379], [426.0, 425.86742762613727], [426.0, 536.7446925834023], [425.0, 425.83033540016777], [426.0, 425.91760683760685], [425.0, 425.83033540016777], [425.0, 425.83033540016777], [426.0, 457.6028668114089], [425.0, 425.82777523631734], [426.0, 425.82777523631734], [426.0, 425.8802481389578], [426.0, 425.91760683760685], [426.0, 425.83033540016777], [426.0, 425.83033540016777], [426.0, 457.6028668114089], [425.0, 425.83033540016777], [426.0, 425.91760683760685], [426.0, 425.8405957491379], [426.0, 457.6425192012289], [426.0, 425.83033540016777], [424.0, 425.8405957491379], [425.0, 425.91760683760685], [426.0, 425.91760683760685], [426.0, 425.83033540016777], [426.0, 425.82777523631734], [424.0, 425.83033540016777], [426.0, 425.86742762613727], [426.0, 425.83033540016777], [426.0, 425.86742762613727], [426.0, 457.6028668114089], [425.0, 425.82777523631734], [426.0, 693.3743969610637], [426.0, 457.6425192012289], [426.0, 425.8405957491379], [426.0, 874.3597920546244], [426.0, 425.86742762613727], [426.0, 457.6028668114089], [426.0, 874.3597920546244], [425.0, 917.0943599558591], [426.0, 425.86742762613727], [426.0, 457.6028668114089], [425.0, 425.82777523631734], [426.0, 425.82777523631734], [426.0, 425.8405957491379], [426.0, 425.83033540016777], [426.0, 425.8802481389578], [426.0, 425.82777523631734], [425.0, 425.82777523631734], [426.0, 425.82777523631734], [424.0, 425.8405957491379], [426.0, 425.91760683760685], [426.0, 425.86742762613727], [425.0, 425.83033540016777], [425.0, 425.83033540016777], [426.0, 425.83033540016777], [426.0, 425.83033540016777], [425.0, 425.91760683760685], [426.0, 425.83033540016777], [426.0, 425.83033540016777], [426.0, 425.8405957491379], [425.0, 425.83033540016777], [425.0, 425.83033540016777], [426.0, 457.6028668114089], [426.0, 425.83033540016777], [426.0, 425.91760683760685], [426.0, 425.8405957491379], [426.0, 425.9113592500689], [426.0, 45062.54462111445], [426.0, 425.83033540016777], [426.0, 425.91760683760685], [425.0, 425.86742762613727], [426.0, 425.8405957491379], [426.0, 425.83033540016777], [425.0, 425.82777523631734], [1108.0, 4261.866666666667], [591.0, 3219.2000000000003], [621.0, 552.0], [426.0, 425.83033540016777], [425.0, 425.83033540016777], [425.0, 457.6530460228784], [426.0, 425.83033540016777], [426.0, 425.82777523631734], [426.0, 425.86742762613727], [426.0, 425.86742762613727], [426.0, 457.6425192012289]]}, \"id\": \"el8823112524496\"});\n",
        "      });\n",
        "    });\n",
        "}else{\n",
        "    // require.js not available: dynamically load d3 & mpld3\n",
        "    mpld3_load_lib(\"https://mpld3.github.io/js/d3.v3.min.js\", function(){\n",
        "         mpld3_load_lib(\"https://mpld3.github.io/js/mpld3.v0.2.js\", function(){\n",
        "                 \n",
        "                 mpld3.draw_figure(\"fig_el8823112524496513694502\", {\"axes\": [{\"xlim\": [-50000.0, 300000.0], \"yscale\": \"linear\", \"axesbg\": \"#FFFFFF\", \"texts\": [{\"v_baseline\": \"hanging\", \"h_anchor\": \"middle\", \"color\": \"#000000\", \"text\": \"response\", \"coordinates\": \"axes\", \"zorder\": 3, \"alpha\": 1, \"fontsize\": 10.0, \"position\": [0.5, -0.080645161290322578], \"rotation\": -0.0, \"id\": \"el8823117078800\"}, {\"v_baseline\": \"auto\", \"h_anchor\": \"middle\", \"color\": \"#000000\", \"text\": \"prediction\", \"coordinates\": \"axes\", \"zorder\": 3, \"alpha\": 1, \"fontsize\": 10.0, \"position\": [-0.14213709677419356, 0.5], \"rotation\": -90.0, \"id\": \"el8823119248016\"}], \"zoomable\": true, \"images\": [], \"xdomain\": [-50000.0, 300000.0], \"ylim\": [-10000.0, 50000.0], \"paths\": [], \"sharey\": [], \"sharex\": [], \"axesbgalpha\": null, \"axes\": [{\"scale\": \"linear\", \"tickformat\": null, \"grid\": {\"gridOn\": false}, \"fontsize\": 10.0, \"position\": \"bottom\", \"nticks\": 8, \"tickvalues\": null}, {\"scale\": \"linear\", \"tickformat\": null, \"grid\": {\"gridOn\": false}, \"fontsize\": 10.0, \"position\": \"left\", \"nticks\": 7, \"tickvalues\": null}], \"lines\": [], \"markers\": [], \"id\": \"el8823117144464\", \"ydomain\": [-10000.0, 50000.0], \"collections\": [{\"paths\": [[[[0.0, -0.5], [0.13260155, -0.5], [0.25978993539242673, -0.44731684579412084], [0.3535533905932738, -0.3535533905932738], [0.44731684579412084, -0.25978993539242673], [0.5, -0.13260155], [0.5, 0.0], [0.5, 0.13260155], [0.44731684579412084, 0.25978993539242673], [0.3535533905932738, 0.3535533905932738], [0.25978993539242673, 0.44731684579412084], [0.13260155, 0.5], [0.0, 0.5], [-0.13260155, 0.5], [-0.25978993539242673, 0.44731684579412084], [-0.3535533905932738, 0.3535533905932738], [-0.44731684579412084, 0.25978993539242673], [-0.5, 0.13260155], [-0.5, 0.0], [-0.5, -0.13260155], [-0.44731684579412084, -0.25978993539242673], [-0.3535533905932738, -0.3535533905932738], [-0.25978993539242673, -0.44731684579412084], [-0.13260155, -0.5], [0.0, -0.5]], [\"M\", \"C\", \"C\", \"C\", \"C\", \"C\", \"C\", \"C\", \"C\", \"Z\"]]], \"edgecolors\": [\"#000000\"], \"edgewidths\": [1.0], \"offsets\": \"data01\", \"yindex\": 1, \"id\": \"el8823121314704\", \"pathtransforms\": [[4.969039949999533, 0.0, 0.0, 4.969039949999533, 0.0, 0.0]], \"pathcoordinates\": \"display\", \"offsetcoordinates\": \"data\", \"zorder\": 1, \"xindex\": 0, \"alphas\": [null], \"facecolors\": [\"#0000FF\"]}], \"xscale\": \"linear\", \"bbox\": [0.125, 0.125, 0.77500000000000002, 0.77500000000000002]}], \"height\": 320.0, \"width\": 480.0, \"plugins\": [{\"type\": \"reset\"}, {\"enabled\": false, \"button\": true, \"type\": \"zoom\"}, {\"enabled\": false, \"button\": true, \"type\": \"boxzoom\"}], \"data\": {\"data01\": [[273816.0, 4173.5], [13268.0, 4173.5], [1192.0, 5573.922222222223], [5430.0, 5211.851851851851], [426.0, 425.83033540016777], [426.0, 425.83033540016777], [426.0, 425.83033540016777], [426.0, 425.83033540016777], [424.0, 425.83033540016777], [425.0, 425.83033540016777], [426.0, 425.83033540016777], [426.0, 869.1912223578892], [426.0, 425.83033540016777], [1105.0, 1050.2162698412699], [426.0, 425.83033540016777], [5377.0, 4252.850427350427], [1094.0, 1050.2162698412699], [426.0, 425.83033540016777], [426.0, 425.82777523631734], [6552.0, 2748.3888888888887], [426.0, 425.83033540016777], [426.0, 425.83033540016777], [424.0, 425.8699877899878], [426.0, 425.9113592500689], [7101.0, 5646.613756613756], [638.0, 3219.2000000000003], [639.0, 3954.2555555555555], [426.0, 425.91760683760685], [425.0, 693.3475650840642], [426.0, 425.83033540016777], [426.0, 425.83033540016777], [426.0, 693.3743969610637], [426.0, 425.86742762613727], [425.0, 457.6028668114089], [426.0, 536.7446925834023], [425.0, 425.83033540016777], [424.0, 425.83033540016777], [426.0, 425.91760683760685], [426.0, 425.8699877899878], [424.0, 425.8802481389578], [426.0, 425.83033540016777], [426.0, 425.91760683760685], [426.0, 425.82777523631734], [426.0, 425.83033540016777], [426.0, 425.83033540016777], [426.0, 425.8405957491379], [426.0, 425.86742762613727], [426.0, 536.7446925834023], [425.0, 425.83033540016777], [426.0, 425.91760683760685], [425.0, 425.83033540016777], [425.0, 425.83033540016777], [426.0, 457.6028668114089], [425.0, 425.82777523631734], [426.0, 425.82777523631734], [426.0, 425.8802481389578], [426.0, 425.91760683760685], [426.0, 425.83033540016777], [426.0, 425.83033540016777], [426.0, 457.6028668114089], [425.0, 425.83033540016777], [426.0, 425.91760683760685], [426.0, 425.8405957491379], [426.0, 457.6425192012289], [426.0, 425.83033540016777], [424.0, 425.8405957491379], [425.0, 425.91760683760685], [426.0, 425.91760683760685], [426.0, 425.83033540016777], [426.0, 425.82777523631734], [424.0, 425.83033540016777], [426.0, 425.86742762613727], [426.0, 425.83033540016777], [426.0, 425.86742762613727], [426.0, 457.6028668114089], [425.0, 425.82777523631734], [426.0, 693.3743969610637], [426.0, 457.6425192012289], [426.0, 425.8405957491379], [426.0, 874.3597920546244], [426.0, 425.86742762613727], [426.0, 457.6028668114089], [426.0, 874.3597920546244], [425.0, 917.0943599558591], [426.0, 425.86742762613727], [426.0, 457.6028668114089], [425.0, 425.82777523631734], [426.0, 425.82777523631734], [426.0, 425.8405957491379], [426.0, 425.83033540016777], [426.0, 425.8802481389578], [426.0, 425.82777523631734], [425.0, 425.82777523631734], [426.0, 425.82777523631734], [424.0, 425.8405957491379], [426.0, 425.91760683760685], [426.0, 425.86742762613727], [425.0, 425.83033540016777], [425.0, 425.83033540016777], [426.0, 425.83033540016777], [426.0, 425.83033540016777], [425.0, 425.91760683760685], [426.0, 425.83033540016777], [426.0, 425.83033540016777], [426.0, 425.8405957491379], [425.0, 425.83033540016777], [425.0, 425.83033540016777], [426.0, 457.6028668114089], [426.0, 425.83033540016777], [426.0, 425.91760683760685], [426.0, 425.8405957491379], [426.0, 425.9113592500689], [426.0, 45062.54462111445], [426.0, 425.83033540016777], [426.0, 425.91760683760685], [425.0, 425.86742762613727], [426.0, 425.8405957491379], [426.0, 425.83033540016777], [425.0, 425.82777523631734], [1108.0, 4261.866666666667], [591.0, 3219.2000000000003], [621.0, 552.0], [426.0, 425.83033540016777], [425.0, 425.83033540016777], [425.0, 457.6530460228784], [426.0, 425.83033540016777], [426.0, 425.82777523631734], [426.0, 425.86742762613727], [426.0, 425.86742762613727], [426.0, 457.6425192012289]]}, \"id\": \"el8823112524496\"});\n",
        "            })\n",
        "         });\n",
        "}\n",
        "</script>"
       ],
       "metadata": {},
       "output_type": "display_data",
       "png": "[encoded data removed]",
       "text": [
        "<matplotlib.figure.Figure at 0x6b4fcd0>"
       ]
      }
     ],
     "prompt_number": 116
    },
    {
     "cell_type": "code",
     "collapsed": false,
     "input": [],
     "language": "python",
     "metadata": {},
     "outputs": [],
     "prompt_number": 116
    },
    {
     "cell_type": "code",
     "collapsed": false,
     "input": [],
     "language": "python",
     "metadata": {},
     "outputs": [],
     "prompt_number": 101
    },
    {
     "cell_type": "markdown",
     "metadata": {},
     "source": [
      "# Gradient Boosted Trees"
     ]
    },
    {
     "cell_type": "code",
     "collapsed": false,
     "input": [
      "from pyspark.mllib.tree import RandomForest"
     ],
     "language": "python",
     "metadata": {},
     "outputs": []
    }
   ],
   "metadata": {}
  }
 ]
}