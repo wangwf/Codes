{
 "metadata": {
  "name": "",
  "signature": "sha256:24a04680a537c65e8fd269ae06d37c9e3ef1572a6fbecc99efb11bdc1be45833"
 },
 "nbformat": 3,
 "nbformat_minor": 0,
 "worksheets": [
  {
   "cells": [
    {
     "cell_type": "markdown",
     "metadata": {},
     "source": [
      "# spark-mongo\n",
      "\n",
      "* read data from mongodb to spark\n",
      "* write data to mongodb from spark\n",
      "\n",
      "SPark + matplotlib + ipython mining pcap"
     ]
    },
    {
     "cell_type": "code",
     "collapsed": false,
     "input": [],
     "language": "python",
     "metadata": {},
     "outputs": [],
     "prompt_number": 528
    },
    {
     "cell_type": "code",
     "collapsed": false,
     "input": [
      "%matplotlib inline\n",
      "import matplotlib.pyplot as plt \n",
      "import mpld3\n",
      "mpld3.enable_notebook()"
     ],
     "language": "python",
     "metadata": {},
     "outputs": [],
     "prompt_number": 4
    },
    {
     "cell_type": "code",
     "collapsed": false,
     "input": [
      "import pymongo\n",
      "\n",
      "#\n",
      "# Connect to MongoDB server\n",
      "#\n",
      "def get_db(host=\"localhost\", port=27017, username=None, password=None, db=\"dataLogs\"):\n",
      "    \"\"\" A util for making a connection to mongo \"\"\"\n",
      "    from pymongo import MongoClient\n",
      "    \n",
      "    if username and password:\n",
      "        mongo_uri = 'mongodb://%s:%s@%s:%s/%s' % (username, password, host, port, db)\n",
      "        conn = MongoClient(mongo_uri)\n",
      "    else:\n",
      "        conn = MongoClient(host, port)\n",
      "\n",
      "    return conn[db]\n",
      "\n",
      "def get_coll(host=\"localhost\", port=27017, username=None, password=None, db=\"dataLogs\",collection=\"logs\"):\n",
      "    db=get_db(host, port, username, password, db)\n",
      "    return db[collection]\n",
      "\n",
      "\n",
      "logs = get_coll('localhost', 27017, None, None,\"dataLogs\", \"logs\")\n",
      "test = get_coll('localhost', 27017, None, None,\"dataLogs\", \"test\")"
     ],
     "language": "python",
     "metadata": {},
     "outputs": [],
     "prompt_number": 8
    },
    {
     "cell_type": "code",
     "collapsed": false,
     "input": [
      "\n",
      "#\n",
      "# output json format\n",
      "# response, request, server, Date, cert, code, requestcount, port, scheme, http,host,ip\n",
      "#\n",
      "# path,Accept-Encoding, Accept-Language,method, msg\n",
      "#\n",
      "#  (note: only content>0 is interesting ? )\n",
      "def dataReshape4(infile, dbname, pattern=\"1#]}\"):\n",
      "    import json\n",
      "\n",
      "    f  = open(infile, \"r\")\n",
      "    text = f.read()\n",
      " \n",
      "    dbname.remove()\n",
      "        \n",
      "    features1=[\"error\",\"response\",\"headers\",\"content\",\"request\"]\n",
      "    features2=[\"X-Frame-Options\",\"X-Xss-Protection\",\"X-Content-Type-Options\",\"X-Ua-Compatible\",\n",
      "               \"X-Xhr-Current-Location\",\"Content-Type\",\"Etag\",\"Cache-Control\",\n",
      "               \"X-Request-Id\",\"X-Runtime\",\n",
      "\n",
      "               \"Server\",\"Date\",\n",
      "               \"Content-Length\",\n",
      "               \"timestamp_end\",\"timestamp_start\", \"Last-Modified\",\n",
      "               \n",
      "               \"cert\",\"code\",\"requestcount\",\n",
      "               #\"httpversion\", # to be investigate\n",
      "               #client_conn\n",
      "               #\"address\",\n",
      "               \"port\",\"scheme\",\"http\",\"path\",\"host\",\"headers\", \"Connection\",\n",
      "               \"ip\",\"Referer\",\n",
      "               \"Accept-Encoding\",\"Accept-Language\",\n",
      "               \"method\",\n",
      "               \"msg\",\n",
      "               #\"address\"\n",
      "               ]\n",
      "    features3 =[\"Set-Cookie\"] #, \"client_conn\", \"Cookie\"]  # =request_method=GET; path=/' or ]\n",
      "\n",
      "    features4 =[\"httpversion\",\"address\"]\n",
      "    '''\n",
      "    features1 = [x.lower() for x in features1]\n",
      "    features2 = [x.lower() for x in features2]\n",
      "    features3 = [x.lower() for x in features3]\n",
      "    features4 = [x.lower() for x in features4]\n",
      "    '''\n",
      "    records=[]\n",
      "    start=0\n",
      "    end = 0\n",
      "    ncon =0\n",
      "    while end>-1:\n",
      "        end  = text.find(pattern, start+4)\n",
      "        line = text[start:end]\n",
      "        start = end+4\n",
      "        \n",
      "        record = {}\n",
      "        cookies= []\n",
      " \n",
      "        # is content format match\n",
      "        iscontent= isContentSizeMatch(line)\n",
      "        record[\"contentMatch\"] = iscontent\n",
      "#        print \"iscontent\",iscontent\n",
      "        #skip all contents\n",
      "        content1 = line.find(\"content,\")\n",
      "        contentStart = line.find(\":\",content1+1)\n",
      "        if contentStart-content1 >len(\"content,0\"):\n",
      "            contentEnd = line.find(\",4:cert,\")\n",
      "            record[\"contentText\"] = line[contentStart:contentEnd]\n",
      "            line = line.replace(line[contentStart:contentEnd],\"\")\n",
      "        else:\n",
      "            record[\"contentText\"] =\"\"\n",
      "\n",
      "#    for line in f:\n",
      "        words = line.split(\":\")\n",
      "\n",
      "#        print  \"length of words\",len(words)\n",
      "\n",
      "        for i in range(len(words)):\n",
      "            # skip fields without comma\n",
      "            if words[i].find(\",\")<0:\n",
      "                continue\n",
      "            ww = words[i].split(\",\")\n",
      "            key=ww[0]\n",
      "            value= ww[1].lower()\n",
      "            #print \"word\",len(ww) #ww, words[i], words[i].find(\",\")\n",
      "            #if i<len(words):\n",
      "            #    print i,ww[1]\n",
      "            if key==\"Content-Length\":\n",
      "                print key,value\n",
      "                ncon += 1\n",
      "            if value.isdigit():\n",
      "                if key in features1:                        \n",
      "                    record[key]= record.get(key) or int(value)\n",
      "                  #  if key==\"content\": print words[i],\"  \",words[i+1]\n",
      "                    \n",
      "                elif key in features2:\n",
      "                    v = words[i+1][:int(value)]\n",
      "                    #record[key]=words[i+1][:int(value)]  #.lower() \n",
      "                    try:\n",
      "                        v=float(v)\n",
      "                    except ValueError:\n",
      "                        pass\n",
      "                    record[key]= record.get(key) or v\n",
      "                    \n",
      "                elif key in features3:\n",
      "#                    cookies.append( words[i+1][:int(value)] )\n",
      "#                    print setCookie(words[i+1][:int(value)])\n",
      "                    cookies.append( setCookie(words[i+1][:int(value)]))\n",
      "#                    cookies=setCookie(words[i+1][:int(value)])\n",
      "                elif key in features4:\n",
      "                    record[key]=words[i+2]\n",
      "            else:\n",
      "                if key in features1+features2:\n",
      "                    print key\n",
      "\n",
      "        record[\"timestampStartEnd\"] = (record.get(\"timestamp_end\") or 0)  - (record.get(\"timestamp_start\") or 0)\n",
      "    \n",
      "        record[\"Num-Cookie\"]=len(cookies) \n",
      "        record[\"Set-Cookie\"]=cookies \n",
      "        \n",
      "        \n",
      "        records.append(record)\n",
      "        dbname.insert(record)\n",
      "        \n",
      "\n",
      "    f.close()\n",
      "    print len(records)\n",
      "    print \"ncon \",ncon\n",
      "    return\n",
      "\n",
      "    \n",
      "def setCookie(cookie):\n",
      "    subfields = cookie.split(\";\")\n",
      "    #print len(subfields)\n",
      "    newcookie =[]\n",
      "    for words in subfields:\n",
      "        ww = words.split(\"=\")\n",
      "        key = ww[0]\n",
      "        value = None\n",
      "        if len(ww)>1: value =ww[1]\n",
      "        newcookie.append({key:value})\n",
      "    #print newcookie\n",
      "    return newcookie\n",
      "\n",
      "\n",
      "'''\n",
      "def getContent2(text, beginPattern=\"<!DOCTYPE\",endPattern=\"</html>\"):\n",
      "    htmlSize=0\n",
      "    start,end=0,0\n",
      "    start = text.find(beginPattern, end)\n",
      "    end   = text.find(endPattern, start)\n",
      "    if end>start: htmlSize = end-start+1 +len(endPattern))\n",
      "    \n",
      "    return htmlSize\n",
      "'''\n",
      "def isContentSizeMatch(text, beginPattern=\",4:cert,0\"):\n",
      "    start = text.find(beginPattern)\n",
      "    return 0 if start>-1 and text[start-1] not in \":;> \\n\" else 1\n",
      "    #print \"wrong\",text[start-10:start+10]\n",
      "\n",
      "\n",
      "infile = \"../dataLogs/learnDataSet.log\"\n",
      "dataReshape4(infile, logs)\n",
      "\n",
      "\n",
      "print \"malformed \"\n",
      "testfile=\"../dataLogs/malformed.log\"\n",
      "dataReshape4(testfile, test)\n"
     ],
     "language": "python",
     "metadata": {},
     "outputs": [
      {
       "output_type": "stream",
       "stream": "stdout",
       "text": [
        "Content-Length 4\n",
        "Content-Length 3\n",
        "Content-Length 5\n",
        "Content-Length 1\n",
        "Content-Length 1\n",
        "Content-Length 1\n",
        "Content-Length 6\n",
        "Content-Length 6\n",
        "Content-Length 5\n",
        "Content-Length 4\n",
        "Content-Length 4\n",
        "Content-Length 4\n",
        "Content-Length 4\n",
        "Content-Length 4\n",
        "Content-Length 4\n",
        "Content-Length 4\n",
        "Content-Length 4\n",
        "Content-Length 4\n",
        "Content-Length 4\n",
        "Content-Length 4\n",
        "Content-Length 2\n",
        "Content-Length 4\n",
        "Content-Length 2\n",
        "Content-Length 4\n",
        "Content-Length 2\n",
        "Content-Length 2\n",
        "Content-Length 3\n",
        "Content-Length 1\n",
        "Content-Length 4\n",
        "Content-Length"
       ]
      },
      {
       "output_type": "stream",
       "stream": "stdout",
       "text": [
        " 2\n",
        "Content-Length 3\n",
        "Content-Length 4\n",
        "Content-Length 4\n",
        "Content-Length"
       ]
      },
      {
       "output_type": "stream",
       "stream": "stdout",
       "text": [
        " 4\n",
        "Content-Length 4\n",
        "Content-Length"
       ]
      },
      {
       "output_type": "stream",
       "stream": "stdout",
       "text": [
        " 4\n",
        "Content-Length 4\n",
        "Content-Length"
       ]
      },
      {
       "output_type": "stream",
       "stream": "stdout",
       "text": [
        " 4\n",
        "Content-Length 4\n",
        "421"
       ]
      },
      {
       "output_type": "stream",
       "stream": "stdout",
       "text": [
        "\n",
        "ncon  39\n",
        "malformed \n",
        "Content-Length 1\n",
        "Content-Length 1\n",
        "Content-Length 1\n",
        "Content-Length"
       ]
      },
      {
       "output_type": "stream",
       "stream": "stdout",
       "text": [
        " 1\n",
        "Content-Length 3\n",
        "420"
       ]
      },
      {
       "output_type": "stream",
       "stream": "stdout",
       "text": [
        "\n",
        "ncon  5\n"
       ]
      }
     ],
     "prompt_number": 22
    },
    {
     "cell_type": "code",
     "collapsed": false,
     "input": [
      "iter=logs.find({\"Content-Length\":{\"$exists\":True}},{\"_id\":0,\"Content-Length\":1})\n",
      "for item in iter: #.count()\n",
      "    print item"
     ],
     "language": "python",
     "metadata": {},
     "outputs": [
      {
       "output_type": "stream",
       "stream": "stdout",
       "text": [
        "{u'Content-Length': 583.0}\n",
        "{u'Content-Length': 31.0}\n",
        "{u'Content-Length': 31.0}\n",
        "{u'Content-Length': 0.0}\n",
        "{u'Content-Length': 3726.0}\n",
        "{u'Content-Length': 513.0}\n",
        "{u'Content-Length': 15477.0}\n",
        "{u'Content-Length': 0.0}\n",
        "{u'Content-Length': 0.0}\n",
        "{u'Content-Length': 0.0}\n",
        "{u'Content-Length': 133735.0}\n",
        "{u'Content-Length': 273200.0}\n",
        "{u'Content-Length': 12654.0}\n",
        "{u'Content-Length': 3485.0}\n",
        "{u'Content-Length': 1758.0}\n",
        "{u'Content-Length': 2526.0}\n",
        "{u'Content-Length': 2843.0}\n",
        "{u'Content-Length': 6059.0}\n",
        "{u'Content-Length': 4737.0}\n",
        "{u'Content-Length': 4657.0}\n",
        "{u'Content-Length': 6657.0}\n",
        "{u'Content-Length': 4414.0}\n",
        "{u'Content-Length': 9912.0}\n",
        "{u'Content-Length': 3498.0}\n",
        "{u'Content-Length': 13.0}\n",
        "{u'Content-Length': 3116.0}\n",
        "{u'Content-Length': 31.0}\n",
        "{u'Content-Length': 8321.0}\n",
        "{u'Content-Length': 4268.0}\n",
        "{u'Content-Length': 167.0}\n",
        "{u'Content-Length': 5889.0}\n",
        "{u'Content-Length': 4974.0}\n",
        "{u'Content-Length': 5085.0}\n",
        "{u'Content-Length': 5091.0}\n",
        "{u'Content-Length': 5544.0}\n",
        "{u'Content-Length': 4340.0}\n",
        "{u'Content-Length': 4214.0}\n",
        "{u'Content-Length': 5383.0}\n"
       ]
      }
     ],
     "prompt_number": 13
    },
    {
     "cell_type": "code",
     "collapsed": false,
     "input": [
      "#\n",
      "# turn categorical-text into numerical value\n",
      "#\n",
      "categoricalFeatures=[\"X-Frame-Options\",\"X-Xss-Protection\",\"X-Content-Type-Options\",\"X-Ua-Compatible\",\n",
      "            \"X-Xhr-Current-Location\",\n",
      "            \"Content-Type\",\"Cache-Control\",\n",
      "            \"Server\",\"httpversion\",\"port\",\"scheme\",\"http\",\"path\",\"host\", \"Connection\",\n",
      "            \"ip\",\"Referer\",\"code\",\n",
      "            \"Accept-Encoding\",\"Accept-Language\",\n",
      "            \"method\",\n",
      "            \"msg\",\n",
      "            \"address\"]\n",
      "\n",
      "\n",
      "def categoricalToNumberical(fields):\n",
      "    for f in fields:\n",
      "        fID=f+\"ID\"\n",
      "        vals=logs.distinct(f)\n",
      "        \n",
      "        if len(vals)<2: continue\n",
      "\n",
      "        for i,v in enumerate(vals):\n",
      "#            print f,v,i\n",
      "            logs.update({f:v}, {\"$set\":{fID: int(i+1) }}, upsert=False, multi=True)\n",
      "\n",
      "categoricalToNumberical(categoricalFeatures)"
     ],
     "language": "python",
     "metadata": {},
     "outputs": [],
     "prompt_number": 28
    },
    {
     "cell_type": "code",
     "collapsed": false,
     "input": [
      "iter = logs.find({\"Content-TypeID\":{\"$exists\":True}},{\"_id\":0, \"Content-Type\":1,\"Content-TypeID\":1})\n",
      "for item in iter: print item\n",
      "#logs.distinct(\"Content-TypeID\")\n",
      "\n",
      "for i,v in enumerate(vals):\n",
      "     print i,v"
     ],
     "language": "python",
     "metadata": {},
     "outputs": [
      {
       "output_type": "stream",
       "stream": "stdout",
       "text": [
        "{u'Content-TypeID': 1, u'Content-Type': u'text/html; charset=utf-8'}\n",
        "{u'Content-TypeID': 3, u'Content-Type': u'application/javascript'}\n",
        "{u'Content-TypeID': 2, u'Content-Type': u'text/css'}\n",
        "{u'Content-TypeID': 3, u'Content-Type': u'application/javascript'}\n",
        "{u'Content-TypeID': 3, u'Content-Type': u'application/javascript'}\n",
        "{u'Content-TypeID': 3, u'Content-Type': u'application/javascript'}\n",
        "{u'Content-TypeID': 3, u'Content-Type': u'application/javascript'}\n",
        "{u'Content-TypeID': 3, u'Content-Type': u'application/javascript'}\n",
        "{u'Content-TypeID': 3, u'Content-Type': u'application/javascript'}\n",
        "{u'Content-TypeID': 3, u'Content-Type': u'application/javascript'}\n",
        "{u'Content-TypeID': 3, u'Content-Type': u'application/javascript'}\n",
        "{u'Content-TypeID': 3, u'Content-Type': u'application/javascript'}\n",
        "{u'Content-TypeID': 3, u'Content-Type': u'application/javascript'}\n",
        "{u'Content-TypeID': 3, u'Content-Type': u'application/javascript'}\n",
        "{u'Content-TypeID': 1, u'Content-Type': u'text/html; charset=utf-8'}\n",
        "{u'Content-TypeID': 1, u'Content-Type': u'text/html; charset=utf-8'}\n",
        "{u'Content-TypeID': 1, u'Content-Type': u'text/html; charset=utf-8'}\n",
        "{u'Content-TypeID': 1, u'Content-Type': u'text/html; charset=utf-8'}\n",
        "{u'Content-TypeID': 1, u'Content-Type': u'text/html; charset=utf-8'}\n",
        "{u'Content-TypeID': 1, u'Content-Type': u'text/html; charset=utf-8'}\n",
        "{u'Content-TypeID': 1, u'Content-Type': u'text/html; charset=utf-8'}\n",
        "{u'Content-TypeID': 1, u'Content-Type': u'text/html; charset=utf-8'}\n",
        "{u'Content-TypeID': 3, u'Content-Type': u'application/javascript'}\n",
        "{u'Content-TypeID': 3, u'Content-Type': u'application/javascript'}\n",
        "{u'Content-TypeID': 3, u'Content-Type': u'application/javascript'}\n",
        "{u'Content-TypeID': 3, u'Content-Type': u'application/javascript'}\n",
        "{u'Content-TypeID': 1, u'Content-Type': u'text/html; charset=utf-8'}\n",
        "{u'Content-TypeID': 3, u'Content-Type': u'application/javascript'}\n",
        "{u'Content-TypeID': 3, u'Content-Type': u'application/javascript'}\n",
        "{u'Content-TypeID': 2, u'Content-Type': u'text/css'}\n",
        "{u'Content-TypeID': 2, u'Content-Type': u'text/css'}\n",
        "{u'Content-TypeID': 1, u'Content-Type': u'text/html; charset=utf-8'}\n",
        "{u'Content-TypeID': 2, u'Content-Type': u'text/css'}\n",
        "{u'Content-TypeID': 2, u'Content-Type': u'text/css'}\n",
        "{u'Content-TypeID': 3, u'Content-Type': u'application/javascript'}\n",
        "{u'Content-TypeID': 4, u'Content-Type': u'image/vnd.microsoft.icon'}\n",
        "{u'Content-TypeID': 3, u'Content-Type': u'application/javascript'}\n",
        "{u'Content-TypeID': 3, u'Content-Type': u'application/javascript'}\n"
       ]
      },
      {
       "ename": "NameError",
       "evalue": "name 'vals' is not defined",
       "output_type": "pyerr",
       "traceback": [
        "\u001b[0;31m---------------------------------------------------------------------------\u001b[0m\n\u001b[0;31mNameError\u001b[0m                                 Traceback (most recent call last)",
        "\u001b[0;32m<ipython-input-29-a9f955edd749>\u001b[0m in \u001b[0;36m<module>\u001b[0;34m()\u001b[0m\n\u001b[1;32m      3\u001b[0m \u001b[0;31m#logs.distinct(\"Content-TypeID\")\u001b[0m\u001b[0;34m\u001b[0m\u001b[0;34m\u001b[0m\u001b[0m\n\u001b[1;32m      4\u001b[0m \u001b[0;34m\u001b[0m\u001b[0m\n\u001b[0;32m----> 5\u001b[0;31m \u001b[0;32mfor\u001b[0m \u001b[0mi\u001b[0m\u001b[0;34m,\u001b[0m\u001b[0mv\u001b[0m \u001b[0;32min\u001b[0m \u001b[0menumerate\u001b[0m\u001b[0;34m(\u001b[0m\u001b[0mvals\u001b[0m\u001b[0;34m)\u001b[0m\u001b[0;34m:\u001b[0m\u001b[0;34m\u001b[0m\u001b[0m\n\u001b[0m\u001b[1;32m      6\u001b[0m      \u001b[0;32mprint\u001b[0m \u001b[0mi\u001b[0m\u001b[0;34m,\u001b[0m\u001b[0mv\u001b[0m\u001b[0;34m\u001b[0m\u001b[0m\n",
        "\u001b[0;31mNameError\u001b[0m: name 'vals' is not defined"
       ]
      }
     ],
     "prompt_number": 29
    },
    {
     "cell_type": "code",
     "collapsed": false,
     "input": [
      "logs.update({\"Content-Type\":\"text/css\"}, {\"$set\":{\"Content-TypeID\": 3 }}, True, True)\n",
      "iter=logs.find({\"Content-Type\":\"text/css\"},{\"_id\":0, \"Content-Type\":1,\"Content-TypeID\":1})\n",
      "for item in iter: print item"
     ],
     "language": "python",
     "metadata": {},
     "outputs": [
      {
       "output_type": "stream",
       "stream": "stdout",
       "text": [
        "{u'Content-TypeID': 3, u'Content-Type': u'text/css'}\n",
        "{u'Content-TypeID': 2, u'Content-Type': u'text/css'}\n",
        "{u'Content-TypeID': 2, u'Content-Type': u'text/css'}\n",
        "{u'Content-TypeID': 2, u'Content-Type': u'text/css'}\n",
        "{u'Content-TypeID': 2, u'Content-Type': u'text/css'}\n"
       ]
      }
     ],
     "prompt_number": 30
    },
    {
     "cell_type": "code",
     "collapsed": false,
     "input": [
      "# \n",
      "# Read sc.newAPIHadoopRDD()\n",
      "# sc.parallelize()\n",
      "#\n",
      "def read_mongo(collection, query={}, projection={\"_id\":0},host='localhost',no_id=True):\n",
      "    \"\"\" Read from Mongo and Store into DataFrame \"\"\"\n",
      "\n",
      "    # Make a query to the specific DB and Collection\n",
      "    cursor = collection.find(query, projection)\n",
      "\n",
      "    # Expand the cursor and construct the DataFrame\n",
      "#    df = pd.DataFrame(list(cursor))\n",
      "    df = sc.parallelize(list(cursor))\n",
      "\n",
      "    # Delete the _id\n",
      "#    if no_id:       del df['_id']\n",
      "\n",
      "    return df\n",
      "\n"
     ],
     "language": "python",
     "metadata": {},
     "outputs": [],
     "prompt_number": 31
    },
    {
     "cell_type": "code",
     "collapsed": false,
     "input": [],
     "language": "python",
     "metadata": {},
     "outputs": [],
     "prompt_number": 31
    },
    {
     "cell_type": "code",
     "collapsed": false,
     "input": [
      "\n",
      "df=read_mongo(logs)\n",
      "#df_test = read_mongo(test)\n",
      "type(df)"
     ],
     "language": "python",
     "metadata": {},
     "outputs": [
      {
       "metadata": {},
       "output_type": "pyout",
       "prompt_number": 32,
       "text": [
        "pyspark.rdd.RDD"
       ]
      }
     ],
     "prompt_number": 32
    },
    {
     "cell_type": "code",
     "collapsed": false,
     "input": [
      "#  data =sc.parallelize(df)\n",
      "\n",
      "#data.take(1)\n"
     ],
     "language": "python",
     "metadata": {},
     "outputs": [],
     "prompt_number": 33
    },
    {
     "cell_type": "code",
     "collapsed": false,
     "input": [
      "numericalFeatures =['response', 'requestcount', 'X-Runtime', 'Num-Cookie', 'timestampStartEnd'] #'timestamp_end', 'timestamp_start' ]\n",
      "\n",
      "proj ={\"_id\": 0}#{\"_id\":0}\n",
      "\n",
      "#for l in numericalFeatures:    proj[l] = 1 #{'$exists':True}\n",
      "categoricalFeaturesID=[l+\"ID\" for l in categoricalFeatures]\n",
      "\n",
      "for l in numericalFeatures+categoricalFeaturesID:\n",
      "    proj[l] =1\n",
      "\n",
      "#proj['timestampStartEnd'] ={ '$add' : [ '$timestamp_end', '$timestamp_start' ] }\n",
      "\n",
      "print proj\n",
      "df=read_mongo(logs,query={}, projection=proj)\n",
      "#df.map(lambda x: x.get(\"pathID\")).collect()"
     ],
     "language": "python",
     "metadata": {},
     "outputs": [
      {
       "output_type": "stream",
       "stream": "stdout",
       "text": [
        "{'X-Ua-CompatibleID': 1, 'portID': 1, 'X-Xss-ProtectionID': 1, 'requestcount': 1, 'codeID': 1, 'pathID': 1, 'httpID': 1, 'X-Xhr-Current-LocationID': 1, 'addressID': 1, 'Accept-LanguageID': 1, 'response': 1, 'X-Runtime': 1, 'httpversionID': 1, 'ipID': 1, 'Num-Cookie': 1, 'timestampStartEnd': 1, 'Content-TypeID': 1, 'ConnectionID': 1, 'Accept-EncodingID': 1, 'X-Content-Type-OptionsID': 1, 'ServerID': 1, 'hostID': 1, 'methodID': 1, 'msgID': 1, 'schemeID': 1, 'X-Frame-OptionsID': 1, '_id': 0, 'RefererID': 1, 'Cache-ControlID': 1}\n"
       ]
      }
     ],
     "prompt_number": 34
    },
    {
     "cell_type": "code",
     "collapsed": false,
     "input": [
      "iter=logs.find({},{\"_id\":0, \"Content-Type\":1,\"Content-TypeID\":1})\n",
      "#for item in iter:    print item\n",
      "#logs.distinct(\"Content-TypeID\")\n"
     ],
     "language": "python",
     "metadata": {},
     "outputs": [],
     "prompt_number": 35
    },
    {
     "cell_type": "code",
     "collapsed": false,
     "input": [
      "l=df.take(1)\n",
      "type(l[0])"
     ],
     "language": "python",
     "metadata": {},
     "outputs": [
      {
       "metadata": {},
       "output_type": "pyout",
       "prompt_number": 36,
       "text": [
        "dict"
       ]
      }
     ],
     "prompt_number": 36
    },
    {
     "cell_type": "markdown",
     "metadata": {},
     "source": [
      "#Linear Regression"
     ]
    },
    {
     "cell_type": "code",
     "collapsed": false,
     "input": [
      "from pyspark.mllib.regression import LabeledPoint, LinearRegressionWithSGD\n",
      "\n",
      "# Load and parse the data\n",
      "\n",
      "features = numericalFeatures + categoricalFeatures\n",
      "\n",
      "def parsePoint(line):\n",
      "#    values=[line.get(f) or 0)  for f in features]\n",
      "    values=[]\n",
      "    values.append( line.get(\"response\") or 0)\n",
      "    values.append( line.get(\"X-Runtime\") or 0)\n",
      "    values.append( line.get(\"Content-TypeID\") or 0)\n",
      "    values.append( line.get(\"methodID\") or 0)\n",
      "    values.append( line.get(\"msgID\") or 0)\n",
      "    values.append( line.get(\"pathID\") or 0)\n",
      "    values.append( line.get(\"contentMatch\") or 0)\n",
      "    values.append( line.get(\"timestampStartEnd\") or 0)\n",
      "\n",
      "    return LabeledPoint(values[0], values[1:]) # values[1:])\n",
      "\n",
      "parsedData = df.map(parsePoint)"
     ],
     "language": "python",
     "metadata": {},
     "outputs": [],
     "prompt_number": 38
    },
    {
     "cell_type": "code",
     "collapsed": false,
     "input": [
      "parsedData.take(10)"
     ],
     "language": "python",
     "metadata": {},
     "outputs": [
      {
       "metadata": {},
       "output_type": "pyout",
       "prompt_number": 39,
       "text": [
        "[LabeledPoint(0.0, [0.0,0.0,0.0,0.0,0.0,0.0,0.0]),\n",
        " LabeledPoint(4930.0, [0.017533,1.0,1.0,1.0,1.0,0.0,0.00738596916199]),\n",
        " LabeledPoint(16091.0, [0.001283,3.0,1.0,1.0,3.0,0.0,0.00409388542175]),\n",
        " LabeledPoint(134336.0, [0.004546,3.0,1.0,1.0,7.0,0.0,0.0224211215973]),\n",
        " LabeledPoint(273816.0, [0.001474,3.0,1.0,1.0,8.0,0.0,0.0333359241486]),\n",
        " LabeledPoint(13268.0, [0.002825,3.0,1.0,1.0,9.0,0.0,0.00956010818481]),\n",
        " LabeledPoint(4097.0, [0.00133,3.0,1.0,1.0,10.0,0.0,0.0246500968933]),\n",
        " LabeledPoint(6671.0, [0.001354,3.0,1.0,1.0,13.0,0.0,0.00693893432617]),\n",
        " LabeledPoint(5349.0, [0.001541,3.0,1.0,1.0,14.0,0.0,0.00303602218628]),\n",
        " LabeledPoint(5269.0, [0.001607,3.0,1.0,1.0,15.0,0.0,0.0139927864075])]"
       ]
      }
     ],
     "prompt_number": 39
    },
    {
     "cell_type": "code",
     "collapsed": false,
     "input": [
      "# Build the model\n",
      "model = LinearRegressionWithSGD.train(parsedData)\n",
      "\n",
      "# Evaluate the model on training data\n",
      "valuesAndPreds = parsedData.map(lambda p: (p.label, model.predict(p.features)))\n",
      "MSE = valuesAndPreds.map(lambda (v, p): (v - p)**2).reduce(lambda x, y: x + y) / valuesAndPreds.count()\n",
      "print(\"Mean Squared Error = \" + str(MSE))\n"
     ],
     "language": "python",
     "metadata": {},
     "outputs": [
      {
       "output_type": "stream",
       "stream": "stdout",
       "text": [
        "Mean Squared Error = inf\n"
       ]
      }
     ],
     "prompt_number": 40
    },
    {
     "cell_type": "code",
     "collapsed": false,
     "input": [
      "valuesAndPreds.take(10)"
     ],
     "language": "python",
     "metadata": {},
     "outputs": [
      {
       "metadata": {},
       "output_type": "pyout",
       "prompt_number": 41,
       "text": [
        "[(0.0, 0.0),\n",
        " (4930.0, -3.4691213746110134e+206),\n",
        " (16091.0, -9.3558693135438757e+206),\n",
        " (134336.0, -2.1002678421369378e+207),\n",
        " (273816.0, -2.3914381565115895e+207),\n",
        " (13268.0, -2.6826067572068653e+207),\n",
        " (4097.0, -2.9737774327038577e+207),\n",
        " (6671.0, -3.8472860894736452e+207),\n",
        " (5349.0, -4.1384557724408279e+207),\n",
        " (5269.0, -4.4296263196814895e+207)]"
       ]
      }
     ],
     "prompt_number": 41
    },
    {
     "cell_type": "code",
     "collapsed": false,
     "input": [
      "# plot \n",
      "plt.xlabel(\"response\")\n",
      "plt.ylabel(\"prediction\")\n",
      "plt.scatter(*zip(*valuesAndPreds.collect()))"
     ],
     "language": "python",
     "metadata": {},
     "outputs": [
      {
       "metadata": {},
       "output_type": "pyout",
       "prompt_number": 42,
       "text": [
        "<matplotlib.collections.PathCollection at 0x109692f50>"
       ]
      },
      {
       "html": [
        "\n",
        "\n",
        "<style>\n",
        "\n",
        "</style>\n",
        "\n",
        "<div id=\"fig_el8814144508852003657112077\"></div>\n",
        "<script>\n",
        "function mpld3_load_lib(url, callback){\n",
        "  var s = document.createElement('script');\n",
        "  s.src = url;\n",
        "  s.async = true;\n",
        "  s.onreadystatechange = s.onload = callback;\n",
        "  s.onerror = function(){console.warn(\"failed to load library \" + url);};\n",
        "  document.getElementsByTagName(\"head\")[0].appendChild(s);\n",
        "}\n",
        "\n",
        "if(typeof(mpld3) !== \"undefined\" && mpld3._mpld3IsLoaded){\n",
        "   // already loaded: just create the figure\n",
        "   !function(mpld3){\n",
        "       \n",
        "       mpld3.draw_figure(\"fig_el8814144508852003657112077\", {\"axes\": [{\"xlim\": [-50000.0, 300000.0], \"yscale\": \"linear\", \"axesbg\": \"#FFFFFF\", \"texts\": [{\"v_baseline\": \"hanging\", \"h_anchor\": \"middle\", \"color\": \"#000000\", \"text\": \"response\", \"coordinates\": \"axes\", \"zorder\": 3, \"alpha\": 1, \"fontsize\": 10.0, \"position\": [0.5, -0.080645161290322578], \"rotation\": -0.0, \"id\": \"el881414449272592\"}, {\"v_baseline\": \"auto\", \"h_anchor\": \"middle\", \"color\": \"#000000\", \"text\": \"prediction\", \"coordinates\": \"axes\", \"zorder\": 3, \"alpha\": 1, \"fontsize\": 10.0, \"position\": [-0.095262096774193561, 0.5], \"rotation\": -90.0, \"id\": \"el881414452313552\"}], \"zoomable\": true, \"images\": [], \"xdomain\": [-50000.0, 300000.0], \"ylim\": [-1.2000000000000002e+208, 1.9999999999999995e+207], \"paths\": [], \"sharey\": [], \"sharex\": [], \"axesbgalpha\": null, \"axes\": [{\"scale\": \"linear\", \"tickformat\": null, \"grid\": {\"gridOn\": false}, \"fontsize\": 10.0, \"position\": \"bottom\", \"nticks\": 8, \"tickvalues\": null}, {\"scale\": \"linear\", \"tickformat\": null, \"grid\": {\"gridOn\": false}, \"fontsize\": 10.0, \"position\": \"left\", \"nticks\": 10, \"tickvalues\": null}], \"lines\": [], \"markers\": [], \"id\": \"el881414452353616\", \"ydomain\": [-1.2000000000000002e+208, 1.9999999999999995e+207], \"collections\": [{\"paths\": [[[[0.0, -0.5], [0.13260155, -0.5], [0.25978993539242673, -0.44731684579412084], [0.3535533905932738, -0.3535533905932738], [0.44731684579412084, -0.25978993539242673], [0.5, -0.13260155], [0.5, 0.0], [0.5, 0.13260155], [0.44731684579412084, 0.25978993539242673], [0.3535533905932738, 0.3535533905932738], [0.25978993539242673, 0.44731684579412084], [0.13260155, 0.5], [0.0, 0.5], [-0.13260155, 0.5], [-0.25978993539242673, 0.44731684579412084], [-0.3535533905932738, 0.3535533905932738], [-0.44731684579412084, 0.25978993539242673], [-0.5, 0.13260155], [-0.5, 0.0], [-0.5, -0.13260155], [-0.44731684579412084, -0.25978993539242673], [-0.3535533905932738, -0.3535533905932738], [-0.25978993539242673, -0.44731684579412084], [-0.13260155, -0.5], [0.0, -0.5]], [\"M\", \"C\", \"C\", \"C\", \"C\", \"C\", \"C\", \"C\", \"C\", \"Z\"]]], \"edgecolors\": [\"#000000\"], \"edgewidths\": [1.0], \"offsets\": \"data01\", \"yindex\": 1, \"id\": \"el881414452855632\", \"pathtransforms\": [[4.969039949999533, 0.0, 0.0, 4.969039949999533, 0.0, 0.0]], \"pathcoordinates\": \"display\", \"offsetcoordinates\": \"data\", \"zorder\": 1, \"xindex\": 0, \"alphas\": [null], \"facecolors\": [\"#0000FF\"]}], \"xscale\": \"linear\", \"bbox\": [0.125, 0.125, 0.77500000000000002, 0.77500000000000002]}], \"height\": 320.0, \"width\": 480.0, \"plugins\": [{\"type\": \"reset\"}, {\"enabled\": false, \"button\": true, \"type\": \"zoom\"}, {\"enabled\": false, \"button\": true, \"type\": \"boxzoom\"}], \"data\": {\"data01\": [[0.0, 0.0], [4930.0, -3.4691213746110134e+206], [16091.0, -9.355869313543876e+206], [134336.0, -2.1002678421369378e+207], [273816.0, -2.3914381565115895e+207], [13268.0, -2.682606757206865e+207], [4097.0, -2.973777432703858e+207], [6671.0, -3.847286089473645e+207], [5349.0, -4.138455772440828e+207], [5269.0, -4.4296263196814895e+207], [5026.0, -4.7207955703075385e+207], [10523.0, -5.011965487676359e+207], [4110.0, -5.303135362751366e+207], [3728.0, -5.594305283382166e+207], [8933.0, -5.885475253471967e+207], [5430.0, -6.752649933160614e+207], [7101.0, -8.790840033045773e+207], [6134.0, -9.082009369514362e+207], [6248.0, -9.373179474703915e+207], [6254.0, -9.66434944079622e+207], [5501.0, -1.0246688728807962e+208], [5377.0, -1.053785908644269e+208], [6552.0, -1.082902876938716e+208], [3454.0, -7.050154852692506e+207], [638.0, -7.923664443266788e+207], [639.0, -7.632494570752157e+207], [639.0, -8.50600423392567e+207], [1388.0, -1.117277580886909e+208], [1105.0, -1.0029637564574356e+208], [1105.0, -1.0029637605579741e+208], [1104.0, -1.0029637585960541e+208], [7269.0, -7.341324647500673e+207], [621.0, -8.214834363287994e+207], [1108.0, -6.412489177742997e+206], [591.0, -1.2235889796988541e+207], [6719.0, -9.955519756446057e+207], [1099.0, -1.0903147379102112e+208], [591.0, -1.514759349317688e+207], [591.0, -1.805928488897035e+207], [2370.0, -3.2649470584523873e+207], [424.0, -6.470982970244385e+207], [1092.0, -6.826768151002798e+207], [1092.0, -9.156127515898853e+207], [1094.0, -8.864958171942991e+207], [1094.0, -8.864958167840747e+207], [1092.0, -9.15612761647689e+207], [1092.0, -9.15612743542888e+207], [1094.0, -9.447297721716867e+207], [1091.0, -9.156127551384223e+207], [1092.0, -9.156127557284909e+207], [1094.0, -9.738467640910681e+207], [1091.0, -1.0320806888101842e+208], [1094.0, -1.0611976828739402e+208], [1094.0, -8.864958783135791e+207], [1094.0, -8.864958298372277e+207], [3138.0, -3.5561159953262975e+207], [426.0, -1.294538710943855e+207], [426.0, -1.585708520938991e+207], [425.0, -7.121997943316334e+206], [426.0, -1.0033687308736712e+207], [426.0, -3.623897782198905e+207], [426.0, -7.117937440553536e+207], [425.0, -2.7503881150864195e+207], [425.0, -3.0415579863074027e+207], [426.0, -3.332728032288526e+207], [426.0, -5.370917176888298e+207], [426.0, -3.9150678365173866e+207], [426.0, -4.4974074815237526e+207], [425.0, -4.2062376140803766e+207], [426.0, -4.788577593184767e+207], [426.0, -7.409106711988004e+207], [426.0, -5.07974730582244e+207], [426.0, -7.700276623314573e+207], [426.0, -5.953257037946377e+207], [426.0, -7.991446260835993e+207], [426.0, -8.28261637889274e+207], [426.0, -5.662087084292837e+207], [426.0, -6.244427105663151e+207], [426.0, -1.2945386065391097e+207], [426.0, -1.5857085917184437e+207], [426.0, -7.121989244345981e+206], [426.0, -3.623897814900639e+207], [425.0, -3.041558206818911e+207], [426.0, -2.7503888965744904e+207], [426.0, -7.117936571932577e+207], [425.0, -1.0033688199422362e+207], [426.0, -3.332727959553455e+207], [425.0, -4.2062378750240316e+207], [426.0, -5.370917174875001e+207], [425.0, -4.788577410105342e+207], [426.0, -4.4974078759515984e+207], [426.0, -7.409106811129905e+207], [426.0, -3.915068042193499e+207], [426.0, -5.662087230029894e+207], [426.0, -5.079747313855623e+207], [426.0, -8.282617203267133e+207], [426.0, -7.700276975485551e+207], [426.0, -5.953258511444092e+207], [426.0, -7.991446282539427e+207], [426.0, -6.244426929325117e+207], [426.0, -7.121989398190262e+206], [426.0, -1.2945388830435045e+207], [425.0, -3.6238978183284605e+207], [425.0, -7.117936572402535e+207], [426.0, -1.0033687322944825e+207], [426.0, -3.33272830580761e+207], [425.0, -3.0415580275534855e+207], [426.0, -2.750388094931293e+207], [426.0, -3.915067967383877e+207], [425.0, -5.370917215624e+207], [424.0, -4.7885775674870075e+207], [426.0, -7.409106973870782e+207], [426.0, -4.4974078131717345e+207], [426.0, -4.206237588968486e+207], [426.0, -5.953257213361621e+207], [425.0, -5.0797475706753896e+207], [426.0, -7.700276380497101e+207], [426.0, -7.991446892699555e+207], [425.0, -5.662087437701048e+207], [426.0, -8.28261762862113e+207], [423.0, -6.244426890321571e+207], [426.0, -1.294538964590328e+207], [426.0, -7.121990378685088e+206], [426.0, -1.58570872360586e+207], [426.0, -3.332727884770742e+207], [426.0, -3.041558197048355e+207], [425.0, -2.750388607553618e+207], [426.0, -3.623898912314035e+207], [426.0, -7.117936572827725e+207], [426.0, -1.003368698720464e+207], [426.0, -7.409106467015165e+207], [426.0, -4.497407733303602e+207], [426.0, -5.370917283424651e+207], [426.0, -4.7885773804227253e+207], [426.0, -3.915067787219481e+207], [426.0, -4.2062375840087956e+207], [426.0, -7.991446297858464e+207], [426.0, -5.0797472779876073e+207], [426.0, -7.70027640375412e+207], [426.0, -5.953256986471057e+207], [426.0, -8.28261637054055e+207], [426.0, -5.662087175713037e+207], [425.0, -6.244426894183296e+207], [426.0, -1.585708518720382e+207], [426.0, -7.121989666878386e+206], [426.0, -1.2945387999062656e+207], [426.0, -3.623897882231526e+207], [425.0, -3.0415583265660874e+207], [426.0, -7.117936855033228e+207], [425.0, -1.0033689614091838e+207], [425.0, -2.750388219160429e+207], [426.0, -3.332727890537573e+207], [426.0, -4.788577389356475e+207], [425.0, -5.370917298022986e+207], [426.0, -4.4974074769516156e+207], [426.0, -4.2062395278954597e+207], [426.0, -7.409106464444863e+207], [425.0, -3.9150679281300827e+207], [425.0, -7.991446364637753e+207], [426.0, -7.700276387755943e+207], [426.0, -5.953257150036831e+207], [426.0, -8.282616164435545e+207], [426.0, -5.662087723480956e+207], [426.0, -5.0797478006692136e+207], [425.0, -6.244426907250494e+207], [426.0, -7.121990229724033e+206], [426.0, -1.2945386019508645e+207], [424.0, -1.5857084979541303e+207], [426.0, -3.6238980287280113e+207], [426.0, -7.117936746872631e+207], [426.0, -3.041558041297087e+207], [426.0, -1.0033695540225076e+207], [426.0, -2.7503887336506667e+207], [426.0, -3.33272790716975e+207], [426.0, -4.497407619963554e+207], [426.0, -5.370917204841822e+207], [426.0, -4.788577540799467e+207], [426.0, -4.20623778855753e+207], [426.0, -3.9150685323977756e+207], [425.0, -7.409106493821313e+207], [426.0, -8.282616235812303e+207], [426.0, -7.700276367478811e+207], [425.0, -5.953257079069524e+207], [426.0, -7.991446784458342e+207], [426.0, -5.0797472896773495e+207], [426.0, -5.662087600164415e+207], [426.0, -6.244427008314856e+207], [425.0, -7.121990017638759e+206], [426.0, -1.5857085061428906e+207], [426.0, -1.2945386008579932e+207], [424.0, -1.0033687199465556e+207], [426.0, -3.9150676897577396e+207], [426.0, -3.041558028767602e+207], [425.0, -3.332729038624794e+207], [426.0, -3.623898689988139e+207], [426.0, -2.750388213316045e+207], [425.0, -7.117936579230844e+207], [426.0, -4.2062375863306826e+207], [426.0, -4.497407706580597e+207], [426.0, -7.409106612600235e+207], [426.0, -5.07974763200998e+207], [426.0, -4.788577388995283e+207], [424.0, -5.370917385101258e+207], [426.0, -7.991446278769013e+207], [426.0, -5.662087086195458e+207], [426.0, -7.700276367454228e+207], [426.0, -5.953257112797166e+207], [426.0, -8.282616217583287e+207], [426.0, -6.244427493090477e+207], [424.0, -1.585708528430387e+207], [426.0, -1.294538627342235e+207], [426.0, -7.122001006388413e+206], [426.0, -3.332728018145662e+207], [426.0, -3.0415580695499866e+207], [426.0, -7.11793658186871e+207], [426.0, -1.0033688452283152e+207], [426.0, -2.7503880977545955e+207], [426.0, -3.623897893088146e+207], [425.0, -4.206237606051195e+207], [426.0, -7.409106496898119e+207], [426.0, -3.915067719072224e+207], [426.0, -4.4974075157869744e+207], [426.0, -5.370917398193956e+207], [425.0, -4.7885773956312133e+207], [426.0, -5.079747287640998e+207], [426.0, -8.282616511743998e+207], [425.0, -5.953257111192122e+207], [426.0, -7.991446271098801e+207], [426.0, -7.700276724506639e+207], [426.0, -5.662087084830102e+207], [426.0, -6.244426890851895e+207], [426.0, -7.121992445993033e+206], [426.0, -1.2945386170641526e+207], [426.0, -1.58570925636088e+207], [426.0, -1.0033687381814208e+207], [426.0, -2.750388466662305e+207], [426.0, -3.623897817192861e+207], [426.0, -3.041558134563118e+207], [426.0, -3.9150680315850274e+207], [426.0, -3.3327279345215634e+207], [426.0, -7.117936728793838e+207], [426.0, -5.370918833393552e+207], [426.0, -5.0797479396869583e+207], [426.0, -4.4974079237835067e+207], [425.0, -4.788577796590369e+207], [425.0, -7.409106855821946e+207], [426.0, -4.2062382907935494e+207], [426.0, -7.991447532852013e+207], [426.0, -8.282616215722203e+207], [425.0, -5.66208741066405e+207], [426.0, -7.700276390318354e+207], [426.0, -5.953257447773675e+207], [426.0, -6.244426924335179e+207], [426.0, -1.5857085034713364e+207], [426.0, -7.121989587953883e+206], [426.0, -1.2945390961088186e+207], [426.0, -1.0033687546168207e+207], [425.0, -2.750388135392014e+207], [425.0, -3.623897824555305e+207], [426.0, -3.332727909925803e+207], [426.0, -7.117936586454408e+207], [426.0, -3.041557999718407e+207], [426.0, -4.7885774101410115e+207], [426.0, -3.9150676858258374e+207], [425.0, -4.4974074873757875e+207], [426.0, -7.409106476744591e+207], [426.0, -5.370917459809147e+207], [426.0, -4.20623759787237e+207], [426.0, -8.282616220721818e+207], [426.0, -5.953257003503006e+207], [426.0, -7.991446294433128e+207], [425.0, -5.662087490432493e+207], [426.0, -5.07974727676241e+207], [426.0, -7.700276471557576e+207], [426.0, -6.244426901270207e+207], [426.0, -7.121991523627549e+206], [426.0, -1.585708497796522e+207], [426.0, -1.29453872538252e+207], [426.0, -7.117936701265679e+207], [426.0, -3.332728173461705e+207], [426.0, -3.623897965317019e+207], [426.0, -1.0033687010040165e+207], [425.0, -2.750388091716043e+207], [426.0, -3.041558183136193e+207], [426.0, -4.4974074891195284e+207], [426.0, -4.7885776600346497e+207], [426.0, -7.409106701112539e+207], [426.0, -5.37091718658168e+207], [426.0, -4.206237595599323e+207], [426.0, -3.915067693141294e+207], [426.0, -5.953257130157109e+207], [426.0, -7.700276397951183e+207], [426.0, -5.662087101028106e+207], [424.0, -5.079747280763341e+207], [426.0, -8.282616278708408e+207], [426.0, -7.9914463882218e+207], [426.0, -6.244426892544692e+207], [426.0, -7.121989567702481e+206], [426.0, -1.5857085023548393e+207], [426.0, -1.294538610562776e+207], [425.0, -2.7503880977594984e+207], [426.0, -3.6238978132710116e+207], [426.0, -3.332728103352064e+207], [425.0, -3.041558097986338e+207], [426.0, -1.003368715073469e+207], [426.0, -7.117936607029882e+207], [421.0, -7.409106501511964e+207], [426.0, -1.8768784565218335e+207], [426.0, -4.7885780424038766e+207], [426.0, -3.91506813729047e+207], [426.0, -4.49740751204089e+207], [426.0, -4.2062376883171254e+207], [426.0, -5.370917295793184e+207], [426.0, -8.282616465475936e+207], [425.0, -7.700276411310285e+207], [426.0, -5.662087093039112e+207], [426.0, -5.953256981491117e+207], [426.0, -5.0797473865745746e+207], [425.0, -7.991446387926073e+207], [426.0, -6.2444269300333e+207], [425.0, -1.294538612567985e+207], [426.0, -7.121989883823566e+206], [426.0, -1.5857095242158002e+207], [426.0, -1.0033687301195133e+207], [425.0, -3.0415582027436344e+207], [426.0, -3.332727981098418e+207], [425.0, -7.117936583932951e+207], [426.0, -3.623898012191041e+207], [426.0, -2.750388122261401e+207], [425.0, -7.4091065009344e+207], [426.0, -3.9150676922699666e+207], [426.0, -4.4974076645600344e+207], [426.0, -4.2062375974432915e+207], [425.0, -4.788577384991806e+207], [426.0, -5.370917185644318e+207], [426.0, -5.079747303211955e+207], [426.0, -7.991446270212316e+207], [426.0, -8.282616474715565e+207], [426.0, -7.700276588459731e+207], [426.0, -5.662087617926066e+207], [426.0, -5.953256983535359e+207], [426.0, -6.244426900820503e+207], [426.0, -1.5857085370607744e+207], [426.0, -1.2945388442070655e+207], [426.0, -7.121993999012758e+206], [426.0, -1.003368725077674e+207], [426.0, -7.117936602991889e+207], [426.0, -3.041558219599111e+207], [425.0, -3.62389804049633e+207], [426.0, -3.332727999164469e+207], [426.0, -2.7503880965059006e+207], [426.0, -3.9150677092689377e+207], [426.0, -4.206237578709563e+207], [426.0, -4.7885775871321433e+207], [426.0, -4.4974074874968416e+207], [426.0, -5.370917330382709e+207], [426.0, -7.409106512616498e+207], [425.0, -5.079747313326389e+207], [426.0, -5.953257034360269e+207], [426.0, -7.700276369294127e+207], [426.0, -5.66208708676157e+207], [426.0, -6.244426934286911e+207], [424.0, -7.991446407046889e+207], [426.0, -8.282616211073263e+207], [426.0, -1.585708533264255e+207], [1192.0, -6.17664536926966e+207], [426.0, -2.4592183398130649e+207], [426.0, -2.168048427723557e+207], [426.0, -8.57378605669814e+207], [423.0, -2.4592184375912998e+207], [426.0, -1.8768785419905671e+207], [426.0, -2.1680484109678413e+207], [426.0, -8.573786073331524e+207], [426.0, -2.1680484294711822e+207], [426.0, -1.8768786777027694e+207], [426.0, -2.459218407005634e+207], [424.0, -8.573786106652935e+207], [426.0, -2.45921819070386e+207], [426.0, -2.1680484145461298e+207], [426.0, -1.8768783955332748e+207], [426.0, -8.573786077369582e+207], [426.0, -2.1680484164174793e+207], [425.0, -2.4592183414229514e+207], [426.0, -1.8768798319224974e+207], [426.0, -8.573786071195645e+207], [426.0, -2.4592183108975968e+207], [426.0, -1.876878586236018e+207], [426.0, -2.1680484209531338e+207], [426.0, -8.573786074489222e+207], [426.0, -2.168048526549769e+207], [426.0, -1.8768785017195808e+207], [426.0, -2.4592182000810116e+207], [426.0, -8.573786665322926e+207], [426.0, -2.168048539789783e+207], [426.0, -2.4592182102868243e+207], [426.0, -1.876879956680626e+207], [426.0, -8.57378608886319e+207], [425.0, -2.168048485956381e+207], [426.0, -1.8768784575155636e+207], [426.0, -2.4592182276960845e+207], [425.0, -8.573786099548573e+207], [425.0, -2.1680485455083498e+207], [425.0, -1.8768784270228684e+207], [426.0, -2.459218693304914e+207], [426.0, -8.573786093118839e+207], [426.0, -1.876878698692393e+207], [426.0, -2.4592182027454966e+207], [426.0, -2.1680485138992918e+207], [426.0, -8.573786184842155e+207], [426.0, -2.1680486456051586e+207], [426.0, -2.459218193147568e+207], [425.0, -1.8768784026655275e+207], [426.0, -8.573786077151861e+207], [426.0, -1.876878429821409e+207], [426.0, -2.168048407479912e+207], [426.0, -2.4592182166891153e+207], [426.0, -2.168048529320918e+207], [426.0, -2.4592181907542954e+207], [426.0, -1.876878392635279e+207], [426.0, -8.573786094596718e+207], [426.0, -8.573786177832005e+207]]}, \"id\": \"el881414450885200\"});\n",
        "   }(mpld3);\n",
        "}else if(typeof define === \"function\" && define.amd){\n",
        "   // require.js is available: use it to load d3/mpld3\n",
        "   require.config({paths: {d3: \"https://mpld3.github.io/js/d3.v3.min\"}});\n",
        "   require([\"d3\"], function(d3){\n",
        "      window.d3 = d3;\n",
        "      mpld3_load_lib(\"https://mpld3.github.io/js/mpld3.v0.2.js\", function(){\n",
        "         \n",
        "         mpld3.draw_figure(\"fig_el8814144508852003657112077\", {\"axes\": [{\"xlim\": [-50000.0, 300000.0], \"yscale\": \"linear\", \"axesbg\": \"#FFFFFF\", \"texts\": [{\"v_baseline\": \"hanging\", \"h_anchor\": \"middle\", \"color\": \"#000000\", \"text\": \"response\", \"coordinates\": \"axes\", \"zorder\": 3, \"alpha\": 1, \"fontsize\": 10.0, \"position\": [0.5, -0.080645161290322578], \"rotation\": -0.0, \"id\": \"el881414449272592\"}, {\"v_baseline\": \"auto\", \"h_anchor\": \"middle\", \"color\": \"#000000\", \"text\": \"prediction\", \"coordinates\": \"axes\", \"zorder\": 3, \"alpha\": 1, \"fontsize\": 10.0, \"position\": [-0.095262096774193561, 0.5], \"rotation\": -90.0, \"id\": \"el881414452313552\"}], \"zoomable\": true, \"images\": [], \"xdomain\": [-50000.0, 300000.0], \"ylim\": [-1.2000000000000002e+208, 1.9999999999999995e+207], \"paths\": [], \"sharey\": [], \"sharex\": [], \"axesbgalpha\": null, \"axes\": [{\"scale\": \"linear\", \"tickformat\": null, \"grid\": {\"gridOn\": false}, \"fontsize\": 10.0, \"position\": \"bottom\", \"nticks\": 8, \"tickvalues\": null}, {\"scale\": \"linear\", \"tickformat\": null, \"grid\": {\"gridOn\": false}, \"fontsize\": 10.0, \"position\": \"left\", \"nticks\": 10, \"tickvalues\": null}], \"lines\": [], \"markers\": [], \"id\": \"el881414452353616\", \"ydomain\": [-1.2000000000000002e+208, 1.9999999999999995e+207], \"collections\": [{\"paths\": [[[[0.0, -0.5], [0.13260155, -0.5], [0.25978993539242673, -0.44731684579412084], [0.3535533905932738, -0.3535533905932738], [0.44731684579412084, -0.25978993539242673], [0.5, -0.13260155], [0.5, 0.0], [0.5, 0.13260155], [0.44731684579412084, 0.25978993539242673], [0.3535533905932738, 0.3535533905932738], [0.25978993539242673, 0.44731684579412084], [0.13260155, 0.5], [0.0, 0.5], [-0.13260155, 0.5], [-0.25978993539242673, 0.44731684579412084], [-0.3535533905932738, 0.3535533905932738], [-0.44731684579412084, 0.25978993539242673], [-0.5, 0.13260155], [-0.5, 0.0], [-0.5, -0.13260155], [-0.44731684579412084, -0.25978993539242673], [-0.3535533905932738, -0.3535533905932738], [-0.25978993539242673, -0.44731684579412084], [-0.13260155, -0.5], [0.0, -0.5]], [\"M\", \"C\", \"C\", \"C\", \"C\", \"C\", \"C\", \"C\", \"C\", \"Z\"]]], \"edgecolors\": [\"#000000\"], \"edgewidths\": [1.0], \"offsets\": \"data01\", \"yindex\": 1, \"id\": \"el881414452855632\", \"pathtransforms\": [[4.969039949999533, 0.0, 0.0, 4.969039949999533, 0.0, 0.0]], \"pathcoordinates\": \"display\", \"offsetcoordinates\": \"data\", \"zorder\": 1, \"xindex\": 0, \"alphas\": [null], \"facecolors\": [\"#0000FF\"]}], \"xscale\": \"linear\", \"bbox\": [0.125, 0.125, 0.77500000000000002, 0.77500000000000002]}], \"height\": 320.0, \"width\": 480.0, \"plugins\": [{\"type\": \"reset\"}, {\"enabled\": false, \"button\": true, \"type\": \"zoom\"}, {\"enabled\": false, \"button\": true, \"type\": \"boxzoom\"}], \"data\": {\"data01\": [[0.0, 0.0], [4930.0, -3.4691213746110134e+206], [16091.0, -9.355869313543876e+206], [134336.0, -2.1002678421369378e+207], [273816.0, -2.3914381565115895e+207], [13268.0, -2.682606757206865e+207], [4097.0, -2.973777432703858e+207], [6671.0, -3.847286089473645e+207], [5349.0, -4.138455772440828e+207], [5269.0, -4.4296263196814895e+207], [5026.0, -4.7207955703075385e+207], [10523.0, -5.011965487676359e+207], [4110.0, -5.303135362751366e+207], [3728.0, -5.594305283382166e+207], [8933.0, -5.885475253471967e+207], [5430.0, -6.752649933160614e+207], [7101.0, -8.790840033045773e+207], [6134.0, -9.082009369514362e+207], [6248.0, -9.373179474703915e+207], [6254.0, -9.66434944079622e+207], [5501.0, -1.0246688728807962e+208], [5377.0, -1.053785908644269e+208], [6552.0, -1.082902876938716e+208], [3454.0, -7.050154852692506e+207], [638.0, -7.923664443266788e+207], [639.0, -7.632494570752157e+207], [639.0, -8.50600423392567e+207], [1388.0, -1.117277580886909e+208], [1105.0, -1.0029637564574356e+208], [1105.0, -1.0029637605579741e+208], [1104.0, -1.0029637585960541e+208], [7269.0, -7.341324647500673e+207], [621.0, -8.214834363287994e+207], [1108.0, -6.412489177742997e+206], [591.0, -1.2235889796988541e+207], [6719.0, -9.955519756446057e+207], [1099.0, -1.0903147379102112e+208], [591.0, -1.514759349317688e+207], [591.0, -1.805928488897035e+207], [2370.0, -3.2649470584523873e+207], [424.0, -6.470982970244385e+207], [1092.0, -6.826768151002798e+207], [1092.0, -9.156127515898853e+207], [1094.0, -8.864958171942991e+207], [1094.0, -8.864958167840747e+207], [1092.0, -9.15612761647689e+207], [1092.0, -9.15612743542888e+207], [1094.0, -9.447297721716867e+207], [1091.0, -9.156127551384223e+207], [1092.0, -9.156127557284909e+207], [1094.0, -9.738467640910681e+207], [1091.0, -1.0320806888101842e+208], [1094.0, -1.0611976828739402e+208], [1094.0, -8.864958783135791e+207], [1094.0, -8.864958298372277e+207], [3138.0, -3.5561159953262975e+207], [426.0, -1.294538710943855e+207], [426.0, -1.585708520938991e+207], [425.0, -7.121997943316334e+206], [426.0, -1.0033687308736712e+207], [426.0, -3.623897782198905e+207], [426.0, -7.117937440553536e+207], [425.0, -2.7503881150864195e+207], [425.0, -3.0415579863074027e+207], [426.0, -3.332728032288526e+207], [426.0, -5.370917176888298e+207], [426.0, -3.9150678365173866e+207], [426.0, -4.4974074815237526e+207], [425.0, -4.2062376140803766e+207], [426.0, -4.788577593184767e+207], [426.0, -7.409106711988004e+207], [426.0, -5.07974730582244e+207], [426.0, -7.700276623314573e+207], [426.0, -5.953257037946377e+207], [426.0, -7.991446260835993e+207], [426.0, -8.28261637889274e+207], [426.0, -5.662087084292837e+207], [426.0, -6.244427105663151e+207], [426.0, -1.2945386065391097e+207], [426.0, -1.5857085917184437e+207], [426.0, -7.121989244345981e+206], [426.0, -3.623897814900639e+207], [425.0, -3.041558206818911e+207], [426.0, -2.7503888965744904e+207], [426.0, -7.117936571932577e+207], [425.0, -1.0033688199422362e+207], [426.0, -3.332727959553455e+207], [425.0, -4.2062378750240316e+207], [426.0, -5.370917174875001e+207], [425.0, -4.788577410105342e+207], [426.0, -4.4974078759515984e+207], [426.0, -7.409106811129905e+207], [426.0, -3.915068042193499e+207], [426.0, -5.662087230029894e+207], [426.0, -5.079747313855623e+207], [426.0, -8.282617203267133e+207], [426.0, -7.700276975485551e+207], [426.0, -5.953258511444092e+207], [426.0, -7.991446282539427e+207], [426.0, -6.244426929325117e+207], [426.0, -7.121989398190262e+206], [426.0, -1.2945388830435045e+207], [425.0, -3.6238978183284605e+207], [425.0, -7.117936572402535e+207], [426.0, -1.0033687322944825e+207], [426.0, -3.33272830580761e+207], [425.0, -3.0415580275534855e+207], [426.0, -2.750388094931293e+207], [426.0, -3.915067967383877e+207], [425.0, -5.370917215624e+207], [424.0, -4.7885775674870075e+207], [426.0, -7.409106973870782e+207], [426.0, -4.4974078131717345e+207], [426.0, -4.206237588968486e+207], [426.0, -5.953257213361621e+207], [425.0, -5.0797475706753896e+207], [426.0, -7.700276380497101e+207], [426.0, -7.991446892699555e+207], [425.0, -5.662087437701048e+207], [426.0, -8.28261762862113e+207], [423.0, -6.244426890321571e+207], [426.0, -1.294538964590328e+207], [426.0, -7.121990378685088e+206], [426.0, -1.58570872360586e+207], [426.0, -3.332727884770742e+207], [426.0, -3.041558197048355e+207], [425.0, -2.750388607553618e+207], [426.0, -3.623898912314035e+207], [426.0, -7.117936572827725e+207], [426.0, -1.003368698720464e+207], [426.0, -7.409106467015165e+207], [426.0, -4.497407733303602e+207], [426.0, -5.370917283424651e+207], [426.0, -4.7885773804227253e+207], [426.0, -3.915067787219481e+207], [426.0, -4.2062375840087956e+207], [426.0, -7.991446297858464e+207], [426.0, -5.0797472779876073e+207], [426.0, -7.70027640375412e+207], [426.0, -5.953256986471057e+207], [426.0, -8.28261637054055e+207], [426.0, -5.662087175713037e+207], [425.0, -6.244426894183296e+207], [426.0, -1.585708518720382e+207], [426.0, -7.121989666878386e+206], [426.0, -1.2945387999062656e+207], [426.0, -3.623897882231526e+207], [425.0, -3.0415583265660874e+207], [426.0, -7.117936855033228e+207], [425.0, -1.0033689614091838e+207], [425.0, -2.750388219160429e+207], [426.0, -3.332727890537573e+207], [426.0, -4.788577389356475e+207], [425.0, -5.370917298022986e+207], [426.0, -4.4974074769516156e+207], [426.0, -4.2062395278954597e+207], [426.0, -7.409106464444863e+207], [425.0, -3.9150679281300827e+207], [425.0, -7.991446364637753e+207], [426.0, -7.700276387755943e+207], [426.0, -5.953257150036831e+207], [426.0, -8.282616164435545e+207], [426.0, -5.662087723480956e+207], [426.0, -5.0797478006692136e+207], [425.0, -6.244426907250494e+207], [426.0, -7.121990229724033e+206], [426.0, -1.2945386019508645e+207], [424.0, -1.5857084979541303e+207], [426.0, -3.6238980287280113e+207], [426.0, -7.117936746872631e+207], [426.0, -3.041558041297087e+207], [426.0, -1.0033695540225076e+207], [426.0, -2.7503887336506667e+207], [426.0, -3.33272790716975e+207], [426.0, -4.497407619963554e+207], [426.0, -5.370917204841822e+207], [426.0, -4.788577540799467e+207], [426.0, -4.20623778855753e+207], [426.0, -3.9150685323977756e+207], [425.0, -7.409106493821313e+207], [426.0, -8.282616235812303e+207], [426.0, -7.700276367478811e+207], [425.0, -5.953257079069524e+207], [426.0, -7.991446784458342e+207], [426.0, -5.0797472896773495e+207], [426.0, -5.662087600164415e+207], [426.0, -6.244427008314856e+207], [425.0, -7.121990017638759e+206], [426.0, -1.5857085061428906e+207], [426.0, -1.2945386008579932e+207], [424.0, -1.0033687199465556e+207], [426.0, -3.9150676897577396e+207], [426.0, -3.041558028767602e+207], [425.0, -3.332729038624794e+207], [426.0, -3.623898689988139e+207], [426.0, -2.750388213316045e+207], [425.0, -7.117936579230844e+207], [426.0, -4.2062375863306826e+207], [426.0, -4.497407706580597e+207], [426.0, -7.409106612600235e+207], [426.0, -5.07974763200998e+207], [426.0, -4.788577388995283e+207], [424.0, -5.370917385101258e+207], [426.0, -7.991446278769013e+207], [426.0, -5.662087086195458e+207], [426.0, -7.700276367454228e+207], [426.0, -5.953257112797166e+207], [426.0, -8.282616217583287e+207], [426.0, -6.244427493090477e+207], [424.0, -1.585708528430387e+207], [426.0, -1.294538627342235e+207], [426.0, -7.122001006388413e+206], [426.0, -3.332728018145662e+207], [426.0, -3.0415580695499866e+207], [426.0, -7.11793658186871e+207], [426.0, -1.0033688452283152e+207], [426.0, -2.7503880977545955e+207], [426.0, -3.623897893088146e+207], [425.0, -4.206237606051195e+207], [426.0, -7.409106496898119e+207], [426.0, -3.915067719072224e+207], [426.0, -4.4974075157869744e+207], [426.0, -5.370917398193956e+207], [425.0, -4.7885773956312133e+207], [426.0, -5.079747287640998e+207], [426.0, -8.282616511743998e+207], [425.0, -5.953257111192122e+207], [426.0, -7.991446271098801e+207], [426.0, -7.700276724506639e+207], [426.0, -5.662087084830102e+207], [426.0, -6.244426890851895e+207], [426.0, -7.121992445993033e+206], [426.0, -1.2945386170641526e+207], [426.0, -1.58570925636088e+207], [426.0, -1.0033687381814208e+207], [426.0, -2.750388466662305e+207], [426.0, -3.623897817192861e+207], [426.0, -3.041558134563118e+207], [426.0, -3.9150680315850274e+207], [426.0, -3.3327279345215634e+207], [426.0, -7.117936728793838e+207], [426.0, -5.370918833393552e+207], [426.0, -5.0797479396869583e+207], [426.0, -4.4974079237835067e+207], [425.0, -4.788577796590369e+207], [425.0, -7.409106855821946e+207], [426.0, -4.2062382907935494e+207], [426.0, -7.991447532852013e+207], [426.0, -8.282616215722203e+207], [425.0, -5.66208741066405e+207], [426.0, -7.700276390318354e+207], [426.0, -5.953257447773675e+207], [426.0, -6.244426924335179e+207], [426.0, -1.5857085034713364e+207], [426.0, -7.121989587953883e+206], [426.0, -1.2945390961088186e+207], [426.0, -1.0033687546168207e+207], [425.0, -2.750388135392014e+207], [425.0, -3.623897824555305e+207], [426.0, -3.332727909925803e+207], [426.0, -7.117936586454408e+207], [426.0, -3.041557999718407e+207], [426.0, -4.7885774101410115e+207], [426.0, -3.9150676858258374e+207], [425.0, -4.4974074873757875e+207], [426.0, -7.409106476744591e+207], [426.0, -5.370917459809147e+207], [426.0, -4.20623759787237e+207], [426.0, -8.282616220721818e+207], [426.0, -5.953257003503006e+207], [426.0, -7.991446294433128e+207], [425.0, -5.662087490432493e+207], [426.0, -5.07974727676241e+207], [426.0, -7.700276471557576e+207], [426.0, -6.244426901270207e+207], [426.0, -7.121991523627549e+206], [426.0, -1.585708497796522e+207], [426.0, -1.29453872538252e+207], [426.0, -7.117936701265679e+207], [426.0, -3.332728173461705e+207], [426.0, -3.623897965317019e+207], [426.0, -1.0033687010040165e+207], [425.0, -2.750388091716043e+207], [426.0, -3.041558183136193e+207], [426.0, -4.4974074891195284e+207], [426.0, -4.7885776600346497e+207], [426.0, -7.409106701112539e+207], [426.0, -5.37091718658168e+207], [426.0, -4.206237595599323e+207], [426.0, -3.915067693141294e+207], [426.0, -5.953257130157109e+207], [426.0, -7.700276397951183e+207], [426.0, -5.662087101028106e+207], [424.0, -5.079747280763341e+207], [426.0, -8.282616278708408e+207], [426.0, -7.9914463882218e+207], [426.0, -6.244426892544692e+207], [426.0, -7.121989567702481e+206], [426.0, -1.5857085023548393e+207], [426.0, -1.294538610562776e+207], [425.0, -2.7503880977594984e+207], [426.0, -3.6238978132710116e+207], [426.0, -3.332728103352064e+207], [425.0, -3.041558097986338e+207], [426.0, -1.003368715073469e+207], [426.0, -7.117936607029882e+207], [421.0, -7.409106501511964e+207], [426.0, -1.8768784565218335e+207], [426.0, -4.7885780424038766e+207], [426.0, -3.91506813729047e+207], [426.0, -4.49740751204089e+207], [426.0, -4.2062376883171254e+207], [426.0, -5.370917295793184e+207], [426.0, -8.282616465475936e+207], [425.0, -7.700276411310285e+207], [426.0, -5.662087093039112e+207], [426.0, -5.953256981491117e+207], [426.0, -5.0797473865745746e+207], [425.0, -7.991446387926073e+207], [426.0, -6.2444269300333e+207], [425.0, -1.294538612567985e+207], [426.0, -7.121989883823566e+206], [426.0, -1.5857095242158002e+207], [426.0, -1.0033687301195133e+207], [425.0, -3.0415582027436344e+207], [426.0, -3.332727981098418e+207], [425.0, -7.117936583932951e+207], [426.0, -3.623898012191041e+207], [426.0, -2.750388122261401e+207], [425.0, -7.4091065009344e+207], [426.0, -3.9150676922699666e+207], [426.0, -4.4974076645600344e+207], [426.0, -4.2062375974432915e+207], [425.0, -4.788577384991806e+207], [426.0, -5.370917185644318e+207], [426.0, -5.079747303211955e+207], [426.0, -7.991446270212316e+207], [426.0, -8.282616474715565e+207], [426.0, -7.700276588459731e+207], [426.0, -5.662087617926066e+207], [426.0, -5.953256983535359e+207], [426.0, -6.244426900820503e+207], [426.0, -1.5857085370607744e+207], [426.0, -1.2945388442070655e+207], [426.0, -7.121993999012758e+206], [426.0, -1.003368725077674e+207], [426.0, -7.117936602991889e+207], [426.0, -3.041558219599111e+207], [425.0, -3.62389804049633e+207], [426.0, -3.332727999164469e+207], [426.0, -2.7503880965059006e+207], [426.0, -3.9150677092689377e+207], [426.0, -4.206237578709563e+207], [426.0, -4.7885775871321433e+207], [426.0, -4.4974074874968416e+207], [426.0, -5.370917330382709e+207], [426.0, -7.409106512616498e+207], [425.0, -5.079747313326389e+207], [426.0, -5.953257034360269e+207], [426.0, -7.700276369294127e+207], [426.0, -5.66208708676157e+207], [426.0, -6.244426934286911e+207], [424.0, -7.991446407046889e+207], [426.0, -8.282616211073263e+207], [426.0, -1.585708533264255e+207], [1192.0, -6.17664536926966e+207], [426.0, -2.4592183398130649e+207], [426.0, -2.168048427723557e+207], [426.0, -8.57378605669814e+207], [423.0, -2.4592184375912998e+207], [426.0, -1.8768785419905671e+207], [426.0, -2.1680484109678413e+207], [426.0, -8.573786073331524e+207], [426.0, -2.1680484294711822e+207], [426.0, -1.8768786777027694e+207], [426.0, -2.459218407005634e+207], [424.0, -8.573786106652935e+207], [426.0, -2.45921819070386e+207], [426.0, -2.1680484145461298e+207], [426.0, -1.8768783955332748e+207], [426.0, -8.573786077369582e+207], [426.0, -2.1680484164174793e+207], [425.0, -2.4592183414229514e+207], [426.0, -1.8768798319224974e+207], [426.0, -8.573786071195645e+207], [426.0, -2.4592183108975968e+207], [426.0, -1.876878586236018e+207], [426.0, -2.1680484209531338e+207], [426.0, -8.573786074489222e+207], [426.0, -2.168048526549769e+207], [426.0, -1.8768785017195808e+207], [426.0, -2.4592182000810116e+207], [426.0, -8.573786665322926e+207], [426.0, -2.168048539789783e+207], [426.0, -2.4592182102868243e+207], [426.0, -1.876879956680626e+207], [426.0, -8.57378608886319e+207], [425.0, -2.168048485956381e+207], [426.0, -1.8768784575155636e+207], [426.0, -2.4592182276960845e+207], [425.0, -8.573786099548573e+207], [425.0, -2.1680485455083498e+207], [425.0, -1.8768784270228684e+207], [426.0, -2.459218693304914e+207], [426.0, -8.573786093118839e+207], [426.0, -1.876878698692393e+207], [426.0, -2.4592182027454966e+207], [426.0, -2.1680485138992918e+207], [426.0, -8.573786184842155e+207], [426.0, -2.1680486456051586e+207], [426.0, -2.459218193147568e+207], [425.0, -1.8768784026655275e+207], [426.0, -8.573786077151861e+207], [426.0, -1.876878429821409e+207], [426.0, -2.168048407479912e+207], [426.0, -2.4592182166891153e+207], [426.0, -2.168048529320918e+207], [426.0, -2.4592181907542954e+207], [426.0, -1.876878392635279e+207], [426.0, -8.573786094596718e+207], [426.0, -8.573786177832005e+207]]}, \"id\": \"el881414450885200\"});\n",
        "      });\n",
        "    });\n",
        "}else{\n",
        "    // require.js not available: dynamically load d3 & mpld3\n",
        "    mpld3_load_lib(\"https://mpld3.github.io/js/d3.v3.min.js\", function(){\n",
        "         mpld3_load_lib(\"https://mpld3.github.io/js/mpld3.v0.2.js\", function(){\n",
        "                 \n",
        "                 mpld3.draw_figure(\"fig_el8814144508852003657112077\", {\"axes\": [{\"xlim\": [-50000.0, 300000.0], \"yscale\": \"linear\", \"axesbg\": \"#FFFFFF\", \"texts\": [{\"v_baseline\": \"hanging\", \"h_anchor\": \"middle\", \"color\": \"#000000\", \"text\": \"response\", \"coordinates\": \"axes\", \"zorder\": 3, \"alpha\": 1, \"fontsize\": 10.0, \"position\": [0.5, -0.080645161290322578], \"rotation\": -0.0, \"id\": \"el881414449272592\"}, {\"v_baseline\": \"auto\", \"h_anchor\": \"middle\", \"color\": \"#000000\", \"text\": \"prediction\", \"coordinates\": \"axes\", \"zorder\": 3, \"alpha\": 1, \"fontsize\": 10.0, \"position\": [-0.095262096774193561, 0.5], \"rotation\": -90.0, \"id\": \"el881414452313552\"}], \"zoomable\": true, \"images\": [], \"xdomain\": [-50000.0, 300000.0], \"ylim\": [-1.2000000000000002e+208, 1.9999999999999995e+207], \"paths\": [], \"sharey\": [], \"sharex\": [], \"axesbgalpha\": null, \"axes\": [{\"scale\": \"linear\", \"tickformat\": null, \"grid\": {\"gridOn\": false}, \"fontsize\": 10.0, \"position\": \"bottom\", \"nticks\": 8, \"tickvalues\": null}, {\"scale\": \"linear\", \"tickformat\": null, \"grid\": {\"gridOn\": false}, \"fontsize\": 10.0, \"position\": \"left\", \"nticks\": 10, \"tickvalues\": null}], \"lines\": [], \"markers\": [], \"id\": \"el881414452353616\", \"ydomain\": [-1.2000000000000002e+208, 1.9999999999999995e+207], \"collections\": [{\"paths\": [[[[0.0, -0.5], [0.13260155, -0.5], [0.25978993539242673, -0.44731684579412084], [0.3535533905932738, -0.3535533905932738], [0.44731684579412084, -0.25978993539242673], [0.5, -0.13260155], [0.5, 0.0], [0.5, 0.13260155], [0.44731684579412084, 0.25978993539242673], [0.3535533905932738, 0.3535533905932738], [0.25978993539242673, 0.44731684579412084], [0.13260155, 0.5], [0.0, 0.5], [-0.13260155, 0.5], [-0.25978993539242673, 0.44731684579412084], [-0.3535533905932738, 0.3535533905932738], [-0.44731684579412084, 0.25978993539242673], [-0.5, 0.13260155], [-0.5, 0.0], [-0.5, -0.13260155], [-0.44731684579412084, -0.25978993539242673], [-0.3535533905932738, -0.3535533905932738], [-0.25978993539242673, -0.44731684579412084], [-0.13260155, -0.5], [0.0, -0.5]], [\"M\", \"C\", \"C\", \"C\", \"C\", \"C\", \"C\", \"C\", \"C\", \"Z\"]]], \"edgecolors\": [\"#000000\"], \"edgewidths\": [1.0], \"offsets\": \"data01\", \"yindex\": 1, \"id\": \"el881414452855632\", \"pathtransforms\": [[4.969039949999533, 0.0, 0.0, 4.969039949999533, 0.0, 0.0]], \"pathcoordinates\": \"display\", \"offsetcoordinates\": \"data\", \"zorder\": 1, \"xindex\": 0, \"alphas\": [null], \"facecolors\": [\"#0000FF\"]}], \"xscale\": \"linear\", \"bbox\": [0.125, 0.125, 0.77500000000000002, 0.77500000000000002]}], \"height\": 320.0, \"width\": 480.0, \"plugins\": [{\"type\": \"reset\"}, {\"enabled\": false, \"button\": true, \"type\": \"zoom\"}, {\"enabled\": false, \"button\": true, \"type\": \"boxzoom\"}], \"data\": {\"data01\": [[0.0, 0.0], [4930.0, -3.4691213746110134e+206], [16091.0, -9.355869313543876e+206], [134336.0, -2.1002678421369378e+207], [273816.0, -2.3914381565115895e+207], [13268.0, -2.682606757206865e+207], [4097.0, -2.973777432703858e+207], [6671.0, -3.847286089473645e+207], [5349.0, -4.138455772440828e+207], [5269.0, -4.4296263196814895e+207], [5026.0, -4.7207955703075385e+207], [10523.0, -5.011965487676359e+207], [4110.0, -5.303135362751366e+207], [3728.0, -5.594305283382166e+207], [8933.0, -5.885475253471967e+207], [5430.0, -6.752649933160614e+207], [7101.0, -8.790840033045773e+207], [6134.0, -9.082009369514362e+207], [6248.0, -9.373179474703915e+207], [6254.0, -9.66434944079622e+207], [5501.0, -1.0246688728807962e+208], [5377.0, -1.053785908644269e+208], [6552.0, -1.082902876938716e+208], [3454.0, -7.050154852692506e+207], [638.0, -7.923664443266788e+207], [639.0, -7.632494570752157e+207], [639.0, -8.50600423392567e+207], [1388.0, -1.117277580886909e+208], [1105.0, -1.0029637564574356e+208], [1105.0, -1.0029637605579741e+208], [1104.0, -1.0029637585960541e+208], [7269.0, -7.341324647500673e+207], [621.0, -8.214834363287994e+207], [1108.0, -6.412489177742997e+206], [591.0, -1.2235889796988541e+207], [6719.0, -9.955519756446057e+207], [1099.0, -1.0903147379102112e+208], [591.0, -1.514759349317688e+207], [591.0, -1.805928488897035e+207], [2370.0, -3.2649470584523873e+207], [424.0, -6.470982970244385e+207], [1092.0, -6.826768151002798e+207], [1092.0, -9.156127515898853e+207], [1094.0, -8.864958171942991e+207], [1094.0, -8.864958167840747e+207], [1092.0, -9.15612761647689e+207], [1092.0, -9.15612743542888e+207], [1094.0, -9.447297721716867e+207], [1091.0, -9.156127551384223e+207], [1092.0, -9.156127557284909e+207], [1094.0, -9.738467640910681e+207], [1091.0, -1.0320806888101842e+208], [1094.0, -1.0611976828739402e+208], [1094.0, -8.864958783135791e+207], [1094.0, -8.864958298372277e+207], [3138.0, -3.5561159953262975e+207], [426.0, -1.294538710943855e+207], [426.0, -1.585708520938991e+207], [425.0, -7.121997943316334e+206], [426.0, -1.0033687308736712e+207], [426.0, -3.623897782198905e+207], [426.0, -7.117937440553536e+207], [425.0, -2.7503881150864195e+207], [425.0, -3.0415579863074027e+207], [426.0, -3.332728032288526e+207], [426.0, -5.370917176888298e+207], [426.0, -3.9150678365173866e+207], [426.0, -4.4974074815237526e+207], [425.0, -4.2062376140803766e+207], [426.0, -4.788577593184767e+207], [426.0, -7.409106711988004e+207], [426.0, -5.07974730582244e+207], [426.0, -7.700276623314573e+207], [426.0, -5.953257037946377e+207], [426.0, -7.991446260835993e+207], [426.0, -8.28261637889274e+207], [426.0, -5.662087084292837e+207], [426.0, -6.244427105663151e+207], [426.0, -1.2945386065391097e+207], [426.0, -1.5857085917184437e+207], [426.0, -7.121989244345981e+206], [426.0, -3.623897814900639e+207], [425.0, -3.041558206818911e+207], [426.0, -2.7503888965744904e+207], [426.0, -7.117936571932577e+207], [425.0, -1.0033688199422362e+207], [426.0, -3.332727959553455e+207], [425.0, -4.2062378750240316e+207], [426.0, -5.370917174875001e+207], [425.0, -4.788577410105342e+207], [426.0, -4.4974078759515984e+207], [426.0, -7.409106811129905e+207], [426.0, -3.915068042193499e+207], [426.0, -5.662087230029894e+207], [426.0, -5.079747313855623e+207], [426.0, -8.282617203267133e+207], [426.0, -7.700276975485551e+207], [426.0, -5.953258511444092e+207], [426.0, -7.991446282539427e+207], [426.0, -6.244426929325117e+207], [426.0, -7.121989398190262e+206], [426.0, -1.2945388830435045e+207], [425.0, -3.6238978183284605e+207], [425.0, -7.117936572402535e+207], [426.0, -1.0033687322944825e+207], [426.0, -3.33272830580761e+207], [425.0, -3.0415580275534855e+207], [426.0, -2.750388094931293e+207], [426.0, -3.915067967383877e+207], [425.0, -5.370917215624e+207], [424.0, -4.7885775674870075e+207], [426.0, -7.409106973870782e+207], [426.0, -4.4974078131717345e+207], [426.0, -4.206237588968486e+207], [426.0, -5.953257213361621e+207], [425.0, -5.0797475706753896e+207], [426.0, -7.700276380497101e+207], [426.0, -7.991446892699555e+207], [425.0, -5.662087437701048e+207], [426.0, -8.28261762862113e+207], [423.0, -6.244426890321571e+207], [426.0, -1.294538964590328e+207], [426.0, -7.121990378685088e+206], [426.0, -1.58570872360586e+207], [426.0, -3.332727884770742e+207], [426.0, -3.041558197048355e+207], [425.0, -2.750388607553618e+207], [426.0, -3.623898912314035e+207], [426.0, -7.117936572827725e+207], [426.0, -1.003368698720464e+207], [426.0, -7.409106467015165e+207], [426.0, -4.497407733303602e+207], [426.0, -5.370917283424651e+207], [426.0, -4.7885773804227253e+207], [426.0, -3.915067787219481e+207], [426.0, -4.2062375840087956e+207], [426.0, -7.991446297858464e+207], [426.0, -5.0797472779876073e+207], [426.0, -7.70027640375412e+207], [426.0, -5.953256986471057e+207], [426.0, -8.28261637054055e+207], [426.0, -5.662087175713037e+207], [425.0, -6.244426894183296e+207], [426.0, -1.585708518720382e+207], [426.0, -7.121989666878386e+206], [426.0, -1.2945387999062656e+207], [426.0, -3.623897882231526e+207], [425.0, -3.0415583265660874e+207], [426.0, -7.117936855033228e+207], [425.0, -1.0033689614091838e+207], [425.0, -2.750388219160429e+207], [426.0, -3.332727890537573e+207], [426.0, -4.788577389356475e+207], [425.0, -5.370917298022986e+207], [426.0, -4.4974074769516156e+207], [426.0, -4.2062395278954597e+207], [426.0, -7.409106464444863e+207], [425.0, -3.9150679281300827e+207], [425.0, -7.991446364637753e+207], [426.0, -7.700276387755943e+207], [426.0, -5.953257150036831e+207], [426.0, -8.282616164435545e+207], [426.0, -5.662087723480956e+207], [426.0, -5.0797478006692136e+207], [425.0, -6.244426907250494e+207], [426.0, -7.121990229724033e+206], [426.0, -1.2945386019508645e+207], [424.0, -1.5857084979541303e+207], [426.0, -3.6238980287280113e+207], [426.0, -7.117936746872631e+207], [426.0, -3.041558041297087e+207], [426.0, -1.0033695540225076e+207], [426.0, -2.7503887336506667e+207], [426.0, -3.33272790716975e+207], [426.0, -4.497407619963554e+207], [426.0, -5.370917204841822e+207], [426.0, -4.788577540799467e+207], [426.0, -4.20623778855753e+207], [426.0, -3.9150685323977756e+207], [425.0, -7.409106493821313e+207], [426.0, -8.282616235812303e+207], [426.0, -7.700276367478811e+207], [425.0, -5.953257079069524e+207], [426.0, -7.991446784458342e+207], [426.0, -5.0797472896773495e+207], [426.0, -5.662087600164415e+207], [426.0, -6.244427008314856e+207], [425.0, -7.121990017638759e+206], [426.0, -1.5857085061428906e+207], [426.0, -1.2945386008579932e+207], [424.0, -1.0033687199465556e+207], [426.0, -3.9150676897577396e+207], [426.0, -3.041558028767602e+207], [425.0, -3.332729038624794e+207], [426.0, -3.623898689988139e+207], [426.0, -2.750388213316045e+207], [425.0, -7.117936579230844e+207], [426.0, -4.2062375863306826e+207], [426.0, -4.497407706580597e+207], [426.0, -7.409106612600235e+207], [426.0, -5.07974763200998e+207], [426.0, -4.788577388995283e+207], [424.0, -5.370917385101258e+207], [426.0, -7.991446278769013e+207], [426.0, -5.662087086195458e+207], [426.0, -7.700276367454228e+207], [426.0, -5.953257112797166e+207], [426.0, -8.282616217583287e+207], [426.0, -6.244427493090477e+207], [424.0, -1.585708528430387e+207], [426.0, -1.294538627342235e+207], [426.0, -7.122001006388413e+206], [426.0, -3.332728018145662e+207], [426.0, -3.0415580695499866e+207], [426.0, -7.11793658186871e+207], [426.0, -1.0033688452283152e+207], [426.0, -2.7503880977545955e+207], [426.0, -3.623897893088146e+207], [425.0, -4.206237606051195e+207], [426.0, -7.409106496898119e+207], [426.0, -3.915067719072224e+207], [426.0, -4.4974075157869744e+207], [426.0, -5.370917398193956e+207], [425.0, -4.7885773956312133e+207], [426.0, -5.079747287640998e+207], [426.0, -8.282616511743998e+207], [425.0, -5.953257111192122e+207], [426.0, -7.991446271098801e+207], [426.0, -7.700276724506639e+207], [426.0, -5.662087084830102e+207], [426.0, -6.244426890851895e+207], [426.0, -7.121992445993033e+206], [426.0, -1.2945386170641526e+207], [426.0, -1.58570925636088e+207], [426.0, -1.0033687381814208e+207], [426.0, -2.750388466662305e+207], [426.0, -3.623897817192861e+207], [426.0, -3.041558134563118e+207], [426.0, -3.9150680315850274e+207], [426.0, -3.3327279345215634e+207], [426.0, -7.117936728793838e+207], [426.0, -5.370918833393552e+207], [426.0, -5.0797479396869583e+207], [426.0, -4.4974079237835067e+207], [425.0, -4.788577796590369e+207], [425.0, -7.409106855821946e+207], [426.0, -4.2062382907935494e+207], [426.0, -7.991447532852013e+207], [426.0, -8.282616215722203e+207], [425.0, -5.66208741066405e+207], [426.0, -7.700276390318354e+207], [426.0, -5.953257447773675e+207], [426.0, -6.244426924335179e+207], [426.0, -1.5857085034713364e+207], [426.0, -7.121989587953883e+206], [426.0, -1.2945390961088186e+207], [426.0, -1.0033687546168207e+207], [425.0, -2.750388135392014e+207], [425.0, -3.623897824555305e+207], [426.0, -3.332727909925803e+207], [426.0, -7.117936586454408e+207], [426.0, -3.041557999718407e+207], [426.0, -4.7885774101410115e+207], [426.0, -3.9150676858258374e+207], [425.0, -4.4974074873757875e+207], [426.0, -7.409106476744591e+207], [426.0, -5.370917459809147e+207], [426.0, -4.20623759787237e+207], [426.0, -8.282616220721818e+207], [426.0, -5.953257003503006e+207], [426.0, -7.991446294433128e+207], [425.0, -5.662087490432493e+207], [426.0, -5.07974727676241e+207], [426.0, -7.700276471557576e+207], [426.0, -6.244426901270207e+207], [426.0, -7.121991523627549e+206], [426.0, -1.585708497796522e+207], [426.0, -1.29453872538252e+207], [426.0, -7.117936701265679e+207], [426.0, -3.332728173461705e+207], [426.0, -3.623897965317019e+207], [426.0, -1.0033687010040165e+207], [425.0, -2.750388091716043e+207], [426.0, -3.041558183136193e+207], [426.0, -4.4974074891195284e+207], [426.0, -4.7885776600346497e+207], [426.0, -7.409106701112539e+207], [426.0, -5.37091718658168e+207], [426.0, -4.206237595599323e+207], [426.0, -3.915067693141294e+207], [426.0, -5.953257130157109e+207], [426.0, -7.700276397951183e+207], [426.0, -5.662087101028106e+207], [424.0, -5.079747280763341e+207], [426.0, -8.282616278708408e+207], [426.0, -7.9914463882218e+207], [426.0, -6.244426892544692e+207], [426.0, -7.121989567702481e+206], [426.0, -1.5857085023548393e+207], [426.0, -1.294538610562776e+207], [425.0, -2.7503880977594984e+207], [426.0, -3.6238978132710116e+207], [426.0, -3.332728103352064e+207], [425.0, -3.041558097986338e+207], [426.0, -1.003368715073469e+207], [426.0, -7.117936607029882e+207], [421.0, -7.409106501511964e+207], [426.0, -1.8768784565218335e+207], [426.0, -4.7885780424038766e+207], [426.0, -3.91506813729047e+207], [426.0, -4.49740751204089e+207], [426.0, -4.2062376883171254e+207], [426.0, -5.370917295793184e+207], [426.0, -8.282616465475936e+207], [425.0, -7.700276411310285e+207], [426.0, -5.662087093039112e+207], [426.0, -5.953256981491117e+207], [426.0, -5.0797473865745746e+207], [425.0, -7.991446387926073e+207], [426.0, -6.2444269300333e+207], [425.0, -1.294538612567985e+207], [426.0, -7.121989883823566e+206], [426.0, -1.5857095242158002e+207], [426.0, -1.0033687301195133e+207], [425.0, -3.0415582027436344e+207], [426.0, -3.332727981098418e+207], [425.0, -7.117936583932951e+207], [426.0, -3.623898012191041e+207], [426.0, -2.750388122261401e+207], [425.0, -7.4091065009344e+207], [426.0, -3.9150676922699666e+207], [426.0, -4.4974076645600344e+207], [426.0, -4.2062375974432915e+207], [425.0, -4.788577384991806e+207], [426.0, -5.370917185644318e+207], [426.0, -5.079747303211955e+207], [426.0, -7.991446270212316e+207], [426.0, -8.282616474715565e+207], [426.0, -7.700276588459731e+207], [426.0, -5.662087617926066e+207], [426.0, -5.953256983535359e+207], [426.0, -6.244426900820503e+207], [426.0, -1.5857085370607744e+207], [426.0, -1.2945388442070655e+207], [426.0, -7.121993999012758e+206], [426.0, -1.003368725077674e+207], [426.0, -7.117936602991889e+207], [426.0, -3.041558219599111e+207], [425.0, -3.62389804049633e+207], [426.0, -3.332727999164469e+207], [426.0, -2.7503880965059006e+207], [426.0, -3.9150677092689377e+207], [426.0, -4.206237578709563e+207], [426.0, -4.7885775871321433e+207], [426.0, -4.4974074874968416e+207], [426.0, -5.370917330382709e+207], [426.0, -7.409106512616498e+207], [425.0, -5.079747313326389e+207], [426.0, -5.953257034360269e+207], [426.0, -7.700276369294127e+207], [426.0, -5.66208708676157e+207], [426.0, -6.244426934286911e+207], [424.0, -7.991446407046889e+207], [426.0, -8.282616211073263e+207], [426.0, -1.585708533264255e+207], [1192.0, -6.17664536926966e+207], [426.0, -2.4592183398130649e+207], [426.0, -2.168048427723557e+207], [426.0, -8.57378605669814e+207], [423.0, -2.4592184375912998e+207], [426.0, -1.8768785419905671e+207], [426.0, -2.1680484109678413e+207], [426.0, -8.573786073331524e+207], [426.0, -2.1680484294711822e+207], [426.0, -1.8768786777027694e+207], [426.0, -2.459218407005634e+207], [424.0, -8.573786106652935e+207], [426.0, -2.45921819070386e+207], [426.0, -2.1680484145461298e+207], [426.0, -1.8768783955332748e+207], [426.0, -8.573786077369582e+207], [426.0, -2.1680484164174793e+207], [425.0, -2.4592183414229514e+207], [426.0, -1.8768798319224974e+207], [426.0, -8.573786071195645e+207], [426.0, -2.4592183108975968e+207], [426.0, -1.876878586236018e+207], [426.0, -2.1680484209531338e+207], [426.0, -8.573786074489222e+207], [426.0, -2.168048526549769e+207], [426.0, -1.8768785017195808e+207], [426.0, -2.4592182000810116e+207], [426.0, -8.573786665322926e+207], [426.0, -2.168048539789783e+207], [426.0, -2.4592182102868243e+207], [426.0, -1.876879956680626e+207], [426.0, -8.57378608886319e+207], [425.0, -2.168048485956381e+207], [426.0, -1.8768784575155636e+207], [426.0, -2.4592182276960845e+207], [425.0, -8.573786099548573e+207], [425.0, -2.1680485455083498e+207], [425.0, -1.8768784270228684e+207], [426.0, -2.459218693304914e+207], [426.0, -8.573786093118839e+207], [426.0, -1.876878698692393e+207], [426.0, -2.4592182027454966e+207], [426.0, -2.1680485138992918e+207], [426.0, -8.573786184842155e+207], [426.0, -2.1680486456051586e+207], [426.0, -2.459218193147568e+207], [425.0, -1.8768784026655275e+207], [426.0, -8.573786077151861e+207], [426.0, -1.876878429821409e+207], [426.0, -2.168048407479912e+207], [426.0, -2.4592182166891153e+207], [426.0, -2.168048529320918e+207], [426.0, -2.4592181907542954e+207], [426.0, -1.876878392635279e+207], [426.0, -8.573786094596718e+207], [426.0, -8.573786177832005e+207]]}, \"id\": \"el881414450885200\"});\n",
        "            })\n",
        "         });\n",
        "}\n",
        "</script>"
       ],
       "metadata": {},
       "output_type": "display_data",
       "png": "[encoded data removed]",
       "text": [
        "<matplotlib.figure.Figure at 0x1094b1e50>"
       ]
      }
     ],
     "prompt_number": 42
    },
    {
     "cell_type": "code",
     "collapsed": false,
     "input": [],
     "language": "python",
     "metadata": {},
     "outputs": [],
     "prompt_number": 42
    },
    {
     "cell_type": "markdown",
     "metadata": {},
     "source": [
      "# decision Tree"
     ]
    },
    {
     "cell_type": "code",
     "collapsed": false,
     "input": [
      "'''\n",
      "# Load and parse the data file into an RDD of LabeledPoint.\n",
      "from pyspark.mllib.util import MLUtils\n",
      "data = MLUtils.loadLibSVMFile(sc,\"test_libsvm.data\")\n",
      "data.take(1)[0].label,data.take(1)[0].features\n",
      "'''"
     ],
     "language": "python",
     "metadata": {},
     "outputs": [
      {
       "metadata": {},
       "output_type": "pyout",
       "prompt_number": 43,
       "text": [
        "'\\n# Load and parse the data file into an RDD of LabeledPoint.\\nfrom pyspark.mllib.util import MLUtils\\ndata = MLUtils.loadLibSVMFile(sc,\"test_libsvm.data\")\\ndata.take(1)[0].label,data.take(1)[0].features\\n'"
       ]
      }
     ],
     "prompt_number": 43
    },
    {
     "cell_type": "code",
     "collapsed": false,
     "input": [
      "from numpy import array\n",
      "from pyspark.mllib.regression import LabeledPoint\n",
      "from pyspark.mllib.linalg import Vectors\n",
      "from pyspark.mllib.tree import DecisionTree\n",
      "\n",
      "#df.map(lambda x: len(x)).collect()\n",
      "features =[\"response\", \"X-Runtime\", \"timestampStartEnd\",\"Content-TypeID\",\"methodID\",\"pathID\", \"msgID\",\"codeID\",\"contentMatch\"]\n",
      "                            \n",
      "def parsedVector(line):\n",
      "    length =len(line[1:])\n",
      "    v = zip(*[ (i,x) for i,x in enumerate(line[1:])])\n",
      "\n",
      "    sv1 = Vectors.sparse(length, v[0], v[1])\n",
      "\n",
      "    return LabeledPoint(line[0], sv1) #, list(v[1])))\n",
      "    \n",
      "    \n",
      "d2=df.map(lambda x: [x.get(f) or 0 for i,f in enumerate(features)])\n",
      "\n",
      "d2=d2.map(parsedVector)\n",
      "d2.take(2)"
     ],
     "language": "python",
     "metadata": {},
     "outputs": [
      {
       "metadata": {},
       "output_type": "pyout",
       "prompt_number": 44,
       "text": [
        "[LabeledPoint(0.0, (8,[0,1,2,3,4,5,6,7],[0.0,0.0,0.0,0.0,0.0,0.0,0.0,0.0])),\n",
        " LabeledPoint(4930.0, (8,[0,1,2,3,4,5,6,7],[0.017533,0.00738596916199,1.0,1.0,1.0,1.0,1.0,0.0]))]"
       ]
      }
     ],
     "prompt_number": 44
    },
    {
     "cell_type": "code",
     "collapsed": false,
     "input": [
      "for i,x in enumerate(features): print i,x\n"
     ],
     "language": "python",
     "metadata": {},
     "outputs": [
      {
       "output_type": "stream",
       "stream": "stdout",
       "text": [
        "0 response\n",
        "1 X-Runtime\n",
        "2 timestampStartEnd\n",
        "3 Content-TypeID\n",
        "4 methodID\n",
        "5 pathID\n",
        "6 msgID\n",
        "7 codeID\n",
        "8 contentMatch\n"
       ]
      }
     ],
     "prompt_number": 45
    },
    {
     "cell_type": "code",
     "collapsed": false,
     "input": [
      "\n",
      "# Split the data into training and test sets (30% held out for testing)\n",
      "(trainingData, testData) = d2.randomSplit([0.7, 0.3])\n",
      "\n",
      "# Train a DecisionTree model.\n",
      "#  Empty categoricalFeaturesInfo indicates all features are continuous.\n",
      "model = DecisionTree.trainRegressor(trainingData, categoricalFeaturesInfo={},\n",
      "                                    impurity=\"variance\", maxDepth=6, maxBins=12)\n",
      "\n",
      "# Evaluate model on test instances and compute test error\n",
      "predictions = model.predict(testData.map(lambda x: x.features))\n",
      "labelsAndPredictions = testData.map(lambda lp: lp.label).zip(predictions)\n",
      "testMSE = labelsAndPredictions.map(lambda (v, p): (v - p) * (v - p)).sum() / float(testData.count())\n",
      "print('Test Mean Squared Error = ' + str(testMSE))\n",
      "print('Learned regression tree model:')\n",
      "print(model.toDebugString())\n"
     ],
     "language": "python",
     "metadata": {},
     "outputs": [
      {
       "output_type": "stream",
       "stream": "stdout",
       "text": [
        "Test Mean Squared Error = 728208.7857\n",
        "Learned regression tree model:\n",
        "DecisionTreeModel regressor of depth 6 with 47 nodes\n",
        "  If (feature 2 <= 2.0)\n",
        "   If (feature 2 <= 0.0)\n",
        "    If (feature 4 <= 29.0)\n",
        "     If (feature 3 <= 0.0)\n",
        "      Predict: 0.0\n",
        "     Else (feature 3 > 0.0)\n",
        "      If (feature 1 <= 0.0018181800842285156)\n",
        "       If (feature 0 <= 0.00253)\n",
        "        Predict: 425.84\n",
        "       Else (feature 0 > 0.00253)\n",
        "        Predict: 426.0\n",
        "      Else (feature 1 > 0.0018181800842285156)\n",
        "       If (feature 0 <= 0.001278)\n",
        "        Predict: 425.90625\n",
        "       Else (feature 0 > 0.001278)\n",
        "        Predict: 425.6711409395973\n",
        "    Else (feature 4 > 29.0)\n",
        "     If (feature 1 <= 0.006658077239990234)\n",
        "      Predict: 1094.875\n",
        "     Else (feature 1 > 0.006658077239990234)\n",
        "      If (feature 1 <= 0.010370016098022461)\n",
        "       Predict: 1097.6666666666667\n",
        "      Else (feature 1 > 0.010370016098022461)\n",
        "       Predict: 1094.0\n",
        "   Else (feature 2 > 0.0)\n",
        "    If (feature 0 <= 0.009676)\n",
        "     If (feature 1 <= 0.003206968307495117)\n",
        "      Predict: 1108.0\n",
        "     Else (feature 1 > 0.003206968307495117)\n",
        "      Predict: 591.0\n",
        "    Else (feature 0 > 0.009676)\n",
        "     If (feature 3 <= 1.0)\n",
        "      If (feature 4 <= 3.0)\n",
        "       Predict: 4930.0\n",
        "      Else (feature 4 > 3.0)\n",
        "       If (feature 1 <= 0.010370016098022461)\n",
        "        Predict: 6307.2\n",
        "       Else (feature 1 > 0.010370016098022461)\n",
        "        Predict: 6048.0\n",
        "     Else (feature 3 > 1.0)\n",
        "      Predict: 1388.0\n",
        "  Else (feature 2 > 2.0)\n",
        "   If (feature 4 <= 8.0)\n",
        "    If (feature 0 <= 0.001316)\n",
        "     Predict: 16091.0\n",
        "    Else (feature 0 > 0.001316)\n",
        "     If (feature 0 <= 0.001526)\n",
        "      Predict: 273816.0\n",
        "     Else (feature 0 > 0.001526)\n",
        "      Predict: 134336.0\n",
        "   Else (feature 4 > 8.0)\n",
        "    If (feature 4 <= 26.0)\n",
        "     If (feature 0 <= 0.00298)\n",
        "      If (feature 0 <= 0.00167)\n",
        "       If (feature 1 <= 0.003206968307495117)\n",
        "        Predict: 6812.75\n",
        "       Else (feature 1 > 0.003206968307495117)\n",
        "        Predict: 4098.0\n",
        "      Else (feature 0 > 0.00167)\n",
        "       If (feature 1 <= 0.003206968307495117)\n",
        "        Predict: 6193.5\n",
        "       Else (feature 1 > 0.003206968307495117)\n",
        "        Predict: 13268.0\n",
        "     Else (feature 0 > 0.00298)\n",
        "      Predict: 1192.0\n",
        "    Else (feature 4 > 26.0)\n",
        "     If (feature 0 <= 0.001359)\n",
        "      Predict: 639.0\n",
        "     Else (feature 0 > 0.001359)\n",
        "      Predict: 621.0\n"
       ]
      },
      {
       "output_type": "stream",
       "stream": "stdout",
       "text": [
        "\n"
       ]
      }
     ],
     "prompt_number": 46
    },
    {
     "cell_type": "code",
     "collapsed": false,
     "input": [
      "# \n",
      "plt.xlabel(\"response\")\n",
      "plt.ylabel(\"prediction\")\n",
      "plt.scatter(*zip(*labelsAndPredictions.collect()))"
     ],
     "language": "python",
     "metadata": {},
     "outputs": [
      {
       "metadata": {},
       "output_type": "pyout",
       "prompt_number": 47,
       "text": [
        "<matplotlib.collections.PathCollection at 0x10a0415d0>"
       ]
      },
      {
       "html": [
        "\n",
        "\n",
        "<style>\n",
        "\n",
        "</style>\n",
        "\n",
        "<div id=\"fig_el8814144515322408464304664\"></div>\n",
        "<script>\n",
        "function mpld3_load_lib(url, callback){\n",
        "  var s = document.createElement('script');\n",
        "  s.src = url;\n",
        "  s.async = true;\n",
        "  s.onreadystatechange = s.onload = callback;\n",
        "  s.onerror = function(){console.warn(\"failed to load library \" + url);};\n",
        "  document.getElementsByTagName(\"head\")[0].appendChild(s);\n",
        "}\n",
        "\n",
        "if(typeof(mpld3) !== \"undefined\" && mpld3._mpld3IsLoaded){\n",
        "   // already loaded: just create the figure\n",
        "   !function(mpld3){\n",
        "       \n",
        "       mpld3.draw_figure(\"fig_el8814144515322408464304664\", {\"axes\": [{\"xlim\": [0.0, 7000.0], \"yscale\": \"linear\", \"axesbg\": \"#FFFFFF\", \"texts\": [{\"v_baseline\": \"hanging\", \"h_anchor\": \"middle\", \"color\": \"#000000\", \"text\": \"response\", \"coordinates\": \"axes\", \"zorder\": 3, \"alpha\": 1, \"fontsize\": 10.0, \"position\": [0.5, -0.080645161290322578], \"rotation\": -0.0, \"id\": \"el881414453973776\"}, {\"v_baseline\": \"auto\", \"h_anchor\": \"middle\", \"color\": \"#000000\", \"text\": \"prediction\", \"coordinates\": \"axes\", \"zorder\": 3, \"alpha\": 1, \"fontsize\": 10.0, \"position\": [-0.099798387096774216, 0.5], \"rotation\": -90.0, \"id\": \"el881414450881872\"}], \"zoomable\": true, \"images\": [], \"xdomain\": [0.0, 7000.0], \"ylim\": [0.0, 8000.0], \"paths\": [], \"sharey\": [], \"sharex\": [], \"axesbgalpha\": null, \"axes\": [{\"scale\": \"linear\", \"tickformat\": null, \"grid\": {\"gridOn\": false}, \"fontsize\": 10.0, \"position\": \"bottom\", \"nticks\": 8, \"tickvalues\": null}, {\"scale\": \"linear\", \"tickformat\": null, \"grid\": {\"gridOn\": false}, \"fontsize\": 10.0, \"position\": \"left\", \"nticks\": 9, \"tickvalues\": null}], \"lines\": [], \"markers\": [], \"id\": \"el881414451690704\", \"ydomain\": [0.0, 8000.0], \"collections\": [{\"paths\": [[[[0.0, -0.5], [0.13260155, -0.5], [0.25978993539242673, -0.44731684579412084], [0.3535533905932738, -0.3535533905932738], [0.44731684579412084, -0.25978993539242673], [0.5, -0.13260155], [0.5, 0.0], [0.5, 0.13260155], [0.44731684579412084, 0.25978993539242673], [0.3535533905932738, 0.3535533905932738], [0.25978993539242673, 0.44731684579412084], [0.13260155, 0.5], [0.0, 0.5], [-0.13260155, 0.5], [-0.25978993539242673, 0.44731684579412084], [-0.3535533905932738, 0.3535533905932738], [-0.44731684579412084, 0.25978993539242673], [-0.5, 0.13260155], [-0.5, 0.0], [-0.5, -0.13260155], [-0.44731684579412084, -0.25978993539242673], [-0.3535533905932738, -0.3535533905932738], [-0.25978993539242673, -0.44731684579412084], [-0.13260155, -0.5], [0.0, -0.5]], [\"M\", \"C\", \"C\", \"C\", \"C\", \"C\", \"C\", \"C\", \"C\", \"Z\"]]], \"edgecolors\": [\"#000000\"], \"edgewidths\": [1.0], \"offsets\": \"data01\", \"yindex\": 1, \"id\": \"el881414463007184\", \"pathtransforms\": [[4.969039949999533, 0.0, 0.0, 4.969039949999533, 0.0, 0.0]], \"pathcoordinates\": \"display\", \"offsetcoordinates\": \"data\", \"zorder\": 1, \"xindex\": 0, \"alphas\": [null], \"facecolors\": [\"#0000FF\"]}], \"xscale\": \"linear\", \"bbox\": [0.125, 0.125, 0.77500000000000002, 0.77500000000000002]}], \"height\": 320.0, \"width\": 480.0, \"plugins\": [{\"type\": \"reset\"}, {\"enabled\": false, \"button\": true, \"type\": \"zoom\"}, {\"enabled\": false, \"button\": true, \"type\": \"boxzoom\"}], \"data\": {\"data01\": [[6671.0, 4098.0], [5430.0, 6307.2], [6254.0, 6307.2], [638.0, 639.0], [639.0, 6193.5], [1105.0, 1094.875], [424.0, 6812.75], [1092.0, 425.6711409395973], [1092.0, 1094.875], [1094.0, 1094.875], [1092.0, 1094.875], [1092.0, 1094.875], [3138.0, 6193.5], [426.0, 426.0], [426.0, 425.84], [426.0, 425.84], [426.0, 425.6711409395973], [426.0, 425.6711409395973], [426.0, 425.84], [426.0, 425.6711409395973], [426.0, 425.84], [426.0, 426.0], [426.0, 425.90625], [425.0, 425.6711409395973], [425.0, 426.0], [426.0, 425.84], [426.0, 425.6711409395973], [426.0, 425.6711409395973], [426.0, 426.0], [426.0, 425.6711409395973], [425.0, 425.84], [426.0, 425.90625], [423.0, 425.84], [426.0, 425.6711409395973], [426.0, 425.6711409395973], [426.0, 425.84], [426.0, 425.6711409395973], [426.0, 425.6711409395973], [426.0, 425.84], [426.0, 425.6711409395973], [426.0, 425.84], [426.0, 425.6711409395973], [426.0, 425.6711409395973], [426.0, 425.6711409395973], [425.0, 425.6711409395973], [426.0, 425.90625], [426.0, 425.6711409395973], [426.0, 425.84], [425.0, 426.0], [426.0, 426.0], [426.0, 425.6711409395973], [426.0, 425.6711409395973], [426.0, 425.6711409395973], [424.0, 425.84], [426.0, 425.6711409395973], [426.0, 425.6711409395973], [426.0, 425.90625], [426.0, 425.6711409395973], [426.0, 425.84], [425.0, 425.6711409395973], [426.0, 425.6711409395973], [425.0, 425.6711409395973], [426.0, 425.90625], [425.0, 425.6711409395973], [426.0, 425.84], [426.0, 425.6711409395973], [426.0, 425.90625], [426.0, 425.6711409395973], [424.0, 425.6711409395973], [426.0, 425.6711409395973], [426.0, 425.6711409395973], [426.0, 425.6711409395973], [426.0, 425.6711409395973], [426.0, 425.6711409395973], [426.0, 425.6711409395973], [426.0, 425.6711409395973], [425.0, 426.0], [426.0, 425.6711409395973], [426.0, 425.6711409395973], [426.0, 425.6711409395973], [426.0, 425.84], [426.0, 425.6711409395973], [426.0, 425.6711409395973], [426.0, 425.6711409395973], [426.0, 425.84], [426.0, 425.6711409395973], [426.0, 426.0], [426.0, 425.6711409395973], [425.0, 425.84], [426.0, 425.90625], [426.0, 425.6711409395973], [426.0, 425.6711409395973], [426.0, 425.90625], [426.0, 425.90625], [426.0, 425.6711409395973], [425.0, 425.84], [425.0, 425.84], [426.0, 425.84], [426.0, 425.84], [426.0, 425.6711409395973], [426.0, 425.6711409395973], [426.0, 425.6711409395973], [426.0, 425.84], [426.0, 425.84], [426.0, 425.6711409395973], [426.0, 425.90625], [426.0, 425.6711409395973], [424.0, 425.6711409395973], [426.0, 425.6711409395973], [426.0, 425.90625], [426.0, 425.6711409395973], [426.0, 425.84], [426.0, 425.84], [426.0, 425.6711409395973], [426.0, 425.6711409395973], [425.0, 425.6711409395973], [425.0, 425.6711409395973], [426.0, 425.84], [426.0, 425.6711409395973], [426.0, 425.6711409395973], [426.0, 425.6711409395973], [426.0, 425.84]]}, \"id\": \"el881414451532240\"});\n",
        "   }(mpld3);\n",
        "}else if(typeof define === \"function\" && define.amd){\n",
        "   // require.js is available: use it to load d3/mpld3\n",
        "   require.config({paths: {d3: \"https://mpld3.github.io/js/d3.v3.min\"}});\n",
        "   require([\"d3\"], function(d3){\n",
        "      window.d3 = d3;\n",
        "      mpld3_load_lib(\"https://mpld3.github.io/js/mpld3.v0.2.js\", function(){\n",
        "         \n",
        "         mpld3.draw_figure(\"fig_el8814144515322408464304664\", {\"axes\": [{\"xlim\": [0.0, 7000.0], \"yscale\": \"linear\", \"axesbg\": \"#FFFFFF\", \"texts\": [{\"v_baseline\": \"hanging\", \"h_anchor\": \"middle\", \"color\": \"#000000\", \"text\": \"response\", \"coordinates\": \"axes\", \"zorder\": 3, \"alpha\": 1, \"fontsize\": 10.0, \"position\": [0.5, -0.080645161290322578], \"rotation\": -0.0, \"id\": \"el881414453973776\"}, {\"v_baseline\": \"auto\", \"h_anchor\": \"middle\", \"color\": \"#000000\", \"text\": \"prediction\", \"coordinates\": \"axes\", \"zorder\": 3, \"alpha\": 1, \"fontsize\": 10.0, \"position\": [-0.099798387096774216, 0.5], \"rotation\": -90.0, \"id\": \"el881414450881872\"}], \"zoomable\": true, \"images\": [], \"xdomain\": [0.0, 7000.0], \"ylim\": [0.0, 8000.0], \"paths\": [], \"sharey\": [], \"sharex\": [], \"axesbgalpha\": null, \"axes\": [{\"scale\": \"linear\", \"tickformat\": null, \"grid\": {\"gridOn\": false}, \"fontsize\": 10.0, \"position\": \"bottom\", \"nticks\": 8, \"tickvalues\": null}, {\"scale\": \"linear\", \"tickformat\": null, \"grid\": {\"gridOn\": false}, \"fontsize\": 10.0, \"position\": \"left\", \"nticks\": 9, \"tickvalues\": null}], \"lines\": [], \"markers\": [], \"id\": \"el881414451690704\", \"ydomain\": [0.0, 8000.0], \"collections\": [{\"paths\": [[[[0.0, -0.5], [0.13260155, -0.5], [0.25978993539242673, -0.44731684579412084], [0.3535533905932738, -0.3535533905932738], [0.44731684579412084, -0.25978993539242673], [0.5, -0.13260155], [0.5, 0.0], [0.5, 0.13260155], [0.44731684579412084, 0.25978993539242673], [0.3535533905932738, 0.3535533905932738], [0.25978993539242673, 0.44731684579412084], [0.13260155, 0.5], [0.0, 0.5], [-0.13260155, 0.5], [-0.25978993539242673, 0.44731684579412084], [-0.3535533905932738, 0.3535533905932738], [-0.44731684579412084, 0.25978993539242673], [-0.5, 0.13260155], [-0.5, 0.0], [-0.5, -0.13260155], [-0.44731684579412084, -0.25978993539242673], [-0.3535533905932738, -0.3535533905932738], [-0.25978993539242673, -0.44731684579412084], [-0.13260155, -0.5], [0.0, -0.5]], [\"M\", \"C\", \"C\", \"C\", \"C\", \"C\", \"C\", \"C\", \"C\", \"Z\"]]], \"edgecolors\": [\"#000000\"], \"edgewidths\": [1.0], \"offsets\": \"data01\", \"yindex\": 1, \"id\": \"el881414463007184\", \"pathtransforms\": [[4.969039949999533, 0.0, 0.0, 4.969039949999533, 0.0, 0.0]], \"pathcoordinates\": \"display\", \"offsetcoordinates\": \"data\", \"zorder\": 1, \"xindex\": 0, \"alphas\": [null], \"facecolors\": [\"#0000FF\"]}], \"xscale\": \"linear\", \"bbox\": [0.125, 0.125, 0.77500000000000002, 0.77500000000000002]}], \"height\": 320.0, \"width\": 480.0, \"plugins\": [{\"type\": \"reset\"}, {\"enabled\": false, \"button\": true, \"type\": \"zoom\"}, {\"enabled\": false, \"button\": true, \"type\": \"boxzoom\"}], \"data\": {\"data01\": [[6671.0, 4098.0], [5430.0, 6307.2], [6254.0, 6307.2], [638.0, 639.0], [639.0, 6193.5], [1105.0, 1094.875], [424.0, 6812.75], [1092.0, 425.6711409395973], [1092.0, 1094.875], [1094.0, 1094.875], [1092.0, 1094.875], [1092.0, 1094.875], [3138.0, 6193.5], [426.0, 426.0], [426.0, 425.84], [426.0, 425.84], [426.0, 425.6711409395973], [426.0, 425.6711409395973], [426.0, 425.84], [426.0, 425.6711409395973], [426.0, 425.84], [426.0, 426.0], [426.0, 425.90625], [425.0, 425.6711409395973], [425.0, 426.0], [426.0, 425.84], [426.0, 425.6711409395973], [426.0, 425.6711409395973], [426.0, 426.0], [426.0, 425.6711409395973], [425.0, 425.84], [426.0, 425.90625], [423.0, 425.84], [426.0, 425.6711409395973], [426.0, 425.6711409395973], [426.0, 425.84], [426.0, 425.6711409395973], [426.0, 425.6711409395973], [426.0, 425.84], [426.0, 425.6711409395973], [426.0, 425.84], [426.0, 425.6711409395973], [426.0, 425.6711409395973], [426.0, 425.6711409395973], [425.0, 425.6711409395973], [426.0, 425.90625], [426.0, 425.6711409395973], [426.0, 425.84], [425.0, 426.0], [426.0, 426.0], [426.0, 425.6711409395973], [426.0, 425.6711409395973], [426.0, 425.6711409395973], [424.0, 425.84], [426.0, 425.6711409395973], [426.0, 425.6711409395973], [426.0, 425.90625], [426.0, 425.6711409395973], [426.0, 425.84], [425.0, 425.6711409395973], [426.0, 425.6711409395973], [425.0, 425.6711409395973], [426.0, 425.90625], [425.0, 425.6711409395973], [426.0, 425.84], [426.0, 425.6711409395973], [426.0, 425.90625], [426.0, 425.6711409395973], [424.0, 425.6711409395973], [426.0, 425.6711409395973], [426.0, 425.6711409395973], [426.0, 425.6711409395973], [426.0, 425.6711409395973], [426.0, 425.6711409395973], [426.0, 425.6711409395973], [426.0, 425.6711409395973], [425.0, 426.0], [426.0, 425.6711409395973], [426.0, 425.6711409395973], [426.0, 425.6711409395973], [426.0, 425.84], [426.0, 425.6711409395973], [426.0, 425.6711409395973], [426.0, 425.6711409395973], [426.0, 425.84], [426.0, 425.6711409395973], [426.0, 426.0], [426.0, 425.6711409395973], [425.0, 425.84], [426.0, 425.90625], [426.0, 425.6711409395973], [426.0, 425.6711409395973], [426.0, 425.90625], [426.0, 425.90625], [426.0, 425.6711409395973], [425.0, 425.84], [425.0, 425.84], [426.0, 425.84], [426.0, 425.84], [426.0, 425.6711409395973], [426.0, 425.6711409395973], [426.0, 425.6711409395973], [426.0, 425.84], [426.0, 425.84], [426.0, 425.6711409395973], [426.0, 425.90625], [426.0, 425.6711409395973], [424.0, 425.6711409395973], [426.0, 425.6711409395973], [426.0, 425.90625], [426.0, 425.6711409395973], [426.0, 425.84], [426.0, 425.84], [426.0, 425.6711409395973], [426.0, 425.6711409395973], [425.0, 425.6711409395973], [425.0, 425.6711409395973], [426.0, 425.84], [426.0, 425.6711409395973], [426.0, 425.6711409395973], [426.0, 425.6711409395973], [426.0, 425.84]]}, \"id\": \"el881414451532240\"});\n",
        "      });\n",
        "    });\n",
        "}else{\n",
        "    // require.js not available: dynamically load d3 & mpld3\n",
        "    mpld3_load_lib(\"https://mpld3.github.io/js/d3.v3.min.js\", function(){\n",
        "         mpld3_load_lib(\"https://mpld3.github.io/js/mpld3.v0.2.js\", function(){\n",
        "                 \n",
        "                 mpld3.draw_figure(\"fig_el8814144515322408464304664\", {\"axes\": [{\"xlim\": [0.0, 7000.0], \"yscale\": \"linear\", \"axesbg\": \"#FFFFFF\", \"texts\": [{\"v_baseline\": \"hanging\", \"h_anchor\": \"middle\", \"color\": \"#000000\", \"text\": \"response\", \"coordinates\": \"axes\", \"zorder\": 3, \"alpha\": 1, \"fontsize\": 10.0, \"position\": [0.5, -0.080645161290322578], \"rotation\": -0.0, \"id\": \"el881414453973776\"}, {\"v_baseline\": \"auto\", \"h_anchor\": \"middle\", \"color\": \"#000000\", \"text\": \"prediction\", \"coordinates\": \"axes\", \"zorder\": 3, \"alpha\": 1, \"fontsize\": 10.0, \"position\": [-0.099798387096774216, 0.5], \"rotation\": -90.0, \"id\": \"el881414450881872\"}], \"zoomable\": true, \"images\": [], \"xdomain\": [0.0, 7000.0], \"ylim\": [0.0, 8000.0], \"paths\": [], \"sharey\": [], \"sharex\": [], \"axesbgalpha\": null, \"axes\": [{\"scale\": \"linear\", \"tickformat\": null, \"grid\": {\"gridOn\": false}, \"fontsize\": 10.0, \"position\": \"bottom\", \"nticks\": 8, \"tickvalues\": null}, {\"scale\": \"linear\", \"tickformat\": null, \"grid\": {\"gridOn\": false}, \"fontsize\": 10.0, \"position\": \"left\", \"nticks\": 9, \"tickvalues\": null}], \"lines\": [], \"markers\": [], \"id\": \"el881414451690704\", \"ydomain\": [0.0, 8000.0], \"collections\": [{\"paths\": [[[[0.0, -0.5], [0.13260155, -0.5], [0.25978993539242673, -0.44731684579412084], [0.3535533905932738, -0.3535533905932738], [0.44731684579412084, -0.25978993539242673], [0.5, -0.13260155], [0.5, 0.0], [0.5, 0.13260155], [0.44731684579412084, 0.25978993539242673], [0.3535533905932738, 0.3535533905932738], [0.25978993539242673, 0.44731684579412084], [0.13260155, 0.5], [0.0, 0.5], [-0.13260155, 0.5], [-0.25978993539242673, 0.44731684579412084], [-0.3535533905932738, 0.3535533905932738], [-0.44731684579412084, 0.25978993539242673], [-0.5, 0.13260155], [-0.5, 0.0], [-0.5, -0.13260155], [-0.44731684579412084, -0.25978993539242673], [-0.3535533905932738, -0.3535533905932738], [-0.25978993539242673, -0.44731684579412084], [-0.13260155, -0.5], [0.0, -0.5]], [\"M\", \"C\", \"C\", \"C\", \"C\", \"C\", \"C\", \"C\", \"C\", \"Z\"]]], \"edgecolors\": [\"#000000\"], \"edgewidths\": [1.0], \"offsets\": \"data01\", \"yindex\": 1, \"id\": \"el881414463007184\", \"pathtransforms\": [[4.969039949999533, 0.0, 0.0, 4.969039949999533, 0.0, 0.0]], \"pathcoordinates\": \"display\", \"offsetcoordinates\": \"data\", \"zorder\": 1, \"xindex\": 0, \"alphas\": [null], \"facecolors\": [\"#0000FF\"]}], \"xscale\": \"linear\", \"bbox\": [0.125, 0.125, 0.77500000000000002, 0.77500000000000002]}], \"height\": 320.0, \"width\": 480.0, \"plugins\": [{\"type\": \"reset\"}, {\"enabled\": false, \"button\": true, \"type\": \"zoom\"}, {\"enabled\": false, \"button\": true, \"type\": \"boxzoom\"}], \"data\": {\"data01\": [[6671.0, 4098.0], [5430.0, 6307.2], [6254.0, 6307.2], [638.0, 639.0], [639.0, 6193.5], [1105.0, 1094.875], [424.0, 6812.75], [1092.0, 425.6711409395973], [1092.0, 1094.875], [1094.0, 1094.875], [1092.0, 1094.875], [1092.0, 1094.875], [3138.0, 6193.5], [426.0, 426.0], [426.0, 425.84], [426.0, 425.84], [426.0, 425.6711409395973], [426.0, 425.6711409395973], [426.0, 425.84], [426.0, 425.6711409395973], [426.0, 425.84], [426.0, 426.0], [426.0, 425.90625], [425.0, 425.6711409395973], [425.0, 426.0], [426.0, 425.84], [426.0, 425.6711409395973], [426.0, 425.6711409395973], [426.0, 426.0], [426.0, 425.6711409395973], [425.0, 425.84], [426.0, 425.90625], [423.0, 425.84], [426.0, 425.6711409395973], [426.0, 425.6711409395973], [426.0, 425.84], [426.0, 425.6711409395973], [426.0, 425.6711409395973], [426.0, 425.84], [426.0, 425.6711409395973], [426.0, 425.84], [426.0, 425.6711409395973], [426.0, 425.6711409395973], [426.0, 425.6711409395973], [425.0, 425.6711409395973], [426.0, 425.90625], [426.0, 425.6711409395973], [426.0, 425.84], [425.0, 426.0], [426.0, 426.0], [426.0, 425.6711409395973], [426.0, 425.6711409395973], [426.0, 425.6711409395973], [424.0, 425.84], [426.0, 425.6711409395973], [426.0, 425.6711409395973], [426.0, 425.90625], [426.0, 425.6711409395973], [426.0, 425.84], [425.0, 425.6711409395973], [426.0, 425.6711409395973], [425.0, 425.6711409395973], [426.0, 425.90625], [425.0, 425.6711409395973], [426.0, 425.84], [426.0, 425.6711409395973], [426.0, 425.90625], [426.0, 425.6711409395973], [424.0, 425.6711409395973], [426.0, 425.6711409395973], [426.0, 425.6711409395973], [426.0, 425.6711409395973], [426.0, 425.6711409395973], [426.0, 425.6711409395973], [426.0, 425.6711409395973], [426.0, 425.6711409395973], [425.0, 426.0], [426.0, 425.6711409395973], [426.0, 425.6711409395973], [426.0, 425.6711409395973], [426.0, 425.84], [426.0, 425.6711409395973], [426.0, 425.6711409395973], [426.0, 425.6711409395973], [426.0, 425.84], [426.0, 425.6711409395973], [426.0, 426.0], [426.0, 425.6711409395973], [425.0, 425.84], [426.0, 425.90625], [426.0, 425.6711409395973], [426.0, 425.6711409395973], [426.0, 425.90625], [426.0, 425.90625], [426.0, 425.6711409395973], [425.0, 425.84], [425.0, 425.84], [426.0, 425.84], [426.0, 425.84], [426.0, 425.6711409395973], [426.0, 425.6711409395973], [426.0, 425.6711409395973], [426.0, 425.84], [426.0, 425.84], [426.0, 425.6711409395973], [426.0, 425.90625], [426.0, 425.6711409395973], [424.0, 425.6711409395973], [426.0, 425.6711409395973], [426.0, 425.90625], [426.0, 425.6711409395973], [426.0, 425.84], [426.0, 425.84], [426.0, 425.6711409395973], [426.0, 425.6711409395973], [425.0, 425.6711409395973], [425.0, 425.6711409395973], [426.0, 425.84], [426.0, 425.6711409395973], [426.0, 425.6711409395973], [426.0, 425.6711409395973], [426.0, 425.84]]}, \"id\": \"el881414451532240\"});\n",
        "            })\n",
        "         });\n",
        "}\n",
        "</script>"
       ],
       "metadata": {},
       "output_type": "display_data",
       "png": "[encoded data removed]",
       "text": [
        "<matplotlib.figure.Figure at 0x10954fdd0>"
       ]
      }
     ],
     "prompt_number": 47
    },
    {
     "cell_type": "code",
     "collapsed": false,
     "input": [],
     "language": "python",
     "metadata": {},
     "outputs": [],
     "prompt_number": 569
    },
    {
     "cell_type": "code",
     "collapsed": false,
     "input": [],
     "language": "python",
     "metadata": {},
     "outputs": [],
     "prompt_number": 569
    },
    {
     "cell_type": "code",
     "collapsed": false,
     "input": [],
     "language": "python",
     "metadata": {},
     "outputs": [],
     "prompt_number": 560
    },
    {
     "cell_type": "code",
     "collapsed": false,
     "input": [
      "def check(p):"
     ],
     "language": "python",
     "metadata": {},
     "outputs": []
    }
   ],
   "metadata": {}
  }
 ]
}