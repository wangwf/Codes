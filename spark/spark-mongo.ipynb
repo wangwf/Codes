{
 "metadata": {
  "name": "",
  "signature": "sha256:60918c9063012db01c944b500a81b89322b4b283767b24483303cf977e20f7f2"
 },
 "nbformat": 3,
 "nbformat_minor": 0,
 "worksheets": [
  {
   "cells": [
    {
     "cell_type": "markdown",
     "metadata": {},
     "source": [
      "# spark-mongo\n",
      "\n",
      "* read data from mongodb to spark\n",
      "* write data to mongodb from spark\n",
      "\n",
      "SPark + matplotlib + ipython mining pcap"
     ]
    },
    {
     "cell_type": "code",
     "collapsed": false,
     "input": [],
     "language": "python",
     "metadata": {},
     "outputs": [],
     "prompt_number": 0
    },
    {
     "cell_type": "code",
     "collapsed": false,
     "input": [
      "%matplotlib inline\n",
      "import matplotlib.pyplot as plt \n",
      "import mpld3\n",
      "mpld3.enable_notebook()"
     ],
     "language": "python",
     "metadata": {},
     "outputs": [],
     "prompt_number": 591
    },
    {
     "cell_type": "code",
     "collapsed": false,
     "input": [
      "import pymongo\n",
      "\n",
      "#\n",
      "# Connect to MongoDB server\n",
      "#\n",
      "def get_db(host=\"localhost\", port=27017, username=None, password=None, db=\"dataLogs\"):\n",
      "    \"\"\" A util for making a connection to mongo \"\"\"\n",
      "    from pymongo import MongoClient\n",
      "    \n",
      "    if username and password:\n",
      "        mongo_uri = 'mongodb://%s:%s@%s:%s/%s' % (username, password, host, port, db)\n",
      "        conn = MongoClient(mongo_uri)\n",
      "    else:\n",
      "        conn = MongoClient(host, port)\n",
      "\n",
      "    return conn[db]\n",
      "\n",
      "def get_coll(host=\"localhost\", port=27017, username=None, password=None, db=\"dataLogs\",collection=\"logs\"):\n",
      "    db=get_db(host, port, username, password, db)\n",
      "    return db[collection]\n",
      "\n",
      "\n",
      "logs = get_coll('localhost', 27017, None, None,\"dataLogs\", \"logs\")\n",
      "test = get_coll('localhost', 27017, None, None,\"dataLogs\", \"test\")"
     ],
     "language": "python",
     "metadata": {},
     "outputs": [],
     "prompt_number": 592
    },
    {
     "cell_type": "code",
     "collapsed": false,
     "input": [
      "\n"
     ],
     "language": "python",
     "metadata": {},
     "outputs": [],
     "prompt_number": 592
    },
    {
     "cell_type": "code",
     "collapsed": false,
     "input": [],
     "language": "python",
     "metadata": {},
     "outputs": [],
     "prompt_number": 592
    },
    {
     "cell_type": "code",
     "collapsed": false,
     "input": [
      "iter=logs.find({\"response.headers.content-length\":{\"$exists\":True}},{\"_id\":0,\"response.headers.content-length\":1})\n",
      "for item in iter[:10]: #.count()\n",
      "    print item\n",
      "#type(iter)"
     ],
     "language": "python",
     "metadata": {},
     "outputs": [
      {
       "output_type": "stream",
       "stream": "stdout",
       "text": [
        "{u'response': {u'headers': {u'content-length': 3726.0}}}\n",
        "{u'response': {u'headers': {u'content-length': 513.0}}}\n",
        "{u'response': {u'headers': {u'content-length': 15477.0}}}\n",
        "{u'response': {u'headers': {u'content-length': 0.0}}}\n",
        "{u'response': {u'headers': {u'content-length': 0.0}}}\n",
        "{u'response': {u'headers': {u'content-length': 0.0}}}\n",
        "{u'response': {u'headers': {u'content-length': 133735.0}}}\n",
        "{u'response': {u'headers': {u'content-length': 273200.0}}}\n",
        "{u'response': {u'headers': {u'content-length': 12654.0}}}\n",
        "{u'response': {u'headers': {u'content-length': 3485.0}}}\n"
       ]
      }
     ],
     "prompt_number": 593
    },
    {
     "cell_type": "code",
     "collapsed": false,
     "input": [
      "#\n",
      "# turn categorical-text into numerical value\n",
      "#\n",
      "\n",
      "categoricalFeatures=[\"X-Frame-Options\",\"X-Xss-Protection\",\"X-Content-Type-Options\",\"X-Ua-Compatible\",\n",
      "            \"X-Xhr-Current-Location\",\n",
      "            \"Content-Type\",\"Cache-Control\",\n",
      "            \"Server\",\"httpversion\",\"port\",\"scheme\",\"http\",\"path\",\"host\", \"Connection\",\n",
      "            \"ip\",\"Referer\",\"code\",\n",
      "            \"Accept-Encoding\",\"Accept-Language\",\n",
      "            \"method\",\n",
      "            \"msg\",\n",
      "            \"address\"]\n",
      "\n",
      "#    featuresSize=[\"error\",\"response\",\"headers\",\"content\",\"request\"]\n",
      "featuresHeaders=[\"X-Frame-Options\",\"X-Xss-Protection\",\"X-Content-Type-Options\",\"X-Ua-Compatible\",\n",
      "               \"X-Xhr-Current-Location\",\"Content-Type\",\"Etag\",\"Cache-Control\",\n",
      "               \"X-Request-Id\",  #\"X-Runtime\",\n",
      "               \"Server\",\"Date\",\n",
      "               \"Content-Length\", \"connection\",\"Set-Cookie\"]\n",
      "featuresHeaders = [f.lower() for f in featuresHeaders]\n",
      "    \n",
      "#featuresContent=[\"content\"]\n",
      "    \n",
      "featuresRequest=[\"httpversion\", \"address\",\"client_conn\",  #\"requestcount\",\n",
      "                 \"error\",\"port\",\n",
      "                    \"scheme\",\"path\",\"host\", \"header\",#\"content\",\n",
      "                    \"method\",\n",
      "                  #  \"ssl_setup_timestatmp\",\"timestamp_end\",\"timestamp_start\", \"tcp_setup_timestamp\"\n",
      "                    \"ip\"] #,\"cookie\"]\n",
      "\n",
      "#featuresRequestHeaders =[\"host\",\"connection\", \"accept\", \"user-agent\"]\n",
      "\n",
      "categoricalFeatures = [ \"response.headers.\"+f for f in featuresHeaders]\n",
      "categoricalFeatures +=   [\"request.\"+ f for f in featuresRequest]\n",
      "\n",
      "def categoricalToNumberical(fields):\n",
      "    for f in fields:\n",
      "        fID=f+\"ID\"\n",
      "        vals=logs.distinct(f)\n",
      "        \n",
      "        if len(vals)<2: continue\n",
      "\n",
      "        for i,v in enumerate(vals):\n",
      "#            print f,v,i\n",
      "            logs.update({f:v}, {\"$set\":{fID: int(i+1) }}, upsert=True, multi=True)\n",
      "\n",
      "categoricalToNumberical(categoricalFeatures)\n",
      "#categoricalFeatures"
     ],
     "language": "python",
     "metadata": {},
     "outputs": [],
     "prompt_number": 594
    },
    {
     "cell_type": "code",
     "collapsed": false,
     "input": [
      "iter = logs.find({\"response.headers.content-typeID\":{\"$exists\":True}},{\"_id\":0, \"response.headers.content-type\":1,\"response.headers.content-typeID\":1})\n",
      "for item in iter[:10]: print item\n",
      "#logs.distinct(\"Content-TypeID\")\n",
      "\n",
      "#for i,v in enumerate(vals):    print i,v"
     ],
     "language": "python",
     "metadata": {},
     "outputs": [
      {
       "output_type": "stream",
       "stream": "stdout",
       "text": [
        "{u'response': {u'headers': {u'content-typeID': 3, u'content-type': u'application/javascript'}}}\n",
        "{u'response': {u'headers': {u'content-typeID': 2, u'content-type': u'text/css'}}}\n",
        "{u'response': {u'headers': {u'content-typeID': 3, u'content-type': u'application/javascript'}}}\n",
        "{u'response': {u'headers': {u'content-typeID': 3, u'content-type': u'application/javascript'}}}\n",
        "{u'response': {u'headers': {u'content-typeID': 3, u'content-type': u'application/javascript'}}}\n",
        "{u'response': {u'headers': {u'content-typeID': 3, u'content-type': u'application/javascript'}}}\n",
        "{u'response': {u'headers': {u'content-typeID': 3, u'content-type': u'application/javascript'}}}\n",
        "{u'response': {u'headers': {u'content-typeID': 3, u'content-type': u'application/javascript'}}}\n",
        "{u'response': {u'headers': {u'content-typeID': 3, u'content-type': u'application/javascript'}}}\n",
        "{u'response': {u'headers': {u'content-typeID': 3, u'content-type': u'application/javascript'}}}\n"
       ]
      }
     ],
     "prompt_number": 595
    },
    {
     "cell_type": "code",
     "collapsed": false,
     "input": [
      "logs.update({\"response.headers.content-type\":\"text/css\"}, {\"$set\":{\"response.headers.content-typeID\": 3 }}, True, True)\n",
      "iter=logs.find({\"response.headers.content-type\":\"text/css\"},{\"_id\":0, \"response.headers.content-type\":1,\"response.headers.content-typeID\":1})\n",
      "for item in iter: print item"
     ],
     "language": "python",
     "metadata": {},
     "outputs": [
      {
       "output_type": "stream",
       "stream": "stdout",
       "text": [
        "{u'response': {u'headers': {u'content-typeID': 3, u'content-type': u'text/css'}}}\n",
        "{u'response': {u'headers': {u'content-typeID': 2, u'content-type': u'text/css'}}}\n",
        "{u'response': {u'headers': {u'content-typeID': 2, u'content-type': u'text/css'}}}\n",
        "{u'response': {u'headers': {u'content-typeID': 2, u'content-type': u'text/css'}}}\n",
        "{u'response': {u'headers': {u'content-typeID': 2, u'content-type': u'text/css'}}}\n"
       ]
      }
     ],
     "prompt_number": 596
    },
    {
     "cell_type": "code",
     "collapsed": false,
     "input": [
      "# \n",
      "# Read sc.newAPIHadoopRDD()\n",
      "# sc.parallelize()\n",
      "#\n",
      "def read_mongo(collection, query={}, projection={\"_id\":0},host='localhost',no_id=True):\n",
      "    \"\"\" Read from Mongo and Store into DataFrame \"\"\"\n",
      "\n",
      "    # Make a query to the specific DB and Collection\n",
      "    cursor = collection.find(query, projection)\n",
      "\n",
      "    # Expand the cursor and construct the DataFrame\n",
      "#    df = pd.DataFrame(list(cursor))\n",
      "    df = sc.parallelize(list(cursor))\n",
      "\n",
      "    # Delete the _id\n",
      "#    if no_id:       del df['_id']\n",
      "\n",
      "    return df\n",
      "\n"
     ],
     "language": "python",
     "metadata": {},
     "outputs": [],
     "prompt_number": 597
    },
    {
     "cell_type": "code",
     "collapsed": false,
     "input": [
      "\n",
      "df=read_mongo(logs)\n",
      "#df_test = read_mongo(test)\n",
      "type(df)"
     ],
     "language": "python",
     "metadata": {},
     "outputs": [
      {
       "metadata": {},
       "output_type": "pyout",
       "prompt_number": 598,
       "text": [
        "pyspark.rdd.RDD"
       ]
      }
     ],
     "prompt_number": 598
    },
    {
     "cell_type": "code",
     "collapsed": false,
     "input": [
      "#  data =sc.parallelize(df)\n",
      "\n",
      "df.take(1)\n"
     ],
     "language": "python",
     "metadata": {},
     "outputs": [
      {
       "metadata": {},
       "output_type": "pyout",
       "prompt_number": 599,
       "text": [
        "[{u'contentLeakage': 0,\n",
        "  u'request': {u'address': u'50.59.22.130',\n",
        "   u'client_conn': 7.0,\n",
        "   u'content': 0.0,\n",
        "   u'cookie': u'request_method=GET; _sample_app_session=NlljR05mSytQNzJ4N0gxQzA1VkJBQ3lDOUpEOWpwWFJnaGVOaUdFU0ZDek82RE5VK0I5V2NpY0RrRFcrSjZhT21oOTRZQW5UUzBhTDlIMUJ1QjNnZUZva3VCSEUzZ2FZeWsxMU5xcnE4S093aGpwaVBRbUUxeTFkSENINGFsdzMzUER6RVhHMkVyVCtmUTdzeS91S2lVc3hPU2V4Y1VOKy9GMzg0QUNNZFFzMFBUdWVUY1FvNmdiTnVRUGtQbzlULS1jWGEzRS9VcEtoWDc4bWtBTlNSajN3PT0%3D--a87e267085a6649f66c98a671fa8dac9629f7bd',\n",
        "   u'error': 0.0,\n",
        "   u'headers': {u'accept': u'*/*',\n",
        "    u'connection': u'keep-alive',\n",
        "    u'host': u'54.165.254.99',\n",
        "    u'user-agent': u'Mozilla/5.0 (Macintosh; Intel Mac OS X 10_9_5) AppleWebKit/537.36 (KHTML, like Gecko) Chrome/38.0.2125.101 Safari/537.36'},\n",
        "   u'host': u'54.165.254.99',\n",
        "   u'httpversion': u'1.1',\n",
        "   u'method': u'GET',\n",
        "   u'methodID': 1,\n",
        "   u'path': u'/assets/jquery_ujs.js?body=1',\n",
        "   u'pathID': 1,\n",
        "   u'port': 80.0,\n",
        "   u'requestcount': 3.0,\n",
        "   u'scheme': u'http',\n",
        "   u'timestamp_diff': 0.005785942077636719,\n",
        "   u'timestamp_end': 1413247021.720047,\n",
        "   u'timestamp_start': 1413247021.714261},\n",
        "  u'response': {u'content': u'(function($, undefined) {\\n\\n/**\\n * Unobtrusive scripting adapter for jQuery\\n * https://github.com/rails/jquery-ujs\\n *\\n * Requires jQuery 1.7.0 or later.\\n *\\n * Released under the MIT license\\n *\\n */\\n\\n  // Cut down on the number of issues from people inadvertently including jquery_ujs twice\\n  // by detecting and raising an error when it happens.\\n  if ( $.rails !== undefined ) {\\n    $.error(\\'jquery-ujs has already been loaded!\\');\\n  }\\n\\n  // Shorthand to make it a little easier to call public rails functions from within rails.js\\n  var rails;\\n  var $document = $(document);\\n\\n  $.rails = rails = {\\n    // Link elements bound by jquery-ujs\\n    linkClickSelector: \\'a[data-confirm], a[data-method], a[data-remote], a[data-disable-with]\\',\\n\\n    // Button elements boud jquery-ujs\\n    buttonClickSelector: \\'button[data-remote]\\',\\n\\n    // Select elements bound by jquery-ujs\\n    inputChangeSelector: \\'select[data-remote], input[data-remote], textarea[data-remote]\\',\\n\\n    // Form elements bound by jquery-ujs\\n    formSubmitSelector: \\'form\\',\\n\\n    // Form input elements bound by jquery-ujs\\n    formInputClickSelector: \\'form input[type=submit], form input[type=image], form button[type=submit], form button:not([type])\\',\\n\\n    // Form input elements disabled during form submission\\n    disableSelector: \\'input[data-disable-with], button[data-disable-with], textarea[data-disable-with]\\',\\n\\n    // Form input elements re-enabled after form submission\\n    enableSelector: \\'input[data-disable-with]:disabled, button[data-disable-with]:disabled, textarea[data-disable-with]:disabled\\',\\n\\n    // Form required input elements\\n    requiredInputSelector: \\'input[name][required]:not([disabled]),textarea[name][required]:not([disabled])\\',\\n\\n    // Form file input elements\\n    fileInputSelector: \\'input[type=file]\\',\\n\\n    // Link onClick disable selector with possible reenable after remote submission\\n    linkDisableSelector: \\'a[data-disable-with]\\',\\n\\n    // Make sure that every Ajax request sends the CSRF token\\n    CSRFProtection: function(xhr) {\\n      var token = $(\\'meta[name=\"csrf-token\"]\\').attr(\\'content\\');\\n      if (token) xhr.setRequestHeader(\\'X-CSRF-Token\\', token);\\n    },\\n\\n    // Triggers an event on an element and returns false if the event result is false\\n    fire: function(obj, name, data) {\\n      var event = $.Event(name);\\n      obj.trigger(event, data);\\n      return event.result !== false;\\n    },\\n\\n    // Default confirm dialog, may be overridden with custom confirm dialog in $.rails.confirm\\n    confirm: function(message) {\\n      return confirm(message);\\n    },\\n\\n    // Default ajax function, may be overridden with custom function in $.rails.ajax\\n    ajax: function(options) {\\n      return $.ajax(options);\\n    },\\n\\n    // Default way to get an element\\'s href. May be overridden at $.rails.href.\\n    href: function(element) {\\n      return element.attr(\\'href\\');\\n    },\\n\\n    // Submits \"remote\" forms and links with ajax\\n    handleRemote: function(element) {\\n      var method, url, data, elCrossDomain, crossDomain, withCredentials, dataType, options;\\n\\n      if (rails.fire(element, \\'ajax:before\\')) {\\n        elCrossDomain = element.data(\\'cross-domain\\');\\n        crossDomain = elCrossDomain === undefined ? null : elCrossDomain;\\n        withCredentials = element.data(\\'with-credentials\\') || null;\\n        dataType = element.data(\\'type\\') || ($.ajaxSettings && $.ajaxSettings.dataType);\\n\\n        if (element.is(\\'form\\')) {\\n          method = element.attr(\\'method\\');\\n          url = element.attr(\\'action\\');\\n          data = element.serializeArray();\\n          // memoized value from clicked submit button\\n          var button = element.data(\\'ujs:submit-button\\');\\n          if (button) {\\n            data.push(button);\\n            element.data(\\'ujs:submit-button\\', null);\\n          }\\n        } else if (element.is(rails.inputChangeSelector)) {\\n          method = element.data(\\'method\\');\\n          url = element.data(\\'url\\');\\n          data = element.serialize();\\n          if (element.data(\\'params\\')) data = data + \"&\" + element.data(\\'params\\');\\n        } else if (element.is(rails.buttonClickSelector)) {\\n          method = element.data(\\'method\\') || \\'get\\';\\n          url = element.data(\\'url\\');\\n          data = element.serialize();\\n          if (element.data(\\'params\\')) data = data + \"&\" + element.data(\\'params\\');\\n        } else {\\n          method = element.data(\\'method\\');\\n          url = rails.href(element);\\n          data = element.data(\\'params\\') || null;\\n        }\\n\\n        options = {\\n          type: method || \\'GET\\', data: data, dataType: dataType,\\n          // stopping the \"ajax:beforeSend\" event will cancel the ajax request\\n          beforeSend: function(xhr, settings) {\\n            if (settings.dataType === undefined) {\\n              xhr.setRequestHeader(\\'accept\\', \\'*/*;q=0.5, \\' + settings.accepts.script);\\n            }\\n            return rails.fire(element, \\'ajax:beforeSend\\', [xhr, settings]);\\n          },\\n          success: function(data, status, xhr) {\\n            element.trigger(\\'ajax:success\\', [data, status, xhr]);\\n          },\\n          complete: function(xhr, status) {\\n            element.trigger(\\'ajax:complete\\', [xhr, status]);\\n          },\\n          error: function(xhr, status, error) {\\n            element.trigger(\\'ajax:error\\', [xhr, status, error]);\\n          },\\n          crossDomain: crossDomain\\n        };\\n\\n        // There is no withCredentials for IE6-8 when\\n        // \"Enable native XMLHTTP support\" is disabled\\n        if (withCredentials) {\\n          options.xhrFields = {\\n            withCredentials: withCredentials\\n          };\\n        }\\n\\n        // Only pass url to `ajax` options if not blank\\n        if (url) { options.url = url; }\\n\\n        var jqxhr = rails.ajax(options);\\n        element.trigger(\\'ajax:send\\', jqxhr);\\n        return jqxhr;\\n      } else {\\n        return false;\\n      }\\n    },\\n\\n    // Handles \"data-method\" on links such as:\\n    // <a href=\"/users/5\" data-method=\"delete\" rel=\"nofollow\" data-confirm=\"Are you sure?\">Delete</a>\\n    handleMethod: function(link) {\\n      var href = rails.href(link),\\n        method = link.data(\\'method\\'),\\n        target = link.attr(\\'target\\'),\\n        csrf_token = $(\\'meta[name=csrf-token]\\').attr(\\'content\\'),\\n        csrf_param = $(\\'meta[name=csrf-param]\\').attr(\\'content\\'),\\n        form = $(\\'<form method=\"post\" action=\"\\' + href + \\'\"></form>\\'),\\n        metadata_input = \\'<input name=\"_method\" value=\"\\' + method + \\'\" type=\"hidden\" />\\';\\n\\n      if (csrf_param !== undefined && csrf_token !== undefined) {\\n        metadata_input += \\'<input name=\"\\' + csrf_param + \\'\" value=\"\\' + csrf_token + \\'\" type=\"hidden\" />\\';\\n      }\\n\\n      if (target) { form.attr(\\'target\\', target); }\\n\\n      form.hide().append(metadata_input).appendTo(\\'body\\');\\n      form.submit();\\n    },\\n\\n    /* Disables form elements:\\n      - Caches element value in \\'ujs:enable-with\\' data store\\n      - Replaces element text with value of \\'data-disable-with\\' attribute\\n      - Sets disabled property to true\\n    */\\n    disableFormElements: function(form) {\\n      form.find(rails.disableSelector).each(function() {\\n        var element = $(this), method = element.is(\\'button\\') ? \\'html\\' : \\'val\\';\\n        element.data(\\'ujs:enable-with\\', element[method]());\\n        element[method](element.data(\\'disable-with\\'));\\n        element.prop(\\'disabled\\', true);\\n      });\\n    },\\n\\n    /* Re-enables disabled form elements:\\n      - Replaces element text with cached value from \\'ujs:enable-with\\' data store (created in `disableFormElements`)\\n      - Sets disabled property to false\\n    */\\n    enableFormElements: function(form) {\\n      form.find(rails.enableSelector).each(function() {\\n        var element = $(this), method = element.is(\\'button\\') ? \\'html\\' : \\'val\\';\\n        if (element.data(\\'ujs:enable-with\\')) element[method](element.data(\\'ujs:enable-with\\'));\\n        element.prop(\\'disabled\\', false);\\n      });\\n    },\\n\\n   /* For \\'data-confirm\\' attribute:\\n      - Fires `confirm` event\\n      - Shows the confirmation dialog\\n      - Fires the `confirm:complete` event\\n\\n      Returns `true` if no function stops the chain and user chose yes; `false` otherwise.\\n      Attaching a handler to the element\\'s `confirm` event that returns a `falsy` value cancels the confirmation dialog.\\n      Attaching a handler to the element\\'s `confirm:complete` event that returns a `falsy` value makes this function\\n      return false. The `confirm:complete` event is fired whether or not the user answered true or false to the dialog.\\n   */\\n    allowAction: function(element) {\\n      var message = element.data(\\'confirm\\'),\\n          answer = false, callback;\\n      if (!message) { return true; }\\n\\n      if (rails.fire(element, \\'confirm\\')) {\\n        answer = rails.confirm(message);\\n        callback = rails.fire(element, \\'confirm:complete\\', [answer]);\\n      }\\n      return answer && callback;\\n    },\\n\\n    // Helper function which checks for blank inputs in a form that match the specified CSS selector\\n    blankInputs: function(form, specifiedSelector, nonBlank) {\\n      var inputs = $(), input, valueToCheck,\\n          selector = specifiedSelector || \\'input,textarea\\',\\n          allInputs = form.find(selector);\\n\\n      allInputs.each(function() {\\n        input = $(this);\\n        valueToCheck = input.is(\\'input[type=checkbox],input[type=radio]\\') ? input.is(\\':checked\\') : input.val();\\n        // If nonBlank and valueToCheck are both truthy, or nonBlank and valueToCheck are both falsey\\n        if (!valueToCheck === !nonBlank) {\\n\\n          // Don\\'t count unchecked required radio if other radio with same name is checked\\n          if (input.is(\\'input[type=radio]\\') && allInputs.filter(\\'input[type=radio]:checked[name=\"\\' + input.attr(\\'name\\') + \\'\"]\\').length) {\\n            return true; // Skip to next input\\n          }\\n\\n          inputs = inputs.add(input);\\n        }\\n      });\\n      return inputs.length ? inputs : false;\\n    },\\n\\n    // Helper function which checks for non-blank inputs in a form that match the specified CSS selector\\n    nonBlankInputs: function(form, specifiedSelector) {\\n      return rails.blankInputs(form, specifiedSelector, true); // true specifies nonBlank\\n    },\\n\\n    // Helper function, needed to provide consistent behavior in IE\\n    stopEverything: function(e) {\\n      $(e.target).trigger(\\'ujs:everythingStopped\\');\\n      e.stopImmediatePropagation();\\n      return false;\\n    },\\n\\n    //  replace element\\'s html with the \\'data-disable-with\\' after storing original html\\n    //  and prevent clicking on it\\n    disableElement: function(element) {\\n      element.data(\\'ujs:enable-with\\', element.html()); // store enabled state\\n      element.html(element.data(\\'disable-with\\')); // set to disabled state\\n      element.bind(\\'click.railsDisable\\', function(e) { // prevent further clicking\\n        return rails.stopEverything(e);\\n      });\\n    },\\n\\n    // restore element to its original state which was disabled by \\'disableElement\\' above\\n    enableElement: function(element) {\\n      if (element.data(\\'ujs:enable-with\\') !== undefined) {\\n        element.html(element.data(\\'ujs:enable-with\\')); // set to old enabled state\\n        element.removeData(\\'ujs:enable-with\\'); // clean up cache\\n      }\\n      element.unbind(\\'click.railsDisable\\'); // enable element\\n    }\\n\\n  };\\n\\n  if (rails.fire($document, \\'rails:attachBindings\\')) {\\n\\n    $.ajaxPrefilter(function(options, originalOptions, xhr){ if ( !options.crossDomain ) { rails.CSRFProtection(xhr); }});\\n\\n    $document.delegate(rails.linkDisableSelector, \\'ajax:complete\\', function() {\\n        rails.enableElement($(this));\\n    });\\n\\n    $document.delegate(rails.linkClickSelector, \\'click.rails\\', function(e) {\\n      var link = $(this), method = link.data(\\'method\\'), data = link.data(\\'params\\');\\n      if (!rails.allowAction(link)) return rails.stopEverything(e);\\n\\n      if (link.is(rails.linkDisableSelector)) rails.disableElement(link);\\n\\n      if (link.data(\\'remote\\') !== undefined) {\\n        if ( (e.metaKey || e.ctrlKey) && (!method || method === \\'GET\\') && !data ) { return true; }\\n\\n        var handleRemote = rails.handleRemote(link);\\n        // response from rails.handleRemote() will either be false or a deferred object promise.\\n        if (handleRemote === false) {\\n          rails.enableElement(link);\\n        } else {\\n          handleRemote.error( function() { rails.enableElement(link); } );\\n        }\\n        return false;\\n\\n      } else if (link.data(\\'method\\')) {\\n        rails.handleMethod(link);\\n        return false;\\n      }\\n    });\\n\\n    $document.delegate(rails.buttonClickSelector, \\'click.rails\\', function(e) {\\n      var button = $(this);\\n      if (!rails.allowAction(button)) return rails.stopEverything(e);\\n\\n      rails.handleRemote(button);\\n      return false;\\n    });\\n\\n    $document.delegate(rails.inputChangeSelector, \\'change.rails\\', function(e) {\\n      var link = $(this);\\n      if (!rails.allowAction(link)) return rails.stopEverything(e);\\n\\n      rails.handleRemote(link);\\n      return false;\\n    });\\n\\n    $document.delegate(rails.formSubmitSelector, \\'submit.rails\\', function(e) {\\n      var form = $(this),\\n        remote = form.data(\\'remote\\') !== undefined,\\n        blankRequiredInputs = rails.blankInputs(form, rails.requiredInputSelector),\\n        nonBlankFileInputs = rails.nonBlankInputs(form, rails.fileInputSelector);\\n\\n      if (!rails.allowAction(form)) return rails.stopEverything(e);\\n\\n      // skip other logic when required values are missing or file upload is present\\n      if (blankRequiredInputs && form.attr(\"novalidate\") == undefined && rails.fire(form, \\'ajax:aborted:required\\', [blankRequiredInputs])) {\\n        return rails.stopEverything(e);\\n      }\\n\\n      if (remote) {\\n        if (nonBlankFileInputs) {\\n          // slight timeout so that the submit button gets properly serialized\\n          // (make it easy for event handler to serialize form without disabled values)\\n          setTimeout(function(){ rails.disableFormElements(form); }, 13);\\n          var aborted = rails.fire(form, \\'ajax:aborted:file\\', [nonBlankFileInputs]);\\n\\n          // re-enable form elements if event bindings return false (canceling normal form submission)\\n          if (!aborted) { setTimeout(function(){ rails.enableFormElements(form); }, 13); }\\n\\n          return aborted;\\n        }\\n\\n        rails.handleRemote(form);\\n        return false;\\n\\n      } else {\\n        // slight timeout so that the submit button gets properly serialized\\n        setTimeout(function(){ rails.disableFormElements(form); }, 13);\\n      }\\n    });\\n\\n    $document.delegate(rails.formInputClickSelector, \\'click.rails\\', function(event) {\\n      var button = $(this);\\n\\n      if (!rails.allowAction(button)) return rails.stopEverything(event);\\n\\n      // register the pressed submit button\\n      var name = button.attr(\\'name\\'),\\n        data = name ? {name:name, value:button.val()} : null;\\n\\n      button.closest(\\'form\\').data(\\'ujs:submit-button\\', data);\\n    });\\n\\n    $document.delegate(rails.formSubmitSelector, \\'ajax:beforeSend.rails\\', function(event) {\\n      if (this == event.target) rails.disableFormElements($(this));\\n    });\\n\\n    $document.delegate(rails.formSubmitSelector, \\'ajax:complete.rails\\', function(event) {\\n      if (this == event.target) rails.enableFormElements($(this));\\n    });\\n\\n    $(function(){\\n      // making sure that all forms have actual up-to-date token(cached forms contain old one)\\n      var csrf_token = $(\\'meta[name=csrf-token]\\').attr(\\'content\\');\\n      var csrf_param = $(\\'meta[name=csrf-param]\\').attr(\\'content\\');\\n      $(\\'form input[name=\"\\' + csrf_param + \\'\"]\\').val(csrf_token);\\n    });\\n  }\\n\\n})( jQuery );\\n',\n",
        "   u'headers': {u'cache-control': u'public, must-revalidate',\n",
        "    u'cache-controlID': 1,\n",
        "    u'connection': u'Keep-Alive',\n",
        "    u'content-length': 15477.0,\n",
        "    u'content-lengthID': 1,\n",
        "    u'content-type': u'application/javascript',\n",
        "    u'content-typeID': 3,\n",
        "    u'date': u'Tue, 14 Oct 2014 00',\n",
        "    u'etag': u'\"476c4637710ab3426db93d8534b71423\"',\n",
        "    u'etagID': 2,\n",
        "    u'httpversion': u'1.1',\n",
        "    u'msg': u'OK',\n",
        "    u'server': u'WEBrick/1.3.1 (Ruby/2.1.2/2014-05-08)',\n",
        "    u'timestamp_end': 1413247021.767505,\n",
        "    u'x-request-id': u'1f052e27-6a83-4d24-9a0f-3f18cd15e09d',\n",
        "    u'x-request-idID': 2,\n",
        "    u'x-runtime': 0.001283}},\n",
        "  u'size': {u'content': 15477,\n",
        "   u'headers': 444,\n",
        "   u'request': 1162,\n",
        "   u'response': 16091}}]"
       ]
      }
     ],
     "prompt_number": 599
    },
    {
     "cell_type": "code",
     "collapsed": false,
     "input": [
      "numericalFeatures =['size.response', 'request.requestcount', 'response.headers.x-runtime', 'request.timestamp_diff'] #'timestamp_end', 'timestamp_start' ]\n",
      "\n",
      "proj ={\"_id\": 0}#{\"_id\":0}\n",
      "\n",
      "#for l in numericalFeatures:    proj[l] = 1 #{'$exists':True}\n",
      "categoricalFeaturesID=[l+\"ID\" for l in categoricalFeatures]\n",
      "\n",
      "for l in numericalFeatures+categoricalFeaturesID:\n",
      "    proj[l] =1\n",
      "\n",
      "#proj['timestampStartEnd'] ={ '$add' : [ '$timestamp_end', '$timestamp_start' ] }\n",
      "proj[\"contentLeakage\"]=1\n",
      "\n",
      "print proj\n",
      "df=read_mongo(logs,query={}, projection=proj)\n",
      "#df.map(lambda x: x.get(\"pathID\")).collect()"
     ],
     "language": "python",
     "metadata": {},
     "outputs": [
      {
       "output_type": "stream",
       "stream": "stdout",
       "text": [
        "{'response.headers.x-frame-optionsID': 1, 'response.headers.connectionID': 1, 'response.headers.cache-controlID': 1, 'response.headers.x-content-type-optionsID': 1, 'size.response': 1, 'request.httpversionID': 1, 'request.methodID': 1, 'request.requestcount': 1, 'response.headers.set-cookieID': 1, 'request.headerID': 1, 'request.ipID': 1, 'response.headers.x-request-idID': 1, 'response.headers.x-xss-protectionID': 1, 'response.headers.x-xhr-current-locationID': 1, 'request.schemeID': 1, 'request.pathID': 1, 'response.headers.serverID': 1, 'contentLeakage': 1, 'response.headers.x-runtime': 1, 'response.headers.content-typeID': 1, 'response.headers.etagID': 1, 'request.portID': 1, 'request.hostID': 1, 'request.errorID': 1, 'response.headers.dateID': 1, 'response.headers.content-lengthID': 1, 'request.addressID': 1, 'response.headers.x-ua-compatibleID': 1, '_id': 0, 'request.client_connID': 1, 'request.timestamp_diff': 1}\n"
       ]
      }
     ],
     "prompt_number": 600
    },
    {
     "cell_type": "code",
     "collapsed": false,
     "input": [
      "l=df.take(2)\n",
      "type(l[0])\n",
      "#l#[\"request.methodID\"]\n",
      "#categoricalFeaturesID"
     ],
     "language": "python",
     "metadata": {},
     "outputs": [
      {
       "metadata": {},
       "output_type": "pyout",
       "prompt_number": 601,
       "text": [
        "dict"
       ]
      }
     ],
     "prompt_number": 601
    },
    {
     "cell_type": "code",
     "collapsed": false,
     "input": [
      "df.take(2)"
     ],
     "language": "python",
     "metadata": {},
     "outputs": [
      {
       "metadata": {},
       "output_type": "pyout",
       "prompt_number": 602,
       "text": [
        "[{u'contentLeakage': 0,\n",
        "  u'request': {u'methodID': 1,\n",
        "   u'pathID': 1,\n",
        "   u'requestcount': 3.0,\n",
        "   u'timestamp_diff': 0.005785942077636719},\n",
        "  u'response': {u'headers': {u'cache-controlID': 1,\n",
        "    u'content-lengthID': 1,\n",
        "    u'content-typeID': 3,\n",
        "    u'etagID': 2,\n",
        "    u'x-request-idID': 2,\n",
        "    u'x-runtime': 0.001283}},\n",
        "  u'size': {u'response': 16091}},\n",
        " {u'contentLeakage': 0,\n",
        "  u'request': {u'methodID': 1,\n",
        "   u'pathID': 2,\n",
        "   u'requestcount': 1.0,\n",
        "   u'timestamp_diff': 0.056900978088378906},\n",
        "  u'response': {u'headers': {u'cache-controlID': 1,\n",
        "    u'content-lengthID': 2,\n",
        "    u'content-typeID': 3,\n",
        "    u'etagID': 4,\n",
        "    u'x-request-idID': 6,\n",
        "    u'x-runtime': 0.004546}},\n",
        "  u'size': {u'response': 134336}}]"
       ]
      }
     ],
     "prompt_number": 602
    },
    {
     "cell_type": "markdown",
     "metadata": {},
     "source": [
      "#Linear Regression"
     ]
    },
    {
     "cell_type": "code",
     "collapsed": false,
     "input": [
      "from pyspark.mllib.regression import LabeledPoint, LinearRegressionWithSGD\n",
      "\n",
      "# Load and parse the data\n",
      "\n",
      "features = numericalFeatures + categoricalFeatures\n",
      "\n",
      "def parsePoint(line):\n",
      "#    values=[line.get(f) or 0)  for f in features]\n",
      "    values=[]\n",
      "    values.append( line[\"size\"].get(\"response\") or 0)\n",
      "    values.append( line[\"response\"][\"headers\"].get(\"x-runtime\") or 0)\n",
      "    values.append( line[\"response\"][\"headers\"].get(\"content-typeID\") or 0)\n",
      "    values.append( line[\"request\"].get(\"methodID\") or 0)\n",
      "    values.append( line[\"request\"].get(\"msgID\") or 0)\n",
      "    values.append( line[\"request\"].get(\"pathID\") or 0)\n",
      "    values.append( line[\"request\"].get(\"contentLeakage\") or 0)\n",
      "    values.append( line[\"request\"].get(\"timestamp_diff\") or 0)\n",
      "    values.append( line[\"request\"].get(\"requestcount\") or 0)\n",
      "\n",
      "    return LabeledPoint(values[0], values[1:]) # values[1:])\n",
      "\n",
      "parsedData = df.map(parsePoint)"
     ],
     "language": "python",
     "metadata": {},
     "outputs": [],
     "prompt_number": 603
    },
    {
     "cell_type": "code",
     "collapsed": false,
     "input": [
      "df.map(lambda line: line[\"request\"]).take(10)"
     ],
     "language": "python",
     "metadata": {},
     "outputs": [
      {
       "metadata": {},
       "output_type": "pyout",
       "prompt_number": 604,
       "text": [
        "[{u'methodID': 1,\n",
        "  u'pathID': 1,\n",
        "  u'requestcount': 3.0,\n",
        "  u'timestamp_diff': 0.005785942077636719},\n",
        " {u'methodID': 1,\n",
        "  u'pathID': 2,\n",
        "  u'requestcount': 1.0,\n",
        "  u'timestamp_diff': 0.056900978088378906},\n",
        " {u'methodID': 1,\n",
        "  u'pathID': 3,\n",
        "  u'requestcount': 1.0,\n",
        "  u'timestamp_diff': 0.037960052490234375},\n",
        " {u'methodID': 1,\n",
        "  u'pathID': 4,\n",
        "  u'requestcount': 2.0,\n",
        "  u'timestamp_diff': 0.03815317153930664},\n",
        " {u'methodID': 1,\n",
        "  u'pathID': 5,\n",
        "  u'requestcount': 2.0,\n",
        "  u'timestamp_diff': 0.03245902061462402},\n",
        " {u'methodID': 1,\n",
        "  u'pathID': 6,\n",
        "  u'requestcount': 3.0,\n",
        "  u'timestamp_diff': 0.011075973510742188},\n",
        " {u'methodID': 1,\n",
        "  u'pathID': 7,\n",
        "  u'requestcount': 3.0,\n",
        "  u'timestamp_diff': 0.009552001953125},\n",
        " {u'methodID': 1,\n",
        "  u'pathID': 8,\n",
        "  u'requestcount': 5.0,\n",
        "  u'timestamp_diff': 0.0065310001373291016},\n",
        " {u'methodID': 1,\n",
        "  u'pathID': 9,\n",
        "  u'requestcount': 2.0,\n",
        "  u'timestamp_diff': 0.005672931671142578},\n",
        " {u'methodID': 1,\n",
        "  u'pathID': 10,\n",
        "  u'requestcount': 6.0,\n",
        "  u'timestamp_diff': 0.008817911148071289}]"
       ]
      }
     ],
     "prompt_number": 604
    },
    {
     "cell_type": "code",
     "collapsed": false,
     "input": [
      "parsedData.take(10)"
     ],
     "language": "python",
     "metadata": {},
     "outputs": [
      {
       "metadata": {},
       "output_type": "pyout",
       "prompt_number": 605,
       "text": [
        "[LabeledPoint(16091.0, [0.001283,3.0,1.0,0.0,1.0,0.0,0.00578594207764,3.0]),\n",
        " LabeledPoint(134336.0, [0.004546,3.0,1.0,0.0,2.0,0.0,0.0569009780884,1.0]),\n",
        " LabeledPoint(273816.0, [0.001474,3.0,1.0,0.0,3.0,0.0,0.0379600524902,1.0]),\n",
        " LabeledPoint(13268.0, [0.002825,3.0,1.0,0.0,4.0,0.0,0.0381531715393,2.0]),\n",
        " LabeledPoint(4097.0, [0.00133,3.0,1.0,0.0,5.0,0.0,0.0324590206146,2.0]),\n",
        " LabeledPoint(3454.0, [0.002898,3.0,1.0,0.0,6.0,0.0,0.0110759735107,3.0]),\n",
        " LabeledPoint(6671.0, [0.001354,3.0,1.0,0.0,7.0,0.0,0.00955200195312,3.0]),\n",
        " LabeledPoint(5349.0, [0.001541,3.0,1.0,0.0,8.0,0.0,0.00653100013733,5.0]),\n",
        " LabeledPoint(5026.0, [0.001273,3.0,1.0,0.0,9.0,0.0,0.00567293167114,2.0]),\n",
        " LabeledPoint(10523.0, [0.00167,3.0,1.0,0.0,10.0,0.0,0.00881791114807,6.0])]"
       ]
      }
     ],
     "prompt_number": 605
    },
    {
     "cell_type": "code",
     "collapsed": false,
     "input": [
      "# Build the model\n",
      "model = LinearRegressionWithSGD.train(parsedData)\n",
      "\n",
      "# Evaluate the model on training data\n",
      "valuesAndPreds = parsedData.map(lambda p: (p.label, model.predict(p.features)))\n",
      "MSE = valuesAndPreds.map(lambda (v, p): (v - p)**2).reduce(lambda x, y: x + y) / valuesAndPreds.count()\n",
      "print(\"Mean Squared Error = \" + str(MSE))\n"
     ],
     "language": "python",
     "metadata": {},
     "outputs": [
      {
       "output_type": "stream",
       "stream": "stdout",
       "text": [
        "Mean Squared Error = inf\n"
       ]
      }
     ],
     "prompt_number": 606
    },
    {
     "cell_type": "code",
     "collapsed": false,
     "input": [
      "valuesAndPreds.take(10)"
     ],
     "language": "python",
     "metadata": {},
     "outputs": [
      {
       "metadata": {},
       "output_type": "pyout",
       "prompt_number": 607,
       "text": [
        "[(16091.0, -4.104952974314015e+280),\n",
        " (134336.0, -2.1145694453055654e+280),\n",
        " (273816.0, -2.5496430611890308e+280),\n",
        " (13268.0, -4.1975153395037609e+280),\n",
        " (4097.0, -4.6326060675517023e+280),\n",
        " (3454.0, -6.2804507750281188e+280),\n",
        " (6671.0, -6.7155468311251152e+280),\n",
        " (5349.0, -9.5761885860843173e+280),\n",
        " (5026.0, -6.3729644923986796e+280),\n",
        " (10523.0, -1.1659161582164825e+281)]"
       ]
      }
     ],
     "prompt_number": 607
    },
    {
     "cell_type": "code",
     "collapsed": false,
     "input": [
      "# plot \n",
      "plt.xlabel(\"response\")\n",
      "plt.ylabel(\"prediction\")\n",
      "plt.scatter(*zip(*valuesAndPreds.collect()))"
     ],
     "language": "python",
     "metadata": {},
     "outputs": [
      {
       "metadata": {},
       "output_type": "pyout",
       "prompt_number": 608,
       "text": [
        "<matplotlib.collections.PathCollection at 0xa1c8550>"
       ]
      },
      {
       "html": [
        "\n",
        "\n",
        "<style>\n",
        "\n",
        "</style>\n",
        "\n",
        "<div id=\"fig_el199991697872807124254681\"></div>\n",
        "<script>\n",
        "function mpld3_load_lib(url, callback){\n",
        "  var s = document.createElement('script');\n",
        "  s.src = url;\n",
        "  s.async = true;\n",
        "  s.onreadystatechange = s.onload = callback;\n",
        "  s.onerror = function(){console.warn(\"failed to load library \" + url);};\n",
        "  document.getElementsByTagName(\"head\")[0].appendChild(s);\n",
        "}\n",
        "\n",
        "if(typeof(mpld3) !== \"undefined\" && mpld3._mpld3IsLoaded){\n",
        "   // already loaded: just create the figure\n",
        "   !function(mpld3){\n",
        "       \n",
        "       mpld3.draw_figure(\"fig_el199991697872807124254681\", {\"axes\": [{\"xlim\": [-50000.0, 300000.0], \"yscale\": \"linear\", \"axesbg\": \"#FFFFFF\", \"texts\": [{\"v_baseline\": \"hanging\", \"h_anchor\": \"middle\", \"color\": \"#000000\", \"text\": \"response\", \"coordinates\": \"axes\", \"zorder\": 3, \"alpha\": 1, \"fontsize\": 10.0, \"position\": [0.5, -0.080645161290322578], \"rotation\": -0.0, \"id\": \"el19999165366480\"}, {\"v_baseline\": \"auto\", \"h_anchor\": \"middle\", \"color\": \"#000000\", \"text\": \"prediction\", \"coordinates\": \"axes\", \"zorder\": 3, \"alpha\": 1, \"fontsize\": 10.0, \"position\": [-0.094170026881720451, 0.5], \"rotation\": -90.0, \"id\": \"el19999172391184\"}], \"zoomable\": true, \"images\": [], \"xdomain\": [-50000.0, 300000.0], \"ylim\": [-1.2e+282, 1.9999999999999988e+281], \"paths\": [], \"sharey\": [], \"sharex\": [], \"axesbgalpha\": null, \"axes\": [{\"scale\": \"linear\", \"tickformat\": null, \"grid\": {\"gridOn\": false}, \"fontsize\": 10.0, \"position\": \"bottom\", \"nticks\": 8, \"tickvalues\": null}, {\"scale\": \"linear\", \"tickformat\": null, \"grid\": {\"gridOn\": false}, \"fontsize\": 10.0, \"position\": \"left\", \"nticks\": 8, \"tickvalues\": null}], \"lines\": [], \"markers\": [], \"id\": \"el19999167790864\", \"ydomain\": [-1.2e+282, 1.9999999999999988e+281], \"collections\": [{\"paths\": [[[[0.0, -0.5], [0.13260155, -0.5], [0.25978993539242673, -0.44731684579412084], [0.3535533905932738, -0.3535533905932738], [0.44731684579412084, -0.25978993539242673], [0.5, -0.13260155], [0.5, 0.0], [0.5, 0.13260155], [0.44731684579412084, 0.25978993539242673], [0.3535533905932738, 0.3535533905932738], [0.25978993539242673, 0.44731684579412084], [0.13260155, 0.5], [0.0, 0.5], [-0.13260155, 0.5], [-0.25978993539242673, 0.44731684579412084], [-0.3535533905932738, 0.3535533905932738], [-0.44731684579412084, 0.25978993539242673], [-0.5, 0.13260155], [-0.5, 0.0], [-0.5, -0.13260155], [-0.44731684579412084, -0.25978993539242673], [-0.3535533905932738, -0.3535533905932738], [-0.25978993539242673, -0.44731684579412084], [-0.13260155, -0.5], [0.0, -0.5]], [\"M\", \"C\", \"C\", \"C\", \"C\", \"C\", \"C\", \"C\", \"C\", \"Z\"]]], \"edgecolors\": [\"#000000\"], \"edgewidths\": [1.0], \"offsets\": \"data01\", \"yindex\": 1, \"id\": \"el19999169641296\", \"pathtransforms\": [[4.969039949999533, 0.0, 0.0, 4.969039949999533, 0.0, 0.0]], \"pathcoordinates\": \"display\", \"offsetcoordinates\": \"data\", \"zorder\": 1, \"xindex\": 0, \"alphas\": [null], \"facecolors\": [\"#0000FF\"]}], \"xscale\": \"linear\", \"bbox\": [0.125, 0.125, 0.77500000000000002, 0.77500000000000002]}], \"height\": 320.0, \"width\": 480.0, \"plugins\": [{\"type\": \"reset\"}, {\"enabled\": false, \"button\": true, \"type\": \"zoom\"}, {\"enabled\": false, \"button\": true, \"type\": \"boxzoom\"}], \"data\": {\"data01\": [[16091.0, -4.104952974314015e+280], [134336.0, -2.1145694453055654e+280], [273816.0, -2.5496430611890308e+280], [13268.0, -4.197515339503761e+280], [4097.0, -4.632606067551702e+280], [3454.0, -6.280450775028119e+280], [6671.0, -6.715546831125115e+280], [5349.0, -9.576188586084317e+280], [5026.0, -6.37296449239868e+280], [10523.0, -1.1659161582164825e+281], [4110.0, -8.455950342780476e+280], [8933.0, -1.1316631797445855e+281], [1192.0, -1.2964453358606388e+281], [424.0, -1.5826804953663226e+281], [5430.0, -1.746955633899468e+281], [426.0, -2.1041302765126644e+281], [426.0, -2.9965787083157084e+281], [426.0, -2.918811537739035e+281], [426.0, -2.0421054965005654e+281], [6134.0, -3.568867310186722e+281], [1092.0, -3.689973487451768e+281], [426.0, -2.6327417818630188e+281], [426.0, -3.767752435092068e+281], [426.0, -2.831791350021849e+281], [426.0, -2.813286517384478e+281], [1094.0, -3.612207093118379e+281], [1094.0, -3.733483394893233e+281], [426.0, -3.316901292557988e+281], [426.0, -3.767751672347451e+281], [426.0, -4.0880707521107115e+281], [426.0, -3.547449415122953e+281], [1092.0, -3.8112508617154975e+281], [1092.0, -3.932528803930018e+281], [426.0, -3.242886551357881e+281], [426.0, -4.5731829987266356e+281], [426.0, -4.010308081679227e+281], [426.0, -3.802008394695907e+281], [6248.0, -5.111215028666141e+281], [1094.0, -5.2323216317610676e+281], [426.0, -5.223079370019088e+281], [426.0, -5.014781656760558e+281], [424.0, -5.179570506595487e+281], [426.0, -4.63894148136805e+281], [1091.0, -4.9027472292841555e+281], [1092.0, -5.0240246062098966e+281], [425.0, -5.1017930757876176e+281], [426.0, -5.66467293383786e+281], [426.0, -5.499889687177715e+281], [426.0, -5.723940775667774e+281], [6254.0, -6.36749855196621e+281], [1094.0, -6.488606622352886e+281], [426.0, -4.576927902489364e+281], [424.0, -6.149788277788504e+281], [426.0, -6.227557230086669e+281], [426.0, -6.435850575830185e+281], [1105.0, -7.25977921703341e+281], [425.0, -5.6684257827175936e+281], [426.0, -7.163517032494609e+281], [426.0, -5.863731716011412e+281], [426.0, -6.87746197415661e+281], [5501.0, -6.697073919690646e+281], [1091.0, -6.818179473076251e+281], [426.0, -6.634896277482342e+281], [426.0, -6.678408089433969e+281], [426.0, -7.561604889272266e+281], [1105.0, -8.22999819176361e+281], [1104.0, -8.35127558647304e+281], [426.0, -8.255014226823751e+281], [426.0, -7.120009855012647e+281], [426.0, -6.833945422978206e+281], [5377.0, -8.923576390240602e+281], [1094.0, -9.044681970912223e+281], [426.0, -8.861399379506446e+281], [426.0, -8.575336442653088e+281], [426.0, -7.319045966803495e+281], [6552.0, -8.360698340215743e+281], [1099.0, -8.481806598019898e+281], [425.0, -8.046714982366576e+281], [426.0, -8.255011956202214e+281], [426.0, -9.303000881847625e+281], [1094.0, -1.0039906727598252e+282], [1094.0, -1.016118414171138e+282], [426.0, -8.575335818878951e+281], [426.0, -8.531823121229782e+281], [426.0, -1.0195449468556546e+282], [426.0, -1.0263966712141042e+282], [426.0, -8.852144838303326e+281], [424.0, -8.842897030716263e+281], [426.0, -8.886405173293764e+281], [426.0, -9.421516892370621e+281], [1092.0, -1.8680623201344158e+281], [7101.0, -2.8847125447690264e+281], [6719.0, -7.138672638671386e+281], [4930.0, -1.7339522122055412e+281], [5269.0, -1.314953127484473e+281], [3728.0, -1.4112210962370695e+281], [638.0, -1.2029265880060957e+281], [639.0, -1.4019690621542099e+281], [639.0, -1.939840390575649e+281], [423.0, -1.3459559457058298e+281], [426.0, -1.5477489326347705e+281], [426.0, -1.3024409638624624e+281], [426.0, -2.076361079969683e+281], [425.0, -2.1606343061094182e+281], [426.0, -1.5107386211033126e+281], [426.0, -2.0828663616433664e+281], [425.0, -1.0163744287483143e+281], [426.0, -1.87731812895014e+281], [425.0, -2.412435090352073e+281], [426.0, -2.4216909078770338e+281], [425.0, -1.8495600166813077e+281], [426.0, -1.9643398379828343e+281], [426.0, -1.7625383710494865e+281], [426.0, -3.108599550286212e+281], [426.0, -2.6207320557161994e+281], [426.0, -2.216149182650336e+281], [426.0, -2.4929633033618254e+281], [426.0, -2.1013724651303622e+281], [426.0, -2.2939242033930202e+281], [426.0, -2.872538884383014e+281], [426.0, -3.273379286639965e+281], [426.0, -2.5152175031687502e+281], [426.0, -2.396691307146438e+281], [426.0, -1.4672323966663606e+281], [425.0, -2.1976419548200254e+281], [425.0, -2.082864286017684e+281], [426.0, -1.6227568153373443e+281], [426.0, -2.6049825401970396e+281], [425.0, -2.8882929739763312e+281], [426.0, -2.7235052260822234e+281], [426.0, -1.883815782022426e+281], [425.0, -3.149359722620908e+281], [424.0, -3.1836164901856473e+281], [426.0, -2.5272188522311344e+281], [426.0, -2.2911577178765255e+281], [426.0, -2.2226527323852942e+281], [425.0, -2.4994690246163724e+281], [426.0, -2.7355147544280042e+281], [426.0, -3.021582009966154e+281], [425.0, -3.9575393277378283e+281], [426.0, -3.792756355315822e+281], [424.0, -2.909547161745317e+281], [423.0, -2.7512615162040325e+281], [426.0, -2.0736177850622543e+281], [426.0, -2.030108541824019e+281], [426.0, -3.730742568953111e+281], [426.0, -2.847540664429259e+281], [426.0, -2.5244656356978997e+281], [425.0, -2.8447910838036807e+281], [426.0, -3.7742535685751235e+281], [426.0, -3.416922662772104e+281], [426.0, -2.1078662992274322e+281], [426.0, -3.298393298390795e+281], [426.0, -4.1038283698782096e+281], [426.0, -2.6642526733648308e+281], [426.0, -2.4902025949298248e+281], [426.0, -3.14011180843929e+281], [426.0, -3.8705172789639326e+281], [426.0, -3.833505724221131e+281], [426.0, -3.220621594470642e+281], [426.0, -3.071585951737769e+281], [426.0, -3.307646234567647e+281], [426.0, -4.321365857740686e+281], [426.0, -4.1223208862241915e+281], [425.0, -2.993816227482214e+281], [425.0, -3.650225745610332e+281], [426.0, -3.124356317716457e+281], [426.0, -3.289141514105739e+281], [425.0, -3.009578852937002e+281], [426.0, -3.174363652515919e+281], [425.0, -3.684486875172382e+281], [425.0, -3.451182257843256e+281], [426.0, -4.3028662760289725e+281], [426.0, -4.153834325726317e+281], [425.0, -4.119576490900006e+281], [426.0, -3.861271257534871e+281], [426.0, -3.261377944775789e+281], [426.0, -4.2686168972419286e+281], [425.0, -2.9753140770166256e+281], [425.0, -4.4769076583540247e+281], [426.0, -3.705731584436381e+281], [426.0, -3.55669682357873e+281], [426.0, -4.1565840331549017e+281], [426.0, -4.806476883716308e+281], [426.0, -4.318615268028711e+281], [425.0, -3.478925776885029e+281], [426.0, -4.728707726276071e+281], [426.0, -3.286392943301694e+281], [426.0, -3.9732984877916116e+281], [426.0, -3.121607394713065e+281], [426.0, -4.8657459691694355e+281], [426.0, -3.4169193312892855e+281], [426.0, -4.2223538240612705e+281], [426.0, -3.3206400294989746e+281], [426.0, -4.3001180551840657e+281], [426.0, -4.1816015244142626e+281], [426.0, -4.952766460731532e+281], [426.0, -3.998299911878778e+281], [426.0, -3.625209353472246e+281], [426.0, -4.551917880952497e+281], [425.0, -4.268615585029088e+281], [426.0, -5.369361803518929e+281], [426.0, -4.3121211722864876e+281], [425.0, -4.1630865800401765e+281], [426.0, -4.4769085506001904e+281], [426.0, -4.6824473577228427e+281], [426.0, -5.412875157131002e+281], [426.0, -4.6074313631799484e+281], [426.0, -5.055532257667591e+281], [426.0, -4.698207020743509e+281], [426.0, -4.337125066081429e+281], [426.0, -3.892778147722896e+281], [424.0, -4.048304234233349e+281], [426.0, -4.188091663501489e+281], [426.0, -4.707461078411425e+281], [425.0, -5.515646755231254e+281], [426.0, -4.865744325076205e+281], [426.0, -4.785223660433126e+281], [425.0, -4.0233106811097786e+281], [426.0, -4.352874830874644e+281], [426.0, -5.559151774473183e+281], [426.0, -4.3186224498509376e+281], [426.0, -5.0027713871533466e+281], [424.0, -4.725963442311209e+281], [426.0, -5.689682501152374e+281], [426.0, -5.1703074365562276e+281], [426.0, -5.09254720781637e+281], [426.0, -5.2823417603899255e+281], [426.0, -5.497131206371345e+281], [426.0, -5.854465391765078e+281], [426.0, -5.419363754375729e+281], [426.0, -4.256610044068425e+281], [426.0, -4.9435131601365135e+281], [426.0, -6.000744975353327e+281], [426.0, -4.464904064372114e+281], [426.0, -4.62968939579636e+281], [426.0, -4.654691115203367e+281], [426.0, -5.270330011176725e+281], [426.0, -6.078514406829687e+281], [425.0, -4.716705077302406e+281], [426.0, -5.6026556850693556e+281], [426.0, -5.643414236297699e+281], [426.0, -6.04425613796898e+281], [426.0, -5.938734598390346e+281], [425.0, -4.88149694879286e+281], [426.0, -4.925002073435005e+281], [426.0, -6.339574144904466e+281], [425.0, -5.982245848650502e+281], [426.0, -5.568401275351291e+281], [426.0, -6.495110583163407e+281], [426.0, -5.897971632181303e+281], [426.0, -6.547868844063728e+281], [426.0, -6.147028683563767e+281], [426.0, -5.671176483392473e+281], [426.0, -4.741726806891465e+281], [426.0, -5.746187468852062e+281], [426.0, -6.2405490774138e+281], [426.0, -5.593404769480092e+281], [426.0, -4.950007803638756e+281], [426.0, -6.128523786483013e+281], [426.0, -5.879467536713058e+281], [426.0, -6.085015507333626e+281], [426.0, -5.696188689228977e+281], [426.0, -6.380340257527011e+281], [426.0, -6.771926739144381e+281], [425.0, -5.245332746324264e+281], [425.0, -5.845220965825857e+281], [426.0, -6.535865780475195e+281], [426.0, -5.932237662476807e+281], [425.0, -6.18404210152694e+281], [426.0, -7.06723657658422e+281], [425.0, -6.383081167450092e+281], [426.0, -7.222775161067601e+281], [426.0, -6.588629576649202e+281], [426.0, -5.661918397335717e+281], [425.0, -6.274814535890346e+281], [425.0, -6.883947751205713e+281], [426.0, -5.348109000829995e+281], [426.0, -6.35257429849625e+281], [425.0, -5.7554395203502214e+281], [425.0, -6.321075370483793e+281], [426.0, -7.09224830534024e+281], [426.0, -5.59991061134229e+281], [426.0, -6.76918019229402e+281], [426.0, -6.094266013226885e+281], [426.0, -6.734910724539868e+281], [425.0, -6.286813540932017e+281], [426.0, -7.300540313242743e+281], [426.0, -7.151506427078431e+281], [426.0, -6.050756159391133e+281], [426.0, -7.552347791340342e+281], [426.0, -7.0737390474492e+281], [426.0, -7.751393069975395e+281], [425.0, -6.625639728775918e+281], [426.0, -6.25905586075928e+281], [426.0, -6.737665575732268e+281], [426.0, -7.760642008855333e+281], [426.0, -7.238524246195117e+281], [426.0, -6.641399340367255e+281], [426.0, -7.045987993457913e+281], [426.0, -6.881201789429667e+281], [426.0, -7.297791566216941e+281], [426.0, -6.849686466034895e+281], [426.0, -7.655122030462543e+281], [426.0, -7.201517880150959e+281], [425.0, -6.240550667340152e+281], [426.0, -6.041505279924855e+281], [426.0, -7.014478782578613e+281], [426.0, -7.428323484345343e+281], [426.0, -7.057987930073483e+281], [426.0, -6.42384622191244e+281], [426.0, -7.62736199343343e+281], [426.0, -7.462574868181815e+281], [426.0, -7.680130254905773e+281], [426.0, -8.314270464478826e+281], [426.0, -8.323519088757263e+281], [424.0, -6.744162652868872e+281], [426.0, -7.309801058534873e+281], [426.0, -7.023736301316512e+281], [426.0, -8.087467820437301e+281], [426.0, -8.367030621010897e+281], [426.0, -7.730145509880461e+281], [426.0, -6.560877652093229e+281], [425.0, -7.126510785630629e+281], [425.0, -7.938440352285575e+281], [426.0, -8.261515964464534e+281], [426.0, -7.334804761293938e+281], [425.0, -6.526622397176556e+281], [426.0, -7.807915334988396e+281], [426.0, -6.812687151854118e+281], [421.0, -7.543099013872315e+281], [426.0, -7.064492654004949e+281], [426.0, -7.947694078020094e+281], [426.0, -8.712364040363969e+281], [426.0, -8.23375971171485e+281], [426.0, -6.908960672180057e+281], [426.0, -9.007687188226187e+281], [425.0, -7.465337044116214e+281], [426.0, -7.838423923803591e+281], [426.0, -8.286516697725138e+281], [426.0, -7.229279911146845e+281], [425.0, -8.96417127858278e+281], [426.0, -7.238524227557959e+281], [426.0, -9.21597052849499e+281], [426.0, -8.58183763967182e+281], [426.0, -8.336533454589437e+281], [426.0, -7.045984475760845e+281], [426.0, -8.050457493625627e+281], [425.0, -8.467058028570322e+281], [426.0, -7.941187576470808e+281], [425.0, -7.297790865375886e+281], [426.0, -9.110453878465898e+281], [426.0, -7.210767979612255e+281], [425.0, -9.362260593632489e+281], [426.0, -8.432795234775152e+281], [426.0, -7.984698971263464e+281], [426.0, -8.718860178232529e+281], [425.0, -7.670871851708016e+281], [426.0, -7.636621144981963e+281], [426.0, -9.048432719903636e+281], [426.0, -9.449277146650935e+281], [426.0, -8.280015221019261e+281], [426.0, -8.314272741895747e+281], [426.0, -9.293738079711736e+281], [426.0, -7.801401293759986e+281], [426.0, -9.822357330632454e+281], [426.0, -9.178962146882073e+281], [426.0, -8.94291820215973e+281], [426.0, -8.501319122405738e+281], [426.0, -8.218004711792196e+281], [426.0, -7.565347987128316e+281], [426.0, -9.359505703305686e+281], [426.0, -7.860668073865587e+281], [425.0, -8.261507893534978e+281], [426.0, -9.275237348755368e+281], [426.0, -9.151209854886611e+281], [426.0, -7.947684278915706e+281], [426.0, -9.446533484668103e+281], [426.0, -9.004935211516957e+281], [426.0, -8.591087176702872e+281], [426.0, -8.121735881800048e+281], [426.0, -1.008992134565583e+282], [425.0, -8.199493419558906e+281], [426.0, -9.256737391023141e+281], [426.0, -1.0254712632619575e+282], [1108.0, -1.4638122473768263e+281], [591.0, -1.2555191508963195e+281], [591.0, -1.2990311990590984e+281], [591.0, -8.20419307387708e+280], [7269.0, -1.358461864819764e+281], [621.0, -1.61027255257233e+281], [426.0, -1.8615691374569906e+281], [426.0, -1.7837989078323004e+281], [425.0, -2.5549757314564228e+281], [426.0, -9.386196414480486e+280], [2370.0, -1.0288870830029464e+281], [3138.0, -1.2279322172890864e+281], [1388.0, -3.1141563039804274e+281], [426.0, -8.950930621962603e+280], [425.0, -6.6179076404546474e+280], [425.0, -1.6755226910235222e+281], [426.0, -1.2339262204760843e+281], [426.0, -1.277428837996853e+281], [425.0, -1.0783838956817509e+281], [426.0, -1.000618708211329e+281], [426.0, -1.4079603325924012e+281], [426.0, -1.330194745938514e+281], [426.0, -1.7375407589734683e+281], [426.0, -1.902321495012117e+281], [426.0, -1.062640718296375e+281], [426.0, -1.3486997458209294e+281], [426.0, -1.5134863720212333e+281], [426.0, -2.4059371359184433e+281], [426.0, -1.9643360810845636e+281], [426.0, -2.0078466624701104e+281], [426.0, -2.7447615924247212e+281], [426.0, -6.182904356485397e+280], [426.0, -1.6875268895161814e+281], [426.0, -1.85231411600406e+281], [426.0, -2.18188430958768e+281]]}, \"id\": \"el19999169787280\"});\n",
        "   }(mpld3);\n",
        "}else if(typeof define === \"function\" && define.amd){\n",
        "   // require.js is available: use it to load d3/mpld3\n",
        "   require.config({paths: {d3: \"https://mpld3.github.io/js/d3.v3.min\"}});\n",
        "   require([\"d3\"], function(d3){\n",
        "      window.d3 = d3;\n",
        "      mpld3_load_lib(\"https://mpld3.github.io/js/mpld3.v0.2.js\", function(){\n",
        "         \n",
        "         mpld3.draw_figure(\"fig_el199991697872807124254681\", {\"axes\": [{\"xlim\": [-50000.0, 300000.0], \"yscale\": \"linear\", \"axesbg\": \"#FFFFFF\", \"texts\": [{\"v_baseline\": \"hanging\", \"h_anchor\": \"middle\", \"color\": \"#000000\", \"text\": \"response\", \"coordinates\": \"axes\", \"zorder\": 3, \"alpha\": 1, \"fontsize\": 10.0, \"position\": [0.5, -0.080645161290322578], \"rotation\": -0.0, \"id\": \"el19999165366480\"}, {\"v_baseline\": \"auto\", \"h_anchor\": \"middle\", \"color\": \"#000000\", \"text\": \"prediction\", \"coordinates\": \"axes\", \"zorder\": 3, \"alpha\": 1, \"fontsize\": 10.0, \"position\": [-0.094170026881720451, 0.5], \"rotation\": -90.0, \"id\": \"el19999172391184\"}], \"zoomable\": true, \"images\": [], \"xdomain\": [-50000.0, 300000.0], \"ylim\": [-1.2e+282, 1.9999999999999988e+281], \"paths\": [], \"sharey\": [], \"sharex\": [], \"axesbgalpha\": null, \"axes\": [{\"scale\": \"linear\", \"tickformat\": null, \"grid\": {\"gridOn\": false}, \"fontsize\": 10.0, \"position\": \"bottom\", \"nticks\": 8, \"tickvalues\": null}, {\"scale\": \"linear\", \"tickformat\": null, \"grid\": {\"gridOn\": false}, \"fontsize\": 10.0, \"position\": \"left\", \"nticks\": 8, \"tickvalues\": null}], \"lines\": [], \"markers\": [], \"id\": \"el19999167790864\", \"ydomain\": [-1.2e+282, 1.9999999999999988e+281], \"collections\": [{\"paths\": [[[[0.0, -0.5], [0.13260155, -0.5], [0.25978993539242673, -0.44731684579412084], [0.3535533905932738, -0.3535533905932738], [0.44731684579412084, -0.25978993539242673], [0.5, -0.13260155], [0.5, 0.0], [0.5, 0.13260155], [0.44731684579412084, 0.25978993539242673], [0.3535533905932738, 0.3535533905932738], [0.25978993539242673, 0.44731684579412084], [0.13260155, 0.5], [0.0, 0.5], [-0.13260155, 0.5], [-0.25978993539242673, 0.44731684579412084], [-0.3535533905932738, 0.3535533905932738], [-0.44731684579412084, 0.25978993539242673], [-0.5, 0.13260155], [-0.5, 0.0], [-0.5, -0.13260155], [-0.44731684579412084, -0.25978993539242673], [-0.3535533905932738, -0.3535533905932738], [-0.25978993539242673, -0.44731684579412084], [-0.13260155, -0.5], [0.0, -0.5]], [\"M\", \"C\", \"C\", \"C\", \"C\", \"C\", \"C\", \"C\", \"C\", \"Z\"]]], \"edgecolors\": [\"#000000\"], \"edgewidths\": [1.0], \"offsets\": \"data01\", \"yindex\": 1, \"id\": \"el19999169641296\", \"pathtransforms\": [[4.969039949999533, 0.0, 0.0, 4.969039949999533, 0.0, 0.0]], \"pathcoordinates\": \"display\", \"offsetcoordinates\": \"data\", \"zorder\": 1, \"xindex\": 0, \"alphas\": [null], \"facecolors\": [\"#0000FF\"]}], \"xscale\": \"linear\", \"bbox\": [0.125, 0.125, 0.77500000000000002, 0.77500000000000002]}], \"height\": 320.0, \"width\": 480.0, \"plugins\": [{\"type\": \"reset\"}, {\"enabled\": false, \"button\": true, \"type\": \"zoom\"}, {\"enabled\": false, \"button\": true, \"type\": \"boxzoom\"}], \"data\": {\"data01\": [[16091.0, -4.104952974314015e+280], [134336.0, -2.1145694453055654e+280], [273816.0, -2.5496430611890308e+280], [13268.0, -4.197515339503761e+280], [4097.0, -4.632606067551702e+280], [3454.0, -6.280450775028119e+280], [6671.0, -6.715546831125115e+280], [5349.0, -9.576188586084317e+280], [5026.0, -6.37296449239868e+280], [10523.0, -1.1659161582164825e+281], [4110.0, -8.455950342780476e+280], [8933.0, -1.1316631797445855e+281], [1192.0, -1.2964453358606388e+281], [424.0, -1.5826804953663226e+281], [5430.0, -1.746955633899468e+281], [426.0, -2.1041302765126644e+281], [426.0, -2.9965787083157084e+281], [426.0, -2.918811537739035e+281], [426.0, -2.0421054965005654e+281], [6134.0, -3.568867310186722e+281], [1092.0, -3.689973487451768e+281], [426.0, -2.6327417818630188e+281], [426.0, -3.767752435092068e+281], [426.0, -2.831791350021849e+281], [426.0, -2.813286517384478e+281], [1094.0, -3.612207093118379e+281], [1094.0, -3.733483394893233e+281], [426.0, -3.316901292557988e+281], [426.0, -3.767751672347451e+281], [426.0, -4.0880707521107115e+281], [426.0, -3.547449415122953e+281], [1092.0, -3.8112508617154975e+281], [1092.0, -3.932528803930018e+281], [426.0, -3.242886551357881e+281], [426.0, -4.5731829987266356e+281], [426.0, -4.010308081679227e+281], [426.0, -3.802008394695907e+281], [6248.0, -5.111215028666141e+281], [1094.0, -5.2323216317610676e+281], [426.0, -5.223079370019088e+281], [426.0, -5.014781656760558e+281], [424.0, -5.179570506595487e+281], [426.0, -4.63894148136805e+281], [1091.0, -4.9027472292841555e+281], [1092.0, -5.0240246062098966e+281], [425.0, -5.1017930757876176e+281], [426.0, -5.66467293383786e+281], [426.0, -5.499889687177715e+281], [426.0, -5.723940775667774e+281], [6254.0, -6.36749855196621e+281], [1094.0, -6.488606622352886e+281], [426.0, -4.576927902489364e+281], [424.0, -6.149788277788504e+281], [426.0, -6.227557230086669e+281], [426.0, -6.435850575830185e+281], [1105.0, -7.25977921703341e+281], [425.0, -5.6684257827175936e+281], [426.0, -7.163517032494609e+281], [426.0, -5.863731716011412e+281], [426.0, -6.87746197415661e+281], [5501.0, -6.697073919690646e+281], [1091.0, -6.818179473076251e+281], [426.0, -6.634896277482342e+281], [426.0, -6.678408089433969e+281], [426.0, -7.561604889272266e+281], [1105.0, -8.22999819176361e+281], [1104.0, -8.35127558647304e+281], [426.0, -8.255014226823751e+281], [426.0, -7.120009855012647e+281], [426.0, -6.833945422978206e+281], [5377.0, -8.923576390240602e+281], [1094.0, -9.044681970912223e+281], [426.0, -8.861399379506446e+281], [426.0, -8.575336442653088e+281], [426.0, -7.319045966803495e+281], [6552.0, -8.360698340215743e+281], [1099.0, -8.481806598019898e+281], [425.0, -8.046714982366576e+281], [426.0, -8.255011956202214e+281], [426.0, -9.303000881847625e+281], [1094.0, -1.0039906727598252e+282], [1094.0, -1.016118414171138e+282], [426.0, -8.575335818878951e+281], [426.0, -8.531823121229782e+281], [426.0, -1.0195449468556546e+282], [426.0, -1.0263966712141042e+282], [426.0, -8.852144838303326e+281], [424.0, -8.842897030716263e+281], [426.0, -8.886405173293764e+281], [426.0, -9.421516892370621e+281], [1092.0, -1.8680623201344158e+281], [7101.0, -2.8847125447690264e+281], [6719.0, -7.138672638671386e+281], [4930.0, -1.7339522122055412e+281], [5269.0, -1.314953127484473e+281], [3728.0, -1.4112210962370695e+281], [638.0, -1.2029265880060957e+281], [639.0, -1.4019690621542099e+281], [639.0, -1.939840390575649e+281], [423.0, -1.3459559457058298e+281], [426.0, -1.5477489326347705e+281], [426.0, -1.3024409638624624e+281], [426.0, -2.076361079969683e+281], [425.0, -2.1606343061094182e+281], [426.0, -1.5107386211033126e+281], [426.0, -2.0828663616433664e+281], [425.0, -1.0163744287483143e+281], [426.0, -1.87731812895014e+281], [425.0, -2.412435090352073e+281], [426.0, -2.4216909078770338e+281], [425.0, -1.8495600166813077e+281], [426.0, -1.9643398379828343e+281], [426.0, -1.7625383710494865e+281], [426.0, -3.108599550286212e+281], [426.0, -2.6207320557161994e+281], [426.0, -2.216149182650336e+281], [426.0, -2.4929633033618254e+281], [426.0, -2.1013724651303622e+281], [426.0, -2.2939242033930202e+281], [426.0, -2.872538884383014e+281], [426.0, -3.273379286639965e+281], [426.0, -2.5152175031687502e+281], [426.0, -2.396691307146438e+281], [426.0, -1.4672323966663606e+281], [425.0, -2.1976419548200254e+281], [425.0, -2.082864286017684e+281], [426.0, -1.6227568153373443e+281], [426.0, -2.6049825401970396e+281], [425.0, -2.8882929739763312e+281], [426.0, -2.7235052260822234e+281], [426.0, -1.883815782022426e+281], [425.0, -3.149359722620908e+281], [424.0, -3.1836164901856473e+281], [426.0, -2.5272188522311344e+281], [426.0, -2.2911577178765255e+281], [426.0, -2.2226527323852942e+281], [425.0, -2.4994690246163724e+281], [426.0, -2.7355147544280042e+281], [426.0, -3.021582009966154e+281], [425.0, -3.9575393277378283e+281], [426.0, -3.792756355315822e+281], [424.0, -2.909547161745317e+281], [423.0, -2.7512615162040325e+281], [426.0, -2.0736177850622543e+281], [426.0, -2.030108541824019e+281], [426.0, -3.730742568953111e+281], [426.0, -2.847540664429259e+281], [426.0, -2.5244656356978997e+281], [425.0, -2.8447910838036807e+281], [426.0, -3.7742535685751235e+281], [426.0, -3.416922662772104e+281], [426.0, -2.1078662992274322e+281], [426.0, -3.298393298390795e+281], [426.0, -4.1038283698782096e+281], [426.0, -2.6642526733648308e+281], [426.0, -2.4902025949298248e+281], [426.0, -3.14011180843929e+281], [426.0, -3.8705172789639326e+281], [426.0, -3.833505724221131e+281], [426.0, -3.220621594470642e+281], [426.0, -3.071585951737769e+281], [426.0, -3.307646234567647e+281], [426.0, -4.321365857740686e+281], [426.0, -4.1223208862241915e+281], [425.0, -2.993816227482214e+281], [425.0, -3.650225745610332e+281], [426.0, -3.124356317716457e+281], [426.0, -3.289141514105739e+281], [425.0, -3.009578852937002e+281], [426.0, -3.174363652515919e+281], [425.0, -3.684486875172382e+281], [425.0, -3.451182257843256e+281], [426.0, -4.3028662760289725e+281], [426.0, -4.153834325726317e+281], [425.0, -4.119576490900006e+281], [426.0, -3.861271257534871e+281], [426.0, -3.261377944775789e+281], [426.0, -4.2686168972419286e+281], [425.0, -2.9753140770166256e+281], [425.0, -4.4769076583540247e+281], [426.0, -3.705731584436381e+281], [426.0, -3.55669682357873e+281], [426.0, -4.1565840331549017e+281], [426.0, -4.806476883716308e+281], [426.0, -4.318615268028711e+281], [425.0, -3.478925776885029e+281], [426.0, -4.728707726276071e+281], [426.0, -3.286392943301694e+281], [426.0, -3.9732984877916116e+281], [426.0, -3.121607394713065e+281], [426.0, -4.8657459691694355e+281], [426.0, -3.4169193312892855e+281], [426.0, -4.2223538240612705e+281], [426.0, -3.3206400294989746e+281], [426.0, -4.3001180551840657e+281], [426.0, -4.1816015244142626e+281], [426.0, -4.952766460731532e+281], [426.0, -3.998299911878778e+281], [426.0, -3.625209353472246e+281], [426.0, -4.551917880952497e+281], [425.0, -4.268615585029088e+281], [426.0, -5.369361803518929e+281], [426.0, -4.3121211722864876e+281], [425.0, -4.1630865800401765e+281], [426.0, -4.4769085506001904e+281], [426.0, -4.6824473577228427e+281], [426.0, -5.412875157131002e+281], [426.0, -4.6074313631799484e+281], [426.0, -5.055532257667591e+281], [426.0, -4.698207020743509e+281], [426.0, -4.337125066081429e+281], [426.0, -3.892778147722896e+281], [424.0, -4.048304234233349e+281], [426.0, -4.188091663501489e+281], [426.0, -4.707461078411425e+281], [425.0, -5.515646755231254e+281], [426.0, -4.865744325076205e+281], [426.0, -4.785223660433126e+281], [425.0, -4.0233106811097786e+281], [426.0, -4.352874830874644e+281], [426.0, -5.559151774473183e+281], [426.0, -4.3186224498509376e+281], [426.0, -5.0027713871533466e+281], [424.0, -4.725963442311209e+281], [426.0, -5.689682501152374e+281], [426.0, -5.1703074365562276e+281], [426.0, -5.09254720781637e+281], [426.0, -5.2823417603899255e+281], [426.0, -5.497131206371345e+281], [426.0, -5.854465391765078e+281], [426.0, -5.419363754375729e+281], [426.0, -4.256610044068425e+281], [426.0, -4.9435131601365135e+281], [426.0, -6.000744975353327e+281], [426.0, -4.464904064372114e+281], [426.0, -4.62968939579636e+281], [426.0, -4.654691115203367e+281], [426.0, -5.270330011176725e+281], [426.0, -6.078514406829687e+281], [425.0, -4.716705077302406e+281], [426.0, -5.6026556850693556e+281], [426.0, -5.643414236297699e+281], [426.0, -6.04425613796898e+281], [426.0, -5.938734598390346e+281], [425.0, -4.88149694879286e+281], [426.0, -4.925002073435005e+281], [426.0, -6.339574144904466e+281], [425.0, -5.982245848650502e+281], [426.0, -5.568401275351291e+281], [426.0, -6.495110583163407e+281], [426.0, -5.897971632181303e+281], [426.0, -6.547868844063728e+281], [426.0, -6.147028683563767e+281], [426.0, -5.671176483392473e+281], [426.0, -4.741726806891465e+281], [426.0, -5.746187468852062e+281], [426.0, -6.2405490774138e+281], [426.0, -5.593404769480092e+281], [426.0, -4.950007803638756e+281], [426.0, -6.128523786483013e+281], [426.0, -5.879467536713058e+281], [426.0, -6.085015507333626e+281], [426.0, -5.696188689228977e+281], [426.0, -6.380340257527011e+281], [426.0, -6.771926739144381e+281], [425.0, -5.245332746324264e+281], [425.0, -5.845220965825857e+281], [426.0, -6.535865780475195e+281], [426.0, -5.932237662476807e+281], [425.0, -6.18404210152694e+281], [426.0, -7.06723657658422e+281], [425.0, -6.383081167450092e+281], [426.0, -7.222775161067601e+281], [426.0, -6.588629576649202e+281], [426.0, -5.661918397335717e+281], [425.0, -6.274814535890346e+281], [425.0, -6.883947751205713e+281], [426.0, -5.348109000829995e+281], [426.0, -6.35257429849625e+281], [425.0, -5.7554395203502214e+281], [425.0, -6.321075370483793e+281], [426.0, -7.09224830534024e+281], [426.0, -5.59991061134229e+281], [426.0, -6.76918019229402e+281], [426.0, -6.094266013226885e+281], [426.0, -6.734910724539868e+281], [425.0, -6.286813540932017e+281], [426.0, -7.300540313242743e+281], [426.0, -7.151506427078431e+281], [426.0, -6.050756159391133e+281], [426.0, -7.552347791340342e+281], [426.0, -7.0737390474492e+281], [426.0, -7.751393069975395e+281], [425.0, -6.625639728775918e+281], [426.0, -6.25905586075928e+281], [426.0, -6.737665575732268e+281], [426.0, -7.760642008855333e+281], [426.0, -7.238524246195117e+281], [426.0, -6.641399340367255e+281], [426.0, -7.045987993457913e+281], [426.0, -6.881201789429667e+281], [426.0, -7.297791566216941e+281], [426.0, -6.849686466034895e+281], [426.0, -7.655122030462543e+281], [426.0, -7.201517880150959e+281], [425.0, -6.240550667340152e+281], [426.0, -6.041505279924855e+281], [426.0, -7.014478782578613e+281], [426.0, -7.428323484345343e+281], [426.0, -7.057987930073483e+281], [426.0, -6.42384622191244e+281], [426.0, -7.62736199343343e+281], [426.0, -7.462574868181815e+281], [426.0, -7.680130254905773e+281], [426.0, -8.314270464478826e+281], [426.0, -8.323519088757263e+281], [424.0, -6.744162652868872e+281], [426.0, -7.309801058534873e+281], [426.0, -7.023736301316512e+281], [426.0, -8.087467820437301e+281], [426.0, -8.367030621010897e+281], [426.0, -7.730145509880461e+281], [426.0, -6.560877652093229e+281], [425.0, -7.126510785630629e+281], [425.0, -7.938440352285575e+281], [426.0, -8.261515964464534e+281], [426.0, -7.334804761293938e+281], [425.0, -6.526622397176556e+281], [426.0, -7.807915334988396e+281], [426.0, -6.812687151854118e+281], [421.0, -7.543099013872315e+281], [426.0, -7.064492654004949e+281], [426.0, -7.947694078020094e+281], [426.0, -8.712364040363969e+281], [426.0, -8.23375971171485e+281], [426.0, -6.908960672180057e+281], [426.0, -9.007687188226187e+281], [425.0, -7.465337044116214e+281], [426.0, -7.838423923803591e+281], [426.0, -8.286516697725138e+281], [426.0, -7.229279911146845e+281], [425.0, -8.96417127858278e+281], [426.0, -7.238524227557959e+281], [426.0, -9.21597052849499e+281], [426.0, -8.58183763967182e+281], [426.0, -8.336533454589437e+281], [426.0, -7.045984475760845e+281], [426.0, -8.050457493625627e+281], [425.0, -8.467058028570322e+281], [426.0, -7.941187576470808e+281], [425.0, -7.297790865375886e+281], [426.0, -9.110453878465898e+281], [426.0, -7.210767979612255e+281], [425.0, -9.362260593632489e+281], [426.0, -8.432795234775152e+281], [426.0, -7.984698971263464e+281], [426.0, -8.718860178232529e+281], [425.0, -7.670871851708016e+281], [426.0, -7.636621144981963e+281], [426.0, -9.048432719903636e+281], [426.0, -9.449277146650935e+281], [426.0, -8.280015221019261e+281], [426.0, -8.314272741895747e+281], [426.0, -9.293738079711736e+281], [426.0, -7.801401293759986e+281], [426.0, -9.822357330632454e+281], [426.0, -9.178962146882073e+281], [426.0, -8.94291820215973e+281], [426.0, -8.501319122405738e+281], [426.0, -8.218004711792196e+281], [426.0, -7.565347987128316e+281], [426.0, -9.359505703305686e+281], [426.0, -7.860668073865587e+281], [425.0, -8.261507893534978e+281], [426.0, -9.275237348755368e+281], [426.0, -9.151209854886611e+281], [426.0, -7.947684278915706e+281], [426.0, -9.446533484668103e+281], [426.0, -9.004935211516957e+281], [426.0, -8.591087176702872e+281], [426.0, -8.121735881800048e+281], [426.0, -1.008992134565583e+282], [425.0, -8.199493419558906e+281], [426.0, -9.256737391023141e+281], [426.0, -1.0254712632619575e+282], [1108.0, -1.4638122473768263e+281], [591.0, -1.2555191508963195e+281], [591.0, -1.2990311990590984e+281], [591.0, -8.20419307387708e+280], [7269.0, -1.358461864819764e+281], [621.0, -1.61027255257233e+281], [426.0, -1.8615691374569906e+281], [426.0, -1.7837989078323004e+281], [425.0, -2.5549757314564228e+281], [426.0, -9.386196414480486e+280], [2370.0, -1.0288870830029464e+281], [3138.0, -1.2279322172890864e+281], [1388.0, -3.1141563039804274e+281], [426.0, -8.950930621962603e+280], [425.0, -6.6179076404546474e+280], [425.0, -1.6755226910235222e+281], [426.0, -1.2339262204760843e+281], [426.0, -1.277428837996853e+281], [425.0, -1.0783838956817509e+281], [426.0, -1.000618708211329e+281], [426.0, -1.4079603325924012e+281], [426.0, -1.330194745938514e+281], [426.0, -1.7375407589734683e+281], [426.0, -1.902321495012117e+281], [426.0, -1.062640718296375e+281], [426.0, -1.3486997458209294e+281], [426.0, -1.5134863720212333e+281], [426.0, -2.4059371359184433e+281], [426.0, -1.9643360810845636e+281], [426.0, -2.0078466624701104e+281], [426.0, -2.7447615924247212e+281], [426.0, -6.182904356485397e+280], [426.0, -1.6875268895161814e+281], [426.0, -1.85231411600406e+281], [426.0, -2.18188430958768e+281]]}, \"id\": \"el19999169787280\"});\n",
        "      });\n",
        "    });\n",
        "}else{\n",
        "    // require.js not available: dynamically load d3 & mpld3\n",
        "    mpld3_load_lib(\"https://mpld3.github.io/js/d3.v3.min.js\", function(){\n",
        "         mpld3_load_lib(\"https://mpld3.github.io/js/mpld3.v0.2.js\", function(){\n",
        "                 \n",
        "                 mpld3.draw_figure(\"fig_el199991697872807124254681\", {\"axes\": [{\"xlim\": [-50000.0, 300000.0], \"yscale\": \"linear\", \"axesbg\": \"#FFFFFF\", \"texts\": [{\"v_baseline\": \"hanging\", \"h_anchor\": \"middle\", \"color\": \"#000000\", \"text\": \"response\", \"coordinates\": \"axes\", \"zorder\": 3, \"alpha\": 1, \"fontsize\": 10.0, \"position\": [0.5, -0.080645161290322578], \"rotation\": -0.0, \"id\": \"el19999165366480\"}, {\"v_baseline\": \"auto\", \"h_anchor\": \"middle\", \"color\": \"#000000\", \"text\": \"prediction\", \"coordinates\": \"axes\", \"zorder\": 3, \"alpha\": 1, \"fontsize\": 10.0, \"position\": [-0.094170026881720451, 0.5], \"rotation\": -90.0, \"id\": \"el19999172391184\"}], \"zoomable\": true, \"images\": [], \"xdomain\": [-50000.0, 300000.0], \"ylim\": [-1.2e+282, 1.9999999999999988e+281], \"paths\": [], \"sharey\": [], \"sharex\": [], \"axesbgalpha\": null, \"axes\": [{\"scale\": \"linear\", \"tickformat\": null, \"grid\": {\"gridOn\": false}, \"fontsize\": 10.0, \"position\": \"bottom\", \"nticks\": 8, \"tickvalues\": null}, {\"scale\": \"linear\", \"tickformat\": null, \"grid\": {\"gridOn\": false}, \"fontsize\": 10.0, \"position\": \"left\", \"nticks\": 8, \"tickvalues\": null}], \"lines\": [], \"markers\": [], \"id\": \"el19999167790864\", \"ydomain\": [-1.2e+282, 1.9999999999999988e+281], \"collections\": [{\"paths\": [[[[0.0, -0.5], [0.13260155, -0.5], [0.25978993539242673, -0.44731684579412084], [0.3535533905932738, -0.3535533905932738], [0.44731684579412084, -0.25978993539242673], [0.5, -0.13260155], [0.5, 0.0], [0.5, 0.13260155], [0.44731684579412084, 0.25978993539242673], [0.3535533905932738, 0.3535533905932738], [0.25978993539242673, 0.44731684579412084], [0.13260155, 0.5], [0.0, 0.5], [-0.13260155, 0.5], [-0.25978993539242673, 0.44731684579412084], [-0.3535533905932738, 0.3535533905932738], [-0.44731684579412084, 0.25978993539242673], [-0.5, 0.13260155], [-0.5, 0.0], [-0.5, -0.13260155], [-0.44731684579412084, -0.25978993539242673], [-0.3535533905932738, -0.3535533905932738], [-0.25978993539242673, -0.44731684579412084], [-0.13260155, -0.5], [0.0, -0.5]], [\"M\", \"C\", \"C\", \"C\", \"C\", \"C\", \"C\", \"C\", \"C\", \"Z\"]]], \"edgecolors\": [\"#000000\"], \"edgewidths\": [1.0], \"offsets\": \"data01\", \"yindex\": 1, \"id\": \"el19999169641296\", \"pathtransforms\": [[4.969039949999533, 0.0, 0.0, 4.969039949999533, 0.0, 0.0]], \"pathcoordinates\": \"display\", \"offsetcoordinates\": \"data\", \"zorder\": 1, \"xindex\": 0, \"alphas\": [null], \"facecolors\": [\"#0000FF\"]}], \"xscale\": \"linear\", \"bbox\": [0.125, 0.125, 0.77500000000000002, 0.77500000000000002]}], \"height\": 320.0, \"width\": 480.0, \"plugins\": [{\"type\": \"reset\"}, {\"enabled\": false, \"button\": true, \"type\": \"zoom\"}, {\"enabled\": false, \"button\": true, \"type\": \"boxzoom\"}], \"data\": {\"data01\": [[16091.0, -4.104952974314015e+280], [134336.0, -2.1145694453055654e+280], [273816.0, -2.5496430611890308e+280], [13268.0, -4.197515339503761e+280], [4097.0, -4.632606067551702e+280], [3454.0, -6.280450775028119e+280], [6671.0, -6.715546831125115e+280], [5349.0, -9.576188586084317e+280], [5026.0, -6.37296449239868e+280], [10523.0, -1.1659161582164825e+281], [4110.0, -8.455950342780476e+280], [8933.0, -1.1316631797445855e+281], [1192.0, -1.2964453358606388e+281], [424.0, -1.5826804953663226e+281], [5430.0, -1.746955633899468e+281], [426.0, -2.1041302765126644e+281], [426.0, -2.9965787083157084e+281], [426.0, -2.918811537739035e+281], [426.0, -2.0421054965005654e+281], [6134.0, -3.568867310186722e+281], [1092.0, -3.689973487451768e+281], [426.0, -2.6327417818630188e+281], [426.0, -3.767752435092068e+281], [426.0, -2.831791350021849e+281], [426.0, -2.813286517384478e+281], [1094.0, -3.612207093118379e+281], [1094.0, -3.733483394893233e+281], [426.0, -3.316901292557988e+281], [426.0, -3.767751672347451e+281], [426.0, -4.0880707521107115e+281], [426.0, -3.547449415122953e+281], [1092.0, -3.8112508617154975e+281], [1092.0, -3.932528803930018e+281], [426.0, -3.242886551357881e+281], [426.0, -4.5731829987266356e+281], [426.0, -4.010308081679227e+281], [426.0, -3.802008394695907e+281], [6248.0, -5.111215028666141e+281], [1094.0, -5.2323216317610676e+281], [426.0, -5.223079370019088e+281], [426.0, -5.014781656760558e+281], [424.0, -5.179570506595487e+281], [426.0, -4.63894148136805e+281], [1091.0, -4.9027472292841555e+281], [1092.0, -5.0240246062098966e+281], [425.0, -5.1017930757876176e+281], [426.0, -5.66467293383786e+281], [426.0, -5.499889687177715e+281], [426.0, -5.723940775667774e+281], [6254.0, -6.36749855196621e+281], [1094.0, -6.488606622352886e+281], [426.0, -4.576927902489364e+281], [424.0, -6.149788277788504e+281], [426.0, -6.227557230086669e+281], [426.0, -6.435850575830185e+281], [1105.0, -7.25977921703341e+281], [425.0, -5.6684257827175936e+281], [426.0, -7.163517032494609e+281], [426.0, -5.863731716011412e+281], [426.0, -6.87746197415661e+281], [5501.0, -6.697073919690646e+281], [1091.0, -6.818179473076251e+281], [426.0, -6.634896277482342e+281], [426.0, -6.678408089433969e+281], [426.0, -7.561604889272266e+281], [1105.0, -8.22999819176361e+281], [1104.0, -8.35127558647304e+281], [426.0, -8.255014226823751e+281], [426.0, -7.120009855012647e+281], [426.0, -6.833945422978206e+281], [5377.0, -8.923576390240602e+281], [1094.0, -9.044681970912223e+281], [426.0, -8.861399379506446e+281], [426.0, -8.575336442653088e+281], [426.0, -7.319045966803495e+281], [6552.0, -8.360698340215743e+281], [1099.0, -8.481806598019898e+281], [425.0, -8.046714982366576e+281], [426.0, -8.255011956202214e+281], [426.0, -9.303000881847625e+281], [1094.0, -1.0039906727598252e+282], [1094.0, -1.016118414171138e+282], [426.0, -8.575335818878951e+281], [426.0, -8.531823121229782e+281], [426.0, -1.0195449468556546e+282], [426.0, -1.0263966712141042e+282], [426.0, -8.852144838303326e+281], [424.0, -8.842897030716263e+281], [426.0, -8.886405173293764e+281], [426.0, -9.421516892370621e+281], [1092.0, -1.8680623201344158e+281], [7101.0, -2.8847125447690264e+281], [6719.0, -7.138672638671386e+281], [4930.0, -1.7339522122055412e+281], [5269.0, -1.314953127484473e+281], [3728.0, -1.4112210962370695e+281], [638.0, -1.2029265880060957e+281], [639.0, -1.4019690621542099e+281], [639.0, -1.939840390575649e+281], [423.0, -1.3459559457058298e+281], [426.0, -1.5477489326347705e+281], [426.0, -1.3024409638624624e+281], [426.0, -2.076361079969683e+281], [425.0, -2.1606343061094182e+281], [426.0, -1.5107386211033126e+281], [426.0, -2.0828663616433664e+281], [425.0, -1.0163744287483143e+281], [426.0, -1.87731812895014e+281], [425.0, -2.412435090352073e+281], [426.0, -2.4216909078770338e+281], [425.0, -1.8495600166813077e+281], [426.0, -1.9643398379828343e+281], [426.0, -1.7625383710494865e+281], [426.0, -3.108599550286212e+281], [426.0, -2.6207320557161994e+281], [426.0, -2.216149182650336e+281], [426.0, -2.4929633033618254e+281], [426.0, -2.1013724651303622e+281], [426.0, -2.2939242033930202e+281], [426.0, -2.872538884383014e+281], [426.0, -3.273379286639965e+281], [426.0, -2.5152175031687502e+281], [426.0, -2.396691307146438e+281], [426.0, -1.4672323966663606e+281], [425.0, -2.1976419548200254e+281], [425.0, -2.082864286017684e+281], [426.0, -1.6227568153373443e+281], [426.0, -2.6049825401970396e+281], [425.0, -2.8882929739763312e+281], [426.0, -2.7235052260822234e+281], [426.0, -1.883815782022426e+281], [425.0, -3.149359722620908e+281], [424.0, -3.1836164901856473e+281], [426.0, -2.5272188522311344e+281], [426.0, -2.2911577178765255e+281], [426.0, -2.2226527323852942e+281], [425.0, -2.4994690246163724e+281], [426.0, -2.7355147544280042e+281], [426.0, -3.021582009966154e+281], [425.0, -3.9575393277378283e+281], [426.0, -3.792756355315822e+281], [424.0, -2.909547161745317e+281], [423.0, -2.7512615162040325e+281], [426.0, -2.0736177850622543e+281], [426.0, -2.030108541824019e+281], [426.0, -3.730742568953111e+281], [426.0, -2.847540664429259e+281], [426.0, -2.5244656356978997e+281], [425.0, -2.8447910838036807e+281], [426.0, -3.7742535685751235e+281], [426.0, -3.416922662772104e+281], [426.0, -2.1078662992274322e+281], [426.0, -3.298393298390795e+281], [426.0, -4.1038283698782096e+281], [426.0, -2.6642526733648308e+281], [426.0, -2.4902025949298248e+281], [426.0, -3.14011180843929e+281], [426.0, -3.8705172789639326e+281], [426.0, -3.833505724221131e+281], [426.0, -3.220621594470642e+281], [426.0, -3.071585951737769e+281], [426.0, -3.307646234567647e+281], [426.0, -4.321365857740686e+281], [426.0, -4.1223208862241915e+281], [425.0, -2.993816227482214e+281], [425.0, -3.650225745610332e+281], [426.0, -3.124356317716457e+281], [426.0, -3.289141514105739e+281], [425.0, -3.009578852937002e+281], [426.0, -3.174363652515919e+281], [425.0, -3.684486875172382e+281], [425.0, -3.451182257843256e+281], [426.0, -4.3028662760289725e+281], [426.0, -4.153834325726317e+281], [425.0, -4.119576490900006e+281], [426.0, -3.861271257534871e+281], [426.0, -3.261377944775789e+281], [426.0, -4.2686168972419286e+281], [425.0, -2.9753140770166256e+281], [425.0, -4.4769076583540247e+281], [426.0, -3.705731584436381e+281], [426.0, -3.55669682357873e+281], [426.0, -4.1565840331549017e+281], [426.0, -4.806476883716308e+281], [426.0, -4.318615268028711e+281], [425.0, -3.478925776885029e+281], [426.0, -4.728707726276071e+281], [426.0, -3.286392943301694e+281], [426.0, -3.9732984877916116e+281], [426.0, -3.121607394713065e+281], [426.0, -4.8657459691694355e+281], [426.0, -3.4169193312892855e+281], [426.0, -4.2223538240612705e+281], [426.0, -3.3206400294989746e+281], [426.0, -4.3001180551840657e+281], [426.0, -4.1816015244142626e+281], [426.0, -4.952766460731532e+281], [426.0, -3.998299911878778e+281], [426.0, -3.625209353472246e+281], [426.0, -4.551917880952497e+281], [425.0, -4.268615585029088e+281], [426.0, -5.369361803518929e+281], [426.0, -4.3121211722864876e+281], [425.0, -4.1630865800401765e+281], [426.0, -4.4769085506001904e+281], [426.0, -4.6824473577228427e+281], [426.0, -5.412875157131002e+281], [426.0, -4.6074313631799484e+281], [426.0, -5.055532257667591e+281], [426.0, -4.698207020743509e+281], [426.0, -4.337125066081429e+281], [426.0, -3.892778147722896e+281], [424.0, -4.048304234233349e+281], [426.0, -4.188091663501489e+281], [426.0, -4.707461078411425e+281], [425.0, -5.515646755231254e+281], [426.0, -4.865744325076205e+281], [426.0, -4.785223660433126e+281], [425.0, -4.0233106811097786e+281], [426.0, -4.352874830874644e+281], [426.0, -5.559151774473183e+281], [426.0, -4.3186224498509376e+281], [426.0, -5.0027713871533466e+281], [424.0, -4.725963442311209e+281], [426.0, -5.689682501152374e+281], [426.0, -5.1703074365562276e+281], [426.0, -5.09254720781637e+281], [426.0, -5.2823417603899255e+281], [426.0, -5.497131206371345e+281], [426.0, -5.854465391765078e+281], [426.0, -5.419363754375729e+281], [426.0, -4.256610044068425e+281], [426.0, -4.9435131601365135e+281], [426.0, -6.000744975353327e+281], [426.0, -4.464904064372114e+281], [426.0, -4.62968939579636e+281], [426.0, -4.654691115203367e+281], [426.0, -5.270330011176725e+281], [426.0, -6.078514406829687e+281], [425.0, -4.716705077302406e+281], [426.0, -5.6026556850693556e+281], [426.0, -5.643414236297699e+281], [426.0, -6.04425613796898e+281], [426.0, -5.938734598390346e+281], [425.0, -4.88149694879286e+281], [426.0, -4.925002073435005e+281], [426.0, -6.339574144904466e+281], [425.0, -5.982245848650502e+281], [426.0, -5.568401275351291e+281], [426.0, -6.495110583163407e+281], [426.0, -5.897971632181303e+281], [426.0, -6.547868844063728e+281], [426.0, -6.147028683563767e+281], [426.0, -5.671176483392473e+281], [426.0, -4.741726806891465e+281], [426.0, -5.746187468852062e+281], [426.0, -6.2405490774138e+281], [426.0, -5.593404769480092e+281], [426.0, -4.950007803638756e+281], [426.0, -6.128523786483013e+281], [426.0, -5.879467536713058e+281], [426.0, -6.085015507333626e+281], [426.0, -5.696188689228977e+281], [426.0, -6.380340257527011e+281], [426.0, -6.771926739144381e+281], [425.0, -5.245332746324264e+281], [425.0, -5.845220965825857e+281], [426.0, -6.535865780475195e+281], [426.0, -5.932237662476807e+281], [425.0, -6.18404210152694e+281], [426.0, -7.06723657658422e+281], [425.0, -6.383081167450092e+281], [426.0, -7.222775161067601e+281], [426.0, -6.588629576649202e+281], [426.0, -5.661918397335717e+281], [425.0, -6.274814535890346e+281], [425.0, -6.883947751205713e+281], [426.0, -5.348109000829995e+281], [426.0, -6.35257429849625e+281], [425.0, -5.7554395203502214e+281], [425.0, -6.321075370483793e+281], [426.0, -7.09224830534024e+281], [426.0, -5.59991061134229e+281], [426.0, -6.76918019229402e+281], [426.0, -6.094266013226885e+281], [426.0, -6.734910724539868e+281], [425.0, -6.286813540932017e+281], [426.0, -7.300540313242743e+281], [426.0, -7.151506427078431e+281], [426.0, -6.050756159391133e+281], [426.0, -7.552347791340342e+281], [426.0, -7.0737390474492e+281], [426.0, -7.751393069975395e+281], [425.0, -6.625639728775918e+281], [426.0, -6.25905586075928e+281], [426.0, -6.737665575732268e+281], [426.0, -7.760642008855333e+281], [426.0, -7.238524246195117e+281], [426.0, -6.641399340367255e+281], [426.0, -7.045987993457913e+281], [426.0, -6.881201789429667e+281], [426.0, -7.297791566216941e+281], [426.0, -6.849686466034895e+281], [426.0, -7.655122030462543e+281], [426.0, -7.201517880150959e+281], [425.0, -6.240550667340152e+281], [426.0, -6.041505279924855e+281], [426.0, -7.014478782578613e+281], [426.0, -7.428323484345343e+281], [426.0, -7.057987930073483e+281], [426.0, -6.42384622191244e+281], [426.0, -7.62736199343343e+281], [426.0, -7.462574868181815e+281], [426.0, -7.680130254905773e+281], [426.0, -8.314270464478826e+281], [426.0, -8.323519088757263e+281], [424.0, -6.744162652868872e+281], [426.0, -7.309801058534873e+281], [426.0, -7.023736301316512e+281], [426.0, -8.087467820437301e+281], [426.0, -8.367030621010897e+281], [426.0, -7.730145509880461e+281], [426.0, -6.560877652093229e+281], [425.0, -7.126510785630629e+281], [425.0, -7.938440352285575e+281], [426.0, -8.261515964464534e+281], [426.0, -7.334804761293938e+281], [425.0, -6.526622397176556e+281], [426.0, -7.807915334988396e+281], [426.0, -6.812687151854118e+281], [421.0, -7.543099013872315e+281], [426.0, -7.064492654004949e+281], [426.0, -7.947694078020094e+281], [426.0, -8.712364040363969e+281], [426.0, -8.23375971171485e+281], [426.0, -6.908960672180057e+281], [426.0, -9.007687188226187e+281], [425.0, -7.465337044116214e+281], [426.0, -7.838423923803591e+281], [426.0, -8.286516697725138e+281], [426.0, -7.229279911146845e+281], [425.0, -8.96417127858278e+281], [426.0, -7.238524227557959e+281], [426.0, -9.21597052849499e+281], [426.0, -8.58183763967182e+281], [426.0, -8.336533454589437e+281], [426.0, -7.045984475760845e+281], [426.0, -8.050457493625627e+281], [425.0, -8.467058028570322e+281], [426.0, -7.941187576470808e+281], [425.0, -7.297790865375886e+281], [426.0, -9.110453878465898e+281], [426.0, -7.210767979612255e+281], [425.0, -9.362260593632489e+281], [426.0, -8.432795234775152e+281], [426.0, -7.984698971263464e+281], [426.0, -8.718860178232529e+281], [425.0, -7.670871851708016e+281], [426.0, -7.636621144981963e+281], [426.0, -9.048432719903636e+281], [426.0, -9.449277146650935e+281], [426.0, -8.280015221019261e+281], [426.0, -8.314272741895747e+281], [426.0, -9.293738079711736e+281], [426.0, -7.801401293759986e+281], [426.0, -9.822357330632454e+281], [426.0, -9.178962146882073e+281], [426.0, -8.94291820215973e+281], [426.0, -8.501319122405738e+281], [426.0, -8.218004711792196e+281], [426.0, -7.565347987128316e+281], [426.0, -9.359505703305686e+281], [426.0, -7.860668073865587e+281], [425.0, -8.261507893534978e+281], [426.0, -9.275237348755368e+281], [426.0, -9.151209854886611e+281], [426.0, -7.947684278915706e+281], [426.0, -9.446533484668103e+281], [426.0, -9.004935211516957e+281], [426.0, -8.591087176702872e+281], [426.0, -8.121735881800048e+281], [426.0, -1.008992134565583e+282], [425.0, -8.199493419558906e+281], [426.0, -9.256737391023141e+281], [426.0, -1.0254712632619575e+282], [1108.0, -1.4638122473768263e+281], [591.0, -1.2555191508963195e+281], [591.0, -1.2990311990590984e+281], [591.0, -8.20419307387708e+280], [7269.0, -1.358461864819764e+281], [621.0, -1.61027255257233e+281], [426.0, -1.8615691374569906e+281], [426.0, -1.7837989078323004e+281], [425.0, -2.5549757314564228e+281], [426.0, -9.386196414480486e+280], [2370.0, -1.0288870830029464e+281], [3138.0, -1.2279322172890864e+281], [1388.0, -3.1141563039804274e+281], [426.0, -8.950930621962603e+280], [425.0, -6.6179076404546474e+280], [425.0, -1.6755226910235222e+281], [426.0, -1.2339262204760843e+281], [426.0, -1.277428837996853e+281], [425.0, -1.0783838956817509e+281], [426.0, -1.000618708211329e+281], [426.0, -1.4079603325924012e+281], [426.0, -1.330194745938514e+281], [426.0, -1.7375407589734683e+281], [426.0, -1.902321495012117e+281], [426.0, -1.062640718296375e+281], [426.0, -1.3486997458209294e+281], [426.0, -1.5134863720212333e+281], [426.0, -2.4059371359184433e+281], [426.0, -1.9643360810845636e+281], [426.0, -2.0078466624701104e+281], [426.0, -2.7447615924247212e+281], [426.0, -6.182904356485397e+280], [426.0, -1.6875268895161814e+281], [426.0, -1.85231411600406e+281], [426.0, -2.18188430958768e+281]]}, \"id\": \"el19999169787280\"});\n",
        "            })\n",
        "         });\n",
        "}\n",
        "</script>"
       ],
       "metadata": {},
       "output_type": "display_data",
       "png": "[encoded data removed]",
       "text": [
        "<matplotlib.figure.Figure at 0xa1ebf90>"
       ]
      }
     ],
     "prompt_number": 608
    },
    {
     "cell_type": "code",
     "collapsed": false,
     "input": [],
     "language": "python",
     "metadata": {},
     "outputs": [],
     "prompt_number": 608
    },
    {
     "cell_type": "markdown",
     "metadata": {},
     "source": [
      "# decision Tree"
     ]
    },
    {
     "cell_type": "code",
     "collapsed": false,
     "input": [
      "'''\n",
      "# Load and parse the data file into an RDD of LabeledPoint.\n",
      "from pyspark.mllib.util import MLUtils\n",
      "data = MLUtils.loadLibSVMFile(sc,\"test_libsvm.data\")\n",
      "data.take(1)[0].label,data.take(1)[0].features\n",
      "'''"
     ],
     "language": "python",
     "metadata": {},
     "outputs": [
      {
       "metadata": {},
       "output_type": "pyout",
       "prompt_number": 609,
       "text": [
        "'\\n# Load and parse the data file into an RDD of LabeledPoint.\\nfrom pyspark.mllib.util import MLUtils\\ndata = MLUtils.loadLibSVMFile(sc,\"test_libsvm.data\")\\ndata.take(1)[0].label,data.take(1)[0].features\\n'"
       ]
      }
     ],
     "prompt_number": 609
    },
    {
     "cell_type": "code",
     "collapsed": false,
     "input": [
      "from numpy import array\n",
      "from pyspark.mllib.regression import LabeledPoint\n",
      "from pyspark.mllib.linalg import Vectors\n",
      "from pyspark.mllib.tree import DecisionTree\n",
      "\n",
      "#df.map(lambda x: len(x)).collect()\n",
      "#features =[\"response\", \"X-Runtime\", \"timestampStartEnd\",\"Content-TypeID\",\"methodID\",\"pathID\", \"msgID\",\"codeID\",\"contentMatch\"]\n",
      "features = numericalFeatures + categoricalFeatures\n",
      "\n",
      "                            \n",
      "def parsedVector(line):\n",
      "    length =len(line[1:])\n",
      "    v = zip(*[ (i,x) for i,x in enumerate(line[1:])])\n",
      "\n",
      "    sv1 = Vectors.sparse(length, v[0], v[1])\n",
      "\n",
      "    return LabeledPoint(line[0], sv1) #, list(v[1])))\n",
      "    \n",
      "    \n",
      "d2=df.map(lambda x: [x.get(f) or 0 for i,f in enumerate(features)])\n",
      "\n",
      "d2=d2.map(parsedVector)\n",
      "d2.take(2)"
     ],
     "language": "python",
     "metadata": {},
     "outputs": [
      {
       "metadata": {},
       "output_type": "pyout",
       "prompt_number": 610,
       "text": [
        "[LabeledPoint(0.0, (28,[0,1,2,3,4,5,6,7,8,9,10,11,12,13,14,15,16,17,18,19,20,21,22,23,24,25,26,27],[0.0,0.0,0.0,0.0,0.0,0.0,0.0,0.0,0.0,0.0,0.0,0.0,0.0,0.0,0.0,0.0,0.0,0.0,0.0,0.0,0.0,0.0,0.0,0.0,0.0,0.0,0.0,0.0])),\n",
        " LabeledPoint(0.0, (28,[0,1,2,3,4,5,6,7,8,9,10,11,12,13,14,15,16,17,18,19,20,21,22,23,24,25,26,27],[0.0,0.0,0.0,0.0,0.0,0.0,0.0,0.0,0.0,0.0,0.0,0.0,0.0,0.0,0.0,0.0,0.0,0.0,0.0,0.0,0.0,0.0,0.0,0.0,0.0,0.0,0.0,0.0]))]"
       ]
      }
     ],
     "prompt_number": 610
    },
    {
     "cell_type": "code",
     "collapsed": false,
     "input": [
      "for i,x in enumerate(features): print i,x\n"
     ],
     "language": "python",
     "metadata": {},
     "outputs": [
      {
       "output_type": "stream",
       "stream": "stdout",
       "text": [
        "0 size.response\n",
        "1 request.requestcount\n",
        "2 response.headers.x-runtime\n",
        "3 request.timestamp_diff\n",
        "4 response.headers.x-frame-options\n",
        "5 response.headers.x-xss-protection\n",
        "6 response.headers.x-content-type-options\n",
        "7 response.headers.x-ua-compatible\n",
        "8 response.headers.x-xhr-current-location\n",
        "9 response.headers.content-type\n",
        "10 response.headers.etag\n",
        "11 response.headers.cache-control\n",
        "12 response.headers.x-request-id\n",
        "13 response.headers.server\n",
        "14 response.headers.date\n",
        "15 response.headers.content-length\n",
        "16 response.headers.connection\n",
        "17 response.headers.set-cookie\n",
        "18 request.httpversion\n",
        "19 request.address\n",
        "20 request.client_conn\n",
        "21 request.error\n",
        "22 request.port\n",
        "23 request.scheme\n",
        "24 request.path\n",
        "25 request.host\n",
        "26 request.header\n",
        "27 request.method\n",
        "28 request.ip\n"
       ]
      }
     ],
     "prompt_number": 611
    },
    {
     "cell_type": "code",
     "collapsed": false,
     "input": [
      "\n",
      "# Split the data into training and test sets (30% held out for testing)\n",
      "(trainingData, testData) = d2.randomSplit([0.7, 0.3])\n",
      "\n",
      "# Train a DecisionTree model.\n",
      "#  Empty categoricalFeaturesInfo indicates all features are continuous.\n",
      "model = DecisionTree.trainRegressor(trainingData, categoricalFeaturesInfo={},\n",
      "                                    impurity=\"variance\", maxDepth=6, maxBins=12)\n",
      "\n",
      "# Evaluate model on test instances and compute test error\n",
      "predictions = model.predict(testData.map(lambda x: x.features))\n",
      "labelsAndPredictions = testData.map(lambda lp: lp.label).zip(predictions)\n",
      "testMSE = labelsAndPredictions.map(lambda (v, p): (v - p) * (v - p)).sum() / float(testData.count())\n",
      "print('Test Mean Squared Error = ' + str(testMSE))\n",
      "print('Learned regression tree model:')\n",
      "print(model.toDebugString())\n"
     ],
     "language": "python",
     "metadata": {},
     "outputs": [
      {
       "output_type": "stream",
       "stream": "stdout",
       "text": [
        "Test Mean Squared Error = 0.0\n",
        "Learned regression tree model:\n",
        "DecisionTreeModel regressor of depth 0 with 1 nodes\n",
        "  Predict: 0.0\n",
        "\n"
       ]
      }
     ],
     "prompt_number": 612
    },
    {
     "cell_type": "code",
     "collapsed": false,
     "input": [
      "# \n",
      "plt.xlabel(\"response\")\n",
      "plt.ylabel(\"prediction\")\n",
      "plt.scatter(*zip(*labelsAndPredictions.collect()))"
     ],
     "language": "python",
     "metadata": {},
     "outputs": [
      {
       "metadata": {},
       "output_type": "pyout",
       "prompt_number": 613,
       "text": [
        "<matplotlib.collections.PathCollection at 0xa4acdd0>"
       ]
      },
      {
       "html": [
        "\n",
        "\n",
        "<style>\n",
        "\n",
        "</style>\n",
        "\n",
        "<div id=\"fig_el199991677989285169161704\"></div>\n",
        "<script>\n",
        "function mpld3_load_lib(url, callback){\n",
        "  var s = document.createElement('script');\n",
        "  s.src = url;\n",
        "  s.async = true;\n",
        "  s.onreadystatechange = s.onload = callback;\n",
        "  s.onerror = function(){console.warn(\"failed to load library \" + url);};\n",
        "  document.getElementsByTagName(\"head\")[0].appendChild(s);\n",
        "}\n",
        "\n",
        "if(typeof(mpld3) !== \"undefined\" && mpld3._mpld3IsLoaded){\n",
        "   // already loaded: just create the figure\n",
        "   !function(mpld3){\n",
        "       \n",
        "       mpld3.draw_figure(\"fig_el199991677989285169161704\", {\"axes\": [{\"xlim\": [-0.0080000000000000002, 0.0080000000000000002], \"yscale\": \"linear\", \"axesbg\": \"#FFFFFF\", \"texts\": [{\"v_baseline\": \"hanging\", \"h_anchor\": \"middle\", \"color\": \"#000000\", \"text\": \"response\", \"coordinates\": \"axes\", \"zorder\": 3, \"alpha\": 1, \"fontsize\": 10.0, \"position\": [0.5, -0.080645161290322578], \"rotation\": -0.0, \"id\": \"el19999172719952\"}, {\"v_baseline\": \"auto\", \"h_anchor\": \"middle\", \"color\": \"#000000\", \"text\": \"prediction\", \"coordinates\": \"axes\", \"zorder\": 3, \"alpha\": 1, \"fontsize\": 10.0, \"position\": [-0.13239247311827959, 0.5], \"rotation\": -90.0, \"id\": \"el19999169641872\"}], \"zoomable\": true, \"images\": [], \"xdomain\": [-0.0080000000000000002, 0.0080000000000000002], \"ylim\": [-0.01, 0.01], \"paths\": [], \"sharey\": [], \"sharex\": [], \"axesbgalpha\": null, \"axes\": [{\"scale\": \"linear\", \"tickformat\": null, \"grid\": {\"gridOn\": false}, \"fontsize\": 10.0, \"position\": \"bottom\", \"nticks\": 9, \"tickvalues\": null}, {\"scale\": \"linear\", \"tickformat\": null, \"grid\": {\"gridOn\": false}, \"fontsize\": 10.0, \"position\": \"left\", \"nticks\": 6, \"tickvalues\": null}], \"lines\": [], \"markers\": [], \"id\": \"el19999165342800\", \"ydomain\": [-0.01, 0.01], \"collections\": [{\"paths\": [[[[0.0, -0.5], [0.13260155, -0.5], [0.25978993539242673, -0.44731684579412084], [0.3535533905932738, -0.3535533905932738], [0.44731684579412084, -0.25978993539242673], [0.5, -0.13260155], [0.5, 0.0], [0.5, 0.13260155], [0.44731684579412084, 0.25978993539242673], [0.3535533905932738, 0.3535533905932738], [0.25978993539242673, 0.44731684579412084], [0.13260155, 0.5], [0.0, 0.5], [-0.13260155, 0.5], [-0.25978993539242673, 0.44731684579412084], [-0.3535533905932738, 0.3535533905932738], [-0.44731684579412084, 0.25978993539242673], [-0.5, 0.13260155], [-0.5, 0.0], [-0.5, -0.13260155], [-0.44731684579412084, -0.25978993539242673], [-0.3535533905932738, -0.3535533905932738], [-0.25978993539242673, -0.44731684579412084], [-0.13260155, -0.5], [0.0, -0.5]], [\"M\", \"C\", \"C\", \"C\", \"C\", \"C\", \"C\", \"C\", \"C\", \"Z\"]]], \"edgecolors\": [\"#000000\"], \"edgewidths\": [1.0], \"offsets\": \"data01\", \"yindex\": 1, \"id\": \"el19999172674512\", \"pathtransforms\": [[4.969039949999533, 0.0, 0.0, 4.969039949999533, 0.0, 0.0]], \"pathcoordinates\": \"display\", \"offsetcoordinates\": \"data\", \"zorder\": 1, \"xindex\": 0, \"alphas\": [null], \"facecolors\": [\"#0000FF\"]}], \"xscale\": \"linear\", \"bbox\": [0.125, 0.125, 0.77500000000000002, 0.77500000000000002]}], \"height\": 320.0, \"width\": 480.0, \"plugins\": [{\"type\": \"reset\"}, {\"enabled\": false, \"button\": true, \"type\": \"zoom\"}, {\"enabled\": false, \"button\": true, \"type\": \"boxzoom\"}], \"data\": {\"data01\": [[0.0, 0.0], [0.0, 0.0], [0.0, 0.0], [0.0, 0.0], [0.0, 0.0], [0.0, 0.0], [0.0, 0.0], [0.0, 0.0], [0.0, 0.0], [0.0, 0.0], [0.0, 0.0], [0.0, 0.0], [0.0, 0.0], [0.0, 0.0], [0.0, 0.0], [0.0, 0.0], [0.0, 0.0], [0.0, 0.0], [0.0, 0.0], [0.0, 0.0], [0.0, 0.0], [0.0, 0.0], [0.0, 0.0], [0.0, 0.0], [0.0, 0.0], [0.0, 0.0], [0.0, 0.0], [0.0, 0.0], [0.0, 0.0], [0.0, 0.0], [0.0, 0.0], [0.0, 0.0], [0.0, 0.0], [0.0, 0.0], [0.0, 0.0], [0.0, 0.0], [0.0, 0.0], [0.0, 0.0], [0.0, 0.0], [0.0, 0.0], [0.0, 0.0], [0.0, 0.0], [0.0, 0.0], [0.0, 0.0], [0.0, 0.0], [0.0, 0.0], [0.0, 0.0], [0.0, 0.0], [0.0, 0.0], [0.0, 0.0], [0.0, 0.0], [0.0, 0.0], [0.0, 0.0], [0.0, 0.0], [0.0, 0.0], [0.0, 0.0], [0.0, 0.0], [0.0, 0.0], [0.0, 0.0], [0.0, 0.0], [0.0, 0.0], [0.0, 0.0], [0.0, 0.0], [0.0, 0.0], [0.0, 0.0], [0.0, 0.0], [0.0, 0.0], [0.0, 0.0], [0.0, 0.0], [0.0, 0.0], [0.0, 0.0], [0.0, 0.0], [0.0, 0.0], [0.0, 0.0], [0.0, 0.0], [0.0, 0.0], [0.0, 0.0], [0.0, 0.0], [0.0, 0.0], [0.0, 0.0], [0.0, 0.0], [0.0, 0.0], [0.0, 0.0], [0.0, 0.0], [0.0, 0.0], [0.0, 0.0], [0.0, 0.0], [0.0, 0.0], [0.0, 0.0], [0.0, 0.0], [0.0, 0.0], [0.0, 0.0], [0.0, 0.0], [0.0, 0.0], [0.0, 0.0], [0.0, 0.0], [0.0, 0.0], [0.0, 0.0], [0.0, 0.0], [0.0, 0.0], [0.0, 0.0], [0.0, 0.0], [0.0, 0.0], [0.0, 0.0], [0.0, 0.0], [0.0, 0.0], [0.0, 0.0], [0.0, 0.0], [0.0, 0.0], [0.0, 0.0], [0.0, 0.0], [0.0, 0.0], [0.0, 0.0], [0.0, 0.0], [0.0, 0.0], [0.0, 0.0], [0.0, 0.0], [0.0, 0.0], [0.0, 0.0]]}, \"id\": \"el19999167798928\"});\n",
        "   }(mpld3);\n",
        "}else if(typeof define === \"function\" && define.amd){\n",
        "   // require.js is available: use it to load d3/mpld3\n",
        "   require.config({paths: {d3: \"https://mpld3.github.io/js/d3.v3.min\"}});\n",
        "   require([\"d3\"], function(d3){\n",
        "      window.d3 = d3;\n",
        "      mpld3_load_lib(\"https://mpld3.github.io/js/mpld3.v0.2.js\", function(){\n",
        "         \n",
        "         mpld3.draw_figure(\"fig_el199991677989285169161704\", {\"axes\": [{\"xlim\": [-0.0080000000000000002, 0.0080000000000000002], \"yscale\": \"linear\", \"axesbg\": \"#FFFFFF\", \"texts\": [{\"v_baseline\": \"hanging\", \"h_anchor\": \"middle\", \"color\": \"#000000\", \"text\": \"response\", \"coordinates\": \"axes\", \"zorder\": 3, \"alpha\": 1, \"fontsize\": 10.0, \"position\": [0.5, -0.080645161290322578], \"rotation\": -0.0, \"id\": \"el19999172719952\"}, {\"v_baseline\": \"auto\", \"h_anchor\": \"middle\", \"color\": \"#000000\", \"text\": \"prediction\", \"coordinates\": \"axes\", \"zorder\": 3, \"alpha\": 1, \"fontsize\": 10.0, \"position\": [-0.13239247311827959, 0.5], \"rotation\": -90.0, \"id\": \"el19999169641872\"}], \"zoomable\": true, \"images\": [], \"xdomain\": [-0.0080000000000000002, 0.0080000000000000002], \"ylim\": [-0.01, 0.01], \"paths\": [], \"sharey\": [], \"sharex\": [], \"axesbgalpha\": null, \"axes\": [{\"scale\": \"linear\", \"tickformat\": null, \"grid\": {\"gridOn\": false}, \"fontsize\": 10.0, \"position\": \"bottom\", \"nticks\": 9, \"tickvalues\": null}, {\"scale\": \"linear\", \"tickformat\": null, \"grid\": {\"gridOn\": false}, \"fontsize\": 10.0, \"position\": \"left\", \"nticks\": 6, \"tickvalues\": null}], \"lines\": [], \"markers\": [], \"id\": \"el19999165342800\", \"ydomain\": [-0.01, 0.01], \"collections\": [{\"paths\": [[[[0.0, -0.5], [0.13260155, -0.5], [0.25978993539242673, -0.44731684579412084], [0.3535533905932738, -0.3535533905932738], [0.44731684579412084, -0.25978993539242673], [0.5, -0.13260155], [0.5, 0.0], [0.5, 0.13260155], [0.44731684579412084, 0.25978993539242673], [0.3535533905932738, 0.3535533905932738], [0.25978993539242673, 0.44731684579412084], [0.13260155, 0.5], [0.0, 0.5], [-0.13260155, 0.5], [-0.25978993539242673, 0.44731684579412084], [-0.3535533905932738, 0.3535533905932738], [-0.44731684579412084, 0.25978993539242673], [-0.5, 0.13260155], [-0.5, 0.0], [-0.5, -0.13260155], [-0.44731684579412084, -0.25978993539242673], [-0.3535533905932738, -0.3535533905932738], [-0.25978993539242673, -0.44731684579412084], [-0.13260155, -0.5], [0.0, -0.5]], [\"M\", \"C\", \"C\", \"C\", \"C\", \"C\", \"C\", \"C\", \"C\", \"Z\"]]], \"edgecolors\": [\"#000000\"], \"edgewidths\": [1.0], \"offsets\": \"data01\", \"yindex\": 1, \"id\": \"el19999172674512\", \"pathtransforms\": [[4.969039949999533, 0.0, 0.0, 4.969039949999533, 0.0, 0.0]], \"pathcoordinates\": \"display\", \"offsetcoordinates\": \"data\", \"zorder\": 1, \"xindex\": 0, \"alphas\": [null], \"facecolors\": [\"#0000FF\"]}], \"xscale\": \"linear\", \"bbox\": [0.125, 0.125, 0.77500000000000002, 0.77500000000000002]}], \"height\": 320.0, \"width\": 480.0, \"plugins\": [{\"type\": \"reset\"}, {\"enabled\": false, \"button\": true, \"type\": \"zoom\"}, {\"enabled\": false, \"button\": true, \"type\": \"boxzoom\"}], \"data\": {\"data01\": [[0.0, 0.0], [0.0, 0.0], [0.0, 0.0], [0.0, 0.0], [0.0, 0.0], [0.0, 0.0], [0.0, 0.0], [0.0, 0.0], [0.0, 0.0], [0.0, 0.0], [0.0, 0.0], [0.0, 0.0], [0.0, 0.0], [0.0, 0.0], [0.0, 0.0], [0.0, 0.0], [0.0, 0.0], [0.0, 0.0], [0.0, 0.0], [0.0, 0.0], [0.0, 0.0], [0.0, 0.0], [0.0, 0.0], [0.0, 0.0], [0.0, 0.0], [0.0, 0.0], [0.0, 0.0], [0.0, 0.0], [0.0, 0.0], [0.0, 0.0], [0.0, 0.0], [0.0, 0.0], [0.0, 0.0], [0.0, 0.0], [0.0, 0.0], [0.0, 0.0], [0.0, 0.0], [0.0, 0.0], [0.0, 0.0], [0.0, 0.0], [0.0, 0.0], [0.0, 0.0], [0.0, 0.0], [0.0, 0.0], [0.0, 0.0], [0.0, 0.0], [0.0, 0.0], [0.0, 0.0], [0.0, 0.0], [0.0, 0.0], [0.0, 0.0], [0.0, 0.0], [0.0, 0.0], [0.0, 0.0], [0.0, 0.0], [0.0, 0.0], [0.0, 0.0], [0.0, 0.0], [0.0, 0.0], [0.0, 0.0], [0.0, 0.0], [0.0, 0.0], [0.0, 0.0], [0.0, 0.0], [0.0, 0.0], [0.0, 0.0], [0.0, 0.0], [0.0, 0.0], [0.0, 0.0], [0.0, 0.0], [0.0, 0.0], [0.0, 0.0], [0.0, 0.0], [0.0, 0.0], [0.0, 0.0], [0.0, 0.0], [0.0, 0.0], [0.0, 0.0], [0.0, 0.0], [0.0, 0.0], [0.0, 0.0], [0.0, 0.0], [0.0, 0.0], [0.0, 0.0], [0.0, 0.0], [0.0, 0.0], [0.0, 0.0], [0.0, 0.0], [0.0, 0.0], [0.0, 0.0], [0.0, 0.0], [0.0, 0.0], [0.0, 0.0], [0.0, 0.0], [0.0, 0.0], [0.0, 0.0], [0.0, 0.0], [0.0, 0.0], [0.0, 0.0], [0.0, 0.0], [0.0, 0.0], [0.0, 0.0], [0.0, 0.0], [0.0, 0.0], [0.0, 0.0], [0.0, 0.0], [0.0, 0.0], [0.0, 0.0], [0.0, 0.0], [0.0, 0.0], [0.0, 0.0], [0.0, 0.0], [0.0, 0.0], [0.0, 0.0], [0.0, 0.0], [0.0, 0.0], [0.0, 0.0], [0.0, 0.0], [0.0, 0.0]]}, \"id\": \"el19999167798928\"});\n",
        "      });\n",
        "    });\n",
        "}else{\n",
        "    // require.js not available: dynamically load d3 & mpld3\n",
        "    mpld3_load_lib(\"https://mpld3.github.io/js/d3.v3.min.js\", function(){\n",
        "         mpld3_load_lib(\"https://mpld3.github.io/js/mpld3.v0.2.js\", function(){\n",
        "                 \n",
        "                 mpld3.draw_figure(\"fig_el199991677989285169161704\", {\"axes\": [{\"xlim\": [-0.0080000000000000002, 0.0080000000000000002], \"yscale\": \"linear\", \"axesbg\": \"#FFFFFF\", \"texts\": [{\"v_baseline\": \"hanging\", \"h_anchor\": \"middle\", \"color\": \"#000000\", \"text\": \"response\", \"coordinates\": \"axes\", \"zorder\": 3, \"alpha\": 1, \"fontsize\": 10.0, \"position\": [0.5, -0.080645161290322578], \"rotation\": -0.0, \"id\": \"el19999172719952\"}, {\"v_baseline\": \"auto\", \"h_anchor\": \"middle\", \"color\": \"#000000\", \"text\": \"prediction\", \"coordinates\": \"axes\", \"zorder\": 3, \"alpha\": 1, \"fontsize\": 10.0, \"position\": [-0.13239247311827959, 0.5], \"rotation\": -90.0, \"id\": \"el19999169641872\"}], \"zoomable\": true, \"images\": [], \"xdomain\": [-0.0080000000000000002, 0.0080000000000000002], \"ylim\": [-0.01, 0.01], \"paths\": [], \"sharey\": [], \"sharex\": [], \"axesbgalpha\": null, \"axes\": [{\"scale\": \"linear\", \"tickformat\": null, \"grid\": {\"gridOn\": false}, \"fontsize\": 10.0, \"position\": \"bottom\", \"nticks\": 9, \"tickvalues\": null}, {\"scale\": \"linear\", \"tickformat\": null, \"grid\": {\"gridOn\": false}, \"fontsize\": 10.0, \"position\": \"left\", \"nticks\": 6, \"tickvalues\": null}], \"lines\": [], \"markers\": [], \"id\": \"el19999165342800\", \"ydomain\": [-0.01, 0.01], \"collections\": [{\"paths\": [[[[0.0, -0.5], [0.13260155, -0.5], [0.25978993539242673, -0.44731684579412084], [0.3535533905932738, -0.3535533905932738], [0.44731684579412084, -0.25978993539242673], [0.5, -0.13260155], [0.5, 0.0], [0.5, 0.13260155], [0.44731684579412084, 0.25978993539242673], [0.3535533905932738, 0.3535533905932738], [0.25978993539242673, 0.44731684579412084], [0.13260155, 0.5], [0.0, 0.5], [-0.13260155, 0.5], [-0.25978993539242673, 0.44731684579412084], [-0.3535533905932738, 0.3535533905932738], [-0.44731684579412084, 0.25978993539242673], [-0.5, 0.13260155], [-0.5, 0.0], [-0.5, -0.13260155], [-0.44731684579412084, -0.25978993539242673], [-0.3535533905932738, -0.3535533905932738], [-0.25978993539242673, -0.44731684579412084], [-0.13260155, -0.5], [0.0, -0.5]], [\"M\", \"C\", \"C\", \"C\", \"C\", \"C\", \"C\", \"C\", \"C\", \"Z\"]]], \"edgecolors\": [\"#000000\"], \"edgewidths\": [1.0], \"offsets\": \"data01\", \"yindex\": 1, \"id\": \"el19999172674512\", \"pathtransforms\": [[4.969039949999533, 0.0, 0.0, 4.969039949999533, 0.0, 0.0]], \"pathcoordinates\": \"display\", \"offsetcoordinates\": \"data\", \"zorder\": 1, \"xindex\": 0, \"alphas\": [null], \"facecolors\": [\"#0000FF\"]}], \"xscale\": \"linear\", \"bbox\": [0.125, 0.125, 0.77500000000000002, 0.77500000000000002]}], \"height\": 320.0, \"width\": 480.0, \"plugins\": [{\"type\": \"reset\"}, {\"enabled\": false, \"button\": true, \"type\": \"zoom\"}, {\"enabled\": false, \"button\": true, \"type\": \"boxzoom\"}], \"data\": {\"data01\": [[0.0, 0.0], [0.0, 0.0], [0.0, 0.0], [0.0, 0.0], [0.0, 0.0], [0.0, 0.0], [0.0, 0.0], [0.0, 0.0], [0.0, 0.0], [0.0, 0.0], [0.0, 0.0], [0.0, 0.0], [0.0, 0.0], [0.0, 0.0], [0.0, 0.0], [0.0, 0.0], [0.0, 0.0], [0.0, 0.0], [0.0, 0.0], [0.0, 0.0], [0.0, 0.0], [0.0, 0.0], [0.0, 0.0], [0.0, 0.0], [0.0, 0.0], [0.0, 0.0], [0.0, 0.0], [0.0, 0.0], [0.0, 0.0], [0.0, 0.0], [0.0, 0.0], [0.0, 0.0], [0.0, 0.0], [0.0, 0.0], [0.0, 0.0], [0.0, 0.0], [0.0, 0.0], [0.0, 0.0], [0.0, 0.0], [0.0, 0.0], [0.0, 0.0], [0.0, 0.0], [0.0, 0.0], [0.0, 0.0], [0.0, 0.0], [0.0, 0.0], [0.0, 0.0], [0.0, 0.0], [0.0, 0.0], [0.0, 0.0], [0.0, 0.0], [0.0, 0.0], [0.0, 0.0], [0.0, 0.0], [0.0, 0.0], [0.0, 0.0], [0.0, 0.0], [0.0, 0.0], [0.0, 0.0], [0.0, 0.0], [0.0, 0.0], [0.0, 0.0], [0.0, 0.0], [0.0, 0.0], [0.0, 0.0], [0.0, 0.0], [0.0, 0.0], [0.0, 0.0], [0.0, 0.0], [0.0, 0.0], [0.0, 0.0], [0.0, 0.0], [0.0, 0.0], [0.0, 0.0], [0.0, 0.0], [0.0, 0.0], [0.0, 0.0], [0.0, 0.0], [0.0, 0.0], [0.0, 0.0], [0.0, 0.0], [0.0, 0.0], [0.0, 0.0], [0.0, 0.0], [0.0, 0.0], [0.0, 0.0], [0.0, 0.0], [0.0, 0.0], [0.0, 0.0], [0.0, 0.0], [0.0, 0.0], [0.0, 0.0], [0.0, 0.0], [0.0, 0.0], [0.0, 0.0], [0.0, 0.0], [0.0, 0.0], [0.0, 0.0], [0.0, 0.0], [0.0, 0.0], [0.0, 0.0], [0.0, 0.0], [0.0, 0.0], [0.0, 0.0], [0.0, 0.0], [0.0, 0.0], [0.0, 0.0], [0.0, 0.0], [0.0, 0.0], [0.0, 0.0], [0.0, 0.0], [0.0, 0.0], [0.0, 0.0], [0.0, 0.0], [0.0, 0.0], [0.0, 0.0], [0.0, 0.0], [0.0, 0.0], [0.0, 0.0]]}, \"id\": \"el19999167798928\"});\n",
        "            })\n",
        "         });\n",
        "}\n",
        "</script>"
       ],
       "metadata": {},
       "output_type": "display_data",
       "png": "[encoded data removed]",
       "text": [
        "<matplotlib.figure.Figure at 0xa006890>"
       ]
      }
     ],
     "prompt_number": 613
    },
    {
     "cell_type": "code",
     "collapsed": false,
     "input": [],
     "language": "python",
     "metadata": {},
     "outputs": [],
     "prompt_number": 569
    },
    {
     "cell_type": "code",
     "collapsed": false,
     "input": [],
     "language": "python",
     "metadata": {},
     "outputs": [],
     "prompt_number": 569
    },
    {
     "cell_type": "code",
     "collapsed": false,
     "input": [],
     "language": "python",
     "metadata": {},
     "outputs": [],
     "prompt_number": 560
    },
    {
     "cell_type": "code",
     "collapsed": false,
     "input": [],
     "language": "python",
     "metadata": {},
     "outputs": []
    }
   ],
   "metadata": {}
  }
 ]
}