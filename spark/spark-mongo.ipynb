{
 "metadata": {
  "name": "",
  "signature": "sha256:e9db2ca84b68dd7aa7825b4ca655b79e51bf03096013f15b055d676f039a0308"
 },
 "nbformat": 3,
 "nbformat_minor": 0,
 "worksheets": [
  {
   "cells": [
    {
     "cell_type": "markdown",
     "metadata": {},
     "source": [
      "# spark-mongo\n",
      "\n",
      "* read data from mongodb to spark\n",
      "* write data to mongodb from spark\n",
      "\n",
      "SPark + matplotlib + ipython mining pcap"
     ]
    },
    {
     "cell_type": "code",
     "collapsed": false,
     "input": [],
     "language": "python",
     "metadata": {},
     "outputs": [],
     "prompt_number": 528
    },
    {
     "cell_type": "code",
     "collapsed": false,
     "input": [
      "%matplotlib inline\n",
      "import matplotlib.pyplot as plt \n",
      "import mpld3\n",
      "mpld3.enable_notebook()"
     ],
     "language": "python",
     "metadata": {},
     "outputs": [],
     "prompt_number": 529
    },
    {
     "cell_type": "code",
     "collapsed": false,
     "input": [
      "import pymongo\n",
      "\n",
      "#\n",
      "# Connect to MongoDB server\n",
      "#\n",
      "def get_db(host=\"localhost\", port=27017, username=None, password=None, db=\"dataLogs\"):\n",
      "    \"\"\" A util for making a connection to mongo \"\"\"\n",
      "    from pymongo import MongoClient\n",
      "    \n",
      "    if username and password:\n",
      "        mongo_uri = 'mongodb://%s:%s@%s:%s/%s' % (username, password, host, port, db)\n",
      "        conn = MongoClient(mongo_uri)\n",
      "    else:\n",
      "        conn = MongoClient(host, port)\n",
      "\n",
      "    return conn[db]\n",
      "\n",
      "def get_coll(host=\"localhost\", port=27017, username=None, password=None, db=\"dataLogs\",collection=\"logs\"):\n",
      "    db=get_db(host, port, username, password, db)\n",
      "    return db[collection]\n",
      "\n",
      "\n",
      "logs = get_coll('localhost', 27017, None, None,\"dataLogs\", \"logs\")\n",
      "test = get_coll('localhost', 27017, None, None,\"dataLogs\", \"test\")"
     ],
     "language": "python",
     "metadata": {},
     "outputs": [],
     "prompt_number": 530
    },
    {
     "cell_type": "code",
     "collapsed": false,
     "input": [
      "\n",
      "#\n",
      "# output json format\n",
      "#\n",
      "def dataReshape4(infile, dbname, pattern=\"1#]}\"):\n",
      "    import json\n",
      "\n",
      "    f  = open(infile, \"r\")\n",
      "    text = f.read()\n",
      " \n",
      "    dbname.remove()\n",
      "        \n",
      "    features1=[\"error\",\"response\",\"headers\",\"content\",\"request\"]\n",
      "    features2=[\"X-Frame-Options\",\"X-Xss-Protection\",\"X-Content-Type-Options\",\"X-Ua-Compatible\",\n",
      "               \"X-Xhr-Current-Location\",\"Content-Type\",\"Etag\",\"Cache-Control\",\n",
      "               \"X-Request-Id\",\"X-Runtime\",\n",
      "               \n",
      "               \"Server\",\"Date\",\n",
      "               \"Content-Length\",\n",
      "               \"timestamp_end\",\"timestamp_start\", \"Last-Modified\",\n",
      "               \n",
      "               \"cert\",\"code\",\"requestcount\",\n",
      "               #\"httpversion\", # to be investigate\n",
      "               #client_conn\n",
      "               #\"address\",\n",
      "               \"port\",\"scheme\",\"http\",\"path\",\"host\",\"headers\", \"Connection\",\n",
      "               \"ip\",\"Referer\",\n",
      "               \"Accept-Encoding\",\"Accept-Language\",\n",
      "               \"method\",\n",
      "               \"msg\",\n",
      "               #\"address\"\n",
      "               ]\n",
      "    features3 =[\"Set-Cookie\"] #, \"client_conn\", \"Cookie\"]  # =request_method=GET; path=/' or ]\n",
      "\n",
      "    features4 =[\"httpversion\",\"address\"]\n",
      "    records=[]\n",
      "    start=0\n",
      "    end = 0\n",
      "    while end>-1:\n",
      "        end  = text.find(pattern, start+4)\n",
      "        line = text[start:end]\n",
      "        start = end+4\n",
      "        \n",
      "        \n",
      "#    for line in f:\n",
      "        words = line.split(\":\")\n",
      "\n",
      "#        print  \"length of words\",len(words)\n",
      "\n",
      "        record = {}\n",
      "        cookies= []\n",
      "        for i in range(len(words)):\n",
      "            # skip fields without comma\n",
      "            if words[i].find(\",\")<0:\n",
      "                continue\n",
      "            ww = words[i].split(\",\")\n",
      "            key=ww[0]\n",
      "            value= ww[1].lower()\n",
      "            #print \"word\",len(ww) #ww, words[i], words[i].find(\",\")\n",
      "            #if i<len(words):\n",
      "            #    print i,ww[1]\n",
      "            if value.isdigit():\n",
      "                if key in features1:                        \n",
      "                    record[key]= int(value)\n",
      "                elif key in features2:\n",
      "                    v = words[i+1][:int(value)]\n",
      "                    #record[key]=words[i+1][:int(value)]  #.lower() \n",
      "                    try:\n",
      "                        record[key]=float(v)\n",
      "                    except ValueError:\n",
      "                        record[key]=v\n",
      "                elif key in features3:\n",
      "#                    cookies.append( words[i+1][:int(value)] )\n",
      "#                    print setCookie(words[i+1][:int(value)])\n",
      "                    cookies.append( setCookie(words[i+1][:int(value)]))\n",
      "#                    cookies=setCookie(words[i+1][:int(value)])\n",
      "                elif key in features4:\n",
      "                    record[key]=words[i+2]\n",
      "\n",
      "        record[\"timestampStartEnd\"] = (record.get(\"timestamp_end\") or 0)  - (record.get(\"timestamp_start\") or 0)\n",
      "    \n",
      "        record[\"Num-Cookie\"]=len(cookies) \n",
      "        record[\"Set-Cookie\"]=cookies \n",
      "        records.append(record)\n",
      "        dbname.insert(record)\n",
      "        \n",
      "\n",
      "    f.close()\n",
      "    print len(records)\n",
      "    return\n",
      "\n",
      "    \n",
      "def setCookie(cookie):\n",
      "    subfields = cookie.split(\";\")\n",
      "    #print len(subfields)\n",
      "    newcookie =[]\n",
      "    for words in subfields:\n",
      "        ww = words.split(\"=\")\n",
      "        key = ww[0]\n",
      "        value = None\n",
      "        if len(ww)>1: value =ww[1]\n",
      "        newcookie.append({key:value})\n",
      "    #print newcookie\n",
      "    return newcookie\n",
      "    \n",
      "infile = \"../dataLogs/learnDataSet.log\"\n",
      "dataReshape4(infile, logs)\n",
      "\n",
      "testfile=\"../dataLogs/malformed.log\"\n",
      "dataReshape4(testfile, test)\n"
     ],
     "language": "python",
     "metadata": {},
     "outputs": [
      {
       "output_type": "stream",
       "stream": "stdout",
       "text": [
        "421\n",
        "420"
       ]
      },
      {
       "output_type": "stream",
       "stream": "stdout",
       "text": [
        "\n"
       ]
      }
     ],
     "prompt_number": 531
    },
    {
     "cell_type": "code",
     "collapsed": false,
     "input": [
      "#\n",
      "# turn categorical-text into numerical value\n",
      "#\n",
      "categoricalFeatures=[\"X-Frame-Options\",\"X-Xss-Protection\",\"X-Content-Type-Options\",\"X-Ua-Compatible\",\n",
      "            \"X-Xhr-Current-Location\",\n",
      "            \"Content-Type\",\"Cache-Control\",\n",
      "            \"Server\",\"httpversion\",\"port\",\"scheme\",\"http\",\"path\",\"host\", \"Connection\",\n",
      "            \"ip\",\"Referer\",\"code\",\n",
      "            \"Accept-Encoding\",\"Accept-Language\",\n",
      "            \"method\",\n",
      "            \"msg\",\n",
      "            \"address\"]\n",
      "\n",
      "\n",
      "def categoricalToNumberical(fields):\n",
      "    for f in fields:\n",
      "        fID=f+\"ID\"\n",
      "        vals=logs.distinct(f)\n",
      "        \n",
      "        if len(vals)<2: continue\n",
      "\n",
      "        for i,v in enumerate(vals):\n",
      "#            print f,v,i\n",
      "            logs.update({f:v}, {\"$set\":{fID: int(i+1) }}, upsert=False, multi=True)\n",
      "\n",
      "categoricalToNumberical(categoricalFeatures)"
     ],
     "language": "python",
     "metadata": {},
     "outputs": [],
     "prompt_number": 532
    },
    {
     "cell_type": "code",
     "collapsed": false,
     "input": [
      "iter = logs.find({\"Content-TypeID\":{\"$exists\":True}},{\"_id\":0, \"Content-Type\":1,\"Content-TypeID\":1})\n",
      "for item in iter: print item\n",
      "#logs.distinct(\"Content-TypeID\")\n",
      "\n",
      "for i,v in enumerate(vals):\n",
      "     print i,v"
     ],
     "language": "python",
     "metadata": {},
     "outputs": [
      {
       "output_type": "stream",
       "stream": "stdout",
       "text": [
        "{u'Content-TypeID': 1, u'Content-Type': u'text/html; charset=utf-8'}\n",
        "{u'Content-TypeID': 1, u'Content-Type': u'text/html; charset=utf-8'}\n",
        "{u'Content-TypeID': 1, u'Content-Type': u'text/html; charset=utf-8'}\n",
        "{u'Content-TypeID': 1, u'Content-Type': u'text/html; charset=utf-8'}\n",
        "{u'Content-TypeID': 1, u'Content-Type': u'text/html; charset=utf-8'}\n",
        "{u'Content-TypeID': 1, u'Content-Type': u'text/html; charset=utf-8'}\n",
        "{u'Content-TypeID': 1, u'Content-Type': u'text/html; charset=utf-8'}\n",
        "{u'Content-TypeID': 1, u'Content-Type': u'text/html; charset=utf-8'}\n",
        "{u'Content-TypeID': 5, u'Content-Type': u'application/x-www-form-urlencoded'}\n",
        "{u'Content-TypeID': 3, u'Content-Type': u'application/javascript'}\n",
        "{u'Content-TypeID': 3, u'Content-Type': u'application/javascript'}\n",
        "{u'Content-TypeID': 3, u'Content-Type': u'application/javascript'}\n",
        "{u'Content-TypeID': 3, u'Content-Type': u'application/javascript'}\n",
        "{u'Content-TypeID': 3, u'Content-Type': u'application/javascript'}\n",
        "{u'Content-TypeID': 3, u'Content-Type': u'application/javascript'}\n",
        "{u'Content-TypeID': 3, u'Content-Type': u'application/javascript'}\n",
        "{u'Content-TypeID': 3, u'Content-Type': u'application/javascript'}\n",
        "{u'Content-TypeID': 3, u'Content-Type': u'application/javascript'}\n",
        "{u'Content-TypeID': 3, u'Content-Type': u'application/javascript'}\n",
        "{u'Content-TypeID': 3, u'Content-Type': u'application/javascript'}\n",
        "{u'Content-TypeID': 3, u'Content-Type': u'application/javascript'}\n",
        "{u'Content-TypeID': 3, u'Content-Type': u'application/javascript'}\n",
        "{u'Content-TypeID': 3, u'Content-Type': u'application/javascript'}\n",
        "{u'Content-TypeID': 3, u'Content-Type': u'application/javascript'}\n",
        "{u'Content-TypeID': 3, u'Content-Type': u'application/javascript'}\n",
        "{u'Content-TypeID': 3, u'Content-Type': u'application/javascript'}\n",
        "{u'Content-TypeID': 3, u'Content-Type': u'application/javascript'}\n",
        "{u'Content-TypeID': 3, u'Content-Type': u'application/javascript'}\n",
        "{u'Content-TypeID': 3, u'Content-Type': u'application/javascript'}\n",
        "{u'Content-TypeID': 3, u'Content-Type': u'application/javascript'}\n",
        "{u'Content-TypeID': 2, u'Content-Type': u'text/css'}\n",
        "{u'Content-TypeID': 2, u'Content-Type': u'text/css'}\n",
        "{u'Content-TypeID': 4, u'Content-Type': u'image/vnd.microsoft.icon'}\n",
        "{u'Content-TypeID': 2, u'Content-Type': u'text/css'}\n",
        "{u'Content-TypeID': 2, u'Content-Type': u'text/css'}\n",
        "{u'Content-TypeID': 2, u'Content-Type': u'text/css'}\n",
        "{u'Content-TypeID': 1, u'Content-Type': u'text/html; charset=utf-8'}\n",
        "{u'Content-TypeID': 1, u'Content-Type': u'text/html; charset=utf-8'}\n",
        "0 text/html; charset=utf-8\n",
        "1 text/css\n",
        "2 application/javascript\n",
        "3 image/vnd.microsoft.icon\n",
        "4 application/x-www-form-urlencoded\n"
       ]
      }
     ],
     "prompt_number": 533
    },
    {
     "cell_type": "code",
     "collapsed": false,
     "input": [
      "logs.update({\"Content-Type\":\"text/css\"}, {\"$set\":{\"Content-TypeID\": 3 }}, True, True)\n",
      "iter=logs.find({\"Content-Type\":\"text/css\"},{\"_id\":0, \"Content-Type\":1,\"Content-TypeID\":1})\n",
      "for item in iter: print item"
     ],
     "language": "python",
     "metadata": {},
     "outputs": [
      {
       "output_type": "stream",
       "stream": "stdout",
       "text": [
        "{u'Content-TypeID': 3, u'Content-Type': u'text/css'}\n",
        "{u'Content-TypeID': 2, u'Content-Type': u'text/css'}\n",
        "{u'Content-TypeID': 2, u'Content-Type': u'text/css'}\n",
        "{u'Content-TypeID': 2, u'Content-Type': u'text/css'}\n",
        "{u'Content-TypeID': 2, u'Content-Type': u'text/css'}\n"
       ]
      }
     ],
     "prompt_number": 534
    },
    {
     "cell_type": "code",
     "collapsed": false,
     "input": [
      "# \n",
      "# Read sc.newAPIHadoopRDD()\n",
      "# sc.parallelize()\n",
      "#\n",
      "def read_mongo(collection, query={}, projection={\"_id\":0},host='localhost',no_id=True):\n",
      "    \"\"\" Read from Mongo and Store into DataFrame \"\"\"\n",
      "\n",
      "    # Make a query to the specific DB and Collection\n",
      "    cursor = collection.find(query, projection)\n",
      "\n",
      "    # Expand the cursor and construct the DataFrame\n",
      "#    df = pd.DataFrame(list(cursor))\n",
      "    df = sc.parallelize(list(cursor))\n",
      "\n",
      "    # Delete the _id\n",
      "#    if no_id:       del df['_id']\n",
      "\n",
      "    return df\n",
      "\n"
     ],
     "language": "python",
     "metadata": {},
     "outputs": [],
     "prompt_number": 535
    },
    {
     "cell_type": "code",
     "collapsed": false,
     "input": [],
     "language": "python",
     "metadata": {},
     "outputs": [],
     "prompt_number": 535
    },
    {
     "cell_type": "code",
     "collapsed": false,
     "input": [
      "\n",
      "df=read_mongo(logs)\n",
      "#df_test = read_mongo(test)\n",
      "type(df)"
     ],
     "language": "python",
     "metadata": {},
     "outputs": [
      {
       "metadata": {},
       "output_type": "pyout",
       "prompt_number": 536,
       "text": [
        "pyspark.rdd.RDD"
       ]
      }
     ],
     "prompt_number": 536
    },
    {
     "cell_type": "code",
     "collapsed": false,
     "input": [
      "#  data =sc.parallelize(df)\n",
      "\n",
      "#data.take(1)\n"
     ],
     "language": "python",
     "metadata": {},
     "outputs": [],
     "prompt_number": 537
    },
    {
     "cell_type": "code",
     "collapsed": false,
     "input": [
      "numericalFeatures =['response', 'requestcount', 'X-Runtime', 'Num-Cookie', 'timestampStartEnd'] #'timestamp_end', 'timestamp_start' ]\n",
      "\n",
      "proj ={\"_id\": 0}#{\"_id\":0}\n",
      "\n",
      "#for l in numericalFeatures:    proj[l] = 1 #{'$exists':True}\n",
      "categoricalFeaturesID=[l+\"ID\" for l in categoricalFeatures]\n",
      "\n",
      "for l in numericalFeatures+categoricalFeaturesID:\n",
      "    proj[l] =1\n",
      "\n",
      "#proj['timestampStartEnd'] ={ '$add' : [ '$timestamp_end', '$timestamp_start' ] }\n",
      "\n",
      "print proj\n",
      "df=read_mongo(logs,query={}, projection=proj)\n",
      "#df.map(lambda x: x.get(\"pathID\")).collect()"
     ],
     "language": "python",
     "metadata": {},
     "outputs": [
      {
       "output_type": "stream",
       "stream": "stdout",
       "text": [
        "{'X-Ua-CompatibleID': 1, 'portID': 1, 'X-Xss-ProtectionID': 1, 'requestcount': 1, 'codeID': 1, 'pathID': 1, 'httpID': 1, 'X-Xhr-Current-LocationID': 1, 'addressID': 1, 'Accept-LanguageID': 1, 'response': 1, 'X-Runtime': 1, 'httpversionID': 1, 'ipID': 1, 'Num-Cookie': 1, 'timestampStartEnd': 1, 'Content-TypeID': 1, 'ConnectionID': 1, 'Accept-EncodingID': 1, 'X-Content-Type-OptionsID': 1, 'ServerID': 1, 'hostID': 1, 'methodID': 1, 'msgID': 1, 'schemeID': 1, 'X-Frame-OptionsID': 1, '_id': 0, 'RefererID': 1, 'Cache-ControlID': 1}\n"
       ]
      }
     ],
     "prompt_number": 538
    },
    {
     "cell_type": "code",
     "collapsed": false,
     "input": [
      "iter=logs.find({},{\"_id\":0, \"Content-Type\":1,\"Content-TypeID\":1})\n",
      "#for item in iter:    print item\n",
      "#logs.distinct(\"Content-TypeID\")\n"
     ],
     "language": "python",
     "metadata": {},
     "outputs": [],
     "prompt_number": 539
    },
    {
     "cell_type": "code",
     "collapsed": false,
     "input": [
      "l=df.take(1)\n",
      "type(l[0])"
     ],
     "language": "python",
     "metadata": {},
     "outputs": [
      {
       "metadata": {},
       "output_type": "pyout",
       "prompt_number": 540,
       "text": [
        "dict"
       ]
      }
     ],
     "prompt_number": 540
    },
    {
     "cell_type": "markdown",
     "metadata": {},
     "source": [
      "#Linear Regression"
     ]
    },
    {
     "cell_type": "code",
     "collapsed": false,
     "input": [
      "from pyspark.mllib.regression import LabeledPoint, LinearRegressionWithSGD\n",
      "\n",
      "# Load and parse the data\n",
      "\n",
      "features = numericalFeatures + categoricalFeatures\n",
      "\n",
      "def parsePoint(line):\n",
      "#    values=[line.get(f) or 0)  for f in features]\n",
      "    values=[]\n",
      "    values.append( line.get(\"response\") or 0)\n",
      "    values.append( line.get(\"X-Runtime\") or 0)\n",
      "    values.append( line.get(\"Content-TypeID\") or 0)\n",
      "    values.append( line.get(\"methodID\") or 0)\n",
      "    values.append( line.get(\"msgID\") or 0)\n",
      "    values.append( line.get(\"pathID\") or 0)\n",
      "    values.append( line.get(\"timestampStartEnd\") or 0)\n",
      "\n",
      "    return LabeledPoint(values[0], values[1:]) # values[1:])\n",
      "\n",
      "parsedData = df.map(parsePoint)"
     ],
     "language": "python",
     "metadata": {},
     "outputs": [],
     "prompt_number": 541
    },
    {
     "cell_type": "code",
     "collapsed": false,
     "input": [
      "parsedData.take(10)"
     ],
     "language": "python",
     "metadata": {},
     "outputs": [
      {
       "metadata": {},
       "output_type": "pyout",
       "prompt_number": 542,
       "text": [
        "[LabeledPoint(425.0, [0.00172,0.0,1.0,1.0,1.0,0.0624279975891]),\n",
        " LabeledPoint(426.0, [0.001378,0.0,1.0,1.0,6.0,0.0623841285706]),\n",
        " LabeledPoint(426.0, [0.001557,0.0,1.0,1.0,7.0,0.00713801383972]),\n",
        " LabeledPoint(426.0, [0.002527,0.0,1.0,1.0,10.0,0.0519828796387]),\n",
        " LabeledPoint(425.0, [0.005777,0.0,1.0,1.0,11.0,0.00703191757202]),\n",
        " LabeledPoint(426.0, [0.001546,0.0,1.0,1.0,10.0,0.042377948761]),\n",
        " LabeledPoint(426.0, [0.001948,0.0,1.0,1.0,13.0,0.00705718994141]),\n",
        " LabeledPoint(426.0, [0.003403,0.0,1.0,1.0,16.0,0.0876269340515]),\n",
        " LabeledPoint(426.0, [0.003827,0.0,1.0,1.0,18.0,0.0677599906921]),\n",
        " LabeledPoint(425.0, [0.001396,0.0,1.0,1.0,22.0,0.0713691711426])]"
       ]
      }
     ],
     "prompt_number": 542
    },
    {
     "cell_type": "code",
     "collapsed": false,
     "input": [
      "# Build the model\n",
      "model = LinearRegressionWithSGD.train(parsedData)\n",
      "\n",
      "# Evaluate the model on training data\n",
      "valuesAndPreds = parsedData.map(lambda p: (p.label, model.predict(p.features)))\n",
      "MSE = valuesAndPreds.map(lambda (v, p): (v - p)**2).reduce(lambda x, y: x + y) / valuesAndPreds.count()\n",
      "print(\"Mean Squared Error = \" + str(MSE))\n"
     ],
     "language": "python",
     "metadata": {},
     "outputs": [
      {
       "output_type": "stream",
       "stream": "stdout",
       "text": [
        "Mean Squared Error = inf\n"
       ]
      }
     ],
     "prompt_number": 543
    },
    {
     "cell_type": "code",
     "collapsed": false,
     "input": [
      "valuesAndPreds.take(10)"
     ],
     "language": "python",
     "metadata": {},
     "outputs": [
      {
       "metadata": {},
       "output_type": "pyout",
       "prompt_number": 544,
       "text": [
        "[(425.0, -2.9595167412092151e+199),\n",
        " (426.0, -1.6314273713963234e+200),\n",
        " (426.0, -1.8984887348222646e+200),\n",
        " (426.0, -2.6998016940776414e+200),\n",
        " (425.0, -2.9668695870397839e+200),\n",
        " (426.0, -2.6997957439540392e+200),\n",
        " (426.0, -3.5010596145619089e+200),\n",
        " (426.0, -4.3023944670350839e+200),\n",
        " (426.0, -4.8365726440944585e+200),\n",
        " (425.0, -5.9049552693137432e+200)]"
       ]
      }
     ],
     "prompt_number": 544
    },
    {
     "cell_type": "code",
     "collapsed": false,
     "input": [
      "# plot \n",
      "plt.xlabel(\"response\")\n",
      "plt.ylabel(\"prediction\")\n",
      "plt.scatter(*zip(*valuesAndPreds.collect()))"
     ],
     "language": "python",
     "metadata": {},
     "outputs": [
      {
       "metadata": {},
       "output_type": "pyout",
       "prompt_number": 545,
       "text": [
        "<matplotlib.collections.PathCollection at 0x92e4410>"
       ]
      },
      {
       "html": [
        "\n",
        "\n",
        "<style>\n",
        "\n",
        "</style>\n",
        "\n",
        "<div id=\"fig_el199991446404008476550672\"></div>\n",
        "<script>\n",
        "function mpld3_load_lib(url, callback){\n",
        "  var s = document.createElement('script');\n",
        "  s.src = url;\n",
        "  s.async = true;\n",
        "  s.onreadystatechange = s.onload = callback;\n",
        "  s.onerror = function(){console.warn(\"failed to load library \" + url);};\n",
        "  document.getElementsByTagName(\"head\")[0].appendChild(s);\n",
        "}\n",
        "\n",
        "if(typeof(mpld3) !== \"undefined\" && mpld3._mpld3IsLoaded){\n",
        "   // already loaded: just create the figure\n",
        "   !function(mpld3){\n",
        "       \n",
        "       mpld3.draw_figure(\"fig_el199991446404008476550672\", {\"axes\": [{\"xlim\": [-50000.0, 300000.0], \"yscale\": \"linear\", \"axesbg\": \"#FFFFFF\", \"texts\": [{\"v_baseline\": \"hanging\", \"h_anchor\": \"middle\", \"color\": \"#000000\", \"text\": \"response\", \"coordinates\": \"axes\", \"zorder\": 3, \"alpha\": 1, \"fontsize\": 10.0, \"position\": [0.5, -0.080645161290322578], \"rotation\": -0.0, \"id\": \"el19999150470032\"}, {\"v_baseline\": \"auto\", \"h_anchor\": \"middle\", \"color\": \"#000000\", \"text\": \"prediction\", \"coordinates\": \"axes\", \"zorder\": 3, \"alpha\": 1, \"fontsize\": 10.0, \"position\": [-0.094170026881720451, 0.5], \"rotation\": -90.0, \"id\": \"el19999148043152\"}], \"zoomable\": true, \"images\": [], \"xdomain\": [-50000.0, 300000.0], \"ylim\": [-1.2e+201, 2.0000000000000006e+200], \"paths\": [], \"sharey\": [], \"sharex\": [], \"axesbgalpha\": null, \"axes\": [{\"scale\": \"linear\", \"tickformat\": null, \"grid\": {\"gridOn\": false}, \"fontsize\": 10.0, \"position\": \"bottom\", \"nticks\": 8, \"tickvalues\": null}, {\"scale\": \"linear\", \"tickformat\": null, \"grid\": {\"gridOn\": false}, \"fontsize\": 10.0, \"position\": \"left\", \"nticks\": 9, \"tickvalues\": null}], \"lines\": [], \"markers\": [], \"id\": \"el19999147159888\", \"ydomain\": [-1.2e+201, 2.0000000000000006e+200], \"collections\": [{\"paths\": [[[[0.0, -0.5], [0.13260155, -0.5], [0.25978993539242673, -0.44731684579412084], [0.3535533905932738, -0.3535533905932738], [0.44731684579412084, -0.25978993539242673], [0.5, -0.13260155], [0.5, 0.0], [0.5, 0.13260155], [0.44731684579412084, 0.25978993539242673], [0.3535533905932738, 0.3535533905932738], [0.25978993539242673, 0.44731684579412084], [0.13260155, 0.5], [0.0, 0.5], [-0.13260155, 0.5], [-0.25978993539242673, 0.44731684579412084], [-0.3535533905932738, 0.3535533905932738], [-0.44731684579412084, 0.25978993539242673], [-0.5, 0.13260155], [-0.5, 0.0], [-0.5, -0.13260155], [-0.44731684579412084, -0.25978993539242673], [-0.3535533905932738, -0.3535533905932738], [-0.25978993539242673, -0.44731684579412084], [-0.13260155, -0.5], [0.0, -0.5]], [\"M\", \"C\", \"C\", \"C\", \"C\", \"C\", \"C\", \"C\", \"C\", \"Z\"]]], \"edgecolors\": [\"#000000\"], \"edgewidths\": [1.0], \"offsets\": \"data01\", \"yindex\": 1, \"id\": \"el19999154027024\", \"pathtransforms\": [[4.969039949999533, 0.0, 0.0, 4.969039949999533, 0.0, 0.0]], \"pathcoordinates\": \"display\", \"offsetcoordinates\": \"data\", \"zorder\": 1, \"xindex\": 0, \"alphas\": [null], \"facecolors\": [\"#0000FF\"]}], \"xscale\": \"linear\", \"bbox\": [0.125, 0.125, 0.77500000000000002, 0.77500000000000002]}], \"height\": 320.0, \"width\": 480.0, \"plugins\": [{\"type\": \"reset\"}, {\"enabled\": false, \"button\": true, \"type\": \"zoom\"}, {\"enabled\": false, \"button\": true, \"type\": \"boxzoom\"}], \"data\": {\"data01\": [[425.0, -2.959516741209215e+199], [426.0, -1.6314273713963234e+200], [426.0, -1.8984887348222646e+200], [426.0, -2.6998016940776414e+200], [425.0, -2.966869587039784e+200], [426.0, -2.6997957439540392e+200], [426.0, -3.501059614561909e+200], [426.0, -4.302394467035084e+200], [426.0, -4.8365726440944585e+200], [425.0, -5.904955269313743e+200], [426.0, -6.439135870002642e+200], [426.0, -6.706258218214165e+200], [426.0, -2.9592790013938486e+199], [426.0, -1.6314024263604478e+200], [425.0, -2.9668877886830694e+200], [426.0, -1.8985015519401802e+200], [426.0, -2.6997952913604303e+200], [426.0, -3.5010597100724264e+200], [426.0, -4.302395947403511e+200], [426.0, -4.836595401623648e+200], [426.0, -6.439125169221925e+200], [426.0, -5.904934100928596e+200], [426.0, -6.706207163904522e+200], [426.0, -2.959391868765502e+199], [426.0, -1.6314215810080488e+200], [426.0, -2.699790771075214e+200], [426.0, -2.9668693903681907e+200], [424.0, -1.8984886702852572e+200], [426.0, -3.501069156500418e+200], [426.0, -4.302387800666186e+200], [426.0, -4.83655259203324e+200], [426.0, -5.90496795653406e+200], [425.0, -6.706243645838152e+200], [426.0, -6.439149399565402e+200], [421.0, -2.9594683262533908e+199], [426.0, -1.631445332415841e+200], [425.0, -2.6998298990687184e+200], [426.0, -2.9669378959631515e+200], [426.0, -1.8985258867051106e+200], [426.0, -3.501059630954167e+200], [425.0, -4.8365754954809294e+200], [426.0, -4.302385088310979e+200], [425.0, -6.70623259243902e+200], [425.0, -6.439121787436101e+200], [426.0, -5.904950328308259e+200], [6134.0, -7.793393162805388e+200], [1094.0, -7.507488776314369e+200], [426.0, -4.8365822841706576e+200], [426.0, -5.9049573353758306e+200], [425.0, -6.706244684371117e+200], [425.0, -1.6314231276280317e+200], [426.0, -2.9597988053176815e+199], [426.0, -2.6997966550891427e+200], [426.0, -2.966876865846019e+200], [426.0, -1.8984888707003817e+200], [425.0, -3.501059911063289e+200], [6248.0, -8.060486610006545e+200], [1094.0, -8.041678823841142e+200], [426.0, -4.302393225245105e+200], [426.0, -4.836580072324538e+200], [426.0, -5.904950743174547e+200], [426.0, -6.439142582754496e+200], [426.0, -6.70625070682301e+200], [426.0, -1.631426921050508e+200], [425.0, -2.9597360865594548e+199], [426.0, -2.6998097193070028e+200], [426.0, -1.8984887556266155e+200], [426.0, -2.9669314860882306e+200], [426.0, -3.501063070562907e+200], [1092.0, -7.774583493312032e+200], [425.0, -4.302350522990007e+200], [426.0, -4.8365731114625044e+200], [426.0, -6.70624003175094e+200], [426.0, -5.904942880143407e+200], [425.0, -6.439164080701118e+200], [426.0, -2.9595798600598224e+199], [426.0, -1.8985232562528585e+200], [424.0, -1.6314236145000803e+200], [426.0, -2.9668693977688645e+200], [426.0, -2.699817455580314e+200], [426.0, -3.501060272582985e+200], [1094.0, -8.308780967256347e+200], [426.0, -4.8365889699160414e+200], [426.0, -4.302381237015478e+200], [426.0, -6.706229187660339e+200], [426.0, -6.439125131113647e+200], [426.0, -5.904925538092488e+200], [426.0, -2.959210582985022e+199], [426.0, -1.6314114129657548e+200], [426.0, -1.8984886239177565e+200], [426.0, -2.6997940634270702e+200], [426.0, -2.966869244004549e+200], [426.0, -3.501063436008394e+200], [426.0, -4.3023918734747854e+200], [426.0, -4.8366205470156016e+200], [426.0, -5.904924787683452e+200], [426.0, -6.706201721788771e+200], [426.0, -6.439113965232315e+200], [426.0, -1.6314541357527796e+200], [426.0, -1.8985353701872095e+200], [425.0, -2.959715934655626e+199], [1091.0, -8.842963787680125e+200], [5377.0, -9.128871617273283e+200], [1094.0, -9.110058934658507e+200], [6552.0, -9.395962019706934e+200], [426.0, -2.9668695464122597e+200], [426.0, -3.501059518698353e+200], [1094.0, -7.507489111759008e+200], [426.0, -4.836569053633734e+200], [426.0, -4.3023831248454476e+200], [426.0, -6.439119515630613e+200], [426.0, -6.70621781452742e+200], [425.0, -5.9049293487993426e+200], [426.0, -1.6314525015676876e+200], [426.0, -2.959350461338935e+199], [425.0, -1.8984997352828805e+200], [426.0, -2.6998109921062672e+200], [426.0, -2.966915706845995e+200], [426.0, -3.501059542495524e+200], [0.0, 0.0], [1092.0, -9.644249249199532e+200], [1092.0, -7.774583320503709e+200], [1092.0, -7.774586037155298e+200], [6719.0, -8.594677150213315e+200], [5430.0, -9.663056646132353e+200], [6254.0, -8.327581750074295e+200], [5501.0, -8.861776620852875e+200], [1388.0, -1.0240438608250307e+201], [426.0, -2.9592840436649525e+199], [426.0, -2.959463751918015e+199], [426.0, -2.9597067784639116e+199], [426.0, -2.959577403555786e+199], [426.0, -5.6301302810444565e+199], [425.0, -1.0972036379353013e+200], [425.0, -1.3643080988782444e+200], [426.0, -1.8984983287820953e+200], [426.0, -1.8984888041146567e+200], [425.0, -1.898557493854382e+200], [426.0, -1.8984885880603577e+200], [426.0, -2.9668769671402e+200], [426.0, -2.966904970265954e+200], [425.0, -2.9668962062763573e+200], [426.0, -2.9668695242426156e+200], [426.0, -5.904938996509359e+200], [426.0, -5.904925154867736e+200], [425.0, -5.9049419241784475e+200], [426.0, -5.904969626412844e+200], [426.0, -6.439140540043868e+200], [426.0, -6.43913356176275e+200], [425.0, -6.439123636211412e+200], [426.0, -6.439158520626764e+200], [426.0, -6.43913810508396e+200], [425.0, -6.706220392183624e+200], [425.0, -6.706230642429879e+200], [425.0, -6.706203987787047e+200], [426.0, -6.706226895880398e+200], [426.0, -2.1656029741005425e+200], [426.0, -2.4327075499967555e+200], [426.0, -3.7681945756241e+200], [425.0, -4.035287220138373e+200], [425.0, -4.569457231729324e+200], [426.0, -5.1036850550586275e+200], [426.0, -5.370725630864343e+200], [425.0, -5.6378207682396854e+200], [426.0, -2.432692245802788e+200], [426.0, -2.165598771597533e+200], [426.0, -6.973296451730749e+200], [426.0, -4.5694875311272307e+200], [426.0, -5.103664937333672e+200], [426.0, -4.035289114655981e+200], [426.0, -3.768214150350451e+200], [426.0, -5.370735105153627e+200], [425.0, -5.637828712668158e+200], [426.0, -2.4327305846160023e+200], [426.0, -2.1656344556937694e+200], [426.0, -6.973304879178321e+200], [426.0, -4.035299295361318e+200], [426.0, -5.103660838289784e+200], [426.0, -3.7682052140279255e+200], [425.0, -4.5694968980634024e+200], [425.0, -5.637859744421192e+200], [426.0, -5.370785809867102e+200], [426.0, -2.4327446667048973e+200], [425.0, -2.165620278098268e+200], [426.0, -6.973296752078616e+200], [426.0, -4.569489245778052e+200], [426.0, -4.0353044301600105e+200], [426.0, -3.7682062302032416e+200], [426.0, -5.1036481119631055e+200], [426.0, -5.370725616868206e+200], [426.0, -5.637820789534773e+200], [426.0, -4.836575968671756e+200], [426.0, -4.569489715080981e+200], [426.0, -3.768182540571385e+200], [425.0, -4.3023861666352934e+200], [426.0, -5.103679906440077e+200], [426.0, -4.035332361947774e+200], [426.0, -5.370727894039968e+200], [425.0, -5.637824782863649e+200], [426.0, -1.631412582796466e+200], [426.0, -2.6997884113771293e+200], [426.0, -2.16561017974114e+200], [426.0, -2.432705542930831e+200], [426.0, -6.973303047765357e+200], [426.0, -3.5010673301736894e+200], [423.0, -5.1036860712613506e+200], [426.0, -4.569483635297735e+200], [426.0, -4.8366065313273424e+200], [426.0, -3.7682116836198606e+200], [426.0, -4.035280732087163e+200], [426.0, -4.30240382737326e+200], [426.0, -5.637854708359767e+200], [425.0, -5.370747025760809e+200], [426.0, -1.6314117215297833e+200], [426.0, -2.4327196425572153e+200], [426.0, -2.6998226404080913e+200], [426.0, -2.165660211000094e+200], [426.0, -3.501059744483827e+200], [426.0, -6.973296523441875e+200], [426.0, -3.7681886415977195e+200], [426.0, -4.0352942582281115e+200], [426.0, -4.5694874322491624e+200], [426.0, -4.302400466342248e+200], [426.0, -4.8365914437855846e+200], [426.0, -5.10368159937317e+200], [426.0, -5.370725614179215e+200], [426.0, -5.637820709262889e+200], [425.0, -1.6314336687381985e+200], [426.0, -2.69980689637474e+200], [426.0, -2.1656294897894173e+200], [426.0, -2.432726078840969e+200], [424.0, -6.973296481405136e+200], [423.0, -3.5010597493471395e+200], [426.0, -5.103674574369164e+200], [426.0, -4.836593745973542e+200], [426.0, -4.035296759584305e+200], [426.0, -4.302396822007812e+200], [426.0, -3.7681910941710366e+200], [426.0, -4.569488188476988e+200], [425.0, -5.637861312076577e+200], [426.0, -5.370725605755642e+200], [426.0, -1.6314453500726233e+200], [426.0, -2.165599214752067e+200], [426.0, -2.699794241440473e+200], [426.0, -2.4327230376368977e+200], [426.0, -6.973296527277405e+200], [425.0, -3.501059599640099e+200], [426.0, -4.035317307830877e+200], [425.0, -5.103684820832402e+200], [426.0, -3.768204300592532e+200], [426.0, -4.302404799328597e+200], [426.0, -4.569491086229549e+200], [425.0, -5.3707961712597074e+200], [425.0, -5.637881956839845e+200], [425.0, -2.165616090440108e+200], [426.0, -2.432704853920116e+200], [426.0, -6.97329644684084e+200], [426.0, -5.1036815262932476e+200], [426.0, -4.5694938781177295e+200], [424.0, -3.768207418962418e+200], [426.0, -4.035308774309346e+200], [426.0, -5.370725693620999e+200], [426.0, -5.6378542051902655e+200], [426.0, -2.432724275975479e+200], [426.0, -2.1656203308741957e+200], [426.0, -6.97330127031348e+200], [426.0, -3.768173656999898e+200], [426.0, -4.035279144191308e+200], [426.0, -4.5694673653514475e+200], [426.0, -5.103673587567382e+200], [424.0, -5.370725583151997e+200], [426.0, -5.637835648008652e+200], [426.0, -2.1656214617456622e+200], [426.0, -6.97333184442113e+200], [426.0, -2.4326960530187256e+200], [426.0, -4.035270781892072e+200], [424.0, -3.768201682638419e+200], [426.0, -5.103672547958193e+200], [426.0, -4.5694732577620404e+200], [426.0, -5.3707256950810564e+200], [426.0, -5.63782065074155e+200], [426.0, -2.432692661848455e+200], [426.0, -2.1656030253658075e+200], [426.0, -6.973299073631549e+200], [425.0, -4.035278120958995e+200], [426.0, -4.569468939068242e+200], [426.0, -5.1037073681363094e+200], [426.0, -3.768247217774581e+200], [426.0, -5.370725760713613e+200], [426.0, -5.637821227027598e+200], [426.0, -2.1656238699013893e+200], [425.0, -6.97332476922978e+200], [426.0, -2.4326839745233074e+200], [426.0, -6.973296498242153e+200], [426.0, -3.768202242140879e+200], [426.0, -4.035294383757816e+200], [426.0, -5.103677721825604e+200], [426.0, -4.569485340077277e+200], [426.0, -5.370725513016584e+200], [426.0, -5.6378396021746706e+200], [426.0, -6.973327478423689e+200], [424.0, -2.1656352622627875e+200], [426.0, -2.4327223676193842e+200], [1105.0, -8.575869217877528e+200], [16091.0, -5.3967126402426155e+200], [273816.0, -5.1296371890045807e+200], [13268.0, -5.663827708657452e+200], [4097.0, -6.732204712397214e+200], [2370.0, -6.198008928879178e+200], [3138.0, -5.9309147828575584e+200], [3454.0, -6.465096598004318e+200], [6671.0, -5.890022503079234e+199], [5349.0, -1.1231907160255635e+200], [5269.0, -8.561130325330294e+199], [7269.0, -3.2191756150460204e+199], [5026.0, -1.3902853208693979e+200], [10523.0, -1.924477574769854e+200], [4110.0, -1.6573880307536247e+200], [621.0, -2.4586972573899815e+200], [3728.0, -2.992856309458188e+200], [638.0, -2.1915828040503235e+200], [8933.0, -3.259976110836156e+200], [639.0, -2.725761387236231e+200], [639.0, -6.999283516596682e+200], [1192.0, -3.527047201794745e+200], [1108.0, -4.3283322902913595e+200], [591.0, -4.8589512768346685e+200], [1094.0, -7.50749389320385e+200], [1092.0, -7.774583362970685e+200], [1091.0, -7.77458346566685e+200], [1105.0, -8.575869182105956e+200], [1104.0, -8.575869323137907e+200], [1094.0, -7.507488932367248e+200], [424.0, -9.940919801298122e+200], [591.0, -3.7905814402703537e+200], [591.0, -4.591848138299814e+200], [134336.0, -4.0576784401230074e+200], [426.0, -5.630199252363896e+199], [426.0, -8.30138573950405e+199], [426.0, -1.0972120574068799e+200], [425.0, -1.364298589576107e+200], [426.0, -3.233974254140825e+200], [426.0, -6.172045108459397e+200], [426.0, -1.3642985430092172e+200], [426.0, -5.630136470441715e+199], [425.0, -8.301278398731778e+199], [426.0, -1.097203212536643e+200], [426.0, -3.2339740715825455e+200], [426.0, -6.172011158474626e+200], [426.0, -8.301326902166983e+199], [426.0, -1.3643291749067425e+200], [426.0, -1.0972032445764996e+200], [426.0, -5.630132455429234e+199], [426.0, -3.233994925665355e+200], [426.0, -6.172053369713605e+200], [426.0, -1.3643353307778577e+200], [426.0, -5.630597659893403e+199], [426.0, -8.30142538977433e+199], [426.0, -1.0972552342623874e+200], [426.0, -3.233992907767088e+200], [426.0, -6.172033997865144e+200], [426.0, -6.172033197783973e+200], [426.0, -1.3643284521579187e+200], [426.0, -8.301524391351103e+199], [426.0, -1.0972095504667247e+200], [425.0, -5.630225899800754e+199], [426.0, -3.233981514019957e+200], [426.0, -6.172093572722878e+200], [426.0, -8.301470291376116e+199], [426.0, -1.3643173387998039e+200], [426.0, -1.0972061747057479e+200], [426.0, -5.630128817408035e+199], [425.0, -3.2339953635870745e+200], [426.0, -5.630410908437442e+199], [425.0, -6.172065630909145e+200], [426.0, -1.0972121532950132e+200], [426.0, -8.301396848101225e+199], [426.0, -1.3643067439870253e+200], [426.0, -3.23396443856905e+200], [426.0, -6.172011716175886e+200], [425.0, -1.097203224972522e+200], [426.0, -5.630129488521025e+199], [426.0, -8.30115112186328e+199], [425.0, -1.364320775386538e+200], [425.0, -3.233989109382495e+200], [426.0, -5.630133667622966e+199], [426.0, -6.172011358851811e+200], [426.0, -8.301457384463526e+199], [425.0, -1.3643385252643016e+200], [426.0, -1.0972040817108227e+200], [1099.0, -9.37716226752574e+200], [426.0, -3.233964592969528e+200], [426.0, -6.172027725802982e+200], [426.0, -5.630128950138126e+199], [426.0, -1.0972554856879176e+200], [426.0, -1.3643573403135874e+200], [426.0, -8.301449686392216e+199], [426.0, -3.234001157444606e+200], [426.0, -5.630128076077131e+199], [426.0, -5.630133066157236e+199], [426.0, -5.630130355384894e+199], [426.0, -8.301253360303553e+199], [426.0, -8.301276066438959e+199], [426.0, -8.301461213879744e+199], [426.0, -8.301638135967607e+199], [425.0, -1.0972030272156083e+200], [426.0, -1.0972035405142377e+200], [426.0, -1.0972632956885114e+200], [426.0, -1.3643095187621134e+200], [424.0, -1.3643338836128918e+200], [426.0, -1.364337757813388e+200], [426.0, -3.2340030092659486e+200], [426.0, -3.2340010616684556e+200], [426.0, -3.234014987777105e+200], [426.0, -3.2339748282174116e+200], [426.0, -6.172031493107091e+200], [426.0, -6.172029747396637e+200], [426.0, -6.172030657151857e+200], [426.0, -6.17204680264536e+200], [4930.0, -7.259198223775826e+200], [7101.0, -7.52629650281968e+200]]}, \"id\": \"el19999144640400\"});\n",
        "   }(mpld3);\n",
        "}else if(typeof define === \"function\" && define.amd){\n",
        "   // require.js is available: use it to load d3/mpld3\n",
        "   require.config({paths: {d3: \"https://mpld3.github.io/js/d3.v3.min\"}});\n",
        "   require([\"d3\"], function(d3){\n",
        "      window.d3 = d3;\n",
        "      mpld3_load_lib(\"https://mpld3.github.io/js/mpld3.v0.2.js\", function(){\n",
        "         \n",
        "         mpld3.draw_figure(\"fig_el199991446404008476550672\", {\"axes\": [{\"xlim\": [-50000.0, 300000.0], \"yscale\": \"linear\", \"axesbg\": \"#FFFFFF\", \"texts\": [{\"v_baseline\": \"hanging\", \"h_anchor\": \"middle\", \"color\": \"#000000\", \"text\": \"response\", \"coordinates\": \"axes\", \"zorder\": 3, \"alpha\": 1, \"fontsize\": 10.0, \"position\": [0.5, -0.080645161290322578], \"rotation\": -0.0, \"id\": \"el19999150470032\"}, {\"v_baseline\": \"auto\", \"h_anchor\": \"middle\", \"color\": \"#000000\", \"text\": \"prediction\", \"coordinates\": \"axes\", \"zorder\": 3, \"alpha\": 1, \"fontsize\": 10.0, \"position\": [-0.094170026881720451, 0.5], \"rotation\": -90.0, \"id\": \"el19999148043152\"}], \"zoomable\": true, \"images\": [], \"xdomain\": [-50000.0, 300000.0], \"ylim\": [-1.2e+201, 2.0000000000000006e+200], \"paths\": [], \"sharey\": [], \"sharex\": [], \"axesbgalpha\": null, \"axes\": [{\"scale\": \"linear\", \"tickformat\": null, \"grid\": {\"gridOn\": false}, \"fontsize\": 10.0, \"position\": \"bottom\", \"nticks\": 8, \"tickvalues\": null}, {\"scale\": \"linear\", \"tickformat\": null, \"grid\": {\"gridOn\": false}, \"fontsize\": 10.0, \"position\": \"left\", \"nticks\": 9, \"tickvalues\": null}], \"lines\": [], \"markers\": [], \"id\": \"el19999147159888\", \"ydomain\": [-1.2e+201, 2.0000000000000006e+200], \"collections\": [{\"paths\": [[[[0.0, -0.5], [0.13260155, -0.5], [0.25978993539242673, -0.44731684579412084], [0.3535533905932738, -0.3535533905932738], [0.44731684579412084, -0.25978993539242673], [0.5, -0.13260155], [0.5, 0.0], [0.5, 0.13260155], [0.44731684579412084, 0.25978993539242673], [0.3535533905932738, 0.3535533905932738], [0.25978993539242673, 0.44731684579412084], [0.13260155, 0.5], [0.0, 0.5], [-0.13260155, 0.5], [-0.25978993539242673, 0.44731684579412084], [-0.3535533905932738, 0.3535533905932738], [-0.44731684579412084, 0.25978993539242673], [-0.5, 0.13260155], [-0.5, 0.0], [-0.5, -0.13260155], [-0.44731684579412084, -0.25978993539242673], [-0.3535533905932738, -0.3535533905932738], [-0.25978993539242673, -0.44731684579412084], [-0.13260155, -0.5], [0.0, -0.5]], [\"M\", \"C\", \"C\", \"C\", \"C\", \"C\", \"C\", \"C\", \"C\", \"Z\"]]], \"edgecolors\": [\"#000000\"], \"edgewidths\": [1.0], \"offsets\": \"data01\", \"yindex\": 1, \"id\": \"el19999154027024\", \"pathtransforms\": [[4.969039949999533, 0.0, 0.0, 4.969039949999533, 0.0, 0.0]], \"pathcoordinates\": \"display\", \"offsetcoordinates\": \"data\", \"zorder\": 1, \"xindex\": 0, \"alphas\": [null], \"facecolors\": [\"#0000FF\"]}], \"xscale\": \"linear\", \"bbox\": [0.125, 0.125, 0.77500000000000002, 0.77500000000000002]}], \"height\": 320.0, \"width\": 480.0, \"plugins\": [{\"type\": \"reset\"}, {\"enabled\": false, \"button\": true, \"type\": \"zoom\"}, {\"enabled\": false, \"button\": true, \"type\": \"boxzoom\"}], \"data\": {\"data01\": [[425.0, -2.959516741209215e+199], [426.0, -1.6314273713963234e+200], [426.0, -1.8984887348222646e+200], [426.0, -2.6998016940776414e+200], [425.0, -2.966869587039784e+200], [426.0, -2.6997957439540392e+200], [426.0, -3.501059614561909e+200], [426.0, -4.302394467035084e+200], [426.0, -4.8365726440944585e+200], [425.0, -5.904955269313743e+200], [426.0, -6.439135870002642e+200], [426.0, -6.706258218214165e+200], [426.0, -2.9592790013938486e+199], [426.0, -1.6314024263604478e+200], [425.0, -2.9668877886830694e+200], [426.0, -1.8985015519401802e+200], [426.0, -2.6997952913604303e+200], [426.0, -3.5010597100724264e+200], [426.0, -4.302395947403511e+200], [426.0, -4.836595401623648e+200], [426.0, -6.439125169221925e+200], [426.0, -5.904934100928596e+200], [426.0, -6.706207163904522e+200], [426.0, -2.959391868765502e+199], [426.0, -1.6314215810080488e+200], [426.0, -2.699790771075214e+200], [426.0, -2.9668693903681907e+200], [424.0, -1.8984886702852572e+200], [426.0, -3.501069156500418e+200], [426.0, -4.302387800666186e+200], [426.0, -4.83655259203324e+200], [426.0, -5.90496795653406e+200], [425.0, -6.706243645838152e+200], [426.0, -6.439149399565402e+200], [421.0, -2.9594683262533908e+199], [426.0, -1.631445332415841e+200], [425.0, -2.6998298990687184e+200], [426.0, -2.9669378959631515e+200], [426.0, -1.8985258867051106e+200], [426.0, -3.501059630954167e+200], [425.0, -4.8365754954809294e+200], [426.0, -4.302385088310979e+200], [425.0, -6.70623259243902e+200], [425.0, -6.439121787436101e+200], [426.0, -5.904950328308259e+200], [6134.0, -7.793393162805388e+200], [1094.0, -7.507488776314369e+200], [426.0, -4.8365822841706576e+200], [426.0, -5.9049573353758306e+200], [425.0, -6.706244684371117e+200], [425.0, -1.6314231276280317e+200], [426.0, -2.9597988053176815e+199], [426.0, -2.6997966550891427e+200], [426.0, -2.966876865846019e+200], [426.0, -1.8984888707003817e+200], [425.0, -3.501059911063289e+200], [6248.0, -8.060486610006545e+200], [1094.0, -8.041678823841142e+200], [426.0, -4.302393225245105e+200], [426.0, -4.836580072324538e+200], [426.0, -5.904950743174547e+200], [426.0, -6.439142582754496e+200], [426.0, -6.70625070682301e+200], [426.0, -1.631426921050508e+200], [425.0, -2.9597360865594548e+199], [426.0, -2.6998097193070028e+200], [426.0, -1.8984887556266155e+200], [426.0, -2.9669314860882306e+200], [426.0, -3.501063070562907e+200], [1092.0, -7.774583493312032e+200], [425.0, -4.302350522990007e+200], [426.0, -4.8365731114625044e+200], [426.0, -6.70624003175094e+200], [426.0, -5.904942880143407e+200], [425.0, -6.439164080701118e+200], [426.0, -2.9595798600598224e+199], [426.0, -1.8985232562528585e+200], [424.0, -1.6314236145000803e+200], [426.0, -2.9668693977688645e+200], [426.0, -2.699817455580314e+200], [426.0, -3.501060272582985e+200], [1094.0, -8.308780967256347e+200], [426.0, -4.8365889699160414e+200], [426.0, -4.302381237015478e+200], [426.0, -6.706229187660339e+200], [426.0, -6.439125131113647e+200], [426.0, -5.904925538092488e+200], [426.0, -2.959210582985022e+199], [426.0, -1.6314114129657548e+200], [426.0, -1.8984886239177565e+200], [426.0, -2.6997940634270702e+200], [426.0, -2.966869244004549e+200], [426.0, -3.501063436008394e+200], [426.0, -4.3023918734747854e+200], [426.0, -4.8366205470156016e+200], [426.0, -5.904924787683452e+200], [426.0, -6.706201721788771e+200], [426.0, -6.439113965232315e+200], [426.0, -1.6314541357527796e+200], [426.0, -1.8985353701872095e+200], [425.0, -2.959715934655626e+199], [1091.0, -8.842963787680125e+200], [5377.0, -9.128871617273283e+200], [1094.0, -9.110058934658507e+200], [6552.0, -9.395962019706934e+200], [426.0, -2.9668695464122597e+200], [426.0, -3.501059518698353e+200], [1094.0, -7.507489111759008e+200], [426.0, -4.836569053633734e+200], [426.0, -4.3023831248454476e+200], [426.0, -6.439119515630613e+200], [426.0, -6.70621781452742e+200], [425.0, -5.9049293487993426e+200], [426.0, -1.6314525015676876e+200], [426.0, -2.959350461338935e+199], [425.0, -1.8984997352828805e+200], [426.0, -2.6998109921062672e+200], [426.0, -2.966915706845995e+200], [426.0, -3.501059542495524e+200], [0.0, 0.0], [1092.0, -9.644249249199532e+200], [1092.0, -7.774583320503709e+200], [1092.0, -7.774586037155298e+200], [6719.0, -8.594677150213315e+200], [5430.0, -9.663056646132353e+200], [6254.0, -8.327581750074295e+200], [5501.0, -8.861776620852875e+200], [1388.0, -1.0240438608250307e+201], [426.0, -2.9592840436649525e+199], [426.0, -2.959463751918015e+199], [426.0, -2.9597067784639116e+199], [426.0, -2.959577403555786e+199], [426.0, -5.6301302810444565e+199], [425.0, -1.0972036379353013e+200], [425.0, -1.3643080988782444e+200], [426.0, -1.8984983287820953e+200], [426.0, -1.8984888041146567e+200], [425.0, -1.898557493854382e+200], [426.0, -1.8984885880603577e+200], [426.0, -2.9668769671402e+200], [426.0, -2.966904970265954e+200], [425.0, -2.9668962062763573e+200], [426.0, -2.9668695242426156e+200], [426.0, -5.904938996509359e+200], [426.0, -5.904925154867736e+200], [425.0, -5.9049419241784475e+200], [426.0, -5.904969626412844e+200], [426.0, -6.439140540043868e+200], [426.0, -6.43913356176275e+200], [425.0, -6.439123636211412e+200], [426.0, -6.439158520626764e+200], [426.0, -6.43913810508396e+200], [425.0, -6.706220392183624e+200], [425.0, -6.706230642429879e+200], [425.0, -6.706203987787047e+200], [426.0, -6.706226895880398e+200], [426.0, -2.1656029741005425e+200], [426.0, -2.4327075499967555e+200], [426.0, -3.7681945756241e+200], [425.0, -4.035287220138373e+200], [425.0, -4.569457231729324e+200], [426.0, -5.1036850550586275e+200], [426.0, -5.370725630864343e+200], [425.0, -5.6378207682396854e+200], [426.0, -2.432692245802788e+200], [426.0, -2.165598771597533e+200], [426.0, -6.973296451730749e+200], [426.0, -4.5694875311272307e+200], [426.0, -5.103664937333672e+200], [426.0, -4.035289114655981e+200], [426.0, -3.768214150350451e+200], [426.0, -5.370735105153627e+200], [425.0, -5.637828712668158e+200], [426.0, -2.4327305846160023e+200], [426.0, -2.1656344556937694e+200], [426.0, -6.973304879178321e+200], [426.0, -4.035299295361318e+200], [426.0, -5.103660838289784e+200], [426.0, -3.7682052140279255e+200], [425.0, -4.5694968980634024e+200], [425.0, -5.637859744421192e+200], [426.0, -5.370785809867102e+200], [426.0, -2.4327446667048973e+200], [425.0, -2.165620278098268e+200], [426.0, -6.973296752078616e+200], [426.0, -4.569489245778052e+200], [426.0, -4.0353044301600105e+200], [426.0, -3.7682062302032416e+200], [426.0, -5.1036481119631055e+200], [426.0, -5.370725616868206e+200], [426.0, -5.637820789534773e+200], [426.0, -4.836575968671756e+200], [426.0, -4.569489715080981e+200], [426.0, -3.768182540571385e+200], [425.0, -4.3023861666352934e+200], [426.0, -5.103679906440077e+200], [426.0, -4.035332361947774e+200], [426.0, -5.370727894039968e+200], [425.0, -5.637824782863649e+200], [426.0, -1.631412582796466e+200], [426.0, -2.6997884113771293e+200], [426.0, -2.16561017974114e+200], [426.0, -2.432705542930831e+200], [426.0, -6.973303047765357e+200], [426.0, -3.5010673301736894e+200], [423.0, -5.1036860712613506e+200], [426.0, -4.569483635297735e+200], [426.0, -4.8366065313273424e+200], [426.0, -3.7682116836198606e+200], [426.0, -4.035280732087163e+200], [426.0, -4.30240382737326e+200], [426.0, -5.637854708359767e+200], [425.0, -5.370747025760809e+200], [426.0, -1.6314117215297833e+200], [426.0, -2.4327196425572153e+200], [426.0, -2.6998226404080913e+200], [426.0, -2.165660211000094e+200], [426.0, -3.501059744483827e+200], [426.0, -6.973296523441875e+200], [426.0, -3.7681886415977195e+200], [426.0, -4.0352942582281115e+200], [426.0, -4.5694874322491624e+200], [426.0, -4.302400466342248e+200], [426.0, -4.8365914437855846e+200], [426.0, -5.10368159937317e+200], [426.0, -5.370725614179215e+200], [426.0, -5.637820709262889e+200], [425.0, -1.6314336687381985e+200], [426.0, -2.69980689637474e+200], [426.0, -2.1656294897894173e+200], [426.0, -2.432726078840969e+200], [424.0, -6.973296481405136e+200], [423.0, -3.5010597493471395e+200], [426.0, -5.103674574369164e+200], [426.0, -4.836593745973542e+200], [426.0, -4.035296759584305e+200], [426.0, -4.302396822007812e+200], [426.0, -3.7681910941710366e+200], [426.0, -4.569488188476988e+200], [425.0, -5.637861312076577e+200], [426.0, -5.370725605755642e+200], [426.0, -1.6314453500726233e+200], [426.0, -2.165599214752067e+200], [426.0, -2.699794241440473e+200], [426.0, -2.4327230376368977e+200], [426.0, -6.973296527277405e+200], [425.0, -3.501059599640099e+200], [426.0, -4.035317307830877e+200], [425.0, -5.103684820832402e+200], [426.0, -3.768204300592532e+200], [426.0, -4.302404799328597e+200], [426.0, -4.569491086229549e+200], [425.0, -5.3707961712597074e+200], [425.0, -5.637881956839845e+200], [425.0, -2.165616090440108e+200], [426.0, -2.432704853920116e+200], [426.0, -6.97329644684084e+200], [426.0, -5.1036815262932476e+200], [426.0, -4.5694938781177295e+200], [424.0, -3.768207418962418e+200], [426.0, -4.035308774309346e+200], [426.0, -5.370725693620999e+200], [426.0, -5.6378542051902655e+200], [426.0, -2.432724275975479e+200], [426.0, -2.1656203308741957e+200], [426.0, -6.97330127031348e+200], [426.0, -3.768173656999898e+200], [426.0, -4.035279144191308e+200], [426.0, -4.5694673653514475e+200], [426.0, -5.103673587567382e+200], [424.0, -5.370725583151997e+200], [426.0, -5.637835648008652e+200], [426.0, -2.1656214617456622e+200], [426.0, -6.97333184442113e+200], [426.0, -2.4326960530187256e+200], [426.0, -4.035270781892072e+200], [424.0, -3.768201682638419e+200], [426.0, -5.103672547958193e+200], [426.0, -4.5694732577620404e+200], [426.0, -5.3707256950810564e+200], [426.0, -5.63782065074155e+200], [426.0, -2.432692661848455e+200], [426.0, -2.1656030253658075e+200], [426.0, -6.973299073631549e+200], [425.0, -4.035278120958995e+200], [426.0, -4.569468939068242e+200], [426.0, -5.1037073681363094e+200], [426.0, -3.768247217774581e+200], [426.0, -5.370725760713613e+200], [426.0, -5.637821227027598e+200], [426.0, -2.1656238699013893e+200], [425.0, -6.97332476922978e+200], [426.0, -2.4326839745233074e+200], [426.0, -6.973296498242153e+200], [426.0, -3.768202242140879e+200], [426.0, -4.035294383757816e+200], [426.0, -5.103677721825604e+200], [426.0, -4.569485340077277e+200], [426.0, -5.370725513016584e+200], [426.0, -5.6378396021746706e+200], [426.0, -6.973327478423689e+200], [424.0, -2.1656352622627875e+200], [426.0, -2.4327223676193842e+200], [1105.0, -8.575869217877528e+200], [16091.0, -5.3967126402426155e+200], [273816.0, -5.1296371890045807e+200], [13268.0, -5.663827708657452e+200], [4097.0, -6.732204712397214e+200], [2370.0, -6.198008928879178e+200], [3138.0, -5.9309147828575584e+200], [3454.0, -6.465096598004318e+200], [6671.0, -5.890022503079234e+199], [5349.0, -1.1231907160255635e+200], [5269.0, -8.561130325330294e+199], [7269.0, -3.2191756150460204e+199], [5026.0, -1.3902853208693979e+200], [10523.0, -1.924477574769854e+200], [4110.0, -1.6573880307536247e+200], [621.0, -2.4586972573899815e+200], [3728.0, -2.992856309458188e+200], [638.0, -2.1915828040503235e+200], [8933.0, -3.259976110836156e+200], [639.0, -2.725761387236231e+200], [639.0, -6.999283516596682e+200], [1192.0, -3.527047201794745e+200], [1108.0, -4.3283322902913595e+200], [591.0, -4.8589512768346685e+200], [1094.0, -7.50749389320385e+200], [1092.0, -7.774583362970685e+200], [1091.0, -7.77458346566685e+200], [1105.0, -8.575869182105956e+200], [1104.0, -8.575869323137907e+200], [1094.0, -7.507488932367248e+200], [424.0, -9.940919801298122e+200], [591.0, -3.7905814402703537e+200], [591.0, -4.591848138299814e+200], [134336.0, -4.0576784401230074e+200], [426.0, -5.630199252363896e+199], [426.0, -8.30138573950405e+199], [426.0, -1.0972120574068799e+200], [425.0, -1.364298589576107e+200], [426.0, -3.233974254140825e+200], [426.0, -6.172045108459397e+200], [426.0, -1.3642985430092172e+200], [426.0, -5.630136470441715e+199], [425.0, -8.301278398731778e+199], [426.0, -1.097203212536643e+200], [426.0, -3.2339740715825455e+200], [426.0, -6.172011158474626e+200], [426.0, -8.301326902166983e+199], [426.0, -1.3643291749067425e+200], [426.0, -1.0972032445764996e+200], [426.0, -5.630132455429234e+199], [426.0, -3.233994925665355e+200], [426.0, -6.172053369713605e+200], [426.0, -1.3643353307778577e+200], [426.0, -5.630597659893403e+199], [426.0, -8.30142538977433e+199], [426.0, -1.0972552342623874e+200], [426.0, -3.233992907767088e+200], [426.0, -6.172033997865144e+200], [426.0, -6.172033197783973e+200], [426.0, -1.3643284521579187e+200], [426.0, -8.301524391351103e+199], [426.0, -1.0972095504667247e+200], [425.0, -5.630225899800754e+199], [426.0, -3.233981514019957e+200], [426.0, -6.172093572722878e+200], [426.0, -8.301470291376116e+199], [426.0, -1.3643173387998039e+200], [426.0, -1.0972061747057479e+200], [426.0, -5.630128817408035e+199], [425.0, -3.2339953635870745e+200], [426.0, -5.630410908437442e+199], [425.0, -6.172065630909145e+200], [426.0, -1.0972121532950132e+200], [426.0, -8.301396848101225e+199], [426.0, -1.3643067439870253e+200], [426.0, -3.23396443856905e+200], [426.0, -6.172011716175886e+200], [425.0, -1.097203224972522e+200], [426.0, -5.630129488521025e+199], [426.0, -8.30115112186328e+199], [425.0, -1.364320775386538e+200], [425.0, -3.233989109382495e+200], [426.0, -5.630133667622966e+199], [426.0, -6.172011358851811e+200], [426.0, -8.301457384463526e+199], [425.0, -1.3643385252643016e+200], [426.0, -1.0972040817108227e+200], [1099.0, -9.37716226752574e+200], [426.0, -3.233964592969528e+200], [426.0, -6.172027725802982e+200], [426.0, -5.630128950138126e+199], [426.0, -1.0972554856879176e+200], [426.0, -1.3643573403135874e+200], [426.0, -8.301449686392216e+199], [426.0, -3.234001157444606e+200], [426.0, -5.630128076077131e+199], [426.0, -5.630133066157236e+199], [426.0, -5.630130355384894e+199], [426.0, -8.301253360303553e+199], [426.0, -8.301276066438959e+199], [426.0, -8.301461213879744e+199], [426.0, -8.301638135967607e+199], [425.0, -1.0972030272156083e+200], [426.0, -1.0972035405142377e+200], [426.0, -1.0972632956885114e+200], [426.0, -1.3643095187621134e+200], [424.0, -1.3643338836128918e+200], [426.0, -1.364337757813388e+200], [426.0, -3.2340030092659486e+200], [426.0, -3.2340010616684556e+200], [426.0, -3.234014987777105e+200], [426.0, -3.2339748282174116e+200], [426.0, -6.172031493107091e+200], [426.0, -6.172029747396637e+200], [426.0, -6.172030657151857e+200], [426.0, -6.17204680264536e+200], [4930.0, -7.259198223775826e+200], [7101.0, -7.52629650281968e+200]]}, \"id\": \"el19999144640400\"});\n",
        "      });\n",
        "    });\n",
        "}else{\n",
        "    // require.js not available: dynamically load d3 & mpld3\n",
        "    mpld3_load_lib(\"https://mpld3.github.io/js/d3.v3.min.js\", function(){\n",
        "         mpld3_load_lib(\"https://mpld3.github.io/js/mpld3.v0.2.js\", function(){\n",
        "                 \n",
        "                 mpld3.draw_figure(\"fig_el199991446404008476550672\", {\"axes\": [{\"xlim\": [-50000.0, 300000.0], \"yscale\": \"linear\", \"axesbg\": \"#FFFFFF\", \"texts\": [{\"v_baseline\": \"hanging\", \"h_anchor\": \"middle\", \"color\": \"#000000\", \"text\": \"response\", \"coordinates\": \"axes\", \"zorder\": 3, \"alpha\": 1, \"fontsize\": 10.0, \"position\": [0.5, -0.080645161290322578], \"rotation\": -0.0, \"id\": \"el19999150470032\"}, {\"v_baseline\": \"auto\", \"h_anchor\": \"middle\", \"color\": \"#000000\", \"text\": \"prediction\", \"coordinates\": \"axes\", \"zorder\": 3, \"alpha\": 1, \"fontsize\": 10.0, \"position\": [-0.094170026881720451, 0.5], \"rotation\": -90.0, \"id\": \"el19999148043152\"}], \"zoomable\": true, \"images\": [], \"xdomain\": [-50000.0, 300000.0], \"ylim\": [-1.2e+201, 2.0000000000000006e+200], \"paths\": [], \"sharey\": [], \"sharex\": [], \"axesbgalpha\": null, \"axes\": [{\"scale\": \"linear\", \"tickformat\": null, \"grid\": {\"gridOn\": false}, \"fontsize\": 10.0, \"position\": \"bottom\", \"nticks\": 8, \"tickvalues\": null}, {\"scale\": \"linear\", \"tickformat\": null, \"grid\": {\"gridOn\": false}, \"fontsize\": 10.0, \"position\": \"left\", \"nticks\": 9, \"tickvalues\": null}], \"lines\": [], \"markers\": [], \"id\": \"el19999147159888\", \"ydomain\": [-1.2e+201, 2.0000000000000006e+200], \"collections\": [{\"paths\": [[[[0.0, -0.5], [0.13260155, -0.5], [0.25978993539242673, -0.44731684579412084], [0.3535533905932738, -0.3535533905932738], [0.44731684579412084, -0.25978993539242673], [0.5, -0.13260155], [0.5, 0.0], [0.5, 0.13260155], [0.44731684579412084, 0.25978993539242673], [0.3535533905932738, 0.3535533905932738], [0.25978993539242673, 0.44731684579412084], [0.13260155, 0.5], [0.0, 0.5], [-0.13260155, 0.5], [-0.25978993539242673, 0.44731684579412084], [-0.3535533905932738, 0.3535533905932738], [-0.44731684579412084, 0.25978993539242673], [-0.5, 0.13260155], [-0.5, 0.0], [-0.5, -0.13260155], [-0.44731684579412084, -0.25978993539242673], [-0.3535533905932738, -0.3535533905932738], [-0.25978993539242673, -0.44731684579412084], [-0.13260155, -0.5], [0.0, -0.5]], [\"M\", \"C\", \"C\", \"C\", \"C\", \"C\", \"C\", \"C\", \"C\", \"Z\"]]], \"edgecolors\": [\"#000000\"], \"edgewidths\": [1.0], \"offsets\": \"data01\", \"yindex\": 1, \"id\": \"el19999154027024\", \"pathtransforms\": [[4.969039949999533, 0.0, 0.0, 4.969039949999533, 0.0, 0.0]], \"pathcoordinates\": \"display\", \"offsetcoordinates\": \"data\", \"zorder\": 1, \"xindex\": 0, \"alphas\": [null], \"facecolors\": [\"#0000FF\"]}], \"xscale\": \"linear\", \"bbox\": [0.125, 0.125, 0.77500000000000002, 0.77500000000000002]}], \"height\": 320.0, \"width\": 480.0, \"plugins\": [{\"type\": \"reset\"}, {\"enabled\": false, \"button\": true, \"type\": \"zoom\"}, {\"enabled\": false, \"button\": true, \"type\": \"boxzoom\"}], \"data\": {\"data01\": [[425.0, -2.959516741209215e+199], [426.0, -1.6314273713963234e+200], [426.0, -1.8984887348222646e+200], [426.0, -2.6998016940776414e+200], [425.0, -2.966869587039784e+200], [426.0, -2.6997957439540392e+200], [426.0, -3.501059614561909e+200], [426.0, -4.302394467035084e+200], [426.0, -4.8365726440944585e+200], [425.0, -5.904955269313743e+200], [426.0, -6.439135870002642e+200], [426.0, -6.706258218214165e+200], [426.0, -2.9592790013938486e+199], [426.0, -1.6314024263604478e+200], [425.0, -2.9668877886830694e+200], [426.0, -1.8985015519401802e+200], [426.0, -2.6997952913604303e+200], [426.0, -3.5010597100724264e+200], [426.0, -4.302395947403511e+200], [426.0, -4.836595401623648e+200], [426.0, -6.439125169221925e+200], [426.0, -5.904934100928596e+200], [426.0, -6.706207163904522e+200], [426.0, -2.959391868765502e+199], [426.0, -1.6314215810080488e+200], [426.0, -2.699790771075214e+200], [426.0, -2.9668693903681907e+200], [424.0, -1.8984886702852572e+200], [426.0, -3.501069156500418e+200], [426.0, -4.302387800666186e+200], [426.0, -4.83655259203324e+200], [426.0, -5.90496795653406e+200], [425.0, -6.706243645838152e+200], [426.0, -6.439149399565402e+200], [421.0, -2.9594683262533908e+199], [426.0, -1.631445332415841e+200], [425.0, -2.6998298990687184e+200], [426.0, -2.9669378959631515e+200], [426.0, -1.8985258867051106e+200], [426.0, -3.501059630954167e+200], [425.0, -4.8365754954809294e+200], [426.0, -4.302385088310979e+200], [425.0, -6.70623259243902e+200], [425.0, -6.439121787436101e+200], [426.0, -5.904950328308259e+200], [6134.0, -7.793393162805388e+200], [1094.0, -7.507488776314369e+200], [426.0, -4.8365822841706576e+200], [426.0, -5.9049573353758306e+200], [425.0, -6.706244684371117e+200], [425.0, -1.6314231276280317e+200], [426.0, -2.9597988053176815e+199], [426.0, -2.6997966550891427e+200], [426.0, -2.966876865846019e+200], [426.0, -1.8984888707003817e+200], [425.0, -3.501059911063289e+200], [6248.0, -8.060486610006545e+200], [1094.0, -8.041678823841142e+200], [426.0, -4.302393225245105e+200], [426.0, -4.836580072324538e+200], [426.0, -5.904950743174547e+200], [426.0, -6.439142582754496e+200], [426.0, -6.70625070682301e+200], [426.0, -1.631426921050508e+200], [425.0, -2.9597360865594548e+199], [426.0, -2.6998097193070028e+200], [426.0, -1.8984887556266155e+200], [426.0, -2.9669314860882306e+200], [426.0, -3.501063070562907e+200], [1092.0, -7.774583493312032e+200], [425.0, -4.302350522990007e+200], [426.0, -4.8365731114625044e+200], [426.0, -6.70624003175094e+200], [426.0, -5.904942880143407e+200], [425.0, -6.439164080701118e+200], [426.0, -2.9595798600598224e+199], [426.0, -1.8985232562528585e+200], [424.0, -1.6314236145000803e+200], [426.0, -2.9668693977688645e+200], [426.0, -2.699817455580314e+200], [426.0, -3.501060272582985e+200], [1094.0, -8.308780967256347e+200], [426.0, -4.8365889699160414e+200], [426.0, -4.302381237015478e+200], [426.0, -6.706229187660339e+200], [426.0, -6.439125131113647e+200], [426.0, -5.904925538092488e+200], [426.0, -2.959210582985022e+199], [426.0, -1.6314114129657548e+200], [426.0, -1.8984886239177565e+200], [426.0, -2.6997940634270702e+200], [426.0, -2.966869244004549e+200], [426.0, -3.501063436008394e+200], [426.0, -4.3023918734747854e+200], [426.0, -4.8366205470156016e+200], [426.0, -5.904924787683452e+200], [426.0, -6.706201721788771e+200], [426.0, -6.439113965232315e+200], [426.0, -1.6314541357527796e+200], [426.0, -1.8985353701872095e+200], [425.0, -2.959715934655626e+199], [1091.0, -8.842963787680125e+200], [5377.0, -9.128871617273283e+200], [1094.0, -9.110058934658507e+200], [6552.0, -9.395962019706934e+200], [426.0, -2.9668695464122597e+200], [426.0, -3.501059518698353e+200], [1094.0, -7.507489111759008e+200], [426.0, -4.836569053633734e+200], [426.0, -4.3023831248454476e+200], [426.0, -6.439119515630613e+200], [426.0, -6.70621781452742e+200], [425.0, -5.9049293487993426e+200], [426.0, -1.6314525015676876e+200], [426.0, -2.959350461338935e+199], [425.0, -1.8984997352828805e+200], [426.0, -2.6998109921062672e+200], [426.0, -2.966915706845995e+200], [426.0, -3.501059542495524e+200], [0.0, 0.0], [1092.0, -9.644249249199532e+200], [1092.0, -7.774583320503709e+200], [1092.0, -7.774586037155298e+200], [6719.0, -8.594677150213315e+200], [5430.0, -9.663056646132353e+200], [6254.0, -8.327581750074295e+200], [5501.0, -8.861776620852875e+200], [1388.0, -1.0240438608250307e+201], [426.0, -2.9592840436649525e+199], [426.0, -2.959463751918015e+199], [426.0, -2.9597067784639116e+199], [426.0, -2.959577403555786e+199], [426.0, -5.6301302810444565e+199], [425.0, -1.0972036379353013e+200], [425.0, -1.3643080988782444e+200], [426.0, -1.8984983287820953e+200], [426.0, -1.8984888041146567e+200], [425.0, -1.898557493854382e+200], [426.0, -1.8984885880603577e+200], [426.0, -2.9668769671402e+200], [426.0, -2.966904970265954e+200], [425.0, -2.9668962062763573e+200], [426.0, -2.9668695242426156e+200], [426.0, -5.904938996509359e+200], [426.0, -5.904925154867736e+200], [425.0, -5.9049419241784475e+200], [426.0, -5.904969626412844e+200], [426.0, -6.439140540043868e+200], [426.0, -6.43913356176275e+200], [425.0, -6.439123636211412e+200], [426.0, -6.439158520626764e+200], [426.0, -6.43913810508396e+200], [425.0, -6.706220392183624e+200], [425.0, -6.706230642429879e+200], [425.0, -6.706203987787047e+200], [426.0, -6.706226895880398e+200], [426.0, -2.1656029741005425e+200], [426.0, -2.4327075499967555e+200], [426.0, -3.7681945756241e+200], [425.0, -4.035287220138373e+200], [425.0, -4.569457231729324e+200], [426.0, -5.1036850550586275e+200], [426.0, -5.370725630864343e+200], [425.0, -5.6378207682396854e+200], [426.0, -2.432692245802788e+200], [426.0, -2.165598771597533e+200], [426.0, -6.973296451730749e+200], [426.0, -4.5694875311272307e+200], [426.0, -5.103664937333672e+200], [426.0, -4.035289114655981e+200], [426.0, -3.768214150350451e+200], [426.0, -5.370735105153627e+200], [425.0, -5.637828712668158e+200], [426.0, -2.4327305846160023e+200], [426.0, -2.1656344556937694e+200], [426.0, -6.973304879178321e+200], [426.0, -4.035299295361318e+200], [426.0, -5.103660838289784e+200], [426.0, -3.7682052140279255e+200], [425.0, -4.5694968980634024e+200], [425.0, -5.637859744421192e+200], [426.0, -5.370785809867102e+200], [426.0, -2.4327446667048973e+200], [425.0, -2.165620278098268e+200], [426.0, -6.973296752078616e+200], [426.0, -4.569489245778052e+200], [426.0, -4.0353044301600105e+200], [426.0, -3.7682062302032416e+200], [426.0, -5.1036481119631055e+200], [426.0, -5.370725616868206e+200], [426.0, -5.637820789534773e+200], [426.0, -4.836575968671756e+200], [426.0, -4.569489715080981e+200], [426.0, -3.768182540571385e+200], [425.0, -4.3023861666352934e+200], [426.0, -5.103679906440077e+200], [426.0, -4.035332361947774e+200], [426.0, -5.370727894039968e+200], [425.0, -5.637824782863649e+200], [426.0, -1.631412582796466e+200], [426.0, -2.6997884113771293e+200], [426.0, -2.16561017974114e+200], [426.0, -2.432705542930831e+200], [426.0, -6.973303047765357e+200], [426.0, -3.5010673301736894e+200], [423.0, -5.1036860712613506e+200], [426.0, -4.569483635297735e+200], [426.0, -4.8366065313273424e+200], [426.0, -3.7682116836198606e+200], [426.0, -4.035280732087163e+200], [426.0, -4.30240382737326e+200], [426.0, -5.637854708359767e+200], [425.0, -5.370747025760809e+200], [426.0, -1.6314117215297833e+200], [426.0, -2.4327196425572153e+200], [426.0, -2.6998226404080913e+200], [426.0, -2.165660211000094e+200], [426.0, -3.501059744483827e+200], [426.0, -6.973296523441875e+200], [426.0, -3.7681886415977195e+200], [426.0, -4.0352942582281115e+200], [426.0, -4.5694874322491624e+200], [426.0, -4.302400466342248e+200], [426.0, -4.8365914437855846e+200], [426.0, -5.10368159937317e+200], [426.0, -5.370725614179215e+200], [426.0, -5.637820709262889e+200], [425.0, -1.6314336687381985e+200], [426.0, -2.69980689637474e+200], [426.0, -2.1656294897894173e+200], [426.0, -2.432726078840969e+200], [424.0, -6.973296481405136e+200], [423.0, -3.5010597493471395e+200], [426.0, -5.103674574369164e+200], [426.0, -4.836593745973542e+200], [426.0, -4.035296759584305e+200], [426.0, -4.302396822007812e+200], [426.0, -3.7681910941710366e+200], [426.0, -4.569488188476988e+200], [425.0, -5.637861312076577e+200], [426.0, -5.370725605755642e+200], [426.0, -1.6314453500726233e+200], [426.0, -2.165599214752067e+200], [426.0, -2.699794241440473e+200], [426.0, -2.4327230376368977e+200], [426.0, -6.973296527277405e+200], [425.0, -3.501059599640099e+200], [426.0, -4.035317307830877e+200], [425.0, -5.103684820832402e+200], [426.0, -3.768204300592532e+200], [426.0, -4.302404799328597e+200], [426.0, -4.569491086229549e+200], [425.0, -5.3707961712597074e+200], [425.0, -5.637881956839845e+200], [425.0, -2.165616090440108e+200], [426.0, -2.432704853920116e+200], [426.0, -6.97329644684084e+200], [426.0, -5.1036815262932476e+200], [426.0, -4.5694938781177295e+200], [424.0, -3.768207418962418e+200], [426.0, -4.035308774309346e+200], [426.0, -5.370725693620999e+200], [426.0, -5.6378542051902655e+200], [426.0, -2.432724275975479e+200], [426.0, -2.1656203308741957e+200], [426.0, -6.97330127031348e+200], [426.0, -3.768173656999898e+200], [426.0, -4.035279144191308e+200], [426.0, -4.5694673653514475e+200], [426.0, -5.103673587567382e+200], [424.0, -5.370725583151997e+200], [426.0, -5.637835648008652e+200], [426.0, -2.1656214617456622e+200], [426.0, -6.97333184442113e+200], [426.0, -2.4326960530187256e+200], [426.0, -4.035270781892072e+200], [424.0, -3.768201682638419e+200], [426.0, -5.103672547958193e+200], [426.0, -4.5694732577620404e+200], [426.0, -5.3707256950810564e+200], [426.0, -5.63782065074155e+200], [426.0, -2.432692661848455e+200], [426.0, -2.1656030253658075e+200], [426.0, -6.973299073631549e+200], [425.0, -4.035278120958995e+200], [426.0, -4.569468939068242e+200], [426.0, -5.1037073681363094e+200], [426.0, -3.768247217774581e+200], [426.0, -5.370725760713613e+200], [426.0, -5.637821227027598e+200], [426.0, -2.1656238699013893e+200], [425.0, -6.97332476922978e+200], [426.0, -2.4326839745233074e+200], [426.0, -6.973296498242153e+200], [426.0, -3.768202242140879e+200], [426.0, -4.035294383757816e+200], [426.0, -5.103677721825604e+200], [426.0, -4.569485340077277e+200], [426.0, -5.370725513016584e+200], [426.0, -5.6378396021746706e+200], [426.0, -6.973327478423689e+200], [424.0, -2.1656352622627875e+200], [426.0, -2.4327223676193842e+200], [1105.0, -8.575869217877528e+200], [16091.0, -5.3967126402426155e+200], [273816.0, -5.1296371890045807e+200], [13268.0, -5.663827708657452e+200], [4097.0, -6.732204712397214e+200], [2370.0, -6.198008928879178e+200], [3138.0, -5.9309147828575584e+200], [3454.0, -6.465096598004318e+200], [6671.0, -5.890022503079234e+199], [5349.0, -1.1231907160255635e+200], [5269.0, -8.561130325330294e+199], [7269.0, -3.2191756150460204e+199], [5026.0, -1.3902853208693979e+200], [10523.0, -1.924477574769854e+200], [4110.0, -1.6573880307536247e+200], [621.0, -2.4586972573899815e+200], [3728.0, -2.992856309458188e+200], [638.0, -2.1915828040503235e+200], [8933.0, -3.259976110836156e+200], [639.0, -2.725761387236231e+200], [639.0, -6.999283516596682e+200], [1192.0, -3.527047201794745e+200], [1108.0, -4.3283322902913595e+200], [591.0, -4.8589512768346685e+200], [1094.0, -7.50749389320385e+200], [1092.0, -7.774583362970685e+200], [1091.0, -7.77458346566685e+200], [1105.0, -8.575869182105956e+200], [1104.0, -8.575869323137907e+200], [1094.0, -7.507488932367248e+200], [424.0, -9.940919801298122e+200], [591.0, -3.7905814402703537e+200], [591.0, -4.591848138299814e+200], [134336.0, -4.0576784401230074e+200], [426.0, -5.630199252363896e+199], [426.0, -8.30138573950405e+199], [426.0, -1.0972120574068799e+200], [425.0, -1.364298589576107e+200], [426.0, -3.233974254140825e+200], [426.0, -6.172045108459397e+200], [426.0, -1.3642985430092172e+200], [426.0, -5.630136470441715e+199], [425.0, -8.301278398731778e+199], [426.0, -1.097203212536643e+200], [426.0, -3.2339740715825455e+200], [426.0, -6.172011158474626e+200], [426.0, -8.301326902166983e+199], [426.0, -1.3643291749067425e+200], [426.0, -1.0972032445764996e+200], [426.0, -5.630132455429234e+199], [426.0, -3.233994925665355e+200], [426.0, -6.172053369713605e+200], [426.0, -1.3643353307778577e+200], [426.0, -5.630597659893403e+199], [426.0, -8.30142538977433e+199], [426.0, -1.0972552342623874e+200], [426.0, -3.233992907767088e+200], [426.0, -6.172033997865144e+200], [426.0, -6.172033197783973e+200], [426.0, -1.3643284521579187e+200], [426.0, -8.301524391351103e+199], [426.0, -1.0972095504667247e+200], [425.0, -5.630225899800754e+199], [426.0, -3.233981514019957e+200], [426.0, -6.172093572722878e+200], [426.0, -8.301470291376116e+199], [426.0, -1.3643173387998039e+200], [426.0, -1.0972061747057479e+200], [426.0, -5.630128817408035e+199], [425.0, -3.2339953635870745e+200], [426.0, -5.630410908437442e+199], [425.0, -6.172065630909145e+200], [426.0, -1.0972121532950132e+200], [426.0, -8.301396848101225e+199], [426.0, -1.3643067439870253e+200], [426.0, -3.23396443856905e+200], [426.0, -6.172011716175886e+200], [425.0, -1.097203224972522e+200], [426.0, -5.630129488521025e+199], [426.0, -8.30115112186328e+199], [425.0, -1.364320775386538e+200], [425.0, -3.233989109382495e+200], [426.0, -5.630133667622966e+199], [426.0, -6.172011358851811e+200], [426.0, -8.301457384463526e+199], [425.0, -1.3643385252643016e+200], [426.0, -1.0972040817108227e+200], [1099.0, -9.37716226752574e+200], [426.0, -3.233964592969528e+200], [426.0, -6.172027725802982e+200], [426.0, -5.630128950138126e+199], [426.0, -1.0972554856879176e+200], [426.0, -1.3643573403135874e+200], [426.0, -8.301449686392216e+199], [426.0, -3.234001157444606e+200], [426.0, -5.630128076077131e+199], [426.0, -5.630133066157236e+199], [426.0, -5.630130355384894e+199], [426.0, -8.301253360303553e+199], [426.0, -8.301276066438959e+199], [426.0, -8.301461213879744e+199], [426.0, -8.301638135967607e+199], [425.0, -1.0972030272156083e+200], [426.0, -1.0972035405142377e+200], [426.0, -1.0972632956885114e+200], [426.0, -1.3643095187621134e+200], [424.0, -1.3643338836128918e+200], [426.0, -1.364337757813388e+200], [426.0, -3.2340030092659486e+200], [426.0, -3.2340010616684556e+200], [426.0, -3.234014987777105e+200], [426.0, -3.2339748282174116e+200], [426.0, -6.172031493107091e+200], [426.0, -6.172029747396637e+200], [426.0, -6.172030657151857e+200], [426.0, -6.17204680264536e+200], [4930.0, -7.259198223775826e+200], [7101.0, -7.52629650281968e+200]]}, \"id\": \"el19999144640400\"});\n",
        "            })\n",
        "         });\n",
        "}\n",
        "</script>"
       ],
       "metadata": {},
       "output_type": "display_data",
       "png": "[encoded data removed]",
       "text": [
        "<matplotlib.figure.Figure at 0x89f0990>"
       ]
      }
     ],
     "prompt_number": 545
    },
    {
     "cell_type": "code",
     "collapsed": false,
     "input": [],
     "language": "python",
     "metadata": {},
     "outputs": [],
     "prompt_number": 545
    },
    {
     "cell_type": "markdown",
     "metadata": {},
     "source": [
      "# decision Tree"
     ]
    },
    {
     "cell_type": "code",
     "collapsed": false,
     "input": [
      "'''\n",
      "# Load and parse the data file into an RDD of LabeledPoint.\n",
      "from pyspark.mllib.util import MLUtils\n",
      "data = MLUtils.loadLibSVMFile(sc,\"test_libsvm.data\")\n",
      "data.take(1)[0].label,data.take(1)[0].features\n",
      "'''"
     ],
     "language": "python",
     "metadata": {},
     "outputs": [
      {
       "metadata": {},
       "output_type": "pyout",
       "prompt_number": 556,
       "text": [
        "'\\n# Load and parse the data file into an RDD of LabeledPoint.\\nfrom pyspark.mllib.util import MLUtils\\ndata = MLUtils.loadLibSVMFile(sc,\"test_libsvm.data\")\\ndata.take(1)[0].label,data.take(1)[0].features\\n'"
       ]
      }
     ],
     "prompt_number": 556
    },
    {
     "cell_type": "code",
     "collapsed": false,
     "input": [
      "from numpy import array\n",
      "from pyspark.mllib.regression import LabeledPoint\n",
      "from pyspark.mllib.linalg import Vectors\n",
      "from pyspark.mllib.tree import DecisionTree\n",
      "\n",
      "#df.map(lambda x: len(x)).collect()\n",
      "features =[\"response\", \"X-Runtime\", \"timestampStartEnd\",\"Content-TypeID\",\"methodID\",\"pathID\", \"msgID\" ]\n",
      "                            \n",
      "def parsedVector(line):\n",
      "    length =len(line[1:])\n",
      "    v = zip(*[ (i,x) for i,x in enumerate(line[1:])])\n",
      "\n",
      "    sv1 = Vectors.sparse(length, v[0], v[1])\n",
      "\n",
      "    return LabeledPoint(line[0], sv1) #, list(v[1])))\n",
      "    \n",
      "    \n",
      "d2=df.map(lambda x: [x.get(f) or 0 for i,f in enumerate(features)])\n",
      "\n",
      "d2=d2.map(parsedVector)\n",
      "d2.take(2)"
     ],
     "language": "python",
     "metadata": {},
     "outputs": [
      {
       "metadata": {},
       "output_type": "pyout",
       "prompt_number": 557,
       "text": [
        "[LabeledPoint(425.0, (6,[0,1,2,3,4,5],[0.00172,0.0624279975891,0.0,1.0,1.0,1.0])),\n",
        " LabeledPoint(426.0, (6,[0,1,2,3,4,5],[0.001378,0.0623841285706,0.0,1.0,6.0,1.0]))]"
       ]
      }
     ],
     "prompt_number": 557
    },
    {
     "cell_type": "code",
     "collapsed": false,
     "input": [
      "for i,x in enumerate(features): print i,x\n"
     ],
     "language": "python",
     "metadata": {},
     "outputs": [
      {
       "output_type": "stream",
       "stream": "stdout",
       "text": [
        "0 response\n",
        "1 X-Runtime\n",
        "2 timestampStartEnd\n",
        "3 Content-TypeID\n",
        "4 methodID\n",
        "5 pathID\n",
        "6 msgID\n"
       ]
      }
     ],
     "prompt_number": 558
    },
    {
     "cell_type": "code",
     "collapsed": false,
     "input": [
      "\n",
      "# Split the data into training and test sets (30% held out for testing)\n",
      "(trainingData, testData) = d2.randomSplit([0.7, 0.3])\n",
      "\n",
      "# Train a DecisionTree model.\n",
      "#  Empty categoricalFeaturesInfo indicates all features are continuous.\n",
      "model = DecisionTree.trainRegressor(trainingData, categoricalFeaturesInfo={},\n",
      "                                    impurity=\"variance\", maxDepth=5, maxBins=12)\n",
      "\n",
      "# Evaluate model on test instances and compute test error\n",
      "predictions = model.predict(testData.map(lambda x: x.features))\n",
      "labelsAndPredictions = testData.map(lambda lp: lp.label).zip(predictions)\n",
      "testMSE = labelsAndPredictions.map(lambda (v, p): (v - p) * (v - p)).sum() / float(testData.count())\n",
      "print('Test Mean Squared Error = ' + str(testMSE))\n",
      "print('Learned regression tree model:')\n",
      "print(model.toDebugString())\n"
     ],
     "language": "python",
     "metadata": {},
     "outputs": [
      {
       "output_type": "stream",
       "stream": "stdout",
       "text": [
        "Test Mean Squared Error = 134003894.15\n",
        "Learned regression tree model:\n",
        "DecisionTreeModel regressor of depth 5 with 41 nodes\n",
        "  If (feature 2 <= 2.0)\n",
        "   If (feature 2 <= 0.0)\n",
        "    If (feature 4 <= 26.0)\n",
        "     If (feature 0 <= 0.001288)\n",
        "      If (feature 1 <= 0.03411102294921875)\n",
        "       Predict: 425.8333333333333\n",
        "      Else (feature 1 > 0.03411102294921875)\n",
        "       Predict: 425.9714285714286\n",
        "     Else (feature 0 > 0.001288)\n",
        "      If (feature 0 <= 0.00132)\n",
        "       Predict: 425.5217391304348\n",
        "      Else (feature 0 > 0.00132)\n",
        "       Predict: 425.7816091954023\n",
        "    Else (feature 4 > 26.0)\n",
        "     If (feature 1 <= 0.007027864456176758)\n",
        "      Predict: 1092.6666666666667\n",
        "     Else (feature 1 > 0.007027864456176758)\n",
        "      If (feature 1 <= 0.0071871280670166016)\n",
        "       Predict: 1095.875\n",
        "      Else (feature 1 > 0.0071871280670166016)\n",
        "       Predict: 1095.25\n",
        "   Else (feature 2 > 0.0)\n",
        "    If (feature 0 <= 0.010797)\n",
        "     Predict: 591.0\n",
        "    Else (feature 0 > 0.010797)\n",
        "     If (feature 1 <= 0.007027864456176758)\n",
        "      Predict: 6249.5\n",
        "     Else (feature 1 > 0.007027864456176758)\n",
        "      Predict: 5670.666666666667\n",
        "  Else (feature 2 > 2.0)\n",
        "   If (feature 1 <= 0.03411102294921875)\n",
        "    If (feature 4 <= 7.0)\n",
        "     If (feature 0 <= 0.001491)\n",
        "      If (feature 4 <= 2.0)\n",
        "       Predict: 6970.0\n",
        "      Else (feature 4 > 2.0)\n",
        "       Predict: 4568.0\n",
        "     Else (feature 0 > 0.001491)\n",
        "      If (feature 1 <= 0.007027864456176758)\n",
        "       Predict: 5349.0\n",
        "      Else (feature 1 > 0.007027864456176758)\n",
        "       Predict: 10523.0\n",
        "    Else (feature 4 > 7.0)\n",
        "     If (feature 0 <= 0.001352)\n",
        "      Predict: 4097.0\n",
        "     Else (feature 0 > 0.001352)\n",
        "      If (feature 0 <= 0.001678)\n",
        "       Predict: 2245.3333333333335\n",
        "      Else (feature 0 > 0.001678)\n",
        "       Predict: 979.6666666666666\n",
        "   Else (feature 1 > 0.03411102294921875)\n",
        "    If (feature 0 <= 0.001491)\n",
        "     Predict: 273816.0\n",
        "    Else (feature 0 > 0.001491)\n",
        "     If (feature 0 <= 0.002527)\n",
        "      Predict: 621.0\n",
        "     Else (feature 0 > 0.002527)\n",
        "      If (feature 1 <= 0.04150104522705078)\n",
        "       Predict: 13268.0\n",
        "      Else (feature 1 > 0.04150104522705078)\n",
        "       Predict: 8933.0\n",
        "\n"
       ]
      }
     ],
     "prompt_number": 559
    },
    {
     "cell_type": "code",
     "collapsed": false,
     "input": [
      "# \n",
      "plt.xlabel(\"response\")\n",
      "plt.ylabel(\"prediction\")\n",
      "plt.scatter(*zip(*labelsAndPredictions.collect()))"
     ],
     "language": "python",
     "metadata": {},
     "outputs": [
      {
       "metadata": {},
       "output_type": "pyout",
       "prompt_number": 560,
       "text": [
        "<matplotlib.collections.PathCollection at 0x9881590>"
       ]
      },
      {
       "html": [
        "\n",
        "\n",
        "<style>\n",
        "\n",
        "</style>\n",
        "\n",
        "<div id=\"fig_el199991571911207396536530\"></div>\n",
        "<script>\n",
        "function mpld3_load_lib(url, callback){\n",
        "  var s = document.createElement('script');\n",
        "  s.src = url;\n",
        "  s.async = true;\n",
        "  s.onreadystatechange = s.onload = callback;\n",
        "  s.onerror = function(){console.warn(\"failed to load library \" + url);};\n",
        "  document.getElementsByTagName(\"head\")[0].appendChild(s);\n",
        "}\n",
        "\n",
        "if(typeof(mpld3) !== \"undefined\" && mpld3._mpld3IsLoaded){\n",
        "   // already loaded: just create the figure\n",
        "   !function(mpld3){\n",
        "       \n",
        "       mpld3.draw_figure(\"fig_el199991571911207396536530\", {\"axes\": [{\"xlim\": [-20000.0, 160000.0], \"yscale\": \"linear\", \"axesbg\": \"#FFFFFF\", \"texts\": [{\"v_baseline\": \"hanging\", \"h_anchor\": \"middle\", \"color\": \"#000000\", \"text\": \"response\", \"coordinates\": \"axes\", \"zorder\": 3, \"alpha\": 1, \"fontsize\": 10.0, \"position\": [0.5, -0.080645161290322578], \"rotation\": -0.0, \"id\": \"el19999159858064\"}, {\"v_baseline\": \"auto\", \"h_anchor\": \"middle\", \"color\": \"#000000\", \"text\": \"prediction\", \"coordinates\": \"axes\", \"zorder\": 3, \"alpha\": 1, \"fontsize\": 10.0, \"position\": [-0.099924395161290341, 0.5], \"rotation\": -90.0, \"id\": \"el19999159806480\"}], \"zoomable\": true, \"images\": [], \"xdomain\": [-20000.0, 160000.0], \"ylim\": [0.0, 7000.0], \"paths\": [], \"sharey\": [], \"sharex\": [], \"axesbgalpha\": null, \"axes\": [{\"scale\": \"linear\", \"tickformat\": null, \"grid\": {\"gridOn\": false}, \"fontsize\": 10.0, \"position\": \"bottom\", \"nticks\": 10, \"tickvalues\": null}, {\"scale\": \"linear\", \"tickformat\": null, \"grid\": {\"gridOn\": false}, \"fontsize\": 10.0, \"position\": \"left\", \"nticks\": 8, \"tickvalues\": null}], \"lines\": [], \"markers\": [], \"id\": \"el19999152152144\", \"ydomain\": [0.0, 7000.0], \"collections\": [{\"paths\": [[[[0.0, -0.5], [0.13260155, -0.5], [0.25978993539242673, -0.44731684579412084], [0.3535533905932738, -0.3535533905932738], [0.44731684579412084, -0.25978993539242673], [0.5, -0.13260155], [0.5, 0.0], [0.5, 0.13260155], [0.44731684579412084, 0.25978993539242673], [0.3535533905932738, 0.3535533905932738], [0.25978993539242673, 0.44731684579412084], [0.13260155, 0.5], [0.0, 0.5], [-0.13260155, 0.5], [-0.25978993539242673, 0.44731684579412084], [-0.3535533905932738, 0.3535533905932738], [-0.44731684579412084, 0.25978993539242673], [-0.5, 0.13260155], [-0.5, 0.0], [-0.5, -0.13260155], [-0.44731684579412084, -0.25978993539242673], [-0.3535533905932738, -0.3535533905932738], [-0.25978993539242673, -0.44731684579412084], [-0.13260155, -0.5], [0.0, -0.5]], [\"M\", \"C\", \"C\", \"C\", \"C\", \"C\", \"C\", \"C\", \"C\", \"Z\"]]], \"edgecolors\": [\"#000000\"], \"edgewidths\": [1.0], \"offsets\": \"data01\", \"yindex\": 1, \"id\": \"el19999159913360\", \"pathtransforms\": [[4.969039949999533, 0.0, 0.0, 4.969039949999533, 0.0, 0.0]], \"pathcoordinates\": \"display\", \"offsetcoordinates\": \"data\", \"zorder\": 1, \"xindex\": 0, \"alphas\": [null], \"facecolors\": [\"#0000FF\"]}], \"xscale\": \"linear\", \"bbox\": [0.125, 0.125, 0.77500000000000002, 0.77500000000000002]}], \"height\": 320.0, \"width\": 480.0, \"plugins\": [{\"type\": \"reset\"}, {\"enabled\": false, \"button\": true, \"type\": \"zoom\"}, {\"enabled\": false, \"button\": true, \"type\": \"boxzoom\"}], \"data\": {\"data01\": [[425.0, 425.7816091954023], [426.0, 425.7816091954023], [426.0, 425.7816091954023], [426.0, 425.7816091954023], [426.0, 425.7816091954023], [426.0, 425.7816091954023], [424.0, 425.8333333333333], [426.0, 425.7816091954023], [425.0, 425.7816091954023], [426.0, 425.7816091954023], [425.0, 425.7816091954023], [425.0, 425.9714285714286], [426.0, 425.7816091954023], [425.0, 425.7816091954023], [426.0, 425.7816091954023], [426.0, 425.9714285714286], [426.0, 425.7816091954023], [426.0, 425.9714285714286], [426.0, 425.7816091954023], [426.0, 425.7816091954023], [426.0, 425.7816091954023], [426.0, 425.9714285714286], [426.0, 425.9714285714286], [426.0, 425.7816091954023], [426.0, 425.7816091954023], [426.0, 425.7816091954023], [426.0, 425.7816091954023], [426.0, 425.7816091954023], [425.0, 425.7816091954023], [6552.0, 6249.5], [426.0, 425.7816091954023], [426.0, 425.7816091954023], [426.0, 425.7816091954023], [426.0, 425.7816091954023], [425.0, 425.7816091954023], [426.0, 425.7816091954023], [0.0, 425.8333333333333], [1092.0, 1095.25], [5430.0, 6249.5], [6254.0, 6249.5], [1388.0, 979.6666666666666], [426.0, 425.9714285714286], [426.0, 425.7816091954023], [425.0, 425.9714285714286], [426.0, 425.7816091954023], [426.0, 425.8333333333333], [425.0, 425.7816091954023], [426.0, 425.7816091954023], [426.0, 425.5217391304348], [425.0, 425.9714285714286], [425.0, 425.7816091954023], [426.0, 425.7816091954023], [425.0, 425.7816091954023], [426.0, 425.7816091954023], [426.0, 425.7816091954023], [426.0, 425.7816091954023], [426.0, 425.7816091954023], [426.0, 425.7816091954023], [425.0, 425.7816091954023], [426.0, 425.7816091954023], [426.0, 425.7816091954023], [426.0, 425.7816091954023], [426.0, 425.7816091954023], [425.0, 425.7816091954023], [426.0, 425.7816091954023], [426.0, 425.7816091954023], [426.0, 425.9714285714286], [426.0, 425.9714285714286], [425.0, 425.7816091954023], [426.0, 425.9714285714286], [426.0, 425.7816091954023], [426.0, 425.7816091954023], [426.0, 425.7816091954023], [426.0, 425.7816091954023], [426.0, 425.7816091954023], [426.0, 425.9714285714286], [426.0, 425.7816091954023], [424.0, 425.7816091954023], [423.0, 425.7816091954023], [426.0, 425.7816091954023], [426.0, 425.5217391304348], [426.0, 425.9714285714286], [425.0, 425.7816091954023], [426.0, 425.7816091954023], [426.0, 425.7816091954023], [425.0, 425.7816091954023], [426.0, 425.7816091954023], [426.0, 425.7816091954023], [426.0, 425.7816091954023], [426.0, 425.7816091954023], [426.0, 425.7816091954023], [426.0, 425.7816091954023], [426.0, 425.9714285714286], [426.0, 425.7816091954023], [426.0, 425.7816091954023], [425.0, 425.7816091954023], [426.0, 425.7816091954023], [426.0, 425.7816091954023], [426.0, 425.9714285714286], [426.0, 425.7816091954023], [426.0, 425.5217391304348], [16091.0, 4097.0], [3138.0, 979.6666666666666], [3454.0, 979.6666666666666], [5269.0, 621.0], [639.0, 4097.0], [1091.0, 1095.875], [1104.0, 1095.25], [424.0, 4097.0], [134336.0, 591.0], [426.0, 425.7816091954023], [426.0, 425.7816091954023], [426.0, 425.8333333333333], [426.0, 425.7816091954023], [426.0, 425.7816091954023], [426.0, 425.7816091954023], [426.0, 425.7816091954023], [426.0, 425.8333333333333], [425.0, 425.7816091954023], [426.0, 425.8333333333333], [425.0, 425.7816091954023], [426.0, 425.7816091954023], [425.0, 425.7816091954023], [426.0, 425.9714285714286], [426.0, 425.7816091954023], [426.0, 425.7816091954023], [426.0, 425.9714285714286], [426.0, 425.9714285714286], [426.0, 425.7816091954023], [425.0, 425.7816091954023], [426.0, 425.5217391304348], [424.0, 425.7816091954023], [426.0, 425.9714285714286], [426.0, 425.7816091954023], [426.0, 425.9714285714286]]}, \"id\": \"el19999157191120\"});\n",
        "   }(mpld3);\n",
        "}else if(typeof define === \"function\" && define.amd){\n",
        "   // require.js is available: use it to load d3/mpld3\n",
        "   require.config({paths: {d3: \"https://mpld3.github.io/js/d3.v3.min\"}});\n",
        "   require([\"d3\"], function(d3){\n",
        "      window.d3 = d3;\n",
        "      mpld3_load_lib(\"https://mpld3.github.io/js/mpld3.v0.2.js\", function(){\n",
        "         \n",
        "         mpld3.draw_figure(\"fig_el199991571911207396536530\", {\"axes\": [{\"xlim\": [-20000.0, 160000.0], \"yscale\": \"linear\", \"axesbg\": \"#FFFFFF\", \"texts\": [{\"v_baseline\": \"hanging\", \"h_anchor\": \"middle\", \"color\": \"#000000\", \"text\": \"response\", \"coordinates\": \"axes\", \"zorder\": 3, \"alpha\": 1, \"fontsize\": 10.0, \"position\": [0.5, -0.080645161290322578], \"rotation\": -0.0, \"id\": \"el19999159858064\"}, {\"v_baseline\": \"auto\", \"h_anchor\": \"middle\", \"color\": \"#000000\", \"text\": \"prediction\", \"coordinates\": \"axes\", \"zorder\": 3, \"alpha\": 1, \"fontsize\": 10.0, \"position\": [-0.099924395161290341, 0.5], \"rotation\": -90.0, \"id\": \"el19999159806480\"}], \"zoomable\": true, \"images\": [], \"xdomain\": [-20000.0, 160000.0], \"ylim\": [0.0, 7000.0], \"paths\": [], \"sharey\": [], \"sharex\": [], \"axesbgalpha\": null, \"axes\": [{\"scale\": \"linear\", \"tickformat\": null, \"grid\": {\"gridOn\": false}, \"fontsize\": 10.0, \"position\": \"bottom\", \"nticks\": 10, \"tickvalues\": null}, {\"scale\": \"linear\", \"tickformat\": null, \"grid\": {\"gridOn\": false}, \"fontsize\": 10.0, \"position\": \"left\", \"nticks\": 8, \"tickvalues\": null}], \"lines\": [], \"markers\": [], \"id\": \"el19999152152144\", \"ydomain\": [0.0, 7000.0], \"collections\": [{\"paths\": [[[[0.0, -0.5], [0.13260155, -0.5], [0.25978993539242673, -0.44731684579412084], [0.3535533905932738, -0.3535533905932738], [0.44731684579412084, -0.25978993539242673], [0.5, -0.13260155], [0.5, 0.0], [0.5, 0.13260155], [0.44731684579412084, 0.25978993539242673], [0.3535533905932738, 0.3535533905932738], [0.25978993539242673, 0.44731684579412084], [0.13260155, 0.5], [0.0, 0.5], [-0.13260155, 0.5], [-0.25978993539242673, 0.44731684579412084], [-0.3535533905932738, 0.3535533905932738], [-0.44731684579412084, 0.25978993539242673], [-0.5, 0.13260155], [-0.5, 0.0], [-0.5, -0.13260155], [-0.44731684579412084, -0.25978993539242673], [-0.3535533905932738, -0.3535533905932738], [-0.25978993539242673, -0.44731684579412084], [-0.13260155, -0.5], [0.0, -0.5]], [\"M\", \"C\", \"C\", \"C\", \"C\", \"C\", \"C\", \"C\", \"C\", \"Z\"]]], \"edgecolors\": [\"#000000\"], \"edgewidths\": [1.0], \"offsets\": \"data01\", \"yindex\": 1, \"id\": \"el19999159913360\", \"pathtransforms\": [[4.969039949999533, 0.0, 0.0, 4.969039949999533, 0.0, 0.0]], \"pathcoordinates\": \"display\", \"offsetcoordinates\": \"data\", \"zorder\": 1, \"xindex\": 0, \"alphas\": [null], \"facecolors\": [\"#0000FF\"]}], \"xscale\": \"linear\", \"bbox\": [0.125, 0.125, 0.77500000000000002, 0.77500000000000002]}], \"height\": 320.0, \"width\": 480.0, \"plugins\": [{\"type\": \"reset\"}, {\"enabled\": false, \"button\": true, \"type\": \"zoom\"}, {\"enabled\": false, \"button\": true, \"type\": \"boxzoom\"}], \"data\": {\"data01\": [[425.0, 425.7816091954023], [426.0, 425.7816091954023], [426.0, 425.7816091954023], [426.0, 425.7816091954023], [426.0, 425.7816091954023], [426.0, 425.7816091954023], [424.0, 425.8333333333333], [426.0, 425.7816091954023], [425.0, 425.7816091954023], [426.0, 425.7816091954023], [425.0, 425.7816091954023], [425.0, 425.9714285714286], [426.0, 425.7816091954023], [425.0, 425.7816091954023], [426.0, 425.7816091954023], [426.0, 425.9714285714286], [426.0, 425.7816091954023], [426.0, 425.9714285714286], [426.0, 425.7816091954023], [426.0, 425.7816091954023], [426.0, 425.7816091954023], [426.0, 425.9714285714286], [426.0, 425.9714285714286], [426.0, 425.7816091954023], [426.0, 425.7816091954023], [426.0, 425.7816091954023], [426.0, 425.7816091954023], [426.0, 425.7816091954023], [425.0, 425.7816091954023], [6552.0, 6249.5], [426.0, 425.7816091954023], [426.0, 425.7816091954023], [426.0, 425.7816091954023], [426.0, 425.7816091954023], [425.0, 425.7816091954023], [426.0, 425.7816091954023], [0.0, 425.8333333333333], [1092.0, 1095.25], [5430.0, 6249.5], [6254.0, 6249.5], [1388.0, 979.6666666666666], [426.0, 425.9714285714286], [426.0, 425.7816091954023], [425.0, 425.9714285714286], [426.0, 425.7816091954023], [426.0, 425.8333333333333], [425.0, 425.7816091954023], [426.0, 425.7816091954023], [426.0, 425.5217391304348], [425.0, 425.9714285714286], [425.0, 425.7816091954023], [426.0, 425.7816091954023], [425.0, 425.7816091954023], [426.0, 425.7816091954023], [426.0, 425.7816091954023], [426.0, 425.7816091954023], [426.0, 425.7816091954023], [426.0, 425.7816091954023], [425.0, 425.7816091954023], [426.0, 425.7816091954023], [426.0, 425.7816091954023], [426.0, 425.7816091954023], [426.0, 425.7816091954023], [425.0, 425.7816091954023], [426.0, 425.7816091954023], [426.0, 425.7816091954023], [426.0, 425.9714285714286], [426.0, 425.9714285714286], [425.0, 425.7816091954023], [426.0, 425.9714285714286], [426.0, 425.7816091954023], [426.0, 425.7816091954023], [426.0, 425.7816091954023], [426.0, 425.7816091954023], [426.0, 425.7816091954023], [426.0, 425.9714285714286], [426.0, 425.7816091954023], [424.0, 425.7816091954023], [423.0, 425.7816091954023], [426.0, 425.7816091954023], [426.0, 425.5217391304348], [426.0, 425.9714285714286], [425.0, 425.7816091954023], [426.0, 425.7816091954023], [426.0, 425.7816091954023], [425.0, 425.7816091954023], [426.0, 425.7816091954023], [426.0, 425.7816091954023], [426.0, 425.7816091954023], [426.0, 425.7816091954023], [426.0, 425.7816091954023], [426.0, 425.7816091954023], [426.0, 425.9714285714286], [426.0, 425.7816091954023], [426.0, 425.7816091954023], [425.0, 425.7816091954023], [426.0, 425.7816091954023], [426.0, 425.7816091954023], [426.0, 425.9714285714286], [426.0, 425.7816091954023], [426.0, 425.5217391304348], [16091.0, 4097.0], [3138.0, 979.6666666666666], [3454.0, 979.6666666666666], [5269.0, 621.0], [639.0, 4097.0], [1091.0, 1095.875], [1104.0, 1095.25], [424.0, 4097.0], [134336.0, 591.0], [426.0, 425.7816091954023], [426.0, 425.7816091954023], [426.0, 425.8333333333333], [426.0, 425.7816091954023], [426.0, 425.7816091954023], [426.0, 425.7816091954023], [426.0, 425.7816091954023], [426.0, 425.8333333333333], [425.0, 425.7816091954023], [426.0, 425.8333333333333], [425.0, 425.7816091954023], [426.0, 425.7816091954023], [425.0, 425.7816091954023], [426.0, 425.9714285714286], [426.0, 425.7816091954023], [426.0, 425.7816091954023], [426.0, 425.9714285714286], [426.0, 425.9714285714286], [426.0, 425.7816091954023], [425.0, 425.7816091954023], [426.0, 425.5217391304348], [424.0, 425.7816091954023], [426.0, 425.9714285714286], [426.0, 425.7816091954023], [426.0, 425.9714285714286]]}, \"id\": \"el19999157191120\"});\n",
        "      });\n",
        "    });\n",
        "}else{\n",
        "    // require.js not available: dynamically load d3 & mpld3\n",
        "    mpld3_load_lib(\"https://mpld3.github.io/js/d3.v3.min.js\", function(){\n",
        "         mpld3_load_lib(\"https://mpld3.github.io/js/mpld3.v0.2.js\", function(){\n",
        "                 \n",
        "                 mpld3.draw_figure(\"fig_el199991571911207396536530\", {\"axes\": [{\"xlim\": [-20000.0, 160000.0], \"yscale\": \"linear\", \"axesbg\": \"#FFFFFF\", \"texts\": [{\"v_baseline\": \"hanging\", \"h_anchor\": \"middle\", \"color\": \"#000000\", \"text\": \"response\", \"coordinates\": \"axes\", \"zorder\": 3, \"alpha\": 1, \"fontsize\": 10.0, \"position\": [0.5, -0.080645161290322578], \"rotation\": -0.0, \"id\": \"el19999159858064\"}, {\"v_baseline\": \"auto\", \"h_anchor\": \"middle\", \"color\": \"#000000\", \"text\": \"prediction\", \"coordinates\": \"axes\", \"zorder\": 3, \"alpha\": 1, \"fontsize\": 10.0, \"position\": [-0.099924395161290341, 0.5], \"rotation\": -90.0, \"id\": \"el19999159806480\"}], \"zoomable\": true, \"images\": [], \"xdomain\": [-20000.0, 160000.0], \"ylim\": [0.0, 7000.0], \"paths\": [], \"sharey\": [], \"sharex\": [], \"axesbgalpha\": null, \"axes\": [{\"scale\": \"linear\", \"tickformat\": null, \"grid\": {\"gridOn\": false}, \"fontsize\": 10.0, \"position\": \"bottom\", \"nticks\": 10, \"tickvalues\": null}, {\"scale\": \"linear\", \"tickformat\": null, \"grid\": {\"gridOn\": false}, \"fontsize\": 10.0, \"position\": \"left\", \"nticks\": 8, \"tickvalues\": null}], \"lines\": [], \"markers\": [], \"id\": \"el19999152152144\", \"ydomain\": [0.0, 7000.0], \"collections\": [{\"paths\": [[[[0.0, -0.5], [0.13260155, -0.5], [0.25978993539242673, -0.44731684579412084], [0.3535533905932738, -0.3535533905932738], [0.44731684579412084, -0.25978993539242673], [0.5, -0.13260155], [0.5, 0.0], [0.5, 0.13260155], [0.44731684579412084, 0.25978993539242673], [0.3535533905932738, 0.3535533905932738], [0.25978993539242673, 0.44731684579412084], [0.13260155, 0.5], [0.0, 0.5], [-0.13260155, 0.5], [-0.25978993539242673, 0.44731684579412084], [-0.3535533905932738, 0.3535533905932738], [-0.44731684579412084, 0.25978993539242673], [-0.5, 0.13260155], [-0.5, 0.0], [-0.5, -0.13260155], [-0.44731684579412084, -0.25978993539242673], [-0.3535533905932738, -0.3535533905932738], [-0.25978993539242673, -0.44731684579412084], [-0.13260155, -0.5], [0.0, -0.5]], [\"M\", \"C\", \"C\", \"C\", \"C\", \"C\", \"C\", \"C\", \"C\", \"Z\"]]], \"edgecolors\": [\"#000000\"], \"edgewidths\": [1.0], \"offsets\": \"data01\", \"yindex\": 1, \"id\": \"el19999159913360\", \"pathtransforms\": [[4.969039949999533, 0.0, 0.0, 4.969039949999533, 0.0, 0.0]], \"pathcoordinates\": \"display\", \"offsetcoordinates\": \"data\", \"zorder\": 1, \"xindex\": 0, \"alphas\": [null], \"facecolors\": [\"#0000FF\"]}], \"xscale\": \"linear\", \"bbox\": [0.125, 0.125, 0.77500000000000002, 0.77500000000000002]}], \"height\": 320.0, \"width\": 480.0, \"plugins\": [{\"type\": \"reset\"}, {\"enabled\": false, \"button\": true, \"type\": \"zoom\"}, {\"enabled\": false, \"button\": true, \"type\": \"boxzoom\"}], \"data\": {\"data01\": [[425.0, 425.7816091954023], [426.0, 425.7816091954023], [426.0, 425.7816091954023], [426.0, 425.7816091954023], [426.0, 425.7816091954023], [426.0, 425.7816091954023], [424.0, 425.8333333333333], [426.0, 425.7816091954023], [425.0, 425.7816091954023], [426.0, 425.7816091954023], [425.0, 425.7816091954023], [425.0, 425.9714285714286], [426.0, 425.7816091954023], [425.0, 425.7816091954023], [426.0, 425.7816091954023], [426.0, 425.9714285714286], [426.0, 425.7816091954023], [426.0, 425.9714285714286], [426.0, 425.7816091954023], [426.0, 425.7816091954023], [426.0, 425.7816091954023], [426.0, 425.9714285714286], [426.0, 425.9714285714286], [426.0, 425.7816091954023], [426.0, 425.7816091954023], [426.0, 425.7816091954023], [426.0, 425.7816091954023], [426.0, 425.7816091954023], [425.0, 425.7816091954023], [6552.0, 6249.5], [426.0, 425.7816091954023], [426.0, 425.7816091954023], [426.0, 425.7816091954023], [426.0, 425.7816091954023], [425.0, 425.7816091954023], [426.0, 425.7816091954023], [0.0, 425.8333333333333], [1092.0, 1095.25], [5430.0, 6249.5], [6254.0, 6249.5], [1388.0, 979.6666666666666], [426.0, 425.9714285714286], [426.0, 425.7816091954023], [425.0, 425.9714285714286], [426.0, 425.7816091954023], [426.0, 425.8333333333333], [425.0, 425.7816091954023], [426.0, 425.7816091954023], [426.0, 425.5217391304348], [425.0, 425.9714285714286], [425.0, 425.7816091954023], [426.0, 425.7816091954023], [425.0, 425.7816091954023], [426.0, 425.7816091954023], [426.0, 425.7816091954023], [426.0, 425.7816091954023], [426.0, 425.7816091954023], [426.0, 425.7816091954023], [425.0, 425.7816091954023], [426.0, 425.7816091954023], [426.0, 425.7816091954023], [426.0, 425.7816091954023], [426.0, 425.7816091954023], [425.0, 425.7816091954023], [426.0, 425.7816091954023], [426.0, 425.7816091954023], [426.0, 425.9714285714286], [426.0, 425.9714285714286], [425.0, 425.7816091954023], [426.0, 425.9714285714286], [426.0, 425.7816091954023], [426.0, 425.7816091954023], [426.0, 425.7816091954023], [426.0, 425.7816091954023], [426.0, 425.7816091954023], [426.0, 425.9714285714286], [426.0, 425.7816091954023], [424.0, 425.7816091954023], [423.0, 425.7816091954023], [426.0, 425.7816091954023], [426.0, 425.5217391304348], [426.0, 425.9714285714286], [425.0, 425.7816091954023], [426.0, 425.7816091954023], [426.0, 425.7816091954023], [425.0, 425.7816091954023], [426.0, 425.7816091954023], [426.0, 425.7816091954023], [426.0, 425.7816091954023], [426.0, 425.7816091954023], [426.0, 425.7816091954023], [426.0, 425.7816091954023], [426.0, 425.9714285714286], [426.0, 425.7816091954023], [426.0, 425.7816091954023], [425.0, 425.7816091954023], [426.0, 425.7816091954023], [426.0, 425.7816091954023], [426.0, 425.9714285714286], [426.0, 425.7816091954023], [426.0, 425.5217391304348], [16091.0, 4097.0], [3138.0, 979.6666666666666], [3454.0, 979.6666666666666], [5269.0, 621.0], [639.0, 4097.0], [1091.0, 1095.875], [1104.0, 1095.25], [424.0, 4097.0], [134336.0, 591.0], [426.0, 425.7816091954023], [426.0, 425.7816091954023], [426.0, 425.8333333333333], [426.0, 425.7816091954023], [426.0, 425.7816091954023], [426.0, 425.7816091954023], [426.0, 425.7816091954023], [426.0, 425.8333333333333], [425.0, 425.7816091954023], [426.0, 425.8333333333333], [425.0, 425.7816091954023], [426.0, 425.7816091954023], [425.0, 425.7816091954023], [426.0, 425.9714285714286], [426.0, 425.7816091954023], [426.0, 425.7816091954023], [426.0, 425.9714285714286], [426.0, 425.9714285714286], [426.0, 425.7816091954023], [425.0, 425.7816091954023], [426.0, 425.5217391304348], [424.0, 425.7816091954023], [426.0, 425.9714285714286], [426.0, 425.7816091954023], [426.0, 425.9714285714286]]}, \"id\": \"el19999157191120\"});\n",
        "            })\n",
        "         });\n",
        "}\n",
        "</script>"
       ],
       "metadata": {},
       "output_type": "display_data",
       "png": "[encoded data removed]",
       "text": [
        "<matplotlib.figure.Figure at 0x95e8bd0>"
       ]
      }
     ],
     "prompt_number": 560
    },
    {
     "cell_type": "code",
     "collapsed": false,
     "input": [],
     "language": "python",
     "metadata": {},
     "outputs": [],
     "prompt_number": 560
    },
    {
     "cell_type": "code",
     "collapsed": false,
     "input": [],
     "language": "python",
     "metadata": {},
     "outputs": [],
     "prompt_number": 560
    },
    {
     "cell_type": "code",
     "collapsed": false,
     "input": [],
     "language": "python",
     "metadata": {},
     "outputs": [],
     "prompt_number": 560
    },
    {
     "cell_type": "code",
     "collapsed": false,
     "input": [],
     "language": "python",
     "metadata": {},
     "outputs": []
    }
   ],
   "metadata": {}
  }
 ]
}