{
 "metadata": {
  "name": "",
  "signature": "sha256:6be9f104285e6929d7e08af058215e53f636a55fc3578c199e5db38a96108b2c"
 },
 "nbformat": 3,
 "nbformat_minor": 0,
 "worksheets": [
  {
   "cells": [
    {
     "cell_type": "markdown",
     "metadata": {},
     "source": [
      "# Using SPark + matplotlib + ipython mining pcap file\n",
      "\n",
      " \n",
      "**Tasks**\n",
      "* read and parse raw log files \n",
      "* read and reshape csv-files\n",
      "* spark + pandas\n",
      "* spark-mllibs\n",
      "    * linear regression  \n",
      "    * clustering algorithm\n",
      "    * decision tree\n",
      " "
     ]
    },
    {
     "cell_type": "markdown",
     "metadata": {},
     "source": [
      "#raw data"
     ]
    },
    {
     "cell_type": "code",
     "collapsed": false,
     "input": [
      "sc # SparkContext"
     ],
     "language": "python",
     "metadata": {},
     "outputs": [
      {
       "metadata": {},
       "output_type": "pyout",
       "prompt_number": 1,
       "text": [
        "<pyspark.context.SparkContext at 0x4514a90>"
       ]
      }
     ],
     "prompt_number": 1
    },
    {
     "cell_type": "code",
     "collapsed": false,
     "input": [
      "# creating an RDD (Resilient Distributed dataset)\n",
      "lines= sc.textFile(\"../dataLogs/learnDataSet.log\")\n",
      "lines"
     ],
     "language": "python",
     "metadata": {},
     "outputs": [
      {
       "metadata": {},
       "output_type": "pyout",
       "prompt_number": 2,
       "text": [
        "../dataLogs/learnDataSet.log MappedRDD[1] at textFile at NativeMethodAccessorImpl.java:-2"
       ]
      }
     ],
     "prompt_number": 2
    },
    {
     "cell_type": "code",
     "collapsed": false,
     "input": [
      "#Take a peek at the data.\n",
      "lines.take(1)   # returns an array"
     ],
     "language": "python",
     "metadata": {},
     "outputs": [
      {
       "metadata": {},
       "output_type": "pyout",
       "prompt_number": 3,
       "text": [
        "[u'5789:5:error,0:~8:response,4930:11:httpversion,8:1:1#1:1#]13:timestamp_end,17:1413247021.321856^3:msg,2:OK,15:timestamp_start,16:1413247021.31447^7:headers,1035:33:15:X-Frame-Options,10:SAMEORIGIN,]37:16:X-Xss-Protection,13:1; mode=block,]36:22:X-Content-Type-Options,7:nosniff,]30:15:X-Ua-Compatible,8:chrome=1,]30:22:X-Xhr-Current-Location,1:/,]44:12:Content-Type,24:text/html; charset=utf-8,]45:4:Etag,34:\"ea927ca92e0c7a85b168d210be0a5df4\",]56:13:Cache-Control,35:max-age=0, private, must-revalidate,]56:12:X-Request-Id,36:1c96e7f2-2bd3-4070-b2b9-73ad728c111f,]23:9:X-Runtime,8:0.017533,]50:6:Server,37:WEBrick/1.3.1 (Ruby/2.1.2/2014-05-08),]40:4:Date,29:Tue, 14 Oct 2014 00:36:07 GMT,]25:14:Content-Length,4:3726,]28:10:Connection,10:Keep-Alive,]44:10:Set-Cookie,26:request_method=GET; path=/,]393:10:Set-Cookie,374:_sample_app_session=NlljR05mSytQNzJ4N0gxQzA1VkJBQ3lDOUpEOWpwWFJnaGVOaUdFU0ZDek82RE5VK0I5V2NpY0RrRFcrSjZhT21oOTRZQW5UUzBhTDlIMUJ1QjNnZUZva3VCSEUzZ2FZeWsxMU5xcnE4S093aGpwaVBRbUUxeTFkSENINGFsdzMzUER6RVhHMkVyVCtmUTdzeS91S2lVc3hPU2V4Y1VOKy9GMzg0QUNNZFFzMFBUdWVUY1FvNmdiTnVRUGtQbzlULS1jWGEzRS9VcEtoWDc4bWtBTlNSajN3PT0%3D--a87e267085a6649f66c98a671fa8dac9629f7bd9; path=/; HttpOnly,]]7:content,3726:<!DOCTYPE html>']"
       ]
      }
     ],
     "prompt_number": 3
    },
    {
     "cell_type": "code",
     "collapsed": false,
     "input": [
      "# lines count\n",
      "lines.count()  #"
     ],
     "language": "python",
     "metadata": {},
     "outputs": [
      {
       "metadata": {},
       "output_type": "pyout",
       "prompt_number": 4,
       "text": [
        "19111"
       ]
      }
     ],
     "prompt_number": 4
    },
    {
     "cell_type": "code",
     "collapsed": false,
     "input": [
      "# filter short lines\n",
      "longlines = lines.filter(lambda line: len(line.split(\":\"))>10).cache()\n",
      "longlines.count()"
     ],
     "language": "python",
     "metadata": {},
     "outputs": [
      {
       "metadata": {},
       "output_type": "pyout",
       "prompt_number": 9,
       "text": [
        "35"
       ]
      }
     ],
     "prompt_number": 9
    },
    {
     "cell_type": "code",
     "collapsed": false,
     "input": [
      "longlines.take(1)"
     ],
     "language": "python",
     "metadata": {},
     "outputs": [
      {
       "metadata": {},
       "output_type": "pyout",
       "prompt_number": 10,
       "text": [
        "[u'5789:5:error,0:~8:response,4930:11:httpversion,8:1:1#1:1#]13:timestamp_end,17:1413247021.321856^3:msg,2:OK,15:timestamp_start,16:1413247021.31447^7:headers,1035:33:15:X-Frame-Options,10:SAMEORIGIN,]37:16:X-Xss-Protection,13:1; mode=block,]36:22:X-Content-Type-Options,7:nosniff,]30:15:X-Ua-Compatible,8:chrome=1,]30:22:X-Xhr-Current-Location,1:/,]44:12:Content-Type,24:text/html; charset=utf-8,]45:4:Etag,34:\"ea927ca92e0c7a85b168d210be0a5df4\",]56:13:Cache-Control,35:max-age=0, private, must-revalidate,]56:12:X-Request-Id,36:1c96e7f2-2bd3-4070-b2b9-73ad728c111f,]23:9:X-Runtime,8:0.017533,]50:6:Server,37:WEBrick/1.3.1 (Ruby/2.1.2/2014-05-08),]40:4:Date,29:Tue, 14 Oct 2014 00:36:07 GMT,]25:14:Content-Length,4:3726,]28:10:Connection,10:Keep-Alive,]44:10:Set-Cookie,26:request_method=GET; path=/,]393:10:Set-Cookie,374:_sample_app_session=NlljR05mSytQNzJ4N0gxQzA1VkJBQ3lDOUpEOWpwWFJnaGVOaUdFU0ZDek82RE5VK0I5V2NpY0RrRFcrSjZhT21oOTRZQW5UUzBhTDlIMUJ1QjNnZUZva3VCSEUzZ2FZeWsxMU5xcnE4S093aGpwaVBRbUUxeTFkSENINGFsdzMzUER6RVhHMkVyVCtmUTdzeS91S2lVc3hPU2V4Y1VOKy9GMzg0QUNNZFFzMFBUdWVUY1FvNmdiTnVRUGtQbzlULS1jWGEzRS9VcEtoWDc4bWtBTlNSajN3PT0%3D--a87e267085a6649f66c98a671fa8dac9629f7bd9; path=/; HttpOnly,]]7:content,3726:<!DOCTYPE html>']"
       ]
      }
     ],
     "prompt_number": 10
    },
    {
     "cell_type": "code",
     "collapsed": false,
     "input": [
      "#\n",
      "pageTupe = longlines.flatMap(lambda line: line.split(\":\")).filter(lambda x: x.find(\",\")>-1)  #.collect()\n",
      "pageTupe.take(10)"
     ],
     "language": "python",
     "metadata": {},
     "outputs": [
      {
       "metadata": {},
       "output_type": "pyout",
       "prompt_number": 15,
       "text": [
        "[u'error,0',\n",
        " u'response,4930',\n",
        " u'httpversion,8',\n",
        " u'timestamp_end,17',\n",
        " u'msg,2',\n",
        " u'OK,15',\n",
        " u'timestamp_start,16',\n",
        " u'headers,1035',\n",
        " u'X-Frame-Options,10',\n",
        " u'SAMEORIGIN,]37']"
       ]
      }
     ],
     "prompt_number": 15
    },
    {
     "cell_type": "code",
     "collapsed": false,
     "input": [
      "# Maximum and Minimum response size\n",
      "responseSize = pageTupe.filter(lambda x: x.split(\",\")[0]==\"response\").map(lambda w:int(w.split(\",\")[1])).cache()\n",
      "\n",
      "print \"responseSize max, min, count, mean\"\n",
      "responseSize.max(),responseSize.min(),responseSize.count(), int(responseSize.mean())"
     ],
     "language": "python",
     "metadata": {},
     "outputs": [
      {
       "output_type": "stream",
       "stream": "stdout",
       "text": [
        "responseSize max, min, count, mean\n"
       ]
      },
      {
       "metadata": {},
       "output_type": "pyout",
       "prompt_number": 33,
       "text": [
        "(273816, 421, 420, 1787)"
       ]
      }
     ],
     "prompt_number": 33
    },
    {
     "cell_type": "code",
     "collapsed": false,
     "input": [
      "# frequently words in this log files\n",
      "#\n",
      "import re\n",
      "def mapper(line):\n",
      "    words = re.split(\",\", line)\n",
      "    return [(w.lower(), 1)for w in words if w.isalpha()]\n",
      "\n",
      "#lines = sc.textFile(\"output3_df.txt\")\n",
      "word_freqs = lines.flatMap(mapper).reduceByKey(lambda a,b: a+b).collect()\n",
      "word_freqs = sorted(word_freqs, key= lambda x: ~x[1])[:10]\n",
      "word_freqs"
     ],
     "language": "python",
     "metadata": {},
     "outputs": [
      {
       "metadata": {},
       "output_type": "pyout",
       "prompt_number": 36,
       "text": [
        "[(u'deflate', 420),\n",
        " (u'sdch', 419),\n",
        " (u'button', 6),\n",
        " (u'select', 6),\n",
        " (u'input', 6),\n",
        " (u'textarea', 4),\n",
        " (u'var', 2),\n",
        " (u'label', 2),\n",
        " (u'canvas', 1),\n",
        " (u'figure', 1)]"
       ]
      }
     ],
     "prompt_number": 36
    },
    {
     "cell_type": "code",
     "collapsed": false,
     "input": [
      "%pylab inline\n",
      "import matplotlib.pyplot as plt\n",
      "\n",
      "words = [w[0] for w in word_freqs]\n",
      "y_pos = range(len(word_freqs))\n",
      "frequency = [w[1] for w in word_freqs]\n",
      "\n",
      "plt.barh(y_pos, frequency[::-1], align=\"center\", alpha=0.4)\n",
      "plt.yticks(y_pos, words[::-1])\n",
      "plt.xlabel(\"Frequency\")\n",
      "plt.title(\"Most common words\")\n",
      "#plt.show()"
     ],
     "language": "python",
     "metadata": {},
     "outputs": [
      {
       "output_type": "stream",
       "stream": "stdout",
       "text": [
        "Populating the interactive namespace from numpy and matplotlib\n"
       ]
      },
      {
       "metadata": {},
       "output_type": "pyout",
       "prompt_number": 38,
       "text": [
        "<matplotlib.text.Text at 0x4fd2850>"
       ]
      },
      {
       "metadata": {},
       "output_type": "display_data",
       "png": "[encoded data removed]",
       "text": [
        "<matplotlib.figure.Figure at 0x4a0f810>"
       ]
      }
     ],
     "prompt_number": 38
    },
    {
     "cell_type": "code",
     "collapsed": false,
     "input": [],
     "language": "python",
     "metadata": {},
     "outputs": []
    },
    {
     "cell_type": "markdown",
     "metadata": {},
     "source": [
      "# read pandas- dataframe"
     ]
    },
    {
     "cell_type": "code",
     "collapsed": false,
     "input": [
      "lines = sc.textFile(\"../dataLogs/output3_df.txt\")\n",
      "\n",
      "lines.distinct().count()"
     ],
     "language": "python",
     "metadata": {},
     "outputs": [
      {
       "metadata": {},
       "output_type": "pyout",
       "prompt_number": 349,
       "text": [
        "421"
       ]
      }
     ],
     "prompt_number": 349
    },
    {
     "cell_type": "code",
     "collapsed": false,
     "input": [
      "labels = lines.take(1)[0].split(\",\")\n",
      "lst=[labels.index(\"response\"),labels.index(\"X-Runtime\"),labels.index(\"timeStampStartEnd\")]\n",
      "lst"
     ],
     "language": "python",
     "metadata": {},
     "outputs": [
      {
       "metadata": {},
       "output_type": "pyout",
       "prompt_number": 350,
       "text": [
        "[37, 17, 41]"
       ]
      }
     ],
     "prompt_number": 350
    },
    {
     "cell_type": "code",
     "collapsed": false,
     "input": [
      "\n",
      "lines=lines.filter(lambda line: line.find(\"response\")<0)\n",
      "words=lines.map(lambda line: line.replace('\"', \"\"))\\\n",
      "           .map(lambda line: line.replace(\", \", \"  \"))\\\n",
      "           .map(lambda line: line.replace(\" ,\", \" \"))\\\n",
      "           .map(lambda line: line.split(\" \"))"
     ],
     "language": "python",
     "metadata": {},
     "outputs": [],
     "prompt_number": 331
    },
    {
     "cell_type": "code",
     "collapsed": false,
     "input": [
      "words.count()\n",
      "#lines.take(1)[0].find(\"response\")"
     ],
     "language": "python",
     "metadata": {},
     "outputs": [
      {
       "metadata": {},
       "output_type": "pyout",
       "prompt_number": 354,
       "text": [
        "420"
       ]
      }
     ],
     "prompt_number": 354
    },
    {
     "cell_type": "code",
     "collapsed": false,
     "input": [
      "words.take(1)"
     ],
     "language": "python",
     "metadata": {},
     "outputs": [
      {
       "metadata": {},
       "output_type": "pyout",
       "prompt_number": 355,
       "text": [
        "[[u'0',\n",
        "  u'gzip,deflate,sdch',\n",
        "  u'',\n",
        "  u'en-US,en;q=0.8,ms;q=0.6,id;q=0.4',\n",
        "  u'',\n",
        "  u'max-age=0',\n",
        "  u'private',\n",
        "  u'must-revalidate',\n",
        "  u'keep-alive,3726,text/html;',\n",
        "  u'charset=utf-8',\n",
        "  u'Tue',\n",
        "  u'14',\n",
        "  u'Oct',\n",
        "  u'2014',\n",
        "  u'00',\n",
        "  u'',\n",
        "  u'',\n",
        "  u'',\n",
        "  u'ea927ca92e0c7a85b168d210be0a5df4',\n",
        "  u'',\n",
        "  u'',\n",
        "  u',2,,WEBrick/1.3.1',\n",
        "  u'(Ruby/2.1.2/2014-05-08)',\n",
        "  u\"[[{u'request_method':\",\n",
        "  u\"u'GET'}\",\n",
        "  u\"{u'\",\n",
        "  u\"path':\",\n",
        "  u\"u'/'}]\",\n",
        "  u\"[{u'_sample_app_session':\",\n",
        "  u\"u'NlljR05mSytQNzJ4N0gxQzA1VkJBQ3lDOUpEOWpwWFJnaGVOaUdFU0ZDek82RE5VK0I5V2NpY0RrRFcrSjZhT21oOTRZQW5UUzBhTDlIMUJ1QjNnZUZva3VCSEUzZ2FZeWsxMU5xcnE4S093aGpwaVBRbUUxeTFkSENINGFsdzMzUER6RVhHMkVyVCtmUTdzeS91S2lVc3hPU2V4Y1VOKy9GMzg0QUNNZFFzMFBUdWVUY1FvNmdiTnVRUGtQbzlULS1jWGEzRS9VcEtoWDc4bWtBTlNSajN3PT0%3D--a87e267085a6649f66c98a671fa8dac9629f7bd9'}\",\n",
        "  u\"{u'\",\n",
        "  u\"path':\",\n",
        "  u\"u'/'}\",\n",
        "  u\"{u'\",\n",
        "  u\"HttpOnly':\",\n",
        "  u'None}]]',\n",
        "  u'nosniff,SAMEORIGIN,1c96e7f2-2bd3-4070-b2b9-73ad728c111f,0.017533,chrome=1,/,1;',\n",
        "  u'mode=block',\n",
        "  u'50.59.22.130,5',\n",
        "  u',200,0,0,399,54.165.254.99,path,1#1,54.165.254.99,GET,OK,/,80,789,1,4930,http,1413247021.055149,1413247021.052226,0.0029230117797851562']]"
       ]
      }
     ],
     "prompt_number": 355
    },
    {
     "cell_type": "code",
     "collapsed": false,
     "input": [
      "len(lines.take(1)[0].split(\",\"))"
     ],
     "language": "python",
     "metadata": {},
     "outputs": [
      {
       "metadata": {},
       "output_type": "pyout",
       "prompt_number": 356,
       "text": [
        "42"
       ]
      }
     ],
     "prompt_number": 356
    },
    {
     "cell_type": "code",
     "collapsed": false,
     "input": [],
     "language": "python",
     "metadata": {},
     "outputs": [],
     "prompt_number": 356
    },
    {
     "cell_type": "code",
     "collapsed": false,
     "input": [],
     "language": "python",
     "metadata": {},
     "outputs": []
    },
    {
     "cell_type": "markdown",
     "metadata": {},
     "source": [
      "# pandas dataframe to spark"
     ]
    },
    {
     "cell_type": "code",
     "collapsed": false,
     "input": [],
     "language": "python",
     "metadata": {},
     "outputs": []
    },
    {
     "cell_type": "code",
     "collapsed": false,
     "input": [
      "import pandas as pd\n",
      "dFile = \"../dataLogs/output3_df.txt\"\n",
      "DF = pd.DataFrame(pd.read_csv(dFile, header = 0)) #hea\n",
      "\n",
      "\n",
      "# only continoues columns\n",
      "labels=[key for key in dict(DF.dtypes) if dict(DF.dtypes)[key] in ['float64', 'int64']]\n",
      "\n",
      "print labels\n",
      "for l in [\"Content-Length\", \"Unnamed: 0\", \"content\",\"headers\",\"cert\",\"response\"]:\n",
      "    labels.remove(l)\n",
      "\n",
      "#data1=data.iloc[:,[37,17,41]]\n",
      "data1 = DF.loc[:,[\"response\"]+labels]\n",
      "data1[:5]"
     ],
     "language": "python",
     "metadata": {},
     "outputs": [
      {
       "output_type": "stream",
       "stream": "stdout",
       "text": [
        "['Content-Length', 'code', 'requestcount', 'port', 'Unnamed: 0', 'content', 'X-Runtime', 'Num-Cookie', 'error', 'response', 'request', 'headers', 'cert', 'timestamp_start', 'timestamp_end', 'timeStampStartEnd']\n"
       ]
      },
      {
       "html": [
        "<div style=\"max-height:1000px;max-width:1500px;overflow:auto;\">\n",
        "<table border=\"1\" class=\"dataframe\">\n",
        "  <thead>\n",
        "    <tr style=\"text-align: right;\">\n",
        "      <th></th>\n",
        "      <th>response</th>\n",
        "      <th>code</th>\n",
        "      <th>requestcount</th>\n",
        "      <th>port</th>\n",
        "      <th>X-Runtime</th>\n",
        "      <th>Num-Cookie</th>\n",
        "      <th>error</th>\n",
        "      <th>request</th>\n",
        "      <th>timestamp_start</th>\n",
        "      <th>timestamp_end</th>\n",
        "      <th>timeStampStartEnd</th>\n",
        "    </tr>\n",
        "  </thead>\n",
        "  <tbody>\n",
        "    <tr>\n",
        "      <th>0</th>\n",
        "      <td>  4930</td>\n",
        "      <td> 200</td>\n",
        "      <td> 1</td>\n",
        "      <td> 80</td>\n",
        "      <td> 0.017533</td>\n",
        "      <td> 2</td>\n",
        "      <td> 0</td>\n",
        "      <td>  789</td>\n",
        "      <td> 1.413247e+09</td>\n",
        "      <td> 1.413247e+09</td>\n",
        "      <td> 0.002923</td>\n",
        "    </tr>\n",
        "    <tr>\n",
        "      <th>1</th>\n",
        "      <td>  1108</td>\n",
        "      <td> 200</td>\n",
        "      <td> 2</td>\n",
        "      <td> 80</td>\n",
        "      <td> 0.003280</td>\n",
        "      <td> 0</td>\n",
        "      <td> 0</td>\n",
        "      <td> 1179</td>\n",
        "      <td> 1.413247e+09</td>\n",
        "      <td> 1.413247e+09</td>\n",
        "      <td> 0.005949</td>\n",
        "    </tr>\n",
        "    <tr>\n",
        "      <th>2</th>\n",
        "      <td> 16091</td>\n",
        "      <td> 200</td>\n",
        "      <td> 3</td>\n",
        "      <td> 80</td>\n",
        "      <td> 0.001283</td>\n",
        "      <td> 0</td>\n",
        "      <td> 0</td>\n",
        "      <td> 1162</td>\n",
        "      <td> 1.413247e+09</td>\n",
        "      <td> 1.413247e+09</td>\n",
        "      <td> 0.005786</td>\n",
        "    </tr>\n",
        "    <tr>\n",
        "      <th>3</th>\n",
        "      <td>   591</td>\n",
        "      <td> 200</td>\n",
        "      <td> 1</td>\n",
        "      <td> 80</td>\n",
        "      <td> 0.001312</td>\n",
        "      <td> 0</td>\n",
        "      <td> 0</td>\n",
        "      <td> 1198</td>\n",
        "      <td> 1.413247e+09</td>\n",
        "      <td> 1.413247e+09</td>\n",
        "      <td> 0.036682</td>\n",
        "    </tr>\n",
        "    <tr>\n",
        "      <th>4</th>\n",
        "      <td>   591</td>\n",
        "      <td> 200</td>\n",
        "      <td> 1</td>\n",
        "      <td> 80</td>\n",
        "      <td> 0.005190</td>\n",
        "      <td> 0</td>\n",
        "      <td> 0</td>\n",
        "      <td> 1195</td>\n",
        "      <td> 1.413247e+09</td>\n",
        "      <td> 1.413247e+09</td>\n",
        "      <td> 0.053798</td>\n",
        "    </tr>\n",
        "  </tbody>\n",
        "</table>\n",
        "</div>"
       ],
       "metadata": {},
       "output_type": "pyout",
       "prompt_number": 123,
       "text": [
        "   response  code  requestcount  port  X-Runtime  Num-Cookie  error  request  \\\n",
        "0      4930   200             1    80   0.017533           2      0      789   \n",
        "1      1108   200             2    80   0.003280           0      0     1179   \n",
        "2     16091   200             3    80   0.001283           0      0     1162   \n",
        "3       591   200             1    80   0.001312           0      0     1198   \n",
        "4       591   200             1    80   0.005190           0      0     1195   \n",
        "\n",
        "   timestamp_start  timestamp_end  timeStampStartEnd  \n",
        "0     1.413247e+09   1.413247e+09           0.002923  \n",
        "1     1.413247e+09   1.413247e+09           0.005949  \n",
        "2     1.413247e+09   1.413247e+09           0.005786  \n",
        "3     1.413247e+09   1.413247e+09           0.036682  \n",
        "4     1.413247e+09   1.413247e+09           0.053798  "
       ]
      }
     ],
     "prompt_number": 123
    },
    {
     "cell_type": "code",
     "collapsed": false,
     "input": [
      "#data1.drop('cert', axis=1, inplace=True)\n",
      "#data1.drop(\"Unnamed: 0\", axis=1, inplace=True)\n",
      "#data1.drop([\"Content-Length\", \"content\",\"header\",\"cert\",\"Unnamed: 0\"],axis =1)\n",
      "data1[:5]"
     ],
     "language": "python",
     "metadata": {},
     "outputs": [
      {
       "html": [
        "<div style=\"max-height:1000px;max-width:1500px;overflow:auto;\">\n",
        "<table border=\"1\" class=\"dataframe\">\n",
        "  <thead>\n",
        "    <tr style=\"text-align: right;\">\n",
        "      <th></th>\n",
        "      <th>response</th>\n",
        "      <th>code</th>\n",
        "      <th>requestcount</th>\n",
        "      <th>port</th>\n",
        "      <th>X-Runtime</th>\n",
        "      <th>Num-Cookie</th>\n",
        "      <th>error</th>\n",
        "      <th>request</th>\n",
        "      <th>timestamp_start</th>\n",
        "      <th>timestamp_end</th>\n",
        "      <th>timeStampStartEnd</th>\n",
        "    </tr>\n",
        "  </thead>\n",
        "  <tbody>\n",
        "    <tr>\n",
        "      <th>0</th>\n",
        "      <td>  4930</td>\n",
        "      <td> 200</td>\n",
        "      <td> 1</td>\n",
        "      <td> 80</td>\n",
        "      <td> 0.017533</td>\n",
        "      <td> 2</td>\n",
        "      <td> 0</td>\n",
        "      <td>  789</td>\n",
        "      <td> 1.413247e+09</td>\n",
        "      <td> 1.413247e+09</td>\n",
        "      <td> 0.002923</td>\n",
        "    </tr>\n",
        "    <tr>\n",
        "      <th>1</th>\n",
        "      <td>  1108</td>\n",
        "      <td> 200</td>\n",
        "      <td> 2</td>\n",
        "      <td> 80</td>\n",
        "      <td> 0.003280</td>\n",
        "      <td> 0</td>\n",
        "      <td> 0</td>\n",
        "      <td> 1179</td>\n",
        "      <td> 1.413247e+09</td>\n",
        "      <td> 1.413247e+09</td>\n",
        "      <td> 0.005949</td>\n",
        "    </tr>\n",
        "    <tr>\n",
        "      <th>2</th>\n",
        "      <td> 16091</td>\n",
        "      <td> 200</td>\n",
        "      <td> 3</td>\n",
        "      <td> 80</td>\n",
        "      <td> 0.001283</td>\n",
        "      <td> 0</td>\n",
        "      <td> 0</td>\n",
        "      <td> 1162</td>\n",
        "      <td> 1.413247e+09</td>\n",
        "      <td> 1.413247e+09</td>\n",
        "      <td> 0.005786</td>\n",
        "    </tr>\n",
        "    <tr>\n",
        "      <th>3</th>\n",
        "      <td>   591</td>\n",
        "      <td> 200</td>\n",
        "      <td> 1</td>\n",
        "      <td> 80</td>\n",
        "      <td> 0.001312</td>\n",
        "      <td> 0</td>\n",
        "      <td> 0</td>\n",
        "      <td> 1198</td>\n",
        "      <td> 1.413247e+09</td>\n",
        "      <td> 1.413247e+09</td>\n",
        "      <td> 0.036682</td>\n",
        "    </tr>\n",
        "    <tr>\n",
        "      <th>4</th>\n",
        "      <td>   591</td>\n",
        "      <td> 200</td>\n",
        "      <td> 1</td>\n",
        "      <td> 80</td>\n",
        "      <td> 0.005190</td>\n",
        "      <td> 0</td>\n",
        "      <td> 0</td>\n",
        "      <td> 1195</td>\n",
        "      <td> 1.413247e+09</td>\n",
        "      <td> 1.413247e+09</td>\n",
        "      <td> 0.053798</td>\n",
        "    </tr>\n",
        "  </tbody>\n",
        "</table>\n",
        "</div>"
       ],
       "metadata": {},
       "output_type": "pyout",
       "prompt_number": 124,
       "text": [
        "   response  code  requestcount  port  X-Runtime  Num-Cookie  error  request  \\\n",
        "0      4930   200             1    80   0.017533           2      0      789   \n",
        "1      1108   200             2    80   0.003280           0      0     1179   \n",
        "2     16091   200             3    80   0.001283           0      0     1162   \n",
        "3       591   200             1    80   0.001312           0      0     1198   \n",
        "4       591   200             1    80   0.005190           0      0     1195   \n",
        "\n",
        "   timestamp_start  timestamp_end  timeStampStartEnd  \n",
        "0     1.413247e+09   1.413247e+09           0.002923  \n",
        "1     1.413247e+09   1.413247e+09           0.005949  \n",
        "2     1.413247e+09   1.413247e+09           0.005786  \n",
        "3     1.413247e+09   1.413247e+09           0.036682  \n",
        "4     1.413247e+09   1.413247e+09           0.053798  "
       ]
      }
     ],
     "prompt_number": 124
    },
    {
     "cell_type": "code",
     "collapsed": false,
     "input": [
      "#for d in data1.iloc[:,[1,2]]:    print d\n",
      "data1.tail()"
     ],
     "language": "python",
     "metadata": {},
     "outputs": [
      {
       "html": [
        "<div style=\"max-height:1000px;max-width:1500px;overflow:auto;\">\n",
        "<table border=\"1\" class=\"dataframe\">\n",
        "  <thead>\n",
        "    <tr style=\"text-align: right;\">\n",
        "      <th></th>\n",
        "      <th>response</th>\n",
        "      <th>code</th>\n",
        "      <th>requestcount</th>\n",
        "      <th>port</th>\n",
        "      <th>X-Runtime</th>\n",
        "      <th>Num-Cookie</th>\n",
        "      <th>error</th>\n",
        "      <th>request</th>\n",
        "      <th>timestamp_start</th>\n",
        "      <th>timestamp_end</th>\n",
        "      <th>timeStampStartEnd</th>\n",
        "    </tr>\n",
        "  </thead>\n",
        "  <tbody>\n",
        "    <tr>\n",
        "      <th>415</th>\n",
        "      <td> 426</td>\n",
        "      <td> 304</td>\n",
        "      <td> 76</td>\n",
        "      <td> 80</td>\n",
        "      <td> 0.001339</td>\n",
        "      <td> 0</td>\n",
        "      <td> 0</td>\n",
        "      <td> 1366</td>\n",
        "      <td> 1.413247e+09</td>\n",
        "      <td> 1.413247e+09</td>\n",
        "      <td> 0.082960</td>\n",
        "    </tr>\n",
        "    <tr>\n",
        "      <th>416</th>\n",
        "      <td> 426</td>\n",
        "      <td> 304</td>\n",
        "      <td> 64</td>\n",
        "      <td> 80</td>\n",
        "      <td> 0.001294</td>\n",
        "      <td> 0</td>\n",
        "      <td> 0</td>\n",
        "      <td> 1354</td>\n",
        "      <td> 1.413247e+09</td>\n",
        "      <td> 1.413247e+09</td>\n",
        "      <td> 0.057667</td>\n",
        "    </tr>\n",
        "    <tr>\n",
        "      <th>417</th>\n",
        "      <td> 424</td>\n",
        "      <td> 304</td>\n",
        "      <td> 65</td>\n",
        "      <td> 80</td>\n",
        "      <td> 0.003148</td>\n",
        "      <td> 0</td>\n",
        "      <td> 0</td>\n",
        "      <td> 1357</td>\n",
        "      <td> 1.413247e+09</td>\n",
        "      <td> 1.413247e+09</td>\n",
        "      <td> 0.090919</td>\n",
        "    </tr>\n",
        "    <tr>\n",
        "      <th>418</th>\n",
        "      <td> 426</td>\n",
        "      <td> 304</td>\n",
        "      <td> 65</td>\n",
        "      <td> 80</td>\n",
        "      <td> 0.001717</td>\n",
        "      <td> 0</td>\n",
        "      <td> 0</td>\n",
        "      <td> 1357</td>\n",
        "      <td> 1.413247e+09</td>\n",
        "      <td> 1.413247e+09</td>\n",
        "      <td> 0.077946</td>\n",
        "    </tr>\n",
        "    <tr>\n",
        "      <th>419</th>\n",
        "      <td> 426</td>\n",
        "      <td> 304</td>\n",
        "      <td> 73</td>\n",
        "      <td> 80</td>\n",
        "      <td> 0.002074</td>\n",
        "      <td> 0</td>\n",
        "      <td> 0</td>\n",
        "      <td> 1359</td>\n",
        "      <td> 1.413247e+09</td>\n",
        "      <td> 1.413247e+09</td>\n",
        "      <td> 0.006924</td>\n",
        "    </tr>\n",
        "  </tbody>\n",
        "</table>\n",
        "</div>"
       ],
       "metadata": {},
       "output_type": "pyout",
       "prompt_number": 125,
       "text": [
        "     response  code  requestcount  port  X-Runtime  Num-Cookie  error  \\\n",
        "415       426   304            76    80   0.001339           0      0   \n",
        "416       426   304            64    80   0.001294           0      0   \n",
        "417       424   304            65    80   0.003148           0      0   \n",
        "418       426   304            65    80   0.001717           0      0   \n",
        "419       426   304            73    80   0.002074           0      0   \n",
        "\n",
        "     request  timestamp_start  timestamp_end  timeStampStartEnd  \n",
        "415     1366     1.413247e+09   1.413247e+09           0.082960  \n",
        "416     1354     1.413247e+09   1.413247e+09           0.057667  \n",
        "417     1357     1.413247e+09   1.413247e+09           0.090919  \n",
        "418     1357     1.413247e+09   1.413247e+09           0.077946  \n",
        "419     1359     1.413247e+09   1.413247e+09           0.006924  "
       ]
      }
     ],
     "prompt_number": 125
    },
    {
     "cell_type": "code",
     "collapsed": false,
     "input": [
      "# fill missing value\n",
      "data1=data1.fillna(0.001)"
     ],
     "language": "python",
     "metadata": {},
     "outputs": [],
     "prompt_number": 126
    },
    {
     "cell_type": "code",
     "collapsed": false,
     "input": [
      "#data1[\"code\"]\n",
      "print data1.drop_duplicates(subset = 'code', inplace = False)\n",
      "data1.count() #[:5]"
     ],
     "language": "python",
     "metadata": {},
     "outputs": [
      {
       "output_type": "stream",
       "stream": "stdout",
       "text": [
        "    response  code  requestcount  port  X-Runtime  Num-Cookie  error  request  \\\n",
        "0       4930   200             1    80   0.017533           2      0      789   \n",
        "29      1092   304            10    80   0.017735           1      0     1311   \n",
        "56      1388   302            12    80   0.086584           3      0     1542   \n",
        "\n",
        "    timestamp_start  timestamp_end  timeStampStartEnd  \n",
        "0      1.413247e+09   1.413247e+09           0.002923  \n",
        "29     1.413247e+09   1.413247e+09           0.007055  \n",
        "56     1.413247e+09   1.413247e+09           0.020036  \n"
       ]
      },
      {
       "metadata": {},
       "output_type": "pyout",
       "prompt_number": 159,
       "text": [
        "response             420\n",
        "code                 420\n",
        "requestcount         420\n",
        "port                 420\n",
        "X-Runtime            420\n",
        "Num-Cookie           420\n",
        "error                420\n",
        "request              420\n",
        "timestamp_start      420\n",
        "timestamp_end        420\n",
        "timeStampStartEnd    420\n",
        "dtype: int64"
       ]
      }
     ],
     "prompt_number": 159
    },
    {
     "cell_type": "code",
     "collapsed": false,
     "input": [
      "print [\"response\"]+labels\n",
      "ll =[\"response\"]+labels\n",
      "ll[2:3]+ll[4:6]+ll[7:8]+ll[10:]"
     ],
     "language": "python",
     "metadata": {},
     "outputs": [
      {
       "output_type": "stream",
       "stream": "stdout",
       "text": [
        "['response', 'code', 'requestcount', 'port', 'X-Runtime', 'Num-Cookie', 'error', 'request', 'timestamp_start', 'timestamp_end', 'timeStampStartEnd']\n"
       ]
      },
      {
       "metadata": {},
       "output_type": "pyout",
       "prompt_number": 178,
       "text": [
        "['requestcount', 'X-Runtime', 'Num-Cookie', 'request', 'timeStampStartEnd']"
       ]
      }
     ],
     "prompt_number": 178
    },
    {
     "cell_type": "markdown",
     "metadata": {},
     "source": [
      "#DataFrame subset, only continous features"
     ]
    },
    {
     "cell_type": "code",
     "collapsed": false,
     "input": [
      "#for d in data1.ix[:,:]:    print d[:,:]\n",
      "#for index, row in data1.iterrows():     print row.values[0:3] #, row[1],row[2]  #row['X-Runtime']\n",
      "\n",
      "data1.to_csv(\"test.csv\",index=False)"
     ],
     "language": "python",
     "metadata": {},
     "outputs": [],
     "prompt_number": 131
    },
    {
     "cell_type": "code",
     "collapsed": false,
     "input": [
      "#data1=data.iloc[:,[37,17,41]]\n",
      "dataRDD = sc.parallelize(data1)\n",
      "#parsedData = dataDF.filter(lambda x: x.find(\"response\")!=0).map(parsePoint)\n",
      "#parsedData.take(2)\n",
      "dataRDD"
     ],
     "language": "python",
     "metadata": {},
     "outputs": [
      {
       "metadata": {},
       "output_type": "pyout",
       "prompt_number": 111,
       "text": [
        "ParallelCollectionRDD[117] at parallelize at PythonRDD.scala:364"
       ]
      }
     ],
     "prompt_number": 111
    },
    {
     "cell_type": "code",
     "collapsed": false,
     "input": [
      "data1[:1]"
     ],
     "language": "python",
     "metadata": {},
     "outputs": [
      {
       "html": [
        "<div style=\"max-height:1000px;max-width:1500px;overflow:auto;\">\n",
        "<table border=\"1\" class=\"dataframe\">\n",
        "  <thead>\n",
        "    <tr style=\"text-align: right;\">\n",
        "      <th></th>\n",
        "      <th>response</th>\n",
        "      <th>code</th>\n",
        "      <th>requestcount</th>\n",
        "      <th>port</th>\n",
        "      <th>X-Runtime</th>\n",
        "      <th>Num-Cookie</th>\n",
        "      <th>error</th>\n",
        "      <th>request</th>\n",
        "      <th>timestamp_start</th>\n",
        "      <th>timestamp_end</th>\n",
        "      <th>timeStampStartEnd</th>\n",
        "    </tr>\n",
        "  </thead>\n",
        "  <tbody>\n",
        "    <tr>\n",
        "      <th>0</th>\n",
        "      <td> 4930</td>\n",
        "      <td> 200</td>\n",
        "      <td> 1</td>\n",
        "      <td> 80</td>\n",
        "      <td> 0.017533</td>\n",
        "      <td> 2</td>\n",
        "      <td> 0</td>\n",
        "      <td> 789</td>\n",
        "      <td> 1.413247e+09</td>\n",
        "      <td> 1.413247e+09</td>\n",
        "      <td> 0.002923</td>\n",
        "    </tr>\n",
        "  </tbody>\n",
        "</table>\n",
        "</div>"
       ],
       "metadata": {},
       "output_type": "pyout",
       "prompt_number": 375,
       "text": [
        "   response  code  requestcount  port  X-Runtime  Num-Cookie  error  request  \\\n",
        "0      4930   200             1    80   0.017533           2      0      789   \n",
        "\n",
        "   timestamp_start  timestamp_end  timeStampStartEnd  \n",
        "0     1.413247e+09   1.413247e+09           0.002923  "
       ]
      }
     ],
     "prompt_number": 375
    },
    {
     "cell_type": "code",
     "collapsed": false,
     "input": [
      "from pyspark.mllib.regression import LabeledPoint, LinearRegressionWithSGD\n",
      "from numpy import array\n",
      "\n",
      "data = sc.textFile(\"test.csv\")\n",
      "\n",
      "# Load and parse the data\n",
      "def parsePoint(line):\n",
      "    values = array([float(x) for x in line.split(\",\")]) #replace(\",\", \" \").split(\" \")]\n",
      "    values2=  array([values[5],values[4], values[10]]) # [values[2], values[4], values[5],values[7],values[10]])\n",
      "    return LabeledPoint(values[0], values2) # values[1:])\n",
      "\n",
      "parsedData = data.filter(lambda x: x.find(\"response\")<0).map(parsePoint)"
     ],
     "language": "python",
     "metadata": {},
     "outputs": [],
     "prompt_number": 391
    },
    {
     "cell_type": "code",
     "collapsed": false,
     "input": [
      "parsedData.take(2)"
     ],
     "language": "python",
     "metadata": {},
     "outputs": [
      {
       "metadata": {},
       "output_type": "pyout",
       "prompt_number": 392,
       "text": [
        "[LabeledPoint(4930.0, [2.0,0.017533,0.00292301177979]),\n",
        " LabeledPoint(1108.0, [0.0,0.00328,0.00594902038574])]"
       ]
      }
     ],
     "prompt_number": 392
    },
    {
     "cell_type": "code",
     "collapsed": false,
     "input": [
      "# Build the model\n",
      "model = LinearRegressionWithSGD.train(parsedData)\n",
      "\n",
      "# Evaluate the model on training data\n",
      "valuesAndPreds = parsedData.map(lambda p: (p.label, model.predict(p.features)))\n",
      "MSE = valuesAndPreds.map(lambda (v, p): (v - p)**2).reduce(lambda x, y: x + y) / valuesAndPreds.count()\n",
      "print(\"Mean Squared Error = \" + str(MSE))\n"
     ],
     "language": "python",
     "metadata": {},
     "outputs": [
      {
       "output_type": "stream",
       "stream": "stdout",
       "text": [
        "Mean Squared Error = 223860714.617\n"
       ]
      }
     ],
     "prompt_number": 393
    },
    {
     "cell_type": "code",
     "collapsed": false,
     "input": [
      "for d in valuesAndPreds.take(10):\n",
      "    print d"
     ],
     "language": "python",
     "metadata": {},
     "outputs": [
      {
       "output_type": "stream",
       "stream": "stdout",
       "text": [
        "(4930.0, 4361.5654843222574)\n",
        "(1108.0, 14.641110597012293)\n",
        "(16091.0, 13.924851610082133)\n",
        "(591.0, 87.155277352778924)\n",
        "(591.0, 128.36164494481065)\n",
        "(591.0, 56.170882563710627)\n",
        "(134336.0, 135.60905976331748)\n",
        "(273816.0, 90.210775745072809)\n",
        "(13268.0, 90.891562187377005)\n",
        "(4097.0, 77.149254091160259)\n"
       ]
      }
     ],
     "prompt_number": 396
    },
    {
     "cell_type": "code",
     "collapsed": false,
     "input": [
      "zip(*valuesAndPreds.take(5))"
     ],
     "language": "python",
     "metadata": {},
     "outputs": [
      {
       "metadata": {},
       "output_type": "pyout",
       "prompt_number": 410,
       "text": [
        "[(4930.0, 1108.0, 16091.0, 591.0, 591.0),\n",
        " (4361.5654843222574,\n",
        "  14.641110597012293,\n",
        "  13.924851610082133,\n",
        "  87.155277352778924,\n",
        "  128.36164494481065)]"
       ]
      }
     ],
     "prompt_number": 410
    },
    {
     "cell_type": "code",
     "collapsed": false,
     "input": [
      "# plot \n",
      "plt.xlabel(\"response\")\n",
      "plt.ylabel(\"prediction\")\n",
      "plt.scatter(*zip(*valuesAndPreds.collect()))"
     ],
     "language": "python",
     "metadata": {},
     "outputs": [
      {
       "metadata": {},
       "output_type": "pyout",
       "prompt_number": 416,
       "text": [
        "<matplotlib.collections.PathCollection at 0x88eb550>"
       ]
      },
      {
       "metadata": {},
       "output_type": "display_data",
       "png": "[encoded data removed]",
       "text": [
        "<matplotlib.figure.Figure at 0x868af90>"
       ]
      }
     ],
     "prompt_number": 416
    },
    {
     "cell_type": "code",
     "collapsed": false,
     "input": [
      "plt.xlabel(\"response\")\n",
      "plt.ylabel(\"prediction\")\n",
      "\n",
      "fig = plt.subplot(111)\n",
      "fig.scatter(*zip(*valuesAndPreds.collect()))  #plot(target, prediction, 'bs', target,target, 'r--')\n",
      "xlim=5000\n",
      "fig.set_xlim([0,xlim])\n",
      "fig.set_ylim([0,xlim])\n",
      "plt.show()\n"
     ],
     "language": "python",
     "metadata": {},
     "outputs": [
      {
       "metadata": {},
       "output_type": "display_data",
       "png": "[encoded data removed]",
       "text": [
        "<matplotlib.figure.Figure at 0x89d1f50>"
       ]
      }
     ],
     "prompt_number": 419
    },
    {
     "cell_type": "markdown",
     "metadata": {},
     "source": [
      "#Unsupervised Clustering -- Kmean"
     ]
    },
    {
     "cell_type": "code",
     "collapsed": false,
     "input": [
      "from pyspark.mllib.clustering import KMeans\n",
      "data = sc.textFile(\"test.csv\")\n",
      "parsedData = data.filter(lambda x: x.find(\"response\")!=0)\\\n",
      "                 .map(lambda line: array([float(x) for x in line.split(\",\")]))\n",
      "\n",
      "# Build the model (cluster the data)\n",
      "clusters = KMeans.train(parsedData, 2, maxIterations=10,\n",
      "        runs=10, initializationMode=\"random\")\n",
      "\n",
      "# Evaluate clustering by computing Within Set Sum of Squared Errors\n",
      "def error(point):\n",
      "    center = clusters.centers[clusters.predict(point)]\n",
      "    return sqrt(sum([x**2 for x in (point - center)]))\n",
      "\n",
      "WSSSE = parsedData.map(lambda point: error(point)).reduce(lambda x, y: x + y)\n",
      "print(\"Within Set Sum of Squared Error = \" + str(WSSSE))\n",
      "\n",
      "prediction = parsedData.map(lambda point: clusters.predict(point))"
     ],
     "language": "python",
     "metadata": {},
     "outputs": [
      {
       "output_type": "stream",
       "stream": "stdout",
       "text": [
        "Within Set Sum of Squared Error = 431596.749847\n"
       ]
      }
     ],
     "prompt_number": 450
    },
    {
     "cell_type": "code",
     "collapsed": false,
     "input": [
      "#[clusters.predict(p) for p in parsedData.take(10)],\n",
      "prediction.take(10)"
     ],
     "language": "python",
     "metadata": {},
     "outputs": [
      {
       "metadata": {},
       "output_type": "pyout",
       "prompt_number": 452,
       "text": [
        "([1, 1, 1, 1, 1, 1, 0, 0, 1, 1], [1, 1, 1, 1, 1, 1, 0, 0, 1, 1])"
       ]
      }
     ],
     "prompt_number": 452
    },
    {
     "cell_type": "code",
     "collapsed": false,
     "input": [
      "# Visilization "
     ],
     "language": "python",
     "metadata": {},
     "outputs": [],
     "prompt_number": 438
    },
    {
     "cell_type": "code",
     "collapsed": false,
     "input": [],
     "language": "python",
     "metadata": {},
     "outputs": []
    },
    {
     "cell_type": "markdown",
     "metadata": {},
     "source": [
      "# decision tree"
     ]
    },
    {
     "cell_type": "raw",
     "metadata": {},
     "source": [
      "\n",
      "convert csv to libsvm format\n",
      "\n",
      " $ python csv2libsvm.py test.csv test_libsvm.data 0 1\n",
      "\n"
     ]
    },
    {
     "cell_type": "code",
     "collapsed": false,
     "input": [
      "from pyspark.mllib.regression import LabeledPoint\n",
      "from pyspark.mllib.tree import DecisionTree\n",
      "from pyspark.mllib.util import MLUtils\n",
      "\n",
      "# Load and parse the data file into an RDD of LabeledPoint.\n",
      "data = MLUtils.loadLibSVMFile(sc,\"test_libsvm.data\")\n",
      "\n",
      "# Split the data into training and test sets (30% held out for testing)\n",
      "(trainingData, testData) = data.randomSplit([0.7, 0.3])\n",
      "\n",
      "\n",
      "# Train a DecisionTree model.\n",
      "#  Empty categoricalFeaturesInfo indicates all features are continuous.\n",
      "model = DecisionTree.trainRegressor(trainingData, categoricalFeaturesInfo={},\n",
      "                                    impurity=\"variance\", maxDepth=5, maxBins=32)\n",
      "\n",
      "# Evaluate model on test instances and compute test error\n",
      "predictions = model.predict(testData.map(lambda x: x.features))\n",
      "labelsAndPredictions = testData.map(lambda lp: lp.label).zip(predictions)\n",
      "testMSE = labelsAndPredictions.map(lambda (v, p): (v - p) * (v - p)).sum() / float(testData.count())\n",
      "print('Test Mean Squared Error = ' + str(testMSE))\n",
      "print('Learned regression tree model:')\n",
      "print(model.toDebugString())\n"
     ],
     "language": "python",
     "metadata": {},
     "outputs": [
      {
       "output_type": "stream",
       "stream": "stdout",
       "text": [
        "Test Mean Squared Error = 686472586.338\n",
        "Learned regression tree model:\n",
        "DecisionTreeModel regressor of depth 5 with 37 nodes\n",
        "  If (feature 1 <= 2.0)\n",
        "   If (feature 9 <= 0.0567169189453125)\n",
        "    If (feature 6 <= 1168.0)\n",
        "     If (feature 3 <= 0.00133)\n",
        "      Predict: 4097.0\n",
        "     Else (feature 3 > 0.00133)\n",
        "      Predict: 13268.0\n",
        "    Else (feature 6 > 1168.0)\n",
        "     If (feature 3 <= 0.001273)\n",
        "      Predict: 5026.0\n",
        "     Else (feature 3 > 0.001273)\n",
        "      If (feature 3 <= 0.00161)\n",
        "       Predict: 1480.5\n",
        "      Else (feature 3 > 0.00161)\n",
        "       Predict: 591.0\n",
        "   Else (feature 9 > 0.0567169189453125)\n",
        "    Predict: 134336.0\n",
        "  Else (feature 1 > 2.0)\n",
        "   If (feature 0 <= 200.0)\n",
        "    If (feature 3 <= 0.0013390000000000001)\n",
        "     If (feature 1 <= 7.0)\n",
        "      Predict: 639.0\n",
        "     Else (feature 1 > 7.0)\n",
        "      Predict: 424.0\n",
        "    Else (feature 3 > 0.0013390000000000001)\n",
        "     If (feature 1 <= 4.0)\n",
        "      If (feature 3 <= 0.00161)\n",
        "       Predict: 5829.75\n",
        "      Else (feature 3 > 0.00161)\n",
        "       Predict: 2410.3333333333335\n",
        "     Else (feature 1 > 4.0)\n",
        "      If (feature 6 <= 1168.0)\n",
        "       Predict: 10523.0\n",
        "      Else (feature 6 > 1168.0)\n",
        "       Predict: 6332.888888888889\n",
        "   Else (feature 0 > 200.0)\n",
        "    If (feature 4 <= 0.0)\n",
        "     If (feature 9 <= 0.007092952728271484)\n",
        "      If (feature 6 <= 1353.0)\n",
        "       Predict: 424.5\n",
        "      Else (feature 6 > 1353.0)\n",
        "       Predict: 425.6\n",
        "     Else (feature 9 > 0.007092952728271484)\n",
        "      If (feature 6 <= 1356.0)\n",
        "       Predict: 425.9428571428571\n",
        "      Else (feature 6 > 1356.0)\n",
        "       Predict: 425.74178403755866\n",
        "    Else (feature 4 > 0.0)\n",
        "     If (feature 0 <= 302.0)\n",
        "      Predict: 1388.0\n",
        "     Else (feature 0 > 302.0)\n",
        "      If (feature 6 <= 1353.0)\n",
        "       Predict: 1092.8\n",
        "      Else (feature 6 > 1353.0)\n",
        "       Predict: 1104.6666666666667\n",
        "\n"
       ]
      }
     ],
     "prompt_number": 420
    },
    {
     "cell_type": "code",
     "collapsed": false,
     "input": [
      "#?MLUtils.loadLibSVMFile"
     ],
     "language": "python",
     "metadata": {},
     "outputs": [],
     "prompt_number": 421
    },
    {
     "cell_type": "code",
     "collapsed": false,
     "input": [
      "data.take(1)"
     ],
     "language": "python",
     "metadata": {},
     "outputs": [
      {
       "metadata": {},
       "output_type": "pyout",
       "prompt_number": 422,
       "text": [
        "[LabeledPoint(4930.0, (10,[0,1,2,3,4,6,7,8,9],[200.0,1.0,80.0,0.017533,2.0,789.0,1413247021.05,1413247021.06,0.00292301177979]))]"
       ]
      }
     ],
     "prompt_number": 422
    },
    {
     "cell_type": "code",
     "collapsed": false,
     "input": [
      "labelsAndPredictions.take(1)"
     ],
     "language": "python",
     "metadata": {},
     "outputs": [
      {
       "metadata": {},
       "output_type": "pyout",
       "prompt_number": 423,
       "text": [
        "[(4930.0, 13268.0)]"
       ]
      }
     ],
     "prompt_number": 423
    },
    {
     "cell_type": "code",
     "collapsed": false,
     "input": [
      "type(labelsAndPredictions.take(1)[0])"
     ],
     "language": "python",
     "metadata": {},
     "outputs": [
      {
       "metadata": {},
       "output_type": "pyout",
       "prompt_number": 424,
       "text": [
        "tuple"
       ]
      }
     ],
     "prompt_number": 424
    },
    {
     "cell_type": "code",
     "collapsed": false,
     "input": [
      "l2=list(labelsAndPredictions.collect())\n",
      "l2[1][1]"
     ],
     "language": "python",
     "metadata": {},
     "outputs": [
      {
       "metadata": {},
       "output_type": "pyout",
       "prompt_number": 425,
       "text": [
        "591.0"
       ]
      }
     ],
     "prompt_number": 425
    },
    {
     "cell_type": "code",
     "collapsed": false,
     "input": [
      "# \n",
      "plt.xlabel(\"response\")\n",
      "plt.ylabel(\"prediction\")\n",
      "plt.scatter(*zip(*labelsAndPredictions.collect()))"
     ],
     "language": "python",
     "metadata": {},
     "outputs": [
      {
       "metadata": {},
       "output_type": "pyout",
       "prompt_number": 426,
       "text": [
        "<matplotlib.collections.PathCollection at 0x88d3a10>"
       ]
      },
      {
       "metadata": {},
       "output_type": "display_data",
       "png": "[encoded data removed]",
       "text": [
        "<matplotlib.figure.Figure at 0x88f1050>"
       ]
      }
     ],
     "prompt_number": 426
    },
    {
     "cell_type": "code",
     "collapsed": false,
     "input": [
      "plt.xlabel(\"response\")\n",
      "plt.ylabel(\"prediction\")\n",
      "\n",
      "fig = plt.subplot(111)\n",
      "fig.scatter(*zip(*labelsAndPredictions.collect()))  #plot(target, prediction, 'bs', target,target, 'r--')\n",
      "xlim=5000\n",
      "fig.set_xlim([0,xlim])\n",
      "fig.set_ylim([0,xlim])\n",
      "plt.show()\n"
     ],
     "language": "python",
     "metadata": {},
     "outputs": [
      {
       "metadata": {},
       "output_type": "display_data",
       "png": "[encoded data removed]",
       "text": [
        "<matplotlib.figure.Figure at 0x89dc910>"
       ]
      }
     ],
     "prompt_number": 427
    },
    {
     "cell_type": "markdown",
     "metadata": {},
     "source": [
      "#K-mean cluster"
     ]
    },
    {
     "cell_type": "code",
     "collapsed": false,
     "input": [
      "import numpy as np\n",
      "#from pyspark import SparkContext\n",
      "from pyspark.mllib.clustering import KMeans\n",
      "\n",
      "\n",
      "lines = sc.textFile(\"test.csv\")\n",
      "lines = lines.filter(lambda x: x.find(\"response\")<0)\n",
      "\n",
      "\n",
      "parsedData = lines.filter(lambda x: x.find(\"response\")<0)\\\n",
      "                  .map(lambda line: array([float(x) for x in line.split(',')]))\n",
      "\n",
      "\n",
      "# Build the model (cluster the data)\n",
      "clusters = KMeans.train(parsedData, 2, maxIterations=10,\n",
      "        runs=10, initializationMode=\"random\")\n",
      "\n",
      "# Evaluate clustering by computing Within Set Sum of Squared Errors\n",
      "def error(point):\n",
      "    center = clusters.centers[clusters.predict(point)]\n",
      "    return sqrt(sum([x**2 for x in (point - center)]))\n",
      "\n",
      "WSSSE = parsedData.map(lambda point: error(point)).reduce(lambda x, y: x + y)\n",
      "print(\"Within Set Sum of Squared Error = \" + str(WSSSE))\n",
      "\n",
      "\n",
      "#lines.take(2),parsedData.take(1)"
     ],
     "language": "python",
     "metadata": {},
     "outputs": [
      {
       "output_type": "stream",
       "stream": "stdout",
       "text": [
        "Within Set Sum of Squared Error = 431596.749847\n"
       ]
      }
     ],
     "prompt_number": 428
    },
    {
     "cell_type": "code",
     "collapsed": false,
     "input": [
      "parsedData.take(1),clusters.centers"
     ],
     "language": "python",
     "metadata": {},
     "outputs": [
      {
       "metadata": {},
       "output_type": "pyout",
       "prompt_number": 453,
       "text": [
        "([array([  4.93000000e+03,   2.00000000e+02,   1.00000000e+00,\n",
        "           8.00000000e+01,   1.75330000e-02,   2.00000000e+00,\n",
        "           0.00000000e+00,   7.89000000e+02,   1.41324702e+09,\n",
        "           1.41324702e+09,   2.92301178e-03])],\n",
        " [array([  2.04076000e+05,   2.00000000e+02,   1.00000000e+00,\n",
        "           8.00000000e+01,   3.01000000e-03,   0.00000000e+00,\n",
        "           0.00000000e+00,   1.18400000e+03,   1.41324702e+09,\n",
        "           1.41324702e+09,   4.74305153e-02]),\n",
        "  array([  8.19755981e+02,   2.95287081e+02,   3.58803828e+01,\n",
        "           8.00000000e+01,   3.84713636e-03,   7.89473684e-02,\n",
        "           0.00000000e+00,   1.34978230e+03,   1.41324705e+09,\n",
        "           1.41324705e+09,   4.77754722e-02])])"
       ]
      }
     ],
     "prompt_number": 453
    },
    {
     "cell_type": "code",
     "collapsed": false,
     "input": [
      "prediction = parsedData.map(lambda point: clusters.predict(point))\n",
      "prediction.take(10)\n"
     ],
     "language": "python",
     "metadata": {},
     "outputs": [
      {
       "metadata": {},
       "output_type": "pyout",
       "prompt_number": 497,
       "text": [
        "[1, 1, 1, 1, 1, 1, 0, 0, 1, 1]"
       ]
      }
     ],
     "prompt_number": 497
    },
    {
     "cell_type": "code",
     "collapsed": false,
     "input": [
      "x2=parsedData.map(lambda x: [x[0]]+[x[4]]).collect()\n",
      "type(x2)"
     ],
     "language": "python",
     "metadata": {},
     "outputs": [
      {
       "metadata": {},
       "output_type": "pyout",
       "prompt_number": 517,
       "text": [
        "list"
       ]
      }
     ],
     "prompt_number": 517
    },
    {
     "cell_type": "code",
     "collapsed": false,
     "input": [
      "x2[:][1]\n"
     ],
     "language": "python",
     "metadata": {},
     "outputs": [
      {
       "metadata": {},
       "output_type": "pyout",
       "prompt_number": 511,
       "text": [
        "[1108.0, 0.0032799999999999999]"
       ]
      }
     ],
     "prompt_number": 511
    },
    {
     "cell_type": "code",
     "collapsed": false,
     "input": [
      "plt.xlabel(\"response\")\n",
      "plt.ylabel(\"X-Runtime\")\n",
      "plt.scatter(*zip(*x2),c=prediction.collect())"
     ],
     "language": "python",
     "metadata": {},
     "outputs": [
      {
       "metadata": {},
       "output_type": "pyout",
       "prompt_number": 518,
       "text": [
        "<matplotlib.collections.PathCollection at 0x95fc5d0>"
       ]
      },
      {
       "metadata": {},
       "output_type": "display_data",
       "png": "[encoded data removed]",
       "text": [
        "<matplotlib.figure.Figure at 0x9ca54d0>"
       ]
      }
     ],
     "prompt_number": 518
    },
    {
     "cell_type": "code",
     "collapsed": false,
     "input": [],
     "language": "python",
     "metadata": {},
     "outputs": [],
     "prompt_number": 512
    },
    {
     "cell_type": "code",
     "collapsed": false,
     "input": [
      "\n",
      "def testKMean(lines, k=2):\n",
      "\n",
      "#    lines = sc.textFile(sys.argv[1])\n",
      "    data = lines.map(parseVector)\n",
      "    model = KMeans.train(data, k)\n",
      "    print \"Final centers: \" + str(model.clusterCenters)\n",
      "    \n",
      "#testKMean(lines, 2)\n",
      "#data1= lines.map(parseVector)\n",
      "#data1.take(1)\n",
      "lines.take(2)\n",
      "\n",
      "\n",
      "def mapper(line):\n",
      "    \"\"\"\n",
      "    Mapper that converts an input line to a feature vector\n",
      "    \"\"\"    \n",
      "    feats = line.strip().split(\",\") \n",
      "    # labels must be at the beginning for LRSGD, it's in the end in our data, so \n",
      "    # putting it in the right place\n",
      "    label = feats[len(feats) - 1] \n",
      "    feats = feats[: len(feats) - 1]\n",
      "    feats.insert(0,label)\n",
      "    features = [ float(feature) for feature in feats ] # need floats\n",
      "    return np.array(features)\n",
      "\n",
      "#parsedData = lines.map(mapper)"
     ],
     "language": "python",
     "metadata": {},
     "outputs": [],
     "prompt_number": 430
    },
    {
     "cell_type": "code",
     "collapsed": false,
     "input": [],
     "language": "python",
     "metadata": {},
     "outputs": []
    }
   ],
   "metadata": {}
  }
 ]
}