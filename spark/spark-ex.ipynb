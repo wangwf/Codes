{
 "metadata": {
  "name": "",
  "signature": "sha256:3fed399aa17bea725ddbf8fe505081c8261af51d617c7eba8f26ef19b95d596f"
 },
 "nbformat": 3,
 "nbformat_minor": 0,
 "worksheets": [
  {
   "cells": [
    {
     "cell_type": "markdown",
     "metadata": {},
     "source": [
      "#SPark\n",
      "To launch PySpark in Ipython, set the IPYTHON variable to 1 when running bin/pyspark\n",
      " $IPYTHON=1 ./bin/pyspark\n",
      "\n",
      " Alternatively, you can customize. to launch the IPython Notebook with Pylab\n",
      "\n",
      " $IPYTHON_OPTS=\"notebook --pylab inline\" ./bin/pyspark"
     ]
    },
    {
     "cell_type": "code",
     "collapsed": false,
     "input": [
      "sc # SparkContext o"
     ],
     "language": "python",
     "metadata": {},
     "outputs": [
      {
       "metadata": {},
       "output_type": "pyout",
       "prompt_number": 1,
       "text": [
        "<pyspark.context.SparkContext at 0x108608a50>"
       ]
      }
     ],
     "prompt_number": 1
    },
    {
     "cell_type": "code",
     "collapsed": false,
     "input": [
      "# creating an RDD (Resilient Distributed dataset)\n",
      "pagecount = sc.textFile(\"../dataLogs/learnDataSet.log\")\n",
      "pagecount"
     ],
     "language": "python",
     "metadata": {},
     "outputs": [
      {
       "metadata": {},
       "output_type": "pyout",
       "prompt_number": 2,
       "text": [
        "MappedRDD[1] at textFile at NativeMethodAccessorImpl.java:-2"
       ]
      }
     ],
     "prompt_number": 2
    },
    {
     "cell_type": "code",
     "collapsed": false,
     "input": [
      "#Take a peek at the data.\n",
      "pagecount.take(1)   # returns an array"
     ],
     "language": "python",
     "metadata": {},
     "outputs": [
      {
       "metadata": {},
       "output_type": "pyout",
       "prompt_number": 3,
       "text": [
        "[u'5789:5:error,0:~8:response,4930:11:httpversion,8:1:1#1:1#]13:timestamp_end,17:1413247021.321856^3:msg,2:OK,15:timestamp_start,16:1413247021.31447^7:headers,1035:33:15:X-Frame-Options,10:SAMEORIGIN,]37:16:X-Xss-Protection,13:1; mode=block,]36:22:X-Content-Type-Options,7:nosniff,]30:15:X-Ua-Compatible,8:chrome=1,]30:22:X-Xhr-Current-Location,1:/,]44:12:Content-Type,24:text/html; charset=utf-8,]45:4:Etag,34:\"ea927ca92e0c7a85b168d210be0a5df4\",]56:13:Cache-Control,35:max-age=0, private, must-revalidate,]56:12:X-Request-Id,36:1c96e7f2-2bd3-4070-b2b9-73ad728c111f,]23:9:X-Runtime,8:0.017533,]50:6:Server,37:WEBrick/1.3.1 (Ruby/2.1.2/2014-05-08),]40:4:Date,29:Tue, 14 Oct 2014 00:36:07 GMT,]25:14:Content-Length,4:3726,]28:10:Connection,10:Keep-Alive,]44:10:Set-Cookie,26:request_method=GET; path=/,]393:10:Set-Cookie,374:_sample_app_session=NlljR05mSytQNzJ4N0gxQzA1VkJBQ3lDOUpEOWpwWFJnaGVOaUdFU0ZDek82RE5VK0I5V2NpY0RrRFcrSjZhT21oOTRZQW5UUzBhTDlIMUJ1QjNnZUZva3VCSEUzZ2FZeWsxMU5xcnE4S093aGpwaVBRbUUxeTFkSENINGFsdzMzUER6RVhHMkVyVCtmUTdzeS91S2lVc3hPU2V4Y1VOKy9GMzg0QUNNZFFzMFBUdWVUY1FvNmdiTnVRUGtQbzlULS1jWGEzRS9VcEtoWDc4bWtBTlNSajN3PT0%3D--a87e267085a6649f66c98a671fa8dac9629f7bd9; path=/; HttpOnly,]]7:content,3726:<!DOCTYPE html>']"
       ]
      }
     ],
     "prompt_number": 3
    },
    {
     "cell_type": "code",
     "collapsed": false,
     "input": [
      "#for x in pagecount.take(10):\n",
      "#    print x\n",
      "type(pagecount), type(pagecount.take(10))   "
     ],
     "language": "python",
     "metadata": {},
     "outputs": [
      {
       "metadata": {},
       "output_type": "pyout",
       "prompt_number": 4,
       "text": [
        "(pyspark.rdd.RDD, list)"
       ]
      }
     ],
     "prompt_number": 4
    },
    {
     "cell_type": "code",
     "collapsed": false,
     "input": [
      "pagecount.count()  #"
     ],
     "language": "python",
     "metadata": {},
     "outputs": [
      {
       "metadata": {},
       "output_type": "pyout",
       "prompt_number": 5,
       "text": [
        "19111"
       ]
      }
     ],
     "prompt_number": 5
    },
    {
     "cell_type": "code",
     "collapsed": false,
     "input": [
      "page1 = pagecount.filter(lambda x: len(x.split(\":\"))>10).cache()\n",
      "page1.count()\n",
      "\n"
     ],
     "language": "python",
     "metadata": {},
     "outputs": [
      {
       "metadata": {},
       "output_type": "pyout",
       "prompt_number": 6,
       "text": [
        "35"
       ]
      }
     ],
     "prompt_number": 6
    },
    {
     "cell_type": "code",
     "collapsed": false,
     "input": [
      "page1.take(1)"
     ],
     "language": "python",
     "metadata": {},
     "outputs": [
      {
       "metadata": {},
       "output_type": "pyout",
       "prompt_number": 7,
       "text": [
        "[u'5789:5:error,0:~8:response,4930:11:httpversion,8:1:1#1:1#]13:timestamp_end,17:1413247021.321856^3:msg,2:OK,15:timestamp_start,16:1413247021.31447^7:headers,1035:33:15:X-Frame-Options,10:SAMEORIGIN,]37:16:X-Xss-Protection,13:1; mode=block,]36:22:X-Content-Type-Options,7:nosniff,]30:15:X-Ua-Compatible,8:chrome=1,]30:22:X-Xhr-Current-Location,1:/,]44:12:Content-Type,24:text/html; charset=utf-8,]45:4:Etag,34:\"ea927ca92e0c7a85b168d210be0a5df4\",]56:13:Cache-Control,35:max-age=0, private, must-revalidate,]56:12:X-Request-Id,36:1c96e7f2-2bd3-4070-b2b9-73ad728c111f,]23:9:X-Runtime,8:0.017533,]50:6:Server,37:WEBrick/1.3.1 (Ruby/2.1.2/2014-05-08),]40:4:Date,29:Tue, 14 Oct 2014 00:36:07 GMT,]25:14:Content-Length,4:3726,]28:10:Connection,10:Keep-Alive,]44:10:Set-Cookie,26:request_method=GET; path=/,]393:10:Set-Cookie,374:_sample_app_session=NlljR05mSytQNzJ4N0gxQzA1VkJBQ3lDOUpEOWpwWFJnaGVOaUdFU0ZDek82RE5VK0I5V2NpY0RrRFcrSjZhT21oOTRZQW5UUzBhTDlIMUJ1QjNnZUZva3VCSEUzZ2FZeWsxMU5xcnE4S093aGpwaVBRbUUxeTFkSENINGFsdzMzUER6RVhHMkVyVCtmUTdzeS91S2lVc3hPU2V4Y1VOKy9GMzg0QUNNZFFzMFBUdWVUY1FvNmdiTnVRUGtQbzlULS1jWGEzRS9VcEtoWDc4bWtBTlNSajN3PT0%3D--a87e267085a6649f66c98a671fa8dac9629f7bd9; path=/; HttpOnly,]]7:content,3726:<!DOCTYPE html>']"
       ]
      }
     ],
     "prompt_number": 7
    },
    {
     "cell_type": "code",
     "collapsed": false,
     "input": [
      "#\n",
      "pageTupe = page1.flatMap(lambda x: x.split(\":\")).filter(lambda x: x.find(\",\")>-1).collect()\n",
      "pageTupe[:10]"
     ],
     "language": "python",
     "metadata": {},
     "outputs": [
      {
       "metadata": {},
       "output_type": "pyout",
       "prompt_number": 10,
       "text": [
        "[u'error,0',\n",
        " u'response,4930',\n",
        " u'httpversion,8',\n",
        " u'timestamp_end,17',\n",
        " u'msg,2',\n",
        " u'OK,15',\n",
        " u'timestamp_start,16',\n",
        " u'headers,1035',\n",
        " u'X-Frame-Options,10',\n",
        " u'SAMEORIGIN,]37']"
       ]
      }
     ],
     "prompt_number": 10
    },
    {
     "cell_type": "code",
     "collapsed": false,
     "input": [
      "pageTupe = page1.flatMap(lambda x: x.split(\":\")).filter(lambda x: x.find(\",\")>-1)\n",
      "pageTupe = pageTupe.filter(lambda x: x.split(\",\")[0]==\"response\")\n",
      "\n",
      "pageTupe.reduce(lambda x,y: max(x,y))  # max-value\n"
     ],
     "language": "python",
     "metadata": {},
     "outputs": [
      {
       "metadata": {},
       "output_type": "pyout",
       "prompt_number": 11,
       "text": [
        "u'response,8933'"
       ]
      }
     ],
     "prompt_number": 11
    },
    {
     "cell_type": "markdown",
     "metadata": {},
     "source": [
      "# dataframe"
     ]
    },
    {
     "cell_type": "code",
     "collapsed": false,
     "input": [
      "sc.textFile(\"../dataLogs/output3_df.txt\")\\\n",
      "    .map(lambda line: (line.split(',')[0], line.split(',')[2]))\\\n",
      "    .distinct()\\\n",
      "    .count()"
     ],
     "language": "python",
     "metadata": {},
     "outputs": [
      {
       "metadata": {},
       "output_type": "pyout",
       "prompt_number": 12,
       "text": [
        "422"
       ]
      }
     ],
     "prompt_number": 12
    },
    {
     "cell_type": "code",
     "collapsed": false,
     "input": [
      "lines = sc.textFile(\"../dataLogs/output3_df.txt\")\n",
      "\n",
      "lines.distinct().count()"
     ],
     "language": "python",
     "metadata": {},
     "outputs": [
      {
       "metadata": {},
       "output_type": "pyout",
       "prompt_number": 121,
       "text": [
        "422"
       ]
      }
     ],
     "prompt_number": 121
    },
    {
     "cell_type": "code",
     "collapsed": false,
     "input": [],
     "language": "python",
     "metadata": {},
     "outputs": [],
     "prompt_number": 121
    },
    {
     "cell_type": "code",
     "collapsed": false,
     "input": [
      "for line in lines.take(1):\n",
      "    print line.split(\",\")"
     ],
     "language": "python",
     "metadata": {},
     "outputs": [
      {
       "output_type": "stream",
       "stream": "stdout",
       "text": [
        "[u'', u'Accept-Encoding', u'Accept-Language', u'Cache-Control', u'Connection', u'Content-Length', u'Content-Type', u'Date', u'Etag', u'Last-Modified', u'Num-Cookie', u'Referer', u'Server', u'Set-Cookie', u'X-Content-Type-Options', u'X-Frame-Options', u'X-Request-Id', u'X-Runtime', u'X-Ua-Compatible', u'X-Xhr-Current-Location', u'X-Xss-Protection', u'address', u'cert', u'code', u'content', u'error', u'headers', u'host', u'http', u'httpversion', u'ip', u'method', u'msg', u'path', u'port', u'request', u'requestcount', u'response', u'scheme', u'timestamp_end', u'timestamp_start', u'timeStampStartEnd']\n"
       ]
      }
     ],
     "prompt_number": 122
    },
    {
     "cell_type": "code",
     "collapsed": false,
     "input": [
      "len(lines.take(1)[0].split(\",\"))"
     ],
     "language": "python",
     "metadata": {},
     "outputs": [
      {
       "metadata": {},
       "output_type": "pyout",
       "prompt_number": 123,
       "text": [
        "42"
       ]
      }
     ],
     "prompt_number": 123
    },
    {
     "cell_type": "code",
     "collapsed": false,
     "input": [
      "labels = lines.take(1)[0].split(\",\")\n",
      "lst=[labels.index(\"response\"),labels.index(\"X-Runtime\"),labels.index(\"timeStampStartEnd\")]\n",
      "lst"
     ],
     "language": "python",
     "metadata": {},
     "outputs": [
      {
       "metadata": {},
       "output_type": "pyout",
       "prompt_number": 198,
       "text": [
        "[37, 17, 41]"
       ]
      }
     ],
     "prompt_number": 198
    },
    {
     "cell_type": "code",
     "collapsed": false,
     "input": [
      "#lines = sc.textFile(\"../dataLogs/output3_df.txt\")\n",
      "\n",
      "#lines = lines.filter(lambda x: x.find('Accept-Encoding') !=1)\n",
      "#data = lines.map(lambda x:x.split(',')[lst])\n",
      "\n",
      "import numpy as np\n",
      "\n",
      "def parseVector(line):\n",
      "    return np.array([float(x) for x in line.split(',')])\n",
      "\n",
      "data = lines.filter(lambda x: x.find('Accept-Encoding') !=1)\\\n",
      "            .map(lambda line:  line.split(','))\\\n",
      "            .map(lambda x: list(x[i] for i in lst))\n",
      "\n",
      "\n",
      "#for d in data.take(10):  #.collect() #type(data) #.take(1)   print d[38]\n",
      "data.take(10)"
     ],
     "language": "python",
     "metadata": {},
     "outputs": [
      {
       "metadata": {},
       "output_type": "pyout",
       "prompt_number": 225,
       "text": [
        "[[u'907.0', u'', u'54.165.254.99'],\n",
        " [u'54.165.254.99', u'http', u'80'],\n",
        " [u'', u'', u''],\n",
        " [u'path', u' 01 Oct 2014 05\"', u'OK'],\n",
        " [u'path', u' 24 Jun 2014 14\"', u'OK'],\n",
        " [u'path', u' 24 Jun 2014 14\"', u'OK'],\n",
        " [u'path', u' 16 Sep 2014 23\"', u'OK'],\n",
        " [u'path', u'http', u'Not Modified'],\n",
        " [u'302', u'WEBrick/1.3.1 (Ruby/2.1.2/2014-05-08)', u'54.165.254.99'],\n",
        " [u'913.0', u'http', u'54.165.254.99']]"
       ]
      }
     ],
     "prompt_number": 225
    },
    {
     "cell_type": "code",
     "collapsed": false,
     "input": [
      "#for d in data.collect():\n",
      "#    print d[lst]\n",
      "lst"
     ],
     "language": "python",
     "metadata": {},
     "outputs": [
      {
       "metadata": {},
       "output_type": "pyout",
       "prompt_number": 161,
       "text": [
        "[37, 17, 37, 41]"
       ]
      }
     ],
     "prompt_number": 161
    },
    {
     "cell_type": "code",
     "collapsed": false,
     "input": [
      "data.map(lambda x:x[0][1][1]).take()\n",
      "#data.take(1)"
     ],
     "language": "python",
     "metadata": {},
     "outputs": [
      {
       "ename": "TypeError",
       "evalue": "take() takes exactly 2 arguments (1 given)",
       "output_type": "pyerr",
       "traceback": [
        "\u001b[0;31m---------------------------------------------------------------------------\u001b[0m\n\u001b[0;31mTypeError\u001b[0m                                 Traceback (most recent call last)",
        "\u001b[0;32m<ipython-input-166-da2d88ff184e>\u001b[0m in \u001b[0;36m<module>\u001b[0;34m()\u001b[0m\n\u001b[0;32m----> 1\u001b[0;31m \u001b[0mdata\u001b[0m\u001b[0;34m.\u001b[0m\u001b[0mmap\u001b[0m\u001b[0;34m(\u001b[0m\u001b[0;32mlambda\u001b[0m \u001b[0mx\u001b[0m\u001b[0;34m:\u001b[0m\u001b[0mx\u001b[0m\u001b[0;34m[\u001b[0m\u001b[0;36m0\u001b[0m\u001b[0;34m]\u001b[0m\u001b[0;34m[\u001b[0m\u001b[0;36m1\u001b[0m\u001b[0;34m]\u001b[0m\u001b[0;34m[\u001b[0m\u001b[0;36m1\u001b[0m\u001b[0;34m]\u001b[0m\u001b[0;34m)\u001b[0m\u001b[0;34m.\u001b[0m\u001b[0mtake\u001b[0m\u001b[0;34m(\u001b[0m\u001b[0;34m)\u001b[0m\u001b[0;34m\u001b[0m\u001b[0m\n\u001b[0m\u001b[1;32m      2\u001b[0m \u001b[0;31m#data.take(1)\u001b[0m\u001b[0;34m\u001b[0m\u001b[0;34m\u001b[0m\u001b[0m\n",
        "\u001b[0;31mTypeError\u001b[0m: take() takes exactly 2 arguments (1 given)"
       ]
      }
     ],
     "prompt_number": 166
    },
    {
     "cell_type": "code",
     "collapsed": false,
     "input": [
      "# skip the first line\n"
     ],
     "language": "python",
     "metadata": {},
     "outputs": [],
     "prompt_number": 146
    },
    {
     "cell_type": "code",
     "collapsed": false,
     "input": [
      "def parsePoint(line):\n",
      "    values = [float(x) for x in line.replace(',', ' ').split(' ')]\n",
      "    return LabeledPoint(values[0], values[1:])\n"
     ],
     "language": "python",
     "metadata": {},
     "outputs": []
    },
    {
     "cell_type": "code",
     "collapsed": false,
     "input": [
      "from pyspark.mllib.classification import LogisticRegressionWithSGD\n",
      "\n",
      "#parsed_data = points.map(lambda line: np.array([float(x) for x in line.split(' ')]))\n",
      "#parsed_data.take(5)\n",
      "\n",
      "from pyspark.mllib.regression import LabeledPoint\n",
      "#from pyspark.mllib.tree import DecisionTree\n",
      "#from pyspark.mllib.util import MLUtils\n",
      "\n",
      "# Load and parse the data file into an RDD of LabeledPoint.\n",
      "#data = MLUtils.loadLibSVMFile(sc, 'data/mllib/sample_libsvm_data.txt')\n",
      "\n",
      "# Split the data into training and test sets (30% held out for testing)\n",
      "#(trainingData, testData) = data.randomSplit([0.7, 0.3])\n",
      "\n",
      "\n"
     ],
     "language": "python",
     "metadata": {},
     "outputs": [],
     "prompt_number": 76
    },
    {
     "cell_type": "markdown",
     "metadata": {},
     "source": [
      "#K-mean cluster"
     ]
    },
    {
     "cell_type": "code",
     "collapsed": false,
     "input": [
      "import numpy as np\n",
      "#from pyspark import SparkContext\n",
      "from pyspark.mllib.clustering import KMeans\n",
      "\n",
      "\n",
      "lines = lines.filter(lambda x: x.find('Accept-Encoding') !=1)\n",
      "def parseVector(line):\n",
      "    return np.array([(x) for x in line.split(',')[]])\n",
      "\n",
      "\n",
      "def testKMean(lines, k=2):\n",
      "\n",
      "#    lines = sc.textFile(sys.argv[1])\n",
      "    data = lines.map(parseVector)\n",
      "    model = KMeans.train(data, k)\n",
      "    print \"Final centers: \" + str(model.clusterCenters)\n",
      "    \n",
      "#testKMean(lines, 2)\n",
      "data1= lines.map(parseVector)\n",
      "data1.take(1)\n"
     ],
     "language": "python",
     "metadata": {},
     "outputs": [
      {
       "metadata": {},
       "output_type": "pyout",
       "prompt_number": 89,
       "text": [
        "[array([u'0', u'\"gzip', u'deflate', u'sdch\"', u'\"en-US', u'en;q=0.8',\n",
        "        u'ms;q=0.6', u'id;q=0.4\"', u'\"max-age=0', u' private',\n",
        "        u' must-revalidate\"', u'keep-alive', u'4974',\n",
        "        u'text/html; charset=utf-8', u'\"Tue', u' 14 Oct 2014 00\"',\n",
        "        u'\"\"\"1dce484ab3671ae072b40178e75b1314\"\"\"', u'', u'1', u'http',\n",
        "        u'WEBrick/1.3.1 (Ruby/2.1.2/2014-05-08)',\n",
        "        u'\"[[{u\\'_sample_app_session\\': u\\'QmFlN0Q2NjhMZEk0MkhGbndNNVlMTDY0Tm5pTkg4QWRQb2JrS1hSaE5mcTJxSnVBdHJGS05VbmNBcTZaaFFxRW41aEp2MDlBZXJNZUQzQng4R3M1NDBVa1NOdWEyUFNMaHhybktaTWFvMkhWNmhyMlo2Z29GQVdVQkFsVnVKYWtvRmJRV1pmUS9PM3dVMWlUWE84SkhBQzZueFVrSHJuWlpGN2h3MjZyc2crd2prSEpuZHJHNWMzT2ZBVDFwREczLS00S3NWRjNINkJCcHZKRFYrZjhQQkh3PT0%3D--de02652579ca1e3f760be9ca1af5268d1371f89f\\'}',\n",
        "        u\" {u' path': u'/'}\", u' {u\\' HttpOnly\\': None}]]\"', u'nosniff',\n",
        "        u'SAMEORIGIN', u'dec734f9-9383-4908-9efd-07a8c31dfeef', u'0.021151',\n",
        "        u'chrome=1', u'/users', u'1; mode=block', u'\"50.59.22.130', u'5\"',\n",
        "        u'', u'200', u'0.0', u'0.0', u'907.0', u'54.165.254.99', u'path',\n",
        "        u'1#1', u'54.165.254.99', u'GET', u'OK', u'/users', u'80',\n",
        "        u'1285.0', u'19', u'6134.0', u'http', u'1413247039.791616',\n",
        "        u'1413247039.781555', u'0.010061025619506836'], \n",
        "       dtype='<U368')]"
       ]
      }
     ],
     "prompt_number": 89
    },
    {
     "cell_type": "code",
     "collapsed": false,
     "input": [],
     "language": "python",
     "metadata": {},
     "outputs": [],
     "prompt_number": 86
    },
    {
     "cell_type": "code",
     "collapsed": false,
     "input": [],
     "language": "python",
     "metadata": {},
     "outputs": [],
     "prompt_number": 86
    },
    {
     "cell_type": "code",
     "collapsed": false,
     "input": [],
     "language": "python",
     "metadata": {},
     "outputs": [],
     "prompt_number": 86
    },
    {
     "cell_type": "code",
     "collapsed": false,
     "input": [],
     "language": "python",
     "metadata": {},
     "outputs": [],
     "prompt_number": 86
    },
    {
     "cell_type": "code",
     "collapsed": false,
     "input": [],
     "language": "python",
     "metadata": {},
     "outputs": []
    },
    {
     "cell_type": "markdown",
     "metadata": {},
     "source": [
      "# testing"
     ]
    },
    {
     "cell_type": "code",
     "collapsed": false,
     "input": [
      "\n",
      "# Train a DecisionTree model.\n",
      "#  Empty categoricalFeaturesInfo indicates all features are continuous.\n",
      "model = DecisionTree.trainRegressor(trainingData, categoricalFeaturesInfo={},\n",
      "                                    impurity='variance', maxDepth=5, maxBins=32)\n",
      "\n",
      "# Evaluate model on test instances and compute test error\n",
      "predictions = model.predict(testData.map(lambda x: x.features))\n",
      "labelsAndPredictions = testData.map(lambda lp: lp.label).zip(predictions)\n",
      "testMSE = labelsAndPredictions.map(lambda (v, p): (v - p) * (v - p)).sum() / float(testData.count())\n",
      "print('Test Mean Squared Error = ' + str(testMSE))\n",
      "print('Learned regression tree model:')\n",
      "print(model.toDebugString())\n"
     ],
     "language": "python",
     "metadata": {},
     "outputs": []
    },
    {
     "cell_type": "markdown",
     "metadata": {},
     "source": [
      "# test"
     ]
    },
    {
     "cell_type": "code",
     "collapsed": false,
     "input": [
      "def mapper(line):\n",
      "    \"\"\"\n",
      "    Mapper that converts an input line to a feature vector\n",
      "    \"\"\"    \n",
      "    feats = line.strip().split(\",\") \n",
      "    # labels must be at the beginning for LRSGD, it's in the end in our data, so \n",
      "    # putting it in the right place\n",
      "    label = feats[len(feats) - 1] \n",
      "    feats = feats[: len(feats) - 1]\n",
      "    feats.insert(0,label)\n",
      "    features = [ float(feature) for feature in feats ] # need floats\n",
      "    return np.array(features)\n",
      "\n",
      "parsedData = lines.map(mapper)"
     ],
     "language": "python",
     "metadata": {},
     "outputs": [],
     "prompt_number": 59
    },
    {
     "cell_type": "code",
     "collapsed": false,
     "input": [
      "lines.count()"
     ],
     "language": "python",
     "metadata": {},
     "outputs": [
      {
       "metadata": {},
       "output_type": "pyout",
       "prompt_number": 74,
       "text": [
        "421"
       ]
      }
     ],
     "prompt_number": 74
    },
    {
     "cell_type": "code",
     "collapsed": false,
     "input": [
      "from pyspark import SparkContext, SparkConf\n",
      "from pyspark.sql import HiveContext, SQLContext\n",
      "import pandas as pd\n",
      " \n"
     ],
     "language": "python",
     "metadata": {},
     "outputs": [],
     "prompt_number": 81
    },
    {
     "cell_type": "code",
     "collapsed": false,
     "input": [
      "import re\n",
      "def mapper(line):\n",
      "    words = re.split(\",\", line)\n",
      "    return [(w.lower(), 1)for w in words if w.isalpha()]\n",
      "\n",
      "lines = sc.textFile(\"output3_df.txt\")\n",
      "word_freqs = lines.flatMap(mapper).reduceByKey(lambda a,b: a+b).collect()\n",
      "word_freqs = sorted(word_freqs, key= lambda x: ~x[1])[:7]\n",
      "word_freqs"
     ],
     "language": "python",
     "metadata": {},
     "outputs": [
      {
       "metadata": {},
       "output_type": "pyout",
       "prompt_number": 93,
       "text": [
        "[(u'http', 839),\n",
        " (u'path', 421),\n",
        " (u'deflate', 419),\n",
        " (u'get', 419),\n",
        " (u'ok', 37),\n",
        " (u'nosniff', 29),\n",
        " (u'sameorigin', 29)]"
       ]
      }
     ],
     "prompt_number": 93
    },
    {
     "cell_type": "code",
     "collapsed": false,
     "input": [
      "%pylab inline\n",
      "import matplotlib.pyplot as plt\n",
      "\n",
      "words = [w[0] for w in word_freqs]\n",
      "y_pos = range(len(word_freqs))\n",
      "frequency = [w[1] for w in word_freqs]\n",
      "\n",
      "plt.barh(y_pos, frequency[::-1], align=\"center\", alpha=0.4)\n",
      "plt.yticks(y_pos, words[::-1])\n",
      "plt.xlabel(\"Frequency\")\n",
      "plt.title(\"Most common words\")\n",
      "plt.show()"
     ],
     "language": "python",
     "metadata": {},
     "outputs": [
      {
       "output_type": "stream",
       "stream": "stdout",
       "text": [
        "Populating the interactive namespace from numpy and matplotlib\n"
       ]
      },
      {
       "metadata": {},
       "output_type": "display_data",
       "png": "[encoded data removed]",
       "text": [
        "<matplotlib.figure.Figure at 0x56f51d0>"
       ]
      }
     ],
     "prompt_number": 95
    },
    {
     "cell_type": "code",
     "collapsed": false,
     "input": [],
     "language": "python",
     "metadata": {},
     "outputs": [],
     "prompt_number": 95
    },
    {
     "cell_type": "code",
     "collapsed": false,
     "input": [],
     "language": "python",
     "metadata": {},
     "outputs": []
    },
    {
     "cell_type": "code",
     "collapsed": false,
     "input": [
      "'''\n",
      "# Train model\n",
      "model = LogisticRegressionWithSGD.train(parsedData)\n",
      "\n",
      "# Predict the first elem will be actual data and the second \n",
      "# item will be the prediction of the model\n",
      "labelsAndPreds = parsedData.map(lambda point: (int(point.item(0)), \n",
      "        model.predict(point.take(range(1, point.size)))))\n",
      "\n",
      "# Evaluating the model on training data\n",
      "trainErr = labelsAndPreds.filter(lambda (v, p): v != p).count() / float(parsedData.count())\n",
      "\n",
      "# Print some stuff\n",
      "print(\"Training Error = \" + str(trainErr))\n",
      "'''"
     ],
     "language": "python",
     "metadata": {},
     "outputs": [
      {
       "ename": "Py4JJavaError",
       "evalue": "An error occurred while calling o637.collectPartitions.\n: org.apache.spark.SparkDriverExecutionException: Execution error\n\tat org.apache.spark.scheduler.DAGScheduler.runLocallyWithinThread(DAGScheduler.scala:582)\n\tat org.apache.spark.scheduler.DAGScheduler$$anon$1.run(DAGScheduler.scala:560)\nCaused by: org.apache.spark.api.python.PythonException: Traceback (most recent call last):\n  File \"/home/wenfeng/Venor/venor-research/spark-1.0.2-bin-hadoop1/python/pyspark/worker.py\", line 77, in main\n    serializer.dump_stream(func(split_index, iterator), outfile)\n  File \"/home/wenfeng/Venor/venor-research/spark-1.0.2-bin-hadoop1/python/pyspark/serializers.py\", line 191, in dump_stream\n    self.serializer.dump_stream(self._batched(iterator), stream)\n  File \"/home/wenfeng/Venor/venor-research/spark-1.0.2-bin-hadoop1/python/pyspark/serializers.py\", line 123, in dump_stream\n    for obj in iterator:\n  File \"/home/wenfeng/Venor/venor-research/spark-1.0.2-bin-hadoop1/python/pyspark/serializers.py\", line 180, in _batched\n    for item in iterator:\n  File \"/home/wenfeng/Venor/venor-research/spark-1.0.2-bin-hadoop1/python/pyspark/rdd.py\", line 885, in takeUpToNum\n    yield next(iterator)\n  File \"<ipython-input-55-57218a20d166>\", line 11, in mapper\nValueError: could not convert string to float: timeStampStartEnd\n\n\tat org.apache.spark.api.python.PythonRDD$$anon$1.read(PythonRDD.scala:115)\n\tat org.apache.spark.api.python.PythonRDD$$anon$1.<init>(PythonRDD.scala:145)\n\tat org.apache.spark.api.python.PythonRDD.compute(PythonRDD.scala:78)\n\tat org.apache.spark.rdd.RDD.computeOrReadCheckpoint(RDD.scala:262)\n\tat org.apache.spark.rdd.RDD.iterator(RDD.scala:229)\n\tat org.apache.spark.scheduler.DAGScheduler.runLocallyWithinThread(DAGScheduler.scala:575)\n\t... 1 more\n",
       "output_type": "pyerr",
       "traceback": [
        "\u001b[1;31m---------------------------------------------------------------------------\u001b[0m\n\u001b[1;31mPy4JJavaError\u001b[0m                             Traceback (most recent call last)",
        "\u001b[1;32m<ipython-input-58-6702a621aa37>\u001b[0m in \u001b[0;36m<module>\u001b[1;34m()\u001b[0m\n\u001b[1;32m----> 1\u001b[1;33m \u001b[0mparsedData\u001b[0m\u001b[1;33m.\u001b[0m\u001b[0mtake\u001b[0m\u001b[1;33m(\u001b[0m\u001b[1;36m1\u001b[0m\u001b[1;33m)\u001b[0m\u001b[1;33m\u001b[0m\u001b[0m\n\u001b[0m",
        "\u001b[1;32m/home/wenfeng/Venor/venor-research/spark-1.0.2-bin-hadoop1/python/pyspark/rdd.pyc\u001b[0m in \u001b[0;36mtake\u001b[1;34m(self, num)\u001b[0m\n\u001b[0;32m    895\u001b[0m                 \u001b[0mpartitionsToTake\u001b[0m \u001b[1;33m=\u001b[0m \u001b[0mself\u001b[0m\u001b[1;33m.\u001b[0m\u001b[0mctx\u001b[0m\u001b[1;33m.\u001b[0m\u001b[0m_gateway\u001b[0m\u001b[1;33m.\u001b[0m\u001b[0mnew_array\u001b[0m\u001b[1;33m(\u001b[0m\u001b[0mself\u001b[0m\u001b[1;33m.\u001b[0m\u001b[0mctx\u001b[0m\u001b[1;33m.\u001b[0m\u001b[0m_jvm\u001b[0m\u001b[1;33m.\u001b[0m\u001b[0mint\u001b[0m\u001b[1;33m,\u001b[0m \u001b[1;36m1\u001b[0m\u001b[1;33m)\u001b[0m\u001b[1;33m\u001b[0m\u001b[0m\n\u001b[0;32m    896\u001b[0m                 \u001b[0mpartitionsToTake\u001b[0m\u001b[1;33m[\u001b[0m\u001b[1;36m0\u001b[0m\u001b[1;33m]\u001b[0m \u001b[1;33m=\u001b[0m \u001b[0mpartition\u001b[0m\u001b[1;33m\u001b[0m\u001b[0m\n\u001b[1;32m--> 897\u001b[1;33m                 \u001b[0miterator\u001b[0m \u001b[1;33m=\u001b[0m \u001b[0mmapped\u001b[0m\u001b[1;33m.\u001b[0m\u001b[0m_jrdd\u001b[0m\u001b[1;33m.\u001b[0m\u001b[0mcollectPartitions\u001b[0m\u001b[1;33m(\u001b[0m\u001b[0mpartitionsToTake\u001b[0m\u001b[1;33m)\u001b[0m\u001b[1;33m[\u001b[0m\u001b[1;36m0\u001b[0m\u001b[1;33m]\u001b[0m\u001b[1;33m.\u001b[0m\u001b[0miterator\u001b[0m\u001b[1;33m(\u001b[0m\u001b[1;33m)\u001b[0m\u001b[1;33m\u001b[0m\u001b[0m\n\u001b[0m\u001b[0;32m    898\u001b[0m                 \u001b[0mitems\u001b[0m\u001b[1;33m.\u001b[0m\u001b[0mextend\u001b[0m\u001b[1;33m(\u001b[0m\u001b[0mmapped\u001b[0m\u001b[1;33m.\u001b[0m\u001b[0m_collect_iterator_through_file\u001b[0m\u001b[1;33m(\u001b[0m\u001b[0miterator\u001b[0m\u001b[1;33m)\u001b[0m\u001b[1;33m)\u001b[0m\u001b[1;33m\u001b[0m\u001b[0m\n\u001b[0;32m    899\u001b[0m                 \u001b[1;32mif\u001b[0m \u001b[0mlen\u001b[0m\u001b[1;33m(\u001b[0m\u001b[0mitems\u001b[0m\u001b[1;33m)\u001b[0m \u001b[1;33m>=\u001b[0m \u001b[0mnum\u001b[0m\u001b[1;33m:\u001b[0m\u001b[1;33m\u001b[0m\u001b[0m\n",
        "\u001b[1;32m/home/wenfeng/Venor/venor-research/spark-1.0.2-bin-hadoop1/python/lib/py4j-0.8.1-src.zip/py4j/java_gateway.py\u001b[0m in \u001b[0;36m__call__\u001b[1;34m(self, *args)\u001b[0m\n\u001b[0;32m    535\u001b[0m         \u001b[0manswer\u001b[0m \u001b[1;33m=\u001b[0m \u001b[0mself\u001b[0m\u001b[1;33m.\u001b[0m\u001b[0mgateway_client\u001b[0m\u001b[1;33m.\u001b[0m\u001b[0msend_command\u001b[0m\u001b[1;33m(\u001b[0m\u001b[0mcommand\u001b[0m\u001b[1;33m)\u001b[0m\u001b[1;33m\u001b[0m\u001b[0m\n\u001b[0;32m    536\u001b[0m         return_value = get_return_value(answer, self.gateway_client,\n\u001b[1;32m--> 537\u001b[1;33m                 self.target_id, self.name)\n\u001b[0m\u001b[0;32m    538\u001b[0m \u001b[1;33m\u001b[0m\u001b[0m\n\u001b[0;32m    539\u001b[0m         \u001b[1;32mfor\u001b[0m \u001b[0mtemp_arg\u001b[0m \u001b[1;32min\u001b[0m \u001b[0mtemp_args\u001b[0m\u001b[1;33m:\u001b[0m\u001b[1;33m\u001b[0m\u001b[0m\n",
        "\u001b[1;32m/home/wenfeng/Venor/venor-research/spark-1.0.2-bin-hadoop1/python/lib/py4j-0.8.1-src.zip/py4j/protocol.py\u001b[0m in \u001b[0;36mget_return_value\u001b[1;34m(answer, gateway_client, target_id, name)\u001b[0m\n\u001b[0;32m    298\u001b[0m                 raise Py4JJavaError(\n\u001b[0;32m    299\u001b[0m                     \u001b[1;34m'An error occurred while calling {0}{1}{2}.\\n'\u001b[0m\u001b[1;33m.\u001b[0m\u001b[1;33m\u001b[0m\u001b[0m\n\u001b[1;32m--> 300\u001b[1;33m                     format(target_id, '.', name), value)\n\u001b[0m\u001b[0;32m    301\u001b[0m             \u001b[1;32melse\u001b[0m\u001b[1;33m:\u001b[0m\u001b[1;33m\u001b[0m\u001b[0m\n\u001b[0;32m    302\u001b[0m                 raise Py4JError(\n",
        "\u001b[1;31mPy4JJavaError\u001b[0m: An error occurred while calling o637.collectPartitions.\n: org.apache.spark.SparkDriverExecutionException: Execution error\n\tat org.apache.spark.scheduler.DAGScheduler.runLocallyWithinThread(DAGScheduler.scala:582)\n\tat org.apache.spark.scheduler.DAGScheduler$$anon$1.run(DAGScheduler.scala:560)\nCaused by: org.apache.spark.api.python.PythonException: Traceback (most recent call last):\n  File \"/home/wenfeng/Venor/venor-research/spark-1.0.2-bin-hadoop1/python/pyspark/worker.py\", line 77, in main\n    serializer.dump_stream(func(split_index, iterator), outfile)\n  File \"/home/wenfeng/Venor/venor-research/spark-1.0.2-bin-hadoop1/python/pyspark/serializers.py\", line 191, in dump_stream\n    self.serializer.dump_stream(self._batched(iterator), stream)\n  File \"/home/wenfeng/Venor/venor-research/spark-1.0.2-bin-hadoop1/python/pyspark/serializers.py\", line 123, in dump_stream\n    for obj in iterator:\n  File \"/home/wenfeng/Venor/venor-research/spark-1.0.2-bin-hadoop1/python/pyspark/serializers.py\", line 180, in _batched\n    for item in iterator:\n  File \"/home/wenfeng/Venor/venor-research/spark-1.0.2-bin-hadoop1/python/pyspark/rdd.py\", line 885, in takeUpToNum\n    yield next(iterator)\n  File \"<ipython-input-55-57218a20d166>\", line 11, in mapper\nValueError: could not convert string to float: timeStampStartEnd\n\n\tat org.apache.spark.api.python.PythonRDD$$anon$1.read(PythonRDD.scala:115)\n\tat org.apache.spark.api.python.PythonRDD$$anon$1.<init>(PythonRDD.scala:145)\n\tat org.apache.spark.api.python.PythonRDD.compute(PythonRDD.scala:78)\n\tat org.apache.spark.rdd.RDD.computeOrReadCheckpoint(RDD.scala:262)\n\tat org.apache.spark.rdd.RDD.iterator(RDD.scala:229)\n\tat org.apache.spark.scheduler.DAGScheduler.runLocallyWithinThread(DAGScheduler.scala:575)\n\t... 1 more\n"
       ]
      }
     ],
     "prompt_number": 58
    }
   ],
   "metadata": {}
  }
 ]
}