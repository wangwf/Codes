{
 "metadata": {
  "name": "",
  "signature": "sha256:ee887cb18ea75545e2a9fab7b7f5d3be9987615e0b5718ccb0161db140366815"
 },
 "nbformat": 3,
 "nbformat_minor": 0,
 "worksheets": [
  {
   "cells": [
    {
     "cell_type": "markdown",
     "metadata": {},
     "source": [
      "#SPark\n",
      "To launch PySpark in Ipython, set the IPYTHON variable to 1 when running bin/pyspark\n",
      " $IPYTHON=1 ./bin/pyspark\n",
      "\n",
      " Alternatively, you can customize. to launch the IPython Notebook with Pylab\n",
      "\n",
      " $IPYTHON_OPTS=\"notebook --pylab inline\" ./bin/pyspark"
     ]
    },
    {
     "cell_type": "markdown",
     "metadata": {},
     "source": [
      "#Functional\n",
      "* map\n",
      "* reduce\n",
      "* filter\n",
      "* lambda\n",
      "* itertools, pytoolz\n"
     ]
    },
    {
     "cell_type": "code",
     "collapsed": false,
     "input": [
      "lambda_square = lambda x: x*x\n",
      "map(lambda_square, range(10))"
     ],
     "language": "python",
     "metadata": {},
     "outputs": [
      {
       "metadata": {},
       "output_type": "pyout",
       "prompt_number": 3,
       "text": [
        "[0, 1, 4, 9, 16, 25, 36, 49, 64, 81]"
       ]
      }
     ],
     "prompt_number": 3
    },
    {
     "cell_type": "code",
     "collapsed": false,
     "input": [
      "# reduce apply a function with two arguments cumulatively to the container\n",
      "reduce(lambda x,y: x+y, range(10))"
     ],
     "language": "python",
     "metadata": {},
     "outputs": [
      {
       "metadata": {},
       "output_type": "pyout",
       "prompt_number": 5,
       "text": [
        "45"
       ]
      }
     ],
     "prompt_number": 5
    },
    {
     "cell_type": "code",
     "collapsed": false,
     "input": [
      "#filter, constructs a new list for items where the applied function is true\n",
      "filter(lambda x: x%2==0, range(10))"
     ],
     "language": "python",
     "metadata": {},
     "outputs": [
      {
       "metadata": {},
       "output_type": "pyout",
       "prompt_number": 7,
       "text": [
        "[0, 2, 4, 6, 8]"
       ]
      }
     ],
     "prompt_number": 7
    },
    {
     "cell_type": "code",
     "collapsed": false,
     "input": [
      "from pyspark import SparkContext\n",
      "if 'sc' not in globals():\n",
      "    CLUSTER_URL= # \"spark://ec2-50-16-173-245.compute-1.amazonaws.com:7077\"\n",
      "    sc = SparkContext(CLUSTER_URL,\"example\")\n",
      "else:\n",
      "    print \"sc is here\""
     ],
     "language": "python",
     "metadata": {},
     "outputs": [
      {
       "output_type": "stream",
       "stream": "stdout",
       "text": [
        "sc is here\n"
       ]
      }
     ],
     "prompt_number": 12
    },
    {
     "cell_type": "markdown",
     "metadata": {},
     "source": [
      "#Spark \n",
      "\n",
      "Actions return values\n",
      "\n",
      "* collect,    Returns a list from all elements of an RDD\n",
      "* reduce\n",
      "* take\n",
      "* count\n",
      "\n",
      "Transformations returns pointers to new RDDs\n",
      "\n",
      "* map, flatmap\n",
      "* reduceByKey\n",
      "* filter\n",
      "* glom,     returns an RDD list form each partition of an RDD\n"
     ]
    },
    {
     "cell_type": "code",
     "collapsed": false,
     "input": [
      "import numpy as np\n",
      "\n",
      "rdd = sc.parallelize(np.arange(20), numSlices =5)"
     ],
     "language": "python",
     "metadata": {},
     "outputs": [],
     "prompt_number": 17
    },
    {
     "cell_type": "code",
     "collapsed": false,
     "input": [
      "rdd.count()"
     ],
     "language": "python",
     "metadata": {},
     "outputs": [
      {
       "metadata": {},
       "output_type": "pyout",
       "prompt_number": 14,
       "text": [
        "20"
       ]
      }
     ],
     "prompt_number": 14
    },
    {
     "cell_type": "code",
     "collapsed": false,
     "input": [
      "for x in rdd.glom().collect():\n",
      "    print x"
     ],
     "language": "python",
     "metadata": {},
     "outputs": [
      {
       "output_type": "stream",
       "stream": "stdout",
       "text": [
        "[0, 1, 2, 3]\n",
        "[4, 5, 6, 7]\n",
        "[8, 9, 10, 11]\n",
        "[12, 13, 14, 15]\n",
        "[16, 17, 18, 19]\n"
       ]
      }
     ],
     "prompt_number": 19
    },
    {
     "cell_type": "code",
     "collapsed": false,
     "input": [
      "rdd = sc.parallelize(np.arange(20), numSlices=10)\n",
      "for x in rdd.glom().collect():\n",
      "    print x"
     ],
     "language": "python",
     "metadata": {},
     "outputs": [
      {
       "output_type": "stream",
       "stream": "stdout",
       "text": [
        "[0, 1]\n",
        "[2, 3]\n",
        "[4, 5]\n",
        "[6, 7]\n",
        "[8, 9]\n",
        "[10, 11]\n",
        "[12, 13]\n",
        "[14, 15]\n",
        "[16, 17]\n",
        "[18, 19]\n"
       ]
      }
     ],
     "prompt_number": 20
    },
    {
     "cell_type": "markdown",
     "metadata": {},
     "source": [
      "# map and Flatmap"
     ]
    },
    {
     "cell_type": "code",
     "collapsed": false,
     "input": [
      "rdd = sc.parallelize([ [2, 3, 4],[0, 1],[5, 6, 7, 8] ])\n",
      "rdd.collect()"
     ],
     "language": "python",
     "metadata": {},
     "outputs": [
      {
       "metadata": {},
       "output_type": "pyout",
       "prompt_number": 22,
       "text": [
        "[[2, 3, 4], [0, 1], [5, 6, 7, 8]]"
       ]
      }
     ],
     "prompt_number": 22
    },
    {
     "cell_type": "code",
     "collapsed": false,
     "input": [
      "rdd.map(lambda x: range(len(x))).collect()"
     ],
     "language": "python",
     "metadata": {},
     "outputs": [
      {
       "metadata": {},
       "output_type": "pyout",
       "prompt_number": 25,
       "text": [
        "[[0, 1, 2], [0, 1], [0, 1, 2, 3]]"
       ]
      }
     ],
     "prompt_number": 25
    },
    {
     "cell_type": "code",
     "collapsed": false,
     "input": [
      "rdd.flatMap(lambda x: range(len(x))).collect()"
     ],
     "language": "python",
     "metadata": {},
     "outputs": [
      {
       "metadata": {},
       "output_type": "pyout",
       "prompt_number": 26,
       "text": [
        "[0, 1, 2, 0, 1, 0, 1, 2, 3]"
       ]
      }
     ],
     "prompt_number": 26
    },
    {
     "cell_type": "markdown",
     "metadata": {},
     "source": [
      "# reduce\n",
      "* reduce()\n",
      "* reduceByKey()\n",
      "* countByKey()\n"
     ]
    },
    {
     "cell_type": "code",
     "collapsed": false,
     "input": [
      "#reduce\n",
      "rdd.flatMap(lambda x:x).reduce(lambda x,y: x+y)"
     ],
     "language": "python",
     "metadata": {},
     "outputs": [
      {
       "metadata": {},
       "output_type": "pyout",
       "prompt_number": 27,
       "text": [
        "36"
       ]
      }
     ],
     "prompt_number": 27
    },
    {
     "cell_type": "code",
     "collapsed": false,
     "input": [
      "rdd = sc.parallelize([(\"a\", 1), (\"b\", 1), (\"a\", 2)])\n",
      "rdd.collect()"
     ],
     "language": "python",
     "metadata": {},
     "outputs": [
      {
       "metadata": {},
       "output_type": "pyout",
       "prompt_number": 30,
       "text": [
        "[('a', 1), ('b', 1), ('a', 2)]"
       ]
      }
     ],
     "prompt_number": 30
    },
    {
     "cell_type": "code",
     "collapsed": false,
     "input": [
      "rdd.reduceByKey(lambda x,y:x+y).collect()"
     ],
     "language": "python",
     "metadata": {},
     "outputs": [
      {
       "metadata": {},
       "output_type": "pyout",
       "prompt_number": 31,
       "text": [
        "[('a', 3), ('b', 1)]"
       ]
      }
     ],
     "prompt_number": 31
    },
    {
     "cell_type": "code",
     "collapsed": false,
     "input": [
      "rdd.countByKey()"
     ],
     "language": "python",
     "metadata": {},
     "outputs": [
      {
       "metadata": {},
       "output_type": "pyout",
       "prompt_number": 32,
       "text": [
        "defaultdict(<type 'int'>, {'a': 2, 'b': 1})"
       ]
      }
     ],
     "prompt_number": 32
    },
    {
     "cell_type": "markdown",
     "metadata": {},
     "source": [
      "#Computation"
     ]
    },
    {
     "cell_type": "code",
     "collapsed": false,
     "input": [
      "import time\n",
      "import os\n",
      "\n",
      "def work(x):\n",
      "    start_time = time.time()\n",
      "    time.sleep(x)\n",
      "    end_time = time.time()\n",
      "    return {'id':os.getpid(), 'start':start_time, 'end_time':end_time}\n",
      "\n"
     ],
     "language": "python",
     "metadata": {},
     "outputs": [],
     "prompt_number": 34
    },
    {
     "cell_type": "code",
     "collapsed": false,
     "input": [
      "import numpy as np\n",
      "np.random.seed(1045)\n",
      "job_times = np.random.uniform(0.4, 0.6, 240)"
     ],
     "language": "python",
     "metadata": {},
     "outputs": [],
     "prompt_number": 35
    },
    {
     "cell_type": "code",
     "collapsed": false,
     "input": [
      "print 'Estimated serial time = {0:0.2f}'.format(job_times.sum())\n",
      "print 'Amdahls parallel time = {0:0.2f}'.format(job_times.sum()/12.)"
     ],
     "language": "python",
     "metadata": {},
     "outputs": [
      {
       "output_type": "stream",
       "stream": "stdout",
       "text": [
        "Estimated serial time = 119.80\n",
        "Amdahls parallel time = 9.98\n"
       ]
      }
     ],
     "prompt_number": 36
    },
    {
     "cell_type": "code",
     "collapsed": false,
     "input": [
      "%matplotlib inline\n",
      "import matplotlib.pyplot as plt\n",
      "import pandas as pd\n",
      "\n",
      "def plot_workflow(results):\n",
      "    res = pd.DataFrame(results)\n",
      "    ids = list(set(res['id']))\n",
      "    id_dic = dict( [k,v+0.65] for k,v in zip(ids, range(len(ids))))\n",
      "    fig, ax = plt.subplots(figsize=(8, 6))\n",
      "\n",
      "    tmin = res['start'].min()    \n",
      "    for i in res.index:\n",
      "        x_start = res.ix[i]['start'] - tmin\n",
      "        x_end = res.ix[i]['end_time'] - tmin - x_start\n",
      "        x_id = id_dic[res.ix[i]['id']]\n",
      "        ax.add_patch(plt.Rectangle((x_start, x_id), \n",
      "                                   x_end, 0.8, \n",
      "                                   alpha=0.5, \n",
      "                                   color='grey'))\n",
      "    \n",
      "    ax.set_ylim(0.5, len(ids)+0.5)\n",
      "    ax.set_xlim(0, res['end_time'].max() - tmin)\n",
      "    ax.set_ylabel(\"Worker\")\n",
      "    ax.set_xlabel(\"seconds\")"
     ],
     "language": "python",
     "metadata": {},
     "outputs": [],
     "prompt_number": 37
    },
    {
     "cell_type": "code",
     "collapsed": false,
     "input": [
      "jobs = sc.parallelize(job_times)\n",
      "print jobs.count()\n",
      "results = jobs.map(work)\n",
      "%time res = results.collect()"
     ],
     "language": "python",
     "metadata": {},
     "outputs": [
      {
       "output_type": "stream",
       "stream": "stdout",
       "text": [
        "240\n",
        "CPU times: user 12 ms, sys: 4 ms, total: 16 ms"
       ]
      },
      {
       "output_type": "stream",
       "stream": "stdout",
       "text": [
        "\n",
        "Wall time: 15.6 s\n"
       ]
      }
     ],
     "prompt_number": 38
    },
    {
     "cell_type": "code",
     "collapsed": false,
     "input": [
      "plot_workflow(res)"
     ],
     "language": "python",
     "metadata": {},
     "outputs": [
      {
       "metadata": {},
       "output_type": "display_data",
       "png": "[encoded data removed]",
       "text": [
        "<matplotlib.figure.Figure at 0x3d8c350>"
       ]
      }
     ],
     "prompt_number": 39
    },
    {
     "cell_type": "code",
     "collapsed": false,
     "input": [
      "import numpy as np\n",
      "data = np.arange(1000).reshape(100,10)\n",
      "print data.shape"
     ],
     "language": "python",
     "metadata": {},
     "outputs": [
      {
       "output_type": "stream",
       "stream": "stdout",
       "text": [
        "(100, 10)\n"
       ]
      }
     ],
     "prompt_number": 40
    },
    {
     "cell_type": "code",
     "collapsed": false,
     "input": [
      "import pandas as pd\n",
      "\n",
      "tmp = pd.DataFrame(data, \n",
      "             columns=['x{0}'.format(i) for i in range(data.shape[1])])\n",
      "tmp.head()"
     ],
     "language": "python",
     "metadata": {},
     "outputs": [
      {
       "html": [
        "<div style=\"max-height:1000px;max-width:1500px;overflow:auto;\">\n",
        "<table border=\"1\" class=\"dataframe\">\n",
        "  <thead>\n",
        "    <tr style=\"text-align: right;\">\n",
        "      <th></th>\n",
        "      <th>x0</th>\n",
        "      <th>x1</th>\n",
        "      <th>x2</th>\n",
        "      <th>x3</th>\n",
        "      <th>x4</th>\n",
        "      <th>x5</th>\n",
        "      <th>x6</th>\n",
        "      <th>x7</th>\n",
        "      <th>x8</th>\n",
        "      <th>x9</th>\n",
        "    </tr>\n",
        "  </thead>\n",
        "  <tbody>\n",
        "    <tr>\n",
        "      <th>0</th>\n",
        "      <td>  0</td>\n",
        "      <td>  1</td>\n",
        "      <td>  2</td>\n",
        "      <td>  3</td>\n",
        "      <td>  4</td>\n",
        "      <td>  5</td>\n",
        "      <td>  6</td>\n",
        "      <td>  7</td>\n",
        "      <td>  8</td>\n",
        "      <td>  9</td>\n",
        "    </tr>\n",
        "    <tr>\n",
        "      <th>1</th>\n",
        "      <td> 10</td>\n",
        "      <td> 11</td>\n",
        "      <td> 12</td>\n",
        "      <td> 13</td>\n",
        "      <td> 14</td>\n",
        "      <td> 15</td>\n",
        "      <td> 16</td>\n",
        "      <td> 17</td>\n",
        "      <td> 18</td>\n",
        "      <td> 19</td>\n",
        "    </tr>\n",
        "    <tr>\n",
        "      <th>2</th>\n",
        "      <td> 20</td>\n",
        "      <td> 21</td>\n",
        "      <td> 22</td>\n",
        "      <td> 23</td>\n",
        "      <td> 24</td>\n",
        "      <td> 25</td>\n",
        "      <td> 26</td>\n",
        "      <td> 27</td>\n",
        "      <td> 28</td>\n",
        "      <td> 29</td>\n",
        "    </tr>\n",
        "    <tr>\n",
        "      <th>3</th>\n",
        "      <td> 30</td>\n",
        "      <td> 31</td>\n",
        "      <td> 32</td>\n",
        "      <td> 33</td>\n",
        "      <td> 34</td>\n",
        "      <td> 35</td>\n",
        "      <td> 36</td>\n",
        "      <td> 37</td>\n",
        "      <td> 38</td>\n",
        "      <td> 39</td>\n",
        "    </tr>\n",
        "    <tr>\n",
        "      <th>4</th>\n",
        "      <td> 40</td>\n",
        "      <td> 41</td>\n",
        "      <td> 42</td>\n",
        "      <td> 43</td>\n",
        "      <td> 44</td>\n",
        "      <td> 45</td>\n",
        "      <td> 46</td>\n",
        "      <td> 47</td>\n",
        "      <td> 48</td>\n",
        "      <td> 49</td>\n",
        "    </tr>\n",
        "  </tbody>\n",
        "</table>\n",
        "</div>"
       ],
       "metadata": {},
       "output_type": "pyout",
       "prompt_number": 41,
       "text": [
        "   x0  x1  x2  x3  x4  x5  x6  x7  x8  x9\n",
        "0   0   1   2   3   4   5   6   7   8   9\n",
        "1  10  11  12  13  14  15  16  17  18  19\n",
        "2  20  21  22  23  24  25  26  27  28  29\n",
        "3  30  31  32  33  34  35  36  37  38  39\n",
        "4  40  41  42  43  44  45  46  47  48  49"
       ]
      }
     ],
     "prompt_number": 41
    },
    {
     "cell_type": "code",
     "collapsed": false,
     "input": [
      "tmp.sum(axis=1)"
     ],
     "language": "python",
     "metadata": {},
     "outputs": [
      {
       "metadata": {},
       "output_type": "pyout",
       "prompt_number": 45,
       "text": [
        "0       45\n",
        "1      145\n",
        "2      245\n",
        "3      345\n",
        "4      445\n",
        "5      545\n",
        "6      645\n",
        "7      745\n",
        "8      845\n",
        "9      945\n",
        "10    1045\n",
        "11    1145\n",
        "12    1245\n",
        "13    1345\n",
        "14    1445\n",
        "...\n",
        "85    8545\n",
        "86    8645\n",
        "87    8745\n",
        "88    8845\n",
        "89    8945\n",
        "90    9045\n",
        "91    9145\n",
        "92    9245\n",
        "93    9345\n",
        "94    9445\n",
        "95    9545\n",
        "96    9645\n",
        "97    9745\n",
        "98    9845\n",
        "99    9945\n",
        "Length: 100, dtype: int64"
       ]
      }
     ],
     "prompt_number": 45
    },
    {
     "cell_type": "code",
     "collapsed": false,
     "input": [
      "tmp.to_csv(\"numbers.csv\",index=False)"
     ],
     "language": "python",
     "metadata": {},
     "outputs": [],
     "prompt_number": 46
    },
    {
     "cell_type": "code",
     "collapsed": false,
     "input": [],
     "language": "python",
     "metadata": {},
     "outputs": [],
     "prompt_number": 46
    },
    {
     "cell_type": "code",
     "collapsed": false,
     "input": [],
     "language": "python",
     "metadata": {},
     "outputs": []
    }
   ],
   "metadata": {}
  }
 ]
}