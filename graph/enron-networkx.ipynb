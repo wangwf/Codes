{
 "metadata": {
  "name": "",
  "signature": "sha256:5b43ff862ebf9692f08451889d321ee92085bfbfac46c6f1a8f1a11946d5dfd8"
 },
 "nbformat": 3,
 "nbformat_minor": 0,
 "worksheets": [
  {
   "cells": [
    {
     "cell_type": "markdown",
     "metadata": {},
     "source": [
      "Using senders and recipients build a directed graph, then analysis :\n",
      "    * Centrality: out-degree, in-degree, betweenness etal\n",
      "    * Community\n",
      "    * With time variable, time-based graph. (Switch to Neo4j? )\n",
      "    * graph-based anomaly\n",
      "    \n",
      "Here, I use Pandas to read csv file, and Networkx to export graphml-format. \n"
     ]
    },
    {
     "cell_type": "code",
     "collapsed": false,
     "input": [
      "import networkx as nx\n",
      "import pandas as pd\n",
      "%matplotlib inline"
     ],
     "language": "python",
     "metadata": {},
     "outputs": [],
     "prompt_number": 1
    },
    {
     "cell_type": "code",
     "collapsed": false,
     "input": [
      "enronFile = \"/Users/wangwf/work/Codes/RedOwl-Data-Science-Recruiting-Exam/enron-event-history-all.csv\"\n",
      "enron = pd.read_csv(enronFile, sep=\",\",names=[\"time\",\"messageID\",\"sender\",\"recipients\",\"topic\",\"mode\"])"
     ],
     "language": "python",
     "metadata": {},
     "outputs": [],
     "prompt_number": 2
    },
    {
     "cell_type": "code",
     "collapsed": false,
     "input": [
      "enron.columns, enron.shape"
     ],
     "language": "python",
     "metadata": {},
     "outputs": [
      {
       "metadata": {},
       "output_type": "pyout",
       "prompt_number": 3,
       "text": [
        "(Index([u'time', u'messageID', u'sender', u'recipients', u'topic', u'mode'], dtype='object'),\n",
        " (205731, 6))"
       ]
      }
     ],
     "prompt_number": 3
    },
    {
     "cell_type": "markdown",
     "metadata": {},
     "source": [
      "enron.ix[1:10,2:4]"
     ]
    },
    {
     "cell_type": "markdown",
     "metadata": {},
     "source": [
      "# Graph - networkX"
     ]
    },
    {
     "cell_type": "code",
     "collapsed": false,
     "input": [
      "# add node to graph\n",
      "def add_node(g, n, weight=None):\n",
      "#    print(g.has_node(n),n)\n",
      "    # \"weight\" means how many times this person-n send/receive email\n",
      "    if not g.has_node(n):\n",
      "        g.add_node(n)\n",
      "#        g.node[n]['weight']=1\n",
      "#        g.node[n]['name'] = str(n)\n",
      "#    else:\n",
      "#        g.node[n]['weight'] +=1\n",
      "\n",
      "\n",
      "# add all recipients\n",
      "i=0\n",
      "def add_edges(g,n, recipients):\n",
      "    # for existing node n only\n",
      "    #print len(recipients), type(recipients)\n",
      "    for recipient in recipients:\n",
      "        add_node(g,recipient)\n",
      "        #print n, recipient, g.has_edge(n, recipient)\n",
      "        if not g.has_edge(n, recipient):\n",
      "            g.add_edge(n, recipient)\n",
      "            g[n][recipient]['weight']  = 1\n",
      "        else:\n",
      "            g[n][recipient]['weight'] += 1\n",
      "\n",
      "# Generate a full enron-email-graph\n",
      "def enronGraph(enron,f=\"enron.graphml\"):\n",
      "    #directed graph\n",
      "    g = nx.DiGraph()\n",
      "    for index, row in enron.iterrows():\n",
      "        sender = str(row[\"sender\"])\n",
      "        if sender==\"\":\n",
      "            pass\n",
      "        add_node(g, sender)\n",
      "        recipients = str(row[\"recipients\"]).split(\"|\")\n",
      "        add_edges(g, sender, recipients)\n",
      "    #output graph to a file\n",
      "    nx.write_graphml(g, f)"
     ],
     "language": "python",
     "metadata": {},
     "outputs": [],
     "prompt_number": 11
    },
    {
     "cell_type": "code",
     "collapsed": false,
     "input": [
      "# Subgraph for person-connections\n",
      "def personGraph(person):\n",
      "    g1=nx.DiGraph()\n",
      "    # adding all contacts to nodes\n",
      "    g1.add_node(person)\n",
      "    for index, row in enron.iterrows():\n",
      "        sender = str(row[\"sender\"])\n",
      "        #add all recipients\n",
      "        if sender == person: #in top5[0]:\n",
      "            recipients = str(row[\"recipients\"]).split(\"|\")\n",
      "            #print recipients\n",
      "            add_edges(g1,sender,recipients)\n",
      "\n",
      "    print \"Graph nodes, edges, and number of selfloops\"\n",
      "    print  g1.number_of_nodes(), g1.number_of_edges(), g1.number_of_selfloops()\n",
      "    nx.write_graphml(g1, \"enron_\"+person.replace(\" \",\"\")+\".graphml\")\n",
      "   "
     ],
     "language": "python",
     "metadata": {},
     "outputs": [],
     "prompt_number": 12
    },
    {
     "cell_type": "code",
     "collapsed": false,
     "input": [
      "# Generate subgroup for person's connection but this central person is not included.\n",
      "def connectionsGraph(person):\n",
      "    g1=nx.DiGraph()\n",
      "    # adding all contacts to nodes\n",
      "    for index, row in enron.iterrows():\n",
      "        sender = str(row[\"sender\"])\n",
      "        #add all recipients\n",
      "        if sender == person: #in top5[0]:\n",
      "            recipients = str(row[\"recipients\"]).split(\"|\")\n",
      "            for recipient in recipients:\n",
      "                g1.add_node(recipient)\n",
      "\n",
      "\n",
      "    # find and build edges bwteen connections\n",
      "    for index, row in enron.iterrows():\n",
      "        sender = str(row[\"sender\"])\n",
      "        #print g.has_node(sender), sender\n",
      "        if g1.has_node(sender):\n",
      "            recipients = str(row[\"recipients\"]).split(\"|\")\n",
      "        #      print recipients\n",
      "            for recipient in recipients:\n",
      "         #           print recipient, g1.has_node()\n",
      "                if g1.has_node(recipient):\n",
      "                    if not g1.has_edge(sender, recipient):\n",
      "                        g1.add_edge(sender, recipient)\n",
      "                        g1[sender][recipient]['weight'] =1\n",
      "                    else:\n",
      "                        g1[sender][recipient]['weight'] +=1\n",
      "                        #g1.add_edge(sender, recipient)\n",
      "    \n",
      "    print \"Graph nodes, edges, and number of selfloops\"\n",
      "    print  g1.number_of_nodes(), g1.number_of_edges(), g1.number_of_selfloops()\n",
      "\n",
      "    nx.write_graphml(g1, \"enron_\"+person.replace(\" \",\"\")+\"_connections.graphml\")\n",
      "   "
     ],
     "language": "python",
     "metadata": {},
     "outputs": [],
     "prompt_number": 13
    },
    {
     "cell_type": "code",
     "collapsed": false,
     "input": [
      "#\n",
      "#Sub-graph for selected person\n",
      "top5=[\"jeff dasovich\",\"sara shackleton\",\"pete davis\",\"chris germany\", \"notes\"]\n",
      "personGraph(top5[2])"
     ],
     "language": "python",
     "metadata": {},
     "outputs": [
      {
       "output_type": "stream",
       "stream": "stdout",
       "text": [
        "Graph nodes, edges, and number of selfloops\n",
        "17 16 0\n"
       ]
      }
     ],
     "prompt_number": 14
    },
    {
     "cell_type": "code",
     "collapsed": false,
     "input": [
      "connectionsGraph(top5[2])"
     ],
     "language": "python",
     "metadata": {},
     "outputs": [
      {
       "output_type": "stream",
       "stream": "stdout",
       "text": [
        "Graph nodes, edges, and number of selfloops\n",
        "16 46 0\n"
       ]
      }
     ],
     "prompt_number": 15
    },
    {
     "cell_type": "code",
     "collapsed": false,
     "input": [
      "g= nx.read_graphml(\"enron_petedavis.graphml\")"
     ],
     "language": "python",
     "metadata": {},
     "outputs": [],
     "prompt_number": 16
    },
    {
     "cell_type": "code",
     "collapsed": false,
     "input": [
      "nx.draw(g)"
     ],
     "language": "python",
     "metadata": {},
     "outputs": [
      {
       "metadata": {},
       "output_type": "display_data",
       "png": "[encoded data removed]",
       "text": [
        "<matplotlib.figure.Figure at 0x10184a310>"
       ]
      }
     ],
     "prompt_number": 17
    },
    {
     "cell_type": "code",
     "collapsed": false,
     "input": [
      "g1 = g.to_undirected() # convert directed graph to undirected\n",
      "groups=nx.connected_components(g1)  "
     ],
     "language": "python",
     "metadata": {},
     "outputs": [],
     "prompt_number": 18
    },
    {
     "cell_type": "code",
     "collapsed": false,
     "input": [
      "for g in groups:    print g"
     ],
     "language": "python",
     "metadata": {},
     "outputs": [
      {
       "output_type": "stream",
       "stream": "stdout",
       "text": [
        "['darin presto', 'holden salisbury', 'david poston', 'craig dean', 'phillip platter', 'bert meyers', 'eric linder', 'cmallor', 'portland shift', 'chris mallory', 'bill williams', 'monika causholli', 'jmorris', 'pete davis', 'geir solberg', 'porter', 'pplatte']\n"
       ]
      }
     ],
     "prompt_number": 19
    },
    {
     "cell_type": "code",
     "collapsed": false,
     "input": [],
     "language": "python",
     "metadata": {},
     "outputs": []
    }
   ],
   "metadata": {}
  }
 ]
}