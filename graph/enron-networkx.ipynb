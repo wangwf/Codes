{
 "metadata": {
  "name": "",
  "signature": "sha256:3c21a891ce485e76fedbb8317d154eb01504bd1a730521ad5275d4805661db04"
 },
 "nbformat": 3,
 "nbformat_minor": 0,
 "worksheets": [
  {
   "cells": [
    {
     "cell_type": "code",
     "collapsed": false,
     "input": [
      "import networkx as nx\n",
      "import pandas as pd"
     ],
     "language": "python",
     "metadata": {},
     "outputs": [],
     "prompt_number": 1
    },
    {
     "cell_type": "code",
     "collapsed": false,
     "input": [
      "enron = pd.read_csv(\"./enron-event-history-all.csv\", sep=\",\",names=[\"time\",\"messageID\",\"sender\",\"recipients\",\"topic\",\"mode\"])"
     ],
     "language": "python",
     "metadata": {},
     "outputs": [],
     "prompt_number": 2
    },
    {
     "cell_type": "code",
     "collapsed": false,
     "input": [
      "enron.columns\n"
     ],
     "language": "python",
     "metadata": {},
     "outputs": [
      {
       "metadata": {},
       "output_type": "pyout",
       "prompt_number": 3,
       "text": [
        "Index([u'time', u'messageID', u'sender', u'recipients', u'topic', u'mode'], dtype='object')"
       ]
      }
     ],
     "prompt_number": 3
    },
    {
     "cell_type": "code",
     "collapsed": false,
     "input": [
      "enron.ix[1:10,2:4]"
     ],
     "language": "python",
     "metadata": {},
     "outputs": [
      {
       "html": [
        "<div style=\"max-height:1000px;max-width:1500px;overflow:auto;\">\n",
        "<table border=\"1\" class=\"dataframe\">\n",
        "  <thead>\n",
        "    <tr style=\"text-align: right;\">\n",
        "      <th></th>\n",
        "      <th>sender</th>\n",
        "      <th>recipients</th>\n",
        "    </tr>\n",
        "  </thead>\n",
        "  <tbody>\n",
        "    <tr>\n",
        "      <th>1 </th>\n",
        "      <td> mark legal taylor</td>\n",
        "      <td>                     Marc.R.Cutler@BankAmerica.com</td>\n",
        "    </tr>\n",
        "    <tr>\n",
        "      <th>2 </th>\n",
        "      <td> mark legal taylor</td>\n",
        "      <td>                     Marc.R.Cutler@BankAmerica.com</td>\n",
        "    </tr>\n",
        "    <tr>\n",
        "      <th>3 </th>\n",
        "      <td> mark legal taylor</td>\n",
        "      <td>                                       shari stack</td>\n",
        "    </tr>\n",
        "    <tr>\n",
        "      <th>4 </th>\n",
        "      <td> mark legal taylor</td>\n",
        "      <td>                     Marc.R.Cutler@BankAmerica.com</td>\n",
        "    </tr>\n",
        "    <tr>\n",
        "      <th>5 </th>\n",
        "      <td> mark legal taylor</td>\n",
        "      <td>                                         yao apasu</td>\n",
        "    </tr>\n",
        "    <tr>\n",
        "      <th>6 </th>\n",
        "      <td>         yao apasu</td>\n",
        "      <td>                    brent hendry|mark legal taylor</td>\n",
        "    </tr>\n",
        "    <tr>\n",
        "      <th>7 </th>\n",
        "      <td> mark legal taylor</td>\n",
        "      <td>                     Marc.R.Cutler@BankAmerica.com</td>\n",
        "    </tr>\n",
        "    <tr>\n",
        "      <th>8 </th>\n",
        "      <td> mark legal taylor</td>\n",
        "      <td>                                       paul simons</td>\n",
        "    </tr>\n",
        "    <tr>\n",
        "      <th>9 </th>\n",
        "      <td> mark legal taylor</td>\n",
        "      <td> Cynthia C Sandherr@Enron|Jeffrey Keeler@Enron|...</td>\n",
        "    </tr>\n",
        "    <tr>\n",
        "      <th>10</th>\n",
        "      <td> mark legal taylor</td>\n",
        "      <td>                                           mtaylor</td>\n",
        "    </tr>\n",
        "  </tbody>\n",
        "</table>\n",
        "</div>"
       ],
       "metadata": {},
       "output_type": "pyout",
       "prompt_number": 25,
       "text": [
        "               sender                                         recipients\n",
        "1   mark legal taylor                      Marc.R.Cutler@BankAmerica.com\n",
        "2   mark legal taylor                      Marc.R.Cutler@BankAmerica.com\n",
        "3   mark legal taylor                                        shari stack\n",
        "4   mark legal taylor                      Marc.R.Cutler@BankAmerica.com\n",
        "5   mark legal taylor                                          yao apasu\n",
        "6           yao apasu                     brent hendry|mark legal taylor\n",
        "7   mark legal taylor                      Marc.R.Cutler@BankAmerica.com\n",
        "8   mark legal taylor                                        paul simons\n",
        "9   mark legal taylor  Cynthia C Sandherr@Enron|Jeffrey Keeler@Enron|...\n",
        "10  mark legal taylor                                            mtaylor"
       ]
      }
     ],
     "prompt_number": 25
    },
    {
     "cell_type": "code",
     "collapsed": false,
     "input": [
      "#directed graph\n",
      "g = nx.DiGraph()\n"
     ],
     "language": "python",
     "metadata": {},
     "outputs": [],
     "prompt_number": 13
    },
    {
     "cell_type": "code",
     "collapsed": false,
     "input": [
      "def add_node(g, n, weight=None):\n",
      "#    print(g.has_node(n),n)\n",
      "    if not g.has_node(n):\n",
      "        g.add_node(n)\n",
      "#        g.node[n]['weight']=1\n",
      "#        g.node[n]['name'] = str(n)\n",
      "#    else:\n",
      "#        g.node[n]['weight'] +=1\n",
      "\n",
      "\n",
      "def add_edge(g,n1, n2, weight=None):\n",
      "    if not g.has_node(n2):\n",
      "        add_node(n2)\n",
      "    if not g.has_edge(n1, n2):\n",
      "        g.add_edge(n1,n2)\n",
      "        g[n1][n2]['weight'] =1\n",
      "    else:\n",
      "        g[n1][n2]['weight'] +=1\n",
      "        \n",
      "def enronGraph(enron,f=\"enron.graphml\"):\n",
      "    for index, row in enron.iterrows():\n",
      "        sender = str(row[\"sender\"])\n",
      "        if sender==\"\":\n",
      "            pass\n",
      "        add_node(sender)\n",
      "        recipients = str(row[\"recipients\"]).split(\"|\")\n",
      "        for recipient in recipients:\n",
      "            add_edge(sender, recipient)"
     ],
     "language": "python",
     "metadata": {},
     "outputs": [],
     "prompt_number": 18
    },
    {
     "cell_type": "code",
     "collapsed": false,
     "input": [
      "'''\n",
      "\n",
      "'''\n",
      "\n",
      "top5=[\"jeff dasovich\",\"sara shackleton\",\"pete davis\",\"chris germany\", \"notes\"]\n",
      "for index, row in enron.iterrows():\n",
      "    sender = str(row[\"sender\"])\n",
      "    if sender in top5:\n",
      "        add_node(sender)\n",
      "        recipients = str(row[\"recipients\"]).split(\"|\")\n",
      "        for recipient in recipients:\n",
      "            add_edge(sender, recipient)\n",
      "\n",
      "\n",
      "nx.write_graphml(g, \"enron.graphml\")\n",
      "    "
     ],
     "language": "python",
     "metadata": {},
     "outputs": [],
     "prompt_number": 57
    },
    {
     "cell_type": "code",
     "collapsed": false,
     "input": [
      "g.number_of_edges(), g.number_of_nodes(), g.number_of_selfloops()"
     ],
     "language": "python",
     "metadata": {},
     "outputs": [
      {
       "metadata": {},
       "output_type": "pyout",
       "prompt_number": 58,
       "text": [
        "(125653, 36456, 0)"
       ]
      }
     ],
     "prompt_number": 58
    },
    {
     "cell_type": "code",
     "collapsed": false,
     "input": [
      "top5=[\"jeff dasovich\",\"sara shackleton\",\"pete davis\",\"chris germany\", \"notes\"]\n",
      "\n",
      "def connectionsG(person):\n",
      "    g1=nx.DiGraph()\n",
      "    # adding all contacts to nodes\n",
      "    for index, row in enron.iterrows():\n",
      "        sender = str(row[\"sender\"])\n",
      "        #add all recipients\n",
      "        if sender == person: #in top5[0]:\n",
      "            recipients = str(row[\"recipients\"]).split(\"|\")\n",
      "            for recipient in recipients:\n",
      "                g1.add_node(recipient)\n",
      "                #add_edge(sender, recipient)\n",
      "\n",
      "    # find and build edges bwteen contacts\n",
      "    for index, row in enron.iterrows():\n",
      "        sender = str(row[\"sender\"])\n",
      "        #print g.has_node(sender), sender\n",
      "        if g1.has_node(sender):\n",
      "            recipients = str(row[\"recipients\"]).split(\"|\")\n",
      "        #      print recipients\n",
      "            for recipient in recipients:\n",
      "         #           print recipient, g1.has_node()\n",
      "                if g1.has_node(recipient):\n",
      "                    if not g1.has_edge(sender, recipient):\n",
      "                        g1.add_edge(sender, recipient)\n",
      "                        g1[sender][recipient]['weight'] =1\n",
      "                    else:\n",
      "                        g1[sender][recipient]['weight'] +=1\n",
      "                        #g1.add_edge(sender, recipient)\n",
      "    \n",
      "    print g1.number_of_edges(), g1.number_of_nodes(), g1.number_of_selfloops()\n",
      "    nx.write_graphml(g1, \"enron_\"+person.replace(\" \",\"\")+\".graphml\")\n",
      "   "
     ],
     "language": "python",
     "metadata": {},
     "outputs": [],
     "prompt_number": 21
    },
    {
     "cell_type": "code",
     "collapsed": false,
     "input": [
      "connectionsG(top5[0])"
     ],
     "language": "python",
     "metadata": {},
     "outputs": [
      {
       "output_type": "stream",
       "stream": "stdout",
       "text": [
        "5620 929 0\n"
       ]
      }
     ],
     "prompt_number": 22
    },
    {
     "cell_type": "code",
     "collapsed": false,
     "input": [
      "connectionsG(top5[2])"
     ],
     "language": "python",
     "metadata": {},
     "outputs": [
      {
       "output_type": "stream",
       "stream": "stdout",
       "text": [
        "46 16 0\n"
       ]
      }
     ],
     "prompt_number": 23
    },
    {
     "cell_type": "code",
     "collapsed": false,
     "input": [],
     "language": "python",
     "metadata": {},
     "outputs": []
    }
   ],
   "metadata": {}
  }
 ]
}