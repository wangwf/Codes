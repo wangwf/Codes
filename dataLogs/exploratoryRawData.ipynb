{
 "metadata": {
  "name": "",
  "signature": "sha256:d1c628ada75ceffc34dd4363d43e5ed48e7a0dc30fbc0e217bc94ff1614b4db5"
 },
 "nbformat": 3,
 "nbformat_minor": 0,
 "worksheets": [
  {
   "cells": [
    {
     "cell_type": "markdown",
     "metadata": {},
     "source": [
      "#Exploratory raw text file\n",
      "\n",
      "The below\n",
      "\n",
      " * The log files follows the pattern n1:length-n1-string:1#]}:n2:length-n2-string:1#]}... nn:length-nn-string:1#]}\n",
      " * key-value pattern in file  :key1,n11:value1:\n",
      "\n"
     ]
    },
    {
     "cell_type": "code",
     "collapsed": false,
     "input": [
      "flearn = \"learnDataSet.log\"\n",
      "ftest  = \"malformed.log\"\n",
      "#text = f.read()"
     ],
     "language": "python",
     "metadata": {},
     "outputs": [],
     "prompt_number": 2
    },
    {
     "cell_type": "markdown",
     "metadata": {},
     "source": [
      "## 1. Global pattern check\n",
      "\n",
      " * The log files follows the pattern n1:length-n1-string:1#]}:n2:length-n2-string:1#]}... nn:length-nn-string:1#]}"
     ]
    },
    {
     "cell_type": "code",
     "collapsed": false,
     "input": [
      "''' The log files follows the pattern\n",
      "  n1:length-n1-string:1#]}:n2:length-n2-string:1#]}... nn:length-nn-string:1#]}\n",
      "'''\n",
      "import tools\n",
      "reload(tools)"
     ],
     "language": "python",
     "metadata": {},
     "outputs": [
      {
       "metadata": {},
       "output_type": "pyout",
       "prompt_number": 3,
       "text": [
        "<module 'tools' from 'tools.pyc'>"
       ]
      }
     ],
     "prompt_number": 3
    },
    {
     "cell_type": "code",
     "collapsed": false,
     "input": [
      "# check training data log\n",
      "tools.checkPattern(flearn)\n",
      "\n",
      "# check testing data log\n",
      "tools.checkPattern(ftext)"
     ],
     "language": "python",
     "metadata": {},
     "outputs": [
      {
       "output_type": "stream",
       "stream": "stdout",
       "text": [
        "learnDataSet.log : pattern check OK!\n",
        "malformed.log : pattern check OK!\n"
       ]
      }
     ],
     "prompt_number": 211
    },
    {
     "cell_type": "code",
     "collapsed": false,
     "input": [
      "#Look path=/ variable"
     ],
     "language": "python",
     "metadata": {},
     "outputs": [],
     "prompt_number": 212
    },
    {
     "cell_type": "markdown",
     "metadata": {},
     "source": [
      "# 2. key-value pair sanity check\n",
      "\n",
      " * pattern in file  :key1,n1:value1:\n",
      "      Does n1 == len(value1) alway true?\n",
      "\n",
      " * Conclusion:    ** Not always\n",
      "\n",
      "    * Known issues:\n",
      "        * response,4930 11\n",
      "        * inside html content \n",
      "\n",
      "    *  issues need more time\n",
      "        *httpversion,8 1\n",
      "        *request_method=GET; path=/,]393 10\n",
      "        *Keep-Alive,]44 10\n",
      "    * What about within a pattern, checked above, n:n-string:1#]}\n"
     ]
    },
    {
     "cell_type": "code",
     "collapsed": false,
     "input": [
      "import tools\n",
      "tools = reload(tools)"
     ],
     "language": "python",
     "metadata": {},
     "outputs": [],
     "prompt_number": 213
    },
    {
     "cell_type": "code",
     "collapsed": false,
     "input": [
      "newtext = tools.skipAllContents(flearn)"
     ],
     "language": "python",
     "metadata": {},
     "outputs": [],
     "prompt_number": 214
    },
    {
     "cell_type": "code",
     "collapsed": false,
     "input": [
      "# \n",
      "#  Check missing features\n",
      "#\n",
      "features1=[\"error\",\"response\",\"headers\",\"content\",\"request\"]\n",
      "features2=[\"X-Frame-Options\",\"X-Xss-Protection\",\"X-Content-Type-Options\",\"X-Ua-Compatible\",\n",
      "            \"X-Xhr-Current-Location\",\"Content-Type\",\"Etag\",\"Cache-Control\",\n",
      "            \"X-Request-Id\",\"X-Runtime\",\n",
      "            #   \n",
      "            \"Server\",\"Date\",\n",
      "            \"Content-Length\",\n",
      "            \"timestamp_end\",\"timestamp_start\", \"Last-Modified\",\n",
      "             #  \n",
      "            \"cert\",\"code\",\"request\",\"requestcount\",\n",
      "            #\"httpversion\", # to be investigate\n",
      "            #client_conn\n",
      "            #\"address\",\n",
      "            \"port\",\"scheme\",\"http\",\"path\",\"host\",\"headers\", \"Connection\",\n",
      "            \"ip\",\"Referer\",\n",
      "            \"Accept-Encoding\",\"Accept-Language\",\n",
      "            \"method\",\n",
      "            \"msg\",\n",
      "            #\"address\"\n",
      "             ]\n",
      "features3 =[\"Set-Cookie\"] #, \"client_conn\", \"Cookie\"]  # =request_method=GET; path=/' or ]\n",
      "features4 =[\"httpversion\",\"address\"]\n",
      "\n",
      "\n",
      "features = features1+features2+features3 + features4\n",
      "\n",
      "features = [f.lower() for f in features]\n",
      "\n",
      "tools = reload(tools)\n",
      "#tools.keyValuePairCheck(flearn, features,2)"
     ],
     "language": "python",
     "metadata": {},
     "outputs": [],
     "prompt_number": 216
    },
    {
     "cell_type": "code",
     "collapsed": false,
     "input": [
      "start=newtext.find(\"path,30\") #est,789\") #ea927ca92e0c7a85b168d210be0a5df4\")\n",
      "newtext[start-100:start+100]\n"
     ],
     "language": "python",
     "metadata": {},
     "outputs": [
      {
       "metadata": {},
       "output_type": "pyout",
       "prompt_number": 53,
       "text": [
        "'7:address,24:12:50.59.22.130,5:41764#]12:requestcount,1:2#5:error,0:~}4:port,2:80#6:scheme,4:http,4:path,30:/assets/application.css?body=1,4:host,13:54.165.254.99,7:headers,778:25:4:Host,14:54.198.102'"
       ]
      }
     ],
     "prompt_number": 53
    },
    {
     "cell_type": "code",
     "collapsed": false,
     "input": [
      "def checkFeatureNum(pattern, infile, iprint=False):\n",
      "    n=0\n",
      "    with open(infile,\"r\") as f:\n",
      "        text =f.read()\n",
      "    text = tools.skipAllContents(infile).lower()\n",
      "    import re\n",
      "    for m in re.finditer(pattern, text):\n",
      "        if iprint:\n",
      "            print text[m.start()-10:m.end()+10]\n",
      "        n += 1\n",
      "    print infile, \" : \", pattern, n\n",
      "\n",
      "tools = reload(tools)\n",
      "checkFeatureNum(\"httpversion,\",flearn)\n",
      "#checkFeatureNum(\"If-Modified-Since,\",flearn)\n",
      "#checkFeatureNum(\"cookie,\",flearn, True)\n",
      "\n",
      "#checkFeatureNum(\"If-Modified-Since,\",ftest)\n",
      "#checkFeatureNum(\"est,\",ftest)\n",
      "\n",
      "#for f in features: checkFeatureNum(f+\",\",flearn)\n"
     ],
     "language": "python",
     "metadata": {},
     "outputs": [
      {
       "output_type": "stream",
       "stream": "stdout",
       "text": [
        "learnDataSet.log  :  httpversion, 839\n"
       ]
      }
     ],
     "prompt_number": 4
    },
    {
     "cell_type": "code",
     "collapsed": false,
     "input": [
      "def checkHeaderConent(filename):\n",
      "     with open(filename) as f:\n",
      "        text = f.read()\n",
      "    \n",
      "   "
     ],
     "language": "python",
     "metadata": {},
     "outputs": []
    },
    {
     "cell_type": "code",
     "collapsed": false,
     "input": [
      "def checkContentLeft(filename):\n",
      "    with open(filename) as f:\n",
      "        text = f.read()\n",
      "    start=0\n",
      "    while start>-1:\n",
      "        start = text.find(\",4:cert,0\",start+1)\n",
      " #       print text[start-10:start+10]\n",
      "        if start>-1 and text[start-1] not in \":;> \\n\": print \"wrong\",text[start-10:start+10]\n",
      "\n",
      "#checkContentLeft(flearn) \n",
      "checkContentLeft(ftext)"
     ],
     "language": "python",
     "metadata": {},
     "outputs": [
      {
       "output_type": "stream",
       "stream": "stdout",
       "text": [
        "wrong qpwEan7Trk,4:cert,0:\n",
        "wrong D6Nf8HGTcD,4:cert,0:\n",
        "wrong a2Y9eRlrhC,4:cert,0:\n",
        "wrong u24x1EqAC3,4:cert,0:\n",
        "wrong hgmIH5yEAI,4:cert,0:\n",
        "wrong biz8GCBh3z,4:cert,0:\n",
        "wrong WPWqVAdjQg,4:cert,0:\n",
        "wrong cvVcqHRr9m,4:cert,0:\n",
        "wrong IABQjuSUVc,4:cert,0:\n",
        "wrong LuGobBlupR,4:cert,0:\n",
        "wrong 940WNtnjVU,4:cert,0:\n",
        "wrong AmVv1y7LLh,4:cert,0:\n",
        "wrong 16L7aZR0sU,4:cert,0:\n",
        "wrong CWSi38xsTq,4:cert,0:\n",
        "wrong cTLO6eHkDA,4:cert,0:\n",
        "wrong HoDhI7ynjf,4:cert,0:\n",
        "wrong OzzZdH0SXh,4:cert,0:\n",
        "wrong 2ufJMVE1nZ,4:cert,0:\n",
        "wrong LLHoGUiGYe,4:cert,0:\n",
        "wrong 7TzseDu5ZF,4:cert,0:\n",
        "wrong gxCzbackgy,4:cert,0:\n",
        "wrong pkrsB0uVEs,4:cert,0:\n",
        "wrong dCqpLbL0Yn,4:cert,0:\n",
        "wrong BvSL5qn4U7,4:cert,0:\n",
        "wrong 6MJSzT4VyU,4:cert,0:\n",
        "wrong m5WwSxBpzt,4:cert,0:\n",
        "wrong HxV5AyTMWK,4:cert,0:\n",
        "wrong O9ZEWJNWEr,4:cert,0:\n",
        "wrong WKWohOoEFV,4:cert,0:\n",
        "wrong NGoW3DTuin,4:cert,0:\n",
        "wrong xMPUvp0UV9,4:cert,0:\n",
        "wrong 9KzCW2xgyF,4:cert,0:\n",
        "wrong VChzYYk8pt,4:cert,0:\n",
        "wrong HYssj1BuZQ,4:cert,0:\n"
       ]
      }
     ],
     "prompt_number": 86
    },
    {
     "cell_type": "code",
     "collapsed": false,
     "input": [],
     "language": "python",
     "metadata": {},
     "outputs": [],
     "prompt_number": 54
    },
    {
     "cell_type": "code",
     "collapsed": false,
     "input": [
      "import pymongo\n",
      "\n",
      "#\n",
      "# Connect to MongoDB server\n",
      "#\n",
      "def get_db(host=\"localhost\", port=27017, username=None, password=None, db=\"dataLogs\"):\n",
      "    \"\"\" A util for making a connection to mongo \"\"\"\n",
      "    from pymongo import MongoClient\n",
      "    \n",
      "    if username and password:\n",
      "        mongo_uri = 'mongodb://%s:%s@%s:%s/%s' % (username, password, host, port, db)\n",
      "        conn = MongoClient(mongo_uri)\n",
      "    else:\n",
      "        conn = MongoClient(host, port)\n",
      "\n",
      "    return conn[db]\n",
      "\n",
      "def get_coll(host=\"localhost\", port=27017, username=None, password=None, db=\"dataLogs\",collection=\"logs\"):\n",
      "    db=get_db(host, port, username, password, db)\n",
      "    return db[collection]\n",
      "\n",
      "\n",
      "1\n",
      "test = get_coll('localhost', 27017, None, None,\"dataLogs\", \"test\")"
     ],
     "language": "python",
     "metadata": {},
     "outputs": [],
     "prompt_number": 120
    },
    {
     "cell_type": "code",
     "collapsed": false,
     "input": [],
     "language": "python",
     "metadata": {},
     "outputs": [],
     "prompt_number": 0
    },
    {
     "cell_type": "code",
     "collapsed": false,
     "input": [],
     "language": "python",
     "metadata": {},
     "outputs": []
    }
   ],
   "metadata": {}
  }
 ]
}