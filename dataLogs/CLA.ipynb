{
 "metadata": {
  "name": "",
  "signature": "sha256:120a7e1d840237250385cce4c7c46152ed79acaabe0f37b7d704666ae766a725"
 },
 "nbformat": 3,
 "nbformat_minor": 0,
 "worksheets": [
  {
   "cells": [
    {
     "cell_type": "markdown",
     "metadata": {},
     "source": [
      "# Placeholder for CLA anamoly detection\n",
      "\n",
      "Cortical learning algorithms\n",
      "\n",
      "<ul>\n",
      "<li> Spaital pool </li>\n",
      "<li> Temporal pool </li>\n",
      "<li> CLA anomaly score calculator </li>\n",
      "<li> Classifier</li>\n",
      "</ul>"
     ]
    },
    {
     "cell_type": "code",
     "collapsed": false,
     "input": [
      "\n",
      "from optparse import OptionParser\n",
      "import sys\n",
      "import csv\n",
      "import math\n",
      "import datetime\n",
      "import dateutil.parser\n",
      "import json"
     ],
     "language": "python",
     "metadata": {},
     "outputs": [],
     "prompt_number": 1
    },
    {
     "cell_type": "code",
     "collapsed": false,
     "input": [
      "from nupic.frameworks.opf.modelfactory import ModelFactory\n",
      "from nupic.frameworks.opf.predictionmetricsmanager import MetricsManager\n",
      "\n",
      "from nupic.algorithms.anomaly_likelihood import AnomalyLikelihood\n",
      "\n"
     ],
     "language": "python",
     "metadata": {},
     "outputs": [],
     "prompt_number": 3
    },
    {
     "cell_type": "code",
     "collapsed": false,
     "input": [
      "## Function to be implemented.\n",
      "def runAnomaly(infile, outfile):\n",
      "    pass\n",
      "    return"
     ],
     "language": "python",
     "metadata": {},
     "outputs": [],
     "prompt_number": 10
    },
    {
     "cell_type": "code",
     "collapsed": false,
     "input": [
      "# Run it\n",
      "infile =\"tmp.txt\"\n",
      "outfile =\"output.txt\"\n",
      "runAnomaly(infile, outfile)\n",
      "\n",
      "#  runAnomaly()"
     ],
     "language": "python",
     "metadata": {},
     "outputs": [],
     "prompt_number": 12
    },
    {
     "cell_type": "code",
     "collapsed": false,
     "input": [],
     "language": "python",
     "metadata": {},
     "outputs": []
    }
   ],
   "metadata": {}
  }
 ]
}