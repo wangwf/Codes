{
 "metadata": {
  "name": "",
  "signature": "sha256:caf2cdf1837b14fa275912795d390b12387ebe93e948109a240d1a9ef5aa50db"
 },
 "nbformat": 3,
 "nbformat_minor": 0,
 "worksheets": [
  {
   "cells": [
    {
     "cell_type": "markdown",
     "metadata": {},
     "source": [
      "# Exploratory Data \n",
      "\n",
      "\n",
      "## 1. Explore csv data file"
     ]
    },
    {
     "cell_type": "code",
     "collapsed": false,
     "input": [
      "import csv\n",
      "#with open('output.txt','rb') as f:\n",
      "#    res = csv.reader(f)\n"
     ],
     "language": "python",
     "metadata": {},
     "outputs": [],
     "prompt_number": 5
    },
    {
     "cell_type": "code",
     "collapsed": false,
     "input": [
      "def getColumn(filename, column):\n",
      "    results = csv.reader(open(filename), delimiter=\",\")\n",
      "    return [result[column] for result in results]"
     ],
     "language": "python",
     "metadata": {},
     "outputs": [],
     "prompt_number": 6
    },
    {
     "cell_type": "code",
     "collapsed": false,
     "input": [
      "# look the correlation pairwise\n",
      "rsize = getColumn(\"output.txt\",0)\n",
      "rtime = getColumn(\"output.txt\",1)\n",
      "contentL =getColumn(\"output.txt\",2)\n",
      "errors = getColumn(\"output.txt\",3)"
     ],
     "language": "python",
     "metadata": {},
     "outputs": [],
     "prompt_number": 7
    },
    {
     "cell_type": "code",
     "collapsed": false,
     "input": [
      "rsize =map(int, rsize[1:])\n",
      "rtime =map(float, rtime[1:])\n",
      "contentL = map(int, contentL[1:])"
     ],
     "language": "python",
     "metadata": {},
     "outputs": [],
     "prompt_number": 8
    },
    {
     "cell_type": "code",
     "collapsed": false,
     "input": [
      "type(rtime[0]),type(rsize[0]), type(contentL[0])"
     ],
     "language": "python",
     "metadata": {},
     "outputs": [
      {
       "metadata": {},
       "output_type": "pyout",
       "prompt_number": 9,
       "text": [
        "(float, int, int)"
       ]
      }
     ],
     "prompt_number": 9
    },
    {
     "cell_type": "code",
     "collapsed": false,
     "input": [
      "rsize[:10],contentL[:10]"
     ],
     "language": "python",
     "metadata": {},
     "outputs": [
      {
       "metadata": {},
       "output_type": "pyout",
       "prompt_number": 10,
       "text": [
        "([4930, 1108, 16091, 134336, 273816, 13268, 4097, 2370, 3138, 3454],\n",
        " [3726, 513, 15477, 133735, 273200, 12654, 3485, 1758, 2526, 2843])"
       ]
      }
     ],
     "prompt_number": 10
    },
    {
     "cell_type": "code",
     "collapsed": false,
     "input": [
      "import matplotlib.pyplot as plt\n",
      "plt.figure(\"response/runtime\")\n",
      "plt.xlabel(\"runtime\")\n",
      "plt.ylabel(\"size\")\n",
      "plt.plot(rtime,rsize)"
     ],
     "language": "python",
     "metadata": {},
     "outputs": [
      {
       "metadata": {},
       "output_type": "pyout",
       "prompt_number": 11,
       "text": [
        "[<matplotlib.lines.Line2D at 0x10aa19490>]"
       ]
      }
     ],
     "prompt_number": 11
    },
    {
     "cell_type": "code",
     "collapsed": false,
     "input": [
      "#plt.show()"
     ],
     "language": "python",
     "metadata": {},
     "outputs": [],
     "prompt_number": 12
    },
    {
     "cell_type": "code",
     "collapsed": false,
     "input": [
      "plt.figure(\"response/contentL\")\n",
      "plt.xlabel(\"contentLength\")\n",
      "plt.ylabel(\"size\")\n",
      "print rsize[:3],contentL[:3]\n",
      "#print contentL[:3], rsize[:3]\n",
      "plt.plot(contentL[:],rsize[:], 'r--', contentL[:],contentL[:],'bs')\n",
      "#plt.scatter(contentL[:3], rsize[:3],  alpha =0.5)\n",
      "plt.show()"
     ],
     "language": "python",
     "metadata": {},
     "outputs": [
      {
       "output_type": "stream",
       "stream": "stdout",
       "text": [
        "[4930, 1108, 16091] [3726, 513, 15477]\n"
       ]
      }
     ],
     "prompt_number": 13
    },
    {
     "cell_type": "code",
     "collapsed": false,
     "input": [
      "plt.show()"
     ],
     "language": "python",
     "metadata": {},
     "outputs": [],
     "prompt_number": 14
    },
    {
     "cell_type": "code",
     "collapsed": false,
     "input": [
      "import operator\n",
      "#map(operator.floordiv,  contentL,rsize)"
     ],
     "language": "python",
     "metadata": {},
     "outputs": [],
     "prompt_number": 15
    },
    {
     "cell_type": "code",
     "collapsed": false,
     "input": [
      "\n",
      "import datetime\n",
      "print datetime.datetime.fromtimestamp(1413247021.321856)\n",
      "print datetime.datetime.fromtimestamp(1413247021)\n",
      "#print datetime.datetime.fromtimestamp(1413247021.321856^3)"
     ],
     "language": "python",
     "metadata": {},
     "outputs": [
      {
       "output_type": "stream",
       "stream": "stdout",
       "text": [
        "2014-10-13 17:37:01.321856\n",
        "2014-10-13 17:37:01\n"
       ]
      }
     ],
     "prompt_number": 18
    },
    {
     "cell_type": "code",
     "collapsed": false,
     "input": [],
     "language": "python",
     "metadata": {},
     "outputs": [],
     "prompt_number": 18
    },
    {
     "cell_type": "code",
     "collapsed": false,
     "input": [],
     "language": "python",
     "metadata": {},
     "outputs": [],
     "prompt_number": 18
    },
    {
     "cell_type": "markdown",
     "metadata": {},
     "source": [
      "# 2.  Explore json formate file \n",
      "\n",
      " "
     ]
    },
    {
     "cell_type": "code",
     "collapsed": false,
     "input": [
      "import json\n",
      "from pprint import pprint"
     ],
     "language": "python",
     "metadata": {},
     "outputs": [],
     "prompt_number": 4
    },
    {
     "cell_type": "code",
     "collapsed": false,
     "input": [
      "#filename =\"a.json\"\n",
      "#filename = \"output2.txt\"\n",
      "'''\n",
      "filename = \"t.json\"\n",
      "with open(filename) as json_data:\n",
      "    data = json.loads(json_data)\n",
      "    pprint(data)\n",
      "\n",
      "data = json.load(json_data)\n",
      "'''"
     ],
     "language": "python",
     "metadata": {},
     "outputs": [
      {
       "metadata": {},
       "output_type": "pyout",
       "prompt_number": 2,
       "text": [
        "'\\nfilename = \"t.json\"\\nwith open(filename) as json_data:\\n    data = json.loads(json_data)\\n    pprint(data)\\n\\ndata = json.load(json_data)\\n'"
       ]
      }
     ],
     "prompt_number": 2
    },
    {
     "cell_type": "code",
     "collapsed": false,
     "input": [],
     "language": "python",
     "metadata": {},
     "outputs": [],
     "prompt_number": 2
    },
    {
     "cell_type": "code",
     "collapsed": false,
     "input": [],
     "language": "python",
     "metadata": {},
     "outputs": [],
     "prompt_number": 2
    },
    {
     "cell_type": "code",
     "collapsed": false,
     "input": [
      "#"
     ],
     "language": "python",
     "metadata": {},
     "outputs": []
    },
    {
     "cell_type": "code",
     "collapsed": false,
     "input": [
      "?json.loads"
     ],
     "language": "python",
     "metadata": {},
     "outputs": [],
     "prompt_number": 23
    },
    {
     "cell_type": "code",
     "collapsed": false,
     "input": [],
     "language": "python",
     "metadata": {},
     "outputs": []
    }
   ],
   "metadata": {}
  }
 ]
}