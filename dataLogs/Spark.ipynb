{
 "metadata": {
  "name": "",
  "signature": "sha256:d7ff125d06f514b481c575bafecac86ba69f4d8bafa5440a52156100661bf03c"
 },
 "nbformat": 3,
 "nbformat_minor": 0,
 "worksheets": [
  {
   "cells": [
    {
     "cell_type": "markdown",
     "metadata": {},
     "source": [
      "#Placeholder for Apache Spark api\n",
      "\n",
      "*MLlib\n",
      "\n",
      "*GraphX\n",
      "\n",
      "To launch PySpark in Ipython, set the IPYTHON variable to 1 when running bin/pyspark\n",
      "\n",
      "     $IPYTHON=1 ./bin/pyspark\n",
      " \n",
      "     Alternatively, you can customize. to launch the IPython Notebook with Pylab\n",
      " \n",
      "     $IPYTHON_OPTS=\"notebook --pylab inline\" ./bin/pyspark\n"
     ]
    },
    {
     "cell_type": "code",
     "collapsed": false,
     "input": [
      "\n"
     ],
     "language": "python",
     "metadata": {},
     "outputs": [],
     "prompt_number": 0
    },
    {
     "cell_type": "code",
     "collapsed": false,
     "input": [
      "import numpy as np\n",
      "from pyspark import SparkContext\n"
     ],
     "language": "python",
     "metadata": {},
     "outputs": [],
     "prompt_number": 1
    },
    {
     "cell_type": "code",
     "collapsed": false,
     "input": [
      "#sc = SparkContext(appName=\"PyDataLogs\")\n",
      "filename =\"output3_df.txt\"\n",
      "lines = sc.textFile(filename)\n",
      "#data = lines.map(parseVector).cache()\n"
     ],
     "language": "python",
     "metadata": {},
     "outputs": [],
     "prompt_number": 3
    },
    {
     "cell_type": "code",
     "collapsed": false,
     "input": [
      "#Take a peek at the data.\n",
      "lines.take(2)"
     ],
     "language": "python",
     "metadata": {},
     "outputs": [
      {
       "metadata": {},
       "output_type": "pyout",
       "prompt_number": 9,
       "text": [
        "[u',Accept-Encoding,Accept-Language,Cache-Control,Connection,Content-Length,Content-Type,Date,Etag,Last-Modified,Num-Cookie,Referer,Server,Set-Cookie,X-Content-Type-Options,X-Frame-Options,X-Request-Id,X-Runtime,X-Ua-Compatible,X-Xhr-Current-Location,X-Xss-Protection,address,cert,code,content,error,headers,host,http,httpversion,ip,method,msg,path,port,request,requestcount,response,scheme,timestamp_end,timestamp_start,timeStampStartEnd',\n",
        " u'0,\"gzip,deflate,sdch\",\"en-US,en;q=0.8,ms;q=0.6,id;q=0.4\",\"max-age=0, private, must-revalidate\",keep-alive,4974,text/html; charset=utf-8,\"Tue, 14 Oct 2014 00\",\"\"\"1dce484ab3671ae072b40178e75b1314\"\"\",,1,http,WEBrick/1.3.1 (Ruby/2.1.2/2014-05-08),\"[[{u\\'_sample_app_session\\': u\\'QmFlN0Q2NjhMZEk0MkhGbndNNVlMTDY0Tm5pTkg4QWRQb2JrS1hSaE5mcTJxSnVBdHJGS05VbmNBcTZaaFFxRW41aEp2MDlBZXJNZUQzQng4R3M1NDBVa1NOdWEyUFNMaHhybktaTWFvMkhWNmhyMlo2Z29GQVdVQkFsVnVKYWtvRmJRV1pmUS9PM3dVMWlUWE84SkhBQzZueFVrSHJuWlpGN2h3MjZyc2crd2prSEpuZHJHNWMzT2ZBVDFwREczLS00S3NWRjNINkJCcHZKRFYrZjhQQkh3PT0%3D--de02652579ca1e3f760be9ca1af5268d1371f89f\\'}, {u\\' path\\': u\\'/\\'}, {u\\' HttpOnly\\': None}]]\",nosniff,SAMEORIGIN,dec734f9-9383-4908-9efd-07a8c31dfeef,0.021151,chrome=1,/users,1; mode=block,\"50.59.22.130,5\",,200,0.0,0.0,907.0,54.165.254.99,path,1#1,54.165.254.99,GET,OK,/users,80,1285.0,19,6134.0,http,1413247039.791616,1413247039.781555,0.010061025619506836']"
       ]
      }
     ],
     "prompt_number": 9
    },
    {
     "cell_type": "code",
     "collapsed": false,
     "input": [
      "lines.count()"
     ],
     "language": "python",
     "metadata": {},
     "outputs": [
      {
       "metadata": {},
       "output_type": "pyout",
       "prompt_number": 10,
       "text": [
        "422"
       ]
      }
     ],
     "prompt_number": 10
    },
    {
     "cell_type": "code",
     "collapsed": false,
     "input": [
      "lines.map(lambda line: (line.split(',')[0], line.split(',')[2]))\\\n",
      "    .distinct().count()\n",
      "    "
     ],
     "language": "python",
     "metadata": {},
     "outputs": [
      {
       "metadata": {},
       "output_type": "pyout",
       "prompt_number": 13,
       "text": [
        "422"
       ]
      }
     ],
     "prompt_number": 13
    },
    {
     "cell_type": "code",
     "collapsed": false,
     "input": [
      "# word count\n",
      "#\n",
      "counts = lines.flatMap(lambda line: line.split(',')) \\\n",
      "                .map(lambda x: (x, 1)) \\\n",
      "                .reduceByKey(add)\n",
      "\n",
      "output = counts.collect()\n",
      "n=7\n",
      "for (word, count) in output:\n",
      "    if n>0:\n",
      "        n -=1\n",
      "        print \"%s: %i\" % (word, count)\n"
     ],
     "language": "python",
     "metadata": {},
     "outputs": [
      {
       "output_type": "stream",
       "stream": "stdout",
       "text": [
        ": 3943\n",
        " [{u'_sample_app_session': u'S28wL3R2Q1M4QTkvTU1adm5XajRXMkhtNkxQS1R5ZHpLU2REclNadVR5NXJ2dkRFNmVkVGh1a2J0YWsyN2Uvc3RBZEM5U2dldi91dDBvYmJPV1I5UERmNFYxdE54QnRjUjIvZmJhblBxc3FNUVgyNnh6R3BlNjFsOGlYZ1hVeWRHRnZhVnpscW91VTVyaDI5SHZGeGdqVTdURFJ1MHViRWZZVkR4Q3BjUFhUVFFJZER6b21BQTdpUGppOVFhMEI2LS1VUlp1cG9oWEdFalNPdncyV0FmZS93PT0%3D--e1a6e079f6dbb028e3ba5a5d7aae212141e8b86f'}: 1\n",
        "1094.0: 7\n",
        "164: 1\n",
        "0.011904001235961914: 1\n",
        "1413247079.181133: 1\n",
        "1413247033.027572: 1\n"
       ]
      }
     ],
     "prompt_number": 16
    },
    {
     "cell_type": "code",
     "collapsed": false,
     "input": [
      "import re\n",
      "def mapper(line):\n",
      "    words = re.split(\",\", line)\n",
      "    return [(w.lower(), 1)for w in words if w.isalpha()]\n",
      "\n",
      "#lines = sc.textFile(\"output3_df.txt\")\n",
      "word_freqs = lines.flatMap(mapper).reduceByKey(lambda a,b: a+b).collect()\n",
      "word_freqs = sorted(word_freqs, key= lambda x: ~x[1])[:7]\n",
      "word_freqs"
     ],
     "language": "python",
     "metadata": {},
     "outputs": [
      {
       "metadata": {},
       "output_type": "pyout",
       "prompt_number": 17,
       "text": [
        "[(u'http', 839),\n",
        " (u'path', 421),\n",
        " (u'deflate', 419),\n",
        " (u'get', 419),\n",
        " (u'ok', 37),\n",
        " (u'nosniff', 29),\n",
        " (u'sameorigin', 29)]"
       ]
      }
     ],
     "prompt_number": 17
    },
    {
     "cell_type": "code",
     "collapsed": false,
     "input": [
      "%pylab inline\n",
      "import matplotlib.pyplot as plt\n",
      "\n",
      "words = [w[0] for w in word_freqs]\n",
      "y_pos = range(len(word_freqs))\n",
      "frequency = [w[1] for w in word_freqs]\n",
      "\n",
      "plt.barh(y_pos, frequency[::-1], align=\"center\", alpha=0.4)\n",
      "plt.yticks(y_pos, words[::-1])\n",
      "plt.xlabel(\"Frequency\")\n",
      "plt.title(\"Most common words\")\n",
      "plt.show()"
     ],
     "language": "python",
     "metadata": {},
     "outputs": [
      {
       "output_type": "stream",
       "stream": "stdout",
       "text": [
        "Populating the interactive namespace from numpy and matplotlib\n"
       ]
      },
      {
       "metadata": {},
       "output_type": "display_data",
       "png": "[encoded data removed]",
       "text": [
        "<matplotlib.figure.Figure at 0x107ac0d90>"
       ]
      }
     ],
     "prompt_number": 19
    },
    {
     "cell_type": "code",
     "collapsed": false,
     "input": [],
     "language": "python",
     "metadata": {},
     "outputs": []
    }
   ],
   "metadata": {}
  }
 ]
}