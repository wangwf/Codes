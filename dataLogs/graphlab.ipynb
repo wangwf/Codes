{
 "metadata": {
  "name": "",
  "signature": "sha256:808008c23e6c669617e3e5448398e6f2f00549fae8ebaf25e9a45bcba5949e6a"
 },
 "nbformat": 3,
 "nbformat_minor": 0,
 "worksheets": [
  {
   "cells": [
    {
     "cell_type": "markdown",
     "metadata": {},
     "source": [
      "#Graphlab\n",
      "\n",
      "One interesting task is  to forcast the response size based on historic data.\n",
      "\n",
      "Possible Models:\n",
      "<ul>\n",
      "<li> Linear regression </li>\n",
      "<li> Decision tree: Gradient boosted tree model, Random Rorcast </li>\n",
      "<li> New models: Hidden Markov Chain Model ? ()</li>\n",
      "<li> Nearest Neighbor </li>\n",
      "<li> Using graphlic concept? Neural network for deep learning or known specific topology corresponding a type of graph problem. </li>\n",
      "</ul>\n",
      "\n",
      "\n"
     ]
    },
    {
     "cell_type": "code",
     "collapsed": false,
     "input": [
      "import graphlab as gl\n",
      "#gl.canvas.set_target('ipynb')\n",
      "gl.canvas.set_target('browser')\n",
      "\n",
      "%matplotlib inline\n",
      "import matplotlib.pyplot as plt \n",
      "import mpld3\n",
      "mpld3.enable_notebook()"
     ],
     "language": "python",
     "metadata": {},
     "outputs": []
    },
    {
     "cell_type": "code",
     "collapsed": false,
     "input": [
      "#\n",
      "#\n",
      "#\n",
      "import numpy as np\n",
      "def rmse(predictions, targets):\n",
      "    print \"RMSE \"\n",
      "    return np.sqrt(((predictions - targets) * (predictions - targets)).mean())\n",
      "\n",
      "def chisq(predictions, targets):\n",
      "    print \"Chi-Square \"\n",
      "    return np.sqrt(((predictions - targets)/targets * (predictions - targets)/targets).mean())\n"
     ],
     "language": "python",
     "metadata": {},
     "outputs": []
    },
    {
     "cell_type": "markdown",
     "metadata": {},
     "source": [
      "# 1. Read from pandas dataframe"
     ]
    },
    {
     "cell_type": "code",
     "collapsed": false,
     "input": [
      "## load training data\n",
      "#training_column_types = [int,float,int,str, str, int]\n",
      "#training_sframe = gl.SFrame.read_csv('output3_df.txt', column_type_hints=training_column_types, delimiter=',')\n",
      "training_sframe = gl.SFrame.read_csv('output3_df.txt',  delimiter=',')\n",
      "\n",
      "#Dataset for testing\n",
      "validation_sframe = gl.SFrame.read_csv('test_df.txt',  delimiter=',')\n",
      "\n",
      "\n",
      "# Split the training set into training and testing sets\n",
      "train_sframe,test_sframe = training_sframe.random_split(1.0, seed=1)\n",
      "#"
     ],
     "language": "python",
     "metadata": {},
     "outputs": []
    },
    {
     "cell_type": "code",
     "collapsed": false,
     "input": [
      "training_sframe"
     ],
     "language": "python",
     "metadata": {},
     "outputs": []
    },
    {
     "cell_type": "code",
     "collapsed": false,
     "input": [
      "#training_sframe.column_names\n",
      "training_sframe.column_names()"
     ],
     "language": "python",
     "metadata": {},
     "outputs": []
    },
    {
     "cell_type": "code",
     "collapsed": false,
     "input": [
      "#\n",
      "#Graphlab show() method \n",
      "#\n",
      "gl.canvas.set_target('ipynb')\n",
      "training_sframe.show()"
     ],
     "language": "python",
     "metadata": {},
     "outputs": []
    },
    {
     "cell_type": "code",
     "collapsed": false,
     "input": [
      "#training_sframe[:,[\"header\"]]"
     ],
     "language": "python",
     "metadata": {},
     "outputs": []
    },
    {
     "cell_type": "code",
     "collapsed": false,
     "input": [
      "# Drops missing values\n",
      "\n",
      "# train a model\n",
      "features = ['response', 'content','headers',\"X-Runtime\",\"Connection\", \"Content-Type\", \"Server\",\"X-Xhr-Current-Location\",\n",
      "            \"X-Xss-Protection\",\"Cache-Control\",'Num-Cookie',\"timeStampStartEnd\",\n",
      "            \"method\",\"msg\",\"path\",\"requestcount\",\n",
      "            \"code\"] #\"request_method\",\"Path\"]\n",
      "\n",
      "# train a model\n",
      "features1 =features[3:] #[\"X-Runtime\",\"Connection\", \"Content-Type\", \"Server\",\"X-Xhr-Current-Location\",\"Cache-Control\"] \n",
      "\n",
      "#train_sframe = train_sframe[features]\n",
      "#test_sframe  = t_sframe[features]\n",
      "\n",
      "# missing value\n",
      "train_sframe=train_sframe.dropna(\"X-Runtime\",how='all')\n",
      "test_sframe =test_sframe.dropna(\"X-Runtime\",how='all')\n",
      "\n",
      "validation_sframe = validation_sframe.dropna(\"X-Runtime\",how='all')\n",
      "\n",
      "len(train_sframe), len(test_sframe)\n",
      "#training_sframe.dropna(\"Content-Length\",\"any\")\n",
      "#training_sframe['Content-Length']\n",
      "#t_sframe[t_sframe[\"X-Runtime\"]==None]"
     ],
     "language": "python",
     "metadata": {},
     "outputs": []
    },
    {
     "cell_type": "code",
     "collapsed": false,
     "input": [
      "train_sframe.column_names"
     ],
     "language": "python",
     "metadata": {},
     "outputs": []
    },
    {
     "cell_type": "code",
     "collapsed": false,
     "input": [
      "# Linear regression\n",
      "\n",
      "mLinear = gl.linear_regression.create(train_sframe,\n",
      "                            features=features1, \n",
      "                            target='response', max_iterations=100)\n"
     ],
     "language": "python",
     "metadata": {},
     "outputs": []
    },
    {
     "cell_type": "code",
     "collapsed": false,
     "input": [
      "def evaluateModel(ml, sf, colname):\n",
      "    print ml.evaluate(train_sframe)\n",
      "    # predict on test data\n",
      "    prediction = ml.predict(sf).astype(int)\n",
      "    print rmse(prediction, sf[colname])\n",
      "    print chisq(prediction, sf[colname])\n",
      "\n",
      "\n",
      "print \"*** Training DataSet\"\n",
      "evaluateModel(mLinear, train_sframe, \"response\")\n",
      "print \"*** Test DataSet\"\n",
      "#evaluateModel(mLinear, test_sframe,  \"response\")\n",
      "#print \"*** Validataion\"\n",
      "evaluateModel(mLinear, validation_sframe,  \"response\")\n",
      "\n"
     ],
     "language": "python",
     "metadata": {},
     "outputs": []
    },
    {
     "cell_type": "code",
     "collapsed": false,
     "input": [],
     "language": "python",
     "metadata": {},
     "outputs": []
    },
    {
     "cell_type": "code",
     "collapsed": false,
     "input": [
      "def compPlt(title, ml, sf):\n",
      "\n",
      "    prediction = ml.predict(sf).astype(int)\n",
      "    target= sf['response']\n",
      "\n",
      "    import matplotlib.pyplot as plt\n",
      "    plt.figure(title)\n",
      "    plt.xlabel(\"response\")\n",
      "    plt.ylabel(\"prediction\")\n",
      "    #plt.plot(prediction,training_sframe['content'])\n",
      "\n",
      "    #plt.scatter(prediction,training_sframe['content'] )\n",
      "\n",
      "    plt.plot(target, prediction, 'bs', target,target, 'r--')\n",
      "    #\n",
      "    #plt.plot(training_sframe['response-size'], pred1)\n",
      "    plt.show()\n",
      "\n",
      "    \n",
      "\n"
     ],
     "language": "python",
     "metadata": {},
     "outputs": []
    },
    {
     "cell_type": "code",
     "collapsed": false,
     "input": [
      "\n",
      "compPlt(\"response-prediction Linear Regression --Training\", mLinear, train_sframe)\n",
      "#compPlt(\"response-prediction Linear Regression\", mLinear, test_sframe)\n"
     ],
     "language": "python",
     "metadata": {},
     "outputs": []
    },
    {
     "cell_type": "code",
     "collapsed": false,
     "input": [
      "\n",
      "\n",
      "compPlt(\"response-prediction Linear Regression\", mLinear, validation_sframe)\n"
     ],
     "language": "python",
     "metadata": {},
     "outputs": []
    },
    {
     "cell_type": "markdown",
     "metadata": {},
     "source": [
      "#Gradient Boosted Tree"
     ]
    },
    {
     "cell_type": "code",
     "collapsed": false,
     "input": [
      "# train a model\n",
      "#features1 =[\"X-Runtime\",\"Connection\", \"Content-Type\", \"Server\",\"X-Xhr-Current-Location\",\"Cache-Control\"] \n",
      "\n",
      "\n",
      "mGBM = gl.boosted_trees_regression.create(train_sframe,\n",
      "                            features=features1,           # +['content','headers'], \n",
      "                            target='response')\n"
     ],
     "language": "python",
     "metadata": {},
     "outputs": []
    },
    {
     "cell_type": "code",
     "collapsed": false,
     "input": [
      "print \"*** Training DataSet\"\n",
      "evaluateModel(mGBM, train_sframe, \"response\")\n",
      "#print \"*** Test DataSet\"\n",
      "#evaluateModel(mGBM, test_sframe,  \"response\")\n",
      "print \"*** Validataion\"\n",
      "evaluateModel(mGBM, validation_sframe,  \"response\")\n",
      "\n"
     ],
     "language": "python",
     "metadata": {},
     "outputs": []
    },
    {
     "cell_type": "raw",
     "metadata": {},
     "source": []
    },
    {
     "cell_type": "code",
     "collapsed": false,
     "input": [
      "compPlt(\"response-prediction GBM Regression--TrainSet\", mGBM, train_sframe)\n",
      "#compPlt(\"response-prediction GBM Regression\", mGBM, test_sframe)\n"
     ],
     "language": "python",
     "metadata": {},
     "outputs": []
    },
    {
     "cell_type": "code",
     "collapsed": false,
     "input": [
      "compPlt(\"response-prediction GBM Regression -- Test\", mGBM, validation_sframe)\n"
     ],
     "language": "python",
     "metadata": {},
     "outputs": []
    },
    {
     "cell_type": "code",
     "collapsed": false,
     "input": [
      "\n",
      "\n",
      "import matplotlib.pyplot as plt\n",
      "plt.figure(\"response-prediction from GraphLab GBM -- Test\")\n",
      "plt.xlabel(\"response\")\n",
      "plt.ylabel(\"prediction\")\n",
      "\n",
      "sf=validation_sframe\n",
      "prediction = mGBM.predict(sf).astype(int)\n",
      "target= sf['response']\n",
      "\n",
      "fig = plt.subplot(111)\n",
      "fig.plot(target, prediction, 'bs', target,target, 'r--')\n",
      "xlim=30000\n",
      "fig.set_xlim([0,xlim])\n",
      "fig.set_ylim([0,xlim])\n",
      "plt.show()\n",
      "#\n"
     ],
     "language": "python",
     "metadata": {},
     "outputs": []
    },
    {
     "cell_type": "code",
     "collapsed": false,
     "input": [],
     "language": "python",
     "metadata": {},
     "outputs": []
    },
    {
     "cell_type": "markdown",
     "metadata": {},
     "source": [
      "## Events mis-predicted"
     ]
    },
    {
     "cell_type": "code",
     "collapsed": false,
     "input": [
      "train_sframe['prediction'] = mGBM.predict(train_sframe).astype(int) #prediction\n",
      "\n",
      "# Over prediction\n",
      "events1 = train_sframe['prediction'] - train_sframe['response']>1e4\n",
      "#train_sframe['response'][events1], prediction[events1]\n",
      "#len(prediction), len(train_sframe)"
     ],
     "language": "python",
     "metadata": {},
     "outputs": []
    },
    {
     "cell_type": "code",
     "collapsed": false,
     "input": [
      "train_sframe[events1]\n",
      "#training_sframe['content']==3116,training_sframe['content']==3498"
     ],
     "language": "python",
     "metadata": {},
     "outputs": []
    },
    {
     "cell_type": "markdown",
     "metadata": {},
     "source": [
      "### Prediction too high False Positive"
     ]
    },
    {
     "cell_type": "code",
     "collapsed": false,
     "input": [
      "# Over prediction\n",
      "events2 = train_sframe['response'] - train_sframe['prediction']>1e4\n",
      "train_sframe['response'][events2], train_sframe['prediction'][events2]"
     ],
     "language": "python",
     "metadata": {},
     "outputs": []
    },
    {
     "cell_type": "code",
     "collapsed": false,
     "input": [
      "train_sframe[events2]"
     ],
     "language": "python",
     "metadata": {},
     "outputs": []
    },
    {
     "cell_type": "code",
     "collapsed": false,
     "input": [
      "train_sframe[events1+events2]"
     ],
     "language": "python",
     "metadata": {},
     "outputs": []
    },
    {
     "cell_type": "code",
     "collapsed": false,
     "input": [
      "events =train_sframe[events1+events2][\"response\"]"
     ],
     "language": "python",
     "metadata": {},
     "outputs": []
    },
    {
     "cell_type": "code",
     "collapsed": false,
     "input": [
      "\n",
      "training_sframe[training_sframe['response'] ]\n"
     ],
     "language": "python",
     "metadata": {},
     "outputs": []
    },
    {
     "cell_type": "code",
     "collapsed": false,
     "input": [
      "gl.canvas.set_target('browser')"
     ],
     "language": "python",
     "metadata": {},
     "outputs": []
    },
    {
     "cell_type": "code",
     "collapsed": false,
     "input": [
      "mGBM.show(0, vlabel_hover=True)"
     ],
     "language": "python",
     "metadata": {},
     "outputs": []
    },
    {
     "cell_type": "code",
     "collapsed": false,
     "input": [
      "mGBM.list_fields()\n",
      "#mGBM['unpacked_features']"
     ],
     "language": "python",
     "metadata": {},
     "outputs": []
    },
    {
     "cell_type": "code",
     "collapsed": false,
     "input": [
      "mGBM['features']"
     ],
     "language": "python",
     "metadata": {},
     "outputs": []
    },
    {
     "cell_type": "code",
     "collapsed": false,
     "input": [],
     "language": "python",
     "metadata": {},
     "outputs": []
    },
    {
     "cell_type": "code",
     "collapsed": false,
     "input": [],
     "language": "python",
     "metadata": {},
     "outputs": []
    },
    {
     "cell_type": "markdown",
     "metadata": {},
     "source": [
      "# nearest neighbors"
     ]
    },
    {
     "cell_type": "code",
     "collapsed": false,
     "input": [
      "\n",
      "import graphlab as gl\n",
      "import os\n",
      "\n",
      "if os.path.exists('houses.csv'):\n",
      "    sf = gl.SFrame.read_csv('houses.csv')\n",
      "else:\n",
      "    data_url = 'http://s3.amazonaws.com/dato-datasets/regression/houses.csv'\n",
      "    sf = gl.SFrame.read_csv(data_url)\n",
      "    sf.save('houses.csv')\n",
      "\n",
      "sf.head(5)\n",
      "model = gl.nearest_neighbors.create(sf)\n",
      "model = gl.nearest_neighbors.create(sf, features=['bedroom', 'bath', 'size'])\n",
      "model.summary()"
     ],
     "language": "python",
     "metadata": {},
     "outputs": []
    },
    {
     "cell_type": "code",
     "collapsed": false,
     "input": [],
     "language": "python",
     "metadata": {},
     "outputs": []
    }
   ],
   "metadata": {}
  }
 ]
}