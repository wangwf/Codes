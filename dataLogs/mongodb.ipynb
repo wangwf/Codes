{
 "metadata": {
  "name": "",
  "signature": "sha256:c3078cc68955d1528cbc47a9b2de466e09a11a3093fa6acab70887c24cc62bea"
 },
 "nbformat": 3,
 "nbformat_minor": 0,
 "worksheets": [
  {
   "cells": [
    {
     "cell_type": "markdown",
     "metadata": {},
     "source": [
      "# Data Wrangle in MongoDB\n",
      "\n",
      "<ul>\n",
      "<li> 1. Query data in MongoDB  </li>\n",
      "<li> 2. Extract data array for building model  </li>\n",
      "<li> 3. Variable importance, correlation matrix or mutual information?</li>\n",
      "<li> 4. Extract into dataframe format? mongoDB pipe to Pandas/Graphlab?\n",
      "</ul>\n",
      "\n",
      "## 1. Query data in MongoDB"
     ]
    },
    {
     "cell_type": "code",
     "collapsed": false,
     "input": [
      "import pymongo\n",
      "\n",
      "def get_db(db_name):\n",
      "    from pymongo import MongoClient\n",
      "    client = MongoClient('localhost:27017')\n",
      "    db = client[db_name]\n",
      "    return db\n",
      "\n",
      "#connection = pymongo.Connection(\"mongodb://localhost\", safe=True)\n",
      "#db=connection.dataLogs\n",
      "#logs=db.logs    #collections name\n",
      "\n",
      "db = get_db(\"dataLogs\")\n",
      "log= db.logs\n"
     ],
     "language": "python",
     "metadata": {},
     "outputs": [],
     "prompt_number": 5
    },
    {
     "cell_type": "code",
     "collapsed": false,
     "input": [
      "logs.find_one()"
     ],
     "language": "python",
     "metadata": {},
     "outputs": [
      {
       "metadata": {},
       "output_type": "pyout",
       "prompt_number": 28,
       "text": [
        "{u'Cache-Control': u'max-age=0, private, must-revalidate',\n",
        " u'Connection': u'Keep-Alive',\n",
        " u'Content-Length': u'3726',\n",
        " u'Content-Type': u'text/html; charset=utf-8',\n",
        " u'Date': u'Tue, 14 Oct 2014 00',\n",
        " u'Etag': u'\"ea927ca92e0c7a85b168d210be0a5df4\"',\n",
        " u'Server': u'WEBrick/1.3.1 (Ruby/2.1.2/2014-05-08)',\n",
        " u'Set-Cookie': [u'request_method=GET; path=/',\n",
        "  u'_sample_app_session=NlljR05mSytQNzJ4N0gxQzA1VkJBQ3lDOUpEOWpwWFJnaGVOaUdFU0ZDek82RE5VK0I5V2NpY0RrRFcrSjZhT21oOTRZQW5UUzBhTDlIMUJ1QjNnZUZva3VCSEUzZ2FZeWsxMU5xcnE4S093aGpwaVBRbUUxeTFkSENINGFsdzMzUER6RVhHMkVyVCtmUTdzeS91S2lVc3hPU2V4Y1VOKy9GMzg0QUNNZFFzMFBUdWVUY1FvNmdiTnVRUGtQbzlULS1jWGEzRS9VcEtoWDc4bWtBTlNSajN3PT0%3D--a87e267085a6649f66c98a671fa8dac9629f7bd9; path=/; HttpOnly'],\n",
        " u'X-Content-Type-Options': u'nosniff',\n",
        " u'X-Frame-Options': u'SAMEORIGIN',\n",
        " u'X-Request-Id': u'1c96e7f2-2bd3-4070-b2b9-73ad728c111f',\n",
        " u'X-Runtime': u'0.017533',\n",
        " u'X-Ua-Compatible': u'chrome=1',\n",
        " u'X-Xhr-Current-Location': u'/',\n",
        " u'X-Xss-Protection': u'1; mode=block',\n",
        " u'_id': ObjectId('54c420f9848868651aa357f5'),\n",
        " u'content': u'3726',\n",
        " u'error': u'0',\n",
        " u'headers': u'1035',\n",
        " u'response': u'4930'}"
       ]
      }
     ],
     "prompt_number": 28
    },
    {
     "cell_type": "code",
     "collapsed": false,
     "input": [
      "d=logs.find_one()\n",
      "features=d.keys()\n",
      "features"
     ],
     "language": "python",
     "metadata": {},
     "outputs": [
      {
       "metadata": {},
       "output_type": "pyout",
       "prompt_number": 31,
       "text": [
        "[u'Content-Type',\n",
        " u'X-Request-Id',\n",
        " u'X-Xss-Protection',\n",
        " u'X-Content-Type-Options',\n",
        " u'Set-Cookie',\n",
        " u'X-Runtime',\n",
        " u'Cache-Control',\n",
        " u'Content-Length',\n",
        " u'Server',\n",
        " u'content',\n",
        " u'headers',\n",
        " u'Connection',\n",
        " u'Etag',\n",
        " u'X-Ua-Compatible',\n",
        " u'X-Xhr-Current-Location',\n",
        " u'Date',\n",
        " u'X-Frame-Options',\n",
        " u'_id',\n",
        " u'error',\n",
        " u'response']"
       ]
      }
     ],
     "prompt_number": 31
    },
    {
     "cell_type": "code",
     "collapsed": false,
     "input": [
      "query ={\"Content-Type\":{'$exists':True}}\n",
      "iter=logs.find(query,{\"_id\":0,\"Content-Type\":1},limit=10)\n",
      "for item in iter:\n",
      "    print item"
     ],
     "language": "python",
     "metadata": {},
     "outputs": [
      {
       "output_type": "stream",
       "stream": "stdout",
       "text": [
        "{u'Content-Type': u'text/html; charset=utf-8'}\n",
        "{u'Content-Type': u'text/css'}\n",
        "{u'Content-Type': u'application/javascript'}\n",
        "{u'Content-Type': u'text/css'}\n",
        "{u'Content-Type': u'application/javascript'}\n",
        "{u'Content-Type': u'application/javascript'}\n",
        "{u'Content-Type': u'application/javascript'}\n",
        "{u'Content-Type': u'application/javascript'}\n",
        "{u'Content-Type': u'application/javascript'}\n",
        "{u'Content-Type': u'application/javascript'}\n"
       ]
      }
     ],
     "prompt_number": 7
    },
    {
     "cell_type": "code",
     "collapsed": false,
     "input": [
      "#find distinct values in field content-Type\n",
      "\n",
      "for q in [\"Content-Type\",\"X-Content-Type-Options\", \"X-Xhr-Current-Location\",\"Cache-Control\"]:\n",
      "    print q,logs.distinct(q)"
     ],
     "language": "python",
     "metadata": {},
     "outputs": [
      {
       "output_type": "stream",
       "stream": "stdout",
       "text": [
        "Content-Type [u'text/html; charset=utf-8', u'text/css', u'application/javascript']\n",
        "X-Content-Type-Options [u'nosniff']\n",
        "X-Xhr-Current-Location [u'/', u'/signin', u'/users/1', u'/users', u'/users/2', u'/users/3', u'/users/3/followers', u'/about', u'/contact', u'/users/1/edit']\n",
        "Cache-Control [u'max-age=0, private, must-revalidate', u'public, must-revalidate', u'max-age=0']\n"
       ]
      }
     ],
     "prompt_number": 27
    },
    {
     "cell_type": "code",
     "collapsed": false,
     "input": [
      "Connection,"
     ],
     "language": "python",
     "metadata": {},
     "outputs": []
    },
    {
     "cell_type": "code",
     "collapsed": false,
     "input": [
      "n=1\n",
      "try:\n",
      "    iter = logs.find({},limit=10, skip=n)  #.sort('Content-Length', direction=1)\n",
      "    for item in iter:\n",
      "        print \"Content-Length\",item['Content-Length']\n",
      "except:\n",
      "    print \"Error trying to read collection:\", sys.exc_info()[0]"
     ],
     "language": "python",
     "metadata": {},
     "outputs": [
      {
       "output_type": "stream",
       "stream": "stdout",
       "text": [
        "Content-Length 513\n",
        "Content-Length 15477\n",
        "Content-Length 133735\n",
        "Content-Length 273200\n",
        "Content-Length 12654\n",
        "Content-Length 3485\n",
        "Content-Length 1758\n",
        "Content-Length 2526\n",
        "Content-Length 2843\n",
        "Content-Length 6059\n"
       ]
      }
     ],
     "prompt_number": 32
    },
    {
     "cell_type": "markdown",
     "metadata": {},
     "source": [
      "#2 extract data array for building model"
     ]
    },
    {
     "cell_type": "code",
     "collapsed": false,
     "input": [
      "query ={\"Content-Length\":{'$exists':True}}\n",
      "iter=logs.find(query,{\"_id\":0,\"Content-Length\":1})\n",
      "#for item in iter:\n",
      "#    print item, type(item), int(item.values()[0])\n",
      "rsize =[int(item.values()[0]) for item in iter]"
     ],
     "language": "python",
     "metadata": {},
     "outputs": [],
     "prompt_number": 36
    },
    {
     "cell_type": "code",
     "collapsed": false,
     "input": [
      "import matplotlib.pyplot as plt\n",
      "plt.figure(\"response/runtime\")\n",
      "#plt.xlabel(\"runtime\")\n",
      "#plt.ylabel(\"size\")\n",
      "plt.plot(rsize)\n",
      "plt.show()"
     ],
     "language": "python",
     "metadata": {},
     "outputs": [],
     "prompt_number": 38
    },
    {
     "cell_type": "code",
     "collapsed": false,
     "input": [
      "query ={\"Content-Length\":{'$exists':True}, \"Content-Type':{'$exist':True}, }\n",
      "iter=logs.find(query,{\"_id\":0,\"Content-Length\":1})\n",
      "#for item in iter:\n",
      "#    print item, type(item), int(item.values()[0])\n",
      "#rsize =[int(item.values()[0]) for item in iter]\n",
      "features"
     ],
     "language": "python",
     "metadata": {},
     "outputs": [
      {
       "metadata": {},
       "output_type": "pyout",
       "prompt_number": 34,
       "text": [
        "[u'Content-Type',\n",
        " u'X-Request-Id',\n",
        " u'X-Xss-Protection',\n",
        " u'X-Content-Type-Options',\n",
        " u'Set-Cookie',\n",
        " u'X-Runtime',\n",
        " u'Cache-Control',\n",
        " u'Content-Length',\n",
        " u'Server',\n",
        " u'content',\n",
        " u'headers',\n",
        " u'Connection',\n",
        " u'Etag',\n",
        " u'X-Ua-Compatible',\n",
        " u'X-Xhr-Current-Location',\n",
        " u'Date',\n",
        " u'X-Frame-Options',\n",
        " u'_id',\n",
        " u'error',\n",
        " u'response']"
       ]
      }
     ],
     "prompt_number": 34
    },
    {
     "cell_type": "markdown",
     "metadata": {},
     "source": [
      "#Pandas dataframe"
     ]
    },
    {
     "cell_type": "code",
     "collapsed": false,
     "input": [
      "import pandas as pd\n",
      "#from pymongo import MongoClient\n",
      "\n",
      "\n",
      "def _connect_mongo(host, port, username, password, db):\n",
      "    \"\"\" A util for making a connection to mongo \"\"\"\n",
      "\n",
      "    if username and password:\n",
      "        mongo_uri = 'mongodb://%s:%s@%s:%s/%s' % (username, password, host, port, db)\n",
      "        conn = pymongo.MongoClient(mongo_uri)\n",
      "    else:\n",
      "        conn = pymongo.MongoClient(host, port)\n",
      "\n",
      "\n",
      "    return conn[db]\n",
      "\n",
      "def read_mongo(db, collection, query={}, host='localhost', port=27017, username=None, password=None, no_id=True):\n",
      "    \"\"\" Read from Mongo and Store into DataFrame \"\"\"\n",
      "\n",
      "    # Connect to MongoDB\n",
      "    db = _connect_mongo(host=host, port=port, username=username, password=password, db=db)\n",
      "\n",
      "    # Make a query to the specific DB and Collection\n",
      "    cursor = db[collection].find(query)\n",
      "\n",
      "    # Expand the cursor and construct the DataFrame\n",
      "    df =  pd.DataFrame(list(cursor))\n",
      "\n",
      "    # Delete the _id\n",
      "    if no_id:\n",
      "        del df['_id']\n",
      "\n",
      "    return df\n"
     ],
     "language": "python",
     "metadata": {},
     "outputs": [],
     "prompt_number": 39
    },
    {
     "cell_type": "code",
     "collapsed": false,
     "input": [],
     "language": "python",
     "metadata": {},
     "outputs": []
    }
   ],
   "metadata": {}
  }
 ]
}