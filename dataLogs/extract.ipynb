{
 "metadata": {
  "name": "",
  "signature": "sha256:5fda3b59b264df351a99dccac9f950203b22552c85c37aed4074a34e8fc9cfc5"
 },
 "nbformat": 3,
 "nbformat_minor": 0,
 "worksheets": [
  {
   "cells": [
    {
     "cell_type": "markdown",
     "metadata": {},
     "source": [
      "## Data Cleaning\n",
      "\n",
      "Tasks\n",
      "<ul>\n",
      "<li>Start from a messy log file </li>\n",
      "<li>Data sanity check,  create new variable (?), iterate process.</li>\n",
      "<li>Reshape data into a structured format, tested three formats: csv, json, and MongoDB database. </li>\n",
      "</ul>\n",
      "\n"
     ]
    },
    {
     "cell_type": "code",
     "collapsed": false,
     "input": [
      "def dataCheck1():\n",
      "    ''' check for missing values\n",
      "    '''\n",
      "    pass\n",
      "    return"
     ],
     "language": "python",
     "metadata": {},
     "outputs": [],
     "prompt_number": 2
    },
    {
     "cell_type": "code",
     "collapsed": false,
     "input": [
      "def dataCheck2():\n",
      "    ''' data formate check\n",
      "      :field,n:nextString   Does the length of \n",
      "    '''\n",
      "    pass\n",
      "    return"
     ],
     "language": "python",
     "metadata": {},
     "outputs": []
    },
    {
     "cell_type": "code",
     "collapsed": false,
     "input": [
      "#\n",
      "# convert data into csv-format, tabular type data\n",
      "#\n",
      "def dataReshape(infile, outfile):\n",
      "    import csv\n",
      "    f  = open(infile, \"r\")\n",
      "    fo = open(outfile,\"w\")\n",
      "    writer = csv.writer(fo)\n",
      "\n",
      "\n",
      "    # Currently only extract a few features\n",
      "    fo.write(\"response,Runtime, Content-Length, request_method, Path, Error\\n\")\n",
      "\n",
      "    l=0\n",
      "    records=[]\n",
      "    for line in f:\n",
      "        words = line.split(\":\")\n",
      "        if len(words)<5:\n",
      "            continue\n",
      "\n",
      "        i=0\n",
      "        alist =[0,0,0,None,None,0]\n",
      "        while i<len(words):\n",
      "            w =words[i]\n",
      "            if w.startswith(\"error\"):  # or regext ?\n",
      "                alist[4] = words[i].split(\",\")[1] # or words[i+1][0] ?\n",
      "\n",
      "            elif w.startswith('response'):\n",
      "                alist[0] = int(w[9:])\n",
      "            elif w.startswith(\"X-Runtime\"):\n",
      "                alist[1] = float( words[i+1][:int(words[i].split(\",\")[1])] )\n",
      "               # alist[1] =  float(words[i+1].split(\",\")[0])\n",
      "            elif w.startswith(\"Content-Length\"):\n",
      "                #alist[2] =  int(words[i+1].split(\",\")[0])\n",
      "                alist[2] =  int( words[i+1][:int(words[i].split(\",\")[1])] )\n",
      "            elif w.startswith(\"request_method\"):\n",
      "                ww = w.split(\";\")\n",
      "                alist[3]   = ww[0].split(\"=\")[1]\n",
      "                if ww[1].split(\"=\")[0].lstrip()==\"path\":\n",
      "                    alist[4]   = ww[1].split(\"=\")[1].split(\",\")[0]\n",
      "            elif w.startswith(\"Content-Type\"):\n",
      "                #alist[] =  int( words[i+1][:int(words[i].split(\",\")[1])] )\n",
      "                pass\n",
      "            elif w.startswith(\"X-Xhr-Current-Location\"):\n",
      "                pass\n",
      "                #alist[] =  int( words[i+1][:int(words[i].split(\",\")[1])] )\n",
      "            \n",
      "            i += 1\n",
      "\n",
      "        if alist[0]>0:\n",
      "            records.append(alist)\n",
      "#            writer.writerow(alist)\n",
      "\n",
      "    writer.writerows(records)\n",
      "    f.close()\n",
      "    fo.close()"
     ],
     "language": "python",
     "metadata": {},
     "outputs": [],
     "prompt_number": 7
    },
    {
     "cell_type": "code",
     "collapsed": false,
     "input": [
      "infile = \"learnDataSet.log\"\n",
      "outfile = \"output.txt\"\n",
      "dataReshape(infile, outfile)\n",
      "\n"
     ],
     "language": "python",
     "metadata": {},
     "outputs": [],
     "prompt_number": 8
    },
    {
     "cell_type": "code",
     "collapsed": false,
     "input": [
      "#\n",
      "# output json format\n",
      "#\n",
      "def dataReshape2(infile, outfile):\n",
      "    import json\n",
      "\n",
      "    f  = open(infile, \"r\")\n",
      "    fo = open(outfile,\"w\")\n",
      "\n",
      "    \n",
      "    features1=[\"error\",\"response\",\"headers\",\"content\"]\n",
      "    features2=[\"X-Frame-Options\",\"X-Xss-Protection\",\"X-Content-Type-Options\",\"X-Ua-Compatible\",\n",
      "               \"X-Xhr-Current-Location\",\"Content-Type\",\"Etag\",\"Cache-Control\",\n",
      "               \"X-Request-Id\",\"X-Runtime\",\"Server\",\"Date\",\n",
      "               \"Content-Length\",\"Connection\" \n",
      "               ]\n",
      "    features3 =[\"Set-Cookie\"]  # =request_method=GET; path=/' or ]\n",
      "\n",
      "    records=[]\n",
      "    for line in f:\n",
      "        words = line.split(\":\")\n",
      "        if len(words)<12: # skip the short lines\n",
      "            continue\n",
      "\n",
      "#        print  \"length of words\",len(words)\n",
      "#        if len(words)<10:          print words\n",
      "#        if len(words)>6000:           print words\n",
      "\n",
      "        record = {}\n",
      "        cookies= []\n",
      "        for i in range(len(words)):\n",
      "            # skip fields without comma\n",
      "            if words[i].find(\",\")<0:\n",
      "                continue\n",
      "            ww = words[i].split(\",\")\n",
      "            key=ww[0]\n",
      "            value= ww[1]\n",
      "            #print \"word\",len(ww) #ww, words[i], words[i].find(\",\")\n",
      "            #if i<len(words):\n",
      "            #    print i,ww[1]\n",
      "            if value.isdigit():\n",
      "                if key in features1:                        \n",
      "                    record[key]=value\n",
      "                elif key in features2:\n",
      "                    record[key]=words[i+1][:int(value)] \n",
      "                elif key in features3:\n",
      "                    cookies.append( words[i+1][:int(value)] )\n",
      "\n",
      "            \n",
      "        record[\"Set-Cookie\"]=cookies \n",
      "        records.append(record)\n",
      "        json.dump(record, fo, indent=4)\n",
      "#    json.dumps(records, fo, indent=4, separators=(',',':'))\n",
      "#    json.dumps([d for d in records], fo, indent=4)\n",
      "    f.close()\n",
      "    fo.close()\n",
      "    print len(records)"
     ],
     "language": "python",
     "metadata": {},
     "outputs": [],
     "prompt_number": 1
    },
    {
     "cell_type": "code",
     "collapsed": false,
     "input": [
      "infile = \"learnDataSet.log\"\n",
      "outfile = \"output2.txt\"\n",
      "dataReshape2(infile, outfile)\n"
     ],
     "language": "python",
     "metadata": {},
     "outputs": [
      {
       "output_type": "stream",
       "stream": "stdout",
       "text": [
        "34\n"
       ]
      }
     ],
     "prompt_number": 2
    },
    {
     "cell_type": "code",
     "collapsed": false,
     "input": [
      "#\n",
      "# output into MongoDB\n",
      "#\n",
      "import pymongo\n",
      "\n",
      "def get_db(db_name):\n",
      "    from pymongo import MongoClient\n",
      "    client = MongoClient('localhost:27017')\n",
      "    db = client[db_name]\n",
      "    return db\n",
      "\n",
      "connection = pymongo.Connection(\"mongodb://localhost\", safe=True)\n",
      "db=connection.dataLogs\n",
      "logs=db.logs    #collections name\n",
      "\n",
      "\n",
      "#\n",
      "# output json format\n",
      "#\n",
      "def dataReshape3(infile, dbname):\n",
      "    import json\n",
      "\n",
      "    f  = open(infile, \"r\")\n",
      " \n",
      "    features1=[\"error\",\"response\",\"headers\",\"content\"]\n",
      "    features2=[\"X-Frame-Options\",\"X-Xss-Protection\",\"X-Content-Type-Options\",\"X-Ua-Compatible\",\n",
      "               \"X-Xhr-Current-Location\",\"Content-Type\",\"Etag\",\"Cache-Control\",\n",
      "               \"X-Request-Id\",\"X-Runtime\",\"Server\",\"Date\",\n",
      "               \"Content-Length\",\"Connection\" \n",
      "               ]\n",
      "    features3 =[\"Set-Cookie\"]  # =request_method=GET; path=/' or ]\n",
      "\n",
      "    records=[]\n",
      "    for line in f:\n",
      "        words = line.split(\":\")\n",
      "        if len(words)<12: # skip the short lines\n",
      "            continue\n",
      "\n",
      "#        print  \"length of words\",len(words)\n",
      "#        if len(words)<10:          print words\n",
      "#        if len(words)>6000:           print words\n",
      "\n",
      "        record = {}\n",
      "        cookies= []\n",
      "        for i in range(len(words)):\n",
      "            # skip fields without comma\n",
      "            if words[i].find(\",\")<0:\n",
      "                continue\n",
      "            ww = words[i].split(\",\")\n",
      "            key=ww[0]\n",
      "            value= ww[1]\n",
      "            #print \"word\",len(ww) #ww, words[i], words[i].find(\",\")\n",
      "            #if i<len(words):\n",
      "            #    print i,ww[1]\n",
      "            if value.isdigit():\n",
      "                if key in features1:                        \n",
      "                    record[key]=value\n",
      "                elif key in features2:\n",
      "                    record[key]=words[i+1][:int(value)] \n",
      "                elif key in features3:\n",
      "                    cookies.append( words[i+1][:int(value)] )\n",
      "\n",
      "            \n",
      "        record[\"Set-Cookie\"]=cookies \n",
      "        records.append(record)\n",
      "        dbname.insert(record)\n",
      "        \n",
      "\n",
      "    f.close()\n",
      "    print len(records)\n",
      "\n",
      "infile = \"learnDataSet.log\"\n",
      "\n",
      "dataReshape3(infile, logs)\n",
      "\n"
     ],
     "language": "python",
     "metadata": {},
     "outputs": [
      {
       "output_type": "stream",
       "stream": "stdout",
       "text": [
        "34\n"
       ]
      }
     ],
     "prompt_number": 7
    },
    {
     "cell_type": "code",
     "collapsed": false,
     "input": [
      "logs.find_one()"
     ],
     "language": "python",
     "metadata": {},
     "outputs": [
      {
       "metadata": {},
       "output_type": "pyout",
       "prompt_number": 16,
       "text": [
        "{u'Cache-Control': u'max-age=0, private, must-revalidate',\n",
        " u'Connection': u'Keep-Alive',\n",
        " u'Content-Length': u'3726',\n",
        " u'Content-Type': u'text/html; charset=utf-8',\n",
        " u'Date': u'Tue, 14 Oct 2014 00',\n",
        " u'Etag': u'\"ea927ca92e0c7a85b168d210be0a5df4\"',\n",
        " u'Server': u'WEBrick/1.3.1 (Ruby/2.1.2/2014-05-08)',\n",
        " u'Set-Cookie': [u'request_method=GET; path=/',\n",
        "  u'_sample_app_session=NlljR05mSytQNzJ4N0gxQzA1VkJBQ3lDOUpEOWpwWFJnaGVOaUdFU0ZDek82RE5VK0I5V2NpY0RrRFcrSjZhT21oOTRZQW5UUzBhTDlIMUJ1QjNnZUZva3VCSEUzZ2FZeWsxMU5xcnE4S093aGpwaVBRbUUxeTFkSENINGFsdzMzUER6RVhHMkVyVCtmUTdzeS91S2lVc3hPU2V4Y1VOKy9GMzg0QUNNZFFzMFBUdWVUY1FvNmdiTnVRUGtQbzlULS1jWGEzRS9VcEtoWDc4bWtBTlNSajN3PT0%3D--a87e267085a6649f66c98a671fa8dac9629f7bd9; path=/; HttpOnly'],\n",
        " u'X-Content-Type-Options': u'nosniff',\n",
        " u'X-Frame-Options': u'SAMEORIGIN',\n",
        " u'X-Request-Id': u'1c96e7f2-2bd3-4070-b2b9-73ad728c111f',\n",
        " u'X-Runtime': u'0.017533',\n",
        " u'X-Ua-Compatible': u'chrome=1',\n",
        " u'X-Xhr-Current-Location': u'/',\n",
        " u'X-Xss-Protection': u'1; mode=block',\n",
        " u'_id': ObjectId('54c420f9848868651aa357f5'),\n",
        " u'content': u'3726',\n",
        " u'error': u'0',\n",
        " u'headers': u'1035',\n",
        " u'response': u'4930'}"
       ]
      }
     ],
     "prompt_number": 16
    },
    {
     "cell_type": "code",
     "collapsed": false,
     "input": [
      "query ={\"Content-Type\":{'$exists':True}}\n",
      "iter=logs.find(query,{\"_id\":0,\"Content-Type\":1},limit=10)\n",
      "for item in iter:\n",
      "    print item"
     ],
     "language": "python",
     "metadata": {},
     "outputs": [
      {
       "output_type": "stream",
       "stream": "stdout",
       "text": [
        "{u'Content-Type': u'text/html; charset=utf-8'}\n",
        "{u'Content-Type': u'text/css'}\n",
        "{u'Content-Type': u'application/javascript'}\n",
        "{u'Content-Type': u'text/css'}\n",
        "{u'Content-Type': u'application/javascript'}\n",
        "{u'Content-Type': u'application/javascript'}\n",
        "{u'Content-Type': u'application/javascript'}\n",
        "{u'Content-Type': u'application/javascript'}\n",
        "{u'Content-Type': u'application/javascript'}\n",
        "{u'Content-Type': u'application/javascript'}\n"
       ]
      }
     ],
     "prompt_number": 36
    },
    {
     "cell_type": "code",
     "collapsed": false,
     "input": [
      "#find distinct values in field content-Type\n",
      "\n",
      "for q in [\"Content-Type\",\"X-Content-Type-Options\", \"X-Xhr-Current-Location\",\"Cache-Control\"]:\n",
      "    print q,logs.distinct(q)\n"
     ],
     "language": "python",
     "metadata": {},
     "outputs": [
      {
       "output_type": "stream",
       "stream": "stdout",
       "text": [
        "Content-Type [u'text/html; charset=utf-8', u'text/css', u'application/javascript']\n",
        "X-Content-Type-Options [u'nosniff']\n",
        "X-Xhr-Current-Location [u'/', u'/signin', u'/users/1', u'/users', u'/users/2', u'/users/3', u'/users/3/followers', u'/about', u'/contact', u'/users/1/edit']\n",
        "Cache-Control [u'max-age=0, private, must-revalidate', u'public, must-revalidate', u'max-age=0']\n"
       ]
      }
     ],
     "prompt_number": 44
    },
    {
     "cell_type": "code",
     "collapsed": false,
     "input": [
      "n=1\n",
      "try:\n",
      "    iter = logs.find({},limit=10, skip=n)  #.sort('Content-Length', direction=1)\n",
      "    for item in iter:\n",
      "        print \"Content-Length\",item['Content-Length']\n",
      "except:\n",
      "    print \"Error trying to read collection:\", sys.exc_info()[0]"
     ],
     "language": "python",
     "metadata": {},
     "outputs": [
      {
       "output_type": "stream",
       "stream": "stdout",
       "text": [
        "Content-Length 513\n",
        "Content-Length 15477\n",
        "Content-Length 133735\n",
        "Content-Length 273200\n",
        "Content-Length 12654\n",
        "Content-Length 3485\n",
        "Content-Length 1758\n",
        "Content-Length 2526\n",
        "Content-Length 2843\n",
        "Content-Length 6059\n"
       ]
      }
     ],
     "prompt_number": 24
    },
    {
     "cell_type": "code",
     "collapsed": false,
     "input": [],
     "language": "python",
     "metadata": {},
     "outputs": []
    }
   ],
   "metadata": {}
  }
 ]
}