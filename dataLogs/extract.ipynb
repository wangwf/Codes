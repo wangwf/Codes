{
 "metadata": {
  "name": "",
  "signature": "sha256:ed86093b78fa936e3e745a479ccb230e208c1274f62b6f239b9e52c8738eaac1"
 },
 "nbformat": 3,
 "nbformat_minor": 0,
 "worksheets": [
  {
   "cells": [
    {
     "cell_type": "code",
     "collapsed": false,
     "input": [
      "## data Cleaning\n",
      "\n"
     ],
     "language": "python",
     "metadata": {},
     "outputs": [],
     "prompt_number": 16
    },
    {
     "cell_type": "code",
     "collapsed": false,
     "input": [
      "def dataReshape(infile, outfile):\n",
      "    import csv\n",
      "    f  = open(infile, \"r\")\n",
      "    fo = open(outfile,\"w\")\n",
      "    writer = csv.writer(fo)\n",
      "\n",
      "\n",
      "    # Currently only extract a few features\n",
      "    fo.write(\"response,Runtime, Content-Length, request_method, Path, Error\\n\")\n",
      "\n",
      "    l=0\n",
      "    records=[]\n",
      "    for line in f:\n",
      "        words = line.split(\":\")\n",
      "        if len(words)<5:\n",
      "            continue\n",
      "\n",
      "        i=0\n",
      "        alist =[0,0,0,None,None,0]\n",
      "        while i<len(words):\n",
      "            w =words[i]\n",
      "            if w.startswith(\"error\"):  # or regext ?\n",
      "                alist[4] = words[i].split(\",\")[1] # or words[i+1][0] ?\n",
      "\n",
      "            elif w.startswith('response'):\n",
      "                alist[0] = int(w[9:])\n",
      "            elif w.startswith(\"X-Runtime\"):\n",
      "                alist[1] = float( words[i+1][:int(words[i].split(\",\")[1])] )\n",
      "               # alist[1] =  float(words[i+1].split(\",\")[0])\n",
      "            elif w.startswith(\"Content-Length\"):\n",
      "                alist[2] =  int(words[i+1].split(\",\")[0])\n",
      "            elif w.startswith(\"request_method\"):\n",
      "                ww = w.split(\";\")\n",
      "                alist[3]   = ww[0].split(\"=\")[1]\n",
      "                if ww[1].split(\"=\")[0].lstrip()==\"path\":\n",
      "                    alist[4]   = ww[1].split(\"=\")[1].split(\",\")[0]\n",
      "            \n",
      "            i += 1\n",
      "\n",
      "        if alist[0]>0:\n",
      "            records.append(alist)\n",
      "#            writer.writerow(alist)\n",
      "\n",
      "    writer.writerows(records)\n",
      "    f.close()\n",
      "    fo.close()"
     ],
     "language": "python",
     "metadata": {},
     "outputs": [],
     "prompt_number": 27
    },
    {
     "cell_type": "code",
     "collapsed": false,
     "input": [
      "infile = \"learnDataSet.log\"\n",
      "outfile = \"output.txt\"\n",
      "dataReshape(infile, outfile)\n",
      "\n"
     ],
     "language": "python",
     "metadata": {},
     "outputs": [],
     "prompt_number": 28
    },
    {
     "cell_type": "code",
     "collapsed": false,
     "input": [],
     "language": "python",
     "metadata": {},
     "outputs": [
      {
       "metadata": {},
       "output_type": "pyout",
       "prompt_number": 29,
       "text": [
        "{}"
       ]
      }
     ],
     "prompt_number": 29
    },
    {
     "cell_type": "code",
     "collapsed": false,
     "input": [],
     "language": "python",
     "metadata": {},
     "outputs": []
    }
   ],
   "metadata": {}
  }
 ]
}