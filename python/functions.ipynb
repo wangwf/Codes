{
 "metadata": {
  "name": "",
  "signature": "sha256:11b1581638499fe8a4647f5af106809d0824db75a05354ec7b83bce34cbf8f20"
 },
 "nbformat": 3,
 "nbformat_minor": 0,
 "worksheets": [
  {
   "cells": [
    {
     "cell_type": "code",
     "collapsed": false,
     "input": [
      "def hello():\n",
      "    print \"Hello, world!\""
     ],
     "language": "python",
     "metadata": {},
     "outputs": [],
     "prompt_number": 1
    },
    {
     "cell_type": "code",
     "collapsed": false,
     "input": [
      "hello()"
     ],
     "language": "python",
     "metadata": {},
     "outputs": [
      {
       "output_type": "stream",
       "stream": "stdout",
       "text": [
        "Hello, world!\n"
       ]
      }
     ],
     "prompt_number": 2
    },
    {
     "cell_type": "code",
     "collapsed": false,
     "input": [
      "def hello(name):\n",
      "    print \"Hello, \"+name\n",
      "    \n",
      "hello(\"Wenfeng\")"
     ],
     "language": "python",
     "metadata": {},
     "outputs": [
      {
       "output_type": "stream",
       "stream": "stdout",
       "text": [
        "Hello, Wenfeng\n"
       ]
      }
     ],
     "prompt_number": 4
    },
    {
     "cell_type": "code",
     "collapsed": false,
     "input": [
      "def hello(name=\"world\"):\n",
      "    print \"Hello, \"+name\n",
      "    \n",
      "hello()"
     ],
     "language": "python",
     "metadata": {},
     "outputs": [
      {
       "output_type": "stream",
       "stream": "stdout",
       "text": [
        "Hello, world\n"
       ]
      }
     ],
     "prompt_number": 6
    },
    {
     "cell_type": "code",
     "collapsed": false,
     "input": [
      "\n",
      "#!/usr/bin/python\n",
      "\n",
      "# Print the contents of the files listed on the command line.\n",
      "\n",
      "import sys\n",
      "\n",
      "for fn in sys.argv[1:]:\n",
      "    try:\n",
      "        fin = open(fn, 'r')\n",
      "    except:\n",
      "        (type, detail) = sys.exc_info()[:2]\n",
      "        print \"\\n*** %s: %s: %s ***\" % (fn, type, detail)\n",
      "        continue\n",
      "    print \"\\n*** Contents of\", fn, \"***\"\n",
      "    \n",
      "    # Print the file, with line numbers.\n",
      "    lno = 1\n",
      "    while 1:\n",
      "        line = fin.readline()\n",
      "        if not line: break;\n",
      "        print '%3d: %-s' % (lno, line[:-1])\n",
      "        lno = lno + 1\n",
      "    fin.close()\n",
      "print\n"
     ],
     "language": "python",
     "metadata": {},
     "outputs": [
      {
       "output_type": "stream",
       "stream": "stdout",
       "text": [
        "\n",
        "*** -f: <type 'exceptions.IOError'>: [Errno 2] No such file or directory: '-f' ***\n",
        "\n",
        "*** Contents of /home/wenfeng/.ipython/profile_default/security/kernel-d2b43443-af50-42c5-a10b-c40e1f79f2d2.json ***\n",
        "  1: {\n",
        "  2:   \"stdin_port\": 46966, \n",
        "  3:   \"ip\": \"127.0.0.1\", \n",
        "  4:   \"control_port\": 59861, \n",
        "  5:   \"hb_port\": 35648, \n",
        "  6:   \"signature_scheme\": \"hmac-sha256\", \n",
        "  7:   \"key\": \"6261556b-a72b-4213-bc44-0d5c0486949e\", \n",
        "  8:   \"shell_port\": 60830, \n",
        "  9:   \"transport\": \"tcp\", \n",
        " 10:   \"iopub_port\": 36962\n",
        " 11: \n",
        "\n",
        "*** --IPKernelApp.parent_appname='ipython-notebook': <type 'exceptions.IOError'>: [Errno 2] No such file or directory: \"--IPKernelApp.parent_appname='ipython-notebook'\" ***\n",
        "\n",
        "*** --profile-dir: <type 'exceptions.IOError'>: [Errno 2] No such file or directory: '--profile-dir' ***\n",
        "\n",
        "*** /home/wenfeng/.ipython/profile_default: <type 'exceptions.IOError'>: [Errno 21] Is a directory: '/home/wenfeng/.ipython/profile_default' ***\n",
        "\n",
        "*** --parent=1: <type 'exceptions.IOError'>: [Errno 2] No such file or directory: '--parent=1' ***\n",
        "\n"
       ]
      }
     ],
     "prompt_number": 7
    },
    {
     "cell_type": "code",
     "collapsed": false,
     "input": [],
     "language": "python",
     "metadata": {},
     "outputs": []
    }
   ],
   "metadata": {}
  }
 ]
}