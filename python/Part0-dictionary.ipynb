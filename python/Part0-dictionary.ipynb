{
 "metadata": {
  "name": "",
  "signature": "sha256:3bd9210e5aa7e41f9d0b04a8ae404285746f992f3531edb771df7b964a82d2b8"
 },
 "nbformat": 3,
 "nbformat_minor": 0,
 "worksheets": [
  {
   "cells": [
    {
     "cell_type": "markdown",
     "metadata": {},
     "source": [
      "#Python dictionary:\n",
      "container type, mutable {key:value},  hash table or associative arrays\n",
      "    "
     ]
    },
    {
     "cell_type": "code",
     "collapsed": false,
     "input": [
      "dict = {\"Alice\":23, \"Bob\":35, \"Mike\":18,\"Katie\":5}  # {} for empty list"
     ],
     "language": "python",
     "metadata": {},
     "outputs": [],
     "prompt_number": 1
    },
    {
     "cell_type": "code",
     "collapsed": false,
     "input": [
      "# Accessing\n",
      "print dict['Bob']"
     ],
     "language": "python",
     "metadata": {},
     "outputs": [
      {
       "output_type": "stream",
       "stream": "stdout",
       "text": [
        "35\n"
       ]
      }
     ],
     "prompt_number": 2
    },
    {
     "cell_type": "code",
     "collapsed": false,
     "input": [
      "# updating\n",
      "dict[\"Mike\"] = 22\n",
      "print dict[\"Mike\"]\n",
      "print dict"
     ],
     "language": "python",
     "metadata": {},
     "outputs": [
      {
       "output_type": "stream",
       "stream": "stdout",
       "text": [
        "22\n",
        "{'Bob': 35, 'Katie': 5, 'Alice': 23, 'Mike': 22}\n"
       ]
      }
     ],
     "prompt_number": 4
    },
    {
     "cell_type": "code",
     "collapsed": false,
     "input": [
      "# adding new value\n",
      "dict[\"Karl\"]=30\n",
      "print dict"
     ],
     "language": "python",
     "metadata": {},
     "outputs": [
      {
       "output_type": "stream",
       "stream": "stdout",
       "text": [
        "{'Bob': 35, 'Katie': 5, 'Alice': 23, 'Karl': 30, 'Mike': 22}\n"
       ]
      }
     ],
     "prompt_number": 5
    },
    {
     "cell_type": "code",
     "collapsed": false,
     "input": [
      "# delete element, del statement\n",
      "del dict['Katie']\n",
      "print dict"
     ],
     "language": "python",
     "metadata": {},
     "outputs": [
      {
       "output_type": "stream",
       "stream": "stdout",
       "text": [
        "{'Bob': 35, 'Alice': 23, 'Karl': 30, 'Mike': 22}\n"
       ]
      }
     ],
     "prompt_number": 6
    },
    {
     "cell_type": "code",
     "collapsed": false,
     "input": [
      "# no duplicate\n",
      "# {'Mike':22, 'Mike':25}  not allowed\n",
      "dict['Mike']=25   # updating\n",
      "print dict"
     ],
     "language": "python",
     "metadata": {},
     "outputs": [
      {
       "output_type": "stream",
       "stream": "stdout",
       "text": [
        "{'Bob': 35, 'Alice': 23, 'Karl': 30, 'Mike': 25}\n"
       ]
      }
     ],
     "prompt_number": 8
    },
    {
     "cell_type": "code",
     "collapsed": false,
     "input": [
      "# Keys is immutable, list can't be keys\n",
      "newdict = {['Name']: 'Z', 'Age': 7};\n",
      "print \"newdict['Name']: \", newdict['Name'];"
     ],
     "language": "python",
     "metadata": {},
     "outputs": [
      {
       "ename": "TypeError",
       "evalue": "unhashable type: 'list'",
       "output_type": "pyerr",
       "traceback": [
        "\u001b[1;31m---------------------------------------------------------------------------\u001b[0m\n\u001b[1;31mTypeError\u001b[0m                                 Traceback (most recent call last)",
        "\u001b[1;32m<ipython-input-9-c3a7586f4d30>\u001b[0m in \u001b[0;36m<module>\u001b[1;34m()\u001b[0m\n\u001b[0;32m      1\u001b[0m \u001b[1;31m# Keys is immutable, list can't be keys\u001b[0m\u001b[1;33m\u001b[0m\u001b[1;33m\u001b[0m\u001b[0m\n\u001b[1;32m----> 2\u001b[1;33m \u001b[0mnewdict\u001b[0m \u001b[1;33m=\u001b[0m \u001b[1;33m{\u001b[0m\u001b[1;33m[\u001b[0m\u001b[1;34m'Name'\u001b[0m\u001b[1;33m]\u001b[0m\u001b[1;33m:\u001b[0m \u001b[1;34m'Z'\u001b[0m\u001b[1;33m,\u001b[0m \u001b[1;34m'Age'\u001b[0m\u001b[1;33m:\u001b[0m \u001b[1;36m7\u001b[0m\u001b[1;33m}\u001b[0m\u001b[1;33m;\u001b[0m\u001b[1;33m\u001b[0m\u001b[0m\n\u001b[0m\u001b[0;32m      3\u001b[0m \u001b[1;32mprint\u001b[0m \u001b[1;34m\"newdict['Name']: \"\u001b[0m\u001b[1;33m,\u001b[0m \u001b[0mnewdict\u001b[0m\u001b[1;33m[\u001b[0m\u001b[1;34m'Name'\u001b[0m\u001b[1;33m]\u001b[0m\u001b[1;33m;\u001b[0m\u001b[1;33m\u001b[0m\u001b[0m\n",
        "\u001b[1;31mTypeError\u001b[0m: unhashable type: 'list'"
       ]
      }
     ],
     "prompt_number": 9
    },
    {
     "cell_type": "code",
     "collapsed": false,
     "input": [
      "s=str(dict)\n",
      "print s\n",
      "print \"type of s is \",type(s)"
     ],
     "language": "python",
     "metadata": {},
     "outputs": [
      {
       "output_type": "stream",
       "stream": "stdout",
       "text": [
        "{'Bob': 35, 'Alice': 23, 'Karl': 30, 'Mike': 25}\n",
        "type of s is  <type 'str'>\n"
       ]
      }
     ],
     "prompt_number": 11
    },
    {
     "cell_type": "code",
     "collapsed": false,
     "input": [
      "dict['wf']={\"age\":40,\"address\":\"Cupertino\",\"email\":\"WEnfeng.wang@yahoo.com\"}"
     ],
     "language": "python",
     "metadata": {},
     "outputs": [],
     "prompt_number": 12
    },
    {
     "cell_type": "code",
     "collapsed": false,
     "input": [
      "print dict"
     ],
     "language": "python",
     "metadata": {},
     "outputs": [
      {
       "output_type": "stream",
       "stream": "stdout",
       "text": [
        "{'wf': {'age': 40, 'email': 'WEnfeng.wang@yahoo.com', 'address': 'Cupertino'}, 'Mike': 25, 'Alice': 23, 'Bob': 35, 'Karl': 30}\n"
       ]
      }
     ],
     "prompt_number": 13
    },
    {
     "cell_type": "code",
     "collapsed": false,
     "input": [
      "newdict=dict\n",
      "print newdict\n",
      "print dict"
     ],
     "language": "python",
     "metadata": {},
     "outputs": [
      {
       "output_type": "stream",
       "stream": "stdout",
       "text": [
        "{'wf': {'age': 40, 'email': 'WEnfeng.wang@yahoo.com', 'address': 'Cupertino'}, 'Mike': 25, 'Alice': 23, 'Bob': 35, 'Karl': 30}\n",
        "{'wf': {'age': 40, 'email': 'WEnfeng.wang@yahoo.com', 'address': 'Cupertino'}, 'Mike': 25, 'Alice': 23, 'Bob': 35, 'Karl': 30}\n"
       ]
      }
     ],
     "prompt_number": 14
    },
    {
     "cell_type": "code",
     "collapsed": false,
     "input": [
      "newdict[\"Mike\"]=26\n",
      "print newdict"
     ],
     "language": "python",
     "metadata": {},
     "outputs": [
      {
       "output_type": "stream",
       "stream": "stdout",
       "text": [
        "{'wf': {'age': 40, 'email': 'WEnfeng.wang@yahoo.com', 'address': 'Cupertino'}, 'Mike': 26, 'Alice': 23, 'Bob': 35, 'Karl': 30}\n"
       ]
      }
     ],
     "prompt_number": 15
    },
    {
     "cell_type": "code",
     "collapsed": false,
     "input": [
      "print dict"
     ],
     "language": "python",
     "metadata": {},
     "outputs": [
      {
       "output_type": "stream",
       "stream": "stdout",
       "text": [
        "{'wf': {'age': 40, 'email': 'WEnfeng.wang@yahoo.com', 'address': 'Cupertino'}, 'Mike': 26, 'Alice': 23, 'Bob': 35, 'Karl': 30}\n"
       ]
      }
     ],
     "prompt_number": 16
    },
    {
     "cell_type": "code",
     "collapsed": false,
     "input": [
      "#Shallow copy, not deep copy\n"
     ],
     "language": "python",
     "metadata": {},
     "outputs": []
    }
   ],
   "metadata": {}
  }
 ]
}