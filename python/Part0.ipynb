{
 "metadata": {
  "name": "",
  "signature": "sha256:7dbdd2bca5ce3294fb04b9c34cfce9cd7fec18019e486dd00d39b691dca261e1"
 },
 "nbformat": 3,
 "nbformat_minor": 0,
 "worksheets": [
  {
   "cells": [
    {
     "cell_type": "code",
     "collapsed": false,
     "input": [
      "print \"Hello, World!\""
     ],
     "language": "python",
     "metadata": {},
     "outputs": [
      {
       "output_type": "stream",
       "stream": "stdout",
       "text": [
        "Hello, World!\n"
       ]
      }
     ],
     "prompt_number": 1
    },
    {
     "cell_type": "code",
     "collapsed": false,
     "input": [
      "name = \"Wenfeng\"\n",
      "print \"Hello,\"+name"
     ],
     "language": "python",
     "metadata": {},
     "outputs": [
      {
       "output_type": "stream",
       "stream": "stdout",
       "text": [
        "Hello,Wenfeng\n"
       ]
      }
     ],
     "prompt_number": 2
    },
    {
     "cell_type": "code",
     "collapsed": false,
     "input": [
      "## Math in Python\n",
      "# +   addition\n",
      "# -   subtraction\n",
      "#  * multiplication\n",
      "#  /   Division\n",
      "#  %  Reminder module\n",
      "#  **  Exponent"
     ],
     "language": "python",
     "metadata": {},
     "outputs": [],
     "prompt_number": 3
    },
    {
     "cell_type": "code",
     "collapsed": false,
     "input": [
      "1+1\n",
      "2*5"
     ],
     "language": "python",
     "metadata": {},
     "outputs": [
      {
       "metadata": {},
       "output_type": "pyout",
       "prompt_number": 4,
       "text": [
        "10"
       ]
      }
     ],
     "prompt_number": 4
    },
    {
     "cell_type": "code",
     "collapsed": false,
     "input": [
      "20/4"
     ],
     "language": "python",
     "metadata": {},
     "outputs": [
      {
       "metadata": {},
       "output_type": "pyout",
       "prompt_number": 5,
       "text": [
        "5"
       ]
      }
     ],
     "prompt_number": 5
    },
    {
     "cell_type": "code",
     "collapsed": false,
     "input": [
      "2/4"
     ],
     "language": "python",
     "metadata": {},
     "outputs": [
      {
       "metadata": {},
       "output_type": "pyout",
       "prompt_number": 6,
       "text": [
        "0"
       ]
      }
     ],
     "prompt_number": 6
    },
    {
     "cell_type": "code",
     "collapsed": false,
     "input": [
      "2.0/4"
     ],
     "language": "python",
     "metadata": {},
     "outputs": [
      {
       "metadata": {},
       "output_type": "pyout",
       "prompt_number": 7,
       "text": [
        "0.5"
       ]
      }
     ],
     "prompt_number": 7
    },
    {
     "cell_type": "code",
     "collapsed": false,
     "input": [
      "print 23/3\n",
      "print 23%3"
     ],
     "language": "python",
     "metadata": {},
     "outputs": [
      {
       "output_type": "stream",
       "stream": "stdout",
       "text": [
        "7\n",
        "2\n"
       ]
      }
     ],
     "prompt_number": 10
    },
    {
     "cell_type": "code",
     "collapsed": false,
     "input": [
      "## Order of operations"
     ],
     "language": "python",
     "metadata": {},
     "outputs": [],
     "prompt_number": 11
    },
    {
     "cell_type": "code",
     "collapsed": false,
     "input": [
      " 4 - 40 -3"
     ],
     "language": "python",
     "metadata": {},
     "outputs": [
      {
       "metadata": {},
       "output_type": "pyout",
       "prompt_number": 12,
       "text": [
        "-39"
       ]
      }
     ],
     "prompt_number": 12
    },
    {
     "cell_type": "code",
     "collapsed": false,
     "input": [
      "4 - (40-3)"
     ],
     "language": "python",
     "metadata": {},
     "outputs": [
      {
       "metadata": {},
       "output_type": "pyout",
       "prompt_number": 13,
       "text": [
        "-33"
       ]
      }
     ],
     "prompt_number": 13
    },
    {
     "cell_type": "code",
     "collapsed": false,
     "input": [
      "## Variable\n",
      "v =10\n",
      "v += 1"
     ],
     "language": "python",
     "metadata": {},
     "outputs": [],
     "prompt_number": 16
    },
    {
     "cell_type": "code",
     "collapsed": false,
     "input": [
      "#Strings"
     ],
     "language": "python",
     "metadata": {},
     "outputs": [],
     "prompt_number": 17
    },
    {
     "cell_type": "code",
     "collapsed": false,
     "input": [
      "words = \"Good morning, \"\n",
      "name  = \"Wenfeng\""
     ],
     "language": "python",
     "metadata": {},
     "outputs": [],
     "prompt_number": 18
    },
    {
     "cell_type": "code",
     "collapsed": false,
     "input": [
      "print words+name"
     ],
     "language": "python",
     "metadata": {},
     "outputs": [
      {
       "output_type": "stream",
       "stream": "stdout",
       "text": [
        "Good morning, Wenfeng\n"
       ]
      }
     ],
     "prompt_number": 19
    },
    {
     "cell_type": "code",
     "collapsed": false,
     "input": [
      "## Loop, conditions\n",
      "# <\tless than\n",
      "# <=\tless that or equal to\n",
      "# >\tgreater than\n",
      "# >=\tgreater than or equal to\n",
      "# !=\tnot equal to\n",
      "# <>\tnot equal to (alternate)\n",
      "# ==\tequal to"
     ],
     "language": "python",
     "metadata": {},
     "outputs": [],
     "prompt_number": 20
    },
    {
     "cell_type": "code",
     "collapsed": false,
     "input": [
      "a=1\n",
      "while a<10:\n",
      "    a = a+1\n",
      "    print a"
     ],
     "language": "python",
     "metadata": {},
     "outputs": [
      {
       "output_type": "stream",
       "stream": "stdout",
       "text": [
        "2\n",
        "3\n",
        "4\n",
        "5\n",
        "6\n",
        "7\n",
        "8\n",
        "9\n",
        "10\n"
       ]
      }
     ],
     "prompt_number": 23
    },
    {
     "cell_type": "code",
     "collapsed": false,
     "input": [
      "#print even numbers up to 20\n",
      "n = 1\n",
      "while n<=20:\n",
      "    if n% 2 ==0:\n",
      "        print n\n",
      "    n = n+1\n",
      "print \"Done\""
     ],
     "language": "python",
     "metadata": {},
     "outputs": [
      {
       "output_type": "stream",
       "stream": "stdout",
       "text": [
        "2\n",
        "4\n",
        "6\n",
        "8\n",
        "10\n",
        "12\n",
        "14\n",
        "16\n",
        "18\n",
        "20\n",
        "Done\n"
       ]
      }
     ],
     "prompt_number": 24
    },
    {
     "cell_type": "code",
     "collapsed": false,
     "input": [
      "## Conditional Statements\n",
      "for y in range(2, 10):\n",
      "    print y,\n",
      "print\n",
      "\n",
      "for y in range(2, 10, 2):\n",
      "    print y,\n",
      "print\n",
      "\n",
      "for y in range(20, 10, -1):\n",
      "    print y,\n",
      "print"
     ],
     "language": "python",
     "metadata": {},
     "outputs": [
      {
       "output_type": "stream",
       "stream": "stdout",
       "text": [
        "2 3 4 5 6 7 8 9\n",
        "2 4 6 8\n",
        "20 19 18 17 16 15 14 13 12 11\n"
       ]
      }
     ],
     "prompt_number": 30
    },
    {
     "cell_type": "code",
     "collapsed": false,
     "input": [
      "# Powers of 2 (for no obvious reason)\n",
      "power = 1\n",
      "for y in range(0,21):\n",
      "    print \"2 to the\", y, \"is\", power\n",
      "    power = 2 * power\n",
      "    "
     ],
     "language": "python",
     "metadata": {},
     "outputs": []
    },
    {
     "cell_type": "code",
     "collapsed": false,
     "input": [
      "# Scanning a list.\n",
      "fred = ['And', 'now', 'for', 'something', 'completely', 'different.'];\n",
      "for i in range(0,len(fred)):\n",
      "    print i, fred[i]"
     ],
     "language": "python",
     "metadata": {},
     "outputs": [
      {
       "output_type": "stream",
       "stream": "stdout",
       "text": [
        "0 And\n",
        "1 now\n",
        "2 for\n",
        "3 something\n",
        "4 completely\n",
        "5 different.\n"
       ]
      }
     ],
     "prompt_number": 31
    },
    {
     "cell_type": "code",
     "collapsed": false,
     "input": [
      "## indentation\n",
      "# Each line in the first level starts with no spaces. It is the main program, and will always execute.\n",
      "# Each line in the second level starts with four spaces. When there is an 'if' or loop on the first level, everything on the second level after that will be looped/'ifed', until a new line starts back on the first level again.\n",
      "# Each line in the third level starts with eight spaces. When there is an 'if' or loop on the second level, everything on the third level after that will be looped/'ifed', until a new line starts back on the second level again.\n",
      "# This goes on infinitely, until the person writing the program has an internal brain explosion, and cannot understand anything he/she has written."
     ],
     "language": "python",
     "metadata": {},
     "outputs": [],
     "prompt_number": 26
    },
    {
     "cell_type": "code",
     "collapsed": false,
     "input": [
      "##\n",
      "# Some relationals.  Relationals in Python can be chained, and are\n",
      "# interpreted with an implicit and.\n",
      "c = -2\n",
      "for a in range(1,4):\n",
      "    c = c + 4\n",
      "    for b in range(1,4):\n",
      "        print '(' + str(a), '<', str(b) + ') ==', a < b, '  ',\n",
      "        print '(' + str(a), '>=', b, '>', str(c) + ') ==', a >= b > c, '  ',\n",
      "        print '(' + str(a), '==', b, '==', str(c) + ') ==', \\\n",
      "              a == b == c, '  ',\n",
      "        print '(' + str(a), '!=', b, '!=', str(c) + ') ==', a != b != c\n",
      "        c = c - 1\n",
      "print"
     ],
     "language": "python",
     "metadata": {},
     "outputs": [
      {
       "output_type": "stream",
       "stream": "stdout",
       "text": [
        "(1 < 1) == False    (1 >= 1 > 2) == False    (1 == 1 == 2) == False    (1 != 1 != 2) == False\n",
        "(1 < 2) == True    (1 >= 2 > 1) == False    (1 == 2 == 1) == False    (1 != 2 != 1) == True\n",
        "(1 < 3) == True    (1 >= 3 > 0) == False    (1 == 3 == 0) == False    (1 != 3 != 0) == True\n",
        "(2 < 1) == False    (2 >= 1 > 3) == False    (2 == 1 == 3) == False    (2 != 1 != 3) == True\n",
        "(2 < 2) == False    (2 >= 2 > 2) == False    (2 == 2 == 2) == True    (2 != 2 != 2) == False\n",
        "(2 < 3) == True    (2 >= 3 > 1) == False    (2 == 3 == 1) == False    (2 != 3 != 1) == True\n",
        "(3 < 1) == False    (3 >= 1 > 4) == False    (3 == 1 == 4) == False    (3 != 1 != 4) == True\n",
        "(3 < 2) == False    (3 >= 2 > 3) == False    (3 == 2 == 3) == False    (3 != 2 != 3) == True\n",
        "(3 < 3) == False    (3 >= 3 > 2) == True    (3 == 3 == 2) == False    (3 != 3 != 2) == False\n",
        "\n"
       ]
      }
     ],
     "prompt_number": 32
    },
    {
     "cell_type": "code",
     "collapsed": false,
     "input": [
      "## Function\n"
     ],
     "language": "python",
     "metadata": {},
     "outputs": []
    }
   ],
   "metadata": {}
  }
 ]
}