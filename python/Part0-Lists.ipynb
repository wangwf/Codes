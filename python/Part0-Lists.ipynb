{
 "metadata": {
  "name": "",
  "signature": "sha256:4a73fa13429dd3a30ecaa266ea730a60a37a7ac11ce899a7816cec492a1189a4"
 },
 "nbformat": 3,
 "nbformat_minor": 0,
 "worksheets": [
  {
   "cells": [
    {
     "cell_type": "code",
     "collapsed": false,
     "input": [
      "list = ['larry', 'curly', 'moe']\n",
      "list.append('shemp')         ## append elem at end\n",
      "list.insert(0, 'xxx')        ## insert elem at index 0\n",
      "list.extend(['yyy', 'zzz'])  ## add list of elems at end\n",
      "print list  ## ['xxx', 'larry', 'curly', 'moe', 'shemp', 'yyy', 'zzz']\n",
      "print list.index('curly')    ## 2\n",
      "\n",
      "list.remove('curly')         ## search and remove that element\n",
      "list.pop(1)                  ## removes and returns 'larry'\n",
      "print list  ## ['xxx', 'moe', 'shemp', 'yyy', 'zzz']"
     ],
     "language": "python",
     "metadata": {},
     "outputs": [
      {
       "output_type": "stream",
       "stream": "stdout",
       "text": [
        "['xxx', 'larry', 'curly', 'moe', 'shemp', 'yyy', 'zzz']\n",
        "2\n",
        "['xxx', 'moe', 'shemp', 'yyy', 'zzz']\n"
       ]
      }
     ],
     "prompt_number": 1
    },
    {
     "cell_type": "markdown",
     "metadata": {},
     "source": [
      "#Python Sorting"
     ]
    },
    {
     "cell_type": "code",
     "collapsed": false,
     "input": [
      "#Sorted()\n",
      "a = [5, 1, 4, 3]\n",
      "print sorted(a)  ## [1, 3, 4, 5]\n",
      "print a  ## [5, 1, 4, 3]"
     ],
     "language": "python",
     "metadata": {},
     "outputs": [
      {
       "output_type": "stream",
       "stream": "stdout",
       "text": [
        "[1, 3, 4, 5]\n",
        "[5, 1, 4, 3]\n"
       ]
      }
     ],
     "prompt_number": 2
    },
    {
     "cell_type": "code",
     "collapsed": false,
     "input": [
      "?sorted"
     ],
     "language": "python",
     "metadata": {},
     "outputs": [],
     "prompt_number": 3
    },
    {
     "cell_type": "code",
     "collapsed": false,
     "input": [
      "help(sorted)"
     ],
     "language": "python",
     "metadata": {},
     "outputs": [
      {
       "ename": "NameError",
       "evalue": "name 'sorte' is not defined",
       "output_type": "pyerr",
       "traceback": [
        "\u001b[1;31m---------------------------------------------------------------------------\u001b[0m\n\u001b[1;31mNameError\u001b[0m                                 Traceback (most recent call last)",
        "\u001b[1;32m<ipython-input-4-ead715dd0ebd>\u001b[0m in \u001b[0;36m<module>\u001b[1;34m()\u001b[0m\n\u001b[1;32m----> 1\u001b[1;33m \u001b[0mhelp\u001b[0m\u001b[1;33m(\u001b[0m\u001b[0msorte\u001b[0m\u001b[1;33m)\u001b[0m\u001b[1;33m\u001b[0m\u001b[0m\n\u001b[0m",
        "\u001b[1;31mNameError\u001b[0m: name 'sorte' is not defined"
       ]
      }
     ],
     "prompt_number": 4
    },
    {
     "cell_type": "code",
     "collapsed": false,
     "input": [
      "strs = ['aa', 'BB', 'zz', 'CC']\n",
      "print sorted(strs)  ## ['BB', 'CC', 'aa', 'zz'] (case sensitive)\n",
      "print sorted(strs, reverse=True)   ## ['zz', 'aa', 'CC', 'BB']"
     ],
     "language": "python",
     "metadata": {},
     "outputs": [
      {
       "output_type": "stream",
       "stream": "stdout",
       "text": [
        "['BB', 'CC', 'aa', 'zz']\n",
        "['zz', 'aa', 'CC', 'BB']\n"
       ]
      }
     ],
     "prompt_number": 5
    },
    {
     "cell_type": "code",
     "collapsed": false,
     "input": [
      "# Custom Sorting With key=\n",
      "strs = ['ccc', 'aaaa', 'd', 'bb']\n",
      "print sorted(strs, key=len)  ## ['d', 'bb', 'ccc', 'aaaa']"
     ],
     "language": "python",
     "metadata": {},
     "outputs": [
      {
       "output_type": "stream",
       "stream": "stdout",
       "text": [
        "['d', 'bb', 'ccc', 'aaaa']\n"
       ]
      }
     ],
     "prompt_number": 6
    },
    {
     "cell_type": "code",
     "collapsed": false,
     "input": [
      "## \"key\" argument specifying str.lower function to use for sorting\n",
      "print sorted(strs, key=str.lower)  ## ['aa', 'BB', 'CC', 'zz']"
     ],
     "language": "python",
     "metadata": {},
     "outputs": [
      {
       "output_type": "stream",
       "stream": "stdout",
       "text": [
        "['aaaa', 'bb', 'ccc', 'd']\n"
       ]
      }
     ],
     "prompt_number": 7
    },
    {
     "cell_type": "code",
     "collapsed": false,
     "input": [
      "## Say we have a list of strings we want to sort by the last letter of the string.\n",
      "strs = ['xc', 'zb', 'yd' ,'wa']\n",
      "\n",
      "## Write a little function that takes a string, and returns its last letter.\n",
      "## This will be the key function (takes in 1 value, returns 1 value).\n",
      "def MyFn(s):\n",
      "    return s[-1]\n",
      "\n",
      "## Now pass key=MyFn to sorted() to sort by the last letter:\n",
      "print sorted(strs, key=MyFn)  ## ['wa', 'zb', 'xc', 'yd']"
     ],
     "language": "python",
     "metadata": {},
     "outputs": [
      {
       "output_type": "stream",
       "stream": "stdout",
       "text": [
        "['wa', 'zb', 'xc', 'yd']\n"
       ]
      }
     ],
     "prompt_number": 8
    },
    {
     "cell_type": "code",
     "collapsed": false,
     "input": [],
     "language": "python",
     "metadata": {},
     "outputs": []
    }
   ],
   "metadata": {}
  }
 ]
}