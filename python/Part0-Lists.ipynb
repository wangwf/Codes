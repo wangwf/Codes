{
 "metadata": {
  "name": "",
  "signature": "sha256:6cbe910ff28dac96fb98cc21e11b73fb333724a6693a70d7b9b885a5d1adc458"
 },
 "nbformat": 3,
 "nbformat_minor": 0,
 "worksheets": [
  {
   "cells": [
    {
     "cell_type": "markdown",
     "metadata": {},
     "source": [
      "#List\n",
      "a most basic data structure in Python.\n",
      "\n",
      "Operations: indexing, slicing, adding, multiplying, and checking for membership.\n",
      " \n",
      "Python builit-in functions, len(list), max(list), min(list) and more."
     ]
    },
    {
     "cell_type": "code",
     "collapsed": false,
     "input": [
      "list1 = ['larry', 'curly', 'moe']  # [] for empty list\n",
      "\n",
      "print \"list1[0]:\",list1[0]\n",
      "print \"list1[0:2]:\",list1[0:2]"
     ],
     "language": "python",
     "metadata": {},
     "outputs": [
      {
       "output_type": "stream",
       "stream": "stdout",
       "text": [
        "list1[0]: larry\n",
        "list1[0:2]: ['larry', 'curly']\n"
       ]
      }
     ],
     "prompt_number": 1
    },
    {
     "cell_type": "code",
     "collapsed": false,
     "input": [
      "#list mutable\n",
      "list1[2]='Steve'\n",
      "print list1"
     ],
     "language": "python",
     "metadata": {},
     "outputs": [
      {
       "output_type": "stream",
       "stream": "stdout",
       "text": [
        "['larry', 'curly', 'Steve']\n"
       ]
      }
     ],
     "prompt_number": 2
    },
    {
     "cell_type": "code",
     "collapsed": false,
     "input": [
      "#List operations: concatenation\n",
      "alist=[1,2,3]\n",
      "print \"length of alist: \",len(alist)\n",
      "newlist=alist + [4,5,6]  # concatenation\n",
      "print \"list conctenation: \",newlist\n",
      "print \"Repetition list: \", ['Hello']*4\n",
      "print \"Membership operation: \", 3 in alist"
     ],
     "language": "python",
     "metadata": {},
     "outputs": [
      {
       "output_type": "stream",
       "stream": "stdout",
       "text": [
        "length of alist:  3\n",
        "list conctenation:  [1, 2, 3, 4, 5, 6]\n",
        "Repetition list:  ['Hello', 'Hello', 'Hello', 'Hello']\n",
        "Membership operation:  True\n"
       ]
      }
     ],
     "prompt_number": 3
    },
    {
     "cell_type": "code",
     "collapsed": false,
     "input": [
      "#\n",
      "# Built-in list methods\n",
      "#\n",
      "list1.append('shemp')         ## append elem at end\n",
      "list1.insert(0, 'xxx')        ## insert elem at index 0\n",
      "list1.extend(['yyy', 'zzz'])  ## add list of elems at end\n",
      "print list1                   ## ['xxx', 'larry', 'curly', 'moe', 'shemp', 'yyy', 'zzz']\n",
      "print list1.index('curly')    ## 2\n",
      "\n",
      "list1.remove('curly')         ## search and remove that element\n",
      "list1.pop(1)                  ## removes and returns 'larry'\n",
      "print list1  ## ['xxx', 'moe', 'shemp', 'yyy', 'zzz']"
     ],
     "language": "python",
     "metadata": {},
     "outputs": [
      {
       "output_type": "stream",
       "stream": "stdout",
       "text": [
        "['xxx', 'xxx', 'larry', 'curly', 'Steve', 'shemp', 'yyy', 'zzz', 'shemp', 'yyy', 'zzz']\n",
        "3\n",
        "['xxx', 'larry', 'Steve', 'shemp', 'yyy', 'zzz', 'shemp', 'yyy', 'zzz']\n"
       ]
      }
     ],
     "prompt_number": 5
    },
    {
     "cell_type": "markdown",
     "metadata": {},
     "source": [
      "#Python Sorting"
     ]
    },
    {
     "cell_type": "code",
     "collapsed": false,
     "input": [
      "#Sorted()\n",
      "a = [5, 1, 4, 3]\n",
      "print sorted(a)  ## [1, 3, 4, 5]\n",
      "print a  ## [5, 1, 4, 3]\n",
      "sortedA=sorted(a)\n",
      "print sortedA"
     ],
     "language": "python",
     "metadata": {},
     "outputs": [
      {
       "output_type": "stream",
       "stream": "stdout",
       "text": [
        "[1, 3, 4, 5]\n",
        "[5, 1, 4, 3]\n",
        "[1, 3, 4, 5]\n"
       ]
      }
     ],
     "prompt_number": 7
    },
    {
     "cell_type": "code",
     "collapsed": false,
     "input": [
      "strs = ['aa', 'BB', 'zz', 'CC']\n",
      "print sorted(strs)  ## ['BB', 'CC', 'aa', 'zz'] (case sensitive)\n",
      "print sorted(strs, reverse=True)   ## ['zz', 'aa', 'CC', 'BB']"
     ],
     "language": "python",
     "metadata": {},
     "outputs": [
      {
       "output_type": "stream",
       "stream": "stdout",
       "text": [
        "['BB', 'CC', 'aa', 'zz']\n",
        "['zz', 'aa', 'CC', 'BB']\n"
       ]
      }
     ],
     "prompt_number": 8
    },
    {
     "cell_type": "code",
     "collapsed": false,
     "input": [
      "# Custom Sorting With key=\n",
      "strs = ['ccc', 'aaaa', 'd', 'bb']\n",
      "print sorted(strs, key=len)  ## ['d', 'bb', 'ccc', 'aaaa']"
     ],
     "language": "python",
     "metadata": {},
     "outputs": [
      {
       "output_type": "stream",
       "stream": "stdout",
       "text": [
        "['d', 'bb', 'ccc', 'aaaa']\n"
       ]
      }
     ],
     "prompt_number": 9
    },
    {
     "cell_type": "code",
     "collapsed": false,
     "input": [
      "## \"key\" argument specifying str.lower function to use for sorting\n",
      "print sorted(strs, key=str.lower)  ## ['aa', 'BB', 'CC', 'zz']"
     ],
     "language": "python",
     "metadata": {},
     "outputs": [
      {
       "output_type": "stream",
       "stream": "stdout",
       "text": [
        "['aaaa', 'bb', 'ccc', 'd']\n"
       ]
      }
     ],
     "prompt_number": 10
    },
    {
     "cell_type": "code",
     "collapsed": false,
     "input": [
      "## Say we have a list of strings we want to sort by the last letter of the string.\n",
      "strs = ['xc', 'zb', 'yd' ,'wa']\n",
      "\n",
      "## Write a little function that takes a string, and returns its last letter.\n",
      "## This will be the key function (takes in 1 value, returns 1 value).\n",
      "def MyFn(s):\n",
      "    return s[-1]\n",
      "\n",
      "## Now pass key=MyFn to sorted() to sort by the last letter:\n",
      "print sorted(strs, key=MyFn)  ## ['wa', 'zb', 'xc', 'yd']"
     ],
     "language": "python",
     "metadata": {},
     "outputs": [
      {
       "output_type": "stream",
       "stream": "stdout",
       "text": [
        "['wa', 'zb', 'xc', 'yd']\n"
       ]
      }
     ],
     "prompt_number": 11
    },
    {
     "cell_type": "code",
     "collapsed": false,
     "input": [],
     "language": "python",
     "metadata": {},
     "outputs": []
    },
    {
     "cell_type": "code",
     "collapsed": false,
     "input": [],
     "language": "python",
     "metadata": {},
     "outputs": []
    }
   ],
   "metadata": {}
  }
 ]
}