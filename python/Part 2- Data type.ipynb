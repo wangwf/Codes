{
 "metadata": {
  "name": "",
  "signature": "sha256:48544add41711181f7bb70501d2074a24726e2a9347c436d3affce438289e91d"
 },
 "nbformat": 3,
 "nbformat_minor": 0,
 "worksheets": [
  {
   "cells": [
    {
     "cell_type": "markdown",
     "metadata": {},
     "source": [
      "#Five standard data types\n",
      "<ul>\n",
      "<li>Numbers</li>\n",
      "<li>Strings</li>\n",
      "<li>List</li>\n",
      "<li>Tuple</li>\n",
      "<li>Dictionary</li>\n",
      "</ul>"
     ]
    },
    {
     "cell_type": "markdown",
     "metadata": {},
     "source": [
      "#Numbers\n",
      "Numic values, immutable\n",
      "\n",
      "\n",
      "Python supports four different numerical types:\n",
      "<ul>\n",
      "<li>int (signed integers)   3, -50, 100 </li>\n",
      "<li>long (long integers [can also be represented in octal and hexadecimal])  012987L </li>\n",
      "<li>float (floating point real values)  -49.0, 2.1e5 </li>\n",
      "<li>complex (complex numbers) </li>\n",
      "</ul>\n"
     ]
    },
    {
     "cell_type": "code",
     "collapsed": false,
     "input": [
      "# del var\n",
      "days = 7\n",
      "\n",
      "price =3.0\n"
     ],
     "language": "python",
     "metadata": {},
     "outputs": [],
     "prompt_number": 6
    },
    {
     "cell_type": "code",
     "collapsed": false,
     "input": [
      "# the maximum positive integer\n",
      "import sys\n",
      "print type(sys.maxsize), sys.maxsize   # 2**31-1 on the 32-bit platform and 2**63-1 on a 64-bit platform\n",
      "print type(sys.maxsize+1), sys.maxsize+1"
     ],
     "language": "python",
     "metadata": {},
     "outputs": [
      {
       "output_type": "stream",
       "stream": "stdout",
       "text": [
        "<type 'int'> 9223372036854775807\n",
        "<type 'long'> 9223372036854775808\n"
       ]
      }
     ],
     "prompt_number": 10
    },
    {
     "cell_type": "code",
     "collapsed": false,
     "input": [
      "# float(\")\n",
      "type(sys.maxsize), sys.maxsize"
     ],
     "language": "python",
     "metadata": {},
     "outputs": []
    }
   ],
   "metadata": {}
  }
 ]
}