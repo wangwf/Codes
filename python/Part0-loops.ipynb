{
 "metadata": {
  "name": "",
  "signature": "sha256:6c79ce1492f69b9feb22e62035bfba48bbf4dce4d076820bcec79badefc89d1b"
 },
 "nbformat": 3,
 "nbformat_minor": 0,
 "worksheets": [
  {
   "cells": [
    {
     "cell_type": "markdown",
     "metadata": {},
     "source": [
      "# Condition\n",
      "if else, elif"
     ]
    },
    {
     "cell_type": "code",
     "collapsed": false,
     "input": [
      "n=10\n",
      "if n/2==0:\n",
      "    print \"This is a even.\"\n",
      "else:\n",
      "    print \"This is a odd.\""
     ],
     "language": "python",
     "metadata": {},
     "outputs": [
      {
       "output_type": "stream",
       "stream": "stdout",
       "text": [
        "This is a odd.\n"
       ]
      }
     ],
     "prompt_number": 16
    },
    {
     "cell_type": "code",
     "collapsed": false,
     "input": [
      "if n>0:\n",
      "    print \"Positive number\"\n",
      "elif n<0:\n",
      "    print \"Negative number\"\n",
      "else:\n",
      "    print \"It is zero\""
     ],
     "language": "python",
     "metadata": {},
     "outputs": [
      {
       "output_type": "stream",
       "stream": "stdout",
       "text": [
        "Positive number\n"
       ]
      }
     ],
     "prompt_number": 17
    },
    {
     "cell_type": "markdown",
     "metadata": {},
     "source": [
      "#indentation\n",
      "Python uses whitespaces to delimit program blocks.\n",
      "Both space characters and tab characters are acceptable"
     ]
    },
    {
     "cell_type": "markdown",
     "metadata": {},
     "source": [
      "# for loop"
     ]
    },
    {
     "cell_type": "code",
     "collapsed": false,
     "input": [
      "for letter in \"Brilent\":   # string is iterable\n",
      "    print \"current Letter : \", letter   #  indentation"
     ],
     "language": "python",
     "metadata": {},
     "outputs": [
      {
       "output_type": "stream",
       "stream": "stdout",
       "text": [
        "current Letter :  B\n",
        "current Letter :  r\n",
        "current Letter :  i\n",
        "current Letter :  l\n",
        "current Letter :  e\n",
        "current Letter :  n\n",
        "current Letter :  t\n"
       ]
      }
     ],
     "prompt_number": 1
    },
    {
     "cell_type": "code",
     "collapsed": false,
     "input": [
      "# loop over list elements\n",
      "fruits =[\"banana\", \"apple\", \"orange\"]  \n",
      "for fruit in fruits:\n",
      "    print \"fruits : \", fruit"
     ],
     "language": "python",
     "metadata": {},
     "outputs": [
      {
       "output_type": "stream",
       "stream": "stdout",
       "text": [
        "fruits :  banana\n",
        "fruits :  apple\n",
        "fruits :  orange\n"
       ]
      }
     ],
     "prompt_number": 10
    },
    {
     "cell_type": "code",
     "collapsed": false,
     "input": [
      "for index in range(10):\n",
      "    print \"number \",index"
     ],
     "language": "python",
     "metadata": {},
     "outputs": [
      {
       "output_type": "stream",
       "stream": "stdout",
       "text": [
        "number  0\n",
        "number  1\n",
        "number  2\n",
        "number  3\n",
        "number  4\n",
        "number  5\n",
        "number  6\n",
        "number  7\n",
        "number  8\n",
        "number  9\n"
       ]
      }
     ],
     "prompt_number": 11
    },
    {
     "cell_type": "code",
     "collapsed": false,
     "input": [
      "for index in range(len(fruits)):\n",
      "    print \"fruits : \", fruits[index]"
     ],
     "language": "python",
     "metadata": {},
     "outputs": [
      {
       "output_type": "stream",
       "stream": "stdout",
       "text": [
        "fruits :  banana\n",
        "fruits :  apple\n",
        "fruits :  orange\n"
       ]
      }
     ],
     "prompt_number": 12
    },
    {
     "cell_type": "code",
     "collapsed": false,
     "input": [
      "## range()\n",
      "for y in range(2, 10):\n",
      "    print y,\n",
      "print\n",
      "\n",
      "for y in range(2, 10, 2):\n",
      "    print y,\n",
      "print\n",
      "\n",
      "for y in range(20, 10, -1):\n",
      "    print y,\n",
      "print"
     ],
     "language": "python",
     "metadata": {},
     "outputs": [
      {
       "output_type": "stream",
       "stream": "stdout",
       "text": [
        "2 3 4 5 6 7 8 9\n",
        "2 4 6 8\n",
        "20 19 18 17 16 15 14 13 12 11\n"
       ]
      }
     ],
     "prompt_number": 13
    },
    {
     "cell_type": "code",
     "collapsed": false,
     "input": [
      "# Powers of 2 (for no obvious reason)\n",
      "power = 1\n",
      "for y in range(0,21):\n",
      "    print \"2 to the\", y, \"is\", power\n",
      "    power = 2 * power\n",
      "    "
     ],
     "language": "python",
     "metadata": {},
     "outputs": []
    },
    {
     "cell_type": "markdown",
     "metadata": {},
     "source": [
      "# while loop"
     ]
    },
    {
     "cell_type": "code",
     "collapsed": false,
     "input": [
      "a=1\n",
      "while a<10:\n",
      "    a = a+1\n",
      "    print a"
     ],
     "language": "python",
     "metadata": {},
     "outputs": [
      {
       "output_type": "stream",
       "stream": "stdout",
       "text": [
        "2\n",
        "3\n",
        "4\n",
        "5\n",
        "6\n",
        "7\n",
        "8\n",
        "9\n",
        "10\n"
       ]
      }
     ],
     "prompt_number": 2
    },
    {
     "cell_type": "code",
     "collapsed": false,
     "input": [
      "#print even numbers up to 20\n",
      "n = 1\n",
      "while n<=20:\n",
      "    if n% 2 ==0:\n",
      "        print n\n",
      "    n = n+1\n",
      "print \"Done\""
     ],
     "language": "python",
     "metadata": {},
     "outputs": [
      {
       "output_type": "stream",
       "stream": "stdout",
       "text": [
        "2\n",
        "4\n",
        "6\n",
        "8\n",
        "10\n",
        "12\n",
        "14\n",
        "16\n",
        "18\n",
        "20\n",
        "Done\n"
       ]
      }
     ],
     "prompt_number": 18
    },
    {
     "cell_type": "code",
     "collapsed": false,
     "input": [
      "\n",
      "# Each line in the first level starts with no spaces. It is the main program, and will always execute.\n",
      "# Each line in the second level starts with four spaces. When there is an 'if' or loop on the first level, everything on the second level after that will be looped/'ifed', until a new line starts back on the first level again.\n",
      "# Each line in the third level starts with eight spaces. When there is an 'if' or loop on the second level, everything on the third level after that will be looped/'ifed', until a new line starts back on the second level again.\n",
      "# This goes on infinitely, until the person writing the program has an internal brain explosion, and cannot understand anything he/she has written."
     ],
     "language": "python",
     "metadata": {},
     "outputs": [],
     "prompt_number": 7
    },
    {
     "cell_type": "code",
     "collapsed": false,
     "input": [
      "##\n",
      "# Some relationals.  Relationals in Python can be chained, and are\n",
      "# interpreted with an implicit and.\n",
      "c = -2\n",
      "for a in range(1,4):\n",
      "    c = c + 4\n",
      "    for b in range(1,4):\n",
      "        print '(' + str(a), '<', str(b) + ') ==', a < b, '  ',\n",
      "        print '(' + str(a), '>=', b, '>', str(c) + ') ==', a >= b > c, '  ',\n",
      "        print '(' + str(a), '==', b, '==', str(c) + ') ==', \\\n",
      "              a == b == c, '  ',\n",
      "        print '(' + str(a), '!=', b, '!=', str(c) + ') ==', a != b != c\n",
      "        c = c - 1\n",
      "print"
     ],
     "language": "python",
     "metadata": {},
     "outputs": []
    }
   ],
   "metadata": {}
  }
 ]
}