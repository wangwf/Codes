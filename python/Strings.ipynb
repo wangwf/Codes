{
 "metadata": {
  "name": "",
  "signature": "sha256:90605fa7cd4dca3f96e92b245900a7cf06f8c7501a86d2c3f8f516b977d3d155"
 },
 "nbformat": 3,
 "nbformat_minor": 0,
 "worksheets": [
  {
   "cells": [
    {
     "cell_type": "markdown",
     "metadata": {
      "slideshow": {
       "slide_type": "slide"
      }
     },
     "source": [
      "Python Strings"
     ]
    },
    {
     "cell_type": "code",
     "collapsed": false,
     "input": [
      "  s = 'hi'\n",
      "  print s[1]          ## i\n",
      "  print len(s)        ## 2\n",
      "  print s + ' there'  ## hi there"
     ],
     "language": "python",
     "metadata": {},
     "outputs": [
      {
       "output_type": "stream",
       "stream": "stdout",
       "text": [
        "i\n",
        "2\n",
        "hi there\n"
       ]
      }
     ],
     "prompt_number": 2
    },
    {
     "cell_type": "code",
     "collapsed": false,
     "input": [
      "pi=3.14\n",
      "##text = 'The value of pi is ' + pi      ## NO, does not work\n",
      "text = 'The value of pi is ' + str(pi)\n",
      "print text"
     ],
     "language": "python",
     "metadata": {},
     "outputs": [
      {
       "output_type": "stream",
       "stream": "stdout",
       "text": [
        "The value of pi is 3.14\n"
       ]
      }
     ],
     "prompt_number": 4
    },
    {
     "cell_type": "code",
     "collapsed": false,
     "input": [
      "raw = r'this\\t\\n and that'\n",
      "print raw     ## this\\t\\n and that\n",
      "    \n",
      "multi = \"\"\"It was the best of times.\n",
      "It was the worst of times.\"\"\""
     ],
     "language": "python",
     "metadata": {},
     "outputs": [
      {
       "output_type": "stream",
       "stream": "stdout",
       "text": [
        "this\\t\\n and that\n"
       ]
      }
     ],
     "prompt_number": 5
    },
    {
     "cell_type": "code",
     "collapsed": false,
     "input": [
      "list = ['larry', 'curly', 'moe']\n",
      "list.append('shemp')         ## append elem at end\n",
      "list.insert(0, 'xxx')        ## insert elem at index 0\n",
      "list.extend(['yyy', 'zzz'])  ## add list of elems at end\n",
      "print list  ## ['xxx', 'larry', 'curly', 'moe', 'shemp', 'yyy', 'zzz']\n",
      "print list.index('curly')    ## 2\n",
      "\n",
      "list.remove('curly')         ## search and remove that element\n",
      "list.pop(1)                  ## removes and returns 'larry'\n",
      "print list  ## ['xxx', 'moe', 'shemp', 'yyy', 'zzz']"
     ],
     "language": "python",
     "metadata": {},
     "outputs": [
      {
       "output_type": "stream",
       "stream": "stdout",
       "text": [
        "['xxx', 'larry', 'curly', 'moe', 'shemp', 'yyy', 'zzz']\n",
        "2\n",
        "['xxx', 'moe', 'shemp', 'yyy', 'zzz']\n"
       ]
      }
     ],
     "prompt_number": 7
    },
    {
     "cell_type": "heading",
     "level": 1,
     "metadata": {},
     "source": [
      "Python Sorting"
     ]
    },
    {
     "cell_type": "code",
     "collapsed": false,
     "input": [
      "#Sorted()\n",
      "a = [5, 1, 4, 3]\n",
      "print sorted(a)  ## [1, 3, 4, 5]\n",
      "print a  ## [5, 1, 4, 3]"
     ],
     "language": "python",
     "metadata": {},
     "outputs": [
      {
       "output_type": "stream",
       "stream": "stdout",
       "text": [
        "[1, 3, 4, 5]\n",
        "[5, 1, 4, 3]\n"
       ]
      }
     ],
     "prompt_number": 9
    },
    {
     "cell_type": "code",
     "collapsed": false,
     "input": [
      "?sorted"
     ],
     "language": "python",
     "metadata": {},
     "outputs": [],
     "prompt_number": 10
    },
    {
     "cell_type": "code",
     "collapsed": false,
     "input": [
      "help(sorted)"
     ],
     "language": "python",
     "metadata": {},
     "outputs": [
      {
       "output_type": "stream",
       "stream": "stdout",
       "text": [
        "Help on built-in function sorted in module __builtin__:\n",
        "\n",
        "sorted(...)\n",
        "    sorted(iterable, cmp=None, key=None, reverse=False) --> new sorted list\n",
        "\n"
       ]
      }
     ],
     "prompt_number": 11
    },
    {
     "cell_type": "code",
     "collapsed": false,
     "input": [
      "strs = ['aa', 'BB', 'zz', 'CC']\n",
      "print sorted(strs)  ## ['BB', 'CC', 'aa', 'zz'] (case sensitive)\n",
      "print sorted(strs, reverse=True)   ## ['zz', 'aa', 'CC', 'BB']"
     ],
     "language": "python",
     "metadata": {},
     "outputs": [
      {
       "output_type": "stream",
       "stream": "stdout",
       "text": [
        "['BB', 'CC', 'aa', 'zz']\n",
        "['zz', 'aa', 'CC', 'BB']\n"
       ]
      }
     ],
     "prompt_number": 12
    },
    {
     "cell_type": "code",
     "collapsed": false,
     "input": [
      "# Custom Sorting With key="
     ],
     "language": "python",
     "metadata": {},
     "outputs": [],
     "prompt_number": 15
    },
    {
     "cell_type": "code",
     "collapsed": false,
     "input": [
      "strs = ['ccc', 'aaaa', 'd', 'bb']\n",
      "print sorted(strs, key=len)  ## ['d', 'bb', 'ccc', 'aaaa']"
     ],
     "language": "python",
     "metadata": {},
     "outputs": [
      {
       "output_type": "stream",
       "stream": "stdout",
       "text": [
        "['d', 'bb', 'ccc', 'aaaa']\n"
       ]
      }
     ],
     "prompt_number": 13
    },
    {
     "cell_type": "code",
     "collapsed": false,
     "input": [
      "## \"key\" argument specifying str.lower function to use for sorting\n",
      "print sorted(strs, key=str.lower)  ## ['aa', 'BB', 'CC', 'zz']"
     ],
     "language": "python",
     "metadata": {},
     "outputs": [
      {
       "output_type": "stream",
       "stream": "stdout",
       "text": [
        "['aaaa', 'bb', 'ccc', 'd']\n"
       ]
      }
     ],
     "prompt_number": 14
    },
    {
     "cell_type": "code",
     "collapsed": false,
     "input": [
      "## Say we have a list of strings we want to sort by the last letter of the string.\n",
      "strs = ['xc', 'zb', 'yd' ,'wa']\n",
      "\n",
      "## Write a little function that takes a string, and returns its last letter.\n",
      "## This will be the key function (takes in 1 value, returns 1 value).\n",
      "def MyFn(s):\n",
      "    return s[-1]\n",
      "\n",
      "## Now pass key=MyFn to sorted() to sort by the last letter:\n",
      "print sorted(strs, key=MyFn)  ## ['wa', 'zb', 'xc', 'yd']"
     ],
     "language": "python",
     "metadata": {},
     "outputs": [
      {
       "output_type": "stream",
       "stream": "stdout",
       "text": [
        "['wa', 'zb', 'xc', 'yd']\n"
       ]
      }
     ],
     "prompt_number": 16
    },
    {
     "cell_type": "code",
     "collapsed": false,
     "input": [
      "alist.sort()"
     ],
     "language": "python",
     "metadata": {},
     "outputs": [
      {
       "ename": "NameError",
       "evalue": "name 'alist' is not defined",
       "output_type": "pyerr",
       "traceback": [
        "\u001b[1;31m---------------------------------------------------------------------------\u001b[0m\n\u001b[1;31mNameError\u001b[0m                                 Traceback (most recent call last)",
        "\u001b[1;32m<ipython-input-17-6538c1430547>\u001b[0m in \u001b[0;36m<module>\u001b[1;34m()\u001b[0m\n\u001b[1;32m----> 1\u001b[1;33m \u001b[0malist\u001b[0m\u001b[1;33m.\u001b[0m\u001b[0msort\u001b[0m\u001b[1;33m(\u001b[0m\u001b[1;33m)\u001b[0m\u001b[1;33m\u001b[0m\u001b[0m\n\u001b[0m",
        "\u001b[1;31mNameError\u001b[0m: name 'alist' is not defined"
       ]
      }
     ],
     "prompt_number": 17
    },
    {
     "cell_type": "code",
     "collapsed": false,
     "input": [
      "##Tuples\n",
      "''' A tuple is a fixed size grouping of elements, immutable\n",
      "'''"
     ],
     "language": "python",
     "metadata": {},
     "outputs": [],
     "prompt_number": 20
    },
    {
     "cell_type": "code",
     "collapsed": false,
     "input": [
      "tuple = (1, 2, 'hi')\n",
      "print len(tuple)  ## 3\n",
      "print tuple[2]    ## hi\n",
      "tuple[2] = 'bye'  ## NO, tuples cannot be changed\n",
      "tuple = (1, 2, 'bye')  ## this works"
     ],
     "language": "python",
     "metadata": {},
     "outputs": [
      {
       "output_type": "stream",
       "stream": "stdout",
       "text": [
        "3\n",
        "hi\n"
       ]
      },
      {
       "ename": "TypeError",
       "evalue": "'tuple' object does not support item assignment",
       "output_type": "pyerr",
       "traceback": [
        "\u001b[1;31m---------------------------------------------------------------------------\u001b[0m\n\u001b[1;31mTypeError\u001b[0m                                 Traceback (most recent call last)",
        "\u001b[1;32m<ipython-input-21-0b65e4af8e55>\u001b[0m in \u001b[0;36m<module>\u001b[1;34m()\u001b[0m\n\u001b[0;32m      2\u001b[0m \u001b[1;32mprint\u001b[0m \u001b[0mlen\u001b[0m\u001b[1;33m(\u001b[0m\u001b[0mtuple\u001b[0m\u001b[1;33m)\u001b[0m  \u001b[1;31m## 3\u001b[0m\u001b[1;33m\u001b[0m\u001b[0m\n\u001b[0;32m      3\u001b[0m \u001b[1;32mprint\u001b[0m \u001b[0mtuple\u001b[0m\u001b[1;33m[\u001b[0m\u001b[1;36m2\u001b[0m\u001b[1;33m]\u001b[0m    \u001b[1;31m## hi\u001b[0m\u001b[1;33m\u001b[0m\u001b[0m\n\u001b[1;32m----> 4\u001b[1;33m \u001b[0mtuple\u001b[0m\u001b[1;33m[\u001b[0m\u001b[1;36m2\u001b[0m\u001b[1;33m]\u001b[0m \u001b[1;33m=\u001b[0m \u001b[1;34m'bye'\u001b[0m  \u001b[1;31m## NO, tuples cannot be changed\u001b[0m\u001b[1;33m\u001b[0m\u001b[0m\n\u001b[0m\u001b[0;32m      5\u001b[0m \u001b[0mtuple\u001b[0m \u001b[1;33m=\u001b[0m \u001b[1;33m(\u001b[0m\u001b[1;36m1\u001b[0m\u001b[1;33m,\u001b[0m \u001b[1;36m2\u001b[0m\u001b[1;33m,\u001b[0m \u001b[1;34m'bye'\u001b[0m\u001b[1;33m)\u001b[0m  \u001b[1;31m## this works\u001b[0m\u001b[1;33m\u001b[0m\u001b[0m\n",
        "\u001b[1;31mTypeError\u001b[0m: 'tuple' object does not support item assignment"
       ]
      }
     ],
     "prompt_number": 21
    },
    {
     "cell_type": "markdown",
     "metadata": {},
     "source": [
      "# Built-in functions\n",
      "type\n",
      "str\n",
      "len\n"
     ]
    },
    {
     "cell_type": "code",
     "collapsed": false,
     "input": [],
     "language": "python",
     "metadata": {},
     "outputs": []
    }
   ],
   "metadata": {}
  }
 ]
}