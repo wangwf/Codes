{
 "metadata": {
  "name": "",
  "signature": "sha256:1e6c47b390513564d51bd5789989ac75bd16bbd70f817ee36f4a1a24b0dcc716"
 },
 "nbformat": 3,
 "nbformat_minor": 0,
 "worksheets": [
  {
   "cells": [
    {
     "cell_type": "code",
     "collapsed": false,
     "input": [
      "for letter in \"Brilent\":   # string is iterable\n",
      "    print \"current Letter : \", letter"
     ],
     "language": "python",
     "metadata": {},
     "outputs": [
      {
       "output_type": "stream",
       "stream": "stdout",
       "text": [
        "current Letter :  B\n",
        "current Letter :  r\n",
        "current Letter :  i\n",
        "current Letter :  l\n",
        "current Letter :  e\n",
        "current Letter :  n\n",
        "current Letter :  t\n"
       ]
      }
     ],
     "prompt_number": 1
    },
    {
     "cell_type": "code",
     "collapsed": false,
     "input": [
      "# loop over list elements\n",
      "fruits =[\"banana\", \"apple\", \"orange\"]  \n",
      "for fruit in fruits:\n",
      "    print \"fruits : \", fruit"
     ],
     "language": "python",
     "metadata": {},
     "outputs": [
      {
       "output_type": "stream",
       "stream": "stdout",
       "text": [
        "fruits :  banana\n",
        "fruits :  apple\n",
        "fruits :  orange\n"
       ]
      }
     ],
     "prompt_number": 2
    },
    {
     "cell_type": "code",
     "collapsed": false,
     "input": [
      "for index in range(10):\n",
      "    print \"number \",index"
     ],
     "language": "python",
     "metadata": {},
     "outputs": [
      {
       "output_type": "stream",
       "stream": "stdout",
       "text": [
        "number  0\n",
        "number  1\n",
        "number  2\n",
        "number  3\n",
        "number  4\n",
        "number  5\n",
        "number  6\n",
        "number  7\n",
        "number  8\n",
        "number  9\n"
       ]
      }
     ],
     "prompt_number": 3
    },
    {
     "cell_type": "code",
     "collapsed": false,
     "input": [
      "for index in range(len(fruits)):\n",
      "    print \"fruits : \", fruits[index]"
     ],
     "language": "python",
     "metadata": {},
     "outputs": [
      {
       "output_type": "stream",
       "stream": "stdout",
       "text": [
        "fruits :  banana\n",
        "fruits :  apple\n",
        "fruits :  orange\n"
       ]
      }
     ],
     "prompt_number": 4
    },
    {
     "cell_type": "code",
     "collapsed": false,
     "input": [],
     "language": "python",
     "metadata": {},
     "outputs": []
    }
   ],
   "metadata": {}
  }
 ]
}