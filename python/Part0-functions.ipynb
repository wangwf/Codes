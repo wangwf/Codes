{
 "metadata": {
  "name": "",
  "signature": "sha256:76428d98137828e5f20b965c7a508a8367162771e6a8c01cb7492c1448a996a4"
 },
 "nbformat": 3,
 "nbformat_minor": 0,
 "worksheets": [
  {
   "cells": [
    {
     "cell_type": "markdown",
     "metadata": {},
     "source": [
      "#Function\n",
      "  a block of organized, reusable code which is used to perform a specific task.\n",
      "def statement\n"
     ]
    },
    {
     "cell_type": "code",
     "collapsed": false,
     "input": [
      "# function format,\n",
      "# indentation for code block\n",
      "def functionname(inputParameters):\n",
      "    \"function documentation\"\n",
      "    yourfunctioncode()\n",
      "    return returnValues"
     ],
     "language": "python",
     "metadata": {},
     "outputs": [],
     "prompt_number": 1
    },
    {
     "cell_type": "code",
     "collapsed": false,
     "input": [
      "# simplest function\n",
      "def hello():\n",
      "    print \"Hello, world!\""
     ],
     "language": "python",
     "metadata": {},
     "outputs": [],
     "prompt_number": 2
    },
    {
     "cell_type": "code",
     "collapsed": false,
     "input": [
      "hello()"
     ],
     "language": "python",
     "metadata": {},
     "outputs": [
      {
       "output_type": "stream",
       "stream": "stdout",
       "text": [
        "Hello, world!\n"
       ]
      }
     ],
     "prompt_number": 3
    },
    {
     "cell_type": "code",
     "collapsed": false,
     "input": [
      "def hello(name):\n",
      "    print \"Hello, \"+name\n",
      "    \n",
      "hello(\"Wenfeng\")\n",
      "hello(\"Bob\")"
     ],
     "language": "python",
     "metadata": {},
     "outputs": [
      {
       "output_type": "stream",
       "stream": "stdout",
       "text": [
        "Hello, Wenfeng\n",
        "Hello, Bob\n"
       ]
      }
     ],
     "prompt_number": 5
    },
    {
     "cell_type": "code",
     "collapsed": false,
     "input": [
      "def hello(name=\"world\"):\n",
      "    print \"Hello, \"+name\n",
      "    \n",
      "hello()\n",
      "hello(\"Wenfeng\")"
     ],
     "language": "python",
     "metadata": {},
     "outputs": [
      {
       "output_type": "stream",
       "stream": "stdout",
       "text": [
        "Hello, world\n",
        "Hello, Wenfeng\n"
       ]
      }
     ],
     "prompt_number": 7
    },
    {
     "cell_type": "code",
     "collapsed": false,
     "input": [
      "''' isPrime(num)\n",
      " a function to check whether an input number is prime number.\n",
      " A prime number is a natural number greater than 1, no positive divisor other than 1 and itself.\n",
      "'''\n",
      "def isPrime(num):\n",
      "    ''' check whether input number is prime\n",
      "    '''\n",
      "    if num<=1:\n",
      "        return False\n",
      "    if num==2: return True\n",
      "    \n",
      "    for check in range(2,num):\n",
      "        if num%check==0:\n",
      "            return False\n",
      "    return True\n",
      "\n",
      "# print all prime number below 100\n",
      "for i in range(100):\n",
      "    if isPrime(i):\n",
      "        print i,\n",
      "        \n",
      "\n",
      "    "
     ],
     "language": "python",
     "metadata": {},
     "outputs": [
      {
       "output_type": "stream",
       "stream": "stdout",
       "text": [
        "2 3 5 7 11 13 17 19 23 29 31 37 41 43 47 53 59 61 67 71 73 79 83 89 97\n"
       ]
      }
     ],
     "prompt_number": 9
    },
    {
     "cell_type": "code",
     "collapsed": false,
     "input": [
      "# think how to improve algorithm\n",
      "def isPrime2(num):\n",
      "    ''' check whether input number is prime\n",
      "    '''\n",
      "    if num<=1 or num%2 ==0:\n",
      "        return False\n",
      "    check=3\n",
      "    maxN=num\n",
      "    while check<maxN+1:\n",
      "        maxN = num/check\n",
      "        if num%check==0:\n",
      "            return False\n",
      "        check += 2\n",
      "        \n",
      "    return True\n",
      "\n",
      "# print all prime number below 100\n",
      "for i in range(100):\n",
      "    if isPrime(i):\n",
      "        print i,\n",
      "        "
     ],
     "language": "python",
     "metadata": {},
     "outputs": [
      {
       "output_type": "stream",
       "stream": "stdout",
       "text": [
        "2 3 5 7 11 13 17 19 23 29 31 37 41 43 47 53 59 61 67 71 73 79 83 89 97\n"
       ]
      }
     ],
     "prompt_number": 10
    },
    {
     "cell_type": "code",
     "collapsed": false,
     "input": [
      "# Binary search \n",
      "def binarySearch(alist, item):\n",
      "    first =0\n",
      "    last = len(alist) -1\n",
      "    found = False\n",
      "    \n",
      "    while first<=last and not found:\n",
      "        midpoint = first +(last-first)//2  # better than (first+last)//2, why?\n",
      "        if alist[midpoint]== item:\n",
      "            found = True\n",
      "        else:\n",
      "            if item <alist[midpoint]:\n",
      "                last = midpoint -1\n",
      "            else:\n",
      "                first = midpoint +1\n",
      "                \n",
      "    return found\n",
      "\n",
      "# test\n",
      "alist = [14, 20, 25, 30, 44, 49, 50, 65,99]\n",
      "print binarySearch(alist, 13)\n"
     ],
     "language": "python",
     "metadata": {},
     "outputs": [
      {
       "output_type": "stream",
       "stream": "stdout",
       "text": [
        "False\n"
       ]
      }
     ],
     "prompt_number": 11
    },
    {
     "cell_type": "markdown",
     "metadata": {},
     "source": [
      "#Pass by reference\n",
      "All parameters in Python are passed by reference.\n",
      "\n",
      " It means if you change what a parameter refers to within a function, the change also reflects back in the calling function.\n"
     ]
    },
    {
     "cell_type": "code",
     "collapsed": false,
     "input": [
      "def test(mylist):\n",
      "    \"Test function to check pass-by-reference when input list\"\n",
      "    mylist.append(1)\n",
      "    print \"current list:\",mylist\n",
      "    return\n",
      "alist=[3,4,5,10,3]\n",
      "print alist\n",
      "test(alist)\n",
      "print \"After calling test function\"\n",
      "print alist"
     ],
     "language": "python",
     "metadata": {},
     "outputs": [
      {
       "output_type": "stream",
       "stream": "stdout",
       "text": [
        "[3, 4, 5, 10, 3]\n",
        "current list: [3, 4, 5, 10, 3, 1]\n",
        "After calling test function\n",
        "[3, 4, 5, 10, 3, 1]\n"
       ]
      }
     ],
     "prompt_number": 13
    },
    {
     "cell_type": "code",
     "collapsed": false,
     "input": [
      "def test2(myval):\n",
      "    \"Test function to check pass-by-reference\"\n",
      "    myval =0.0\n",
      "    print \"Current val inside function:\",myval\n",
      "    return myval\n",
      "aval =1.99\n",
      "print aval\n",
      "test2(aval)\n",
      "print \"After calling test function\"\n",
      "print aval     # still old value"
     ],
     "language": "python",
     "metadata": {},
     "outputs": [
      {
       "output_type": "stream",
       "stream": "stdout",
       "text": [
        "1.99\n",
        "Current val inside function: 0.0\n",
        "After calling test function\n",
        "1.99\n"
       ]
      }
     ],
     "prompt_number": 15
    },
    {
     "cell_type": "code",
     "collapsed": false,
     "input": [
      "def test3(mystr):\n",
      "    \"Test function to check pass-by-reference\"\n",
      "    mystr =\"***\"\n",
      "    print \"Current string inside function\",mystr\n",
      "    return mystr\n",
      "astr =\"Hello\"\n",
      "print astr\n",
      "test3(astr)\n",
      "print \"After calling test function\"\n",
      "print astr"
     ],
     "language": "python",
     "metadata": {},
     "outputs": [
      {
       "output_type": "stream",
       "stream": "stdout",
       "text": [
        "Hello\n",
        "Current string inside function ***\n",
        "After calling test function\n",
        "Hello\n"
       ]
      }
     ],
     "prompt_number": 16
    },
    {
     "cell_type": "markdown",
     "metadata": {},
     "source": [
      "## note\n",
      "the parameter passed in is actually a reference to an object (but the reference is passed by value)\n",
      "\n",
      "some data types are mutable, but others aren't\n",
      "\n",
      "If you pass a mutable object into a method, the method gets a reference to that same object and you can mutate it to your heart's delight, but if you rebind the reference in the method, the outer scope will know nothing about it, and after you're done, the outer reference will still point at the original object.\n",
      "\n",
      "If you pass an immutable object to a method, you still can't rebind the outer reference, and you can't even mutate the object."
     ]
    },
    {
     "cell_type": "markdown",
     "metadata": {},
     "source": [
      "#Anonymous Function\n",
      "lambda function\n",
      "\n",
      "Powerful concept, well integrated into python,\n",
      "often used in conjunction with typical functional concepts list filter(), map() and reduce()\n"
     ]
    },
    {
     "cell_type": "code",
     "collapsed": false,
     "input": [
      "def f(x): return x**2\n",
      "print f(6)\n",
      "\n",
      "g = lambda x: x**2  # no return-statement, no assign to a variable\n",
      "print g(6)"
     ],
     "language": "python",
     "metadata": {},
     "outputs": [
      {
       "output_type": "stream",
       "stream": "stdout",
       "text": [
        "36\n",
        "36\n"
       ]
      }
     ],
     "prompt_number": 18
    },
    {
     "cell_type": "code",
     "collapsed": false,
     "input": [],
     "language": "python",
     "metadata": {},
     "outputs": []
    }
   ],
   "metadata": {}
  }
 ]
}