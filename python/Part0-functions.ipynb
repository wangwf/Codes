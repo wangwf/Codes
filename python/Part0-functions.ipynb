{
 "metadata": {
  "name": "",
  "signature": "sha256:1e833e9c4fbb8b2a818e6fb36dc367af357cbba2cd37d9b9c2d99958d445402a"
 },
 "nbformat": 3,
 "nbformat_minor": 0,
 "worksheets": [
  {
   "cells": [
    {
     "cell_type": "markdown",
     "metadata": {},
     "source": [
      "#Function\n",
      "  a block of organized, reusable code which is used to perform a specific task.\n",
      "def statement\n"
     ]
    },
    {
     "cell_type": "code",
     "collapsed": false,
     "input": [
      "# function format\n",
      "def functionname(inputParameters):\n",
      "    \"function documentation\"\n",
      "    yourfunctioncode()\n",
      "    return returnValues"
     ],
     "language": "python",
     "metadata": {},
     "outputs": [],
     "prompt_number": 30
    },
    {
     "cell_type": "code",
     "collapsed": false,
     "input": [
      "# simplest function\n",
      "def hello():\n",
      "    print \"Hello, world!\""
     ],
     "language": "python",
     "metadata": {},
     "outputs": [],
     "prompt_number": 31
    },
    {
     "cell_type": "code",
     "collapsed": false,
     "input": [
      "hello()"
     ],
     "language": "python",
     "metadata": {},
     "outputs": [
      {
       "output_type": "stream",
       "stream": "stdout",
       "text": [
        "Hello, world!\n"
       ]
      }
     ],
     "prompt_number": 32
    },
    {
     "cell_type": "code",
     "collapsed": false,
     "input": [
      "def hello(name):\n",
      "    print \"Hello, \"+name\n",
      "    \n",
      "hello(\"Wenfeng\")"
     ],
     "language": "python",
     "metadata": {},
     "outputs": [
      {
       "output_type": "stream",
       "stream": "stdout",
       "text": [
        "Hello, Wenfeng\n"
       ]
      }
     ],
     "prompt_number": 33
    },
    {
     "cell_type": "code",
     "collapsed": false,
     "input": [
      "def hello(name=\"world\"):\n",
      "    print \"Hello, \"+name\n",
      "    \n",
      "hello()"
     ],
     "language": "python",
     "metadata": {},
     "outputs": [
      {
       "output_type": "stream",
       "stream": "stdout",
       "text": [
        "Hello, world\n"
       ]
      }
     ],
     "prompt_number": 34
    },
    {
     "cell_type": "markdown",
     "metadata": {},
     "source": [
      "#Pass by reference\n",
      "All parameters in Python are passed by reference.\n",
      "\n",
      " It means if you change what a parameter refers to within a function, the change also reflects back in the calling function.\n"
     ]
    },
    {
     "cell_type": "code",
     "collapsed": false,
     "input": [
      "def test(mylist):\n",
      "    \"Test function to check pass-by-reference when input list\"\n",
      "    mylist.append(1)\n",
      "    return\n",
      "alist=[3,4,5,10,3]\n",
      "print alist\n",
      "test(alist)\n",
      "print \"After calling test function\"\n",
      "print alist"
     ],
     "language": "python",
     "metadata": {},
     "outputs": [
      {
       "output_type": "stream",
       "stream": "stdout",
       "text": [
        "[3, 4, 5, 10, 3]\n",
        "After calling test function\n",
        "[3, 4, 5, 10, 3, 1]\n"
       ]
      }
     ],
     "prompt_number": 35
    },
    {
     "cell_type": "code",
     "collapsed": false,
     "input": [
      "def test2(myval):\n",
      "    \"Test function to check pass-by-reference\"\n",
      "    myval =0.0\n",
      "    print \"Current val\",myval\n",
      "    return myval\n",
      "aval =1.99\n",
      "print aval\n",
      "test2(aval)\n",
      "print \"After calling test function\"\n",
      "print aval     # still old value"
     ],
     "language": "python",
     "metadata": {},
     "outputs": [
      {
       "output_type": "stream",
       "stream": "stdout",
       "text": [
        "1.99\n",
        "Current val 0.0\n",
        "After calling test function\n",
        "1.99\n"
       ]
      }
     ],
     "prompt_number": 36
    },
    {
     "cell_type": "code",
     "collapsed": false,
     "input": [
      "def test3(mystr):\n",
      "    \"Test function to check pass-by-reference\"\n",
      "    mystr =\"***\"\n",
      "    print \"Current str\",mystr\n",
      "    return mystr\n",
      "astr =\"Hello\"\n",
      "print astr\n",
      "test3(astr)\n",
      "print \"After calling test function\"\n",
      "print astr"
     ],
     "language": "python",
     "metadata": {},
     "outputs": [
      {
       "output_type": "stream",
       "stream": "stdout",
       "text": [
        "Hello\n",
        "Current str ***\n",
        "After calling test function\n",
        "Hello\n"
       ]
      }
     ],
     "prompt_number": 37
    },
    {
     "cell_type": "code",
     "collapsed": false,
     "input": [
      "print astr\n",
      "newstr=test3(astr)\n",
      "print astr\n",
      "print newstr"
     ],
     "language": "python",
     "metadata": {},
     "outputs": [
      {
       "output_type": "stream",
       "stream": "stdout",
       "text": [
        "Hello\n",
        "Current str ***\n",
        "Hello\n",
        "***\n"
       ]
      }
     ],
     "prompt_number": 38
    },
    {
     "cell_type": "markdown",
     "metadata": {},
     "source": [
      "## note\n",
      "the parameter passed in is actually a reference to an object (but the reference is passed by value)\n",
      "\n",
      "some data types are mutable, but others aren't\n",
      "\n",
      "If you pass a mutable object into a method, the method gets a reference to that same object and you can mutate it to your heart's delight, but if you rebind the reference in the method, the outer scope will know nothing about it, and after you're done, the outer reference will still point at the original object.\n",
      "\n",
      "If you pass an immutable object to a method, you still can't rebind the outer reference, and you can't even mutate the object."
     ]
    },
    {
     "cell_type": "markdown",
     "metadata": {},
     "source": [
      "#Anonymous Function\n",
      "lambda function\n",
      "\n",
      "Powerful concept, well integrated into python,\n",
      "often used in conjunction with typical functional concepts list filter(), map() and reduce()\n"
     ]
    },
    {
     "cell_type": "code",
     "collapsed": false,
     "input": [
      "def f(x): return x**2\n",
      "print f(6)\n",
      "\n",
      "g = lambda x: x**2  # no return-statement, no assign to a variable\n",
      "print g(6)"
     ],
     "language": "python",
     "metadata": {},
     "outputs": [
      {
       "output_type": "stream",
       "stream": "stdout",
       "text": [
        "36\n",
        "36\n"
       ]
      }
     ],
     "prompt_number": 39
    },
    {
     "cell_type": "code",
     "collapsed": false,
     "input": [],
     "language": "python",
     "metadata": {},
     "outputs": [],
     "prompt_number": 39
    }
   ],
   "metadata": {}
  }
 ]
}