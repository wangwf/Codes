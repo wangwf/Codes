{
 "metadata": {
  "name": "",
  "signature": "sha256:e8366becec487f0cd6ea5fb368990376c14f741aa327539cfd09451dc458967b"
 },
 "nbformat": 3,
 "nbformat_minor": 0,
 "worksheets": [
  {
   "cells": [
    {
     "cell_type": "code",
     "collapsed": false,
     "input": [
      "# print all prime number between 100 to 1000"
     ],
     "language": "python",
     "metadata": {},
     "outputs": [],
     "prompt_number": 1
    },
    {
     "cell_type": "code",
     "collapsed": false,
     "input": [
      "# Without execute it, what will be the output of the code below? Why\n",
      "list = ['a', 'b', 'c', 'd', 'e']\n",
      "print list[10:]\n"
     ],
     "language": "python",
     "metadata": {},
     "outputs": [
      {
       "output_type": "stream",
       "stream": "stdout",
       "text": [
        "[]\n"
       ]
      }
     ],
     "prompt_number": 2
    },
    {
     "cell_type": "code",
     "collapsed": false,
     "input": [
      "# What will be output ? Does it do what you expect?\n",
      "def extendList(val, list=[]):\n",
      "    list.append(val)\n",
      "    return list\n",
      "\n",
      "list1 = extendList(10)\n",
      "list2 = extendList(123,[])\n",
      "list3 = extendList('a')\n",
      "\n",
      "print \"list1 = %s\" % list1\n",
      "print \"list2 = %s\" % list2\n",
      "print \"list3 = %s\" % list3"
     ],
     "language": "python",
     "metadata": {},
     "outputs": [
      {
       "output_type": "stream",
       "stream": "stdout",
       "text": [
        "list1 = [10, 'a']\n",
        "list2 = [123]\n",
        "list3 = [10, 'a']\n"
       ]
      }
     ],
     "prompt_number": 3
    },
    {
     "cell_type": "code",
     "collapsed": false,
     "input": [
      "# How to  correct the above code?\n",
      "\n",
      "# solution:\n",
      "def extendList(val, list=None):\n",
      "    if list is None:\n",
      "        list = []\n",
      "    list.append(val)\n",
      "    return list"
     ],
     "language": "python",
     "metadata": {},
     "outputs": [],
     "prompt_number": 4
    },
    {
     "cell_type": "code",
     "collapsed": false,
     "input": [
      "# What's the output? How to correct it\n",
      "def multipliers():\n",
      "    return [lambda x : i * x for i in range(4)]\n",
      "    \n",
      "print [m(2) for m in multipliers()]"
     ],
     "language": "python",
     "metadata": {},
     "outputs": [
      {
       "output_type": "stream",
       "stream": "stdout",
       "text": [
        "[6, 6, 6, 6]\n"
       ]
      }
     ],
     "prompt_number": 5
    },
    {
     "cell_type": "code",
     "collapsed": false,
     "input": [
      "# When to use list vs. tuple. vs. dictionary?"
     ],
     "language": "python",
     "metadata": {},
     "outputs": [],
     "prompt_number": 6
    },
    {
     "cell_type": "code",
     "collapsed": false,
     "input": [
      "#What is the difference between deep and shallow copy?"
     ],
     "language": "python",
     "metadata": {},
     "outputs": [],
     "prompt_number": 7
    },
    {
     "cell_type": "code",
     "collapsed": false,
     "input": [
      "# Implement a function sqrt(n) without using math.sqrt()"
     ],
     "language": "python",
     "metadata": {},
     "outputs": [],
     "prompt_number": 8
    },
    {
     "cell_type": "code",
     "collapsed": false,
     "input": [
      "# word count example\n",
      "# s=\"To be or not to be\"\n",
      "# output =>  word: count, such as to:2, be:2, or:1\n"
     ],
     "language": "python",
     "metadata": {},
     "outputs": [],
     "prompt_number": 9
    },
    {
     "cell_type": "code",
     "collapsed": false,
     "input": [
      "# list comprehension\n",
      "# simple iteration\n",
      "a = []\n",
      "for x in range(10):\n",
      "    a.append(x*2)\n",
      "# a == [0, 2, 4, 6, 8, 10, 12, 14, 16, 18]\n",
      " \n",
      "# list comprehension\n",
      "a = [x*2 for x in range(10)]\n",
      " \n",
      "# dict comprehension\n",
      "a = {x: x*2 for x in range(10)}\n",
      "# a == {0: 0, 1: 2, 2: 4, 3: 6, 4: 8, 5: 10, 6: 12, 7: 14, 8: 16, 9: 1"
     ],
     "language": "python",
     "metadata": {},
     "outputs": [],
     "prompt_number": 11
    },
    {
     "cell_type": "code",
     "collapsed": false,
     "input": [
      "#What is the output the following statement? \n",
      "print 'new' 'line'\n"
     ],
     "language": "python",
     "metadata": {},
     "outputs": [
      {
       "output_type": "stream",
       "stream": "stdout",
       "text": [
        "newline\n"
       ]
      }
     ],
     "prompt_number": 12
    },
    {
     "cell_type": "code",
     "collapsed": false,
     "input": [
      "# reverse a string\n",
      "str1= \"HelloWorld\"\n"
     ],
     "language": "python",
     "metadata": {},
     "outputs": [
      {
       "metadata": {},
       "output_type": "pyout",
       "prompt_number": 13,
       "text": [
        "'dlroWolleH'"
       ]
      }
     ],
     "prompt_number": 13
    },
    {
     "cell_type": "code",
     "collapsed": false,
     "input": [
      "# Solution 1\n",
      "str1[::-1]"
     ],
     "language": "python",
     "metadata": {},
     "outputs": [
      {
       "metadata": {},
       "output_type": "pyout",
       "prompt_number": 15,
       "text": [
        "'dlroWolleH'"
       ]
      }
     ],
     "prompt_number": 15
    },
    {
     "cell_type": "code",
     "collapsed": false,
     "input": [
      "# solution 2\n",
      "print \"\".join(reversed(str1)) \n",
      "?reversed"
     ],
     "language": "python",
     "metadata": {},
     "outputs": [
      {
       "output_type": "stream",
       "stream": "stdout",
       "text": [
        "dlroWolleH\n"
       ]
      }
     ],
     "prompt_number": 21
    },
    {
     "cell_type": "code",
     "collapsed": false,
     "input": [
      "# What about you are not allowed to use slicing?\n",
      "def myreverse(str1):\n",
      "    rev=\"\"\n",
      "    for i in range(len(str1)-1, -1,-1):\n",
      "        rev += str1[i]\n",
      "    return rev\n",
      "myreverse(str1)"
     ],
     "language": "python",
     "metadata": {},
     "outputs": [
      {
       "metadata": {},
       "output_type": "pyout",
       "prompt_number": 22,
       "text": [
        "'dlroWolleH'"
       ]
      }
     ],
     "prompt_number": 22
    },
    {
     "cell_type": "code",
     "collapsed": false,
     "input": [
      "#Reverse a list\n",
      "s= \"This is a python program\"\n",
      "#output \"program python a is This\""
     ],
     "language": "python",
     "metadata": {},
     "outputs": [
      {
       "metadata": {},
       "output_type": "pyout",
       "prompt_number": 26,
       "text": [
        "'program python a is This'"
       ]
      }
     ],
     "prompt_number": 26
    },
    {
     "cell_type": "code",
     "collapsed": false,
     "input": [
      "\n",
      "revword = s.split()\n",
      "revword.reverse()\n",
      "revword=' '.join(revword)\n",
      "revword\n",
      "\n",
      "# or \n",
      "\" \".join(s.split()[::-1])"
     ],
     "language": "python",
     "metadata": {},
     "outputs": [
      {
       "metadata": {},
       "output_type": "pyout",
       "prompt_number": 30,
       "text": [
        "'program python a is This'"
       ]
      }
     ],
     "prompt_number": 30
    },
    {
     "cell_type": "code",
     "collapsed": false,
     "input": [
      "# Write two expressions to check whether a number is even/odd\n",
      "\n"
     ],
     "language": "python",
     "metadata": {},
     "outputs": [
      {
       "output_type": "stream",
       "stream": "stdout",
       "text": [
        "True True\n",
        "False False\n",
        "True True\n",
        "False False\n",
        "True True\n",
        "False False\n",
        "True True\n",
        "False False\n",
        "True True\n",
        "False False\n"
       ]
      }
     ],
     "prompt_number": 34
    },
    {
     "cell_type": "code",
     "collapsed": false,
     "input": [
      "def isEven1(n): return n%2==0\n",
      "def isEven2(n): return n&1==0\n",
      "\n",
      "#test code\n",
      "for i in range(10):\n",
      "    print isEven1(i), isEven2(i)\n"
     ],
     "language": "python",
     "metadata": {},
     "outputs": [
      {
       "output_type": "stream",
       "stream": "stdout",
       "text": [
        "True True\n",
        "False False\n",
        "True True\n",
        "False False\n",
        "True True\n",
        "False False\n",
        "True True\n",
        "False False\n",
        "True True\n",
        "False False\n"
       ]
      }
     ],
     "prompt_number": 35
    },
    {
     "cell_type": "code",
     "collapsed": false,
     "input": [
      "# Write a function to print the common  of two lists\n",
      "a=[1,2,4,5]\n",
      "b=[4,5,8,9]\n",
      "\n",
      "\n",
      "ab=set(a)&set(b) # intersection\n",
      "aorb = set(a) | set(b) # \n"
     ],
     "language": "python",
     "metadata": {},
     "outputs": [],
     "prompt_number": 40
    },
    {
     "cell_type": "code",
     "collapsed": false,
     "input": [
      "# Creak a 2=dimension list ?"
     ],
     "language": "python",
     "metadata": {},
     "outputs": [],
     "prompt_number": 41
    },
    {
     "cell_type": "code",
     "collapsed": false,
     "input": [
      "#print all permutation of a list\n",
      "a=[1,2,3]\n",
      "def getAllPerm(alist):\n",
      "    if len(alist)<=1:\n",
      "        yield alist\n",
      "    else:\n",
      "        for perm in getAllPerm(alist[1:]):\n",
      "            for i in range(len(alist)):\n",
      "                yield perm[:i] + alist[0:i] + perm[i:]\n",
      "            \n",
      "#a2=getAllPerm(a)\n",
      "#for x in a2:\n",
      "#    if len(a)==len(x):print x\n",
      "        \n",
      "def getPerm(alist):\n",
      "    if len(alist)==0:\n",
      "        return []\n",
      "    elif len(alist)==1:\n",
      "        return [alist]\n",
      "    else:\n",
      "        l=[]\n",
      "        for i in range(len(alist)):\n",
      "            x=alist[i]\n",
      "            xs= alist[:i] + alist[i+1:]\n",
      "            for p in getPerm(xs):\n",
      "                l.append([x] + p)\n",
      "        return l\n",
      "    \n",
      "# test\n",
      "getPerm(a)\n",
      "\n"
     ],
     "language": "python",
     "metadata": {},
     "outputs": [
      {
       "metadata": {},
       "output_type": "pyout",
       "prompt_number": 66,
       "text": [
        "[[1, 2, 3], [1, 3, 2], [2, 1, 3], [2, 3, 1], [3, 1, 2], [3, 2, 1]]"
       ]
      }
     ],
     "prompt_number": 66
    },
    {
     "cell_type": "code",
     "collapsed": false,
     "input": [
      "def getPerm2(alist):\n",
      "    if len(alist)==0:\n",
      "        yield []\n",
      "    elif len(alist)==1:\n",
      "        yield [alist]\n",
      "    else:\n",
      "        for i in range(len(alist)):\n",
      "            x=alist[i]\n",
      "            xs= alist[:i] + alist[i+1:]\n",
      "            for p in getPerm(xs):\n",
      "                yield [x] + p\n",
      "        \n",
      "    \n",
      "# test\n",
      "a2=getPerm2(a)\n",
      "for x in a2: print x"
     ],
     "language": "python",
     "metadata": {},
     "outputs": [
      {
       "output_type": "stream",
       "stream": "stdout",
       "text": [
        "[1, 2, 3]\n",
        "[1, 3, 2]\n",
        "[2, 1, 3]\n",
        "[2, 3, 1]\n",
        "[3, 1, 2]\n",
        "[3, 2, 1]\n"
       ]
      }
     ],
     "prompt_number": 68
    },
    {
     "cell_type": "code",
     "collapsed": false,
     "input": [
      "# Factorial\n",
      "\n",
      "def factorial(n):\n",
      "    return reduce(lambda x, y: x*y, [1]+range(1,n+1))\n",
      "factorial(4)"
     ],
     "language": "python",
     "metadata": {},
     "outputs": [
      {
       "metadata": {},
       "output_type": "pyout",
       "prompt_number": 71,
       "text": [
        "24"
       ]
      }
     ],
     "prompt_number": 71
    },
    {
     "cell_type": "code",
     "collapsed": false,
     "input": [
      "def factorial2(n):\n",
      "    if n==0:\n",
      "        return 1\n",
      "    else:\n",
      "        return n*factorial(n-1)\n",
      "factorial(4)"
     ],
     "language": "python",
     "metadata": {},
     "outputs": [
      {
       "metadata": {},
       "output_type": "pyout",
       "prompt_number": 73,
       "text": [
        "24"
       ]
      }
     ],
     "prompt_number": 73
    },
    {
     "cell_type": "code",
     "collapsed": false,
     "input": [],
     "language": "python",
     "metadata": {},
     "outputs": []
    }
   ],
   "metadata": {}
  }
 ]
}