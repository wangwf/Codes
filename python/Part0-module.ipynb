{
 "metadata": {
  "name": "",
  "signature": "sha256:a5edc646260544f790b373bf00dadfae1ac5cf633c6fa8588603e734e5333b04"
 },
 "nbformat": 3,
 "nbformat_minor": 0,
 "worksheets": [
  {
   "cells": [
    {
     "cell_type": "markdown",
     "metadata": {},
     "source": [
      "#Module\n",
      " a file consisting of Python code, define functions, classes and varaibles \n",
      "\n",
      "import module1[,module2[,...moduleN]  # in the search path\n",
      "\n",
      "\n"
     ]
    },
    {
     "cell_type": "raw",
     "metadata": {},
     "source": [
      "python$ more hello.py\n",
      "#!/usr/bin/env python\n",
      "\n",
      "def helloWorld(name=\"world\"):\n",
      "    print \"Hello, \"+name+\"!\"\n",
      "    print \"Welcome to the Brilent DataCamp!\"\n",
      "\n",
      "if __name__ == \"__main__\":\n",
      "    helloWorld(\"world\")\n"
     ]
    },
    {
     "cell_type": "code",
     "collapsed": false,
     "input": [
      "import hello\n",
      "hello.helloWorld()"
     ],
     "language": "python",
     "metadata": {},
     "outputs": [
      {
       "output_type": "stream",
       "stream": "stdout",
       "text": [
        "Hello, world!\n",
        "Welcome to the Brilent DataCamp!\n"
       ]
      }
     ],
     "prompt_number": 11
    },
    {
     "cell_type": "code",
     "collapsed": false,
     "input": [
      "#from module import name1[,name2[,...nameN]]\n",
      "#from module import *"
     ],
     "language": "python",
     "metadata": {},
     "outputs": [],
     "prompt_number": 6
    },
    {
     "cell_type": "code",
     "collapsed": false,
     "input": [
      "import sys\n",
      "sys.path"
     ],
     "language": "python",
     "metadata": {},
     "outputs": [
      {
       "metadata": {},
       "output_type": "pyout",
       "prompt_number": 3,
       "text": [
        "['',\n",
        " '/home/wenfeng/Venor/venor-research/pylearn2',\n",
        " '/usr/local/lib/python2.7/dist-packages/Theano-0.6.0-py2.7.egg',\n",
        " '/usr/local/lib/python2.7/dist-packages/nupic-0.1.0-py2.7.egg',\n",
        " '/opt/ROOT/5.34.00/lib',\n",
        " '/usr/lib/python2.7',\n",
        " '/usr/lib/python2.7/plat-linux2',\n",
        " '/usr/lib/python2.7/lib-tk',\n",
        " '/usr/lib/python2.7/lib-old',\n",
        " '/usr/lib/python2.7/lib-dynload',\n",
        " '/usr/local/lib/python2.7/dist-packages',\n",
        " '/usr/lib/python2.7/dist-packages',\n",
        " '/usr/lib/python2.7/dist-packages/PIL',\n",
        " '/usr/lib/python2.7/dist-packages/gst-0.10',\n",
        " '/usr/lib/python2.7/dist-packages/gtk-2.0',\n",
        " '/usr/lib/pymodules/python2.7',\n",
        " '/usr/lib/python2.7/dist-packages/ubuntu-sso-client',\n",
        " '/usr/lib/python2.7/dist-packages/ubuntuone-client',\n",
        " '/usr/lib/python2.7/dist-packages/ubuntuone-control-panel',\n",
        " '/usr/lib/python2.7/dist-packages/ubuntuone-couch',\n",
        " '/usr/lib/python2.7/dist-packages/ubuntuone-installer',\n",
        " '/usr/lib/python2.7/dist-packages/ubuntuone-storage-protocol',\n",
        " '/usr/local/lib/python2.7/dist-packages/IPython/extensions']"
       ]
      }
     ],
     "prompt_number": 3
    },
    {
     "cell_type": "raw",
     "metadata": {},
     "source": [
      "Locating Modules:\n",
      "When you import a module, the Python interpreter searches for the module in the following sequences:\n",
      "\n",
      "The current directory.\n",
      "\n",
      "If the module isn't found, Python then searches each directory in the shell variable PYTHONPATH.\n",
      "\n",
      "If all else fails, Python checks the default path. On UNIX, this default path is normally /usr/local/lib/python/.\n",
      "\n",
      "The module search path is stored in the system module sys as the sys.path variable. The sys.path variable contains the current directory, PYTHONPATH, and the installation-dependent default."
     ]
    },
    {
     "cell_type": "markdown",
     "metadata": {},
     "source": [
      "\n",
      "#dir() function\n",
      " returns a list names defined by a module\n",
      "    "
     ]
    },
    {
     "cell_type": "code",
     "collapsed": false,
     "input": [
      "dir()"
     ],
     "language": "python",
     "metadata": {},
     "outputs": [
      {
       "metadata": {},
       "output_type": "pyout",
       "prompt_number": 8,
       "text": [
        "['In',\n",
        " 'Out',\n",
        " '_',\n",
        " '_3',\n",
        " '__',\n",
        " '___',\n",
        " '__builtin__',\n",
        " '__builtins__',\n",
        " '__doc__',\n",
        " '__name__',\n",
        " '__package__',\n",
        " '_dh',\n",
        " '_i',\n",
        " '_i1',\n",
        " '_i2',\n",
        " '_i3',\n",
        " '_i4',\n",
        " '_i5',\n",
        " '_i6',\n",
        " '_i7',\n",
        " '_i8',\n",
        " '_ih',\n",
        " '_ii',\n",
        " '_iii',\n",
        " '_oh',\n",
        " '_sh',\n",
        " 'exit',\n",
        " 'get_ipython',\n",
        " 'hello',\n",
        " 'quit',\n",
        " 'sys']"
       ]
      }
     ],
     "prompt_number": 8
    },
    {
     "cell_type": "code",
     "collapsed": false,
     "input": [
      "#reload\n"
     ],
     "language": "python",
     "metadata": {},
     "outputs": []
    }
   ],
   "metadata": {}
  }
 ]
}