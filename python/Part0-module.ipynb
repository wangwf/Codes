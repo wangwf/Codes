{
 "metadata": {
  "name": "",
  "signature": "sha256:d504477f43eddc23a779e36d79424eef5462568dd58621fc4fee0898ba798103"
 },
 "nbformat": 3,
 "nbformat_minor": 0,
 "worksheets": [
  {
   "cells": [
    {
     "cell_type": "markdown",
     "metadata": {},
     "source": [
      "#Module\n",
      " a file consisting of Python code, define functions, classes and varaibles \n",
      "\n",
      "import module1[,module2[,...moduleN]  # in the search path\n",
      "\n",
      "\n"
     ]
    },
    {
     "cell_type": "raw",
     "metadata": {},
     "source": [
      "python$ more hello.py\n",
      "#!/usr/bin/env python\n",
      "\n",
      "def helloWorld(name=\"world\"):\n",
      "    print \"Hello, \"+name+\"!\"\n",
      "    print \"Welcome to the Brilent DataCamp!\"\n",
      "\n",
      "if __name__ == \"__main__\":\n",
      "    helloWorld(\"world\")\n"
     ]
    },
    {
     "cell_type": "code",
     "collapsed": false,
     "input": [
      "import hello\n",
      "hello.helloWorld()\n",
      "hello.helloWorld(\"Wenfeng\")"
     ],
     "language": "python",
     "metadata": {},
     "outputs": [
      {
       "output_type": "stream",
       "stream": "stdout",
       "text": [
        "Hello, world!\n",
        "Welcome to the Brilent DataCamp!\n",
        "Hello, Wenfeng!\n",
        "Welcome to the Brilent DataCamp!\n"
       ]
      }
     ],
     "prompt_number": 2
    },
    {
     "cell_type": "code",
     "collapsed": false,
     "input": [
      "#from module import name1[,name2[,...nameN]]\n",
      "#from module import *\n",
      "from hello import helloWorld\n",
      "helloWorld()"
     ],
     "language": "python",
     "metadata": {},
     "outputs": [
      {
       "output_type": "stream",
       "stream": "stdout",
       "text": [
        "Hello, world!\n",
        "Welcome to the Brilent DataCamp!\n"
       ]
      }
     ],
     "prompt_number": 3
    },
    {
     "cell_type": "code",
     "collapsed": false,
     "input": [
      "import sys\n",
      "sys.path"
     ],
     "language": "python",
     "metadata": {},
     "outputs": [
      {
       "metadata": {},
       "output_type": "pyout",
       "prompt_number": 4,
       "text": [
        "['',\n",
        " '/usr/local/lib/python2.7/dist-packages/setuptools-0.6c11-py2.7.egg',\n",
        " '/usr/local/lib/python2.7/dist-packages/pip-1.2.1-py2.7.egg',\n",
        " '/opt/ROOT/5.34.00/lib/root',\n",
        " '/usr/lib/python2.7',\n",
        " '/usr/lib/python2.7/plat-linux2',\n",
        " '/usr/lib/python2.7/lib-tk',\n",
        " '/usr/lib/python2.7/lib-old',\n",
        " '/usr/lib/python2.7/lib-dynload',\n",
        " '/usr/local/lib/python2.7/dist-packages',\n",
        " '/usr/lib/python2.7/dist-packages',\n",
        " '/usr/lib/python2.7/dist-packages/PIL',\n",
        " '/usr/lib/python2.7/dist-packages/gst-0.10',\n",
        " '/usr/lib/python2.7/dist-packages/gtk-2.0',\n",
        " '/usr/lib/pymodules/python2.7',\n",
        " '/usr/lib/python2.7/dist-packages/ubuntu-sso-client',\n",
        " '/usr/lib/python2.7/dist-packages/ubuntuone-client',\n",
        " '/usr/lib/python2.7/dist-packages/ubuntuone-control-panel',\n",
        " '/usr/lib/python2.7/dist-packages/ubuntuone-couch',\n",
        " '/usr/lib/python2.7/dist-packages/ubuntuone-installer',\n",
        " '/usr/lib/python2.7/dist-packages/ubuntuone-storage-protocol',\n",
        " '/usr/local/lib/python2.7/dist-packages/IPython/extensions']"
       ]
      }
     ],
     "prompt_number": 4
    },
    {
     "cell_type": "raw",
     "metadata": {},
     "source": [
      "Locating Modules:\n",
      "When you import a module, the Python interpreter searches for the module in the following sequences:\n",
      "\n",
      "The current directory.\n",
      "\n",
      "If the module isn't found, Python then searches each directory in the shell variable PYTHONPATH.\n",
      "\n",
      "If all else fails, Python checks the default path. On UNIX, this default path is normally /usr/local/lib/python/.\n",
      "\n",
      "The module search path is stored in the system module sys as the sys.path variable. The sys.path variable contains the current directory, PYTHONPATH, and the installation-dependent default."
     ]
    },
    {
     "cell_type": "markdown",
     "metadata": {},
     "source": [
      "\n",
      "#dir() function\n",
      " returns a list names defined by a module\n",
      "    "
     ]
    },
    {
     "cell_type": "code",
     "collapsed": false,
     "input": [
      "dir(sys)"
     ],
     "language": "python",
     "metadata": {},
     "outputs": [
      {
       "metadata": {},
       "output_type": "pyout",
       "prompt_number": 6,
       "text": [
        "['__displayhook__',\n",
        " '__doc__',\n",
        " '__egginsert',\n",
        " '__excepthook__',\n",
        " '__name__',\n",
        " '__package__',\n",
        " '__plen',\n",
        " '__stderr__',\n",
        " '__stdin__',\n",
        " '__stdout__',\n",
        " '_clear_type_cache',\n",
        " '_current_frames',\n",
        " '_getframe',\n",
        " '_mercurial',\n",
        " 'api_version',\n",
        " 'argv',\n",
        " 'builtin_module_names',\n",
        " 'byteorder',\n",
        " 'call_tracing',\n",
        " 'callstats',\n",
        " 'copyright',\n",
        " 'displayhook',\n",
        " 'dont_write_bytecode',\n",
        " 'exc_clear',\n",
        " 'exc_info',\n",
        " 'exc_type',\n",
        " 'excepthook',\n",
        " 'exec_prefix',\n",
        " 'executable',\n",
        " 'exit',\n",
        " 'exitfunc',\n",
        " 'flags',\n",
        " 'float_info',\n",
        " 'float_repr_style',\n",
        " 'getcheckinterval',\n",
        " 'getdefaultencoding',\n",
        " 'getdlopenflags',\n",
        " 'getfilesystemencoding',\n",
        " 'getprofile',\n",
        " 'getrecursionlimit',\n",
        " 'getrefcount',\n",
        " 'getsizeof',\n",
        " 'gettrace',\n",
        " 'hexversion',\n",
        " 'long_info',\n",
        " 'maxint',\n",
        " 'maxsize',\n",
        " 'maxunicode',\n",
        " 'meta_path',\n",
        " 'modules',\n",
        " 'path',\n",
        " 'path_hooks',\n",
        " 'path_importer_cache',\n",
        " 'platform',\n",
        " 'prefix',\n",
        " 'ps1',\n",
        " 'ps2',\n",
        " 'ps3',\n",
        " 'py3kwarning',\n",
        " 'pydebug',\n",
        " 'setcheckinterval',\n",
        " 'setdlopenflags',\n",
        " 'setprofile',\n",
        " 'setrecursionlimit',\n",
        " 'settrace',\n",
        " 'stderr',\n",
        " 'stdin',\n",
        " 'stdout',\n",
        " 'subversion',\n",
        " 'version',\n",
        " 'version_info',\n",
        " 'warnoptions']"
       ]
      }
     ],
     "prompt_number": 6
    },
    {
     "cell_type": "code",
     "collapsed": false,
     "input": [
      "#reload\n",
      "#packages\n",
      "\n",
      "# Numpy, scipy, Pandas\n",
      "\n",
      "import math\n",
      "math.pi"
     ],
     "language": "python",
     "metadata": {},
     "outputs": [
      {
       "metadata": {},
       "output_type": "pyout",
       "prompt_number": 7,
       "text": [
        "3.141592653589793"
       ]
      }
     ],
     "prompt_number": 7
    },
    {
     "cell_type": "code",
     "collapsed": false,
     "input": [
      "math.sqrt(35)\n",
      "dir(math)"
     ],
     "language": "python",
     "metadata": {},
     "outputs": [
      {
       "metadata": {},
       "output_type": "pyout",
       "prompt_number": 9,
       "text": [
        "['__doc__',\n",
        " '__name__',\n",
        " '__package__',\n",
        " 'acos',\n",
        " 'acosh',\n",
        " 'asin',\n",
        " 'asinh',\n",
        " 'atan',\n",
        " 'atan2',\n",
        " 'atanh',\n",
        " 'ceil',\n",
        " 'copysign',\n",
        " 'cos',\n",
        " 'cosh',\n",
        " 'degrees',\n",
        " 'e',\n",
        " 'erf',\n",
        " 'erfc',\n",
        " 'exp',\n",
        " 'expm1',\n",
        " 'fabs',\n",
        " 'factorial',\n",
        " 'floor',\n",
        " 'fmod',\n",
        " 'frexp',\n",
        " 'fsum',\n",
        " 'gamma',\n",
        " 'hypot',\n",
        " 'isinf',\n",
        " 'isnan',\n",
        " 'ldexp',\n",
        " 'lgamma',\n",
        " 'log',\n",
        " 'log10',\n",
        " 'log1p',\n",
        " 'modf',\n",
        " 'pi',\n",
        " 'pow',\n",
        " 'radians',\n",
        " 'sin',\n",
        " 'sinh',\n",
        " 'sqrt',\n",
        " 'tan',\n",
        " 'tanh',\n",
        " 'trunc']"
       ]
      }
     ],
     "prompt_number": 9
    },
    {
     "cell_type": "code",
     "collapsed": false,
     "input": [
      "import random"
     ],
     "language": "python",
     "metadata": {},
     "outputs": [],
     "prompt_number": 10
    },
    {
     "cell_type": "code",
     "collapsed": false,
     "input": [
      "r=[random.random() for i in range(10)]\n",
      "print r"
     ],
     "language": "python",
     "metadata": {},
     "outputs": [
      {
       "output_type": "stream",
       "stream": "stdout",
       "text": [
        "[0.6303653375071151, 0.20442104645667925, 0.447426534803367, 0.8347100223336391, 0.7316521234169799, 0.9785526232319129, 0.5063364947244924, 0.893180986656727, 0.3691444682777688, 0.18156989931069167]\n"
       ]
      }
     ],
     "prompt_number": 13
    },
    {
     "cell_type": "code",
     "collapsed": false,
     "input": [],
     "language": "python",
     "metadata": {},
     "outputs": []
    }
   ],
   "metadata": {}
  }
 ]
}